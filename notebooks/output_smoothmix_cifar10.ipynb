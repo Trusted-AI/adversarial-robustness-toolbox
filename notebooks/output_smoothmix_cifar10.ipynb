{
 "cells": [
  {
   "cell_type": "markdown",
   "metadata": {
    "colab_type": "text",
    "id": "aPIA-10zdv4P"
   },
   "source": [
    "## ART SmoothMix"
   ]
  },
  {
   "cell_type": "code",
   "execution_count": null,
   "metadata": {},
   "outputs": [],
   "source": [
    "import warnings\n",
    "warnings.filterwarnings('ignore')\n",
    "\n",
    "import os\n",
    "os.environ['TF_CPP_MIN_LOG_LEVEL'] = '3' \n",
    "\n",
    "# Import PyTorch modules here\n",
    "\n",
    "from art import config\n",
    "from art.estimators.classification import PyTorchClassifier\n",
    "from art.estimators.certification.smoothmix.pytorch import PyTorchSmoothMix\n",
    "from art.utils import load_dataset, get_file, compute_accuracy\n",
    "\n",
    "import numpy as np\n",
    "%matplotlib inline\n",
    "import matplotlib.pyplot as plt"
   ]
  }
 ],
 "metadata": {
  "language_info": {
   "name": "python"
  },
  "orig_nbformat": 4
 },
 "nbformat": 4,
 "nbformat_minor": 2
}
