{
  "cells": [
    {
      "cell_type": "markdown",
      "metadata": {
        "id": "tSUPU4QbvNIq"
      },
      "source": [
        "<h3> ART SMOOTHADVERSARIAL </h3>\n",
        "\n",
        "Provably robust deep learning via adversarially trained smoothed classifier.\n",
        "\n",
        "Link to the paper: [https://arxiv.org/abs/1906.04584](https://arxiv.org/abs/1906.04584)"
      ]
    },
    {
      "cell_type": "code",
      "execution_count": 5,
      "metadata": {
        "id": "_MRo_HrVvSKH"
      },
      "outputs": [],
      "source": [
        "import tensorflow as tf\n",
        "from tensorflow import keras\n",
        "import os\n",
        "import numpy as n\n",
        "import matplotlib.pyplot as plt\n",
        "%matplotlib inline\n",
        "from tensorflow.keras.preprocessing.image import ImageDataGenerator\n",
        "\n",
        "import cv2\n",
        "import numpy as np\n",
        "import pandas as pd\n",
        "from sklearn import metrics\n",
        "import glob\n",
        "import random \n",
        "import os\n",
        "import pickle\n",
        "import sys\n",
        "import time\n",
        "from datetime import datetime\n",
        "import math\n",
        "from typing import *\n",
        "\n",
        "from art.utils import load_dataset, random_targets, compute_accuracy,load_cifar10\n",
        "from art.estimators.certification.randomized_smoothing import TensorFlowV2RandomizedSmoothing\n",
        "from keras import backend as K"
      ]
    },
    {
      "cell_type": "markdown",
      "metadata": {
        "id": "2F0LFK1AvuuB"
      },
      "source": [
        "<h3> Load Data </h3>\n",
        "\n",
        "Loading the data to be used to train the model on. Using the CIFAR10 dataset here with data augmentation and preprocessing applied.\n",
        "\n",
        "Training data: 50000\n",
        "Test data: 10000\n",
        "Input Shape: (32,32,3)"
      ]
    },
    {
      "cell_type": "code",
      "source": [
        "def random_crop(img, random_crop_size):\n",
        "    assert img.shape[2] == 3\n",
        "    height, width = img.shape[0], img.shape[1]\n",
        "    dy, dx = random_crop_size\n",
        "    x = np.random.randint(0, width - dx + 1)\n",
        "    y = np.random.randint(0, height - dy + 1)\n",
        "    return img[y:(y+dy), x:(x+dx), :]\n",
        "\n",
        "\n",
        "def crop_generator(batches, crop_length):\n",
        "    while True:\n",
        "        batch_x, batch_y = next(batches)\n",
        "        batch_crops = np.zeros((batch_x.shape[0], crop_length, crop_length, 3))\n",
        "        for i in range(batch_x.shape[0]):\n",
        "            batch_crops[i] = random_crop(batch_x[i], (crop_length, crop_length))\n",
        "        yield (batch_crops, batch_y)\n",
        "\n",
        "batch_size = 100"
      ],
      "metadata": {
        "id": "PmPQ_3OpbqBz"
      },
      "execution_count": 6,
      "outputs": []
    },
    {
      "cell_type": "code",
      "source": [
        "(x_train, y_train), (x_test, y_test) = keras.datasets.cifar10.load_data()\n",
        "train_image_generator = ImageDataGenerator(rescale = 1.0/255., horizontal_flip=True)\n",
        "test_image_generator = ImageDataGenerator( rescale = 1.0/255.)\n",
        "train_batches = train_image_generator.flow(x_train, y_train, batch_size=batch_size, shuffle=True)\n",
        "test_batches = test_image_generator.flow(x_test, y_test,batch_size=batch_size, shuffle = False)\n",
        "train_crops = crop_generator(train_batches, 32)\n",
        "test_crops = crop_generator(test_batches, 32)"
      ],
      "metadata": {
        "id": "OI0EVKYzbyM0"
      },
      "execution_count": null,
      "outputs": []
    },
    {
      "cell_type": "code",
      "source": [
        "num_train_samples = 50000\n",
        "x_train = np.zeros((num_train_samples, 32, 32, 3), dtype=np.float32)\n",
        "y_train = np.zeros((num_train_samples,1), dtype=np.int32)\n",
        "\n",
        "for i,(data,labels) in enumerate(train_crops):\n",
        "    if i == 500:\n",
        "      break\n",
        "    x_train[(i) * batch_size : (i+1) * batch_size, :, :, :] = data\n",
        "    y_train[(i) * batch_size : (i+1) * batch_size] = labels\n",
        "\n",
        "num_test_samples = 10000\n",
        "x_test = np.zeros((num_test_samples, 32, 32, 3), dtype=np.float32)\n",
        "y_test = np.zeros((num_test_samples,1), dtype=np.uint8)\n",
        "\n",
        "for i,(data,labels) in enumerate(test_crops):\n",
        "    if i == 100:\n",
        "      break\n",
        "    x_test[(i) * batch_size : (i+1) * batch_size, :, :, :] = data\n",
        "    y_test[(i) * batch_size : (i+1) * batch_size] = labels\n",
        "\n",
        "y_train = np.reshape(y_train,(y_train.shape[0],))"
      ],
      "metadata": {
        "id": "6REfyChcb1JV"
      },
      "execution_count": 8,
      "outputs": []
    },
    {
      "cell_type": "markdown",
      "metadata": {
        "id": "AohDGtZcwa6I"
      },
      "source": [
        "<h3> Train SmoothAdversarial Classifier </h3>\n",
        "\n",
        "Training the smooth adversarial classifier. Building the model first using the ResNet110 architecture. Then the optimizer and scheduler functions are defined along with the Randomized Smoothing class object. The fit invocation trains the model on the training dataset."
      ]
    },
    {
      "cell_type": "code",
      "source": [
        "_CIFAR10_MEAN = [0.4914, 0.4822, 0.4465]\n",
        "_CIFAR10_STDDEV = [0.2023, 0.1994, 0.2010]"
      ],
      "metadata": {
        "id": "JnX3yg-WavFH"
      },
      "execution_count": 9,
      "outputs": []
    },
    {
      "cell_type": "code",
      "source": [
        "# Used ResNet110 architecture in TensorFlowV2 from https://github.com/gahaalt/resnets-in-tensorflow2\n",
        "\n",
        "# MIT License\n",
        "\n",
        "# Copyright (c) 2019 Szymon Mikler\n",
        "\n",
        "# Permission is hereby granted, free of charge, to any person obtaining a copy\n",
        "# of this software and associated documentation files (the \"Software\"), to deal\n",
        "# in the Software without restriction, including without limitation the rights\n",
        "# to use, copy, modify, merge, publish, distribute, sublicense, and/or sell\n",
        "# copies of the Software, and to permit persons to whom the Software is\n",
        "# furnished to do so, subject to the following conditions:\n",
        "\n",
        "# The above copyright notice and this permission notice shall be included in all\n",
        "# copies or substantial portions of the Software.\n",
        "\n",
        "# THE SOFTWARE IS PROVIDED \"AS IS\", WITHOUT WARRANTY OF ANY KIND, EXPRESS OR\n",
        "# IMPLIED, INCLUDING BUT NOT LIMITED TO THE WARRANTIES OF MERCHANTABILITY,\n",
        "# FITNESS FOR A PARTICULAR PURPOSE AND NONINFRINGEMENT. IN NO EVENT SHALL THE\n",
        "# AUTHORS OR COPYRIGHT HOLDERS BE LIABLE FOR ANY CLAIM, DAMAGES OR OTHER\n",
        "# LIABILITY, WHETHER IN AN ACTION OF CONTRACT, TORT OR OTHERWISE, ARISING FROM,\n",
        "# OUT OF OR IN CONNECTION WITH THE SOFTWARE OR THE USE OR OTHER DEALINGS IN THE\n",
        "# SOFTWARE.\n",
        "\n",
        "def regularized_padded_conv(*args, **kwargs):\n",
        "    return tf.keras.layers.Conv2D(*args, **kwargs, padding='same', kernel_regularizer=_regularizer,\n",
        "                                  kernel_initializer='he_normal', use_bias=False)\n",
        "\n",
        "\n",
        "def bn_relu(x):\n",
        "    x = tf.keras.layers.BatchNormalization()(x)\n",
        "    return tf.keras.layers.ReLU()(x)\n",
        "\n",
        "\n",
        "def shortcut(x, filters, stride, mode):\n",
        "    if x.shape[-1] == filters:\n",
        "        return x\n",
        "    elif mode == 'B':\n",
        "        return regularized_padded_conv(filters, 1, strides=stride)(x)\n",
        "    elif mode == 'B_original':\n",
        "        x = regularized_padded_conv(filters, 1, strides=stride)(x)\n",
        "        return tf.keras.layers.BatchNormalization()(x)\n",
        "    elif mode == 'A':\n",
        "        return tf.pad(tf.keras.layers.MaxPool2D(1, stride)(x) if stride>1 else x,\n",
        "                      paddings=[(0, 0), (0, 0), (0, 0), (0, filters - x.shape[-1])])\n",
        "    else:\n",
        "        raise KeyError(\"Parameter shortcut_type not recognized!\")\n",
        "    \n",
        "\n",
        "def original_block(x, filters, stride=1, **kwargs):\n",
        "    c1 = regularized_padded_conv(filters, 3, strides=stride)(x)\n",
        "    c2 = regularized_padded_conv(filters, 3)(bn_relu(c1))\n",
        "    c2 = tf.keras.layers.BatchNormalization()(c2)\n",
        "    \n",
        "    mode = 'B_original' if _shortcut_type == 'B' else _shortcut_type\n",
        "    x = shortcut(x, filters, stride, mode=mode)\n",
        "    return tf.keras.layers.ReLU()(x + c2)\n",
        "    \n",
        "    \n",
        "def preactivation_block(x, filters, stride=1, preact_block=False):\n",
        "    flow = bn_relu(x)\n",
        "    if preact_block:\n",
        "        x = flow\n",
        "        \n",
        "    c1 = regularized_padded_conv(filters, 3, strides=stride)(flow)\n",
        "    if _dropout:\n",
        "        c1 = tf.keras.layers.Dropout(_dropout)(c1)\n",
        "        \n",
        "    c2 = regularized_padded_conv(filters, 3)(bn_relu(c1))\n",
        "    x = shortcut(x, filters, stride, mode=_shortcut_type)\n",
        "    return x + c2\n",
        "\n",
        "\n",
        "def bootleneck_block(x, filters, stride=1, preact_block=False):\n",
        "    flow = bn_relu(x)\n",
        "    if preact_block:\n",
        "        x = flow\n",
        "         \n",
        "    c1 = regularized_padded_conv(filters//_bootleneck_width, 1)(flow)\n",
        "    c2 = regularized_padded_conv(filters//_bootleneck_width, 3, strides=stride)(bn_relu(c1))\n",
        "    c3 = regularized_padded_conv(filters, 1)(bn_relu(c2))\n",
        "    x = shortcut(x, filters, stride, mode=_shortcut_type)\n",
        "    return x + c3\n",
        "\n",
        "\n",
        "def group_of_blocks(x, block_type, num_blocks, filters, stride, block_idx=0):\n",
        "    global _preact_shortcuts\n",
        "    preact_block = True if _preact_shortcuts or block_idx == 0 else False\n",
        "    \n",
        "    x = block_type(x, filters, stride, preact_block=preact_block)\n",
        "    for i in range(num_blocks-1):\n",
        "        x = block_type(x, filters)\n",
        "    return x\n",
        "\n",
        "\n",
        "def Resnet(input_shape, n_classes, l2_reg=1e-4, group_sizes=(2, 2, 2), features=(16, 32, 64), strides=(1, 2, 2),\n",
        "           shortcut_type='B', block_type='preactivated', first_conv={\"filters\": 16, \"kernel_size\": 3, \"strides\": 1},\n",
        "           dropout=0, cardinality=1, bootleneck_width=4, preact_shortcuts=True):\n",
        "    \n",
        "    global _regularizer, _shortcut_type, _preact_projection, _dropout, _cardinality, _bootleneck_width, _preact_shortcuts\n",
        "    _bootleneck_width = bootleneck_width # used in ResNeXts and bootleneck blocks\n",
        "    _regularizer = tf.keras.regularizers.l2(l2_reg)\n",
        "    _shortcut_type = shortcut_type # used in blocks\n",
        "    _cardinality = cardinality # used in ResNeXts\n",
        "    _dropout = dropout # used in Wide ResNets\n",
        "    _preact_shortcuts = preact_shortcuts\n",
        "    \n",
        "    block_types = {'preactivated': preactivation_block,\n",
        "                   'bootleneck': bootleneck_block,\n",
        "                   'original': original_block}\n",
        "    \n",
        "    selected_block = block_types[block_type]\n",
        "    inputs = tf.keras.layers.Input(shape=input_shape)\n",
        "    normalizedInputs = tf.keras.layers.Normalization(mean=_CIFAR10_MEAN, variance=_CIFAR10_STDDEV)(inputs)\n",
        "    flow = regularized_padded_conv(**first_conv)(normalizedInputs)\n",
        "    \n",
        "    if block_type == 'original':\n",
        "        flow = bn_relu(flow)\n",
        "    \n",
        "    for block_idx, (group_size, feature, stride) in enumerate(zip(group_sizes, features, strides)):\n",
        "        flow = group_of_blocks(flow,\n",
        "                               block_type=selected_block,\n",
        "                               num_blocks=group_size,\n",
        "                               block_idx=block_idx,\n",
        "                               filters=feature,\n",
        "                               stride=stride)\n",
        "    \n",
        "    if block_type != 'original':\n",
        "        flow = bn_relu(flow)\n",
        "    \n",
        "    flow = tf.keras.layers.GlobalAveragePooling2D()(flow)\n",
        "    outputs = tf.keras.layers.Dense(n_classes, kernel_regularizer=_regularizer)(flow)\n",
        "    model = tf.keras.Model(inputs=inputs, outputs=outputs)\n",
        "    return model\n",
        "\n",
        "\n",
        "def load_weights_func(model, model_name):\n",
        "    try: model.load_weights(os.path.join('saved_models', model_name + '.tf'))\n",
        "    except tf.errors.NotFoundError: print(\"No weights found for this model!\")\n",
        "    return model\n",
        "\n",
        "def cifar_resnet110(block_type='preactivated', shortcut_type='B', l2_reg=1e-4, load_weights=False):\n",
        "    model = Resnet(input_shape=(32, 32, 3), n_classes=10, l2_reg=l2_reg, group_sizes=(18, 18, 18), features=(16, 32, 64),\n",
        "                   strides=(1, 2, 2), first_conv={\"filters\": 16, \"kernel_size\": 3, \"strides\": 1}, shortcut_type=shortcut_type, \n",
        "                   block_type=block_type, preact_shortcuts=False)\n",
        "    if load_weights: model = load_weights_func(model, 'cifar_resnet110')\n",
        "    return model"
      ],
      "metadata": {
        "id": "8IeMHYuXbcio"
      },
      "execution_count": 10,
      "outputs": []
    },
    {
      "cell_type": "code",
      "source": [
        "model = cifar_resnet110('original','B',False)"
      ],
      "metadata": {
        "id": "oVbpVCPXbiJw"
      },
      "execution_count": 11,
      "outputs": []
    },
    {
      "cell_type": "code",
      "execution_count": 12,
      "metadata": {
        "id": "Va-UNd6hwxUp"
      },
      "outputs": [],
      "source": [
        "initial_learning_rate = 0.1\n",
        "\n",
        "boundaries = [50, 100]\n",
        "values = [0.1, 0.01, 0.001]\n",
        "learning_rate_fn = keras.optimizers.schedules.PiecewiseConstantDecay(\n",
        "    boundaries, values)\n",
        "\n",
        "optimizer = tf.keras.optimizers.SGD(\n",
        "    learning_rate=initial_learning_rate,\n",
        "    momentum=0.9,\n",
        "    name='SGD',\n",
        "    decay=1e-4)\n",
        "\n",
        "loss_object = tf.keras.losses.SparseCategoricalCrossentropy(from_logits=True)"
      ]
    },
    {
      "cell_type": "code",
      "execution_count": 13,
      "metadata": {
        "id": "0hd7YMN-w3a_"
      },
      "outputs": [],
      "source": [
        "sigma_1 = 0.25 #Noise\n",
        "rs_smoothadv_classifier = TensorFlowV2RandomizedSmoothing(model=model,\n",
        "                          input_shape=(32, 32, 3),\n",
        "                          loss_object = loss_object,\n",
        "                          nb_classes=10,\n",
        "                          scale=sigma_1,\n",
        "                          num_noise_vec= 8,\n",
        "                          train_multi_noise= True,\n",
        "                          attack_type=\"PGD\",\n",
        "                          no_grad_attack=False,\n",
        "                          epsilon=1.0,\n",
        "                          num_steps=10,\n",
        "                          warmup=10,\n",
        "                          optimizer = optimizer,\n",
        "                          scheduler = learning_rate_fn\n",
        "                          )"
      ]
    },
    {
      "cell_type": "code",
      "source": [
        "rs_smoothadv_classifier.fit(x_train, y_train, nb_epochs=150, batch_size=256, train_method = 'smoothadv')"
      ],
      "metadata": {
        "id": "LsNw9dH6sNb2"
      },
      "execution_count": 15,
      "outputs": []
    },
    {
      "cell_type": "markdown",
      "metadata": {
        "id": "e1UZhhKyxWPJ"
      },
      "source": [
        "<h3> Predictions for Trained Model </h3>\n",
        "\n",
        "Predicting on the test dataset using the trained model. The accuracy for the trained model is observed."
      ]
    },
    {
      "cell_type": "code",
      "source": [
        "accuracy = tf.keras.metrics.Accuracy()\n",
        "x_preds_rs_1 = rs_smoothadv_classifier.predict(x_test[:500])\n",
        "acc_rs_1 = accuracy(tf.argmax(x_preds_rs_1, axis=1), y_test[:500])\n",
        "print(\"\\nSmoothedAdversarial Classifier, sigma=\" + str(sigma_1))\n",
        "print(\"Accuracy: {}\".format(acc_rs_1))"
      ],
      "metadata": {
        "id": "1vDoGRFjtr82"
      },
      "execution_count": null,
      "outputs": []
    },
    {
      "cell_type": "code",
      "execution_count": 21,
      "metadata": {
        "id": "ZVUsnO8ixCiL"
      },
      "outputs": [],
      "source": [
        "# Calculate certification accuracy for a given radius\n",
        "def getCertAcc(radius, pred, y_test):\n",
        "    rad_list = np.linspace(0, 2.25, 201)\n",
        "    cert_acc = []\n",
        "    num_cert = len(radius)\n",
        "    for r in rad_list:\n",
        "        rad_idx = np.where(radius >= r)[0]\n",
        "        y_test_subset = y_test[rad_idx]\n",
        "        cert_acc.append(np.sum(pred[rad_idx] == y_test_subset) / num_cert)\n",
        "    return cert_acc"
      ]
    },
    {
      "cell_type": "code",
      "execution_count": 22,
      "metadata": {
        "id": "9APEIt6wyY08"
      },
      "outputs": [],
      "source": [
        "def calculateACR(target, prediction, radius):\n",
        "  tot = 0\n",
        "  cnt = 0\n",
        "  for i in range(0,len(prediction)):\n",
        "      if(prediction[i] == target[i]):\n",
        "          tot += radius[i]\n",
        "      cnt += 1\n",
        "  return tot/cnt"
      ]
    },
    {
      "cell_type": "markdown",
      "source": [
        "<h3>Certification on Test Images</h3>\n",
        "\n",
        "Performing and observing the certification over all the test dataset consisting of 10000 images. The ACR (Average Certified Radius) is computed for the certification results to understand results better."
      ],
      "metadata": {
        "id": "aPC4-rVDuYsT"
      }
    },
    {
      "cell_type": "code",
      "source": [
        "# no.of test images for ACR/graph (ACR inside the graph)\n",
        "start_img = 500\n",
        "num_img = 500\n",
        "skip = 1\n",
        "N = 100000"
      ],
      "metadata": {
        "id": "nIO05s7ruejE"
      },
      "execution_count": 23,
      "outputs": []
    },
    {
      "cell_type": "code",
      "source": [
        "prediction_1, radius_1 = rs_smoothadv_classifier.certify(x_test[(start_img-1):(start_img-1)+(num_img*skip):skip], n=N)"
      ],
      "metadata": {
        "id": "vxeDLsQ_uj5E"
      },
      "execution_count": null,
      "outputs": []
    },
    {
      "cell_type": "code",
      "source": [
        "acr = calculateACR(target=np.array(y_test[(start_img-1):(start_img-1)+(num_img*skip):skip]), prediction= np.array(prediction_1), radius = np.array(radius_1))\n",
        "print(\"ACR for Smooth Adversarial Classifier: \", acr)"
      ],
      "metadata": {
        "id": "4uB-JdsPuyQG"
      },
      "execution_count": null,
      "outputs": []
    },
    {
      "cell_type": "code",
      "source": [
        "rad_list = np.linspace(0, 2.25, 201)\n",
        "plt.plot(rad_list, getCertAcc(radius_1, prediction_1, np.array(y_test)), 'r-', label='smoothed, $\\sigma=$' + str(sigma_1))\n",
        "plt.xlabel('l2 radius')\n",
        "plt.ylabel('Certified Accuracy')\n",
        "plt.legend()\n",
        "plt.title('Average Certified Radius plot: ACR {}'.format(acr))\n",
        "plt.show()"
      ],
      "metadata": {
        "id": "k1wyS05Mu7WH"
      },
      "execution_count": null,
      "outputs": []
    }
  ],
  "metadata": {
    "accelerator": "GPU",
    "colab": {
      "name": "output_smoothadv_cifar10_tensorflow_1.ipynb",
      "provenance": [],
      "collapsed_sections": []
    },
    "kernelspec": {
      "display_name": "Python 3",
      "name": "python3"
    },
    "language_info": {
      "name": "python"
    }
  },
  "nbformat": 4,
  "nbformat_minor": 0
}