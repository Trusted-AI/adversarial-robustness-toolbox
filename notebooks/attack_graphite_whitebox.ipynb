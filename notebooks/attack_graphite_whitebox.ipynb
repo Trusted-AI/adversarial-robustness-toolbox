{
 "cells": [
  {
   "cell_type": "markdown",
   "metadata": {},
   "source": [
    "# ART GRAPHITE Whitebox Attack\n",
    "\n",
    "First, setup and load the data and train a model to test on."
   ]
  },
  {
   "cell_type": "code",
   "execution_count": 2,
   "metadata": {},
   "outputs": [
    {
     "name": "stdout",
     "output_type": "stream",
     "text": [
      "Accuracy on benign test examples: 96.99%\n"
     ]
    }
   ],
   "source": [
    "import torch\n",
    "import torch.nn as nn\n",
    "import torch.nn.functional as F\n",
    "import torch.optim as optim\n",
    "import matplotlib.pyplot as plt\n",
    "import numpy as np\n",
    "\n",
    "from art.attacks.evasion import GRAPHITEWhiteboxPyTorch\n",
    "from art.estimators.classification import PyTorchClassifier\n",
    "from art.utils import load_mnist\n",
    "\n",
    "\n",
    "# Step 1: Load the MNIST dataset\n",
    "\n",
    "(x_train, y_train), (x_test, y_test), min_pixel_value, max_pixel_value = load_mnist()\n",
    "\n",
    "# Step 1a: Swap axes to PyTorch's NCHW format\n",
    "\n",
    "x_train = np.transpose(x_train, (0, 3, 1, 2)).astype(np.float32)\n",
    "x_test = np.transpose(x_test, (0, 3, 1, 2)).astype(np.float32)\n",
    "\n",
    "# Step 2: Create the model\n",
    "\n",
    "model = nn.Sequential(\n",
    "    nn.Conv2d(1, 4, 5), nn.ReLU(), nn.MaxPool2d(2, 2), \n",
    "    nn.Conv2d(4, 10, 5), nn.ReLU(), nn.MaxPool2d(2, 2),\n",
    "    nn.Flatten(), \n",
    "    nn.Linear(4*4*10, 100),    \n",
    "    nn.Linear(100, 10)\n",
    ")\n",
    "# Step 2a: Define the loss function and the optimizer\n",
    "\n",
    "criterion = nn.CrossEntropyLoss()\n",
    "optimizer = optim.Adam(model.parameters(), lr=0.01)\n",
    "\n",
    "# Step 3: Create the ART classifier\n",
    "\n",
    "classifier = PyTorchClassifier(\n",
    "    model=model,\n",
    "    clip_values=(min_pixel_value, max_pixel_value),\n",
    "    loss=criterion,\n",
    "    optimizer=optimizer,\n",
    "    input_shape=(1, 28, 28),\n",
    "    nb_classes=10,\n",
    ")\n",
    "\n",
    "# Step 4: Train the ART classifier\n",
    "\n",
    "classifier.fit(x_train, y_train, batch_size=64, nb_epochs=3)\n",
    "\n",
    "# Step 5: Evaluate the ART classifier on benign test examples\n",
    "\n",
    "predictions = classifier.predict(x_test)\n",
    "accuracy = np.sum(np.argmax(predictions, axis=1) == np.argmax(y_test, axis=1)) / len(y_test)\n",
    "print(\"Accuracy on benign test examples: {}%\".format(accuracy * 100))"
   ]
  },
  {
   "cell_type": "markdown",
   "metadata": {},
   "source": [
    "# Get Init Image\n",
    "\n",
    "Second, load an initialization image to attack."
   ]
  },
  {
   "cell_type": "code",
   "execution_count": 3,
   "metadata": {},
   "outputs": [
    {
     "name": "stdout",
     "output_type": "stream",
     "text": [
      "Init image is:  7\n"
     ]
    },
    {
     "data": {
      "image/png": "[encoded data removed]",
      "text/plain": [
       "<Figure size 432x288 with 1 Axes>"
      ]
     },
     "metadata": {
      "needs_background": "light"
     },
     "output_type": "display_data"
    },
    {
     "name": "stdout",
     "output_type": "stream",
     "text": [
      "Target label is:  [0. 0. 1. 0. 0. 0. 0. 0. 0. 0.]\n"
     ]
    }
   ],
   "source": [
    "init_image = x_test[0, :, :, :]\n",
    "\n",
    "print(\"Init image is: \", np.argmax(classifier.predict(np.array([init_image]))[0]))\n",
    "plt.imshow((init_image.squeeze() * 255).astype(np.uint))\n",
    "plt.show()\n",
    "\n",
    "print(\"Target label is: \", y_test[1])"
   ]
  },
  {
   "cell_type": "markdown",
   "metadata": {},
   "source": [
    "# Run GRAPHITE Whitebox Attack\n",
    "\n",
    "Finally, run an attack on a GRAHPITEWhiteboxPyTorch instance. We set the network size to 28 x 28 for MNIST and set the inner EoT PGD steps to 50. The attack is shown at the end."
   ]
  },
  {
   "cell_type": "code",
   "execution_count": 4,
   "metadata": {
    "scrolled": true
   },
   "outputs": [
    {
     "name": "stdout",
     "output_type": "stream",
     "text": [
      "(1, 1, 28, 28)\n"
     ]
    },
    {
     "data": {
      "text/plain": [
       "<matplotlib.image.AxesImage at 0x7fac201ae640>"
      ]
     },
     "execution_count": 4,
     "metadata": {},
     "output_type": "execute_result"
    },
    {
     "data": {
      "image/png": "[encoded data removed]",
      "text/plain": [
       "<Figure size 432x288 with 1 Axes>"
      ]
     },
     "metadata": {
      "needs_background": "light"
     },
     "output_type": "display_data"
    }
   ],
   "source": [
    "from graphite.graphite_whitebox_pytorch import GRAPHITEWhiteboxPyTorch\n",
    "\n",
    "# Step 6: Generate adversarial test examples\n",
    "attack = GRAPHITEWhiteboxPyTorch(\n",
    "    classifier,\n",
    "    (28, 28),\n",
    "    patch_removal_size = 4,\n",
    "    patch_removal_interval = 1,\n",
    "    steps = 50\n",
    ")\n",
    "\n",
    "print(x_test[0, :, :, :][np.newaxis, :, :, :].shape)\n",
    "x_test_adv = attack.generate(x=x_test[0, :, :, :][np.newaxis, :, :, :], y=y_test[1][np.newaxis, :], mask=None)\n",
    "plt.imshow(x_test_adv[0,...].squeeze())\n"
   ]
  }
 ],
 "metadata": {
  "kernelspec": {
   "display_name": "Python 3",
   "language": "python",
   "name": "python3"
  },
  "language_info": {
   "codemirror_mode": {
    "name": "ipython",
    "version": 3
   },
   "file_extension": ".py",
   "mimetype": "text/x-python",
   "name": "python",
   "nbconvert_exporter": "python",
   "pygments_lexer": "ipython3",
   "version": "3.8.10"
  }
 },
 "nbformat": 4,
 "nbformat_minor": 5
}
