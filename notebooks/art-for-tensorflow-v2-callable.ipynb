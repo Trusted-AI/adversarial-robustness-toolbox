{
  "cells": [
    {
      "cell_type": "markdown",
      "metadata": {
        "id": "x6ys1GCOZqhg"
      },
      "source": [
        "# ART for TensorFlow v2 - Callable Class/Function"
      ]
    },
    {
      "cell_type": "markdown",
      "metadata": {
        "id": "-gAsDzg_Zqhk"
      },
      "source": [
        "This notebook demonstrates applying ART with TensorFlow v2 using callable classes or functions to define models. The code follows and extends the examples on www.tensorflow.org."
      ]
    },
    {
      "cell_type": "code",
      "execution_count": 2,
      "metadata": {
        "id": "HzeOt5ydZqhl"
      },
      "outputs": [],
      "source": [
        "import warnings\n",
        "warnings.filterwarnings('ignore')\n",
        "import os\n",
        "os.environ['TF_CPP_MIN_LOG_LEVEL'] = '3'\n",
        "import tensorflow as tf\n",
        "from tensorflow.keras.layers import Dense, Flatten, Conv2D\n",
        "from tensorflow.keras import Model\n",
        "import numpy as np\n",
        "from matplotlib import pyplot as plt\n",
        "\n",
        "from art.estimators.classification import TensorFlowV2Classifier\n",
        "from art.attacks.evasion import FastGradientMethod, CarliniLInfMethod"
      ]
    },
    {
      "cell_type": "code",
      "execution_count": 3,
      "metadata": {
        "id": "p0caeFvVZqhn"
      },
      "outputs": [],
      "source": [
        "if tf.__version__[0] != '2':\n",
        "    raise ImportError('This notebook requires TensorFlow v2.')"
      ]
    },
    {
      "cell_type": "markdown",
      "metadata": {
        "id": "EdK0rIxrZqhn"
      },
      "source": [
        "# Load MNIST dataset"
      ]
    },
    {
      "cell_type": "code",
      "execution_count": 4,
      "metadata": {
        "colab": {
          "base_uri": "https://localhost:8080/"
        },
        "id": "QfX6OG05Zqhn",
        "outputId": "d9c90230-5c8a-44af-9410-0494a0312784"
      },
      "outputs": [
        {
          "output_type": "stream",
          "name": "stdout",
          "text": [
            "Downloading data from https://storage.googleapis.com/tensorflow/tf-keras-datasets/mnist.npz\n",
            "11490434/11490434 [==============================] - 0s 0us/step\n"
          ]
        }
      ],
      "source": [
        "(x_train, y_train), (x_test, y_test) = tf.keras.datasets.mnist.load_data()\n",
        "x_train, x_test = x_train / 255.0, x_test / 255.0\n",
        "\n",
        "x_train = x_train.astype(np.float32)\n",
        "x_test = x_test.astype(np.float32)\n",
        "\n",
        "x_test = x_test[0:10]\n",
        "y_test = y_test[0:10]"
      ]
    },
    {
      "cell_type": "markdown",
      "metadata": {
        "id": "1W2g5CMZZqho"
      },
      "source": [
        "Add a dimension for color channel"
      ]
    },
    {
      "cell_type": "code",
      "execution_count": 5,
      "metadata": {
        "id": "-UudC_6xZqho"
      },
      "outputs": [],
      "source": [
        "x_train = x_train[..., tf.newaxis]\n",
        "x_test = x_test[..., tf.newaxis]"
      ]
    },
    {
      "cell_type": "markdown",
      "metadata": {
        "id": "9yvI-CnTZqhp"
      },
      "source": [
        "Create loss object and optimizer"
      ]
    },
    {
      "cell_type": "code",
      "execution_count": 6,
      "metadata": {
        "id": "HbGPQz04Zqhp"
      },
      "outputs": [],
      "source": [
        "loss_object = tf.keras.losses.SparseCategoricalCrossentropy()\n",
        "optimizer = tf.keras.optimizers.Adam()"
      ]
    },
    {
      "cell_type": "markdown",
      "metadata": {
        "id": "WeEHZ4P2Zqhq"
      },
      "source": [
        "Define metrics for training and testing"
      ]
    },
    {
      "cell_type": "code",
      "execution_count": 7,
      "metadata": {
        "id": "st7QtD-0Zqhq"
      },
      "outputs": [],
      "source": [
        "train_loss = tf.keras.metrics.Mean(name='train_loss')\n",
        "train_accuracy = tf.keras.metrics.SparseCategoricalAccuracy(name='train_accuracy')\n",
        "\n",
        "test_loss = tf.keras.metrics.Mean(name='test_loss')\n",
        "test_accuracy = tf.keras.metrics.SparseCategoricalAccuracy(name='test_accuracy')"
      ]
    },
    {
      "cell_type": "markdown",
      "metadata": {
        "id": "8c_6fHJ5Zqhq"
      },
      "source": [
        "# TensorFlow with callable class"
      ]
    },
    {
      "cell_type": "markdown",
      "metadata": {
        "id": "wzm2FNhxZqhq"
      },
      "source": [
        "Create a custom model class."
      ]
    },
    {
      "cell_type": "code",
      "execution_count": 8,
      "metadata": {
        "id": "s9qi6F-QZqhq"
      },
      "outputs": [],
      "source": [
        "class KerasModel(Model):\n",
        "    def __init__(self):\n",
        "        super(KerasModel, self).__init__()\n",
        "        self.conv1 = Conv2D(filters=3, kernel_size=3, activation='relu')\n",
        "        self.flatten = Flatten()\n",
        "        self.dense1 = Dense(10, activation='softmax')\n",
        "\n",
        "    def call(self, x):\n",
        "        x = self.conv1(x)\n",
        "        x = self.flatten(x)\n",
        "        x = self.dense1(x)\n",
        "        return x"
      ]
    },
    {
      "cell_type": "markdown",
      "metadata": {
        "id": "vwiJX-EpZqhq"
      },
      "source": [
        "Create callable model"
      ]
    },
    {
      "cell_type": "code",
      "execution_count": 9,
      "metadata": {
        "id": "1oBsaWt3Zqhq"
      },
      "outputs": [],
      "source": [
        "model = KerasModel()"
      ]
    },
    {
      "cell_type": "markdown",
      "metadata": {
        "id": "llfepQ3CZqhq"
      },
      "source": [
        "Create input pipelines for training and testing"
      ]
    },
    {
      "cell_type": "code",
      "execution_count": 10,
      "metadata": {
        "id": "Juvdq4rFZqhq"
      },
      "outputs": [],
      "source": [
        "train_ds = tf.data.Dataset.from_tensor_slices((x_train, y_train)).shuffle(10000).batch(32)\n",
        "test_ds = tf.data.Dataset.from_tensor_slices((x_test, y_test)).batch(32)"
      ]
    },
    {
      "cell_type": "markdown",
      "metadata": {
        "id": "__NONpRVZqhr"
      },
      "source": [
        "Define the training step."
      ]
    },
    {
      "cell_type": "code",
      "execution_count": 11,
      "metadata": {
        "id": "tJcZ1sBfZqhr"
      },
      "outputs": [],
      "source": [
        "@tf.function\n",
        "def train_step(images, labels):\n",
        "    with tf.GradientTape() as tape:\n",
        "        predictions = model(images)\n",
        "        loss = loss_object(labels, predictions)\n",
        "    gradients = tape.gradient(loss, model.trainable_variables)\n",
        "    optimizer.apply_gradients(zip(gradients, model.trainable_variables))\n",
        "\n",
        "    train_loss(loss)\n",
        "    train_accuracy(labels, predictions)"
      ]
    },
    {
      "cell_type": "markdown",
      "metadata": {
        "id": "kfR92prOZqhr"
      },
      "source": [
        "Define the testing step."
      ]
    },
    {
      "cell_type": "code",
      "execution_count": 12,
      "metadata": {
        "id": "ssCesqdTZqhr"
      },
      "outputs": [],
      "source": [
        "@tf.function\n",
        "def test_step(images, labels):\n",
        "    predictions = model(images)\n",
        "    t_loss = loss_object(labels, predictions)\n",
        "\n",
        "    test_loss(t_loss)\n",
        "    test_accuracy(labels, predictions)"
      ]
    },
    {
      "cell_type": "markdown",
      "metadata": {
        "id": "jWXChGcyZqhr"
      },
      "source": [
        "Fit the model on training data and collect metrics for training and testing."
      ]
    },
    {
      "cell_type": "code",
      "execution_count": 13,
      "metadata": {
        "colab": {
          "base_uri": "https://localhost:8080/"
        },
        "id": "8caHTvJgZqhr",
        "outputId": "8133fd71-0b69-4fcc-dab2-647f2d3c0e01"
      },
      "outputs": [
        {
          "output_type": "stream",
          "name": "stdout",
          "text": [
            "Epoch 1, Loss: 0.34, Accuracy: 90.55, Test Loss: 0.39, Test Accuracy: 90.00\n",
            "Epoch 2, Loss: 0.26, Accuracy: 92.70, Test Loss: 0.35, Test Accuracy: 90.00\n",
            "Epoch 3, Loss: 0.22, Accuracy: 93.75, Test Loss: 0.39, Test Accuracy: 90.00\n"
          ]
        }
      ],
      "source": [
        "epochs = 3\n",
        "\n",
        "for epoch in range(epochs):\n",
        "    for images, labels in train_ds:\n",
        "        train_step(images, labels)\n",
        "\n",
        "    for test_images, test_labels in test_ds:\n",
        "        test_step(test_images, test_labels)\n",
        "\n",
        "    template = 'Epoch {}, Loss: {:4.2f}, Accuracy: {:4.2f}, Test Loss: {:4.2f}, Test Accuracy: {:4.2f}'\n",
        "    print(template.format(epoch + 1,\n",
        "                          train_loss.result(),\n",
        "                          train_accuracy.result() * 100,\n",
        "                          test_loss.result(),\n",
        "                          test_accuracy.result() * 100))"
      ]
    },
    {
      "cell_type": "markdown",
      "metadata": {
        "id": "Ur_Oc5KvZqhs"
      },
      "source": [
        "Evaluate model accuracy on test data."
      ]
    },
    {
      "cell_type": "code",
      "execution_count": 14,
      "metadata": {
        "colab": {
          "base_uri": "https://localhost:8080/"
        },
        "id": "FschhFXSZqhs",
        "outputId": "ee41a4c5-3ec3-4514-adf0-ebb317fe33e8"
      },
      "outputs": [
        {
          "output_type": "stream",
          "name": "stdout",
          "text": [
            "Accuracy on test data: 90.00%\n"
          ]
        }
      ],
      "source": [
        "y_test_pred = np.argmax(model(x_test), axis=1)\n",
        "accuracy_test = np.sum(y_test_pred == y_test) / y_test.shape[0]\n",
        "print('Accuracy on test data: {:4.2f}%'.format(accuracy_test * 100))"
      ]
    },
    {
      "cell_type": "markdown",
      "metadata": {
        "id": "RH01U7_BZqhs"
      },
      "source": [
        "Create a ART TensorFlow v2 classifier for the TensorFlow custom model class."
      ]
    },
    {
      "cell_type": "code",
      "execution_count": 15,
      "metadata": {
        "id": "ilKTAr8BZqhs"
      },
      "outputs": [],
      "source": [
        "classifier = TensorFlowV2Classifier(model=model, nb_classes=10, input_shape=(28, 28, 1), loss_object=loss_object,\n",
        "                                    clip_values=(0, 1), channels_first=False)"
      ]
    },
    {
      "cell_type": "markdown",
      "metadata": {
        "id": "p_bEYoaWZqhs"
      },
      "source": [
        "## Fast Gradient Sign Method attack"
      ]
    },
    {
      "cell_type": "markdown",
      "metadata": {
        "id": "T1dfZKcwZqhs"
      },
      "source": [
        "Create a ART Fast Gradient Sign Method attack."
      ]
    },
    {
      "cell_type": "code",
      "execution_count": 16,
      "metadata": {
        "id": "ThCnPgL6Zqhs"
      },
      "outputs": [],
      "source": [
        "attack_fgsm = FastGradientMethod(estimator=classifier)"
      ]
    },
    {
      "cell_type": "markdown",
      "metadata": {
        "id": "Hhhnjw9GZqhs"
      },
      "source": [
        "Generate adversarial test data."
      ]
    },
    {
      "cell_type": "code",
      "execution_count": 17,
      "metadata": {
        "scrolled": false,
        "id": "UiewqnIvZqht"
      },
      "outputs": [],
      "source": [
        "x_test_adv = attack_fgsm.generate(x_test)"
      ]
    },
    {
      "cell_type": "markdown",
      "metadata": {
        "id": "pJqv2djMZqht"
      },
      "source": [
        "Evaluate accuracy on adversarial test data and calculate average perturbation."
      ]
    },
    {
      "cell_type": "code",
      "execution_count": 18,
      "metadata": {
        "colab": {
          "base_uri": "https://localhost:8080/"
        },
        "id": "dxh_xaDGZqht",
        "outputId": "fd9131c6-b734-401f-a939-561c63e0703f"
      },
      "outputs": [
        {
          "output_type": "stream",
          "name": "stdout",
          "text": [
            "Accuracy on adversarial test data: 10.00%\n",
            "Average perturbation: 0.16\n"
          ]
        }
      ],
      "source": [
        "y_test_pred = np.argmax(model(x_test_adv), axis=1)\n",
        "accuracy_test_adv = np.sum(y_test_pred == y_test) / y_test.shape[0]\n",
        "perturbation = np.mean(np.abs((x_test_adv - x_test)))\n",
        "print('Accuracy on adversarial test data: {:4.2f}%'.format(accuracy_test_adv * 100))\n",
        "print('Average perturbation: {:4.2f}'.format(perturbation))"
      ]
    },
    {
      "cell_type": "markdown",
      "metadata": {
        "id": "TnOSep49Zqht"
      },
      "source": [
        "Visualise the first adversarial test sample."
      ]
    },
    {
      "cell_type": "code",
      "execution_count": 19,
      "metadata": {
        "colab": {
          "base_uri": "https://localhost:8080/",
          "height": 437
        },
        "id": "fVRYBarHZqht",
        "outputId": "e1d6f62d-e8ca-4863-ae5e-735de95153ae"
      },
      "outputs": [
        {
          "output_type": "display_data",
          "data": {
            "text/plain": [
              "<Figure size 480x480 with 1 Axes>"
            ],
            "image/png": "[encoded data removed]"
          },
          "metadata": {}
        }
      ],
      "source": [
        "plt.matshow(x_test_adv[0, :, :, 0])\n",
        "plt.show()"
      ]
    },
    {
      "cell_type": "markdown",
      "metadata": {
        "id": "EzsaRb6HZqht"
      },
      "source": [
        "## Carlini&Wagner Infinity-norm attack"
      ]
    },
    {
      "cell_type": "markdown",
      "metadata": {
        "id": "73nss-tLZqhy"
      },
      "source": [
        "Create a ART Carlini&Wagner Infinity-norm attack."
      ]
    },
    {
      "cell_type": "code",
      "execution_count": 20,
      "metadata": {
        "id": "Nzo6LLv9Zqhz"
      },
      "outputs": [],
      "source": [
        "attack_cw = CarliniLInfMethod(classifier=classifier,\n",
        "                              max_iter=100,\n",
        "                              learning_rate=0.01,\n",
        "                              initial_const=1e0,\n",
        "                              largest_const=2e0)"
      ]
    },
    {
      "cell_type": "markdown",
      "metadata": {
        "id": "tiS68nqhZqhz"
      },
      "source": [
        "Generate adversarial test data."
      ]
    },
    {
      "cell_type": "code",
      "execution_count": 21,
      "metadata": {
        "colab": {
          "base_uri": "https://localhost:8080/",
          "height": 87,
          "referenced_widgets": [
            "0b8242407f8245e197f108e489b709f3",
            "ee9bf3456da448a9a6fd9c32b4b55d1c",
            "63cc72f10306471bb259f407b86d40b3",
            "571690ae3d4848b2b144e309baa6db62",
            "7a3ba25da2ec43c5a02f33256e908a2d",
            "290351d386ad460c89f4a6518fbca91b",
            "0a8aa57f7b904d0784b292823e9c2407",
            "b0138b0c3dc14596a372a7f7a6353c71",
            "773990d53c4f498a83c467ea828a6396",
            "430139380b54472ca2753c9392e7917a",
            "8d62f30dc13341bbb50aa01551102379"
          ]
        },
        "id": "Pti4oVUGZqhz",
        "outputId": "6a7dc9fa-0dbf-480a-8936-4c12df05e77f"
      },
      "outputs": [
        {
          "output_type": "display_data",
          "data": {
            "text/plain": [
              "C&W L_inf:   0%|          | 0/10 [00:00<?, ?it/s]"
            ],
            "application/vnd.jupyter.widget-view+json": {
              "version_major": 2,
              "version_minor": 0,
              "model_id": "0b8242407f8245e197f108e489b709f3"
            }
          },
          "metadata": {}
        },
        {
          "output_type": "stream",
          "name": "stderr",
          "text": [
            "WARNING:tensorflow:Calling GradientTape.gradient on a persistent tape inside its context is significantly less efficient than calling it outside the context (it causes the gradient ops to be recorded on the tape, leading to increased CPU and memory usage). Only call GradientTape.gradient inside the context if you actually want to trace the gradient in order to compute higher order derivatives.\n"
          ]
        }
      ],
      "source": [
        "x_test_adv = attack_cw.generate(x_test)"
      ]
    },
    {
      "cell_type": "markdown",
      "metadata": {
        "id": "6aJMVMryZqhz"
      },
      "source": [
        "Evaluate accuracy on adversarial test data and calculate average perturbation."
      ]
    },
    {
      "cell_type": "code",
      "execution_count": 22,
      "metadata": {
        "colab": {
          "base_uri": "https://localhost:8080/"
        },
        "id": "MmjumC6oZqhz",
        "outputId": "765c408d-7d71-4ad9-dda0-bd4d3da888da"
      },
      "outputs": [
        {
          "output_type": "stream",
          "name": "stdout",
          "text": [
            "Accuracy on adversarial test data: 10.00%\n",
            "Average perturbation: 0.03\n"
          ]
        }
      ],
      "source": [
        "y_test_pred = np.argmax(model(x_test_adv), axis=1)\n",
        "accuracy_test_adv = np.sum(y_test_pred == y_test) / y_test.shape[0]\n",
        "perturbation = np.mean(np.abs((x_test_adv - x_test)))\n",
        "print('Accuracy on adversarial test data: {:4.2f}%'.format(accuracy_test_adv * 100))\n",
        "print('Average perturbation: {:4.2f}'.format(perturbation))"
      ]
    },
    {
      "cell_type": "markdown",
      "metadata": {
        "id": "A8VqF-oeZqhz"
      },
      "source": [
        "Visualise the first adversarial test sample."
      ]
    },
    {
      "cell_type": "code",
      "execution_count": 23,
      "metadata": {
        "colab": {
          "base_uri": "https://localhost:8080/",
          "height": 437
        },
        "id": "YU0yPQLzZqhz",
        "outputId": "a601ec56-7fae-4b61-dd87-39a5a8668141"
      },
      "outputs": [
        {
          "output_type": "display_data",
          "data": {
            "text/plain": [
              "<Figure size 480x480 with 1 Axes>"
            ],
            "image/png": "[encoded data removed]"
          },
          "metadata": {}
        }
      ],
      "source": [
        "plt.matshow(x_test_adv[0, :, :, 0])\n",
        "plt.show()"
      ]
    },
    {
      "cell_type": "markdown",
      "metadata": {
        "id": "22fDvv7dZqhz"
      },
      "source": [
        "# TensorFlow with custom function"
      ]
    },
    {
      "cell_type": "markdown",
      "metadata": {
        "id": "uf5o2mVwZqh0"
      },
      "source": [
        "Reshape dataset in feature vectors because the model in this example requires feature vectors."
      ]
    },
    {
      "cell_type": "code",
      "execution_count": 43,
      "metadata": {
        "id": "kjo9-ONXZqh0"
      },
      "outputs": [],
      "source": [
        "x_train = x_train.reshape((60000, 784))\n",
        "x_test = x_test.reshape((x_test.shape[0], 784))"
      ]
    },
    {
      "cell_type": "markdown",
      "metadata": {
        "id": "CxoZ583LZqh0"
      },
      "source": [
        "Create input pipelines for training and testing"
      ]
    },
    {
      "cell_type": "code",
      "execution_count": 45,
      "metadata": {
        "id": "VncrPWpVZqh0"
      },
      "outputs": [],
      "source": [
        "train_ds = tf.data.Dataset.from_tensor_slices((x_train, y_train)).shuffle(10000).batch(32)\n",
        "test_ds = tf.data.Dataset.from_tensor_slices((x_test, y_test)).batch(32)"
      ]
    },
    {
      "cell_type": "markdown",
      "metadata": {
        "id": "y3jKSVKRZqh0"
      },
      "source": [
        "Create variables and keep track of them"
      ]
    },
    {
      "cell_type": "code",
      "execution_count": 46,
      "metadata": {
        "id": "X9a9mKLLZqh0"
      },
      "outputs": [],
      "source": [
        "W = tf.Variable(initial_value=tf.random.normal(shape=(784, 10)), name=\"W\")\n",
        "b = tf.Variable(tf.zeros(shape=(10)), name=\"b\")"
      ]
    },
    {
      "cell_type": "code",
      "source": [
        "optimizer = tf.keras.optimizers.legacy.Adam()"
      ],
      "metadata": {
        "id": "G3tgJHIDcCZM"
      },
      "execution_count": 44,
      "outputs": []
    },
    {
      "cell_type": "markdown",
      "metadata": {
        "id": "izFp8FS8Zqh0"
      },
      "source": [
        "Define a function representing the model"
      ]
    },
    {
      "cell_type": "code",
      "execution_count": 47,
      "metadata": {
        "id": "CiFMVZBYZqh0"
      },
      "outputs": [],
      "source": [
        "@tf.function\n",
        "def forward(x, training=None):\n",
        "    x = tf.matmul(x, W) + b\n",
        "    denominator = tf.expand_dims(tf.reduce_sum(tf.exp(x), axis=1), axis=1)\n",
        "    softmax = (1.0 / denominator) * tf.exp(x)\n",
        "    return softmax"
      ]
    },
    {
      "cell_type": "markdown",
      "metadata": {
        "id": "rfQdl5vRZqh0"
      },
      "source": [
        "Define the training step."
      ]
    },
    {
      "cell_type": "code",
      "execution_count": 48,
      "metadata": {
        "id": "s0Lg-2Q3Zqh0"
      },
      "outputs": [],
      "source": [
        "@tf.function\n",
        "def train_step(images, labels):\n",
        "    with tf.GradientTape() as tape:\n",
        "        predictions = forward(images)\n",
        "        loss = loss_object(labels, predictions)\n",
        "    gradients = tape.gradient(loss, [W, b])\n",
        "    optimizer.apply_gradients(zip(gradients, [W, b]))\n",
        "\n",
        "    train_loss(loss)\n",
        "    train_accuracy(labels, predictions)"
      ]
    },
    {
      "cell_type": "markdown",
      "metadata": {
        "id": "A9hoHE1bZqh1"
      },
      "source": [
        "Define the testing step."
      ]
    },
    {
      "cell_type": "code",
      "execution_count": 49,
      "metadata": {
        "id": "DMdWnJVAZqh1"
      },
      "outputs": [],
      "source": [
        "@tf.function\n",
        "def test_step(images, labels):\n",
        "    predictions = forward(images)\n",
        "    t_loss = loss_object(labels, predictions)\n",
        "\n",
        "    test_loss(t_loss)\n",
        "    test_accuracy(labels, predictions)"
      ]
    },
    {
      "cell_type": "markdown",
      "metadata": {
        "id": "w7c618Y3Zqh1"
      },
      "source": [
        "Fit the model on training data and collect metrics for training and testing."
      ]
    },
    {
      "cell_type": "code",
      "execution_count": 50,
      "metadata": {
        "colab": {
          "base_uri": "https://localhost:8080/"
        },
        "id": "9j1NyOiRZqh1",
        "outputId": "2bc12a6b-c61f-4925-fb34-73264e179800"
      },
      "outputs": [
        {
          "output_type": "stream",
          "name": "stdout",
          "text": [
            "Epoch 1, Loss: 0.82, Accuracy: 85.42, Test Loss: 0.36, Test Accuracy: 87.50\n",
            "Epoch 2, Loss: 0.83, Accuracy: 84.71, Test Loss: 0.30, Test Accuracy: 90.00\n",
            "Epoch 3, Loss: 0.80, Accuracy: 84.90, Test Loss: 0.26, Test Accuracy: 91.67\n"
          ]
        }
      ],
      "source": [
        "epochs = 3\n",
        "\n",
        "for epoch in range(epochs):\n",
        "    for images, labels in train_ds:\n",
        "        train_step(images, labels)\n",
        "\n",
        "    for test_images, test_labels in test_ds:\n",
        "        test_step(test_images, test_labels)\n",
        "\n",
        "    template = 'Epoch {}, Loss: {:4.2f}, Accuracy: {:4.2f}, Test Loss: {:4.2f}, Test Accuracy: {:4.2f}'\n",
        "    print(template.format(epoch + 1,\n",
        "                          train_loss.result(),\n",
        "                          train_accuracy.result() * 100,\n",
        "                          test_loss.result(),\n",
        "                          test_accuracy.result() * 100))"
      ]
    },
    {
      "cell_type": "markdown",
      "metadata": {
        "id": "0N1_z0iWZqh1"
      },
      "source": [
        "Evaluate model accuracy on test data."
      ]
    },
    {
      "cell_type": "code",
      "execution_count": 51,
      "metadata": {
        "colab": {
          "base_uri": "https://localhost:8080/"
        },
        "id": "kv95doyJZqh1",
        "outputId": "a4b8bcc4-db5d-4452-f868-7645ae714536"
      },
      "outputs": [
        {
          "output_type": "stream",
          "name": "stdout",
          "text": [
            "Accuracy on test data: 100.00%\n"
          ]
        }
      ],
      "source": [
        "y_test_pred = np.argmax(forward(x_test), axis=1)\n",
        "accuracy_test = np.sum(y_test_pred == y_test) / y_test.shape[0]\n",
        "print('Accuracy on test data: {:4.2f}%'.format(accuracy_test * 100))"
      ]
    },
    {
      "cell_type": "markdown",
      "metadata": {
        "id": "R9sn03cBZqh1"
      },
      "source": [
        "Create a ART TensorFlow v2 classifier for the TensorFlow custom model function."
      ]
    },
    {
      "cell_type": "code",
      "execution_count": 52,
      "metadata": {
        "id": "D-yeLHmUZqh1"
      },
      "outputs": [],
      "source": [
        "classifier = TensorFlowV2Classifier(model=forward, nb_classes=10, input_shape=(28, 28, 1),\n",
        "                                    loss_object=loss_object, clip_values=(0, 1), channels_first=False)"
      ]
    },
    {
      "cell_type": "markdown",
      "metadata": {
        "id": "84NYQCFiZqh1"
      },
      "source": [
        "## Fast Gradient Sign Method attack"
      ]
    },
    {
      "cell_type": "markdown",
      "metadata": {
        "id": "mAXJqjEdZqh1"
      },
      "source": [
        "Create a ART Fast Gradient Sign Method attack."
      ]
    },
    {
      "cell_type": "code",
      "execution_count": 53,
      "metadata": {
        "id": "7wPINgYfZqh2"
      },
      "outputs": [],
      "source": [
        "attack_fgsm = FastGradientMethod(estimator=classifier)"
      ]
    },
    {
      "cell_type": "markdown",
      "metadata": {
        "id": "gqulQbmyZqh2"
      },
      "source": [
        "Generate adversarial test data."
      ]
    },
    {
      "cell_type": "code",
      "execution_count": 54,
      "metadata": {
        "scrolled": false,
        "id": "34Xm1s1EZqh2"
      },
      "outputs": [],
      "source": [
        "x_test_adv = attack_fgsm.generate(x_test)"
      ]
    },
    {
      "cell_type": "markdown",
      "metadata": {
        "id": "NBwMJdqtZqh2"
      },
      "source": [
        "Evaluate accuracy on adversarial test data and calculate average perturbation."
      ]
    },
    {
      "cell_type": "code",
      "execution_count": 55,
      "metadata": {
        "colab": {
          "base_uri": "https://localhost:8080/"
        },
        "id": "eVmSLBAhZqh2",
        "outputId": "49cfc691-2e36-4a8b-febe-6836dc6c5b2e"
      },
      "outputs": [
        {
          "output_type": "stream",
          "name": "stdout",
          "text": [
            "Accuracy on adversarial test data: 0.00%\n",
            "Average perturbation: 0.17\n"
          ]
        }
      ],
      "source": [
        "y_test_pred = np.argmax(forward(x_test_adv), axis=1)\n",
        "accuracy_test_adv = np.sum(y_test_pred == y_test) / y_test.shape[0]\n",
        "perturbation = np.mean(np.abs((x_test_adv - x_test)))\n",
        "print('Accuracy on adversarial test data: {:4.2f}%'.format(accuracy_test_adv * 100))\n",
        "print('Average perturbation: {:4.2f}'.format(perturbation))"
      ]
    },
    {
      "cell_type": "markdown",
      "metadata": {
        "id": "NCOIsVdJZqh2"
      },
      "source": [
        "Visualise the first adversarial test sample."
      ]
    },
    {
      "cell_type": "code",
      "execution_count": 56,
      "metadata": {
        "colab": {
          "base_uri": "https://localhost:8080/",
          "height": 437
        },
        "id": "6h8gmnhKZqh2",
        "outputId": "fde6426b-59be-4268-f9b2-a818cec6e08d"
      },
      "outputs": [
        {
          "output_type": "display_data",
          "data": {
            "text/plain": [
              "<Figure size 480x480 with 1 Axes>"
            ],
            "image/png": "[encoded data removed]"
          },
          "metadata": {}
        }
      ],
      "source": [
        "plt.matshow(x_test_adv[0, :].reshape((28, 28)))\n",
        "plt.show()"
      ]
    },
    {
      "cell_type": "markdown",
      "metadata": {
        "id": "YL3wLEw8Zqh2"
      },
      "source": [
        "## Carlini&Wagner Infinity-norm attack"
      ]
    },
    {
      "cell_type": "markdown",
      "metadata": {
        "id": "l38Wnq_RZqh2"
      },
      "source": [
        "Create a ART Carlini&Wagner Infinity-norm attack."
      ]
    },
    {
      "cell_type": "code",
      "execution_count": 57,
      "metadata": {
        "id": "WP04Zj2kZqh2"
      },
      "outputs": [],
      "source": [
        "attack_cw = CarliniLInfMethod(classifier=classifier,\n",
        "                              max_iter=100,\n",
        "                              learning_rate=0.01,\n",
        "                              initial_const=1e0,\n",
        "                              largest_const=2e0)"
      ]
    },
    {
      "cell_type": "markdown",
      "metadata": {
        "id": "DiWXJGsDZqh3"
      },
      "source": [
        "Generate adversarial test data."
      ]
    },
    {
      "cell_type": "code",
      "execution_count": 58,
      "metadata": {
        "id": "-GnzPg79Zqh3"
      },
      "outputs": [],
      "source": [
        "%%capture\n",
        "x_test_adv = attack_cw.generate(x_test);"
      ]
    },
    {
      "cell_type": "markdown",
      "metadata": {
        "id": "5ZcIstoKZqh3"
      },
      "source": [
        "Evaluate accuracy on adversarial test data and calculate average perturbation."
      ]
    },
    {
      "cell_type": "code",
      "execution_count": 59,
      "metadata": {
        "colab": {
          "base_uri": "https://localhost:8080/"
        },
        "id": "-oJCiZ2GZqh3",
        "outputId": "43b2beab-fb9f-43ea-a6a1-d7669f82395c"
      },
      "outputs": [
        {
          "output_type": "stream",
          "name": "stdout",
          "text": [
            "Accuracy on adversarial test data: 0.00%\n",
            "Average perturbation: 0.009456\n"
          ]
        }
      ],
      "source": [
        "y_test_pred = np.argmax(forward(x_test_adv), axis=1)\n",
        "accuracy_test_adv = np.sum(y_test_pred == y_test) / y_test.shape[0]\n",
        "perturbation = np.mean(np.abs((x_test_adv - x_test)))\n",
        "print('Accuracy on adversarial test data: {:4.2f}%'.format(accuracy_test_adv * 100))\n",
        "print('Average perturbation: {:4.6f}'.format(perturbation))"
      ]
    },
    {
      "cell_type": "markdown",
      "metadata": {
        "id": "yegSrKeuZqh3"
      },
      "source": [
        "Visualise the first adversarial test sample."
      ]
    },
    {
      "cell_type": "code",
      "execution_count": 60,
      "metadata": {
        "colab": {
          "base_uri": "https://localhost:8080/",
          "height": 437
        },
        "id": "MUgtIpuOZqh3",
        "outputId": "ae27acfd-3a8b-492a-a4b0-834500964bec"
      },
      "outputs": [
        {
          "output_type": "display_data",
          "data": {
            "text/plain": [
              "<Figure size 480x480 with 1 Axes>"
            ],
            "image/png": "[encoded data removed]"
          },
          "metadata": {}
        }
      ],
      "source": [
        "plt.matshow(x_test_adv[0, :].reshape((28, 28)))\n",
        "plt.show()"
      ]
    }
  ],
  "metadata": {
    "kernelspec": {
      "display_name": "py37_tf220",
      "language": "python",
      "name": "py37_tf220"
    },
    "language_info": {
      "codemirror_mode": {
        "name": "ipython",
        "version": 3
      },
      "file_extension": ".py",
      "mimetype": "text/x-python",
      "name": "python",
      "nbconvert_exporter": "python",
      "pygments_lexer": "ipython3",
      "version": "3.7.6"
    },
    "colab": {
      "provenance": []
    },
    "widgets": {
      "application/vnd.jupyter.widget-state+json": {
        "0b8242407f8245e197f108e489b709f3": {
          "model_module": "@jupyter-widgets/controls",
          "model_name": "HBoxModel",
          "model_module_version": "1.5.0",
          "state": {
            "_dom_classes": [],
            "_model_module": "@jupyter-widgets/controls",
            "_model_module_version": "1.5.0",
            "_model_name": "HBoxModel",
            "_view_count": null,
            "_view_module": "@jupyter-widgets/controls",
            "_view_module_version": "1.5.0",
            "_view_name": "HBoxView",
            "box_style": "",
            "children": [
              "IPY_MODEL_ee9bf3456da448a9a6fd9c32b4b55d1c",
              "IPY_MODEL_63cc72f10306471bb259f407b86d40b3",
              "IPY_MODEL_571690ae3d4848b2b144e309baa6db62"
            ],
            "layout": "IPY_MODEL_7a3ba25da2ec43c5a02f33256e908a2d"
          }
        },
        "ee9bf3456da448a9a6fd9c32b4b55d1c": {
          "model_module": "@jupyter-widgets/controls",
          "model_name": "HTMLModel",
          "model_module_version": "1.5.0",
          "state": {
            "_dom_classes": [],
            "_model_module": "@jupyter-widgets/controls",
            "_model_module_version": "1.5.0",
            "_model_name": "HTMLModel",
            "_view_count": null,
            "_view_module": "@jupyter-widgets/controls",
            "_view_module_version": "1.5.0",
            "_view_name": "HTMLView",
            "description": "",
            "description_tooltip": null,
            "layout": "IPY_MODEL_290351d386ad460c89f4a6518fbca91b",
            "placeholder": "​",
            "style": "IPY_MODEL_0a8aa57f7b904d0784b292823e9c2407",
            "value": "C&amp;W L_inf: 100%"
          }
        },
        "63cc72f10306471bb259f407b86d40b3": {
          "model_module": "@jupyter-widgets/controls",
          "model_name": "FloatProgressModel",
          "model_module_version": "1.5.0",
          "state": {
            "_dom_classes": [],
            "_model_module": "@jupyter-widgets/controls",
            "_model_module_version": "1.5.0",
            "_model_name": "FloatProgressModel",
            "_view_count": null,
            "_view_module": "@jupyter-widgets/controls",
            "_view_module_version": "1.5.0",
            "_view_name": "ProgressView",
            "bar_style": "success",
            "description": "",
            "description_tooltip": null,
            "layout": "IPY_MODEL_b0138b0c3dc14596a372a7f7a6353c71",
            "max": 10,
            "min": 0,
            "orientation": "horizontal",
            "style": "IPY_MODEL_773990d53c4f498a83c467ea828a6396",
            "value": 10
          }
        },
        "571690ae3d4848b2b144e309baa6db62": {
          "model_module": "@jupyter-widgets/controls",
          "model_name": "HTMLModel",
          "model_module_version": "1.5.0",
          "state": {
            "_dom_classes": [],
            "_model_module": "@jupyter-widgets/controls",
            "_model_module_version": "1.5.0",
            "_model_name": "HTMLModel",
            "_view_count": null,
            "_view_module": "@jupyter-widgets/controls",
            "_view_module_version": "1.5.0",
            "_view_name": "HTMLView",
            "description": "",
            "description_tooltip": null,
            "layout": "IPY_MODEL_430139380b54472ca2753c9392e7917a",
            "placeholder": "​",
            "style": "IPY_MODEL_8d62f30dc13341bbb50aa01551102379",
            "value": " 10/10 [02:03&lt;00:00, 14.45s/it]"
          }
        },
        "7a3ba25da2ec43c5a02f33256e908a2d": {
          "model_module": "@jupyter-widgets/base",
          "model_name": "LayoutModel",
          "model_module_version": "1.2.0",
          "state": {
            "_model_module": "@jupyter-widgets/base",
            "_model_module_version": "1.2.0",
            "_model_name": "LayoutModel",
            "_view_count": null,
            "_view_module": "@jupyter-widgets/base",
            "_view_module_version": "1.2.0",
            "_view_name": "LayoutView",
            "align_content": null,
            "align_items": null,
            "align_self": null,
            "border": null,
            "bottom": null,
            "display": null,
            "flex": null,
            "flex_flow": null,
            "grid_area": null,
            "grid_auto_columns": null,
            "grid_auto_flow": null,
            "grid_auto_rows": null,
            "grid_column": null,
            "grid_gap": null,
            "grid_row": null,
            "grid_template_areas": null,
            "grid_template_columns": null,
            "grid_template_rows": null,
            "height": null,
            "justify_content": null,
            "justify_items": null,
            "left": null,
            "margin": null,
            "max_height": null,
            "max_width": null,
            "min_height": null,
            "min_width": null,
            "object_fit": null,
            "object_position": null,
            "order": null,
            "overflow": null,
            "overflow_x": null,
            "overflow_y": null,
            "padding": null,
            "right": null,
            "top": null,
            "visibility": null,
            "width": null
          }
        },
        "290351d386ad460c89f4a6518fbca91b": {
          "model_module": "@jupyter-widgets/base",
          "model_name": "LayoutModel",
          "model_module_version": "1.2.0",
          "state": {
            "_model_module": "@jupyter-widgets/base",
            "_model_module_version": "1.2.0",
            "_model_name": "LayoutModel",
            "_view_count": null,
            "_view_module": "@jupyter-widgets/base",
            "_view_module_version": "1.2.0",
            "_view_name": "LayoutView",
            "align_content": null,
            "align_items": null,
            "align_self": null,
            "border": null,
            "bottom": null,
            "display": null,
            "flex": null,
            "flex_flow": null,
            "grid_area": null,
            "grid_auto_columns": null,
            "grid_auto_flow": null,
            "grid_auto_rows": null,
            "grid_column": null,
            "grid_gap": null,
            "grid_row": null,
            "grid_template_areas": null,
            "grid_template_columns": null,
            "grid_template_rows": null,
            "height": null,
            "justify_content": null,
            "justify_items": null,
            "left": null,
            "margin": null,
            "max_height": null,
            "max_width": null,
            "min_height": null,
            "min_width": null,
            "object_fit": null,
            "object_position": null,
            "order": null,
            "overflow": null,
            "overflow_x": null,
            "overflow_y": null,
            "padding": null,
            "right": null,
            "top": null,
            "visibility": null,
            "width": null
          }
        },
        "0a8aa57f7b904d0784b292823e9c2407": {
          "model_module": "@jupyter-widgets/controls",
          "model_name": "DescriptionStyleModel",
          "model_module_version": "1.5.0",
          "state": {
            "_model_module": "@jupyter-widgets/controls",
            "_model_module_version": "1.5.0",
            "_model_name": "DescriptionStyleModel",
            "_view_count": null,
            "_view_module": "@jupyter-widgets/base",
            "_view_module_version": "1.2.0",
            "_view_name": "StyleView",
            "description_width": ""
          }
        },
        "b0138b0c3dc14596a372a7f7a6353c71": {
          "model_module": "@jupyter-widgets/base",
          "model_name": "LayoutModel",
          "model_module_version": "1.2.0",
          "state": {
            "_model_module": "@jupyter-widgets/base",
            "_model_module_version": "1.2.0",
            "_model_name": "LayoutModel",
            "_view_count": null,
            "_view_module": "@jupyter-widgets/base",
            "_view_module_version": "1.2.0",
            "_view_name": "LayoutView",
            "align_content": null,
            "align_items": null,
            "align_self": null,
            "border": null,
            "bottom": null,
            "display": null,
            "flex": null,
            "flex_flow": null,
            "grid_area": null,
            "grid_auto_columns": null,
            "grid_auto_flow": null,
            "grid_auto_rows": null,
            "grid_column": null,
            "grid_gap": null,
            "grid_row": null,
            "grid_template_areas": null,
            "grid_template_columns": null,
            "grid_template_rows": null,
            "height": null,
            "justify_content": null,
            "justify_items": null,
            "left": null,
            "margin": null,
            "max_height": null,
            "max_width": null,
            "min_height": null,
            "min_width": null,
            "object_fit": null,
            "object_position": null,
            "order": null,
            "overflow": null,
            "overflow_x": null,
            "overflow_y": null,
            "padding": null,
            "right": null,
            "top": null,
            "visibility": null,
            "width": null
          }
        },
        "773990d53c4f498a83c467ea828a6396": {
          "model_module": "@jupyter-widgets/controls",
          "model_name": "ProgressStyleModel",
          "model_module_version": "1.5.0",
          "state": {
            "_model_module": "@jupyter-widgets/controls",
            "_model_module_version": "1.5.0",
            "_model_name": "ProgressStyleModel",
            "_view_count": null,
            "_view_module": "@jupyter-widgets/base",
            "_view_module_version": "1.2.0",
            "_view_name": "StyleView",
            "bar_color": null,
            "description_width": ""
          }
        },
        "430139380b54472ca2753c9392e7917a": {
          "model_module": "@jupyter-widgets/base",
          "model_name": "LayoutModel",
          "model_module_version": "1.2.0",
          "state": {
            "_model_module": "@jupyter-widgets/base",
            "_model_module_version": "1.2.0",
            "_model_name": "LayoutModel",
            "_view_count": null,
            "_view_module": "@jupyter-widgets/base",
            "_view_module_version": "1.2.0",
            "_view_name": "LayoutView",
            "align_content": null,
            "align_items": null,
            "align_self": null,
            "border": null,
            "bottom": null,
            "display": null,
            "flex": null,
            "flex_flow": null,
            "grid_area": null,
            "grid_auto_columns": null,
            "grid_auto_flow": null,
            "grid_auto_rows": null,
            "grid_column": null,
            "grid_gap": null,
            "grid_row": null,
            "grid_template_areas": null,
            "grid_template_columns": null,
            "grid_template_rows": null,
            "height": null,
            "justify_content": null,
            "justify_items": null,
            "left": null,
            "margin": null,
            "max_height": null,
            "max_width": null,
            "min_height": null,
            "min_width": null,
            "object_fit": null,
            "object_position": null,
            "order": null,
            "overflow": null,
            "overflow_x": null,
            "overflow_y": null,
            "padding": null,
            "right": null,
            "top": null,
            "visibility": null,
            "width": null
          }
        },
        "8d62f30dc13341bbb50aa01551102379": {
          "model_module": "@jupyter-widgets/controls",
          "model_name": "DescriptionStyleModel",
          "model_module_version": "1.5.0",
          "state": {
            "_model_module": "@jupyter-widgets/controls",
            "_model_module_version": "1.5.0",
            "_model_name": "DescriptionStyleModel",
            "_view_count": null,
            "_view_module": "@jupyter-widgets/base",
            "_view_module_version": "1.2.0",
            "_view_name": "StyleView",
            "description_width": ""
          }
        }
      }
    }
  },
  "nbformat": 4,
  "nbformat_minor": 0
}