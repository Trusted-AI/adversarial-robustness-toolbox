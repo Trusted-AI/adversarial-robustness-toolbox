{
 "cells": [
  {
   "cell_type": "markdown",
   "id": "dad3fc08-9eb2-451e-a5f2-de388362ddf5",
   "metadata": {},
   "source": [
    "# Stateful detection of black-box adversarial attack\n",
    "Example for PyTorch library"
   ]
  },
  {
   "cell_type": "markdown",
   "id": "84250cb2-1c2d-488c-b452-40ec574b6c2c",
   "metadata": {},
   "source": [
    "## Setup"
   ]
  },
  {
   "cell_type": "code",
   "execution_count": 1,
   "id": "bb1b0acf-83b0-41e5-b93e-e820162c7468",
   "metadata": {},
   "outputs": [],
   "source": [
    "import numpy as np\n",
    "import random \n",
    "np.random.seed(2137)\n",
    "\n",
    "import torch\n",
    "import torch.nn as nn\n",
    "import torch.nn.functional as F\n",
    "import torch.optim as optim\n",
    "from torchvision import datasets, transforms\n",
    "from scipy.ndimage import rotate\n",
    "\n",
    "from art.estimators.encoding import PyTorchEncoder\n",
    "from art.attacks.evasion import HopSkipJump, BoundaryAttack\n",
    "from art.estimators.classification import PyTorchClassifier\n",
    "from art.defences.detector.evasion.black_box import MemoryQueue, BlackBoxDetector, NearestNeighborsWrapper, torch_contrastive_loss\n",
    "import matplotlib.pyplot as plt"
   ]
  },
  {
   "cell_type": "markdown",
   "id": "0a01d2e3-72bd-4dbb-a3bf-c475fc2829a9",
   "metadata": {},
   "source": [
    "## Get data"
   ]
  },
  {
   "cell_type": "code",
   "execution_count": 2,
   "id": "f1ce28c2-5a36-47ef-8a18-2a982c1785a8",
   "metadata": {},
   "outputs": [],
   "source": [
    "def get_dataset():\n",
    "    transform = transforms.Compose([\n",
    "        transforms.ToTensor(),\n",
    "    ])\n",
    "    train_ds = datasets.MNIST('./data', train=True, download=True, transform=transform)\n",
    "    test_ds = datasets.MNIST('./data', train=False, transform=transform)\n",
    "    return train_ds, test_ds"
   ]
  },
  {
   "cell_type": "code",
   "execution_count": 3,
   "id": "4beec60a-f94f-469f-ab7f-d12ff3bcae52",
   "metadata": {},
   "outputs": [
    {
     "name": "stderr",
     "output_type": "stream",
     "text": [
      "/Users/twardy/Code/studia/inzynierka/adversarial-robustness-toolbox/venv/lib/python3.7/site-packages/torchvision/datasets/mnist.py:498: UserWarning: The given NumPy array is not writeable, and PyTorch does not support non-writeable tensors. This means you can write to the underlying (supposedly non-writeable) NumPy array using the tensor. You may want to copy the array to protect its data or make it writeable before converting it to a tensor. This type of warning will be suppressed for the rest of this program. (Triggered internally at  ../torch/csrc/utils/tensor_numpy.cpp:180.)\n",
      "  return torch.from_numpy(parsed.astype(m[2], copy=False)).view(*s)\n"
     ]
    }
   ],
   "source": [
    "train_ds, test_ds = get_dataset()"
   ]
  },
  {
   "cell_type": "markdown",
   "id": "969db049-ab6a-423b-b512-ebc73a03e13a",
   "metadata": {},
   "source": [
    "## Get encoder"
   ]
  },
  {
   "cell_type": "code",
   "execution_count": 5,
   "id": "69662598-6c9f-4c6d-971c-b21245b9e7f0",
   "metadata": {
    "tags": []
   },
   "outputs": [
    {
     "data": {
      "text/plain": [
       "Encoder(\n",
       "  (fc1): Linear(in_features=784, out_features=128, bias=True)\n",
       "  (fc2): Linear(in_features=128, out_features=256, bias=True)\n",
       "  (drop): Dropout(p=0.125, inplace=False)\n",
       "  (fc3): Linear(in_features=256, out_features=64, bias=True)\n",
       ")"
      ]
     },
     "execution_count": 5,
     "metadata": {},
     "output_type": "execute_result"
    }
   ],
   "source": [
    "class Encoder(nn.Module):\n",
    "    def __init__(self):\n",
    "        super(Encoder, self).__init__()\n",
    "        self.fc1 = nn.Linear(28 * 28, 128)\n",
    "        self.fc2 = nn.Linear(128, 256)\n",
    "        self.drop = nn.Dropout(0.125)\n",
    "        self.fc3 = nn.Linear(256, 64)\n",
    "    \n",
    "    def forward(self, x):\n",
    "        x = x.view(-1, 28 * 28)\n",
    "        x = self.fc1(x)\n",
    "        x = self.drop(x)\n",
    "        x = self.fc2(x)\n",
    "        x = self.drop(x)\n",
    "        x = self.fc3(x)\n",
    "        return x\n",
    "    \n",
    "encoder_model = Encoder()\n",
    "encoder_model.load_state_dict(torch.load(\"models/encoder.model\"))\n",
    "encoder_model.eval()"
   ]
  },
  {
   "cell_type": "markdown",
   "id": "25b9d563-acb6-4059-87bd-657c511fd448",
   "metadata": {},
   "source": [
    "## Prepare classifier"
   ]
  },
  {
   "cell_type": "code",
   "execution_count": 14,
   "id": "30fc987c-1c7b-4508-978c-731486a10f8d",
   "metadata": {
    "tags": []
   },
   "outputs": [
    {
     "data": {
      "text/plain": [
       "Classifier(\n",
       "  (fc1): Linear(in_features=784, out_features=512, bias=True)\n",
       "  (drop): Dropout(p=0.5, inplace=False)\n",
       "  (fc2): Linear(in_features=512, out_features=10, bias=True)\n",
       ")"
      ]
     },
     "execution_count": 14,
     "metadata": {},
     "output_type": "execute_result"
    }
   ],
   "source": [
    "class Classifier(nn.Module):\n",
    "    def __init__(self):\n",
    "        super(Classifier, self).__init__()\n",
    "        self.fc1 = nn.Linear(28 * 28, 512)\n",
    "        self.drop = nn.Dropout(0.5)\n",
    "        self.fc2 = nn.Linear(512, 10)\n",
    "    \n",
    "    def forward(self, x):\n",
    "        x = x.view(-1, 28 * 28)\n",
    "        x = self.fc1(x)\n",
    "        x = self.drop(x)\n",
    "        x = self.fc2(x)\n",
    "        x = F.log_softmax(x, dim=-1)\n",
    "        return x\n",
    "\n",
    "classifier_model = Classifier()\n",
    "classifier_model.load_state_dict(torch.load(\"models/classifier.model\"))\n",
    "classifier_model.eval()"
   ]
  },
  {
   "cell_type": "code",
   "execution_count": 15,
   "id": "6f0cddab-bcea-4ed1-ad6f-166833b0cbdc",
   "metadata": {},
   "outputs": [],
   "source": [
    "classifier = PyTorchClassifier(\n",
    "    model=classifier_model,\n",
    "    loss=torch.nn.functional.nll_loss,\n",
    "    input_shape=(1, 28, 28),\n",
    "    nb_classes=10\n",
    ")"
   ]
  },
  {
   "cell_type": "markdown",
   "id": "74f82c9d-8104-4e9c-a7d2-e8763904b2fe",
   "metadata": {},
   "source": [
    "Classifier simple validation:"
   ]
  },
  {
   "cell_type": "code",
   "execution_count": 16,
   "id": "58c8defc-5da6-47dd-939c-249b14f4ab39",
   "metadata": {},
   "outputs": [
    {
     "data": {
      "text/plain": [
       "<matplotlib.image.AxesImage at 0x7fac960bbb90>"
      ]
     },
     "execution_count": 16,
     "metadata": {},
     "output_type": "execute_result"
    },
    {
     "data": {
      "image/png": "[encoded data removed]",
      "text/plain": [
       "<Figure size 432x288 with 1 Axes>"
      ]
     },
     "metadata": {
      "needs_background": "light"
     },
     "output_type": "display_data"
    }
   ],
   "source": [
    "example = test_ds.data[100].numpy()\n",
    "example = example.reshape(-1, 28, 28)\n",
    "plt.imshow(example[0], cmap=\"gray\")"
   ]
  },
  {
   "cell_type": "code",
   "execution_count": 17,
   "id": "0a5c5f4c-b56e-47e6-bdfc-9ef65367125d",
   "metadata": {},
   "outputs": [
    {
     "data": {
      "text/plain": [
       "6"
      ]
     },
     "execution_count": 17,
     "metadata": {},
     "output_type": "execute_result"
    }
   ],
   "source": [
    "np.argmax(classifier.predict(example))"
   ]
  },
  {
   "cell_type": "markdown",
   "id": "8b879826-cd8a-41f4-9c4e-c80ee41c1f73",
   "metadata": {},
   "source": [
    "## Detection"
   ]
  },
  {
   "cell_type": "code",
   "execution_count": 18,
   "id": "8f6cfc23-01ed-4b7b-bdc0-4e805c540a4c",
   "metadata": {},
   "outputs": [
    {
     "data": {
      "text/plain": [
       "<matplotlib.image.AxesImage at 0x7fac963364d0>"
      ]
     },
     "execution_count": 18,
     "metadata": {},
     "output_type": "execute_result"
    },
    {
     "data": {
      "image/png": "[encoded data removed]",
      "text/plain": [
       "<Figure size 432x288 with 1 Axes>"
      ]
     },
     "metadata": {
      "needs_background": "light"
     },
     "output_type": "display_data"
    }
   ],
   "source": [
    "target = test_ds.data[0].numpy()\n",
    "target = target.reshape(-1, 28, 28)\n",
    "plt.imshow(target[0], cmap=\"gray\")"
   ]
  },
  {
   "cell_type": "code",
   "execution_count": 19,
   "id": "8a6652f5-fe64-4a7d-88ea-5b2e268d999e",
   "metadata": {},
   "outputs": [],
   "source": [
    "encoder = PyTorchEncoder(model=encoder_model, input_shape=(1, 28, 28), encoding_length=64)"
   ]
  },
  {
   "cell_type": "code",
   "execution_count": 20,
   "id": "2974065f-de96-4544-80f0-b1f2d9484801",
   "metadata": {},
   "outputs": [],
   "source": [
    "k = 20\n",
    "threshold = 0.003\n",
    "max_size = 100\n",
    "MAX_QUERIES = 1000"
   ]
  },
  {
   "cell_type": "markdown",
   "id": "889246c5-5c01-4844-9e5c-5ec1e4011ac4",
   "metadata": {},
   "source": [
    "### HopSkipJump attack"
   ]
  },
  {
   "cell_type": "code",
   "execution_count": 21,
   "id": "ce371aa1-f1ba-4532-8f62-a70b712ffaf9",
   "metadata": {},
   "outputs": [],
   "source": [
    "attack = HopSkipJump(\n",
    "    classifier=classifier,\n",
    "    targeted=False,\n",
    "    max_iter=0,\n",
    "    max_eval=1,\n",
    "    init_eval=1\n",
    ")"
   ]
  },
  {
   "cell_type": "code",
   "execution_count": 22,
   "id": "82299cd4-4842-4376-8e4e-09ff64f99633",
   "metadata": {},
   "outputs": [],
   "source": [
    "queue = MemoryQueue(max_size=max_size, element_shape=(64,))\n",
    "knn = NearestNeighborsWrapper(k_neighbors=k, memory_queue=queue)\n",
    "detector = BlackBoxDetector(\n",
    "    similarity_encoder=encoder,\n",
    "    memory_queue=queue,\n",
    "    knn=knn,\n",
    "    detection_threshold=threshold\n",
    ")"
   ]
  },
  {
   "cell_type": "code",
   "execution_count": 27,
   "id": "7700d3df-284a-4175-91d4-578c7d7c104e",
   "metadata": {},
   "outputs": [
    {
     "data": {
      "application/vnd.jupyter.widget-view+json": {
       "model_id": "362b72b5d70647319cc241993c36026f",
       "version_major": 2,
       "version_minor": 0
      },
      "text/plain": [
       "Boundary attack:   0%|          | 0/1 [00:00<?, ?it/s]"
      ]
     },
     "metadata": {},
     "output_type": "display_data"
    },
    {
     "data": {
      "application/vnd.jupyter.widget-view+json": {
       "model_id": "31c8233167434f968832c310d53dde77",
       "version_major": 2,
       "version_minor": 0
      },
      "text/plain": [
       "Boundary attack - iterations:   0%|          | 0/1 [00:00<?, ?it/s]"
      ]
     },
     "metadata": {},
     "output_type": "display_data"
    },
    {
     "data": {
      "application/vnd.jupyter.widget-view+json": {
       "model_id": "b6f4e06a00af4769822ef644b4d926a2",
       "version_major": 2,
       "version_minor": 0
      },
      "text/plain": [
       "Boundary attack:   0%|          | 0/1 [00:00<?, ?it/s]"
      ]
     },
     "metadata": {},
     "output_type": "display_data"
    },
    {
     "data": {
      "application/vnd.jupyter.widget-view+json": {
       "model_id": "81569fc4a5d04309bce2f804da3b1eac",
       "version_major": 2,
       "version_minor": 0
      },
      "text/plain": [
       "Boundary attack - iterations:   0%|          | 0/1 [00:00<?, ?it/s]"
      ]
     },
     "metadata": {},
     "output_type": "display_data"
    },
    {
     "data": {
      "application/vnd.jupyter.widget-view+json": {
       "model_id": "51dcbee0976f40a3942391f9164601a8",
       "version_major": 2,
       "version_minor": 0
      },
      "text/plain": [
       "Boundary attack:   0%|          | 0/1 [00:00<?, ?it/s]"
      ]
     },
     "metadata": {},
     "output_type": "display_data"
    },
    {
     "data": {
      "application/vnd.jupyter.widget-view+json": {
       "model_id": "c362af8e2b4b4118a495fd184f0e105e",
       "version_major": 2,
       "version_minor": 0
      },
      "text/plain": [
       "Boundary attack - iterations:   0%|          | 0/1 [00:00<?, ?it/s]"
      ]
     },
     "metadata": {},
     "output_type": "display_data"
    },
    {
     "data": {
      "application/vnd.jupyter.widget-view+json": {
       "model_id": "63b478d25a5f4d07bea4c548e4415e87",
       "version_major": 2,
       "version_minor": 0
      },
      "text/plain": [
       "Boundary attack:   0%|          | 0/1 [00:00<?, ?it/s]"
      ]
     },
     "metadata": {},
     "output_type": "display_data"
    },
    {
     "data": {
      "application/vnd.jupyter.widget-view+json": {
       "model_id": "a2280e72f7d84615a4721e5aca5c4a0d",
       "version_major": 2,
       "version_minor": 0
      },
      "text/plain": [
       "Boundary attack - iterations:   0%|          | 0/1 [00:00<?, ?it/s]"
      ]
     },
     "metadata": {},
     "output_type": "display_data"
    },
    {
     "data": {
      "application/vnd.jupyter.widget-view+json": {
       "model_id": "cb2ce28610094b99a0bf63b1b1232c47",
       "version_major": 2,
       "version_minor": 0
      },
      "text/plain": [
       "Boundary attack:   0%|          | 0/1 [00:00<?, ?it/s]"
      ]
     },
     "metadata": {},
     "output_type": "display_data"
    },
    {
     "data": {
      "application/vnd.jupyter.widget-view+json": {
       "model_id": "8115f9510b044e9a829a111902528511",
       "version_major": 2,
       "version_minor": 0
      },
      "text/plain": [
       "Boundary attack - iterations:   0%|          | 0/1 [00:00<?, ?it/s]"
      ]
     },
     "metadata": {},
     "output_type": "display_data"
    },
    {
     "data": {
      "application/vnd.jupyter.widget-view+json": {
       "model_id": "2685a92bbe8844e0bdc88701ef78f0de",
       "version_major": 2,
       "version_minor": 0
      },
      "text/plain": [
       "Boundary attack:   0%|          | 0/1 [00:00<?, ?it/s]"
      ]
     },
     "metadata": {},
     "output_type": "display_data"
    },
    {
     "data": {
      "application/vnd.jupyter.widget-view+json": {
       "model_id": "f9cbc84ba86e4086bbf3e72f119b9c9d",
       "version_major": 2,
       "version_minor": 0
      },
      "text/plain": [
       "Boundary attack - iterations:   0%|          | 0/1 [00:00<?, ?it/s]"
      ]
     },
     "metadata": {},
     "output_type": "display_data"
    },
    {
     "data": {
      "application/vnd.jupyter.widget-view+json": {
       "model_id": "356114b652f44fa288dfde1c3527433b",
       "version_major": 2,
       "version_minor": 0
      },
      "text/plain": [
       "Boundary attack:   0%|          | 0/1 [00:00<?, ?it/s]"
      ]
     },
     "metadata": {},
     "output_type": "display_data"
    },
    {
     "data": {
      "application/vnd.jupyter.widget-view+json": {
       "model_id": "3920ce40404c4c3c95eced6c9273ace3",
       "version_major": 2,
       "version_minor": 0
      },
      "text/plain": [
       "Boundary attack - iterations:   0%|          | 0/1 [00:00<?, ?it/s]"
      ]
     },
     "metadata": {},
     "output_type": "display_data"
    },
    {
     "data": {
      "application/vnd.jupyter.widget-view+json": {
       "model_id": "69762330656943c39422db9db752109c",
       "version_major": 2,
       "version_minor": 0
      },
      "text/plain": [
       "Boundary attack:   0%|          | 0/1 [00:00<?, ?it/s]"
      ]
     },
     "metadata": {},
     "output_type": "display_data"
    },
    {
     "data": {
      "application/vnd.jupyter.widget-view+json": {
       "model_id": "b3a516ea7412456eaf8835bbdab0ee78",
       "version_major": 2,
       "version_minor": 0
      },
      "text/plain": [
       "Boundary attack - iterations:   0%|          | 0/1 [00:00<?, ?it/s]"
      ]
     },
     "metadata": {},
     "output_type": "display_data"
    },
    {
     "data": {
      "application/vnd.jupyter.widget-view+json": {
       "model_id": "8eca23a8000a45d28841cc946d56ed90",
       "version_major": 2,
       "version_minor": 0
      },
      "text/plain": [
       "Boundary attack:   0%|          | 0/1 [00:00<?, ?it/s]"
      ]
     },
     "metadata": {},
     "output_type": "display_data"
    },
    {
     "data": {
      "application/vnd.jupyter.widget-view+json": {
       "model_id": "fdbd40a8bf7e45c3ac5bff7e34b30a89",
       "version_major": 2,
       "version_minor": 0
      },
      "text/plain": [
       "Boundary attack - iterations:   0%|          | 0/1 [00:00<?, ?it/s]"
      ]
     },
     "metadata": {},
     "output_type": "display_data"
    },
    {
     "data": {
      "application/vnd.jupyter.widget-view+json": {
       "model_id": "66d9bee07b1c47448c07ab21765e271c",
       "version_major": 2,
       "version_minor": 0
      },
      "text/plain": [
       "Boundary attack:   0%|          | 0/1 [00:00<?, ?it/s]"
      ]
     },
     "metadata": {},
     "output_type": "display_data"
    },
    {
     "data": {
      "application/vnd.jupyter.widget-view+json": {
       "model_id": "e3b426fb73bc471792f3eabbd9f37dbe",
       "version_major": 2,
       "version_minor": 0
      },
      "text/plain": [
       "Boundary attack - iterations:   0%|          | 0/1 [00:00<?, ?it/s]"
      ]
     },
     "metadata": {},
     "output_type": "display_data"
    },
    {
     "data": {
      "application/vnd.jupyter.widget-view+json": {
       "model_id": "6b2c7d6fcd5f4b1885eec46605078914",
       "version_major": 2,
       "version_minor": 0
      },
      "text/plain": [
       "Boundary attack:   0%|          | 0/1 [00:00<?, ?it/s]"
      ]
     },
     "metadata": {},
     "output_type": "display_data"
    },
    {
     "data": {
      "application/vnd.jupyter.widget-view+json": {
       "model_id": "f55ca786ba984efbae777d383b645053",
       "version_major": 2,
       "version_minor": 0
      },
      "text/plain": [
       "Boundary attack - iterations:   0%|          | 0/1 [00:00<?, ?it/s]"
      ]
     },
     "metadata": {},
     "output_type": "display_data"
    },
    {
     "data": {
      "application/vnd.jupyter.widget-view+json": {
       "model_id": "08a053f2e4b04e1f9d708d102184c869",
       "version_major": 2,
       "version_minor": 0
      },
      "text/plain": [
       "Boundary attack:   0%|          | 0/1 [00:00<?, ?it/s]"
      ]
     },
     "metadata": {},
     "output_type": "display_data"
    },
    {
     "data": {
      "application/vnd.jupyter.widget-view+json": {
       "model_id": "e0ca60ed646b4d04a56f450572596611",
       "version_major": 2,
       "version_minor": 0
      },
      "text/plain": [
       "Boundary attack - iterations:   0%|          | 0/1 [00:00<?, ?it/s]"
      ]
     },
     "metadata": {},
     "output_type": "display_data"
    },
    {
     "data": {
      "application/vnd.jupyter.widget-view+json": {
       "model_id": "4705d3916eb349e882de22b2517e2cff",
       "version_major": 2,
       "version_minor": 0
      },
      "text/plain": [
       "Boundary attack:   0%|          | 0/1 [00:00<?, ?it/s]"
      ]
     },
     "metadata": {},
     "output_type": "display_data"
    },
    {
     "data": {
      "application/vnd.jupyter.widget-view+json": {
       "model_id": "5e9363b283b543eab7b6bd65f013e8af",
       "version_major": 2,
       "version_minor": 0
      },
      "text/plain": [
       "Boundary attack - iterations:   0%|          | 0/1 [00:00<?, ?it/s]"
      ]
     },
     "metadata": {},
     "output_type": "display_data"
    },
    {
     "data": {
      "application/vnd.jupyter.widget-view+json": {
       "model_id": "ab50ea660c0a4fefa0ff7eda13fde9ee",
       "version_major": 2,
       "version_minor": 0
      },
      "text/plain": [
       "Boundary attack:   0%|          | 0/1 [00:00<?, ?it/s]"
      ]
     },
     "metadata": {},
     "output_type": "display_data"
    },
    {
     "data": {
      "application/vnd.jupyter.widget-view+json": {
       "model_id": "b9b3b7562dd54218ba37cc08de2c51da",
       "version_major": 2,
       "version_minor": 0
      },
      "text/plain": [
       "Boundary attack - iterations:   0%|          | 0/1 [00:00<?, ?it/s]"
      ]
     },
     "metadata": {},
     "output_type": "display_data"
    },
    {
     "data": {
      "application/vnd.jupyter.widget-view+json": {
       "model_id": "0ac75a44e08c4b56b2bb4c8b44986d5f",
       "version_major": 2,
       "version_minor": 0
      },
      "text/plain": [
       "Boundary attack:   0%|          | 0/1 [00:00<?, ?it/s]"
      ]
     },
     "metadata": {},
     "output_type": "display_data"
    },
    {
     "data": {
      "application/vnd.jupyter.widget-view+json": {
       "model_id": "89958689a7cc464b89d1d4cd061d785d",
       "version_major": 2,
       "version_minor": 0
      },
      "text/plain": [
       "Boundary attack - iterations:   0%|          | 0/1 [00:00<?, ?it/s]"
      ]
     },
     "metadata": {},
     "output_type": "display_data"
    },
    {
     "data": {
      "application/vnd.jupyter.widget-view+json": {
       "model_id": "28a1055f9c974dd88dac709acb3a3ac5",
       "version_major": 2,
       "version_minor": 0
      },
      "text/plain": [
       "Boundary attack:   0%|          | 0/1 [00:00<?, ?it/s]"
      ]
     },
     "metadata": {},
     "output_type": "display_data"
    },
    {
     "data": {
      "application/vnd.jupyter.widget-view+json": {
       "model_id": "4d1c8b96440f4bcb8770e49ca12492a6",
       "version_major": 2,
       "version_minor": 0
      },
      "text/plain": [
       "Boundary attack - iterations:   0%|          | 0/1 [00:00<?, ?it/s]"
      ]
     },
     "metadata": {},
     "output_type": "display_data"
    },
    {
     "data": {
      "application/vnd.jupyter.widget-view+json": {
       "model_id": "16dfa6e275e943608b1ee8843dc6fbc2",
       "version_major": 2,
       "version_minor": 0
      },
      "text/plain": [
       "Boundary attack:   0%|          | 0/1 [00:00<?, ?it/s]"
      ]
     },
     "metadata": {},
     "output_type": "display_data"
    },
    {
     "data": {
      "application/vnd.jupyter.widget-view+json": {
       "model_id": "c75b5ee1f0394929906ce8cd8db028ce",
       "version_major": 2,
       "version_minor": 0
      },
      "text/plain": [
       "Boundary attack - iterations:   0%|          | 0/1 [00:00<?, ?it/s]"
      ]
     },
     "metadata": {},
     "output_type": "display_data"
    },
    {
     "data": {
      "application/vnd.jupyter.widget-view+json": {
       "model_id": "12e642bcc2d945a28575f2e3cd8be139",
       "version_major": 2,
       "version_minor": 0
      },
      "text/plain": [
       "Boundary attack:   0%|          | 0/1 [00:00<?, ?it/s]"
      ]
     },
     "metadata": {},
     "output_type": "display_data"
    },
    {
     "data": {
      "application/vnd.jupyter.widget-view+json": {
       "model_id": "50d3714e57d8429ab6551296e946e256",
       "version_major": 2,
       "version_minor": 0
      },
      "text/plain": [
       "Boundary attack - iterations:   0%|          | 0/1 [00:00<?, ?it/s]"
      ]
     },
     "metadata": {},
     "output_type": "display_data"
    },
    {
     "data": {
      "application/vnd.jupyter.widget-view+json": {
       "model_id": "161a6399592c4bd193867e70cef9081a",
       "version_major": 2,
       "version_minor": 0
      },
      "text/plain": [
       "Boundary attack:   0%|          | 0/1 [00:00<?, ?it/s]"
      ]
     },
     "metadata": {},
     "output_type": "display_data"
    },
    {
     "data": {
      "application/vnd.jupyter.widget-view+json": {
       "model_id": "08114362a65944e28785370bad5fbf5f",
       "version_major": 2,
       "version_minor": 0
      },
      "text/plain": [
       "Boundary attack - iterations:   0%|          | 0/1 [00:00<?, ?it/s]"
      ]
     },
     "metadata": {},
     "output_type": "display_data"
    },
    {
     "data": {
      "application/vnd.jupyter.widget-view+json": {
       "model_id": "88b220249bd249438a74f5a38549b2cc",
       "version_major": 2,
       "version_minor": 0
      },
      "text/plain": [
       "Boundary attack:   0%|          | 0/1 [00:00<?, ?it/s]"
      ]
     },
     "metadata": {},
     "output_type": "display_data"
    },
    {
     "data": {
      "application/vnd.jupyter.widget-view+json": {
       "model_id": "ca0695841fb94a8ca133d423fa564935",
       "version_major": 2,
       "version_minor": 0
      },
      "text/plain": [
       "Boundary attack - iterations:   0%|          | 0/1 [00:00<?, ?it/s]"
      ]
     },
     "metadata": {},
     "output_type": "display_data"
    },
    {
     "data": {
      "application/vnd.jupyter.widget-view+json": {
       "model_id": "157e7c4d77834358b008d675ba1a0d12",
       "version_major": 2,
       "version_minor": 0
      },
      "text/plain": [
       "Boundary attack:   0%|          | 0/1 [00:00<?, ?it/s]"
      ]
     },
     "metadata": {},
     "output_type": "display_data"
    },
    {
     "data": {
      "application/vnd.jupyter.widget-view+json": {
       "model_id": "27a74180aad745f3863eada3e80bba82",
       "version_major": 2,
       "version_minor": 0
      },
      "text/plain": [
       "Boundary attack - iterations:   0%|          | 0/1 [00:00<?, ?it/s]"
      ]
     },
     "metadata": {},
     "output_type": "display_data"
    },
    {
     "name": "stdout",
     "output_type": "stream",
     "text": [
      "L2 error 705.8544311523438, predicted class 3\n",
      "Is attack detected: False, adv example mean k-distance: 0.004042686428874731\n"
     ]
    },
    {
     "data": {
      "application/vnd.jupyter.widget-view+json": {
       "model_id": "97be5dbca751452b8a208dc8c693bb62",
       "version_major": 2,
       "version_minor": 0
      },
      "text/plain": [
       "Boundary attack:   0%|          | 0/1 [00:00<?, ?it/s]"
      ]
     },
     "metadata": {},
     "output_type": "display_data"
    },
    {
     "data": {
      "application/vnd.jupyter.widget-view+json": {
       "model_id": "cab038f8fbef42528251a8d6e68e0c19",
       "version_major": 2,
       "version_minor": 0
      },
      "text/plain": [
       "Boundary attack - iterations:   0%|          | 0/1 [00:00<?, ?it/s]"
      ]
     },
     "metadata": {},
     "output_type": "display_data"
    },
    {
     "name": "stdout",
     "output_type": "stream",
     "text": [
      "L2 error 694.8079833984375, predicted class 3\n",
      "Is attack detected: False, adv example mean k-distance: 0.004722310695797205\n"
     ]
    },
    {
     "data": {
      "application/vnd.jupyter.widget-view+json": {
       "model_id": "bd1a2f436e9a496995278da3364de93b",
       "version_major": 2,
       "version_minor": 0
      },
      "text/plain": [
       "Boundary attack:   0%|          | 0/1 [00:00<?, ?it/s]"
      ]
     },
     "metadata": {},
     "output_type": "display_data"
    },
    {
     "data": {
      "application/vnd.jupyter.widget-view+json": {
       "model_id": "52ad019f97014ccf8758d734484a8179",
       "version_major": 2,
       "version_minor": 0
      },
      "text/plain": [
       "Boundary attack - iterations:   0%|          | 0/1 [00:00<?, ?it/s]"
      ]
     },
     "metadata": {},
     "output_type": "display_data"
    },
    {
     "name": "stdout",
     "output_type": "stream",
     "text": [
      "L2 error 684.5, predicted class 3\n",
      "Is attack detected: True, adv example mean k-distance: 0.002908478258177638\n",
      "----------------------------------------------------------------------------------------------------\n",
      "Attack detected at iteration 22!\n"
     ]
    }
   ],
   "source": [
    "x_adv = None\n",
    "for i in range(MAX_QUERIES):\n",
    "    x_adv = attack.generate(x=np.array([target]), x_adv_init=x_adv, resume=True)\n",
    "    encoded_adv = encoder.predict(x_adv)\n",
    "    queue.extend(encoded_adv)\n",
    "    knn.update_memory()\n",
    "    # Wait until queue has minimum of \"K\" neighbours length\n",
    "    if i < k:\n",
    "        continue\n",
    "    # Here we are scaning the query\n",
    "    is_detected, distance = detector.scan(x_adv)\n",
    "    # Here we add new query to queue\n",
    "    encoded_adv = encoder.predict(x_adv)\n",
    "    queue.extend(encoded_adv)\n",
    "    knn.update_memory()\n",
    "    \n",
    "    print(f\"L2 error {np.linalg.norm(x_adv[0] - target)}, predicted class {np.argmax(classifier.predict(x_adv))}\")\n",
    "    print(f\"Is attack detected: {is_detected}, adv example mean k-distance: {distance}\")\n",
    "    if is_detected:\n",
    "        print(\"-\" * 100)\n",
    "        print(f\"Attack detected at iteration {i}!\")\n",
    "        break"
   ]
  },
  {
   "cell_type": "markdown",
   "id": "26ffcb73-a3a5-464a-80ad-e66b533af9b6",
   "metadata": {},
   "source": [
    "### Boundary attack"
   ]
  },
  {
   "cell_type": "code",
   "execution_count": 28,
   "id": "0d13f585-f479-412d-9b44-c2441df86575",
   "metadata": {},
   "outputs": [],
   "source": [
    "attack = BoundaryAttack(\n",
    "    estimator=classifier,\n",
    "    targeted=False,\n",
    "    max_iter=1,\n",
    "    delta=0.5,\n",
    "    epsilon=0.1\n",
    ")"
   ]
  },
  {
   "cell_type": "code",
   "execution_count": 29,
   "id": "72984483-6385-4c97-9809-2dc35797300c",
   "metadata": {
    "tags": []
   },
   "outputs": [],
   "source": [
    "queue = MemoryQueue(max_size=max_size, element_shape=(64,))\n",
    "knn = NearestNeighborsWrapper(k_neighbors=k, memory_queue=queue)\n",
    "detector = BlackBoxDetector(\n",
    "    similarity_encoder=encoder,\n",
    "    memory_queue=queue,\n",
    "    knn=knn,\n",
    "    detection_threshold=threshold\n",
    ")"
   ]
  },
  {
   "cell_type": "code",
   "execution_count": 30,
   "id": "2d5b72a2-8f8c-460f-9a12-3e636f836959",
   "metadata": {
    "tags": []
   },
   "outputs": [
    {
     "data": {
      "application/vnd.jupyter.widget-view+json": {
       "model_id": "63ac3db9e2d945ee949ef4c7c5fb1246",
       "version_major": 2,
       "version_minor": 0
      },
      "text/plain": [
       "Boundary attack:   0%|          | 0/1 [00:00<?, ?it/s]"
      ]
     },
     "metadata": {},
     "output_type": "display_data"
    },
    {
     "data": {
      "application/vnd.jupyter.widget-view+json": {
       "model_id": "9730bca084974c388ed64055fec50aef",
       "version_major": 2,
       "version_minor": 0
      },
      "text/plain": [
       "Boundary attack - iterations:   0%|          | 0/1 [00:00<?, ?it/s]"
      ]
     },
     "metadata": {},
     "output_type": "display_data"
    },
    {
     "data": {
      "application/vnd.jupyter.widget-view+json": {
       "model_id": "fdc4e33e3cfa4cf7b1519d1639bda770",
       "version_major": 2,
       "version_minor": 0
      },
      "text/plain": [
       "Boundary attack:   0%|          | 0/1 [00:00<?, ?it/s]"
      ]
     },
     "metadata": {},
     "output_type": "display_data"
    },
    {
     "data": {
      "application/vnd.jupyter.widget-view+json": {
       "model_id": "8e86cb5de4da47eb9d713fce7326d964",
       "version_major": 2,
       "version_minor": 0
      },
      "text/plain": [
       "Boundary attack - iterations:   0%|          | 0/1 [00:00<?, ?it/s]"
      ]
     },
     "metadata": {},
     "output_type": "display_data"
    },
    {
     "data": {
      "application/vnd.jupyter.widget-view+json": {
       "model_id": "44261d1c5c4241d5b6c06818026708ed",
       "version_major": 2,
       "version_minor": 0
      },
      "text/plain": [
       "Boundary attack:   0%|          | 0/1 [00:00<?, ?it/s]"
      ]
     },
     "metadata": {},
     "output_type": "display_data"
    },
    {
     "data": {
      "application/vnd.jupyter.widget-view+json": {
       "model_id": "ee205bbdffb74c3fa5d9ae833750c561",
       "version_major": 2,
       "version_minor": 0
      },
      "text/plain": [
       "Boundary attack - iterations:   0%|          | 0/1 [00:00<?, ?it/s]"
      ]
     },
     "metadata": {},
     "output_type": "display_data"
    },
    {
     "data": {
      "application/vnd.jupyter.widget-view+json": {
       "model_id": "289da1610cbf4eb3a8dc401222bf4f15",
       "version_major": 2,
       "version_minor": 0
      },
      "text/plain": [
       "Boundary attack:   0%|          | 0/1 [00:00<?, ?it/s]"
      ]
     },
     "metadata": {},
     "output_type": "display_data"
    },
    {
     "data": {
      "application/vnd.jupyter.widget-view+json": {
       "model_id": "4e2d237a3daf442fbf3a483b8b628d88",
       "version_major": 2,
       "version_minor": 0
      },
      "text/plain": [
       "Boundary attack - iterations:   0%|          | 0/1 [00:00<?, ?it/s]"
      ]
     },
     "metadata": {},
     "output_type": "display_data"
    },
    {
     "data": {
      "application/vnd.jupyter.widget-view+json": {
       "model_id": "c5399cd3e3a248e096e8650d1994015a",
       "version_major": 2,
       "version_minor": 0
      },
      "text/plain": [
       "Boundary attack:   0%|          | 0/1 [00:00<?, ?it/s]"
      ]
     },
     "metadata": {},
     "output_type": "display_data"
    },
    {
     "data": {
      "application/vnd.jupyter.widget-view+json": {
       "model_id": "06b658976c714f66acb48f037bd2f5b9",
       "version_major": 2,
       "version_minor": 0
      },
      "text/plain": [
       "Boundary attack - iterations:   0%|          | 0/1 [00:00<?, ?it/s]"
      ]
     },
     "metadata": {},
     "output_type": "display_data"
    },
    {
     "data": {
      "application/vnd.jupyter.widget-view+json": {
       "model_id": "1ce6b80dafff49b3bb51946d28f33565",
       "version_major": 2,
       "version_minor": 0
      },
      "text/plain": [
       "Boundary attack:   0%|          | 0/1 [00:00<?, ?it/s]"
      ]
     },
     "metadata": {},
     "output_type": "display_data"
    },
    {
     "data": {
      "application/vnd.jupyter.widget-view+json": {
       "model_id": "2903f442643143b2ab9d1a1dad9c8a25",
       "version_major": 2,
       "version_minor": 0
      },
      "text/plain": [
       "Boundary attack - iterations:   0%|          | 0/1 [00:00<?, ?it/s]"
      ]
     },
     "metadata": {},
     "output_type": "display_data"
    },
    {
     "data": {
      "application/vnd.jupyter.widget-view+json": {
       "model_id": "696ba5d6db2d4ae39feb6be2788b424a",
       "version_major": 2,
       "version_minor": 0
      },
      "text/plain": [
       "Boundary attack:   0%|          | 0/1 [00:00<?, ?it/s]"
      ]
     },
     "metadata": {},
     "output_type": "display_data"
    },
    {
     "data": {
      "application/vnd.jupyter.widget-view+json": {
       "model_id": "5e0312f1d4b34427b67635198d18e048",
       "version_major": 2,
       "version_minor": 0
      },
      "text/plain": [
       "Boundary attack - iterations:   0%|          | 0/1 [00:00<?, ?it/s]"
      ]
     },
     "metadata": {},
     "output_type": "display_data"
    },
    {
     "data": {
      "application/vnd.jupyter.widget-view+json": {
       "model_id": "4149ef51a7774ad5b90a60d9e0cc3c69",
       "version_major": 2,
       "version_minor": 0
      },
      "text/plain": [
       "Boundary attack:   0%|          | 0/1 [00:00<?, ?it/s]"
      ]
     },
     "metadata": {},
     "output_type": "display_data"
    },
    {
     "data": {
      "application/vnd.jupyter.widget-view+json": {
       "model_id": "a65801f4585c4818b6fee6c894daebc4",
       "version_major": 2,
       "version_minor": 0
      },
      "text/plain": [
       "Boundary attack - iterations:   0%|          | 0/1 [00:00<?, ?it/s]"
      ]
     },
     "metadata": {},
     "output_type": "display_data"
    },
    {
     "data": {
      "application/vnd.jupyter.widget-view+json": {
       "model_id": "c3926d65b7a44de4a7116bc868ba4961",
       "version_major": 2,
       "version_minor": 0
      },
      "text/plain": [
       "Boundary attack:   0%|          | 0/1 [00:00<?, ?it/s]"
      ]
     },
     "metadata": {},
     "output_type": "display_data"
    },
    {
     "data": {
      "application/vnd.jupyter.widget-view+json": {
       "model_id": "d6faf3a1b6a8476c9c0361e8d964f2f7",
       "version_major": 2,
       "version_minor": 0
      },
      "text/plain": [
       "Boundary attack - iterations:   0%|          | 0/1 [00:00<?, ?it/s]"
      ]
     },
     "metadata": {},
     "output_type": "display_data"
    },
    {
     "data": {
      "application/vnd.jupyter.widget-view+json": {
       "model_id": "e859728881ff4d608b8847793f9504a0",
       "version_major": 2,
       "version_minor": 0
      },
      "text/plain": [
       "Boundary attack:   0%|          | 0/1 [00:00<?, ?it/s]"
      ]
     },
     "metadata": {},
     "output_type": "display_data"
    },
    {
     "data": {
      "application/vnd.jupyter.widget-view+json": {
       "model_id": "6a178009b87246e783976b1fc6fe12e0",
       "version_major": 2,
       "version_minor": 0
      },
      "text/plain": [
       "Boundary attack - iterations:   0%|          | 0/1 [00:00<?, ?it/s]"
      ]
     },
     "metadata": {},
     "output_type": "display_data"
    },
    {
     "data": {
      "application/vnd.jupyter.widget-view+json": {
       "model_id": "b22157dec2af4795a064a7918aaf7aed",
       "version_major": 2,
       "version_minor": 0
      },
      "text/plain": [
       "Boundary attack:   0%|          | 0/1 [00:00<?, ?it/s]"
      ]
     },
     "metadata": {},
     "output_type": "display_data"
    },
    {
     "data": {
      "application/vnd.jupyter.widget-view+json": {
       "model_id": "ba92d87dbbd9423eb67feb80525048b4",
       "version_major": 2,
       "version_minor": 0
      },
      "text/plain": [
       "Boundary attack - iterations:   0%|          | 0/1 [00:00<?, ?it/s]"
      ]
     },
     "metadata": {},
     "output_type": "display_data"
    },
    {
     "data": {
      "application/vnd.jupyter.widget-view+json": {
       "model_id": "88c5bec9f8124c469457d729c5dc0ce9",
       "version_major": 2,
       "version_minor": 0
      },
      "text/plain": [
       "Boundary attack:   0%|          | 0/1 [00:00<?, ?it/s]"
      ]
     },
     "metadata": {},
     "output_type": "display_data"
    },
    {
     "data": {
      "application/vnd.jupyter.widget-view+json": {
       "model_id": "bef78ffa29bc49efb6a238a110bca873",
       "version_major": 2,
       "version_minor": 0
      },
      "text/plain": [
       "Boundary attack - iterations:   0%|          | 0/1 [00:00<?, ?it/s]"
      ]
     },
     "metadata": {},
     "output_type": "display_data"
    },
    {
     "data": {
      "application/vnd.jupyter.widget-view+json": {
       "model_id": "e0bbdb11aec849d0827d39da5b35c81b",
       "version_major": 2,
       "version_minor": 0
      },
      "text/plain": [
       "Boundary attack:   0%|          | 0/1 [00:00<?, ?it/s]"
      ]
     },
     "metadata": {},
     "output_type": "display_data"
    },
    {
     "data": {
      "application/vnd.jupyter.widget-view+json": {
       "model_id": "780a64198ae04146b6ff7a88a845475e",
       "version_major": 2,
       "version_minor": 0
      },
      "text/plain": [
       "Boundary attack - iterations:   0%|          | 0/1 [00:00<?, ?it/s]"
      ]
     },
     "metadata": {},
     "output_type": "display_data"
    },
    {
     "data": {
      "application/vnd.jupyter.widget-view+json": {
       "model_id": "693b9e86ec404f42a927b9d411ac77d9",
       "version_major": 2,
       "version_minor": 0
      },
      "text/plain": [
       "Boundary attack:   0%|          | 0/1 [00:00<?, ?it/s]"
      ]
     },
     "metadata": {},
     "output_type": "display_data"
    },
    {
     "data": {
      "application/vnd.jupyter.widget-view+json": {
       "model_id": "cd524456835044799112918822328d08",
       "version_major": 2,
       "version_minor": 0
      },
      "text/plain": [
       "Boundary attack - iterations:   0%|          | 0/1 [00:00<?, ?it/s]"
      ]
     },
     "metadata": {},
     "output_type": "display_data"
    },
    {
     "data": {
      "application/vnd.jupyter.widget-view+json": {
       "model_id": "761788cab20e4c05b0b47cbdfe6b14d2",
       "version_major": 2,
       "version_minor": 0
      },
      "text/plain": [
       "Boundary attack:   0%|          | 0/1 [00:00<?, ?it/s]"
      ]
     },
     "metadata": {},
     "output_type": "display_data"
    },
    {
     "data": {
      "application/vnd.jupyter.widget-view+json": {
       "model_id": "037f52cade624598a5727dcc47360271",
       "version_major": 2,
       "version_minor": 0
      },
      "text/plain": [
       "Boundary attack - iterations:   0%|          | 0/1 [00:00<?, ?it/s]"
      ]
     },
     "metadata": {},
     "output_type": "display_data"
    },
    {
     "data": {
      "application/vnd.jupyter.widget-view+json": {
       "model_id": "ac6b0fe7307d4bcd87c32a5eed5063ed",
       "version_major": 2,
       "version_minor": 0
      },
      "text/plain": [
       "Boundary attack:   0%|          | 0/1 [00:00<?, ?it/s]"
      ]
     },
     "metadata": {},
     "output_type": "display_data"
    },
    {
     "data": {
      "application/vnd.jupyter.widget-view+json": {
       "model_id": "4b100f59395b493398ada9b2b4c0b9f3",
       "version_major": 2,
       "version_minor": 0
      },
      "text/plain": [
       "Boundary attack - iterations:   0%|          | 0/1 [00:00<?, ?it/s]"
      ]
     },
     "metadata": {},
     "output_type": "display_data"
    },
    {
     "data": {
      "application/vnd.jupyter.widget-view+json": {
       "model_id": "b11dd4af82c74c8080d698935069e6be",
       "version_major": 2,
       "version_minor": 0
      },
      "text/plain": [
       "Boundary attack:   0%|          | 0/1 [00:00<?, ?it/s]"
      ]
     },
     "metadata": {},
     "output_type": "display_data"
    },
    {
     "data": {
      "application/vnd.jupyter.widget-view+json": {
       "model_id": "50b85279a79443eab89a3f918b1c6aab",
       "version_major": 2,
       "version_minor": 0
      },
      "text/plain": [
       "Boundary attack - iterations:   0%|          | 0/1 [00:00<?, ?it/s]"
      ]
     },
     "metadata": {},
     "output_type": "display_data"
    },
    {
     "data": {
      "application/vnd.jupyter.widget-view+json": {
       "model_id": "603a27058c7640e1b894a72bebd34519",
       "version_major": 2,
       "version_minor": 0
      },
      "text/plain": [
       "Boundary attack:   0%|          | 0/1 [00:00<?, ?it/s]"
      ]
     },
     "metadata": {},
     "output_type": "display_data"
    },
    {
     "data": {
      "application/vnd.jupyter.widget-view+json": {
       "model_id": "4d1b822b20a0423c9cbf62184305950f",
       "version_major": 2,
       "version_minor": 0
      },
      "text/plain": [
       "Boundary attack - iterations:   0%|          | 0/1 [00:00<?, ?it/s]"
      ]
     },
     "metadata": {},
     "output_type": "display_data"
    },
    {
     "data": {
      "application/vnd.jupyter.widget-view+json": {
       "model_id": "c47ce13269f54c20b29d268bbad75024",
       "version_major": 2,
       "version_minor": 0
      },
      "text/plain": [
       "Boundary attack:   0%|          | 0/1 [00:00<?, ?it/s]"
      ]
     },
     "metadata": {},
     "output_type": "display_data"
    },
    {
     "data": {
      "application/vnd.jupyter.widget-view+json": {
       "model_id": "8bdd4589240041d788b97855f14c9d95",
       "version_major": 2,
       "version_minor": 0
      },
      "text/plain": [
       "Boundary attack - iterations:   0%|          | 0/1 [00:00<?, ?it/s]"
      ]
     },
     "metadata": {},
     "output_type": "display_data"
    },
    {
     "data": {
      "application/vnd.jupyter.widget-view+json": {
       "model_id": "04bad56f06f14d9abf5d03b79c3529f9",
       "version_major": 2,
       "version_minor": 0
      },
      "text/plain": [
       "Boundary attack:   0%|          | 0/1 [00:00<?, ?it/s]"
      ]
     },
     "metadata": {},
     "output_type": "display_data"
    },
    {
     "data": {
      "application/vnd.jupyter.widget-view+json": {
       "model_id": "bf9c701c09eb413a9492156a472d41a9",
       "version_major": 2,
       "version_minor": 0
      },
      "text/plain": [
       "Boundary attack - iterations:   0%|          | 0/1 [00:00<?, ?it/s]"
      ]
     },
     "metadata": {},
     "output_type": "display_data"
    },
    {
     "data": {
      "application/vnd.jupyter.widget-view+json": {
       "model_id": "82bdb59e673b4b47949e70fbfdca2897",
       "version_major": 2,
       "version_minor": 0
      },
      "text/plain": [
       "Boundary attack:   0%|          | 0/1 [00:00<?, ?it/s]"
      ]
     },
     "metadata": {},
     "output_type": "display_data"
    },
    {
     "data": {
      "application/vnd.jupyter.widget-view+json": {
       "model_id": "57e038cd860743f18b1d06706a0b89b0",
       "version_major": 2,
       "version_minor": 0
      },
      "text/plain": [
       "Boundary attack - iterations:   0%|          | 0/1 [00:00<?, ?it/s]"
      ]
     },
     "metadata": {},
     "output_type": "display_data"
    },
    {
     "name": "stdout",
     "output_type": "stream",
     "text": [
      "L2 error 623.2171630859375, predicted class 3\n",
      "Is attack detected: False, adv example mean k-distance: 0.0731213241815567\n"
     ]
    },
    {
     "data": {
      "application/vnd.jupyter.widget-view+json": {
       "model_id": "1930b81e604f4c3e8f44af9b028a1a4c",
       "version_major": 2,
       "version_minor": 0
      },
      "text/plain": [
       "Boundary attack:   0%|          | 0/1 [00:00<?, ?it/s]"
      ]
     },
     "metadata": {},
     "output_type": "display_data"
    },
    {
     "data": {
      "application/vnd.jupyter.widget-view+json": {
       "model_id": "4736413bce674037adb37d43e9b6760f",
       "version_major": 2,
       "version_minor": 0
      },
      "text/plain": [
       "Boundary attack - iterations:   0%|          | 0/1 [00:00<?, ?it/s]"
      ]
     },
     "metadata": {},
     "output_type": "display_data"
    },
    {
     "name": "stdout",
     "output_type": "stream",
     "text": [
      "L2 error 613.63330078125, predicted class 3\n",
      "Is attack detected: False, adv example mean k-distance: 0.045636869966983795\n"
     ]
    },
    {
     "data": {
      "application/vnd.jupyter.widget-view+json": {
       "model_id": "09648fc1b34c4120ac67dc527843d006",
       "version_major": 2,
       "version_minor": 0
      },
      "text/plain": [
       "Boundary attack:   0%|          | 0/1 [00:00<?, ?it/s]"
      ]
     },
     "metadata": {},
     "output_type": "display_data"
    },
    {
     "data": {
      "application/vnd.jupyter.widget-view+json": {
       "model_id": "e862df6467e24024ba402319aa967e4e",
       "version_major": 2,
       "version_minor": 0
      },
      "text/plain": [
       "Boundary attack - iterations:   0%|          | 0/1 [00:00<?, ?it/s]"
      ]
     },
     "metadata": {},
     "output_type": "display_data"
    },
    {
     "name": "stdout",
     "output_type": "stream",
     "text": [
      "L2 error 599.9093017578125, predicted class 3\n",
      "Is attack detected: False, adv example mean k-distance: 0.028439398854970932\n"
     ]
    },
    {
     "data": {
      "application/vnd.jupyter.widget-view+json": {
       "model_id": "4074b9d544314f659906e43defffd154",
       "version_major": 2,
       "version_minor": 0
      },
      "text/plain": [
       "Boundary attack:   0%|          | 0/1 [00:00<?, ?it/s]"
      ]
     },
     "metadata": {},
     "output_type": "display_data"
    },
    {
     "data": {
      "application/vnd.jupyter.widget-view+json": {
       "model_id": "241346dafabd45aeb9c340c00615f089",
       "version_major": 2,
       "version_minor": 0
      },
      "text/plain": [
       "Boundary attack - iterations:   0%|          | 0/1 [00:00<?, ?it/s]"
      ]
     },
     "metadata": {},
     "output_type": "display_data"
    },
    {
     "name": "stdout",
     "output_type": "stream",
     "text": [
      "L2 error 588.8134765625, predicted class 3\n",
      "Is attack detected: False, adv example mean k-distance: 0.019358420744538307\n"
     ]
    },
    {
     "data": {
      "application/vnd.jupyter.widget-view+json": {
       "model_id": "be44cf440c434d809753d47cfb3987ab",
       "version_major": 2,
       "version_minor": 0
      },
      "text/plain": [
       "Boundary attack:   0%|          | 0/1 [00:00<?, ?it/s]"
      ]
     },
     "metadata": {},
     "output_type": "display_data"
    },
    {
     "data": {
      "application/vnd.jupyter.widget-view+json": {
       "model_id": "63f2978bfbb94fa791cdf47fcda0cc79",
       "version_major": 2,
       "version_minor": 0
      },
      "text/plain": [
       "Boundary attack - iterations:   0%|          | 0/1 [00:00<?, ?it/s]"
      ]
     },
     "metadata": {},
     "output_type": "display_data"
    },
    {
     "name": "stdout",
     "output_type": "stream",
     "text": [
      "L2 error 585.4185791015625, predicted class 3\n",
      "Is attack detected: False, adv example mean k-distance: 0.012997595593333244\n"
     ]
    },
    {
     "data": {
      "application/vnd.jupyter.widget-view+json": {
       "model_id": "339d43bf31ab4bc280ecd939c7096b15",
       "version_major": 2,
       "version_minor": 0
      },
      "text/plain": [
       "Boundary attack:   0%|          | 0/1 [00:00<?, ?it/s]"
      ]
     },
     "metadata": {},
     "output_type": "display_data"
    },
    {
     "data": {
      "application/vnd.jupyter.widget-view+json": {
       "model_id": "fb1c4f47280b4f8cb6ad753b7a20a94d",
       "version_major": 2,
       "version_minor": 0
      },
      "text/plain": [
       "Boundary attack - iterations:   0%|          | 0/1 [00:00<?, ?it/s]"
      ]
     },
     "metadata": {},
     "output_type": "display_data"
    },
    {
     "name": "stdout",
     "output_type": "stream",
     "text": [
      "L2 error 582.775634765625, predicted class 3\n",
      "Is attack detected: False, adv example mean k-distance: 0.008595745079219341\n"
     ]
    },
    {
     "data": {
      "application/vnd.jupyter.widget-view+json": {
       "model_id": "459045b2c6ca4e8d8ff83bdaa459db9d",
       "version_major": 2,
       "version_minor": 0
      },
      "text/plain": [
       "Boundary attack:   0%|          | 0/1 [00:00<?, ?it/s]"
      ]
     },
     "metadata": {},
     "output_type": "display_data"
    },
    {
     "data": {
      "application/vnd.jupyter.widget-view+json": {
       "model_id": "566d18a028944f3b8987c3cc1a897e42",
       "version_major": 2,
       "version_minor": 0
      },
      "text/plain": [
       "Boundary attack - iterations:   0%|          | 0/1 [00:00<?, ?it/s]"
      ]
     },
     "metadata": {},
     "output_type": "display_data"
    },
    {
     "name": "stdout",
     "output_type": "stream",
     "text": [
      "L2 error 578.376220703125, predicted class 3\n",
      "Is attack detected: False, adv example mean k-distance: 0.00866662710905075\n"
     ]
    },
    {
     "data": {
      "application/vnd.jupyter.widget-view+json": {
       "model_id": "af145493ed254ddf9bc70a40dd5709cb",
       "version_major": 2,
       "version_minor": 0
      },
      "text/plain": [
       "Boundary attack:   0%|          | 0/1 [00:00<?, ?it/s]"
      ]
     },
     "metadata": {},
     "output_type": "display_data"
    },
    {
     "data": {
      "application/vnd.jupyter.widget-view+json": {
       "model_id": "7546d45c8ae447c2a8c1f56002e20172",
       "version_major": 2,
       "version_minor": 0
      },
      "text/plain": [
       "Boundary attack - iterations:   0%|          | 0/1 [00:00<?, ?it/s]"
      ]
     },
     "metadata": {},
     "output_type": "display_data"
    },
    {
     "name": "stdout",
     "output_type": "stream",
     "text": [
      "L2 error 576.7111206054688, predicted class 3\n",
      "Is attack detected: False, adv example mean k-distance: 0.007158994674682617\n"
     ]
    },
    {
     "data": {
      "application/vnd.jupyter.widget-view+json": {
       "model_id": "5a64eb80017440d1af2fab635a275bb5",
       "version_major": 2,
       "version_minor": 0
      },
      "text/plain": [
       "Boundary attack:   0%|          | 0/1 [00:00<?, ?it/s]"
      ]
     },
     "metadata": {},
     "output_type": "display_data"
    },
    {
     "data": {
      "application/vnd.jupyter.widget-view+json": {
       "model_id": "3342e6d1fa7f448a8f2c7f3bfcf9cd34",
       "version_major": 2,
       "version_minor": 0
      },
      "text/plain": [
       "Boundary attack - iterations:   0%|          | 0/1 [00:00<?, ?it/s]"
      ]
     },
     "metadata": {},
     "output_type": "display_data"
    },
    {
     "name": "stdout",
     "output_type": "stream",
     "text": [
      "L2 error 574.8346557617188, predicted class 3\n",
      "Is attack detected: False, adv example mean k-distance: 0.005695591680705547\n"
     ]
    },
    {
     "data": {
      "application/vnd.jupyter.widget-view+json": {
       "model_id": "f8b09f5983ea46f1ad0618d79aeb862f",
       "version_major": 2,
       "version_minor": 0
      },
      "text/plain": [
       "Boundary attack:   0%|          | 0/1 [00:00<?, ?it/s]"
      ]
     },
     "metadata": {},
     "output_type": "display_data"
    },
    {
     "data": {
      "application/vnd.jupyter.widget-view+json": {
       "model_id": "c7f6394cc25541efae6926e6aecc8bd0",
       "version_major": 2,
       "version_minor": 0
      },
      "text/plain": [
       "Boundary attack - iterations:   0%|          | 0/1 [00:00<?, ?it/s]"
      ]
     },
     "metadata": {},
     "output_type": "display_data"
    },
    {
     "name": "stdout",
     "output_type": "stream",
     "text": [
      "L2 error 566.687255859375, predicted class 3\n",
      "Is attack detected: False, adv example mean k-distance: 0.0044965255074203014\n"
     ]
    },
    {
     "data": {
      "application/vnd.jupyter.widget-view+json": {
       "model_id": "756c82a3a57c48de8fd5a7090e9f52f8",
       "version_major": 2,
       "version_minor": 0
      },
      "text/plain": [
       "Boundary attack:   0%|          | 0/1 [00:00<?, ?it/s]"
      ]
     },
     "metadata": {},
     "output_type": "display_data"
    },
    {
     "data": {
      "application/vnd.jupyter.widget-view+json": {
       "model_id": "3c55ca3790184b56aec0e6bebbd3b834",
       "version_major": 2,
       "version_minor": 0
      },
      "text/plain": [
       "Boundary attack - iterations:   0%|          | 0/1 [00:00<?, ?it/s]"
      ]
     },
     "metadata": {},
     "output_type": "display_data"
    },
    {
     "name": "stdout",
     "output_type": "stream",
     "text": [
      "L2 error 562.029052734375, predicted class 3\n",
      "Is attack detected: False, adv example mean k-distance: 0.004802496172487736\n"
     ]
    },
    {
     "data": {
      "application/vnd.jupyter.widget-view+json": {
       "model_id": "011a1e282c4a47b38d1fb7323134bda8",
       "version_major": 2,
       "version_minor": 0
      },
      "text/plain": [
       "Boundary attack:   0%|          | 0/1 [00:00<?, ?it/s]"
      ]
     },
     "metadata": {},
     "output_type": "display_data"
    },
    {
     "data": {
      "application/vnd.jupyter.widget-view+json": {
       "model_id": "fa1a8699c30543c4b46bca122260ea37",
       "version_major": 2,
       "version_minor": 0
      },
      "text/plain": [
       "Boundary attack - iterations:   0%|          | 0/1 [00:00<?, ?it/s]"
      ]
     },
     "metadata": {},
     "output_type": "display_data"
    },
    {
     "name": "stdout",
     "output_type": "stream",
     "text": [
      "L2 error 560.3779907226562, predicted class 3\n",
      "Is attack detected: False, adv example mean k-distance: 0.0040712603367865086\n"
     ]
    },
    {
     "data": {
      "application/vnd.jupyter.widget-view+json": {
       "model_id": "d87048e388a14bc391a1239042fea03e",
       "version_major": 2,
       "version_minor": 0
      },
      "text/plain": [
       "Boundary attack:   0%|          | 0/1 [00:00<?, ?it/s]"
      ]
     },
     "metadata": {},
     "output_type": "display_data"
    },
    {
     "data": {
      "application/vnd.jupyter.widget-view+json": {
       "model_id": "81e6af50862a4d34a4444c5c9fadc83d",
       "version_major": 2,
       "version_minor": 0
      },
      "text/plain": [
       "Boundary attack - iterations:   0%|          | 0/1 [00:00<?, ?it/s]"
      ]
     },
     "metadata": {},
     "output_type": "display_data"
    },
    {
     "name": "stdout",
     "output_type": "stream",
     "text": [
      "L2 error 559.7966918945312, predicted class 3\n",
      "Is attack detected: False, adv example mean k-distance: 0.003235423471778631\n"
     ]
    },
    {
     "data": {
      "application/vnd.jupyter.widget-view+json": {
       "model_id": "69c23909287f4f6993316bcc3c9a83f1",
       "version_major": 2,
       "version_minor": 0
      },
      "text/plain": [
       "Boundary attack:   0%|          | 0/1 [00:00<?, ?it/s]"
      ]
     },
     "metadata": {},
     "output_type": "display_data"
    },
    {
     "data": {
      "application/vnd.jupyter.widget-view+json": {
       "model_id": "032f424249474dc695d9f7f959200b13",
       "version_major": 2,
       "version_minor": 0
      },
      "text/plain": [
       "Boundary attack - iterations:   0%|          | 0/1 [00:00<?, ?it/s]"
      ]
     },
     "metadata": {},
     "output_type": "display_data"
    },
    {
     "name": "stdout",
     "output_type": "stream",
     "text": [
      "L2 error 559.3011474609375, predicted class 3\n",
      "Is attack detected: True, adv example mean k-distance: 0.00237139780074358\n",
      "----------------------------------------------------------------------------------------------------\n",
      "Attack detected at iteration 33!\n"
     ]
    }
   ],
   "source": [
    "x_adv = None\n",
    "for i in range(MAX_QUERIES):\n",
    "    x_adv = attack.generate(x=np.array([target]), x_adv_init=x_adv, resume=True)\n",
    "    encoded_adv = encoder.predict(x_adv)\n",
    "    queue.extend(encoded_adv)\n",
    "    knn.update_memory()\n",
    "    # Wait until queue has minimum of \"K\" neighbours length\n",
    "    if i < k:\n",
    "        continue\n",
    "    # Here we are scaning the query\n",
    "    is_detected, distance = detector.scan(x_adv)\n",
    "    # Here we add new query to queue\n",
    "    encoded_adv = encoder.predict(x_adv)\n",
    "    queue.extend(encoded_adv)\n",
    "    knn.update_memory()\n",
    "    \n",
    "    print(f\"L2 error {np.linalg.norm(x_adv[0] - target)}, predicted class {np.argmax(classifier.predict(x_adv))}\")\n",
    "    print(f\"Is attack detected: {is_detected}, adv example mean k-distance: {distance}\")\n",
    "    if is_detected:\n",
    "        print(\"-\" * 100)\n",
    "        print(f\"Attack detected at iteration {i}!\")\n",
    "        break"
   ]
  },
  {
   "cell_type": "code",
   "execution_count": null,
   "id": "c3cef7f4-65c5-4deb-b54b-f5326233c7bf",
   "metadata": {},
   "outputs": [],
   "source": []
  }
 ],
 "metadata": {
  "kernelspec": {
   "display_name": "art",
   "language": "python",
   "name": "art"
  },
  "language_info": {
   "codemirror_mode": {
    "name": "ipython",
    "version": 3
   },
   "file_extension": ".py",
   "mimetype": "text/x-python",
   "name": "python",
   "nbconvert_exporter": "python",
   "pygments_lexer": "ipython3",
   "version": "3.7.9"
  }
 },
 "nbformat": 4,
 "nbformat_minor": 5
}
