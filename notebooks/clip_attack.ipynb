{
 "cells": [
  {
   "cell_type": "markdown",
   "id": "4e111634-8795-4707-b71e-9eb2df0eba78",
   "metadata": {},
   "source": [
    "<h1><center>Attacking CLIP for Image Classification</center></h1>\n",
    "In this notebook we show how to use the experimental tools in ART to attack the CLIP model.\n",
    "\n",
    "CLIP is a multimodal foundation model able to handle both images and text.\n",
    "Here we deomstrate how to attack the image recognition portion of CLIP so that it miscassifies a given input.\n"
   ]
  },
  {
   "cell_type": "code",
   "execution_count": 1,
   "id": "9da58be9-e228-4928-9f73-d146cbb3cc7a",
   "metadata": {},
   "outputs": [],
   "source": [
    "import numpy as np\n",
    "import torch\n",
    "\n",
    "from art.experimental.estimators.huggingface_multimodal import HuggingFaceMultiModalPyTorch, HuggingFaceMultiModalInput\n",
    "from art.experimental.attacks.evasion import CLIPProjectedGradientDescentNumpy\n",
    "\n",
    "# Image normalization numbers\n",
    "MEAN = np.asarray([0.48145466, 0.4578275, 0.40821073])\n",
    "STD = np.asarray([0.26862954, 0.26130258, 0.27577711])"
   ]
  },
  {
   "cell_type": "code",
   "execution_count": 2,
   "id": "a9fedf31-54cf-4615-aa30-c731f1b6ec25",
   "metadata": {},
   "outputs": [],
   "source": [
    "def get_data():\n",
    "    \"\"\"\n",
    "    We get sample data from the COCO dataset.\n",
    "    \"\"\"\n",
    "    from PIL import Image\n",
    "    import requests\n",
    "    \n",
    "    image_list = ['000000039769.jpg',\n",
    "                  '000000000285.jpg',\n",
    "                  '000000002006.jpg',\n",
    "                  '000000002149.jpg']\n",
    "\n",
    "    # Freetext description of the content of the classes we will try and sort the pictures into.\n",
    "    text = [\"a photo of a cat\", \"a photo of a bear\", \"a photo of a car\", \"a photo of a bus\", \"apples\"]\n",
    "\n",
    "    # Ground truth labels mapping the images into one of the free-text categories. \n",
    "    # Note, we do not have an image of a car in this sample of data\n",
    "    labels = torch.tensor(np.asarray([0, 1, 3, 4]))\n",
    "\n",
    "    input_list = []\n",
    "    for fname in image_list:\n",
    "        url = 'http://images.cocodataset.org/val2017/' + fname\n",
    "        input_list.append(Image.open(requests.get(url, stream=True).raw))\n",
    "\n",
    "    return input_list, text, labels"
   ]
  },
  {
   "cell_type": "code",
   "execution_count": 3,
   "id": "c361f642-e60f-4aa1-8368-5b320fbc432d",
   "metadata": {},
   "outputs": [],
   "source": [
    "input_list, text, labels = get_data()"
   ]
  },
  {
   "cell_type": "code",
   "execution_count": 4,
   "id": "baa53f63-eae8-44f0-ad97-df5d67d6119c",
   "metadata": {},
   "outputs": [],
   "source": [
    "def norm_bound_eps(eps_bound=None):\n",
    "    \"\"\"\n",
    "    Helper function to normalise the l_infinity bounds from 0 - 1 into z normalization.\n",
    "    \"\"\"\n",
    "    if eps_bound is None:\n",
    "        eps_bound = np.asarray([8 / 255, 8 / 255, 8 / 255])\n",
    "    eps_bound = np.abs(eps_bound / STD)\n",
    "    return eps_bound"
   ]
  },
  {
   "cell_type": "code",
   "execution_count": 5,
   "id": "557624e0-3446-4f74-bc8f-383783e49c9d",
   "metadata": {},
   "outputs": [],
   "source": [
    "def attack(input_list, text, labels):\n",
    "    \"\"\"\n",
    "    We now attack the clip model by perturbing the input images using ARTs tools.\n",
    "    \"\"\"\n",
    "    from transformers import CLIPProcessor, CLIPModel\n",
    "\n",
    "    model = CLIPModel.from_pretrained(\"openai/clip-vit-base-patch32\")\n",
    "    processor = CLIPProcessor.from_pretrained(\"openai/clip-vit-base-patch32\")\n",
    "\n",
    "    loss_fn = torch.nn.CrossEntropyLoss()\n",
    "    inputs = processor(text=text, images=input_list, return_tensors=\"pt\", padding=True)\n",
    "    original_images = []\n",
    "    for i in range(3):\n",
    "        original_images.append(inputs[\"pixel_values\"][i].clone().cpu().detach().numpy())\n",
    "    original_images = np.concatenate(original_images)\n",
    "\n",
    "    art_classifier = HuggingFaceMultiModalPyTorch(\n",
    "        model, \n",
    "        loss=loss_fn,\n",
    "        clip_values=(np.min(original_images), np.max(original_images)), \n",
    "        input_shape=(3, 224, 224)\n",
    "    )\n",
    "\n",
    "    art_input = HuggingFaceMultiModalInput(**inputs)\n",
    "    clean_preds = art_classifier.predict(art_input)\n",
    "\n",
    "    clean_acc = np.sum(np.argmax(clean_preds, axis=1) == labels.cpu().detach().numpy()) / len(labels)\n",
    "    print('The clean accuracy is ', clean_acc)\n",
    "\n",
    "    attack = CLIPProjectedGradientDescentNumpy(\n",
    "        art_classifier,\n",
    "        max_iter=10,\n",
    "        eps=np.ones((3, 224, 224)) * np.reshape(norm_bound_eps(), (3, 1, 1)),\n",
    "        eps_step=np.ones((3, 224, 224)) * 0.1,\n",
    "    )\n",
    "    x_adv = attack.generate(art_input, labels)\n",
    "    adv_preds = art_classifier.predict(x_adv)\n",
    "    adv_acc = np.sum(np.argmax(adv_preds, axis=1) == labels.cpu().detach().numpy()) / len(labels)\n",
    "\n",
    "    print('The adversarial accuracy is ', adv_acc)\n"
   ]
  },
  {
   "cell_type": "code",
   "execution_count": 6,
   "id": "5f011a60-2381-4d3f-866a-a39ae2279dde",
   "metadata": {},
   "outputs": [
    {
     "name": "stderr",
     "output_type": "stream",
     "text": [
      "2023-11-30 09:48:11.240678: I tensorflow/core/platform/cpu_feature_guard.cc:193] This TensorFlow binary is optimized with oneAPI Deep Neural Network Library (oneDNN) to use the following CPU instructions in performance-critical operations:  AVX2 FMA\n",
      "To enable them in other operations, rebuild TensorFlow with the appropriate compiler flags.\n"
     ]
    },
    {
     "name": "stdout",
     "output_type": "stream",
     "text": [
      "huggingface/tokenizers: The current process just got forked, after parallelism has already been used. Disabling parallelism to avoid deadlocks...\n",
      "To disable this warning, you can either:\n",
      "\t- Avoid using `tokenizers` before the fork if possible\n",
      "\t- Explicitly set the environment variable TOKENIZERS_PARALLELISM=(true | false)\n"
     ]
    },
    {
     "name": "stderr",
     "output_type": "stream",
     "text": [
      "100%|███████████████████████████████████████████████████████████████████████████████████████████████████████████████████████████████████████████████████████████████████████████████████████████████████████████████████████████████████████| 1/1 [00:00<00:00,  1.70it/s]"
     ]
    },
    {
     "name": "stdout",
     "output_type": "stream",
     "text": [
      "The clean accuracy is  1.0\n"
     ]
    },
    {
     "name": "stderr",
     "output_type": "stream",
     "text": [
      "\n"
     ]
    },
    {
     "data": {
      "application/vnd.jupyter.widget-view+json": {
       "model_id": "d733d074704040ec8eb12855556f4922",
       "version_major": 2,
       "version_minor": 0
      },
      "text/plain": [
       "PGD - Iterations:   0%|          | 0/10 [00:00<?, ?it/s]"
      ]
     },
     "metadata": {},
     "output_type": "display_data"
    },
    {
     "name": "stderr",
     "output_type": "stream",
     "text": [
      "100%|███████████████████████████████████████████████████████████████████████████████████████████████████████████████████████████████████████████████████████████████████████████████████████████████████████████████████████████████████████| 1/1 [00:00<00:00,  1.95it/s]"
     ]
    },
    {
     "name": "stdout",
     "output_type": "stream",
     "text": [
      "The adversarial accuracy is  0.0\n"
     ]
    },
    {
     "name": "stderr",
     "output_type": "stream",
     "text": [
      "\n"
     ]
    }
   ],
   "source": [
    "# Running the attack we see the performance drop from 100% to 0%.\n",
    "attack(input_list, text, labels)"
   ]
  },
  {
   "cell_type": "code",
   "execution_count": null,
   "id": "031a35b7",
   "metadata": {},
   "outputs": [],
   "source": []
  }
 ],
 "metadata": {
  "kernelspec": {
   "display_name": "Python 3 (ipykernel)",
   "language": "python",
   "name": "python3"
  },
  "language_info": {
   "codemirror_mode": {
    "name": "ipython",
    "version": 3
   },
   "file_extension": ".py",
   "mimetype": "text/x-python",
   "name": "python",
   "nbconvert_exporter": "python",
   "pygments_lexer": "ipython3",
   "version": "3.8.10"
  }
 },
 "nbformat": 4,
 "nbformat_minor": 5
}
