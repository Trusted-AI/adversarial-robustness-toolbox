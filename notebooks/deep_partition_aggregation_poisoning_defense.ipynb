{
 "cells": [
  {
   "cell_type": "code",
   "execution_count": 1,
   "id": "fc895cf7",
   "metadata": {},
   "outputs": [],
   "source": [
    "from __future__ import absolute_import, division, print_function, unicode_literals\n",
    "\n",
    "import os, sys\n",
    "from os.path import abspath\n",
    "\n",
    "module_path = os.path.abspath(os.path.join('..'))\n",
    "if module_path not in sys.path:\n",
    "    sys.path.append(module_path)\n",
    "\n",
    "import warnings\n",
    "warnings.filterwarnings('ignore')\n",
    "import keras.backend as k\n",
    "from keras.models import Sequential\n",
    "from keras.layers import Dense, Flatten, Conv2D, MaxPooling2D, Activation, Dropout\n",
    "import numpy as np\n",
    "import matplotlib.pyplot as plt\n",
    "%matplotlib inline\n",
    "\n",
    "import tensorflow as tf\n",
    "tf.compat.v1.disable_eager_execution()\n",
    "tf.get_logger().setLevel('ERROR')\n",
    "\n",
    "from art.estimators.classification import KerasClassifier\n",
    "from art.attacks.poisoning import PoisoningAttackBackdoor, PoisoningAttackCleanLabelBackdoor\n",
    "from art.attacks.poisoning.perturbations import add_pattern_bd\n",
    "from art.utils import load_mnist, preprocess, to_categorical\n",
    "from art.defences.trainer import AdversarialTrainerMadryPGD\n",
    "\n",
    "\n",
    "from art.estimators.classification.deep_partition_ensemble import DeepPartitionEnsemble"
   ]
  },
  {
   "cell_type": "markdown",
   "id": "1816da6f",
   "metadata": {},
   "source": [
    "# Load the Data"
   ]
  },
  {
   "cell_type": "code",
   "execution_count": 2,
   "id": "fdd77e03",
   "metadata": {},
   "outputs": [],
   "source": [
    "(x_raw, y_raw), (x_raw_test, y_raw_test), min_, max_ = load_mnist(raw=True)\n",
    "\n",
    "# Random Selection:\n",
    "n_train = np.shape(x_raw)[0]\n",
    "num_selection = 10000\n",
    "random_selection_indices = np.random.choice(n_train, num_selection)\n",
    "x_raw = x_raw[random_selection_indices]\n",
    "y_raw = y_raw[random_selection_indices]\n",
    "\n",
    "# Poison training data\n",
    "percent_poison = .33\n",
    "x_train, y_train = preprocess(x_raw, y_raw)\n",
    "x_train = np.expand_dims(x_train, axis=3)\n",
    "\n",
    "x_test, y_test = preprocess(x_raw_test, y_raw_test)\n",
    "x_test = np.expand_dims(x_test, axis=3)\n",
    "\n",
    "# Shuffle training data\n",
    "n_train = np.shape(y_train)[0]\n",
    "shuffled_indices = np.arange(n_train)\n",
    "np.random.shuffle(shuffled_indices)\n",
    "x_train = x_train[shuffled_indices]\n",
    "y_train = y_train[shuffled_indices]"
   ]
  },
  {
   "cell_type": "markdown",
   "id": "9b1eb1c0",
   "metadata": {},
   "source": [
    "# Initialize the Model Architecture"
   ]
  },
  {
   "cell_type": "code",
   "execution_count": 3,
   "id": "7c0c7c1a",
   "metadata": {},
   "outputs": [],
   "source": [
    "# Create Keras convolutional neural network - basic architecture from Keras examples\n",
    "# Source here: https://github.com/keras-team/keras/blob/master/examples/mnist_cnn.py\n",
    "def create_model():    \n",
    "    model = Sequential()\n",
    "    model.add(Conv2D(32, kernel_size=(3, 3), activation='relu', input_shape=x_train.shape[1:]))\n",
    "    model.add(Conv2D(64, (3, 3), activation='relu'))\n",
    "    model.add(MaxPooling2D(pool_size=(2, 2)))\n",
    "    model.add(Dropout(0.25))\n",
    "    model.add(Flatten())\n",
    "    model.add(Dense(128, activation='relu'))\n",
    "    model.add(Dropout(0.5))\n",
    "    model.add(Dense(10, activation='softmax'))\n",
    "\n",
    "    model.compile(loss='categorical_crossentropy', optimizer='adam', metrics=['accuracy'])\n",
    "    return model"
   ]
  },
  {
   "cell_type": "markdown",
   "id": "1b6b105a",
   "metadata": {},
   "source": [
    "# Set up the Model Backdoor"
   ]
  },
  {
   "cell_type": "code",
   "execution_count": 4,
   "id": "43b4b127",
   "metadata": {},
   "outputs": [
    {
     "data": {
      "text/plain": [
       "<matplotlib.image.AxesImage at 0x7f5804358b50>"
      ]
     },
     "execution_count": 4,
     "metadata": {},
     "output_type": "execute_result"
    },
    {
     "data": {
      "image/png": "[encoded data removed]",
      "text/plain": [
       "<Figure size 432x288 with 1 Axes>"
      ]
     },
     "metadata": {
      "needs_background": "light"
     },
     "output_type": "display_data"
    }
   ],
   "source": [
    "backdoor = PoisoningAttackBackdoor(add_pattern_bd)\n",
    "example_target = np.array([0, 0, 0, 0, 0, 0, 0, 0, 0, 1])\n",
    "pdata, plabels = backdoor.poison(x_test, y=example_target)\n",
    "\n",
    "plt.imshow(pdata[0].squeeze())"
   ]
  },
  {
   "cell_type": "markdown",
   "id": "6ffec3ec",
   "metadata": {},
   "source": [
    "# Create the poison data\n",
    "For this example, we will select 9 as the target class. Thus, the adversary's goal is to poison the model so adding a trigger will result in the trained model misclassifying the triggered input as a 9.\n",
    "\n",
    "First, the adversary will create a proxy classifier (i.e., a classifier that is similar to the target classifier). As the clean label attack generates noise using PGD in order to encourage the trained classifier to rely on the trigger, it is important that the generated noise be transferable. Thus, adversarial training is used."
   ]
  },
  {
   "cell_type": "code",
   "execution_count": 5,
   "id": "7aac5f5c",
   "metadata": {},
   "outputs": [
    {
     "data": {
      "application/vnd.jupyter.widget-view+json": {
       "model_id": "7c0e3b454f6b44dda6550029f5373344",
       "version_major": 2,
       "version_minor": 0
      },
      "text/plain": [
       "Precompute adv samples:   0%|          | 0/1 [00:00<?, ?it/s]"
      ]
     },
     "metadata": {},
     "output_type": "display_data"
    },
    {
     "data": {
      "application/vnd.jupyter.widget-view+json": {
       "model_id": "3220bd5aefab498cb7e4f928ea80b323",
       "version_major": 2,
       "version_minor": 0
      },
      "text/plain": [
       "Adversarial training epochs:   0%|          | 0/10 [00:00<?, ?it/s]"
      ]
     },
     "metadata": {},
     "output_type": "display_data"
    }
   ],
   "source": [
    "# Poison some percentage of all non-nines to nines\n",
    "targets = to_categorical([9], 10)[0] \n",
    "\n",
    "proxy = AdversarialTrainerMadryPGD(KerasClassifier(create_model()), nb_epochs=10, eps=0.15, eps_step=0.001)\n",
    "proxy.fit(x_train, y_train)"
   ]
  },
  {
   "cell_type": "code",
   "execution_count": 6,
   "id": "46364ff1",
   "metadata": {},
   "outputs": [
    {
     "data": {
      "application/vnd.jupyter.widget-view+json": {
       "model_id": "40367e586f8b4cdc9bc8760333de5b0c",
       "version_major": 2,
       "version_minor": 0
      },
      "text/plain": [
       "PGD - Random Initializations:   0%|          | 0/1 [00:00<?, ?it/s]"
      ]
     },
     "metadata": {},
     "output_type": "display_data"
    },
    {
     "data": {
      "application/vnd.jupyter.widget-view+json": {
       "model_id": "",
       "version_major": 2,
       "version_minor": 0
      },
      "text/plain": [
       "PGD - Iterations:   0%|          | 0/200 [00:00<?, ?it/s]"
      ]
     },
     "metadata": {},
     "output_type": "display_data"
    },
    {
     "data": {
      "application/vnd.jupyter.widget-view+json": {
       "model_id": "e79c92623e0b4432aa885ea9c6773eba",
       "version_major": 2,
       "version_minor": 0
      },
      "text/plain": [
       "PGD - Random Initializations:   0%|          | 0/1 [00:00<?, ?it/s]"
      ]
     },
     "metadata": {},
     "output_type": "display_data"
    },
    {
     "data": {
      "application/vnd.jupyter.widget-view+json": {
       "model_id": "",
       "version_major": 2,
       "version_minor": 0
      },
      "text/plain": [
       "PGD - Iterations:   0%|          | 0/200 [00:00<?, ?it/s]"
      ]
     },
     "metadata": {},
     "output_type": "display_data"
    },
    {
     "data": {
      "application/vnd.jupyter.widget-view+json": {
       "model_id": "71f4c9be07be4cbcb1349c694b20d3e0",
       "version_major": 2,
       "version_minor": 0
      },
      "text/plain": [
       "PGD - Random Initializations:   0%|          | 0/1 [00:00<?, ?it/s]"
      ]
     },
     "metadata": {},
     "output_type": "display_data"
    },
    {
     "data": {
      "application/vnd.jupyter.widget-view+json": {
       "model_id": "",
       "version_major": 2,
       "version_minor": 0
      },
      "text/plain": [
       "PGD - Iterations:   0%|          | 0/200 [00:00<?, ?it/s]"
      ]
     },
     "metadata": {},
     "output_type": "display_data"
    },
    {
     "data": {
      "application/vnd.jupyter.widget-view+json": {
       "model_id": "679846e8da44433a88f2cc662dfbe45c",
       "version_major": 2,
       "version_minor": 0
      },
      "text/plain": [
       "PGD - Random Initializations:   0%|          | 0/1 [00:00<?, ?it/s]"
      ]
     },
     "metadata": {},
     "output_type": "display_data"
    },
    {
     "data": {
      "application/vnd.jupyter.widget-view+json": {
       "model_id": "",
       "version_major": 2,
       "version_minor": 0
      },
      "text/plain": [
       "PGD - Iterations:   0%|          | 0/200 [00:00<?, ?it/s]"
      ]
     },
     "metadata": {},
     "output_type": "display_data"
    },
    {
     "data": {
      "application/vnd.jupyter.widget-view+json": {
       "model_id": "5b75bebee7f34f5ea4c168e90cb3157b",
       "version_major": 2,
       "version_minor": 0
      },
      "text/plain": [
       "PGD - Random Initializations:   0%|          | 0/1 [00:00<?, ?it/s]"
      ]
     },
     "metadata": {},
     "output_type": "display_data"
    },
    {
     "data": {
      "application/vnd.jupyter.widget-view+json": {
       "model_id": "",
       "version_major": 2,
       "version_minor": 0
      },
      "text/plain": [
       "PGD - Iterations:   0%|          | 0/200 [00:00<?, ?it/s]"
      ]
     },
     "metadata": {},
     "output_type": "display_data"
    },
    {
     "data": {
      "application/vnd.jupyter.widget-view+json": {
       "model_id": "414a7055fc06490486d05fb16f96af60",
       "version_major": 2,
       "version_minor": 0
      },
      "text/plain": [
       "PGD - Random Initializations:   0%|          | 0/1 [00:00<?, ?it/s]"
      ]
     },
     "metadata": {},
     "output_type": "display_data"
    },
    {
     "data": {
      "application/vnd.jupyter.widget-view+json": {
       "model_id": "",
       "version_major": 2,
       "version_minor": 0
      },
      "text/plain": [
       "PGD - Iterations:   0%|          | 0/200 [00:00<?, ?it/s]"
      ]
     },
     "metadata": {},
     "output_type": "display_data"
    },
    {
     "data": {
      "application/vnd.jupyter.widget-view+json": {
       "model_id": "1f4a03f65c47483cbb2c29757642e77d",
       "version_major": 2,
       "version_minor": 0
      },
      "text/plain": [
       "PGD - Random Initializations:   0%|          | 0/1 [00:00<?, ?it/s]"
      ]
     },
     "metadata": {},
     "output_type": "display_data"
    },
    {
     "data": {
      "application/vnd.jupyter.widget-view+json": {
       "model_id": "",
       "version_major": 2,
       "version_minor": 0
      },
      "text/plain": [
       "PGD - Iterations:   0%|          | 0/200 [00:00<?, ?it/s]"
      ]
     },
     "metadata": {},
     "output_type": "display_data"
    },
    {
     "data": {
      "application/vnd.jupyter.widget-view+json": {
       "model_id": "7e56a19302174b948f511a10aad866d2",
       "version_major": 2,
       "version_minor": 0
      },
      "text/plain": [
       "PGD - Random Initializations:   0%|          | 0/1 [00:00<?, ?it/s]"
      ]
     },
     "metadata": {},
     "output_type": "display_data"
    },
    {
     "data": {
      "application/vnd.jupyter.widget-view+json": {
       "model_id": "",
       "version_major": 2,
       "version_minor": 0
      },
      "text/plain": [
       "PGD - Iterations:   0%|          | 0/200 [00:00<?, ?it/s]"
      ]
     },
     "metadata": {},
     "output_type": "display_data"
    },
    {
     "data": {
      "application/vnd.jupyter.widget-view+json": {
       "model_id": "06361373b9934161abf52c6f9d046e24",
       "version_major": 2,
       "version_minor": 0
      },
      "text/plain": [
       "PGD - Random Initializations:   0%|          | 0/1 [00:00<?, ?it/s]"
      ]
     },
     "metadata": {},
     "output_type": "display_data"
    },
    {
     "data": {
      "application/vnd.jupyter.widget-view+json": {
       "model_id": "",
       "version_major": 2,
       "version_minor": 0
      },
      "text/plain": [
       "PGD - Iterations:   0%|          | 0/200 [00:00<?, ?it/s]"
      ]
     },
     "metadata": {},
     "output_type": "display_data"
    },
    {
     "data": {
      "application/vnd.jupyter.widget-view+json": {
       "model_id": "98049ed5aaed4199b7089d6697213f92",
       "version_major": 2,
       "version_minor": 0
      },
      "text/plain": [
       "PGD - Random Initializations:   0%|          | 0/1 [00:00<?, ?it/s]"
      ]
     },
     "metadata": {},
     "output_type": "display_data"
    },
    {
     "data": {
      "application/vnd.jupyter.widget-view+json": {
       "model_id": "",
       "version_major": 2,
       "version_minor": 0
      },
      "text/plain": [
       "PGD - Iterations:   0%|          | 0/200 [00:00<?, ?it/s]"
      ]
     },
     "metadata": {},
     "output_type": "display_data"
    },
    {
     "data": {
      "application/vnd.jupyter.widget-view+json": {
       "model_id": "f46716ca85034fd0aa1b5f9d181bd8d0",
       "version_major": 2,
       "version_minor": 0
      },
      "text/plain": [
       "PGD - Random Initializations:   0%|          | 0/1 [00:00<?, ?it/s]"
      ]
     },
     "metadata": {},
     "output_type": "display_data"
    },
    {
     "data": {
      "application/vnd.jupyter.widget-view+json": {
       "model_id": "",
       "version_major": 2,
       "version_minor": 0
      },
      "text/plain": [
       "PGD - Iterations:   0%|          | 0/200 [00:00<?, ?it/s]"
      ]
     },
     "metadata": {},
     "output_type": "display_data"
    }
   ],
   "source": [
    "attack = PoisoningAttackCleanLabelBackdoor(backdoor=backdoor, proxy_classifier=proxy.get_classifier(),\n",
    "                                           target=targets, pp_poison=percent_poison, norm=2, eps=5,\n",
    "                                           eps_step=0.1, max_iter=200)\n",
    "pdata, plabels = attack.poison(x_train, y_train)"
   ]
  },
  {
   "cell_type": "code",
   "execution_count": 7,
   "id": "a61a524c",
   "metadata": {},
   "outputs": [
    {
     "name": "stdout",
     "output_type": "stream",
     "text": [
      "1039\n"
     ]
    }
   ],
   "source": [
    "poisoned = pdata[np.all(plabels == targets, axis=1)]\n",
    "poisoned_labels = plabels[np.all(plabels == targets, axis=1)]\n",
    "print(len(poisoned))\n",
    "for i in range(len(poisoned)):\n",
    "    if poisoned[i][0][0] != 0:\n",
    "        plt.imshow(poisoned[i].squeeze())\n",
    "        \n",
    "        print(f\"Index: {i} Label: {np.argmax(poisoned_labels[i])}\")\n",
    "        break"
   ]
  },
  {
   "cell_type": "markdown",
   "id": "8e8bbe9c",
   "metadata": {},
   "source": [
    "# Initialize the classification models\n",
    "We will initialize four models. The first is a single model architecture. The other three are DPA models with varying ensemble sizes to demonstrate the tradeoff between clean accuracy and poison accuracy"
   ]
  },
  {
   "cell_type": "code",
   "execution_count": 8,
   "id": "005f0374",
   "metadata": {},
   "outputs": [],
   "source": [
    "model = KerasClassifier(create_model())\n",
    "dpa_model_10 = DeepPartitionEnsemble(model, ensemble_size=10)\n",
    "dpa_model_20 = DeepPartitionEnsemble(model, ensemble_size=20)\n",
    "dpa_model_30 = DeepPartitionEnsemble(model, ensemble_size=30)\n"
   ]
  },
  {
   "cell_type": "markdown",
   "id": "0668c63f",
   "metadata": {},
   "source": [
    "Train the models on the poisoned data"
   ]
  },
  {
   "cell_type": "code",
   "execution_count": 9,
   "id": "80f2917b",
   "metadata": {},
   "outputs": [
    {
     "name": "stdout",
     "output_type": "stream",
     "text": [
      "Train on 10000 samples\n",
      "Epoch 1/10\n",
      "10000/10000 [==============================] - 1s 102us/sample - loss: 0.7220 - accuracy: 0.7746\n",
      "Epoch 2/10\n",
      "10000/10000 [==============================] - 1s 51us/sample - loss: 0.2600 - accuracy: 0.9204\n",
      "Epoch 3/10\n",
      "10000/10000 [==============================] - 1s 51us/sample - loss: 0.1606 - accuracy: 0.9509\n",
      "Epoch 4/10\n",
      "10000/10000 [==============================] - 1s 51us/sample - loss: 0.1183 - accuracy: 0.9648\n",
      "Epoch 5/10\n",
      "10000/10000 [==============================] - 1s 50us/sample - loss: 0.1025 - accuracy: 0.9689\n",
      "Epoch 6/10\n",
      "10000/10000 [==============================] - 1s 51us/sample - loss: 0.0880 - accuracy: 0.9739\n",
      "Epoch 7/10\n",
      "10000/10000 [==============================] - 1s 51us/sample - loss: 0.0622 - accuracy: 0.9813\n",
      "Epoch 8/10\n",
      "10000/10000 [==============================] - 1s 51us/sample - loss: 0.0580 - accuracy: 0.9802\n",
      "Epoch 9/10\n",
      "10000/10000 [==============================] - 0s 50us/sample - loss: 0.0563 - accuracy: 0.9821\n",
      "Epoch 10/10\n",
      "10000/10000 [==============================] - 1s 51us/sample - loss: 0.0396 - accuracy: 0.9863\n",
      "959 959\n",
      "Train on 959 samples\n",
      "Epoch 1/10\n",
      "959/959 [==============================] - 7s 7ms/sample - loss: 1.8645 - accuracy: 0.4390\n",
      "Epoch 2/10\n",
      "959/959 [==============================] - 0s 54us/sample - loss: 0.8975 - accuracy: 0.6851\n",
      "Epoch 3/10\n",
      "959/959 [==============================] - 0s 52us/sample - loss: 0.6508 - accuracy: 0.7935\n",
      "Epoch 4/10\n",
      "959/959 [==============================] - 0s 52us/sample - loss: 0.4998 - accuracy: 0.8530\n",
      "Epoch 5/10\n",
      "959/959 [==============================] - 0s 53us/sample - loss: 0.3686 - accuracy: 0.8801\n",
      "Epoch 6/10\n",
      "959/959 [==============================] - 0s 53us/sample - loss: 0.3203 - accuracy: 0.8989\n",
      "Epoch 7/10\n",
      "959/959 [==============================] - 0s 53us/sample - loss: 0.2693 - accuracy: 0.9041\n",
      "Epoch 8/10\n",
      "959/959 [==============================] - 0s 52us/sample - loss: 0.2351 - accuracy: 0.9239\n",
      "Epoch 9/10\n",
      "959/959 [==============================] - 0s 64us/sample - loss: 0.1842 - accuracy: 0.9322\n",
      "Epoch 10/10\n",
      "959/959 [==============================] - 0s 51us/sample - loss: 0.1540 - accuracy: 0.9416\n",
      "Train on 959 samples\n",
      "Epoch 1/10\n",
      "959/959 [==============================] - 1s 591us/sample - loss: 1.9785 - accuracy: 0.3566\n",
      "Epoch 2/10\n",
      "959/959 [==============================] - 0s 53us/sample - loss: 1.0699 - accuracy: 0.6642\n",
      "Epoch 3/10\n",
      "959/959 [==============================] - 0s 57us/sample - loss: 0.6946 - accuracy: 0.7842\n",
      "Epoch 4/10\n",
      "959/959 [==============================] - 0s 53us/sample - loss: 0.5073 - accuracy: 0.8321\n",
      "Epoch 5/10\n",
      "959/959 [==============================] - 0s 52us/sample - loss: 0.4370 - accuracy: 0.8551\n",
      "Epoch 6/10\n",
      "959/959 [==============================] - 0s 53us/sample - loss: 0.4077 - accuracy: 0.8728\n",
      "Epoch 7/10\n",
      "959/959 [==============================] - 0s 52us/sample - loss: 0.3220 - accuracy: 0.8926\n",
      "Epoch 8/10\n",
      "959/959 [==============================] - 0s 51us/sample - loss: 0.2730 - accuracy: 0.9155\n",
      "Epoch 9/10\n",
      "959/959 [==============================] - 0s 52us/sample - loss: 0.2354 - accuracy: 0.9239\n",
      "Epoch 10/10\n",
      "959/959 [==============================] - 0s 51us/sample - loss: 0.2334 - accuracy: 0.9239\n",
      "Train on 1036 samples\n",
      "Epoch 1/10\n",
      "1036/1036 [==============================] - 7s 7ms/sample - loss: 1.8969 - accuracy: 0.3639\n",
      "Epoch 2/10\n",
      "1036/1036 [==============================] - 0s 55us/sample - loss: 0.9846 - accuracy: 0.6776\n",
      "Epoch 3/10\n",
      "1036/1036 [==============================] - 0s 53us/sample - loss: 0.7439 - accuracy: 0.7645\n",
      "Epoch 4/10\n",
      "1036/1036 [==============================] - 0s 53us/sample - loss: 0.5853 - accuracy: 0.8166\n",
      "Epoch 5/10\n",
      "1036/1036 [==============================] - 0s 55us/sample - loss: 0.4607 - accuracy: 0.8475\n",
      "Epoch 6/10\n",
      "1036/1036 [==============================] - 0s 54us/sample - loss: 0.3990 - accuracy: 0.8822\n",
      "Epoch 7/10\n",
      "1036/1036 [==============================] - 0s 52us/sample - loss: 0.3442 - accuracy: 0.8871\n",
      "Epoch 8/10\n",
      "1036/1036 [==============================] - 0s 52us/sample - loss: 0.2925 - accuracy: 0.9093\n",
      "Epoch 9/10\n",
      "1036/1036 [==============================] - 0s 52us/sample - loss: 0.2539 - accuracy: 0.9160\n",
      "Epoch 10/10\n",
      "1036/1036 [==============================] - 0s 53us/sample - loss: 0.2182 - accuracy: 0.9305\n",
      "Train on 996 samples\n",
      "Epoch 1/10\n",
      "996/996 [==============================] - 7s 7ms/sample - loss: 1.9048 - accuracy: 0.4036\n",
      "Epoch 2/10\n",
      "996/996 [==============================] - 0s 53us/sample - loss: 0.9553 - accuracy: 0.6787\n",
      "Epoch 3/10\n",
      "996/996 [==============================] - 0s 51us/sample - loss: 0.6515 - accuracy: 0.8012\n",
      "Epoch 4/10\n",
      "996/996 [==============================] - 0s 50us/sample - loss: 0.5158 - accuracy: 0.8333\n",
      "Epoch 5/10\n",
      "996/996 [==============================] - 0s 50us/sample - loss: 0.4168 - accuracy: 0.8685\n",
      "Epoch 6/10\n",
      "996/996 [==============================] - 0s 50us/sample - loss: 0.3268 - accuracy: 0.8946\n",
      "Epoch 7/10\n",
      "996/996 [==============================] - 0s 51us/sample - loss: 0.3077 - accuracy: 0.9086\n",
      "Epoch 8/10\n",
      "996/996 [==============================] - 0s 50us/sample - loss: 0.2310 - accuracy: 0.9247\n",
      "Epoch 9/10\n",
      "996/996 [==============================] - 0s 51us/sample - loss: 0.1787 - accuracy: 0.9428\n",
      "Epoch 10/10\n",
      "996/996 [==============================] - 0s 51us/sample - loss: 0.1432 - accuracy: 0.9608\n",
      "Train on 974 samples\n",
      "Epoch 1/10\n",
      "974/974 [==============================] - 7s 7ms/sample - loss: 1.9608 - accuracy: 0.3583\n",
      "Epoch 2/10\n",
      "974/974 [==============================] - 0s 64us/sample - loss: 1.0741 - accuracy: 0.6468\n",
      "Epoch 3/10\n",
      "974/974 [==============================] - 0s 54us/sample - loss: 0.7141 - accuracy: 0.7731\n",
      "Epoch 4/10\n",
      "974/974 [==============================] - 0s 55us/sample - loss: 0.5523 - accuracy: 0.8162\n",
      "Epoch 5/10\n",
      "974/974 [==============================] - 0s 55us/sample - loss: 0.4394 - accuracy: 0.8450\n",
      "Epoch 6/10\n",
      "974/974 [==============================] - 0s 58us/sample - loss: 0.3435 - accuracy: 0.8860\n",
      "Epoch 7/10\n",
      "974/974 [==============================] - 0s 53us/sample - loss: 0.2779 - accuracy: 0.9148\n",
      "Epoch 8/10\n",
      "974/974 [==============================] - 0s 53us/sample - loss: 0.2384 - accuracy: 0.9271\n",
      "Epoch 9/10\n",
      "974/974 [==============================] - 0s 64us/sample - loss: 0.2124 - accuracy: 0.9343\n",
      "Epoch 10/10\n",
      "974/974 [==============================] - 0s 53us/sample - loss: 0.1683 - accuracy: 0.9507\n",
      "Train on 974 samples\n",
      "Epoch 1/10\n",
      "974/974 [==============================] - 1s 600us/sample - loss: 1.9809 - accuracy: 0.3419\n",
      "Epoch 2/10\n",
      "974/974 [==============================] - 0s 53us/sample - loss: 1.0727 - accuracy: 0.6694\n",
      "Epoch 3/10\n",
      "974/974 [==============================] - 0s 54us/sample - loss: 0.6860 - accuracy: 0.7731\n",
      "Epoch 4/10\n",
      "974/974 [==============================] - 0s 52us/sample - loss: 0.5474 - accuracy: 0.8203\n",
      "Epoch 5/10\n",
      "974/974 [==============================] - 0s 52us/sample - loss: 0.4235 - accuracy: 0.8552\n",
      "Epoch 6/10\n",
      "974/974 [==============================] - 0s 52us/sample - loss: 0.3709 - accuracy: 0.8747\n",
      "Epoch 7/10\n",
      "974/974 [==============================] - 0s 52us/sample - loss: 0.3011 - accuracy: 0.9014\n",
      "Epoch 8/10\n",
      "974/974 [==============================] - 0s 54us/sample - loss: 0.2633 - accuracy: 0.9097\n",
      "Epoch 9/10\n",
      "974/974 [==============================] - 0s 53us/sample - loss: 0.2214 - accuracy: 0.9199\n",
      "Epoch 10/10\n",
      "974/974 [==============================] - 0s 53us/sample - loss: 0.2169 - accuracy: 0.9384\n",
      "Train on 1020 samples\n",
      "Epoch 1/10\n",
      "1020/1020 [==============================] - 7s 7ms/sample - loss: 1.9183 - accuracy: 0.4020\n",
      "Epoch 2/10\n",
      "1020/1020 [==============================] - 0s 53us/sample - loss: 1.0118 - accuracy: 0.6735\n",
      "Epoch 3/10\n",
      "1020/1020 [==============================] - 0s 52us/sample - loss: 0.7420 - accuracy: 0.7578\n",
      "Epoch 4/10\n",
      "1020/1020 [==============================] - 0s 52us/sample - loss: 0.5635 - accuracy: 0.8206\n",
      "Epoch 5/10\n",
      "1020/1020 [==============================] - 0s 52us/sample - loss: 0.4633 - accuracy: 0.8382\n",
      "Epoch 6/10\n",
      "1020/1020 [==============================] - 0s 50us/sample - loss: 0.3554 - accuracy: 0.8922\n",
      "Epoch 7/10\n",
      "1020/1020 [==============================] - 0s 52us/sample - loss: 0.3002 - accuracy: 0.9118\n",
      "Epoch 8/10\n"
     ]
    },
    {
     "name": "stdout",
     "output_type": "stream",
     "text": [
      "1020/1020 [==============================] - 0s 51us/sample - loss: 0.2480 - accuracy: 0.9245\n",
      "Epoch 9/10\n",
      "1020/1020 [==============================] - 0s 51us/sample - loss: 0.1889 - accuracy: 0.9412\n",
      "Epoch 10/10\n",
      "1020/1020 [==============================] - 0s 53us/sample - loss: 0.1691 - accuracy: 0.9490\n",
      "Train on 1056 samples\n",
      "Epoch 1/10\n",
      "1056/1056 [==============================] - 3s 3ms/sample - loss: 1.8210 - accuracy: 0.4460\n",
      "Epoch 2/10\n",
      "1056/1056 [==============================] - 0s 56us/sample - loss: 0.9038 - accuracy: 0.6932\n",
      "Epoch 3/10\n",
      "1056/1056 [==============================] - 0s 55us/sample - loss: 0.5929 - accuracy: 0.7879\n",
      "Epoch 4/10\n",
      "1056/1056 [==============================] - 0s 53us/sample - loss: 0.4960 - accuracy: 0.8419\n",
      "Epoch 5/10\n",
      "1056/1056 [==============================] - 0s 52us/sample - loss: 0.3916 - accuracy: 0.8826\n",
      "Epoch 6/10\n",
      "1056/1056 [==============================] - 0s 53us/sample - loss: 0.3037 - accuracy: 0.8939\n",
      "Epoch 7/10\n",
      "1056/1056 [==============================] - 0s 53us/sample - loss: 0.3072 - accuracy: 0.9053\n",
      "Epoch 8/10\n",
      "1056/1056 [==============================] - 0s 53us/sample - loss: 0.2283 - accuracy: 0.9261\n",
      "Epoch 9/10\n",
      "1056/1056 [==============================] - 0s 53us/sample - loss: 0.1914 - accuracy: 0.9451\n",
      "Epoch 10/10\n",
      "1056/1056 [==============================] - 0s 54us/sample - loss: 0.1752 - accuracy: 0.9441\n",
      "Train on 990 samples\n",
      "Epoch 1/10\n",
      "990/990 [==============================] - 7s 7ms/sample - loss: 1.8823 - accuracy: 0.3889\n",
      "Epoch 2/10\n",
      "990/990 [==============================] - 0s 54us/sample - loss: 0.9866 - accuracy: 0.6727\n",
      "Epoch 3/10\n",
      "990/990 [==============================] - 0s 54us/sample - loss: 0.7025 - accuracy: 0.7646\n",
      "Epoch 4/10\n",
      "990/990 [==============================] - 0s 53us/sample - loss: 0.5127 - accuracy: 0.8434\n",
      "Epoch 5/10\n",
      "990/990 [==============================] - 0s 52us/sample - loss: 0.4388 - accuracy: 0.8707\n",
      "Epoch 6/10\n",
      "990/990 [==============================] - 0s 53us/sample - loss: 0.3201 - accuracy: 0.8990\n",
      "Epoch 7/10\n",
      "990/990 [==============================] - 0s 52us/sample - loss: 0.2749 - accuracy: 0.9202\n",
      "Epoch 8/10\n",
      "990/990 [==============================] - 0s 53us/sample - loss: 0.2462 - accuracy: 0.9212\n",
      "Epoch 9/10\n",
      "990/990 [==============================] - 0s 52us/sample - loss: 0.1993 - accuracy: 0.9374\n",
      "Epoch 10/10\n",
      "990/990 [==============================] - 0s 52us/sample - loss: 0.1574 - accuracy: 0.9424\n",
      "Train on 1036 samples\n",
      "Epoch 1/10\n",
      "1036/1036 [==============================] - 1s 559us/sample - loss: 1.8674 - accuracy: 0.4035\n",
      "Epoch 2/10\n",
      "1036/1036 [==============================] - 0s 57us/sample - loss: 0.9548 - accuracy: 0.6699\n",
      "Epoch 3/10\n",
      "1036/1036 [==============================] - 0s 54us/sample - loss: 0.6559 - accuracy: 0.7857\n",
      "Epoch 4/10\n",
      "1036/1036 [==============================] - 0s 54us/sample - loss: 0.5017 - accuracy: 0.8446\n",
      "Epoch 5/10\n",
      "1036/1036 [==============================] - 0s 65us/sample - loss: 0.4618 - accuracy: 0.8533\n",
      "Epoch 6/10\n",
      "1036/1036 [==============================] - 0s 53us/sample - loss: 0.4059 - accuracy: 0.8687\n",
      "Epoch 7/10\n",
      "1036/1036 [==============================] - 0s 55us/sample - loss: 0.3651 - accuracy: 0.8900\n",
      "Epoch 8/10\n",
      "1036/1036 [==============================] - 0s 54us/sample - loss: 0.2911 - accuracy: 0.9151\n",
      "Epoch 9/10\n",
      "1036/1036 [==============================] - 0s 53us/sample - loss: 0.2113 - accuracy: 0.9353\n",
      "Epoch 10/10\n",
      "1036/1036 [==============================] - 0s 52us/sample - loss: 0.1848 - accuracy: 0.9431\n",
      "477 483\n",
      "Train on 477 samples\n",
      "Epoch 1/10\n",
      "477/477 [==============================] - 7s 15ms/sample - loss: 2.1828 - accuracy: 0.2285\n",
      "Epoch 2/10\n",
      "477/477 [==============================] - 0s 58us/sample - loss: 1.5441 - accuracy: 0.5744\n",
      "Epoch 3/10\n",
      "477/477 [==============================] - 0s 55us/sample - loss: 0.9933 - accuracy: 0.6771\n",
      "Epoch 4/10\n",
      "477/477 [==============================] - 0s 55us/sample - loss: 0.7680 - accuracy: 0.7568\n",
      "Epoch 5/10\n",
      "477/477 [==============================] - 0s 55us/sample - loss: 0.6358 - accuracy: 0.7820\n",
      "Epoch 6/10\n",
      "477/477 [==============================] - 0s 55us/sample - loss: 0.4880 - accuracy: 0.8323\n",
      "Epoch 7/10\n",
      "477/477 [==============================] - 0s 54us/sample - loss: 0.4218 - accuracy: 0.8679\n",
      "Epoch 8/10\n",
      "477/477 [==============================] - 0s 53us/sample - loss: 0.3706 - accuracy: 0.8784\n",
      "Epoch 9/10\n",
      "477/477 [==============================] - 0s 55us/sample - loss: 0.3262 - accuracy: 0.8910\n",
      "Epoch 10/10\n",
      "477/477 [==============================] - 0s 56us/sample - loss: 0.2330 - accuracy: 0.9245\n",
      "Train on 483 samples\n",
      "Epoch 1/10\n",
      "483/483 [==============================] - 7s 15ms/sample - loss: 2.1897 - accuracy: 0.2484\n",
      "Epoch 2/10\n",
      "483/483 [==============================] - 0s 57us/sample - loss: 1.6048 - accuracy: 0.5694\n",
      "Epoch 3/10\n",
      "483/483 [==============================] - 0s 53us/sample - loss: 1.1349 - accuracy: 0.6211\n",
      "Epoch 4/10\n",
      "483/483 [==============================] - 0s 55us/sample - loss: 0.8479 - accuracy: 0.7288\n",
      "Epoch 5/10\n",
      "483/483 [==============================] - 0s 54us/sample - loss: 0.6992 - accuracy: 0.7785\n",
      "Epoch 6/10\n",
      "483/483 [==============================] - 0s 55us/sample - loss: 0.6009 - accuracy: 0.8116\n",
      "Epoch 7/10\n",
      "483/483 [==============================] - 0s 54us/sample - loss: 0.4679 - accuracy: 0.8592\n",
      "Epoch 8/10\n",
      "483/483 [==============================] - 0s 55us/sample - loss: 0.4066 - accuracy: 0.8634\n",
      "Epoch 9/10\n",
      "483/483 [==============================] - 0s 54us/sample - loss: 0.3537 - accuracy: 0.8965\n",
      "Epoch 10/10\n",
      "483/483 [==============================] - 0s 55us/sample - loss: 0.3138 - accuracy: 0.8944\n",
      "Train on 524 samples\n",
      "Epoch 1/10\n",
      "524/524 [==============================] - 1s 1ms/sample - loss: 2.1631 - accuracy: 0.2347\n",
      "Epoch 2/10\n",
      "524/524 [==============================] - 0s 57us/sample - loss: 1.5419 - accuracy: 0.4943\n",
      "Epoch 3/10\n",
      "524/524 [==============================] - 0s 82us/sample - loss: 1.0338 - accuracy: 0.6355\n",
      "Epoch 4/10\n",
      "524/524 [==============================] - 0s 58us/sample - loss: 0.8604 - accuracy: 0.7271\n",
      "Epoch 5/10\n",
      "524/524 [==============================] - 0s 58us/sample - loss: 0.6377 - accuracy: 0.7958\n",
      "Epoch 6/10\n",
      "524/524 [==============================] - 0s 59us/sample - loss: 0.5537 - accuracy: 0.8321\n",
      "Epoch 7/10\n",
      "524/524 [==============================] - 0s 60us/sample - loss: 0.5071 - accuracy: 0.8359\n",
      "Epoch 8/10\n",
      "524/524 [==============================] - 0s 57us/sample - loss: 0.4424 - accuracy: 0.8569\n",
      "Epoch 9/10\n",
      "524/524 [==============================] - 0s 57us/sample - loss: 0.4030 - accuracy: 0.8760\n",
      "Epoch 10/10\n",
      "524/524 [==============================] - 0s 57us/sample - loss: 0.3864 - accuracy: 0.8931\n",
      "Train on 526 samples\n",
      "Epoch 1/10\n",
      "526/526 [==============================] - 7s 14ms/sample - loss: 2.2169 - accuracy: 0.1711\n",
      "Epoch 2/10\n",
      "526/526 [==============================] - 0s 64us/sample - loss: 1.6080 - accuracy: 0.5133\n",
      "Epoch 3/10\n",
      "526/526 [==============================] - 0s 59us/sample - loss: 1.0729 - accuracy: 0.6578\n",
      "Epoch 4/10\n",
      "526/526 [==============================] - 0s 56us/sample - loss: 0.8956 - accuracy: 0.6977\n",
      "Epoch 5/10\n",
      "526/526 [==============================] - 0s 57us/sample - loss: 0.6798 - accuracy: 0.7833\n",
      "Epoch 6/10\n",
      "526/526 [==============================] - 0s 59us/sample - loss: 0.6006 - accuracy: 0.8004\n",
      "Epoch 7/10\n",
      "526/526 [==============================] - 0s 56us/sample - loss: 0.5068 - accuracy: 0.8479\n",
      "Epoch 8/10\n",
      "526/526 [==============================] - 0s 59us/sample - loss: 0.4402 - accuracy: 0.8669\n",
      "Epoch 9/10\n",
      "526/526 [==============================] - 0s 59us/sample - loss: 0.3512 - accuracy: 0.8935\n",
      "Epoch 10/10\n",
      "526/526 [==============================] - 0s 59us/sample - loss: 0.3638 - accuracy: 0.8764\n",
      "Train on 474 samples\n",
      "Epoch 1/10\n",
      "474/474 [==============================] - 7s 16ms/sample - loss: 2.1774 - accuracy: 0.2342\n",
      "Epoch 2/10\n",
      "474/474 [==============================] - 0s 61us/sample - loss: 1.6427 - accuracy: 0.5190\n",
      "Epoch 3/10\n",
      "474/474 [==============================] - 0s 59us/sample - loss: 1.1738 - accuracy: 0.6203\n",
      "Epoch 4/10\n",
      "474/474 [==============================] - 0s 57us/sample - loss: 0.8294 - accuracy: 0.7426\n",
      "Epoch 5/10\n",
      "474/474 [==============================] - 0s 59us/sample - loss: 0.6772 - accuracy: 0.7806\n",
      "Epoch 6/10\n",
      "474/474 [==============================] - 0s 56us/sample - loss: 0.5736 - accuracy: 0.8186\n",
      "Epoch 7/10\n",
      "474/474 [==============================] - 0s 55us/sample - loss: 0.4712 - accuracy: 0.8460\n",
      "Epoch 8/10\n",
      "474/474 [==============================] - 0s 56us/sample - loss: 0.4534 - accuracy: 0.8629\n",
      "Epoch 9/10\n",
      "474/474 [==============================] - 0s 57us/sample - loss: 0.3399 - accuracy: 0.8882\n",
      "Epoch 10/10\n",
      "474/474 [==============================] - 0s 55us/sample - loss: 0.2867 - accuracy: 0.9114\n",
      "Train on 470 samples\n",
      "Epoch 1/10\n",
      "470/470 [==============================] - 7s 16ms/sample - loss: 2.1872 - accuracy: 0.2702\n",
      "Epoch 2/10\n",
      "470/470 [==============================] - 0s 61us/sample - loss: 1.6045 - accuracy: 0.5638\n",
      "Epoch 3/10\n",
      "470/470 [==============================] - 0s 56us/sample - loss: 1.0521 - accuracy: 0.6787\n",
      "Epoch 4/10\n",
      "470/470 [==============================] - 0s 56us/sample - loss: 0.8545 - accuracy: 0.7340\n",
      "Epoch 5/10\n",
      "470/470 [==============================] - 0s 59us/sample - loss: 0.6437 - accuracy: 0.7957\n",
      "Epoch 6/10\n",
      "470/470 [==============================] - 0s 55us/sample - loss: 0.5980 - accuracy: 0.8170\n",
      "Epoch 7/10\n",
      "470/470 [==============================] - 0s 56us/sample - loss: 0.4819 - accuracy: 0.8404\n",
      "Epoch 8/10\n",
      "470/470 [==============================] - 0s 56us/sample - loss: 0.4001 - accuracy: 0.8809\n",
      "Epoch 9/10\n",
      "470/470 [==============================] - 0s 57us/sample - loss: 0.3612 - accuracy: 0.8702\n",
      "Epoch 10/10\n",
      "470/470 [==============================] - 0s 57us/sample - loss: 0.2745 - accuracy: 0.9170\n",
      "Train on 491 samples\n",
      "Epoch 1/10\n",
      "491/491 [==============================] - 8s 16ms/sample - loss: 2.1735 - accuracy: 0.2851\n",
      "Epoch 2/10\n",
      "491/491 [==============================] - 0s 57us/sample - loss: 1.5909 - accuracy: 0.5886\n",
      "Epoch 3/10\n",
      "491/491 [==============================] - 0s 54us/sample - loss: 1.1225 - accuracy: 0.6375\n",
      "Epoch 4/10\n",
      "491/491 [==============================] - 0s 59us/sample - loss: 0.8908 - accuracy: 0.7230\n",
      "Epoch 5/10\n",
      "491/491 [==============================] - 0s 55us/sample - loss: 0.6693 - accuracy: 0.7923\n",
      "Epoch 6/10\n",
      "491/491 [==============================] - 0s 55us/sample - loss: 0.5540 - accuracy: 0.8228\n",
      "Epoch 7/10\n",
      "491/491 [==============================] - 0s 54us/sample - loss: 0.5170 - accuracy: 0.8167\n",
      "Epoch 8/10\n",
      "491/491 [==============================] - 0s 57us/sample - loss: 0.4300 - accuracy: 0.8819\n",
      "Epoch 9/10\n",
      "491/491 [==============================] - 0s 55us/sample - loss: 0.3574 - accuracy: 0.8778\n",
      "Epoch 10/10\n",
      "491/491 [==============================] - 0s 53us/sample - loss: 0.3269 - accuracy: 0.8839\n",
      "Train on 517 samples\n",
      "Epoch 1/10\n",
      "517/517 [==============================] - 8s 15ms/sample - loss: 2.1687 - accuracy: 0.2534\n",
      "Epoch 2/10\n",
      "517/517 [==============================] - 0s 64us/sample - loss: 1.5964 - accuracy: 0.4971\n",
      "Epoch 3/10\n",
      "517/517 [==============================] - 0s 59us/sample - loss: 1.0886 - accuracy: 0.6673\n",
      "Epoch 4/10\n",
      "517/517 [==============================] - 0s 61us/sample - loss: 0.8694 - accuracy: 0.7118\n",
      "Epoch 5/10\n",
      "517/517 [==============================] - 0s 60us/sample - loss: 0.6480 - accuracy: 0.7834\n",
      "Epoch 6/10\n",
      "517/517 [==============================] - 0s 60us/sample - loss: 0.5640 - accuracy: 0.8317\n",
      "Epoch 7/10\n",
      "517/517 [==============================] - 0s 60us/sample - loss: 0.4646 - accuracy: 0.8317\n",
      "Epoch 8/10\n",
      "517/517 [==============================] - 0s 58us/sample - loss: 0.4306 - accuracy: 0.8511\n",
      "Epoch 9/10\n",
      "517/517 [==============================] - 0s 77us/sample - loss: 0.3689 - accuracy: 0.8781\n",
      "Epoch 10/10\n",
      "517/517 [==============================] - 0s 62us/sample - loss: 0.3114 - accuracy: 0.9033\n",
      "Train on 508 samples\n",
      "Epoch 1/10\n",
      "508/508 [==============================] - 1s 1ms/sample - loss: 2.1480 - accuracy: 0.2657\n",
      "Epoch 2/10\n",
      "508/508 [==============================] - 0s 52us/sample - loss: 1.5260 - accuracy: 0.5453\n",
      "Epoch 3/10\n",
      "508/508 [==============================] - 0s 53us/sample - loss: 0.9784 - accuracy: 0.6969\n",
      "Epoch 4/10\n",
      "508/508 [==============================] - 0s 53us/sample - loss: 0.7827 - accuracy: 0.7461\n",
      "Epoch 5/10\n",
      "508/508 [==============================] - 0s 52us/sample - loss: 0.6282 - accuracy: 0.8091\n",
      "Epoch 6/10\n",
      "508/508 [==============================] - 0s 52us/sample - loss: 0.5328 - accuracy: 0.8228\n",
      "Epoch 7/10\n",
      "508/508 [==============================] - 0s 52us/sample - loss: 0.4573 - accuracy: 0.8622\n",
      "Epoch 8/10\n",
      "508/508 [==============================] - 0s 56us/sample - loss: 0.4056 - accuracy: 0.8701\n",
      "Epoch 9/10\n",
      "508/508 [==============================] - 0s 53us/sample - loss: 0.2994 - accuracy: 0.9134\n",
      "Epoch 10/10\n",
      "508/508 [==============================] - 0s 54us/sample - loss: 0.2710 - accuracy: 0.9173\n",
      "Train on 520 samples\n",
      "Epoch 1/10\n",
      "520/520 [==============================] - 8s 15ms/sample - loss: 2.1951 - accuracy: 0.2327\n",
      "Epoch 2/10\n",
      "520/520 [==============================] - 0s 60us/sample - loss: 1.6755 - accuracy: 0.5115\n",
      "Epoch 3/10\n",
      "520/520 [==============================] - 0s 58us/sample - loss: 1.1814 - accuracy: 0.6269\n",
      "Epoch 4/10\n",
      "520/520 [==============================] - 0s 58us/sample - loss: 0.9755 - accuracy: 0.6731\n",
      "Epoch 5/10\n",
      "520/520 [==============================] - 0s 67us/sample - loss: 0.8407 - accuracy: 0.7327\n",
      "Epoch 6/10\n",
      "520/520 [==============================] - 0s 60us/sample - loss: 0.7325 - accuracy: 0.7769\n",
      "Epoch 7/10\n",
      "520/520 [==============================] - 0s 58us/sample - loss: 0.6188 - accuracy: 0.8096\n",
      "Epoch 8/10\n",
      "520/520 [==============================] - 0s 61us/sample - loss: 0.5789 - accuracy: 0.8058\n",
      "Epoch 9/10\n",
      "520/520 [==============================] - 0s 57us/sample - loss: 0.4973 - accuracy: 0.8404\n",
      "Epoch 10/10\n",
      "520/520 [==============================] - 0s 58us/sample - loss: 0.4210 - accuracy: 0.8442\n",
      "Train on 482 samples\n",
      "Epoch 1/10\n",
      "482/482 [==============================] - 8s 16ms/sample - loss: 2.1614 - accuracy: 0.2925\n",
      "Epoch 2/10\n",
      "482/482 [==============================] - 0s 60us/sample - loss: 1.4639 - accuracy: 0.5996\n",
      "Epoch 3/10\n",
      "482/482 [==============================] - 0s 57us/sample - loss: 1.0348 - accuracy: 0.6639\n",
      "Epoch 4/10\n",
      "482/482 [==============================] - 0s 56us/sample - loss: 0.7848 - accuracy: 0.7635\n",
      "Epoch 5/10\n",
      "482/482 [==============================] - 0s 55us/sample - loss: 0.6020 - accuracy: 0.8008\n",
      "Epoch 6/10\n",
      "482/482 [==============================] - 0s 54us/sample - loss: 0.4982 - accuracy: 0.8444\n",
      "Epoch 7/10\n",
      "482/482 [==============================] - 0s 53us/sample - loss: 0.4557 - accuracy: 0.8714\n",
      "Epoch 8/10\n",
      "482/482 [==============================] - 0s 55us/sample - loss: 0.3621 - accuracy: 0.8631\n",
      "Epoch 9/10\n",
      "482/482 [==============================] - 0s 54us/sample - loss: 0.3048 - accuracy: 0.9004\n",
      "Epoch 10/10\n",
      "482/482 [==============================] - 0s 65us/sample - loss: 0.2666 - accuracy: 0.9212\n",
      "Train on 476 samples\n",
      "Epoch 1/10\n",
      "476/476 [==============================] - 8s 16ms/sample - loss: 2.2005 - accuracy: 0.2269\n",
      "Epoch 2/10\n",
      "476/476 [==============================] - 0s 59us/sample - loss: 1.6520 - accuracy: 0.5462\n",
      "Epoch 3/10\n",
      "476/476 [==============================] - 0s 54us/sample - loss: 1.1333 - accuracy: 0.6471\n",
      "Epoch 4/10\n",
      "476/476 [==============================] - 0s 56us/sample - loss: 0.8483 - accuracy: 0.7353\n",
      "Epoch 5/10\n",
      "476/476 [==============================] - 0s 54us/sample - loss: 0.7081 - accuracy: 0.7647\n",
      "Epoch 6/10\n",
      "476/476 [==============================] - 0s 56us/sample - loss: 0.5711 - accuracy: 0.8340\n",
      "Epoch 7/10\n",
      "476/476 [==============================] - 0s 54us/sample - loss: 0.4270 - accuracy: 0.8739\n",
      "Epoch 8/10\n",
      "476/476 [==============================] - 0s 55us/sample - loss: 0.4103 - accuracy: 0.8761\n",
      "Epoch 9/10\n",
      "476/476 [==============================] - 0s 55us/sample - loss: 0.3529 - accuracy: 0.8971\n",
      "Epoch 10/10\n",
      "476/476 [==============================] - 0s 53us/sample - loss: 0.3451 - accuracy: 0.8761\n",
      "Train on 512 samples\n",
      "Epoch 1/10\n",
      "512/512 [==============================] - 1s 1ms/sample - loss: 2.1913 - accuracy: 0.2266\n",
      "Epoch 2/10\n",
      "512/512 [==============================] - 0s 52us/sample - loss: 1.6317 - accuracy: 0.5840\n"
     ]
    },
    {
     "name": "stdout",
     "output_type": "stream",
     "text": [
      "Epoch 3/10\n",
      "512/512 [==============================] - 0s 52us/sample - loss: 1.1262 - accuracy: 0.6484\n",
      "Epoch 4/10\n",
      "512/512 [==============================] - 0s 52us/sample - loss: 0.8288 - accuracy: 0.7344\n",
      "Epoch 5/10\n",
      "512/512 [==============================] - 0s 59us/sample - loss: 0.6882 - accuracy: 0.7949\n",
      "Epoch 6/10\n",
      "512/512 [==============================] - 0s 53us/sample - loss: 0.5115 - accuracy: 0.8418\n",
      "Epoch 7/10\n",
      "512/512 [==============================] - 0s 53us/sample - loss: 0.5240 - accuracy: 0.8320\n",
      "Epoch 8/10\n",
      "512/512 [==============================] - 0s 53us/sample - loss: 0.4907 - accuracy: 0.8398\n",
      "Epoch 9/10\n",
      "512/512 [==============================] - 0s 53us/sample - loss: 0.3853 - accuracy: 0.8848\n",
      "Epoch 10/10\n",
      "512/512 [==============================] - 0s 52us/sample - loss: 0.3691 - accuracy: 0.8711\n",
      "Train on 470 samples\n",
      "Epoch 1/10\n",
      "470/470 [==============================] - 1s 1ms/sample - loss: 2.1604 - accuracy: 0.2936\n",
      "Epoch 2/10\n",
      "470/470 [==============================] - 0s 55us/sample - loss: 1.5424 - accuracy: 0.5872\n",
      "Epoch 3/10\n",
      "470/470 [==============================] - 0s 56us/sample - loss: 1.0669 - accuracy: 0.6489\n",
      "Epoch 4/10\n",
      "470/470 [==============================] - 0s 57us/sample - loss: 0.7881 - accuracy: 0.7340\n",
      "Epoch 5/10\n",
      "470/470 [==============================] - 0s 56us/sample - loss: 0.6261 - accuracy: 0.8043\n",
      "Epoch 6/10\n",
      "470/470 [==============================] - 0s 58us/sample - loss: 0.5274 - accuracy: 0.8340\n",
      "Epoch 7/10\n",
      "470/470 [==============================] - 0s 57us/sample - loss: 0.4518 - accuracy: 0.8553\n",
      "Epoch 8/10\n",
      "470/470 [==============================] - 0s 57us/sample - loss: 0.3825 - accuracy: 0.8766\n",
      "Epoch 9/10\n",
      "470/470 [==============================] - 0s 56us/sample - loss: 0.3022 - accuracy: 0.8957\n",
      "Epoch 10/10\n",
      "470/470 [==============================] - 0s 56us/sample - loss: 0.2847 - accuracy: 0.8979\n",
      "Train on 500 samples\n",
      "Epoch 1/10\n",
      "500/500 [==============================] - 8s 16ms/sample - loss: 2.1620 - accuracy: 0.2280\n",
      "Epoch 2/10\n",
      "500/500 [==============================] - 0s 58us/sample - loss: 1.5490 - accuracy: 0.5760\n",
      "Epoch 3/10\n",
      "500/500 [==============================] - 0s 54us/sample - loss: 1.0700 - accuracy: 0.6320\n",
      "Epoch 4/10\n",
      "500/500 [==============================] - 0s 54us/sample - loss: 0.7736 - accuracy: 0.7380\n",
      "Epoch 5/10\n",
      "500/500 [==============================] - 0s 53us/sample - loss: 0.5823 - accuracy: 0.8020\n",
      "Epoch 6/10\n",
      "500/500 [==============================] - 0s 53us/sample - loss: 0.5239 - accuracy: 0.8260\n",
      "Epoch 7/10\n",
      "500/500 [==============================] - 0s 54us/sample - loss: 0.4002 - accuracy: 0.8740\n",
      "Epoch 8/10\n",
      "500/500 [==============================] - 0s 53us/sample - loss: 0.3480 - accuracy: 0.8840\n",
      "Epoch 9/10\n",
      "500/500 [==============================] - 0s 54us/sample - loss: 0.3351 - accuracy: 0.8900\n",
      "Epoch 10/10\n",
      "500/500 [==============================] - 0s 54us/sample - loss: 0.2526 - accuracy: 0.9140\n",
      "Train on 504 samples\n",
      "Epoch 1/10\n",
      "504/504 [==============================] - 8s 16ms/sample - loss: 2.1679 - accuracy: 0.2679\n",
      "Epoch 2/10\n",
      "504/504 [==============================] - 0s 58us/sample - loss: 1.5663 - accuracy: 0.5456\n",
      "Epoch 3/10\n",
      "504/504 [==============================] - 0s 70us/sample - loss: 1.0493 - accuracy: 0.6528\n",
      "Epoch 4/10\n",
      "504/504 [==============================] - 0s 54us/sample - loss: 0.7437 - accuracy: 0.7679\n",
      "Epoch 5/10\n",
      "504/504 [==============================] - 0s 54us/sample - loss: 0.6163 - accuracy: 0.8155\n",
      "Epoch 6/10\n",
      "504/504 [==============================] - 0s 55us/sample - loss: 0.5016 - accuracy: 0.8433\n",
      "Epoch 7/10\n",
      "504/504 [==============================] - 0s 54us/sample - loss: 0.4514 - accuracy: 0.8512\n",
      "Epoch 8/10\n",
      "504/504 [==============================] - 0s 55us/sample - loss: 0.3955 - accuracy: 0.8611\n",
      "Epoch 9/10\n",
      "504/504 [==============================] - 0s 53us/sample - loss: 0.3760 - accuracy: 0.8829\n",
      "Epoch 10/10\n",
      "504/504 [==============================] - 0s 54us/sample - loss: 0.3332 - accuracy: 0.8929\n",
      "Train on 529 samples\n",
      "Epoch 1/10\n",
      "529/529 [==============================] - 8s 16ms/sample - loss: 2.1340 - accuracy: 0.2911\n",
      "Epoch 2/10\n",
      "529/529 [==============================] - 0s 64us/sample - loss: 1.4293 - accuracy: 0.5633\n",
      "Epoch 3/10\n",
      "529/529 [==============================] - 0s 59us/sample - loss: 1.0103 - accuracy: 0.6730\n",
      "Epoch 4/10\n",
      "529/529 [==============================] - 0s 59us/sample - loss: 0.8259 - accuracy: 0.7316\n",
      "Epoch 5/10\n",
      "529/529 [==============================] - 0s 60us/sample - loss: 0.6136 - accuracy: 0.8072\n",
      "Epoch 6/10\n",
      "529/529 [==============================] - 0s 59us/sample - loss: 0.5418 - accuracy: 0.8185\n",
      "Epoch 7/10\n",
      "529/529 [==============================] - 0s 65us/sample - loss: 0.4122 - accuracy: 0.8620\n",
      "Epoch 8/10\n",
      "529/529 [==============================] - 0s 60us/sample - loss: 0.4127 - accuracy: 0.8658\n",
      "Epoch 9/10\n",
      "529/529 [==============================] - 0s 64us/sample - loss: 0.3629 - accuracy: 0.8752\n",
      "Epoch 10/10\n",
      "529/529 [==============================] - 0s 62us/sample - loss: 0.3288 - accuracy: 0.8960\n",
      "Train on 539 samples\n",
      "Epoch 1/10\n",
      "539/539 [==============================] - 8s 15ms/sample - loss: 2.1295 - accuracy: 0.2987\n",
      "Epoch 2/10\n",
      "539/539 [==============================] - 0s 60us/sample - loss: 1.3776 - accuracy: 0.6327\n",
      "Epoch 3/10\n",
      "539/539 [==============================] - 0s 59us/sample - loss: 0.8947 - accuracy: 0.7254\n",
      "Epoch 4/10\n",
      "539/539 [==============================] - 0s 63us/sample - loss: 0.7290 - accuracy: 0.7699\n",
      "Epoch 5/10\n",
      "539/539 [==============================] - 0s 57us/sample - loss: 0.7092 - accuracy: 0.7737\n",
      "Epoch 6/10\n",
      "539/539 [==============================] - 0s 56us/sample - loss: 0.5562 - accuracy: 0.8312\n",
      "Epoch 7/10\n",
      "539/539 [==============================] - 0s 58us/sample - loss: 0.4983 - accuracy: 0.8442\n",
      "Epoch 8/10\n",
      "539/539 [==============================] - 0s 58us/sample - loss: 0.3576 - accuracy: 0.8813\n",
      "Epoch 9/10\n",
      "539/539 [==============================] - 0s 62us/sample - loss: 0.3338 - accuracy: 0.8868\n",
      "Epoch 10/10\n",
      "539/539 [==============================] - 0s 59us/sample - loss: 0.2947 - accuracy: 0.9128\n",
      "Train on 482 samples\n",
      "Epoch 1/10\n",
      "482/482 [==============================] - 1s 1ms/sample - loss: 2.1865 - accuracy: 0.2469\n",
      "Epoch 2/10\n",
      "482/482 [==============================] - 0s 56us/sample - loss: 1.5301 - accuracy: 0.5913\n",
      "Epoch 3/10\n",
      "482/482 [==============================] - 0s 57us/sample - loss: 1.0478 - accuracy: 0.6515\n",
      "Epoch 4/10\n",
      "482/482 [==============================] - 0s 56us/sample - loss: 0.8636 - accuracy: 0.7199\n",
      "Epoch 5/10\n",
      "482/482 [==============================] - 0s 55us/sample - loss: 0.6100 - accuracy: 0.8195\n",
      "Epoch 6/10\n",
      "482/482 [==============================] - 0s 54us/sample - loss: 0.5146 - accuracy: 0.8485\n",
      "Epoch 7/10\n",
      "482/482 [==============================] - 0s 55us/sample - loss: 0.4962 - accuracy: 0.8506\n",
      "Epoch 8/10\n",
      "482/482 [==============================] - 0s 54us/sample - loss: 0.3715 - accuracy: 0.8838\n",
      "Epoch 9/10\n",
      "482/482 [==============================] - 0s 55us/sample - loss: 0.3132 - accuracy: 0.8900\n",
      "Epoch 10/10\n",
      "482/482 [==============================] - 0s 54us/sample - loss: 0.2493 - accuracy: 0.9315\n",
      "Train on 516 samples\n",
      "Epoch 1/10\n",
      "516/516 [==============================] - 8s 16ms/sample - loss: 2.1495 - accuracy: 0.3081\n",
      "Epoch 2/10\n",
      "516/516 [==============================] - 0s 66us/sample - loss: 1.5252 - accuracy: 0.5349\n",
      "Epoch 3/10\n",
      "516/516 [==============================] - 0s 90us/sample - loss: 1.0516 - accuracy: 0.6453\n",
      "Epoch 4/10\n",
      "516/516 [==============================] - 0s 61us/sample - loss: 0.8603 - accuracy: 0.6822\n",
      "Epoch 5/10\n",
      "516/516 [==============================] - 0s 61us/sample - loss: 0.7034 - accuracy: 0.7655\n",
      "Epoch 6/10\n",
      "516/516 [==============================] - 0s 80us/sample - loss: 0.5878 - accuracy: 0.8043\n",
      "Epoch 7/10\n",
      "516/516 [==============================] - 0s 61us/sample - loss: 0.4841 - accuracy: 0.8527\n",
      "Epoch 8/10\n",
      "516/516 [==============================] - 0s 60us/sample - loss: 0.4309 - accuracy: 0.8547\n",
      "Epoch 9/10\n",
      "516/516 [==============================] - 0s 64us/sample - loss: 0.4076 - accuracy: 0.8740\n",
      "Epoch 10/10\n",
      "516/516 [==============================] - 0s 60us/sample - loss: 0.3934 - accuracy: 0.8721\n",
      "323 316\n"
     ]
    },
    {
     "name": "stdout",
     "output_type": "stream",
     "text": [
      "Train on 323 samples\n",
      "Epoch 1/10\n",
      "323/323 [==============================] - 8s 26ms/sample - loss: 2.2482 - accuracy: 0.2074\n",
      "Epoch 2/10\n",
      "323/323 [==============================] - 0s 119us/sample - loss: 1.8657 - accuracy: 0.4582\n",
      "Epoch 3/10\n",
      "323/323 [==============================] - 0s 61us/sample - loss: 1.3584 - accuracy: 0.6285\n",
      "Epoch 4/10\n",
      "323/323 [==============================] - 0s 63us/sample - loss: 1.0217 - accuracy: 0.6811\n",
      "Epoch 5/10\n",
      "323/323 [==============================] - 0s 60us/sample - loss: 0.7799 - accuracy: 0.7647\n",
      "Epoch 6/10\n",
      "323/323 [==============================] - 0s 63us/sample - loss: 0.5979 - accuracy: 0.8019\n",
      "Epoch 7/10\n",
      "323/323 [==============================] - 0s 72us/sample - loss: 0.5943 - accuracy: 0.7771\n",
      "Epoch 8/10\n",
      "323/323 [==============================] - 0s 61us/sample - loss: 0.4313 - accuracy: 0.8607\n",
      "Epoch 9/10\n",
      "323/323 [==============================] - 0s 61us/sample - loss: 0.3897 - accuracy: 0.8607\n",
      "Epoch 10/10\n",
      "323/323 [==============================] - 0s 62us/sample - loss: 0.3636 - accuracy: 0.8762\n",
      "Train on 316 samples\n",
      "Epoch 1/10\n",
      "316/316 [==============================] - 8s 27ms/sample - loss: 2.2644 - accuracy: 0.2025\n",
      "Epoch 2/10\n",
      "316/316 [==============================] - 0s 66us/sample - loss: 1.9228 - accuracy: 0.4494\n",
      "Epoch 3/10\n",
      "316/316 [==============================] - 0s 62us/sample - loss: 1.4475 - accuracy: 0.5918\n",
      "Epoch 4/10\n",
      "316/316 [==============================] - 0s 62us/sample - loss: 1.1493 - accuracy: 0.6329\n",
      "Epoch 5/10\n",
      "316/316 [==============================] - 0s 60us/sample - loss: 0.8921 - accuracy: 0.7152\n",
      "Epoch 6/10\n",
      "316/316 [==============================] - 0s 64us/sample - loss: 0.7666 - accuracy: 0.7627\n",
      "Epoch 7/10\n",
      "316/316 [==============================] - 0s 61us/sample - loss: 0.6399 - accuracy: 0.7753\n",
      "Epoch 8/10\n",
      "316/316 [==============================] - 0s 61us/sample - loss: 0.5662 - accuracy: 0.8259\n",
      "Epoch 9/10\n",
      "316/316 [==============================] - 0s 64us/sample - loss: 0.4763 - accuracy: 0.8481\n",
      "Epoch 10/10\n",
      "316/316 [==============================] - 0s 62us/sample - loss: 0.4223 - accuracy: 0.8576\n",
      "Train on 328 samples\n",
      "Epoch 1/10\n",
      "328/328 [==============================] - 8s 26ms/sample - loss: 2.2408 - accuracy: 0.1951\n",
      "Epoch 2/10\n",
      "328/328 [==============================] - 0s 83us/sample - loss: 1.8929 - accuracy: 0.4268\n",
      "Epoch 3/10\n",
      "328/328 [==============================] - 0s 60us/sample - loss: 1.4482 - accuracy: 0.5518\n",
      "Epoch 4/10\n",
      "328/328 [==============================] - 0s 59us/sample - loss: 1.0869 - accuracy: 0.6677\n",
      "Epoch 5/10\n",
      "328/328 [==============================] - 0s 59us/sample - loss: 0.8776 - accuracy: 0.7104\n",
      "Epoch 6/10\n",
      "328/328 [==============================] - 0s 61us/sample - loss: 0.6628 - accuracy: 0.8110\n",
      "Epoch 7/10\n",
      "328/328 [==============================] - 0s 61us/sample - loss: 0.6280 - accuracy: 0.8018\n",
      "Epoch 8/10\n",
      "328/328 [==============================] - 0s 60us/sample - loss: 0.4917 - accuracy: 0.8506\n",
      "Epoch 9/10\n",
      "328/328 [==============================] - 0s 70us/sample - loss: 0.4094 - accuracy: 0.8780\n",
      "Epoch 10/10\n",
      "328/328 [==============================] - 0s 60us/sample - loss: 0.3676 - accuracy: 0.8841\n",
      "Train on 322 samples\n",
      "Epoch 1/10\n",
      "322/322 [==============================] - 9s 27ms/sample - loss: 2.2636 - accuracy: 0.1491\n",
      "Epoch 2/10\n",
      "322/322 [==============================] - 0s 67us/sample - loss: 1.9294 - accuracy: 0.4006\n",
      "Epoch 3/10\n",
      "322/322 [==============================] - 0s 63us/sample - loss: 1.4227 - accuracy: 0.6056\n",
      "Epoch 4/10\n",
      "322/322 [==============================] - 0s 61us/sample - loss: 1.0656 - accuracy: 0.6863\n",
      "Epoch 5/10\n",
      "322/322 [==============================] - 0s 60us/sample - loss: 0.8588 - accuracy: 0.7081\n",
      "Epoch 6/10\n",
      "322/322 [==============================] - 0s 60us/sample - loss: 0.7275 - accuracy: 0.7143\n",
      "Epoch 7/10\n",
      "322/322 [==============================] - 0s 65us/sample - loss: 0.6272 - accuracy: 0.8168\n",
      "Epoch 8/10\n",
      "322/322 [==============================] - 0s 59us/sample - loss: 0.5775 - accuracy: 0.8199\n",
      "Epoch 9/10\n",
      "322/322 [==============================] - 0s 58us/sample - loss: 0.5178 - accuracy: 0.8447\n",
      "Epoch 10/10\n",
      "322/322 [==============================] - 0s 60us/sample - loss: 0.4063 - accuracy: 0.8758\n",
      "Train on 325 samples\n",
      "Epoch 1/10\n",
      "325/325 [==============================] - 9s 26ms/sample - loss: 2.2562 - accuracy: 0.1477\n",
      "Epoch 2/10\n",
      "325/325 [==============================] - 0s 65us/sample - loss: 1.9216 - accuracy: 0.4923\n",
      "Epoch 3/10\n",
      "325/325 [==============================] - 0s 62us/sample - loss: 1.5015 - accuracy: 0.5754\n",
      "Epoch 4/10\n",
      "325/325 [==============================] - 0s 61us/sample - loss: 1.1290 - accuracy: 0.6215\n",
      "Epoch 5/10\n",
      "325/325 [==============================] - 0s 59us/sample - loss: 0.8992 - accuracy: 0.7046\n",
      "Epoch 6/10\n",
      "325/325 [==============================] - 0s 65us/sample - loss: 0.7819 - accuracy: 0.7415\n",
      "Epoch 7/10\n",
      "325/325 [==============================] - 0s 61us/sample - loss: 0.5922 - accuracy: 0.8369\n",
      "Epoch 8/10\n",
      "325/325 [==============================] - 0s 64us/sample - loss: 0.4978 - accuracy: 0.8338\n",
      "Epoch 9/10\n",
      "325/325 [==============================] - 0s 62us/sample - loss: 0.4373 - accuracy: 0.8585\n",
      "Epoch 10/10\n",
      "325/325 [==============================] - 0s 62us/sample - loss: 0.3660 - accuracy: 0.8892\n",
      "Train on 325 samples\n",
      "Epoch 1/10\n",
      "325/325 [==============================] - 1s 2ms/sample - loss: 2.2398 - accuracy: 0.1600\n",
      "Epoch 2/10\n",
      "325/325 [==============================] - 0s 61us/sample - loss: 1.8475 - accuracy: 0.5138\n",
      "Epoch 3/10\n",
      "325/325 [==============================] - 0s 63us/sample - loss: 1.3363 - accuracy: 0.6308\n",
      "Epoch 4/10\n",
      "325/325 [==============================] - 0s 62us/sample - loss: 0.9863 - accuracy: 0.6923\n",
      "Epoch 5/10\n",
      "325/325 [==============================] - 0s 63us/sample - loss: 0.7311 - accuracy: 0.7415\n",
      "Epoch 6/10\n",
      "325/325 [==============================] - 0s 60us/sample - loss: 0.6101 - accuracy: 0.7969\n",
      "Epoch 7/10\n",
      "325/325 [==============================] - 0s 67us/sample - loss: 0.5057 - accuracy: 0.8523\n",
      "Epoch 8/10\n",
      "325/325 [==============================] - 0s 61us/sample - loss: 0.4395 - accuracy: 0.8492\n",
      "Epoch 9/10\n",
      "325/325 [==============================] - 0s 60us/sample - loss: 0.4106 - accuracy: 0.8677\n",
      "Epoch 10/10\n",
      "325/325 [==============================] - 0s 64us/sample - loss: 0.2891 - accuracy: 0.9200\n",
      "Train on 299 samples\n",
      "Epoch 1/10\n",
      "299/299 [==============================] - 9s 29ms/sample - loss: 2.2508 - accuracy: 0.1873\n",
      "Epoch 2/10\n",
      "299/299 [==============================] - 0s 71us/sample - loss: 1.8215 - accuracy: 0.5084\n",
      "Epoch 3/10\n",
      "299/299 [==============================] - 0s 64us/sample - loss: 1.4063 - accuracy: 0.6054\n",
      "Epoch 4/10\n",
      "299/299 [==============================] - 0s 64us/sample - loss: 1.1230 - accuracy: 0.6321\n",
      "Epoch 5/10\n",
      "299/299 [==============================] - 0s 65us/sample - loss: 0.8113 - accuracy: 0.7258\n",
      "Epoch 6/10\n",
      "299/299 [==============================] - 0s 63us/sample - loss: 0.7371 - accuracy: 0.7559\n",
      "Epoch 7/10\n",
      "299/299 [==============================] - 0s 64us/sample - loss: 0.6417 - accuracy: 0.7860\n",
      "Epoch 8/10\n",
      "299/299 [==============================] - 0s 64us/sample - loss: 0.5568 - accuracy: 0.7960\n",
      "Epoch 9/10\n",
      "299/299 [==============================] - 0s 66us/sample - loss: 0.4683 - accuracy: 0.8495\n",
      "Epoch 10/10\n",
      "299/299 [==============================] - 0s 65us/sample - loss: 0.4047 - accuracy: 0.8696\n",
      "Train on 358 samples\n",
      "Epoch 1/10\n",
      "358/358 [==============================] - 9s 25ms/sample - loss: 2.2430 - accuracy: 0.1732\n",
      "Epoch 2/10\n",
      "358/358 [==============================] - 0s 63us/sample - loss: 1.8149 - accuracy: 0.5363\n",
      "Epoch 3/10\n",
      "358/358 [==============================] - 0s 60us/sample - loss: 1.3735 - accuracy: 0.6117\n",
      "Epoch 4/10\n",
      "358/358 [==============================] - 0s 59us/sample - loss: 0.9749 - accuracy: 0.6788\n",
      "Epoch 5/10\n",
      "358/358 [==============================] - 0s 59us/sample - loss: 0.8260 - accuracy: 0.7626\n",
      "Epoch 6/10\n",
      "358/358 [==============================] - 0s 59us/sample - loss: 0.6293 - accuracy: 0.7849\n",
      "Epoch 7/10\n",
      "358/358 [==============================] - 0s 58us/sample - loss: 0.5580 - accuracy: 0.8128\n",
      "Epoch 8/10\n",
      "358/358 [==============================] - 0s 58us/sample - loss: 0.4924 - accuracy: 0.8547\n",
      "Epoch 9/10\n",
      "358/358 [==============================] - 0s 67us/sample - loss: 0.3907 - accuracy: 0.8855\n",
      "Epoch 10/10\n",
      "358/358 [==============================] - 0s 59us/sample - loss: 0.3378 - accuracy: 0.9050\n",
      "Train on 316 samples\n",
      "Epoch 1/10\n",
      "316/316 [==============================] - 1s 2ms/sample - loss: 2.2307 - accuracy: 0.1835\n",
      "Epoch 2/10\n",
      "316/316 [==============================] - 0s 61us/sample - loss: 1.7968 - accuracy: 0.4304\n",
      "Epoch 3/10\n",
      "316/316 [==============================] - 0s 61us/sample - loss: 1.2974 - accuracy: 0.6424\n",
      "Epoch 4/10\n",
      "316/316 [==============================] - 0s 61us/sample - loss: 0.8894 - accuracy: 0.7373\n",
      "Epoch 5/10\n",
      "316/316 [==============================] - 0s 62us/sample - loss: 0.7134 - accuracy: 0.7753\n",
      "Epoch 6/10\n",
      "316/316 [==============================] - 0s 61us/sample - loss: 0.5363 - accuracy: 0.8101\n",
      "Epoch 7/10\n",
      "316/316 [==============================] - 0s 62us/sample - loss: 0.5249 - accuracy: 0.8006\n",
      "Epoch 8/10\n",
      "316/316 [==============================] - 0s 72us/sample - loss: 0.4475 - accuracy: 0.8797\n",
      "Epoch 9/10\n",
      "316/316 [==============================] - 0s 60us/sample - loss: 0.4058 - accuracy: 0.8671\n",
      "Epoch 10/10\n",
      "316/316 [==============================] - 0s 60us/sample - loss: 0.2871 - accuracy: 0.9177\n",
      "Train on 340 samples\n",
      "Epoch 1/10\n",
      "340/340 [==============================] - 9s 26ms/sample - loss: 2.2426 - accuracy: 0.2088\n",
      "Epoch 2/10\n",
      "340/340 [==============================] - 0s 65us/sample - loss: 1.8486 - accuracy: 0.4529\n",
      "Epoch 3/10\n",
      "340/340 [==============================] - 0s 62us/sample - loss: 1.3243 - accuracy: 0.6000\n",
      "Epoch 4/10\n",
      "340/340 [==============================] - 0s 60us/sample - loss: 0.9937 - accuracy: 0.6618\n",
      "Epoch 5/10\n",
      "340/340 [==============================] - 0s 58us/sample - loss: 0.7161 - accuracy: 0.7647\n",
      "Epoch 6/10\n",
      "340/340 [==============================] - 0s 59us/sample - loss: 0.6491 - accuracy: 0.7824\n",
      "Epoch 7/10\n",
      "340/340 [==============================] - 0s 61us/sample - loss: 0.5151 - accuracy: 0.8647\n",
      "Epoch 8/10\n",
      "340/340 [==============================] - 0s 59us/sample - loss: 0.4175 - accuracy: 0.8794\n",
      "Epoch 9/10\n",
      "340/340 [==============================] - 0s 59us/sample - loss: 0.3868 - accuracy: 0.8676\n",
      "Epoch 10/10\n",
      "340/340 [==============================] - 0s 61us/sample - loss: 0.3174 - accuracy: 0.9088\n",
      "Train on 317 samples\n",
      "Epoch 1/10\n",
      "317/317 [==============================] - 9s 28ms/sample - loss: 2.2446 - accuracy: 0.1830\n",
      "Epoch 2/10\n",
      "317/317 [==============================] - 0s 70us/sample - loss: 1.8779 - accuracy: 0.4637\n",
      "Epoch 3/10\n",
      "317/317 [==============================] - 0s 64us/sample - loss: 1.3713 - accuracy: 0.5994\n",
      "Epoch 4/10\n",
      "317/317 [==============================] - 0s 63us/sample - loss: 0.9773 - accuracy: 0.6972\n",
      "Epoch 5/10\n",
      "317/317 [==============================] - 0s 62us/sample - loss: 0.7738 - accuracy: 0.7539\n",
      "Epoch 6/10\n",
      "317/317 [==============================] - 0s 64us/sample - loss: 0.6515 - accuracy: 0.7855\n",
      "Epoch 7/10\n",
      "317/317 [==============================] - 0s 65us/sample - loss: 0.5409 - accuracy: 0.8202\n",
      "Epoch 8/10\n",
      "317/317 [==============================] - 0s 65us/sample - loss: 0.4969 - accuracy: 0.8297\n",
      "Epoch 9/10\n",
      "317/317 [==============================] - 0s 64us/sample - loss: 0.4275 - accuracy: 0.8864\n",
      "Epoch 10/10\n",
      "317/317 [==============================] - 0s 63us/sample - loss: 0.3305 - accuracy: 0.8927\n",
      "Train on 346 samples\n",
      "Epoch 1/10\n",
      "346/346 [==============================] - 1s 2ms/sample - loss: 2.2278 - accuracy: 0.1763\n",
      "Epoch 2/10\n",
      "346/346 [==============================] - 0s 60us/sample - loss: 1.8060 - accuracy: 0.4682\n",
      "Epoch 3/10\n",
      "346/346 [==============================] - 0s 59us/sample - loss: 1.3288 - accuracy: 0.5983\n",
      "Epoch 4/10\n",
      "346/346 [==============================] - 0s 59us/sample - loss: 0.9161 - accuracy: 0.6879\n",
      "Epoch 5/10\n",
      "346/346 [==============================] - 0s 60us/sample - loss: 0.6725 - accuracy: 0.7948\n",
      "Epoch 6/10\n",
      "346/346 [==============================] - 0s 62us/sample - loss: 0.5703 - accuracy: 0.8064\n",
      "Epoch 7/10\n",
      "346/346 [==============================] - 0s 60us/sample - loss: 0.4712 - accuracy: 0.8208\n",
      "Epoch 8/10\n",
      "346/346 [==============================] - 0s 60us/sample - loss: 0.4150 - accuracy: 0.8555\n",
      "Epoch 9/10\n",
      "346/346 [==============================] - 0s 61us/sample - loss: 0.3770 - accuracy: 0.8728\n",
      "Epoch 10/10\n",
      "346/346 [==============================] - 0s 59us/sample - loss: 0.3221 - accuracy: 0.8786\n",
      "Train on 357 samples\n",
      "Epoch 1/10\n",
      "357/357 [==============================] - 9s 26ms/sample - loss: 2.2062 - accuracy: 0.2297\n",
      "Epoch 2/10\n",
      "357/357 [==============================] - 0s 62us/sample - loss: 1.7003 - accuracy: 0.5322\n",
      "Epoch 3/10\n",
      "357/357 [==============================] - 0s 60us/sample - loss: 1.2009 - accuracy: 0.6331\n",
      "Epoch 4/10\n",
      "357/357 [==============================] - 0s 59us/sample - loss: 0.8570 - accuracy: 0.7199\n",
      "Epoch 5/10\n",
      "357/357 [==============================] - 0s 59us/sample - loss: 0.6976 - accuracy: 0.7675\n",
      "Epoch 6/10\n",
      "357/357 [==============================] - 0s 60us/sample - loss: 0.5971 - accuracy: 0.7787\n",
      "Epoch 7/10\n",
      "357/357 [==============================] - 0s 57us/sample - loss: 0.5089 - accuracy: 0.8235\n",
      "Epoch 8/10\n",
      "357/357 [==============================] - 0s 57us/sample - loss: 0.4443 - accuracy: 0.8599\n",
      "Epoch 9/10\n",
      "357/357 [==============================] - 0s 66us/sample - loss: 0.3706 - accuracy: 0.8852\n",
      "Epoch 10/10\n",
      "357/357 [==============================] - 0s 61us/sample - loss: 0.3739 - accuracy: 0.8880\n",
      "Train on 356 samples\n",
      "Epoch 1/10\n",
      "356/356 [==============================] - 1s 2ms/sample - loss: 2.2301 - accuracy: 0.2303\n",
      "Epoch 2/10\n",
      "356/356 [==============================] - 0s 59us/sample - loss: 1.7905 - accuracy: 0.5084\n",
      "Epoch 3/10\n",
      "356/356 [==============================] - 0s 57us/sample - loss: 1.2496 - accuracy: 0.5871\n",
      "Epoch 4/10\n",
      "356/356 [==============================] - 0s 56us/sample - loss: 0.9701 - accuracy: 0.6882\n",
      "Epoch 5/10\n",
      "356/356 [==============================] - 0s 56us/sample - loss: 0.7556 - accuracy: 0.7444\n",
      "Epoch 6/10\n",
      "356/356 [==============================] - 0s 57us/sample - loss: 0.6150 - accuracy: 0.8034\n",
      "Epoch 7/10\n",
      "356/356 [==============================] - 0s 57us/sample - loss: 0.4839 - accuracy: 0.8596\n",
      "Epoch 8/10\n",
      "356/356 [==============================] - 0s 95us/sample - loss: 0.4114 - accuracy: 0.8848\n",
      "Epoch 9/10\n",
      "356/356 [==============================] - 0s 58us/sample - loss: 0.3209 - accuracy: 0.9270\n",
      "Epoch 10/10\n",
      "356/356 [==============================] - 0s 58us/sample - loss: 0.3180 - accuracy: 0.9045\n",
      "Train on 309 samples\n",
      "Epoch 1/10\n",
      "309/309 [==============================] - 9s 30ms/sample - loss: 2.2365 - accuracy: 0.1877\n",
      "Epoch 2/10\n",
      "309/309 [==============================] - 0s 69us/sample - loss: 1.8212 - accuracy: 0.5696\n",
      "Epoch 3/10\n",
      "309/309 [==============================] - 0s 63us/sample - loss: 1.3673 - accuracy: 0.5793\n",
      "Epoch 4/10\n",
      "309/309 [==============================] - 0s 62us/sample - loss: 1.0210 - accuracy: 0.6634\n",
      "Epoch 5/10\n",
      "309/309 [==============================] - 0s 64us/sample - loss: 0.8391 - accuracy: 0.7152\n",
      "Epoch 6/10\n",
      "309/309 [==============================] - 0s 61us/sample - loss: 0.6843 - accuracy: 0.7735\n",
      "Epoch 7/10\n",
      "309/309 [==============================] - 0s 63us/sample - loss: 0.5337 - accuracy: 0.8382\n",
      "Epoch 8/10\n",
      "309/309 [==============================] - 0s 69us/sample - loss: 0.4741 - accuracy: 0.8576\n",
      "Epoch 9/10\n",
      "309/309 [==============================] - 0s 63us/sample - loss: 0.4173 - accuracy: 0.8803\n",
      "Epoch 10/10\n",
      "309/309 [==============================] - 0s 65us/sample - loss: 0.3763 - accuracy: 0.8738\n",
      "Train on 334 samples\n",
      "Epoch 1/10\n",
      "334/334 [==============================] - 1s 2ms/sample - loss: 2.2479 - accuracy: 0.2246\n",
      "Epoch 2/10\n",
      "334/334 [==============================] - 0s 61us/sample - loss: 1.8394 - accuracy: 0.4731\n",
      "Epoch 3/10\n",
      "334/334 [==============================] - 0s 60us/sample - loss: 1.3358 - accuracy: 0.6257\n",
      "Epoch 4/10\n",
      "334/334 [==============================] - 0s 60us/sample - loss: 1.0074 - accuracy: 0.7216\n",
      "Epoch 5/10\n",
      "334/334 [==============================] - 0s 60us/sample - loss: 0.8279 - accuracy: 0.7305\n"
     ]
    },
    {
     "name": "stdout",
     "output_type": "stream",
     "text": [
      "Epoch 6/10\n",
      "334/334 [==============================] - 0s 60us/sample - loss: 0.7031 - accuracy: 0.7725\n",
      "Epoch 7/10\n",
      "334/334 [==============================] - 0s 60us/sample - loss: 0.6122 - accuracy: 0.7994\n",
      "Epoch 8/10\n",
      "334/334 [==============================] - 0s 59us/sample - loss: 0.4986 - accuracy: 0.8503\n",
      "Epoch 9/10\n",
      "334/334 [==============================] - 0s 61us/sample - loss: 0.4208 - accuracy: 0.8653\n",
      "Epoch 10/10\n",
      "334/334 [==============================] - 0s 61us/sample - loss: 0.3740 - accuracy: 0.8862\n",
      "Train on 349 samples\n",
      "Epoch 1/10\n",
      "349/349 [==============================] - 1s 2ms/sample - loss: 2.2140 - accuracy: 0.2006\n",
      "Epoch 2/10\n",
      "349/349 [==============================] - 0s 59us/sample - loss: 1.7700 - accuracy: 0.5158\n",
      "Epoch 3/10\n",
      "349/349 [==============================] - 0s 58us/sample - loss: 1.2889 - accuracy: 0.6332\n",
      "Epoch 4/10\n",
      "349/349 [==============================] - 0s 58us/sample - loss: 0.8781 - accuracy: 0.7077\n",
      "Epoch 5/10\n",
      "349/349 [==============================] - 0s 58us/sample - loss: 0.7859 - accuracy: 0.7249\n",
      "Epoch 6/10\n",
      "349/349 [==============================] - 0s 57us/sample - loss: 0.6229 - accuracy: 0.8080\n",
      "Epoch 7/10\n",
      "349/349 [==============================] - 0s 59us/sample - loss: 0.4830 - accuracy: 0.8596\n",
      "Epoch 8/10\n",
      "349/349 [==============================] - 0s 59us/sample - loss: 0.3964 - accuracy: 0.8825\n",
      "Epoch 9/10\n",
      "349/349 [==============================] - 0s 59us/sample - loss: 0.4198 - accuracy: 0.8682\n",
      "Epoch 10/10\n",
      "349/349 [==============================] - 0s 58us/sample - loss: 0.3025 - accuracy: 0.9112\n",
      "Train on 349 samples\n",
      "Epoch 1/10\n",
      "349/349 [==============================] - 1s 2ms/sample - loss: 2.2407 - accuracy: 0.2063\n",
      "Epoch 2/10\n",
      "349/349 [==============================] - 0s 58us/sample - loss: 1.7669 - accuracy: 0.5301\n",
      "Epoch 3/10\n",
      "349/349 [==============================] - 0s 58us/sample - loss: 1.2646 - accuracy: 0.6648\n",
      "Epoch 4/10\n",
      "349/349 [==============================] - 0s 57us/sample - loss: 0.9301 - accuracy: 0.7020\n",
      "Epoch 5/10\n",
      "349/349 [==============================] - 0s 57us/sample - loss: 0.7057 - accuracy: 0.7650\n",
      "Epoch 6/10\n",
      "349/349 [==============================] - 0s 59us/sample - loss: 0.6418 - accuracy: 0.7736\n",
      "Epoch 7/10\n",
      "349/349 [==============================] - 0s 59us/sample - loss: 0.5369 - accuracy: 0.8453\n",
      "Epoch 8/10\n",
      "349/349 [==============================] - 0s 59us/sample - loss: 0.4489 - accuracy: 0.8567\n",
      "Epoch 9/10\n",
      "349/349 [==============================] - 0s 58us/sample - loss: 0.4106 - accuracy: 0.8797\n",
      "Epoch 10/10\n",
      "349/349 [==============================] - 0s 58us/sample - loss: 0.3215 - accuracy: 0.9140\n",
      "Train on 319 samples\n",
      "Epoch 1/10\n",
      "319/319 [==============================] - 1s 2ms/sample - loss: 2.2379 - accuracy: 0.2132\n",
      "Epoch 2/10\n",
      "319/319 [==============================] - 0s 61us/sample - loss: 1.7782 - accuracy: 0.5078\n",
      "Epoch 3/10\n",
      "319/319 [==============================] - 0s 59us/sample - loss: 1.2765 - accuracy: 0.6270\n",
      "Epoch 4/10\n",
      "319/319 [==============================] - 0s 59us/sample - loss: 0.9816 - accuracy: 0.6771\n",
      "Epoch 5/10\n",
      "319/319 [==============================] - 0s 60us/sample - loss: 0.7562 - accuracy: 0.7241\n",
      "Epoch 6/10\n",
      "319/319 [==============================] - 0s 61us/sample - loss: 0.6312 - accuracy: 0.7994\n",
      "Epoch 7/10\n",
      "319/319 [==============================] - 0s 60us/sample - loss: 0.5536 - accuracy: 0.8245\n",
      "Epoch 8/10\n",
      "319/319 [==============================] - 0s 61us/sample - loss: 0.4209 - accuracy: 0.8809\n",
      "Epoch 9/10\n",
      "319/319 [==============================] - 0s 60us/sample - loss: 0.4137 - accuracy: 0.8777\n",
      "Epoch 10/10\n",
      "319/319 [==============================] - 0s 60us/sample - loss: 0.3746 - accuracy: 0.8715\n",
      "Train on 343 samples\n",
      "Epoch 1/10\n",
      "343/343 [==============================] - 10s 28ms/sample - loss: 2.2093 - accuracy: 0.2653\n",
      "Epoch 2/10\n",
      "343/343 [==============================] - 0s 65us/sample - loss: 1.8009 - accuracy: 0.4985\n",
      "Epoch 3/10\n",
      "343/343 [==============================] - 0s 60us/sample - loss: 1.2585 - accuracy: 0.6327\n",
      "Epoch 4/10\n",
      "343/343 [==============================] - 0s 59us/sample - loss: 0.9746 - accuracy: 0.6880\n",
      "Epoch 5/10\n",
      "343/343 [==============================] - 0s 59us/sample - loss: 0.7725 - accuracy: 0.7318\n",
      "Epoch 6/10\n",
      "343/343 [==============================] - 0s 59us/sample - loss: 0.6380 - accuracy: 0.7755\n",
      "Epoch 7/10\n",
      "343/343 [==============================] - 0s 59us/sample - loss: 0.5327 - accuracy: 0.8192\n",
      "Epoch 8/10\n",
      "343/343 [==============================] - 0s 58us/sample - loss: 0.4418 - accuracy: 0.8601\n",
      "Epoch 9/10\n",
      "343/343 [==============================] - 0s 58us/sample - loss: 0.4500 - accuracy: 0.8542\n",
      "Epoch 10/10\n",
      "343/343 [==============================] - 0s 59us/sample - loss: 0.3728 - accuracy: 0.8950\n",
      "Train on 319 samples\n",
      "Epoch 1/10\n",
      "319/319 [==============================] - 1s 2ms/sample - loss: 2.2490 - accuracy: 0.1787\n",
      "Epoch 2/10\n",
      "319/319 [==============================] - 0s 64us/sample - loss: 1.8409 - accuracy: 0.4890\n",
      "Epoch 3/10\n",
      "319/319 [==============================] - 0s 63us/sample - loss: 1.2983 - accuracy: 0.6207\n",
      "Epoch 4/10\n",
      "319/319 [==============================] - 0s 61us/sample - loss: 0.9607 - accuracy: 0.6897\n",
      "Epoch 5/10\n",
      "319/319 [==============================] - 0s 64us/sample - loss: 0.7480 - accuracy: 0.7524\n",
      "Epoch 6/10\n",
      "319/319 [==============================] - 0s 61us/sample - loss: 0.5847 - accuracy: 0.7900\n",
      "Epoch 7/10\n",
      "319/319 [==============================] - 0s 62us/sample - loss: 0.5092 - accuracy: 0.8182\n",
      "Epoch 8/10\n",
      "319/319 [==============================] - 0s 61us/sample - loss: 0.4035 - accuracy: 0.8558\n",
      "Epoch 9/10\n",
      "319/319 [==============================] - 0s 64us/sample - loss: 0.4057 - accuracy: 0.8527\n",
      "Epoch 10/10\n",
      "319/319 [==============================] - 0s 61us/sample - loss: 0.3106 - accuracy: 0.8966\n",
      "Train on 297 samples\n",
      "Epoch 1/10\n",
      "297/297 [==============================] - 10s 33ms/sample - loss: 2.2636 - accuracy: 0.1380\n",
      "Epoch 2/10\n",
      "297/297 [==============================] - 0s 72us/sample - loss: 1.9138 - accuracy: 0.5219\n",
      "Epoch 3/10\n",
      "297/297 [==============================] - 0s 64us/sample - loss: 1.4721 - accuracy: 0.5387\n",
      "Epoch 4/10\n",
      "297/297 [==============================] - 0s 67us/sample - loss: 1.1539 - accuracy: 0.5892\n",
      "Epoch 5/10\n",
      "297/297 [==============================] - 0s 64us/sample - loss: 0.9384 - accuracy: 0.6835\n",
      "Epoch 6/10\n",
      "297/297 [==============================] - 0s 63us/sample - loss: 0.7685 - accuracy: 0.7340\n",
      "Epoch 7/10\n",
      "297/297 [==============================] - 0s 77us/sample - loss: 0.7317 - accuracy: 0.7710\n",
      "Epoch 8/10\n",
      "297/297 [==============================] - 0s 74us/sample - loss: 0.6076 - accuracy: 0.7946\n",
      "Epoch 9/10\n",
      "297/297 [==============================] - 0s 65us/sample - loss: 0.4987 - accuracy: 0.8485\n",
      "Epoch 10/10\n",
      "297/297 [==============================] - 0s 65us/sample - loss: 0.4324 - accuracy: 0.8620\n",
      "Train on 351 samples\n",
      "Epoch 1/10\n",
      "351/351 [==============================] - 10s 28ms/sample - loss: 2.2330 - accuracy: 0.2080\n",
      "Epoch 2/10\n",
      "351/351 [==============================] - 0s 64us/sample - loss: 1.8363 - accuracy: 0.4359\n",
      "Epoch 3/10\n",
      "351/351 [==============================] - 0s 60us/sample - loss: 1.2881 - accuracy: 0.6211\n",
      "Epoch 4/10\n",
      "351/351 [==============================] - 0s 60us/sample - loss: 0.9869 - accuracy: 0.6809\n",
      "Epoch 5/10\n",
      "351/351 [==============================] - 0s 59us/sample - loss: 0.6705 - accuracy: 0.7835\n",
      "Epoch 6/10\n",
      "351/351 [==============================] - 0s 65us/sample - loss: 0.6048 - accuracy: 0.8148\n",
      "Epoch 7/10\n",
      "351/351 [==============================] - 0s 61us/sample - loss: 0.5213 - accuracy: 0.8063\n",
      "Epoch 8/10\n",
      "351/351 [==============================] - 0s 66us/sample - loss: 0.4320 - accuracy: 0.8718\n",
      "Epoch 9/10\n",
      "351/351 [==============================] - 0s 60us/sample - loss: 0.4119 - accuracy: 0.8746\n",
      "Epoch 10/10\n",
      "351/351 [==============================] - 0s 59us/sample - loss: 0.2920 - accuracy: 0.9031\n",
      "Train on 318 samples\n",
      "Epoch 1/10\n",
      "318/318 [==============================] - 10s 31ms/sample - loss: 2.2558 - accuracy: 0.2075\n",
      "Epoch 2/10\n",
      "318/318 [==============================] - 0s 70us/sample - loss: 1.8831 - accuracy: 0.4434\n",
      "Epoch 3/10\n",
      "318/318 [==============================] - 0s 66us/sample - loss: 1.3736 - accuracy: 0.6289\n",
      "Epoch 4/10\n",
      "318/318 [==============================] - 0s 61us/sample - loss: 1.0157 - accuracy: 0.6824\n",
      "Epoch 5/10\n",
      "318/318 [==============================] - 0s 62us/sample - loss: 0.8743 - accuracy: 0.7170\n",
      "Epoch 6/10\n",
      "318/318 [==============================] - 0s 66us/sample - loss: 0.7023 - accuracy: 0.7799\n",
      "Epoch 7/10\n",
      "318/318 [==============================] - 0s 66us/sample - loss: 0.5835 - accuracy: 0.8208\n",
      "Epoch 8/10\n",
      "318/318 [==============================] - 0s 65us/sample - loss: 0.5008 - accuracy: 0.8522\n",
      "Epoch 9/10\n",
      "318/318 [==============================] - 0s 63us/sample - loss: 0.4325 - accuracy: 0.8711\n",
      "Epoch 10/10\n",
      "318/318 [==============================] - 0s 64us/sample - loss: 0.3528 - accuracy: 0.8899\n",
      "Train on 340 samples\n",
      "Epoch 1/10\n",
      "340/340 [==============================] - 1s 2ms/sample - loss: 2.2271 - accuracy: 0.2235\n",
      "Epoch 2/10\n",
      "340/340 [==============================] - 0s 62us/sample - loss: 1.8216 - accuracy: 0.4794\n",
      "Epoch 3/10\n",
      "340/340 [==============================] - 0s 81us/sample - loss: 1.3581 - accuracy: 0.6088\n",
      "Epoch 4/10\n",
      "340/340 [==============================] - 0s 62us/sample - loss: 0.9313 - accuracy: 0.7088\n",
      "Epoch 5/10\n",
      "340/340 [==============================] - 0s 61us/sample - loss: 0.8048 - accuracy: 0.7206\n",
      "Epoch 6/10\n",
      "340/340 [==============================] - 0s 59us/sample - loss: 0.7069 - accuracy: 0.7618\n",
      "Epoch 7/10\n",
      "340/340 [==============================] - 0s 60us/sample - loss: 0.5158 - accuracy: 0.8382\n",
      "Epoch 8/10\n",
      "340/340 [==============================] - 0s 61us/sample - loss: 0.4465 - accuracy: 0.8706\n",
      "Epoch 9/10\n",
      "340/340 [==============================] - 0s 63us/sample - loss: 0.4465 - accuracy: 0.8471\n",
      "Epoch 10/10\n",
      "340/340 [==============================] - 0s 61us/sample - loss: 0.3275 - accuracy: 0.9059\n",
      "Train on 315 samples\n",
      "Epoch 1/10\n",
      "315/315 [==============================] - 10s 32ms/sample - loss: 2.2389 - accuracy: 0.1460\n",
      "Epoch 2/10\n",
      "315/315 [==============================] - 0s 68us/sample - loss: 1.8743 - accuracy: 0.4444\n",
      "Epoch 3/10\n",
      "315/315 [==============================] - 0s 62us/sample - loss: 1.3380 - accuracy: 0.6063\n",
      "Epoch 4/10\n",
      "315/315 [==============================] - 0s 63us/sample - loss: 0.9545 - accuracy: 0.6952\n",
      "Epoch 5/10\n",
      "315/315 [==============================] - 0s 62us/sample - loss: 0.7586 - accuracy: 0.7683\n",
      "Epoch 6/10\n",
      "315/315 [==============================] - 0s 63us/sample - loss: 0.6775 - accuracy: 0.7873\n",
      "Epoch 7/10\n",
      "315/315 [==============================] - 0s 63us/sample - loss: 0.5398 - accuracy: 0.8254\n",
      "Epoch 8/10\n",
      "315/315 [==============================] - 0s 60us/sample - loss: 0.4447 - accuracy: 0.8540\n",
      "Epoch 9/10\n",
      "315/315 [==============================] - 0s 63us/sample - loss: 0.4110 - accuracy: 0.8730\n",
      "Epoch 10/10\n",
      "315/315 [==============================] - 0s 63us/sample - loss: 0.3439 - accuracy: 0.8889\n",
      "Train on 372 samples\n",
      "Epoch 1/10\n",
      "372/372 [==============================] - 1s 2ms/sample - loss: 2.2153 - accuracy: 0.2392\n",
      "Epoch 2/10\n",
      "372/372 [==============================] - 0s 58us/sample - loss: 1.7894 - accuracy: 0.4919\n",
      "Epoch 3/10\n",
      "372/372 [==============================] - 0s 63us/sample - loss: 1.2292 - accuracy: 0.6720\n",
      "Epoch 4/10\n",
      "372/372 [==============================] - 0s 58us/sample - loss: 0.9454 - accuracy: 0.7151\n",
      "Epoch 5/10\n",
      "372/372 [==============================] - 0s 58us/sample - loss: 0.7249 - accuracy: 0.7876\n",
      "Epoch 6/10\n",
      "372/372 [==============================] - 0s 57us/sample - loss: 0.6214 - accuracy: 0.8091\n",
      "Epoch 7/10\n",
      "372/372 [==============================] - 0s 58us/sample - loss: 0.5210 - accuracy: 0.8441\n",
      "Epoch 8/10\n",
      "372/372 [==============================] - 0s 57us/sample - loss: 0.4271 - accuracy: 0.8710\n",
      "Epoch 9/10\n",
      "372/372 [==============================] - 0s 58us/sample - loss: 0.3961 - accuracy: 0.8683\n",
      "Epoch 10/10\n",
      "372/372 [==============================] - 0s 58us/sample - loss: 0.2653 - accuracy: 0.9301\n",
      "Train on 349 samples\n",
      "Epoch 1/10\n",
      "349/349 [==============================] - 1s 2ms/sample - loss: 2.2105 - accuracy: 0.2636\n",
      "Epoch 2/10\n",
      "349/349 [==============================] - 0s 60us/sample - loss: 1.7483 - accuracy: 0.5301\n",
      "Epoch 3/10\n",
      "349/349 [==============================] - 0s 61us/sample - loss: 1.2145 - accuracy: 0.6762\n",
      "Epoch 4/10\n",
      "349/349 [==============================] - 0s 59us/sample - loss: 0.9366 - accuracy: 0.7364\n",
      "Epoch 5/10\n",
      "349/349 [==============================] - 0s 61us/sample - loss: 0.6917 - accuracy: 0.7765\n",
      "Epoch 6/10\n",
      "349/349 [==============================] - 0s 59us/sample - loss: 0.6333 - accuracy: 0.7794\n",
      "Epoch 7/10\n",
      "349/349 [==============================] - 0s 60us/sample - loss: 0.5251 - accuracy: 0.8252\n",
      "Epoch 8/10\n",
      "349/349 [==============================] - 0s 71us/sample - loss: 0.4078 - accuracy: 0.8797\n",
      "Epoch 9/10\n",
      "349/349 [==============================] - 0s 60us/sample - loss: 0.3521 - accuracy: 0.8883\n",
      "Epoch 10/10\n",
      "349/349 [==============================] - 0s 57us/sample - loss: 0.2785 - accuracy: 0.9083\n",
      "Train on 355 samples\n",
      "Epoch 1/10\n",
      "355/355 [==============================] - 1s 2ms/sample - loss: 2.2523 - accuracy: 0.1521\n",
      "Epoch 2/10\n",
      "355/355 [==============================] - 0s 59us/sample - loss: 1.8834 - accuracy: 0.4761\n",
      "Epoch 3/10\n",
      "355/355 [==============================] - 0s 59us/sample - loss: 1.3853 - accuracy: 0.6225\n",
      "Epoch 4/10\n",
      "355/355 [==============================] - 0s 59us/sample - loss: 1.0126 - accuracy: 0.7014\n",
      "Epoch 5/10\n",
      "355/355 [==============================] - 0s 57us/sample - loss: 0.8332 - accuracy: 0.7465\n",
      "Epoch 6/10\n",
      "355/355 [==============================] - 0s 59us/sample - loss: 0.7100 - accuracy: 0.7521\n",
      "Epoch 7/10\n",
      "355/355 [==============================] - 0s 58us/sample - loss: 0.5785 - accuracy: 0.8225\n",
      "Epoch 8/10\n",
      "355/355 [==============================] - 0s 59us/sample - loss: 0.5100 - accuracy: 0.8338\n",
      "Epoch 9/10\n",
      "355/355 [==============================] - 0s 59us/sample - loss: 0.4461 - accuracy: 0.8535\n",
      "Epoch 10/10\n",
      "355/355 [==============================] - 0s 60us/sample - loss: 0.3684 - accuracy: 0.8704\n",
      "Train on 353 samples\n",
      "Epoch 1/10\n",
      "353/353 [==============================] - 10s 30ms/sample - loss: 2.2393 - accuracy: 0.2125\n",
      "Epoch 2/10\n",
      "353/353 [==============================] - 0s 63us/sample - loss: 1.8570 - accuracy: 0.4448\n",
      "Epoch 3/10\n",
      "353/353 [==============================] - 0s 61us/sample - loss: 1.3798 - accuracy: 0.5722\n",
      "Epoch 4/10\n",
      "353/353 [==============================] - 0s 60us/sample - loss: 1.0760 - accuracy: 0.6799\n",
      "Epoch 5/10\n",
      "353/353 [==============================] - 0s 58us/sample - loss: 0.8136 - accuracy: 0.7224\n",
      "Epoch 6/10\n",
      "353/353 [==============================] - 0s 60us/sample - loss: 0.6846 - accuracy: 0.7734\n",
      "Epoch 7/10\n",
      "353/353 [==============================] - 0s 58us/sample - loss: 0.5507 - accuracy: 0.8442\n",
      "Epoch 8/10\n",
      "353/353 [==============================] - 0s 60us/sample - loss: 0.4844 - accuracy: 0.8329\n",
      "Epoch 9/10\n",
      "353/353 [==============================] - 0s 76us/sample - loss: 0.4027 - accuracy: 0.8697\n",
      "Epoch 10/10\n",
      "353/353 [==============================] - 0s 60us/sample - loss: 0.3476 - accuracy: 0.8895\n"
     ]
    }
   ],
   "source": [
    "model.fit(pdata, plabels, nb_epochs=10)\n",
    "dpa_model_10.fit(pdata, plabels, nb_epochs=10)\n",
    "dpa_model_20.fit(pdata, plabels, nb_epochs=10)\n",
    "dpa_model_30.fit(pdata, plabels, nb_epochs=10)"
   ]
  },
  {
   "cell_type": "markdown",
   "id": "d7389971",
   "metadata": {},
   "source": [
    "# Evaluate the performance of the trained models on unpoisoned data\n",
    "The performance of the models appears normal. We see that for the DPA models, the performance drops slightly as the ensemble size increases"
   ]
  },
  {
   "cell_type": "code",
   "execution_count": 10,
   "id": "2f63b588",
   "metadata": {},
   "outputs": [
    {
     "name": "stdout",
     "output_type": "stream",
     "text": [
      "\n",
      "Clean test set accuracy (model): 98.03%\n"
     ]
    },
    {
     "data": {
      "image/png": "[encoded data removed]",
      "text/plain": [
       "<Figure size 432x288 with 1 Axes>"
      ]
     },
     "metadata": {
      "needs_background": "light"
     },
     "output_type": "display_data"
    },
    {
     "name": "stdout",
     "output_type": "stream",
     "text": [
      "Prediction: 0\n"
     ]
    }
   ],
   "source": [
    "clean_preds = np.argmax(model.predict(x_test), axis=1)\n",
    "clean_correct = np.sum(clean_preds == np.argmax(y_test, axis=1))\n",
    "clean_total = y_test.shape[0]\n",
    "\n",
    "clean_acc = clean_correct / clean_total\n",
    "print(\"\\nClean test set accuracy (model): %.2f%%\" % (clean_acc * 100))\n",
    "\n",
    "# Display image, label, and prediction for a clean sample to show how the poisoned model classifies a clean sample\n",
    "\n",
    "c = 0 # class to display\n",
    "i = 0 # image of the class to display\n",
    "\n",
    "c_idx = np.where(np.argmax(y_test, 1) == c)[0][i] # index of the image in clean arrays\n",
    "\n",
    "plt.imshow(x_test[c_idx].squeeze())\n",
    "plt.show()\n",
    "clean_label = c\n",
    "print(\"Prediction: \" + str(clean_preds[c_idx]))"
   ]
  },
  {
   "cell_type": "code",
   "execution_count": 11,
   "id": "2f29f09a",
   "metadata": {},
   "outputs": [
    {
     "name": "stdout",
     "output_type": "stream",
     "text": [
      "\n",
      "Clean test set accuracy (DPA model): 93.94%\n"
     ]
    },
    {
     "data": {
      "image/png": "[encoded data removed]",
      "text/plain": [
       "<Figure size 432x288 with 1 Axes>"
      ]
     },
     "metadata": {
      "needs_background": "light"
     },
     "output_type": "display_data"
    },
    {
     "name": "stdout",
     "output_type": "stream",
     "text": [
      "Prediction: 0\n"
     ]
    }
   ],
   "source": [
    "clean_preds = np.argmax(dpa_model_10.predict(x_test), axis=1)\n",
    "clean_correct = np.sum(clean_preds == np.argmax(y_test, axis=1))\n",
    "clean_total = y_test.shape[0]\n",
    "\n",
    "clean_acc = clean_correct / clean_total\n",
    "print(\"\\nClean test set accuracy (DPA model_10): %.2f%%\" % (clean_acc * 100))\n",
    "\n",
    "# Display image, label, and prediction for a clean sample to show how the poisoned model classifies a clean sample\n",
    "\n",
    "c = 0 # class to display\n",
    "i = 0 # image of the class to display\n",
    "\n",
    "c_idx = np.where(np.argmax(y_test, 1) == c)[0][i] # index of the image in clean arrays\n",
    "\n",
    "plt.imshow(x_test[c_idx].squeeze())\n",
    "plt.show()\n",
    "clean_label = c\n",
    "print(\"Prediction: \" + str(clean_preds[c_idx]))"
   ]
  },
  {
   "cell_type": "code",
   "execution_count": 12,
   "id": "af7b0bdd",
   "metadata": {},
   "outputs": [
    {
     "name": "stdout",
     "output_type": "stream",
     "text": [
      "\n",
      "Clean test set accuracy (DPA model): 91.36%\n"
     ]
    },
    {
     "data": {
      "image/png": "[encoded data removed]",
      "text/plain": [
       "<Figure size 432x288 with 1 Axes>"
      ]
     },
     "metadata": {
      "needs_background": "light"
     },
     "output_type": "display_data"
    },
    {
     "name": "stdout",
     "output_type": "stream",
     "text": [
      "Prediction: 0\n"
     ]
    }
   ],
   "source": [
    "clean_preds = np.argmax(dpa_model_20.predict(x_test), axis=1)\n",
    "clean_correct = np.sum(clean_preds == np.argmax(y_test, axis=1))\n",
    "clean_total = y_test.shape[0]\n",
    "\n",
    "clean_acc = clean_correct / clean_total\n",
    "print(\"\\nClean test set accuracy (DPA model_20): %.2f%%\" % (clean_acc * 100))\n",
    "\n",
    "# Display image, label, and prediction for a clean sample to show how the poisoned model classifies a clean sample\n",
    "\n",
    "c = 0 # class to display\n",
    "i = 0 # image of the class to display\n",
    "\n",
    "c_idx = np.where(np.argmax(y_test, 1) == c)[0][i] # index of the image in clean arrays\n",
    "\n",
    "plt.imshow(x_test[c_idx].squeeze())\n",
    "plt.show()\n",
    "clean_label = c\n",
    "print(\"Prediction: \" + str(clean_preds[c_idx]))"
   ]
  },
  {
   "cell_type": "code",
   "execution_count": 13,
   "id": "74d91009",
   "metadata": {},
   "outputs": [
    {
     "name": "stdout",
     "output_type": "stream",
     "text": [
      "\n",
      "Clean test set accuracy (DPA model): 90.05%\n"
     ]
    },
    {
     "data": {
      "image/png": "[encoded data removed]",
      "text/plain": [
       "<Figure size 432x288 with 1 Axes>"
      ]
     },
     "metadata": {
      "needs_background": "light"
     },
     "output_type": "display_data"
    },
    {
     "name": "stdout",
     "output_type": "stream",
     "text": [
      "Prediction: 0\n"
     ]
    }
   ],
   "source": [
    "clean_preds = np.argmax(dpa_model_30.predict(x_test), axis=1)\n",
    "clean_correct = np.sum(clean_preds == np.argmax(y_test, axis=1))\n",
    "clean_total = y_test.shape[0]\n",
    "\n",
    "clean_acc = clean_correct / clean_total\n",
    "print(\"\\nClean test set accuracy (DPA model_30): %.2f%%\" % (clean_acc * 100))\n",
    "\n",
    "# Display image, label, and prediction for a clean sample to show how the poisoned model classifies a clean sample\n",
    "\n",
    "c = 0 # class to display\n",
    "i = 0 # image of the class to display\n",
    "\n",
    "c_idx = np.where(np.argmax(y_test, 1) == c)[0][i] # index of the image in clean arrays\n",
    "\n",
    "plt.imshow(x_test[c_idx].squeeze())\n",
    "plt.show()\n",
    "clean_label = c\n",
    "print(\"Prediction: \" + str(clean_preds[c_idx]))"
   ]
  },
  {
   "cell_type": "markdown",
   "id": "d44d4bf3",
   "metadata": {},
   "source": [
    "# Evaluate the performance of the trained models on poisoned data\n",
    "When the trigger is added, we see a shift in performance. The single model performs the worst as no defense is in place to mitigate the effect of the poisoned. The DPA models show some robustnesss to the poison as they partition the training data, which spreads the effect of the poison between models in the ensemble."
   ]
  },
  {
   "cell_type": "code",
   "execution_count": 14,
   "id": "1cd59ae2",
   "metadata": {},
   "outputs": [
    {
     "name": "stdout",
     "output_type": "stream",
     "text": [
      "\n",
      "Poison test set accuracy (model): 0.01%\n"
     ]
    },
    {
     "data": {
      "image/png": "[encoded data removed]",
      "text/plain": [
       "<Figure size 432x288 with 1 Axes>"
      ]
     },
     "metadata": {
      "needs_background": "light"
     },
     "output_type": "display_data"
    },
    {
     "name": "stdout",
     "output_type": "stream",
     "text": [
      "Prediction: 9\n"
     ]
    }
   ],
   "source": [
    "not_target = np.logical_not(np.all(y_test == targets, axis=1))\n",
    "px_test, py_test = backdoor.poison(x_test[not_target], y_test[not_target])\n",
    "\n",
    "poison_preds = np.argmax(model.predict(px_test), axis=1)\n",
    "clean_correct = np.sum(poison_preds == np.argmax(y_test[not_target], axis=1))\n",
    "clean_total = y_test.shape[0]\n",
    "\n",
    "clean_acc = clean_correct / clean_total\n",
    "print(\"\\nPoison test set accuracy (model): %.2f%%\" % (clean_acc * 100))\n",
    "\n",
    "c = 0 # index to display\n",
    "plt.imshow(px_test[c].squeeze())\n",
    "plt.show()\n",
    "clean_label = c\n",
    "print(\"Prediction: \" + str(poison_preds[c]))"
   ]
  },
  {
   "cell_type": "code",
   "execution_count": 15,
   "id": "500e4154",
   "metadata": {},
   "outputs": [
    {
     "name": "stdout",
     "output_type": "stream",
     "text": [
      "\n",
      "Poison test set accuracy (DPA model): 73.76%\n"
     ]
    },
    {
     "data": {
      "image/png": "[encoded data removed]",
      "text/plain": [
       "<Figure size 432x288 with 1 Axes>"
      ]
     },
     "metadata": {
      "needs_background": "light"
     },
     "output_type": "display_data"
    },
    {
     "name": "stdout",
     "output_type": "stream",
     "text": [
      "Prediction: 7\n"
     ]
    }
   ],
   "source": [
    "poison_preds = np.argmax(dpa_model_10.predict(px_test), axis=1)\n",
    "clean_correct = np.sum(poison_preds == np.argmax(y_test[not_target], axis=1))\n",
    "clean_total = y_test.shape[0]\n",
    "\n",
    "clean_acc = clean_correct / clean_total\n",
    "print(\"\\nPoison test set accuracy (DPA model_10): %.2f%%\" % (clean_acc * 100))\n",
    "\n",
    "c = 0 # index to display\n",
    "plt.imshow(px_test[c].squeeze())\n",
    "plt.show()\n",
    "clean_label = c\n",
    "print(\"Prediction: \" + str(poison_preds[c]))"
   ]
  },
  {
   "cell_type": "code",
   "execution_count": 16,
   "id": "54e42d16",
   "metadata": {},
   "outputs": [
    {
     "name": "stdout",
     "output_type": "stream",
     "text": [
      "\n",
      "Poison test set accuracy (DPA model): 74.80%\n"
     ]
    },
    {
     "data": {
      "image/png": "[encoded data removed]",
      "text/plain": [
       "<Figure size 432x288 with 1 Axes>"
      ]
     },
     "metadata": {
      "needs_background": "light"
     },
     "output_type": "display_data"
    },
    {
     "name": "stdout",
     "output_type": "stream",
     "text": [
      "Prediction: 7\n"
     ]
    }
   ],
   "source": [
    "poison_preds = np.argmax(dpa_model_20.predict(px_test), axis=1)\n",
    "clean_correct = np.sum(poison_preds == np.argmax(y_test[not_target], axis=1))\n",
    "clean_total = y_test.shape[0]\n",
    "\n",
    "clean_acc = clean_correct / clean_total\n",
    "print(\"\\nPoison test set accuracy (DPA model_20): %.2f%%\" % (clean_acc * 100))\n",
    "\n",
    "c = 0 # index to display\n",
    "plt.imshow(px_test[c].squeeze())\n",
    "plt.show()\n",
    "clean_label = c\n",
    "print(\"Prediction: \" + str(poison_preds[c]))"
   ]
  },
  {
   "cell_type": "code",
   "execution_count": 17,
   "id": "89dc71c1",
   "metadata": {},
   "outputs": [
    {
     "name": "stdout",
     "output_type": "stream",
     "text": [
      "\n",
      "Poison test set accuracy (DPA model): 74.66%\n"
     ]
    },
    {
     "data": {
      "image/png": "[encoded data removed]",
      "text/plain": [
       "<Figure size 432x288 with 1 Axes>"
      ]
     },
     "metadata": {
      "needs_background": "light"
     },
     "output_type": "display_data"
    },
    {
     "name": "stdout",
     "output_type": "stream",
     "text": [
      "Prediction: 7\n"
     ]
    }
   ],
   "source": [
    "poison_preds = np.argmax(dpa_model_30.predict(px_test), axis=1)\n",
    "clean_correct = np.sum(poison_preds == np.argmax(y_test[not_target], axis=1))\n",
    "clean_total = y_test.shape[0]\n",
    "\n",
    "clean_acc = clean_correct / clean_total\n",
    "print(\"\\nPoison test set accuracy (DPA model_30): %.2f%%\" % (clean_acc * 100))\n",
    "\n",
    "c = 0 # index to display\n",
    "plt.imshow(px_test[c].squeeze())\n",
    "plt.show()\n",
    "clean_label = c\n",
    "print(\"Prediction: \" + str(poison_preds[c]))"
   ]
  },
  {
   "cell_type": "code",
   "execution_count": 33,
   "id": "1870b8e8",
   "metadata": {},
   "outputs": [],
   "source": [
    "pp = dpa_model_30.predict(px_test)\n"
   ]
  },
  {
   "cell_type": "code",
   "execution_count": 34,
   "id": "aa132c10",
   "metadata": {},
   "outputs": [
    {
     "data": {
      "text/plain": [
       "True"
      ]
     },
     "execution_count": 34,
     "metadata": {},
     "output_type": "execute_result"
    }
   ],
   "source": [
    "(np.sum(pp, axis=1) <= 30*np.ones((len(px_test),))).all()"
   ]
  },
  {
   "cell_type": "code",
   "execution_count": 30,
   "id": "b7cd477a",
   "metadata": {},
   "outputs": [
    {
     "data": {
      "text/plain": [
       "array([ 0.,  0.,  0.,  0.,  0.,  0.,  0., 30.,  0.,  0.], dtype=float32)"
      ]
     },
     "execution_count": 30,
     "metadata": {},
     "output_type": "execute_result"
    }
   ],
   "source": [
    "pp[0]"
   ]
  },
  {
   "cell_type": "code",
   "execution_count": null,
   "id": "f483f97c",
   "metadata": {},
   "outputs": [],
   "source": []
  }
 ],
 "metadata": {
  "kernelspec": {
   "display_name": "Python 3",
   "language": "python",
   "name": "python3"
  },
  "language_info": {
   "codemirror_mode": {
    "name": "ipython",
    "version": 3
   },
   "file_extension": ".py",
   "mimetype": "text/x-python",
   "name": "python",
   "nbconvert_exporter": "python",
   "pygments_lexer": "ipython3",
   "version": "3.8.8"
  }
 },
 "nbformat": 4,
 "nbformat_minor": 5
}
