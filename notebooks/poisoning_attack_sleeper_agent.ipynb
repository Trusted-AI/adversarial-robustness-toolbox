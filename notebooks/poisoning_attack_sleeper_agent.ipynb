{
 "cells": [
  {
   "cell_type": "markdown",
   "id": "6224922d",
   "metadata": {},
   "source": [
    "# This notebook implements sleeper agent attack"
   ]
  },
  {
   "cell_type": "code",
   "execution_count": 1,
   "id": "641757b7",
   "metadata": {},
   "outputs": [],
   "source": [
    "import math\n",
    "from tqdm import trange\n",
    "import numpy as np\n",
    "import os, sys\n",
    "import pdb\n",
    "from PIL import Image\n",
    "from numpy import asarray\n",
    "from skimage.transform import resize\n",
    "import random\n",
    "from art.estimators.classification import PyTorchClassifier\n",
    "from art.utils import load_cifar10\n",
    "from torchvision.models.resnet import BasicBlock, Bottleneck\n",
    "import torch\n",
    "import torch.nn as nn\n",
    "from torch.utils.data import TensorDataset, DataLoader\n",
    "import torchvision\n",
    "import torch.nn.functional as F"
   ]
  },
  {
   "cell_type": "code",
   "execution_count": 2,
   "id": "86a0be3b",
   "metadata": {},
   "outputs": [],
   "source": [
    "module_path = os.path.abspath(os.path.join('..'))\n",
    "if module_path not in sys.path:\n",
    "    sys.path.append(module_path)\n",
    "module_path = os.path.abspath(os.path.join('.'))\n",
    "if module_path not in sys.path:\n",
    "    sys.path.append(module_path)"
   ]
  },
  {
   "cell_type": "markdown",
   "id": "6bf8e379",
   "metadata": {},
   "source": [
    "# Data Normalization"
   ]
  },
  {
   "cell_type": "code",
   "execution_count": 3,
   "id": "988bed3f",
   "metadata": {},
   "outputs": [],
   "source": [
    "(x_train, y_train), (x_test, y_test), min_, max_ = load_cifar10()\n",
    "\n",
    "mean = np.mean(x_train,axis=(0,1,2,3))\n",
    "std = np.std(x_train,axis=(0,1,2,3))\n",
    "x_train = (x_train-mean)/(std+1e-7)\n",
    "x_test = (x_test-mean)/(std+1e-7)\n",
    "\n",
    "min_ = (min_-mean)/(std+1e-7)\n",
    "max_ = (max_-mean)/(std+1e-7)\n",
    "\n",
    "device = torch.device(\"cuda:0\" if torch.cuda.is_available() else \"cpu\")"
   ]
  },
  {
   "cell_type": "code",
   "execution_count": 4,
   "id": "11438f99",
   "metadata": {},
   "outputs": [],
   "source": [
    "def testAccuracy(model, test_loader):\n",
    "    model_was_training = model.training\n",
    "    model.eval()\n",
    "    accuracy = 0.0\n",
    "    total = 0.0\n",
    "    with torch.no_grad():\n",
    "        for data in test_loader:\n",
    "            images, labels = data\n",
    "            # run the model on the test set to predict labels\n",
    "            outputs = model(images)\n",
    "            # the label with the highest energy will be our prediction\n",
    "            _, predicted = torch.max(outputs.data, 1)\n",
    "            total += labels.size(0)\n",
    "            accuracy += (predicted == labels).sum().item()\n",
    "    \n",
    "    # compute the accuracy over all test images\n",
    "    accuracy = (100 * accuracy / total)\n",
    "    if model_was_training:\n",
    "        model.train()\n",
    "    return(accuracy)"
   ]
  },
  {
   "cell_type": "code",
   "execution_count": 5,
   "id": "876a5299",
   "metadata": {},
   "outputs": [],
   "source": [
    "def create_model(x_train, y_train, x_test=None, y_test=None, num_classes=10, batch_size=128, epochs=25):\n",
    "    initial_conv = [3, 1, 1]\n",
    "    model = torchvision.models.ResNet(torchvision.models.resnet.BasicBlock, [2, 2, 2, 2], num_classes=num_classes)\n",
    "    \n",
    "    # Define the loss function with Classification Cross-Entropy loss and an optimizer with Adam optimizer\n",
    "    loss_fn = nn.CrossEntropyLoss()\n",
    "    optimizer = torch.optim.SGD(model.parameters(), lr=0.1, momentum=0.9, weight_decay=5e-4, nesterov=True)\n",
    "    model.to(device)\n",
    "\n",
    "    x_train = np.transpose(x_train, [0, 3,1,2])\n",
    "    y_train = np.argmax(y_train, axis=1)\n",
    "    x_tensor = torch.tensor(x_train, dtype=torch.float32, device=device) # transform to torch tensor\n",
    "    y_tensor = torch.tensor(y_train, dtype=torch.long, device=device)\n",
    "    \n",
    "    x_test = np.transpose(x_test, [0, 3,1,2])\n",
    "    y_test = np.argmax(y_test, axis=1)\n",
    "    x_tensor_test = torch.tensor(x_test, dtype=torch.float32, device=device) # transform to torch tensor\n",
    "    y_tensor_test = torch.tensor(y_test, dtype=torch.long, device=device)\n",
    "\n",
    "    dataset_train = TensorDataset(x_tensor,y_tensor) # create your datset\n",
    "    dataloader_train = DataLoader(dataset_train, batch_size=batch_size)\n",
    "\n",
    "    dataset_test = TensorDataset(x_tensor_test,y_tensor_test) # create your datset\n",
    "    dataloader_test = DataLoader(dataset_test, batch_size=batch_size)\n",
    "\n",
    "    for epoch in trange(epochs):\n",
    "        running_loss = 0.0\n",
    "        total = 0\n",
    "        accuracy = 0\n",
    "        for i, data in enumerate(dataloader_train, 0):\n",
    "            inputs, labels = data\n",
    "            optimizer.zero_grad()\n",
    "\n",
    "            # forward + backward + optimize\n",
    "            outputs = model(inputs)\n",
    "            # _, predicted = torch.max(outputs.data, 1)\n",
    "            loss = loss_fn(outputs, labels)\n",
    "            loss.backward()\n",
    "            optimizer.step()\n",
    "            _, predicted = torch.max(outputs.data, 1)\n",
    "            total += labels.size(0)\n",
    "            accuracy += (predicted == labels).sum().item()\n",
    "            running_loss += loss.item()\n",
    "        train_accuracy = (100 * accuracy / total)\n",
    "        print(\"Epoch %d train accuracy: %f\" % (epoch, train_accuracy))\n",
    "        test_accuracy = testAccuracy(model, dataloader_test)\n",
    "        print(\"Final test accuracy: %f\" % test_accuracy)\n",
    "    return model, loss_fn, optimizer"
   ]
  },
  {
   "cell_type": "markdown",
   "id": "ce90b9da",
   "metadata": {},
   "source": [
    "# Train Substitute Model for Attack"
   ]
  },
  {
   "cell_type": "code",
   "execution_count": 6,
   "id": "32571c1e",
   "metadata": {},
   "outputs": [
    {
     "name": "stdout",
     "output_type": "stream",
     "text": [
      "Pretrained model exists\n"
     ]
    },
    {
     "name": "stderr",
     "output_type": "stream",
     "text": [
      " ... (more hidden) ...\n"
     ]
    }
   ],
   "source": [
    "model_path = \"cifar10-resnet18-pytorch.pth\"\n",
    "if not os.path.exists(model_path):\n",
    "    model, loss_fn, optimizer = create_model(x_train, y_train,x_test=x_test,y_test=y_test,epochs=80)\n",
    "    torch.save(model.state_dict(), model_path)\n",
    "else:\n",
    "    print(\"Pretrained model exists\")\n",
    "    model, loss_fn, optimizer = create_model(x_train, y_train,x_test=x_test,y_test=y_test,epochs=0)\n",
    "    model.load_state_dict(torch.load(model_path))"
   ]
  },
  {
   "cell_type": "markdown",
   "id": "81bb8867",
   "metadata": {},
   "source": [
    "# Select Triggers from Source Class and helper functions for calculating Success Rate"
   ]
  },
  {
   "cell_type": "code",
   "execution_count": 7,
   "id": "7e2bc44c",
   "metadata": {},
   "outputs": [],
   "source": [
    "model_art = PyTorchClassifier(model, input_shape=x_train.shape[1:], loss=loss_fn, optimizer=optimizer, nb_classes=10)\n",
    "from art.utils import to_categorical\n",
    "from art.attacks.poisoning.sleeper_agent_attack import SleeperAgentAttack\n",
    "\n",
    "def add_trigger_patch(x_trigger,patch_type=\"fixed\"):\n",
    "    print(\"patch_type\",patch_type)\n",
    "    # pdb.set_trace()\n",
    "    img = Image.open('trigger_10.png')\n",
    "    numpydata = asarray(img)\n",
    "    patch = resize(numpydata, (8,8,3))\n",
    "    patch = (patch-mean)/(std+1e-7)\n",
    "    if patch_type == \"fixed\":\n",
    "        x_trigger[:,-8:,-8:,:] = patch\n",
    "    else:\n",
    "        for x in x_trigger:\n",
    "            # x_cord = random.randint(0, 24)\n",
    "            # y_cord = random.randint(0, 24)\n",
    "            x_cord = random.randrange(0,x.shape[1] - patch.shape[1] + 1)\n",
    "            y_cord = random.randrange(0,x.shape[2] - patch.shape[2] + 1)\n",
    "            x[x_cord:x_cord+8,y_cord:y_cord+8,:]=patch\n",
    "\n",
    "    return x_trigger\n",
    "\n",
    "def select_tigger_train(x_train,y_train,K):\n",
    "    x_train_ = np.copy(x_train)\n",
    "    class_source = 0\n",
    "    class_target = 1\n",
    "    index_source = np.where(y_train.argmax(axis=1)==class_source)[0][0:K]\n",
    "    index_target = np.where(y_train.argmax(axis=1)==class_target)[0]\n",
    "    x_trigger = x_train_[index_source]\n",
    "    y_trigger  = to_categorical([class_target], nb_classes=10)\n",
    "    x_trigger = add_trigger_patch(x_trigger,patch_type=\"random\")\n",
    "    y_trigger = np.tile(y_trigger,(len(index_source),1))\n",
    "    x_samples = x_train_[index_target]\n",
    "    y_samples = y_train[index_target]\n",
    "    return x_trigger,y_trigger,x_samples,y_samples,class_source,class_target,index_target\n",
    "\n",
    "def calculate_test_success_rate(x_test,y_test,class_source,model_poisoned,class_target):\n",
    "    index_source = np.where(y_test.argmax(axis=1)==class_source)[0]\n",
    "    x_trigger = x_test[index_source]\n",
    "    x_trigger = add_trigger_patch(x_trigger,patch_type=\"random\")\n",
    "    model_poisoned.eval()\n",
    "    result_poisoned = model_poisoned(torch.tensor(np.transpose(x_trigger, [0,3,1,2]), device=device, dtype=torch.float)).detach().cpu().numpy()\n",
    "    success = calculate_success_rate(result_poisoned,class_target)\n",
    "    print(\"Attack Success Rate on Test Triggers\",success)\n",
    "    \n",
    "def calculate_success_rate(y_poisoned,class_target):\n",
    "    pdb.set_trace()\n",
    "    success = ((np.argmax(result_poisoned,axis=1)==class_target).sum()/len(y_poisoned))\n",
    "    return success    "
   ]
  },
  {
   "cell_type": "markdown",
   "id": "d823fa50",
   "metadata": {},
   "source": [
    "# Generate Poison Images through attack "
   ]
  },
  {
   "cell_type": "code",
   "execution_count": 8,
   "id": "db3c82c5",
   "metadata": {},
   "outputs": [
    {
     "name": "stdout",
     "output_type": "stream",
     "text": [
      "patch_type random\n"
     ]
    }
   ],
   "source": [
    "x_trigger,y_trigger,x_samples,y_samples,class_source,class_target,index_target = select_tigger_train(x_train,y_train,1000)\n",
    "result_original = model_art.predict(torch.tensor(np.transpose(x_trigger, [0, 3,1,2]), dtype=torch.float32))"
   ]
  },
  {
   "cell_type": "code",
   "execution_count": 9,
   "id": "cbca1a57",
   "metadata": {},
   "outputs": [
    {
     "ename": "AttributeError",
     "evalue": "'SleeperAgentAttack' object has no attribute '_SleeperAgentAttack__poison__pytorch'",
     "output_type": "error",
     "traceback": [
      "\u001b[0;31m---------------------------------------------------------------------------\u001b[0m",
      "\u001b[0;31mAttributeError\u001b[0m                            Traceback (most recent call last)",
      "\u001b[0;32m/tmp/ipykernel_7801/1079424354.py\u001b[0m in \u001b[0;36m<module>\u001b[0;34m\u001b[0m\n\u001b[1;32m     12\u001b[0m                                 \u001b[0mselection_strategy\u001b[0m\u001b[0;34m=\u001b[0m\u001b[0;34m\"random\"\u001b[0m\u001b[0;34m\u001b[0m\u001b[0;34m\u001b[0m\u001b[0m\n\u001b[1;32m     13\u001b[0m                            )\n\u001b[0;32m---> 14\u001b[0;31m x_poison, y_poison, indices_poison = attack.poison(torch.tensor(np.transpose(x_trigger, [0, 3,1,2]), dtype=torch.float32), \n\u001b[0m\u001b[1;32m     15\u001b[0m                                                    \u001b[0my_trigger\u001b[0m\u001b[0;34m,\u001b[0m\u001b[0;34m\u001b[0m\u001b[0;34m\u001b[0m\u001b[0m\n\u001b[1;32m     16\u001b[0m                                                    \u001b[0mtorch\u001b[0m\u001b[0;34m.\u001b[0m\u001b[0mtensor\u001b[0m\u001b[0;34m(\u001b[0m\u001b[0mnp\u001b[0m\u001b[0;34m.\u001b[0m\u001b[0mtranspose\u001b[0m\u001b[0;34m(\u001b[0m\u001b[0mx_samples\u001b[0m\u001b[0;34m,\u001b[0m \u001b[0;34m[\u001b[0m\u001b[0;36m0\u001b[0m\u001b[0;34m,\u001b[0m \u001b[0;36m3\u001b[0m\u001b[0;34m,\u001b[0m\u001b[0;36m1\u001b[0m\u001b[0;34m,\u001b[0m\u001b[0;36m2\u001b[0m\u001b[0;34m]\u001b[0m\u001b[0;34m)\u001b[0m\u001b[0;34m,\u001b[0m \u001b[0mdtype\u001b[0m\u001b[0;34m=\u001b[0m\u001b[0mtorch\u001b[0m\u001b[0;34m.\u001b[0m\u001b[0mfloat32\u001b[0m\u001b[0;34m)\u001b[0m\u001b[0;34m,\u001b[0m\u001b[0;34m\u001b[0m\u001b[0;34m\u001b[0m\u001b[0m\n",
      "\u001b[0;32m~/anaconda3/envs/art/lib/python3.8/site-packages/art/attacks/poisoning/sleeper_agent_attack.py\u001b[0m in \u001b[0;36mpoison\u001b[0;34m(self, x_trigger, y_trigger, x_train, y_train)\u001b[0m\n\u001b[1;32m     99\u001b[0m             \u001b[0mfinish_poisoning\u001b[0m \u001b[0;34m=\u001b[0m \u001b[0mself\u001b[0m\u001b[0;34m.\u001b[0m\u001b[0m__finish_poison_tensorflow\u001b[0m\u001b[0;34m\u001b[0m\u001b[0;34m\u001b[0m\u001b[0m\n\u001b[1;32m    100\u001b[0m         \u001b[0;32melif\u001b[0m \u001b[0misinstance\u001b[0m\u001b[0;34m(\u001b[0m\u001b[0mself\u001b[0m\u001b[0;34m.\u001b[0m\u001b[0msubstitute_classifier\u001b[0m\u001b[0;34m,\u001b[0m \u001b[0mPyTorchClassifier\u001b[0m\u001b[0;34m)\u001b[0m\u001b[0;34m:\u001b[0m\u001b[0;34m\u001b[0m\u001b[0;34m\u001b[0m\u001b[0m\n\u001b[0;32m--> 101\u001b[0;31m             \u001b[0mpoisoner\u001b[0m \u001b[0;34m=\u001b[0m \u001b[0mself\u001b[0m\u001b[0;34m.\u001b[0m\u001b[0m__poison__pytorch\u001b[0m\u001b[0;34m\u001b[0m\u001b[0;34m\u001b[0m\u001b[0m\n\u001b[0m\u001b[1;32m    102\u001b[0m             \u001b[0mfinish_poisoning\u001b[0m \u001b[0;34m=\u001b[0m \u001b[0mself\u001b[0m\u001b[0;34m.\u001b[0m\u001b[0m__finish_poison_pytorch\u001b[0m\u001b[0;34m\u001b[0m\u001b[0;34m\u001b[0m\u001b[0m\n\u001b[1;32m    103\u001b[0m         \u001b[0;32melse\u001b[0m\u001b[0;34m:\u001b[0m\u001b[0;34m\u001b[0m\u001b[0;34m\u001b[0m\u001b[0m\n",
      "\u001b[0;31mAttributeError\u001b[0m: 'SleeperAgentAttack' object has no attribute '_SleeperAgentAttack__poison__pytorch'"
     ]
    }
   ],
   "source": [
    "attack = SleeperAgentAttack(model_art,\n",
    "                                percent_poison=0.10,\n",
    "                                max_trials=1,\n",
    "                                max_epochs=250,\n",
    "                                learning_rate_schedule=(np.array([1e-1, 1e-2, 1e-3, 1e-4, 1e-5]), [250, 350, 400, 430, 460]),\n",
    "                                clip_values=(min_,max_),\n",
    "                                epsilon=16/255 * (max_ - min_),\n",
    "                                batch_size=500,\n",
    "                                verbose=1,\n",
    "                                indices_target=index_target,\n",
    "                                patching_strategy=\"fixed\",\n",
    "                                selection_strategy=\"random\"\n",
    "                           )\n",
    "x_poison, y_poison, indices_poison = attack.poison(torch.tensor(np.transpose(x_trigger, [0, 3,1,2]), dtype=torch.float32), \n",
    "                                                   y_trigger, \n",
    "                                                   torch.tensor(np.transpose(x_samples, [0, 3,1,2]), dtype=torch.float32), \n",
    "                                                   y_samples)\n",
    "x_poison = np.transpose(x_poison, [0,2,3,1])\n",
    "x_poison_ = np.copy(x_train)\n",
    "x_poison_[index_target[indices_poison]]=x_poison[indices_poison]"
   ]
  },
  {
   "cell_type": "markdown",
   "id": "b2cf7481",
   "metadata": {},
   "source": [
    "# Success Rate on Train Triggers"
   ]
  },
  {
   "cell_type": "code",
   "execution_count": null,
   "id": "93adf7f2",
   "metadata": {},
   "outputs": [],
   "source": [
    "model_poisoned, loss_fn, optimizer = create_model(x_poison_, y_train, epochs=80)\n",
    "model_poisoned.eval()\n",
    "result_poisoned = model_poisoned(torch.tensor(np.transpose(x_trigger, [0,3,1,2]), device=device, dtype=torch.float)).detach().cpu().numpy()\n",
    "print(\"y_trigger:\", y_trigger)\n",
    "print(\"result_poisoned:\", result_poisoned)\n",
    "print(\"result_original:\", result_original)\n",
    "print(\"Success Rate on train triggers\",calculate_success_rate(result_poisoned,class_target))"
   ]
  },
  {
   "cell_type": "markdown",
   "id": "d1171085",
   "metadata": {},
   "source": [
    "# Success Rate on Test Triggers"
   ]
  },
  {
   "cell_type": "code",
   "execution_count": null,
   "id": "11632832",
   "metadata": {},
   "outputs": [],
   "source": [
    "calculate_test_success_rate(x_test,y_test,class_source,model_poisoned,class_target)"
   ]
  }
 ],
 "metadata": {
  "kernelspec": {
   "display_name": "Python 3 (ipykernel)",
   "language": "python",
   "name": "python3"
  },
  "language_info": {
   "codemirror_mode": {
    "name": "ipython",
    "version": 3
   },
   "file_extension": ".py",
   "mimetype": "text/x-python",
   "name": "python",
   "nbconvert_exporter": "python",
   "pygments_lexer": "ipython3",
   "version": "3.8.12"
  }
 },
 "nbformat": 4,
 "nbformat_minor": 5
}
