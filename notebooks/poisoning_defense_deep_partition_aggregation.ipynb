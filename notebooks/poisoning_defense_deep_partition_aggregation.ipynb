{
 "cells": [
  {
   "cell_type": "code",
   "execution_count": 1,
   "id": "fc895cf7",
   "metadata": {},
   "outputs": [],
   "source": [
    "from __future__ import absolute_import, division, print_function, unicode_literals\n",
    "\n",
    "import os, sys\n",
    "from os.path import abspath\n",
    "\n",
    "module_path = os.path.abspath(os.path.join('..'))\n",
    "if module_path not in sys.path:\n",
    "    sys.path.append(module_path)\n",
    "\n",
    "import warnings\n",
    "warnings.filterwarnings('ignore')\n",
    "import keras.backend as k\n",
    "from keras.models import Sequential\n",
    "from keras.layers import Dense, Flatten, Conv2D, MaxPooling2D, Activation, Dropout\n",
    "import numpy as np\n",
    "import matplotlib.pyplot as plt\n",
    "%matplotlib inline\n",
    "\n",
    "import tensorflow as tf\n",
    "tf.compat.v1.disable_eager_execution()\n",
    "tf.get_logger().setLevel('ERROR')\n",
    "\n",
    "from art.estimators.classification import KerasClassifier\n",
    "from art.attacks.poisoning import PoisoningAttackBackdoor, PoisoningAttackCleanLabelBackdoor\n",
    "from art.attacks.poisoning.perturbations import add_pattern_bd\n",
    "from art.utils import load_mnist, preprocess, to_categorical\n",
    "from art.defences.trainer import AdversarialTrainerMadryPGD\n",
    "\n",
    "\n",
    "from art.estimators.classification.deep_partition_ensemble import DeepPartitionEnsemble"
   ]
  },
  {
   "cell_type": "markdown",
   "id": "1816da6f",
   "metadata": {},
   "source": [
    "# Load the Data"
   ]
  },
  {
   "cell_type": "code",
   "execution_count": 2,
   "id": "fdd77e03",
   "metadata": {},
   "outputs": [],
   "source": [
    "(x_raw, y_raw), (x_raw_test, y_raw_test), min_, max_ = load_mnist(raw=True)\n",
    "\n",
    "# Random Selection:\n",
    "n_train = np.shape(x_raw)[0]\n",
    "num_selection = 10000\n",
    "random_selection_indices = np.random.choice(n_train, num_selection)\n",
    "x_raw = x_raw[random_selection_indices]\n",
    "y_raw = y_raw[random_selection_indices]\n",
    "\n",
    "# Poison training data\n",
    "percent_poison = .33\n",
    "x_train, y_train = preprocess(x_raw, y_raw)\n",
    "x_train = np.expand_dims(x_train, axis=3)\n",
    "\n",
    "x_test, y_test = preprocess(x_raw_test, y_raw_test)\n",
    "x_test = np.expand_dims(x_test, axis=3)\n",
    "\n",
    "# Shuffle training data\n",
    "n_train = np.shape(y_train)[0]\n",
    "shuffled_indices = np.arange(n_train)\n",
    "np.random.shuffle(shuffled_indices)\n",
    "x_train = x_train[shuffled_indices]\n",
    "y_train = y_train[shuffled_indices]"
   ]
  },
  {
   "cell_type": "markdown",
   "id": "9b1eb1c0",
   "metadata": {},
   "source": [
    "# Initialize the Model Architecture"
   ]
  },
  {
   "cell_type": "code",
   "execution_count": 3,
   "id": "7c0c7c1a",
   "metadata": {},
   "outputs": [],
   "source": [
    "# Create Keras convolutional neural network - basic architecture from Keras examples\n",
    "# Source here: https://github.com/keras-team/keras/blob/master/examples/mnist_cnn.py\n",
    "def create_model():    \n",
    "    model = Sequential()\n",
    "    model.add(Conv2D(32, kernel_size=(3, 3), activation='relu', input_shape=x_train.shape[1:]))\n",
    "    model.add(Conv2D(64, (3, 3), activation='relu'))\n",
    "    model.add(MaxPooling2D(pool_size=(2, 2)))\n",
    "    model.add(Dropout(0.25))\n",
    "    model.add(Flatten())\n",
    "    model.add(Dense(128, activation='relu'))\n",
    "    model.add(Dropout(0.5))\n",
    "    model.add(Dense(10, activation='softmax'))\n",
    "\n",
    "    model.compile(loss='categorical_crossentropy', optimizer='adam', metrics=['accuracy'])\n",
    "    return model"
   ]
  },
  {
   "cell_type": "markdown",
   "id": "1b6b105a",
   "metadata": {},
   "source": [
    "# Set up the Model Backdoor"
   ]
  },
  {
   "cell_type": "code",
   "execution_count": 4,
   "id": "43b4b127",
   "metadata": {},
   "outputs": [
    {
     "data": {
      "text/plain": [
       "<matplotlib.image.AxesImage at 0x7f0a70375b20>"
      ]
     },
     "execution_count": 4,
     "metadata": {},
     "output_type": "execute_result"
    },
    {
     "data": {
      "image/png": "[encoded data removed]",
      "text/plain": [
       "<Figure size 432x288 with 1 Axes>"
      ]
     },
     "metadata": {
      "needs_background": "light"
     },
     "output_type": "display_data"
    }
   ],
   "source": [
    "backdoor = PoisoningAttackBackdoor(add_pattern_bd)\n",
    "example_target = np.array([0, 0, 0, 0, 0, 0, 0, 0, 0, 1])\n",
    "pdata, plabels = backdoor.poison(x_test, y=example_target)\n",
    "\n",
    "plt.imshow(pdata[0].squeeze())"
   ]
  },
  {
   "cell_type": "markdown",
   "id": "6ffec3ec",
   "metadata": {},
   "source": [
    "# Create the poison data\n",
    "For this example, we will select 9 as the target class. Thus, the adversary's goal is to poison the model so adding a trigger will result in the trained model misclassifying the triggered input as a 9.\n",
    "\n",
    "First, the adversary will create a proxy classifier (i.e., a classifier that is similar to the target classifier). As the clean label attack generates noise using PGD in order to encourage the trained classifier to rely on the trigger, it is important that the generated noise be transferable. Thus, adversarial training is used."
   ]
  },
  {
   "cell_type": "code",
   "execution_count": 5,
   "id": "7aac5f5c",
   "metadata": {},
   "outputs": [
    {
     "data": {
      "application/vnd.jupyter.widget-view+json": {
       "model_id": "6d6e4009617640f692ac5a3e3fee5f0c",
       "version_major": 2,
       "version_minor": 0
      },
      "text/plain": [
       "Precompute adv samples:   0%|          | 0/1 [00:00<?, ?it/s]"
      ]
     },
     "metadata": {},
     "output_type": "display_data"
    },
    {
     "data": {
      "application/vnd.jupyter.widget-view+json": {
       "model_id": "bfe8acbd40074f63a49c4526a38d2d28",
       "version_major": 2,
       "version_minor": 0
      },
      "text/plain": [
       "Adversarial training epochs:   0%|          | 0/10 [00:00<?, ?it/s]"
      ]
     },
     "metadata": {},
     "output_type": "display_data"
    }
   ],
   "source": [
    "# Poison some percentage of all non-nines to nines\n",
    "targets = to_categorical([9], 10)[0] \n",
    "\n",
    "proxy = AdversarialTrainerMadryPGD(KerasClassifier(create_model()), nb_epochs=10, eps=0.15, eps_step=0.001)\n",
    "proxy.fit(x_train, y_train)"
   ]
  },
  {
   "cell_type": "code",
   "execution_count": 6,
   "id": "46364ff1",
   "metadata": {},
   "outputs": [
    {
     "data": {
      "application/vnd.jupyter.widget-view+json": {
       "model_id": "7bff5d7037ed4b609e37b53337a89f7e",
       "version_major": 2,
       "version_minor": 0
      },
      "text/plain": [
       "PGD - Random Initializations:   0%|          | 0/1 [00:00<?, ?it/s]"
      ]
     },
     "metadata": {},
     "output_type": "display_data"
    },
    {
     "data": {
      "application/vnd.jupyter.widget-view+json": {
       "model_id": "",
       "version_major": 2,
       "version_minor": 0
      },
      "text/plain": [
       "PGD - Iterations:   0%|          | 0/200 [00:00<?, ?it/s]"
      ]
     },
     "metadata": {},
     "output_type": "display_data"
    },
    {
     "data": {
      "application/vnd.jupyter.widget-view+json": {
       "model_id": "4037708efdaf4ca8b0d189f3777b0f55",
       "version_major": 2,
       "version_minor": 0
      },
      "text/plain": [
       "PGD - Random Initializations:   0%|          | 0/1 [00:00<?, ?it/s]"
      ]
     },
     "metadata": {},
     "output_type": "display_data"
    },
    {
     "data": {
      "application/vnd.jupyter.widget-view+json": {
       "model_id": "",
       "version_major": 2,
       "version_minor": 0
      },
      "text/plain": [
       "PGD - Iterations:   0%|          | 0/200 [00:00<?, ?it/s]"
      ]
     },
     "metadata": {},
     "output_type": "display_data"
    },
    {
     "data": {
      "application/vnd.jupyter.widget-view+json": {
       "model_id": "dcd2b8df96534c228971f06ca8313e14",
       "version_major": 2,
       "version_minor": 0
      },
      "text/plain": [
       "PGD - Random Initializations:   0%|          | 0/1 [00:00<?, ?it/s]"
      ]
     },
     "metadata": {},
     "output_type": "display_data"
    },
    {
     "data": {
      "application/vnd.jupyter.widget-view+json": {
       "model_id": "",
       "version_major": 2,
       "version_minor": 0
      },
      "text/plain": [
       "PGD - Iterations:   0%|          | 0/200 [00:00<?, ?it/s]"
      ]
     },
     "metadata": {},
     "output_type": "display_data"
    },
    {
     "data": {
      "application/vnd.jupyter.widget-view+json": {
       "model_id": "0d5c07f902f94c00a920f6452e14e02b",
       "version_major": 2,
       "version_minor": 0
      },
      "text/plain": [
       "PGD - Random Initializations:   0%|          | 0/1 [00:00<?, ?it/s]"
      ]
     },
     "metadata": {},
     "output_type": "display_data"
    },
    {
     "data": {
      "application/vnd.jupyter.widget-view+json": {
       "model_id": "",
       "version_major": 2,
       "version_minor": 0
      },
      "text/plain": [
       "PGD - Iterations:   0%|          | 0/200 [00:00<?, ?it/s]"
      ]
     },
     "metadata": {},
     "output_type": "display_data"
    },
    {
     "data": {
      "application/vnd.jupyter.widget-view+json": {
       "model_id": "c14ec127ebe94f3bbdf7acd9bf429e75",
       "version_major": 2,
       "version_minor": 0
      },
      "text/plain": [
       "PGD - Random Initializations:   0%|          | 0/1 [00:00<?, ?it/s]"
      ]
     },
     "metadata": {},
     "output_type": "display_data"
    },
    {
     "data": {
      "application/vnd.jupyter.widget-view+json": {
       "model_id": "",
       "version_major": 2,
       "version_minor": 0
      },
      "text/plain": [
       "PGD - Iterations:   0%|          | 0/200 [00:00<?, ?it/s]"
      ]
     },
     "metadata": {},
     "output_type": "display_data"
    },
    {
     "data": {
      "application/vnd.jupyter.widget-view+json": {
       "model_id": "a5365f422eed4ed0bfdf61a42e93d843",
       "version_major": 2,
       "version_minor": 0
      },
      "text/plain": [
       "PGD - Random Initializations:   0%|          | 0/1 [00:00<?, ?it/s]"
      ]
     },
     "metadata": {},
     "output_type": "display_data"
    },
    {
     "data": {
      "application/vnd.jupyter.widget-view+json": {
       "model_id": "",
       "version_major": 2,
       "version_minor": 0
      },
      "text/plain": [
       "PGD - Iterations:   0%|          | 0/200 [00:00<?, ?it/s]"
      ]
     },
     "metadata": {},
     "output_type": "display_data"
    },
    {
     "data": {
      "application/vnd.jupyter.widget-view+json": {
       "model_id": "52cb145ae6d740a28bb0e89c96fa2239",
       "version_major": 2,
       "version_minor": 0
      },
      "text/plain": [
       "PGD - Random Initializations:   0%|          | 0/1 [00:00<?, ?it/s]"
      ]
     },
     "metadata": {},
     "output_type": "display_data"
    },
    {
     "data": {
      "application/vnd.jupyter.widget-view+json": {
       "model_id": "",
       "version_major": 2,
       "version_minor": 0
      },
      "text/plain": [
       "PGD - Iterations:   0%|          | 0/200 [00:00<?, ?it/s]"
      ]
     },
     "metadata": {},
     "output_type": "display_data"
    },
    {
     "data": {
      "application/vnd.jupyter.widget-view+json": {
       "model_id": "f927d0d389c7400787b588e9e4acf1f5",
       "version_major": 2,
       "version_minor": 0
      },
      "text/plain": [
       "PGD - Random Initializations:   0%|          | 0/1 [00:00<?, ?it/s]"
      ]
     },
     "metadata": {},
     "output_type": "display_data"
    },
    {
     "data": {
      "application/vnd.jupyter.widget-view+json": {
       "model_id": "",
       "version_major": 2,
       "version_minor": 0
      },
      "text/plain": [
       "PGD - Iterations:   0%|          | 0/200 [00:00<?, ?it/s]"
      ]
     },
     "metadata": {},
     "output_type": "display_data"
    },
    {
     "data": {
      "application/vnd.jupyter.widget-view+json": {
       "model_id": "ab5ea698c9524430a03b06819c36eed9",
       "version_major": 2,
       "version_minor": 0
      },
      "text/plain": [
       "PGD - Random Initializations:   0%|          | 0/1 [00:00<?, ?it/s]"
      ]
     },
     "metadata": {},
     "output_type": "display_data"
    },
    {
     "data": {
      "application/vnd.jupyter.widget-view+json": {
       "model_id": "",
       "version_major": 2,
       "version_minor": 0
      },
      "text/plain": [
       "PGD - Iterations:   0%|          | 0/200 [00:00<?, ?it/s]"
      ]
     },
     "metadata": {},
     "output_type": "display_data"
    },
    {
     "data": {
      "application/vnd.jupyter.widget-view+json": {
       "model_id": "1be10135dfd9459d85c9c47347722dfa",
       "version_major": 2,
       "version_minor": 0
      },
      "text/plain": [
       "PGD - Random Initializations:   0%|          | 0/1 [00:00<?, ?it/s]"
      ]
     },
     "metadata": {},
     "output_type": "display_data"
    },
    {
     "data": {
      "application/vnd.jupyter.widget-view+json": {
       "model_id": "",
       "version_major": 2,
       "version_minor": 0
      },
      "text/plain": [
       "PGD - Iterations:   0%|          | 0/200 [00:00<?, ?it/s]"
      ]
     },
     "metadata": {},
     "output_type": "display_data"
    },
    {
     "data": {
      "application/vnd.jupyter.widget-view+json": {
       "model_id": "b0e9a2542c344b6c8224e10b515a9e68",
       "version_major": 2,
       "version_minor": 0
      },
      "text/plain": [
       "PGD - Random Initializations:   0%|          | 0/1 [00:00<?, ?it/s]"
      ]
     },
     "metadata": {},
     "output_type": "display_data"
    },
    {
     "data": {
      "application/vnd.jupyter.widget-view+json": {
       "model_id": "",
       "version_major": 2,
       "version_minor": 0
      },
      "text/plain": [
       "PGD - Iterations:   0%|          | 0/200 [00:00<?, ?it/s]"
      ]
     },
     "metadata": {},
     "output_type": "display_data"
    }
   ],
   "source": [
    "attack = PoisoningAttackCleanLabelBackdoor(backdoor=backdoor, proxy_classifier=proxy.get_classifier(),\n",
    "                                           target=targets, pp_poison=percent_poison, norm=2, eps=5,\n",
    "                                           eps_step=0.1, max_iter=200)\n",
    "pdata, plabels = attack.poison(x_train, y_train)"
   ]
  },
  {
   "cell_type": "code",
   "execution_count": 7,
   "id": "a61a524c",
   "metadata": {},
   "outputs": [
    {
     "name": "stdout",
     "output_type": "stream",
     "text": [
      "1036\n"
     ]
    }
   ],
   "source": [
    "poisoned = pdata[np.all(plabels == targets, axis=1)]\n",
    "poisoned_labels = plabels[np.all(plabels == targets, axis=1)]\n",
    "print(len(poisoned))\n",
    "for i in range(len(poisoned)):\n",
    "    if poisoned[i][0][0] != 0:\n",
    "        plt.imshow(poisoned[i].squeeze())\n",
    "        plt.show()\n",
    "        print(f\"Index: {i} Label: {np.argmax(poisoned_labels[i])}\")\n",
    "        break"
   ]
  },
  {
   "cell_type": "markdown",
   "id": "8e8bbe9c",
   "metadata": {},
   "source": [
    "# Initialize the classification models\n",
    "We will initialize four models. The first is a single model architecture. The other three are DPA models with varying ensemble sizes to demonstrate the tradeoff between clean accuracy and poison accuracy. This make take some time because of the model copying."
   ]
  },
  {
   "cell_type": "code",
   "execution_count": 8,
   "id": "005f0374",
   "metadata": {},
   "outputs": [],
   "source": [
    "model = KerasClassifier(create_model())\n",
    "dpa_model_10 = DeepPartitionEnsemble(model, ensemble_size=10)\n",
    "dpa_model_20 = DeepPartitionEnsemble(model, ensemble_size=20)\n",
    "dpa_model_30 = DeepPartitionEnsemble(model, ensemble_size=30)\n"
   ]
  },
  {
   "cell_type": "markdown",
   "id": "0668c63f",
   "metadata": {},
   "source": [
    "Train the models on the poisoned data"
   ]
  },
  {
   "cell_type": "code",
   "execution_count": 9,
   "id": "80f2917b",
   "metadata": {},
   "outputs": [
    {
     "name": "stdout",
     "output_type": "stream",
     "text": [
      "Train on 10000 samples\n",
      "Epoch 1/10\n",
      "10000/10000 [==============================] - 1s 110us/sample - loss: 0.6832 - accuracy: 0.7803\n",
      "Epoch 2/10\n",
      "10000/10000 [==============================] - 1s 53us/sample - loss: 0.2293 - accuracy: 0.9308\n",
      "Epoch 3/10\n",
      "10000/10000 [==============================] - 1s 52us/sample - loss: 0.1386 - accuracy: 0.9584\n",
      "Epoch 4/10\n",
      "10000/10000 [==============================] - 1s 53us/sample - loss: 0.1015 - accuracy: 0.9695\n",
      "Epoch 5/10\n",
      "10000/10000 [==============================] - 1s 53us/sample - loss: 0.0800 - accuracy: 0.9740\n",
      "Epoch 6/10\n",
      "10000/10000 [==============================] - 1s 52us/sample - loss: 0.0655 - accuracy: 0.9782\n",
      "Epoch 7/10\n",
      "10000/10000 [==============================] - 1s 54us/sample - loss: 0.0553 - accuracy: 0.9828\n",
      "Epoch 8/10\n",
      "10000/10000 [==============================] - 1s 52us/sample - loss: 0.0438 - accuracy: 0.9853\n",
      "Epoch 9/10\n",
      "10000/10000 [==============================] - 1s 52us/sample - loss: 0.0394 - accuracy: 0.9863\n",
      "Epoch 10/10\n",
      "10000/10000 [==============================] - 1s 52us/sample - loss: 0.0369 - accuracy: 0.9879\n",
      "Train on 936 samples\n",
      "Epoch 1/10\n",
      "936/936 [==============================] - 8s 8ms/sample - loss: 1.8832 - accuracy: 0.3536\n",
      "Epoch 2/10\n",
      "936/936 [==============================] - 0s 64us/sample - loss: 1.0181 - accuracy: 0.6464\n",
      "Epoch 3/10\n",
      "936/936 [==============================] - 0s 55us/sample - loss: 0.6800 - accuracy: 0.7874\n",
      "Epoch 4/10\n",
      "936/936 [==============================] - 0s 55us/sample - loss: 0.5154 - accuracy: 0.8365\n",
      "Epoch 5/10\n",
      "936/936 [==============================] - 0s 56us/sample - loss: 0.3829 - accuracy: 0.8814\n",
      "Epoch 6/10\n",
      "936/936 [==============================] - 0s 54us/sample - loss: 0.3440 - accuracy: 0.8932\n",
      "Epoch 7/10\n",
      "936/936 [==============================] - 0s 53us/sample - loss: 0.2886 - accuracy: 0.9060\n",
      "Epoch 8/10\n",
      "936/936 [==============================] - 0s 53us/sample - loss: 0.2369 - accuracy: 0.9327\n",
      "Epoch 9/10\n",
      "936/936 [==============================] - 0s 58us/sample - loss: 0.1844 - accuracy: 0.9519\n",
      "Epoch 10/10\n",
      "936/936 [==============================] - 0s 53us/sample - loss: 0.1872 - accuracy: 0.9402\n",
      "Train on 966 samples\n",
      "Epoch 1/10\n",
      "966/966 [==============================] - 8s 8ms/sample - loss: 1.8927 - accuracy: 0.3623\n",
      "Epoch 2/10\n",
      "966/966 [==============================] - 0s 56us/sample - loss: 0.9502 - accuracy: 0.6687\n",
      "Epoch 3/10\n",
      "966/966 [==============================] - 0s 54us/sample - loss: 0.6730 - accuracy: 0.7836\n",
      "Epoch 4/10\n",
      "966/966 [==============================] - 0s 54us/sample - loss: 0.5217 - accuracy: 0.8333\n",
      "Epoch 5/10\n",
      "966/966 [==============================] - 0s 52us/sample - loss: 0.4512 - accuracy: 0.8489\n",
      "Epoch 6/10\n",
      "966/966 [==============================] - 0s 53us/sample - loss: 0.3411 - accuracy: 0.8923\n",
      "Epoch 7/10\n",
      "966/966 [==============================] - 0s 53us/sample - loss: 0.2632 - accuracy: 0.9182\n",
      "Epoch 8/10\n",
      "966/966 [==============================] - 0s 52us/sample - loss: 0.2268 - accuracy: 0.9079\n",
      "Epoch 9/10\n",
      "966/966 [==============================] - 0s 53us/sample - loss: 0.1997 - accuracy: 0.9327\n",
      "Epoch 10/10\n",
      "966/966 [==============================] - 0s 53us/sample - loss: 0.1648 - accuracy: 0.9472\n",
      "Train on 1028 samples\n",
      "Epoch 1/10\n",
      "1028/1028 [==============================] - 8s 8ms/sample - loss: 1.8635 - accuracy: 0.4047\n",
      "Epoch 2/10\n",
      "1028/1028 [==============================] - 0s 58us/sample - loss: 1.0340 - accuracy: 0.6605\n",
      "Epoch 3/10\n",
      "1028/1028 [==============================] - 0s 54us/sample - loss: 0.7247 - accuracy: 0.7626\n",
      "Epoch 4/10\n",
      "1028/1028 [==============================] - 0s 54us/sample - loss: 0.5778 - accuracy: 0.8025\n",
      "Epoch 5/10\n",
      "1028/1028 [==============================] - 0s 57us/sample - loss: 0.4977 - accuracy: 0.8385\n",
      "Epoch 6/10\n",
      "1028/1028 [==============================] - 0s 55us/sample - loss: 0.3900 - accuracy: 0.8735\n",
      "Epoch 7/10\n",
      "1028/1028 [==============================] - 0s 55us/sample - loss: 0.3276 - accuracy: 0.8930\n",
      "Epoch 8/10\n",
      "1028/1028 [==============================] - 0s 68us/sample - loss: 0.3106 - accuracy: 0.8901\n",
      "Epoch 9/10\n",
      "1028/1028 [==============================] - 0s 72us/sample - loss: 0.2761 - accuracy: 0.9056\n",
      "Epoch 10/10\n",
      "1028/1028 [==============================] - 0s 56us/sample - loss: 0.2410 - accuracy: 0.9212\n",
      "Train on 990 samples\n",
      "Epoch 1/10\n",
      "990/990 [==============================] - 8s 8ms/sample - loss: 1.8869 - accuracy: 0.3869\n",
      "Epoch 2/10\n",
      "990/990 [==============================] - 0s 55us/sample - loss: 0.9922 - accuracy: 0.6859\n",
      "Epoch 3/10\n",
      "990/990 [==============================] - 0s 53us/sample - loss: 0.6491 - accuracy: 0.7859\n",
      "Epoch 4/10\n",
      "990/990 [==============================] - 0s 59us/sample - loss: 0.5027 - accuracy: 0.8404\n",
      "Epoch 5/10\n",
      "990/990 [==============================] - 0s 53us/sample - loss: 0.3991 - accuracy: 0.8758\n",
      "Epoch 6/10\n",
      "990/990 [==============================] - 0s 52us/sample - loss: 0.3109 - accuracy: 0.8909\n",
      "Epoch 7/10\n",
      "990/990 [==============================] - 0s 53us/sample - loss: 0.2431 - accuracy: 0.9283\n",
      "Epoch 8/10\n",
      "990/990 [==============================] - 0s 53us/sample - loss: 0.2027 - accuracy: 0.9384\n",
      "Epoch 9/10\n",
      "990/990 [==============================] - 0s 52us/sample - loss: 0.1955 - accuracy: 0.9303\n",
      "Epoch 10/10\n",
      "990/990 [==============================] - 0s 52us/sample - loss: 0.1501 - accuracy: 0.9495\n",
      "Train on 991 samples\n",
      "Epoch 1/10\n",
      "991/991 [==============================] - 8s 8ms/sample - loss: 1.8952 - accuracy: 0.3744\n",
      "Epoch 2/10\n",
      "991/991 [==============================] - 0s 58us/sample - loss: 1.0160 - accuracy: 0.6761\n",
      "Epoch 3/10\n",
      "991/991 [==============================] - 0s 54us/sample - loss: 0.6722 - accuracy: 0.7861\n",
      "Epoch 4/10\n",
      "991/991 [==============================] - 0s 53us/sample - loss: 0.5067 - accuracy: 0.8567\n",
      "Epoch 5/10\n",
      "991/991 [==============================] - 0s 53us/sample - loss: 0.3905 - accuracy: 0.8729\n",
      "Epoch 6/10\n",
      "991/991 [==============================] - 0s 52us/sample - loss: 0.3289 - accuracy: 0.8930\n",
      "Epoch 7/10\n",
      "991/991 [==============================] - 0s 53us/sample - loss: 0.2630 - accuracy: 0.9213\n",
      "Epoch 8/10\n",
      "991/991 [==============================] - 0s 73us/sample - loss: 0.2089 - accuracy: 0.9354\n",
      "Epoch 9/10\n",
      "991/991 [==============================] - 0s 53us/sample - loss: 0.1721 - accuracy: 0.9455\n",
      "Epoch 10/10\n",
      "991/991 [==============================] - 0s 52us/sample - loss: 0.1461 - accuracy: 0.9506\n",
      "Train on 1019 samples\n",
      "Epoch 1/10\n",
      "1019/1019 [==============================] - 8s 8ms/sample - loss: 1.8283 - accuracy: 0.3945\n",
      "Epoch 2/10\n",
      "1019/1019 [==============================] - 0s 55us/sample - loss: 0.9037 - accuracy: 0.6830\n",
      "Epoch 3/10\n",
      "1019/1019 [==============================] - 0s 53us/sample - loss: 0.6522 - accuracy: 0.7949\n",
      "Epoch 4/10\n",
      "1019/1019 [==============================] - 0s 53us/sample - loss: 0.4943 - accuracy: 0.8538\n",
      "Epoch 5/10\n",
      "1019/1019 [==============================] - 0s 54us/sample - loss: 0.4534 - accuracy: 0.8440\n",
      "Epoch 6/10\n",
      "1019/1019 [==============================] - 0s 53us/sample - loss: 0.3682 - accuracy: 0.8793\n",
      "Epoch 7/10\n",
      "1019/1019 [==============================] - 0s 53us/sample - loss: 0.2714 - accuracy: 0.9078\n",
      "Epoch 8/10\n",
      "1019/1019 [==============================] - 0s 53us/sample - loss: 0.2249 - accuracy: 0.9293\n",
      "Epoch 9/10\n",
      "1019/1019 [==============================] - 0s 53us/sample - loss: 0.2127 - accuracy: 0.9352\n",
      "Epoch 10/10\n",
      "1019/1019 [==============================] - 0s 53us/sample - loss: 0.1532 - accuracy: 0.9568\n",
      "Train on 984 samples\n",
      "Epoch 1/10\n",
      "984/984 [==============================] - 8s 8ms/sample - loss: 1.8971 - accuracy: 0.3567\n",
      "Epoch 2/10\n",
      "984/984 [==============================] - 0s 55us/sample - loss: 0.9702 - accuracy: 0.6860\n",
      "Epoch 3/10\n",
      "984/984 [==============================] - 0s 54us/sample - loss: 0.6073 - accuracy: 0.8059\n",
      "Epoch 4/10\n",
      "984/984 [==============================] - 0s 52us/sample - loss: 0.4731 - accuracy: 0.8333\n",
      "Epoch 5/10\n",
      "984/984 [==============================] - 0s 53us/sample - loss: 0.3950 - accuracy: 0.8760\n",
      "Epoch 6/10\n",
      "984/984 [==============================] - 0s 54us/sample - loss: 0.2887 - accuracy: 0.9065\n",
      "Epoch 7/10\n",
      "984/984 [==============================] - 0s 53us/sample - loss: 0.2370 - accuracy: 0.9248\n",
      "Epoch 8/10\n"
     ]
    },
    {
     "name": "stdout",
     "output_type": "stream",
     "text": [
      "984/984 [==============================] - 0s 53us/sample - loss: 0.1974 - accuracy: 0.9350\n",
      "Epoch 9/10\n",
      "984/984 [==============================] - 0s 53us/sample - loss: 0.1579 - accuracy: 0.9482\n",
      "Epoch 10/10\n",
      "984/984 [==============================] - 0s 53us/sample - loss: 0.1400 - accuracy: 0.9563\n",
      "Train on 1042 samples\n",
      "Epoch 1/10\n",
      "1042/1042 [==============================] - 8s 8ms/sample - loss: 1.8423 - accuracy: 0.3896\n",
      "Epoch 2/10\n",
      "1042/1042 [==============================] - 0s 57us/sample - loss: 0.9256 - accuracy: 0.6900\n",
      "Epoch 3/10\n",
      "1042/1042 [==============================] - 0s 59us/sample - loss: 0.6473 - accuracy: 0.7965\n",
      "Epoch 4/10\n",
      "1042/1042 [==============================] - 0s 56us/sample - loss: 0.4832 - accuracy: 0.8532\n",
      "Epoch 5/10\n",
      "1042/1042 [==============================] - 0s 55us/sample - loss: 0.4262 - accuracy: 0.8580\n",
      "Epoch 6/10\n",
      "1042/1042 [==============================] - 0s 56us/sample - loss: 0.3410 - accuracy: 0.8877\n",
      "Epoch 7/10\n",
      "1042/1042 [==============================] - 0s 54us/sample - loss: 0.2601 - accuracy: 0.9223\n",
      "Epoch 8/10\n",
      "1042/1042 [==============================] - 0s 56us/sample - loss: 0.2709 - accuracy: 0.9127\n",
      "Epoch 9/10\n",
      "1042/1042 [==============================] - 0s 54us/sample - loss: 0.2193 - accuracy: 0.9280\n",
      "Epoch 10/10\n",
      "1042/1042 [==============================] - 0s 57us/sample - loss: 0.1979 - accuracy: 0.9395\n",
      "Train on 1032 samples\n",
      "Epoch 1/10\n",
      "1032/1032 [==============================] - 8s 8ms/sample - loss: 1.8707 - accuracy: 0.3585\n",
      "Epoch 2/10\n",
      "1032/1032 [==============================] - 0s 59us/sample - loss: 1.0158 - accuracy: 0.6725\n",
      "Epoch 3/10\n",
      "1032/1032 [==============================] - 0s 56us/sample - loss: 0.6940 - accuracy: 0.7781\n",
      "Epoch 4/10\n",
      "1032/1032 [==============================] - 0s 69us/sample - loss: 0.5371 - accuracy: 0.8246\n",
      "Epoch 5/10\n",
      "1032/1032 [==============================] - 0s 55us/sample - loss: 0.4404 - accuracy: 0.8566\n",
      "Epoch 6/10\n",
      "1032/1032 [==============================] - 0s 56us/sample - loss: 0.3634 - accuracy: 0.8915\n",
      "Epoch 7/10\n",
      "1032/1032 [==============================] - 0s 56us/sample - loss: 0.3092 - accuracy: 0.9070\n",
      "Epoch 8/10\n",
      "1032/1032 [==============================] - 0s 56us/sample - loss: 0.2403 - accuracy: 0.9186\n",
      "Epoch 9/10\n",
      "1032/1032 [==============================] - 0s 54us/sample - loss: 0.2220 - accuracy: 0.9264\n",
      "Epoch 10/10\n",
      "1032/1032 [==============================] - 0s 56us/sample - loss: 0.1741 - accuracy: 0.9428\n",
      "Train on 1012 samples\n",
      "Epoch 1/10\n",
      "1012/1012 [==============================] - 8s 8ms/sample - loss: 1.8803 - accuracy: 0.3903\n",
      "Epoch 2/10\n",
      "1012/1012 [==============================] - 0s 56us/sample - loss: 0.9161 - accuracy: 0.6996\n",
      "Epoch 3/10\n",
      "1012/1012 [==============================] - 0s 59us/sample - loss: 0.6410 - accuracy: 0.7955\n",
      "Epoch 4/10\n",
      "1012/1012 [==============================] - 0s 53us/sample - loss: 0.5023 - accuracy: 0.8449\n",
      "Epoch 5/10\n",
      "1012/1012 [==============================] - 0s 55us/sample - loss: 0.3886 - accuracy: 0.8794\n",
      "Epoch 6/10\n",
      "1012/1012 [==============================] - 0s 54us/sample - loss: 0.3147 - accuracy: 0.9071\n",
      "Epoch 7/10\n",
      "1012/1012 [==============================] - 0s 53us/sample - loss: 0.2517 - accuracy: 0.9219\n",
      "Epoch 8/10\n",
      "1012/1012 [==============================] - 0s 54us/sample - loss: 0.1909 - accuracy: 0.9417\n",
      "Epoch 9/10\n",
      "1012/1012 [==============================] - 0s 54us/sample - loss: 0.1683 - accuracy: 0.9457\n",
      "Epoch 10/10\n",
      "1012/1012 [==============================] - 0s 60us/sample - loss: 0.1181 - accuracy: 0.9664\n",
      "Train on 461 samples\n",
      "Epoch 1/10\n",
      "461/461 [==============================] - 9s 19ms/sample - loss: 2.1781 - accuracy: 0.2148\n",
      "Epoch 2/10\n",
      "461/461 [==============================] - 0s 60us/sample - loss: 1.5455 - accuracy: 0.5792\n",
      "Epoch 3/10\n",
      "461/461 [==============================] - 0s 57us/sample - loss: 1.0803 - accuracy: 0.6464\n",
      "Epoch 4/10\n",
      "461/461 [==============================] - 0s 70us/sample - loss: 0.8147 - accuracy: 0.7050\n",
      "Epoch 5/10\n",
      "461/461 [==============================] - 0s 56us/sample - loss: 0.6252 - accuracy: 0.7961\n",
      "Epoch 6/10\n",
      "461/461 [==============================] - 0s 58us/sample - loss: 0.5088 - accuracy: 0.8373\n",
      "Epoch 7/10\n",
      "461/461 [==============================] - 0s 57us/sample - loss: 0.4385 - accuracy: 0.8764\n",
      "Epoch 8/10\n",
      "461/461 [==============================] - 0s 56us/sample - loss: 0.3913 - accuracy: 0.8764\n",
      "Epoch 9/10\n",
      "461/461 [==============================] - 0s 57us/sample - loss: 0.3244 - accuracy: 0.8850\n",
      "Epoch 10/10\n",
      "461/461 [==============================] - 0s 56us/sample - loss: 0.2420 - accuracy: 0.9219\n",
      "Train on 493 samples\n",
      "Epoch 1/10\n",
      "493/493 [==============================] - 9s 17ms/sample - loss: 2.1617 - accuracy: 0.2414\n",
      "Epoch 2/10\n",
      "493/493 [==============================] - 0s 59us/sample - loss: 1.5012 - accuracy: 0.5943\n",
      "Epoch 3/10\n",
      "493/493 [==============================] - 0s 55us/sample - loss: 1.0610 - accuracy: 0.6491\n",
      "Epoch 4/10\n",
      "493/493 [==============================] - 0s 58us/sample - loss: 0.7758 - accuracy: 0.7262\n",
      "Epoch 5/10\n",
      "493/493 [==============================] - 0s 55us/sample - loss: 0.6127 - accuracy: 0.8032\n",
      "Epoch 6/10\n",
      "493/493 [==============================] - 0s 54us/sample - loss: 0.5046 - accuracy: 0.8195\n",
      "Epoch 7/10\n",
      "493/493 [==============================] - 0s 55us/sample - loss: 0.4254 - accuracy: 0.8661\n",
      "Epoch 8/10\n",
      "493/493 [==============================] - 0s 55us/sample - loss: 0.3454 - accuracy: 0.8742\n",
      "Epoch 9/10\n",
      "493/493 [==============================] - 0s 55us/sample - loss: 0.2756 - accuracy: 0.9128\n",
      "Epoch 10/10\n",
      "493/493 [==============================] - 0s 55us/sample - loss: 0.2401 - accuracy: 0.9148\n",
      "Train on 507 samples\n",
      "Epoch 1/10\n",
      "507/507 [==============================] - 1s 1ms/sample - loss: 2.1273 - accuracy: 0.2722\n",
      "Epoch 2/10\n",
      "507/507 [==============================] - 0s 56us/sample - loss: 1.4729 - accuracy: 0.5621\n",
      "Epoch 3/10\n",
      "507/507 [==============================] - 0s 54us/sample - loss: 0.9727 - accuracy: 0.7101\n",
      "Epoch 4/10\n",
      "507/507 [==============================] - 0s 52us/sample - loss: 0.7910 - accuracy: 0.7475\n",
      "Epoch 5/10\n",
      "507/507 [==============================] - 0s 56us/sample - loss: 0.6021 - accuracy: 0.8107\n",
      "Epoch 6/10\n",
      "507/507 [==============================] - 0s 54us/sample - loss: 0.4852 - accuracy: 0.8501\n",
      "Epoch 7/10\n",
      "507/507 [==============================] - 0s 52us/sample - loss: 0.4269 - accuracy: 0.8639\n",
      "Epoch 8/10\n",
      "507/507 [==============================] - 0s 53us/sample - loss: 0.3707 - accuracy: 0.8797\n",
      "Epoch 9/10\n",
      "507/507 [==============================] - 0s 60us/sample - loss: 0.3043 - accuracy: 0.9132\n",
      "Epoch 10/10\n",
      "507/507 [==============================] - 0s 54us/sample - loss: 0.3050 - accuracy: 0.8856\n",
      "Train on 477 samples\n",
      "Epoch 1/10\n",
      "477/477 [==============================] - 9s 18ms/sample - loss: 2.1667 - accuracy: 0.2075\n",
      "Epoch 2/10\n",
      "477/477 [==============================] - 0s 59us/sample - loss: 1.5388 - accuracy: 0.5765\n",
      "Epoch 3/10\n",
      "477/477 [==============================] - 0s 56us/sample - loss: 1.0230 - accuracy: 0.6792\n",
      "Epoch 4/10\n",
      "477/477 [==============================] - 0s 57us/sample - loss: 0.7591 - accuracy: 0.7421\n",
      "Epoch 5/10\n",
      "477/477 [==============================] - 0s 57us/sample - loss: 0.6114 - accuracy: 0.7966\n",
      "Epoch 6/10\n",
      "477/477 [==============================] - 0s 60us/sample - loss: 0.5126 - accuracy: 0.8155\n",
      "Epoch 7/10\n",
      "477/477 [==============================] - 0s 58us/sample - loss: 0.4317 - accuracy: 0.8784\n",
      "Epoch 8/10\n",
      "477/477 [==============================] - 0s 56us/sample - loss: 0.3811 - accuracy: 0.8889\n",
      "Epoch 9/10\n",
      "477/477 [==============================] - 0s 57us/sample - loss: 0.3147 - accuracy: 0.9140\n",
      "Epoch 10/10\n",
      "477/477 [==============================] - 0s 60us/sample - loss: 0.2752 - accuracy: 0.9036\n",
      "Train on 517 samples\n",
      "Epoch 1/10\n",
      "517/517 [==============================] - 9s 17ms/sample - loss: 2.1310 - accuracy: 0.2824\n",
      "Epoch 2/10\n",
      "517/517 [==============================] - 0s 68us/sample - loss: 1.4592 - accuracy: 0.5706\n",
      "Epoch 3/10\n",
      "517/517 [==============================] - 0s 62us/sample - loss: 1.1336 - accuracy: 0.6093\n",
      "Epoch 4/10\n",
      "517/517 [==============================] - 0s 60us/sample - loss: 0.9969 - accuracy: 0.6422\n",
      "Epoch 5/10\n"
     ]
    },
    {
     "name": "stdout",
     "output_type": "stream",
     "text": [
      "517/517 [==============================] - 0s 61us/sample - loss: 0.7790 - accuracy: 0.7466\n",
      "Epoch 6/10\n",
      "517/517 [==============================] - 0s 62us/sample - loss: 0.7397 - accuracy: 0.7563\n",
      "Epoch 7/10\n",
      "517/517 [==============================] - 0s 61us/sample - loss: 0.5910 - accuracy: 0.8182\n",
      "Epoch 8/10\n",
      "517/517 [==============================] - 0s 78us/sample - loss: 0.5377 - accuracy: 0.8511\n",
      "Epoch 9/10\n",
      "517/517 [==============================] - 0s 59us/sample - loss: 0.5072 - accuracy: 0.8433\n",
      "Epoch 10/10\n",
      "517/517 [==============================] - 0s 58us/sample - loss: 0.3996 - accuracy: 0.8839\n",
      "Train on 522 samples\n",
      "Epoch 1/10\n",
      "522/522 [==============================] - 9s 17ms/sample - loss: 2.1518 - accuracy: 0.2337\n",
      "Epoch 2/10\n",
      "522/522 [==============================] - 0s 62us/sample - loss: 1.5405 - accuracy: 0.5019\n",
      "Epoch 3/10\n",
      "522/522 [==============================] - 0s 58us/sample - loss: 1.1660 - accuracy: 0.5900\n",
      "Epoch 4/10\n",
      "522/522 [==============================] - 0s 58us/sample - loss: 0.8703 - accuracy: 0.6954\n",
      "Epoch 5/10\n",
      "522/522 [==============================] - 0s 60us/sample - loss: 0.7581 - accuracy: 0.7452\n",
      "Epoch 6/10\n",
      "522/522 [==============================] - 0s 58us/sample - loss: 0.5891 - accuracy: 0.8065\n",
      "Epoch 7/10\n",
      "522/522 [==============================] - 0s 59us/sample - loss: 0.5175 - accuracy: 0.8238\n",
      "Epoch 8/10\n",
      "522/522 [==============================] - 0s 57us/sample - loss: 0.4620 - accuracy: 0.8448\n",
      "Epoch 9/10\n",
      "522/522 [==============================] - 0s 63us/sample - loss: 0.3873 - accuracy: 0.8736\n",
      "Epoch 10/10\n",
      "522/522 [==============================] - 0s 60us/sample - loss: 0.3433 - accuracy: 0.8985\n",
      "Train on 477 samples\n",
      "Epoch 1/10\n",
      "477/477 [==============================] - 1s 1ms/sample - loss: 2.1615 - accuracy: 0.1719\n",
      "Epoch 2/10\n",
      "477/477 [==============================] - 0s 55us/sample - loss: 1.5115 - accuracy: 0.5556\n",
      "Epoch 3/10\n",
      "477/477 [==============================] - 0s 57us/sample - loss: 0.9949 - accuracy: 0.6751\n",
      "Epoch 4/10\n",
      "477/477 [==============================] - 0s 54us/sample - loss: 0.7523 - accuracy: 0.7358\n",
      "Epoch 5/10\n",
      "477/477 [==============================] - 0s 53us/sample - loss: 0.6121 - accuracy: 0.7945\n",
      "Epoch 6/10\n",
      "477/477 [==============================] - 0s 59us/sample - loss: 0.5232 - accuracy: 0.8428\n",
      "Epoch 7/10\n",
      "477/477 [==============================] - 0s 57us/sample - loss: 0.3974 - accuracy: 0.8742\n",
      "Epoch 8/10\n",
      "477/477 [==============================] - 0s 56us/sample - loss: 0.3462 - accuracy: 0.8931\n",
      "Epoch 9/10\n",
      "477/477 [==============================] - 0s 54us/sample - loss: 0.3562 - accuracy: 0.8763\n",
      "Epoch 10/10\n",
      "477/477 [==============================] - 0s 55us/sample - loss: 0.2286 - accuracy: 0.9078\n",
      "Train on 544 samples\n",
      "Epoch 1/10\n",
      "544/544 [==============================] - 3s 6ms/sample - loss: 2.1967 - accuracy: 0.2151\n",
      "Epoch 2/10\n",
      "544/544 [==============================] - 0s 61us/sample - loss: 1.5451 - accuracy: 0.5496\n",
      "Epoch 3/10\n",
      "544/544 [==============================] - 0s 59us/sample - loss: 1.0083 - accuracy: 0.6581\n",
      "Epoch 4/10\n",
      "544/544 [==============================] - 0s 61us/sample - loss: 0.7077 - accuracy: 0.7684\n",
      "Epoch 5/10\n",
      "544/544 [==============================] - 0s 55us/sample - loss: 0.5742 - accuracy: 0.8088\n",
      "Epoch 6/10\n",
      "544/544 [==============================] - 0s 58us/sample - loss: 0.4985 - accuracy: 0.8217\n",
      "Epoch 7/10\n",
      "544/544 [==============================] - 0s 56us/sample - loss: 0.4211 - accuracy: 0.8658\n",
      "Epoch 8/10\n",
      "544/544 [==============================] - 0s 61us/sample - loss: 0.3597 - accuracy: 0.8879\n",
      "Epoch 9/10\n",
      "544/544 [==============================] - 0s 58us/sample - loss: 0.2979 - accuracy: 0.8952\n",
      "Epoch 10/10\n",
      "544/544 [==============================] - 0s 57us/sample - loss: 0.2767 - accuracy: 0.9044\n",
      "Train on 514 samples\n",
      "Epoch 1/10\n",
      "514/514 [==============================] - 9s 17ms/sample - loss: 2.1820 - accuracy: 0.2160\n",
      "Epoch 2/10\n",
      "514/514 [==============================] - 0s 68us/sample - loss: 1.5123 - accuracy: 0.5486\n",
      "Epoch 3/10\n",
      "514/514 [==============================] - 0s 61us/sample - loss: 1.1021 - accuracy: 0.6265\n",
      "Epoch 4/10\n",
      "514/514 [==============================] - 0s 61us/sample - loss: 0.9234 - accuracy: 0.6829\n",
      "Epoch 5/10\n",
      "514/514 [==============================] - 0s 62us/sample - loss: 0.8049 - accuracy: 0.7412\n",
      "Epoch 6/10\n",
      "514/514 [==============================] - 0s 62us/sample - loss: 0.6483 - accuracy: 0.8016\n",
      "Epoch 7/10\n",
      "514/514 [==============================] - 0s 61us/sample - loss: 0.5081 - accuracy: 0.8288\n",
      "Epoch 8/10\n",
      "514/514 [==============================] - 0s 68us/sample - loss: 0.4644 - accuracy: 0.8385\n",
      "Epoch 9/10\n",
      "514/514 [==============================] - 0s 61us/sample - loss: 0.3922 - accuracy: 0.8658\n",
      "Epoch 10/10\n",
      "514/514 [==============================] - 0s 65us/sample - loss: 0.3601 - accuracy: 0.8833\n",
      "Train on 500 samples\n",
      "Epoch 1/10\n",
      "500/500 [==============================] - 1s 1ms/sample - loss: 2.1439 - accuracy: 0.2440\n",
      "Epoch 2/10\n",
      "500/500 [==============================] - 0s 72us/sample - loss: 1.4182 - accuracy: 0.6020\n",
      "Epoch 3/10\n",
      "500/500 [==============================] - 0s 55us/sample - loss: 0.9637 - accuracy: 0.6960\n",
      "Epoch 4/10\n",
      "500/500 [==============================] - 0s 54us/sample - loss: 0.6920 - accuracy: 0.7620\n",
      "Epoch 5/10\n",
      "500/500 [==============================] - 0s 61us/sample - loss: 0.5564 - accuracy: 0.8280\n",
      "Epoch 6/10\n",
      "500/500 [==============================] - 0s 55us/sample - loss: 0.4378 - accuracy: 0.8500\n",
      "Epoch 7/10\n",
      "500/500 [==============================] - 0s 56us/sample - loss: 0.4045 - accuracy: 0.8780\n",
      "Epoch 8/10\n",
      "500/500 [==============================] - 0s 56us/sample - loss: 0.3310 - accuracy: 0.8960\n",
      "Epoch 9/10\n",
      "500/500 [==============================] - 0s 55us/sample - loss: 0.2805 - accuracy: 0.9060\n",
      "Epoch 10/10\n",
      "500/500 [==============================] - 0s 56us/sample - loss: 0.2565 - accuracy: 0.9300\n",
      "Train on 475 samples\n",
      "Epoch 1/10\n",
      "475/475 [==============================] - 9s 19ms/sample - loss: 2.1636 - accuracy: 0.2337\n",
      "Epoch 2/10\n",
      "475/475 [==============================] - 0s 61us/sample - loss: 1.5211 - accuracy: 0.5368\n",
      "Epoch 3/10\n",
      "475/475 [==============================] - 0s 55us/sample - loss: 0.9928 - accuracy: 0.6821\n",
      "Epoch 4/10\n",
      "475/475 [==============================] - 0s 56us/sample - loss: 0.7535 - accuracy: 0.7558\n",
      "Epoch 5/10\n",
      "475/475 [==============================] - 0s 57us/sample - loss: 0.5662 - accuracy: 0.8000\n",
      "Epoch 6/10\n",
      "475/475 [==============================] - 0s 59us/sample - loss: 0.4937 - accuracy: 0.8484\n",
      "Epoch 7/10\n",
      "475/475 [==============================] - 0s 56us/sample - loss: 0.4056 - accuracy: 0.8653\n",
      "Epoch 8/10\n",
      "475/475 [==============================] - 0s 55us/sample - loss: 0.3534 - accuracy: 0.8842\n",
      "Epoch 9/10\n",
      "475/475 [==============================] - 0s 57us/sample - loss: 0.3272 - accuracy: 0.8989\n",
      "Epoch 10/10\n",
      "475/475 [==============================] - 0s 57us/sample - loss: 0.3200 - accuracy: 0.8968\n",
      "Train on 473 samples\n",
      "Epoch 1/10\n",
      "473/473 [==============================] - 9s 19ms/sample - loss: 2.1560 - accuracy: 0.2748\n",
      "Epoch 2/10\n",
      "473/473 [==============================] - 0s 60us/sample - loss: 1.5286 - accuracy: 0.5666\n",
      "Epoch 3/10\n",
      "473/473 [==============================] - 0s 57us/sample - loss: 1.0527 - accuracy: 0.6808\n",
      "Epoch 4/10\n",
      "473/473 [==============================] - 0s 56us/sample - loss: 0.8190 - accuracy: 0.7378\n",
      "Epoch 5/10\n",
      "473/473 [==============================] - 0s 58us/sample - loss: 0.6404 - accuracy: 0.8034\n",
      "Epoch 6/10\n",
      "473/473 [==============================] - 0s 58us/sample - loss: 0.5280 - accuracy: 0.8266\n",
      "Epoch 7/10\n",
      "473/473 [==============================] - 0s 59us/sample - loss: 0.4654 - accuracy: 0.8584\n",
      "Epoch 8/10\n",
      "473/473 [==============================] - 0s 57us/sample - loss: 0.3834 - accuracy: 0.8858\n",
      "Epoch 9/10\n",
      "473/473 [==============================] - 0s 56us/sample - loss: 0.3003 - accuracy: 0.9027\n",
      "Epoch 10/10\n",
      "473/473 [==============================] - 0s 57us/sample - loss: 0.3021 - accuracy: 0.8985\n",
      "Train on 521 samples\n",
      "Epoch 1/10\n",
      "521/521 [==============================] - 9s 18ms/sample - loss: 2.1426 - accuracy: 0.2514\n",
      "Epoch 2/10\n",
      "521/521 [==============================] - 0s 64us/sample - loss: 1.4395 - accuracy: 0.5720\n"
     ]
    },
    {
     "name": "stdout",
     "output_type": "stream",
     "text": [
      "Epoch 3/10\n",
      "521/521 [==============================] - 0s 60us/sample - loss: 1.0688 - accuracy: 0.6219\n",
      "Epoch 4/10\n",
      "521/521 [==============================] - 0s 65us/sample - loss: 0.8376 - accuracy: 0.7313\n",
      "Epoch 5/10\n",
      "521/521 [==============================] - 0s 66us/sample - loss: 0.7249 - accuracy: 0.7601\n",
      "Epoch 6/10\n",
      "521/521 [==============================] - 0s 61us/sample - loss: 0.6095 - accuracy: 0.8100\n",
      "Epoch 7/10\n",
      "521/521 [==============================] - 0s 61us/sample - loss: 0.5026 - accuracy: 0.8253\n",
      "Epoch 8/10\n",
      "521/521 [==============================] - 0s 67us/sample - loss: 0.4589 - accuracy: 0.8426\n",
      "Epoch 9/10\n",
      "521/521 [==============================] - 0s 59us/sample - loss: 0.3715 - accuracy: 0.8752\n",
      "Epoch 10/10\n",
      "521/521 [==============================] - 0s 70us/sample - loss: 0.2984 - accuracy: 0.9021\n",
      "Train on 513 samples\n",
      "Epoch 1/10\n",
      "513/513 [==============================] - 9s 18ms/sample - loss: 2.1388 - accuracy: 0.2359\n",
      "Epoch 2/10\n",
      "513/513 [==============================] - 0s 66us/sample - loss: 1.4565 - accuracy: 0.5789\n",
      "Epoch 3/10\n",
      "513/513 [==============================] - 0s 61us/sample - loss: 1.0446 - accuracy: 0.6745\n",
      "Epoch 4/10\n",
      "513/513 [==============================] - 0s 59us/sample - loss: 0.7595 - accuracy: 0.7310\n",
      "Epoch 5/10\n",
      "513/513 [==============================] - 0s 60us/sample - loss: 0.6591 - accuracy: 0.7641\n",
      "Epoch 6/10\n",
      "513/513 [==============================] - 0s 62us/sample - loss: 0.6063 - accuracy: 0.8031\n",
      "Epoch 7/10\n",
      "513/513 [==============================] - 0s 64us/sample - loss: 0.4354 - accuracy: 0.8616\n",
      "Epoch 8/10\n",
      "513/513 [==============================] - 0s 61us/sample - loss: 0.4440 - accuracy: 0.8577\n",
      "Epoch 9/10\n",
      "513/513 [==============================] - 0s 61us/sample - loss: 0.3782 - accuracy: 0.8713\n",
      "Epoch 10/10\n",
      "513/513 [==============================] - 0s 61us/sample - loss: 0.3692 - accuracy: 0.8772\n",
      "Train on 474 samples\n",
      "Epoch 1/10\n",
      "474/474 [==============================] - 9s 20ms/sample - loss: 2.1384 - accuracy: 0.2511\n",
      "Epoch 2/10\n",
      "474/474 [==============================] - 0s 60us/sample - loss: 1.4293 - accuracy: 0.5970\n",
      "Epoch 3/10\n",
      "474/474 [==============================] - 0s 57us/sample - loss: 0.9632 - accuracy: 0.6835\n",
      "Epoch 4/10\n",
      "474/474 [==============================] - 0s 57us/sample - loss: 0.7747 - accuracy: 0.7426\n",
      "Epoch 5/10\n",
      "474/474 [==============================] - 0s 57us/sample - loss: 0.6400 - accuracy: 0.7827\n",
      "Epoch 6/10\n",
      "474/474 [==============================] - 0s 56us/sample - loss: 0.5074 - accuracy: 0.8228\n",
      "Epoch 7/10\n",
      "474/474 [==============================] - 0s 57us/sample - loss: 0.4352 - accuracy: 0.8692\n",
      "Epoch 8/10\n",
      "474/474 [==============================] - 0s 57us/sample - loss: 0.3803 - accuracy: 0.8882\n",
      "Epoch 9/10\n",
      "474/474 [==============================] - 0s 57us/sample - loss: 0.3387 - accuracy: 0.9008\n",
      "Epoch 10/10\n",
      "474/474 [==============================] - 0s 58us/sample - loss: 0.3039 - accuracy: 0.9114\n",
      "Train on 497 samples\n",
      "Epoch 1/10\n",
      "497/497 [==============================] - 9s 19ms/sample - loss: 2.1439 - accuracy: 0.2274\n",
      "Epoch 2/10\n",
      "497/497 [==============================] - 0s 61us/sample - loss: 1.4880 - accuracy: 0.5654\n",
      "Epoch 3/10\n",
      "497/497 [==============================] - 0s 58us/sample - loss: 1.0215 - accuracy: 0.6519\n",
      "Epoch 4/10\n",
      "497/497 [==============================] - 0s 56us/sample - loss: 0.7657 - accuracy: 0.7445\n",
      "Epoch 5/10\n",
      "497/497 [==============================] - 0s 56us/sample - loss: 0.6479 - accuracy: 0.7726\n",
      "Epoch 6/10\n",
      "497/497 [==============================] - 0s 54us/sample - loss: 0.5338 - accuracy: 0.8310\n",
      "Epoch 7/10\n",
      "497/497 [==============================] - 0s 54us/sample - loss: 0.4771 - accuracy: 0.8410\n",
      "Epoch 8/10\n",
      "497/497 [==============================] - 0s 57us/sample - loss: 0.4362 - accuracy: 0.8471\n",
      "Epoch 9/10\n",
      "497/497 [==============================] - 0s 55us/sample - loss: 0.3159 - accuracy: 0.8994\n",
      "Epoch 10/10\n",
      "497/497 [==============================] - 0s 66us/sample - loss: 0.2648 - accuracy: 0.9256\n",
      "Train on 507 samples\n",
      "Epoch 1/10\n",
      "507/507 [==============================] - 1s 1ms/sample - loss: 2.1425 - accuracy: 0.2406\n",
      "Epoch 2/10\n",
      "507/507 [==============================] - 0s 56us/sample - loss: 1.5145 - accuracy: 0.5227\n",
      "Epoch 3/10\n",
      "507/507 [==============================] - 0s 56us/sample - loss: 0.9479 - accuracy: 0.7022\n",
      "Epoch 4/10\n",
      "507/507 [==============================] - 0s 56us/sample - loss: 0.7151 - accuracy: 0.7594\n",
      "Epoch 5/10\n",
      "507/507 [==============================] - 0s 56us/sample - loss: 0.5487 - accuracy: 0.8205\n",
      "Epoch 6/10\n",
      "507/507 [==============================] - 0s 56us/sample - loss: 0.4291 - accuracy: 0.8757\n",
      "Epoch 7/10\n",
      "507/507 [==============================] - 0s 56us/sample - loss: 0.4133 - accuracy: 0.8679\n",
      "Epoch 8/10\n",
      "507/507 [==============================] - 0s 57us/sample - loss: 0.3101 - accuracy: 0.9014\n",
      "Epoch 9/10\n",
      "507/507 [==============================] - 0s 55us/sample - loss: 0.2564 - accuracy: 0.9034\n",
      "Epoch 10/10\n",
      "507/507 [==============================] - 0s 54us/sample - loss: 0.2295 - accuracy: 0.9290\n",
      "Train on 498 samples\n",
      "Epoch 1/10\n",
      "498/498 [==============================] - 9s 19ms/sample - loss: 2.1407 - accuracy: 0.2450\n",
      "Epoch 2/10\n",
      "498/498 [==============================] - 0s 60us/sample - loss: 1.4051 - accuracy: 0.6145\n",
      "Epoch 3/10\n",
      "498/498 [==============================] - 0s 57us/sample - loss: 0.8928 - accuracy: 0.7229\n",
      "Epoch 4/10\n",
      "498/498 [==============================] - 0s 55us/sample - loss: 0.6666 - accuracy: 0.7711\n",
      "Epoch 5/10\n",
      "498/498 [==============================] - 0s 56us/sample - loss: 0.5150 - accuracy: 0.8353\n",
      "Epoch 6/10\n",
      "498/498 [==============================] - 0s 56us/sample - loss: 0.4072 - accuracy: 0.8655\n",
      "Epoch 7/10\n",
      "498/498 [==============================] - 0s 56us/sample - loss: 0.4005 - accuracy: 0.8675\n",
      "Epoch 8/10\n",
      "498/498 [==============================] - 0s 57us/sample - loss: 0.3528 - accuracy: 0.8775\n",
      "Epoch 9/10\n",
      "498/498 [==============================] - 0s 58us/sample - loss: 0.2508 - accuracy: 0.9217\n",
      "Epoch 10/10\n",
      "498/498 [==============================] - 0s 58us/sample - loss: 0.2315 - accuracy: 0.9177\n",
      "Train on 518 samples\n",
      "Epoch 1/10\n",
      "518/518 [==============================] - 10s 19ms/sample - loss: 2.1525 - accuracy: 0.2625\n",
      "Epoch 2/10\n",
      "518/518 [==============================] - 0s 65us/sample - loss: 1.5468 - accuracy: 0.5425\n",
      "Epoch 3/10\n",
      "518/518 [==============================] - 0s 62us/sample - loss: 1.2576 - accuracy: 0.5869\n",
      "Epoch 4/10\n",
      "518/518 [==============================] - 0s 62us/sample - loss: 0.8820 - accuracy: 0.7066\n",
      "Epoch 5/10\n",
      "518/518 [==============================] - 0s 62us/sample - loss: 0.7769 - accuracy: 0.7471\n",
      "Epoch 6/10\n",
      "518/518 [==============================] - 0s 63us/sample - loss: 0.6965 - accuracy: 0.7722\n",
      "Epoch 7/10\n",
      "518/518 [==============================] - 0s 62us/sample - loss: 0.5209 - accuracy: 0.8340\n",
      "Epoch 8/10\n",
      "518/518 [==============================] - 0s 62us/sample - loss: 0.5167 - accuracy: 0.8320\n",
      "Epoch 9/10\n",
      "518/518 [==============================] - 0s 62us/sample - loss: 0.4981 - accuracy: 0.8417\n",
      "Epoch 10/10\n",
      "518/518 [==============================] - 0s 60us/sample - loss: 0.4178 - accuracy: 0.8552\n",
      "Train on 512 samples\n",
      "Epoch 1/10\n",
      "512/512 [==============================] - 1s 1ms/sample - loss: 2.1481 - accuracy: 0.3008\n",
      "Epoch 2/10\n",
      "512/512 [==============================] - 0s 54us/sample - loss: 1.5182 - accuracy: 0.5215\n",
      "Epoch 3/10\n",
      "512/512 [==============================] - 0s 55us/sample - loss: 1.0564 - accuracy: 0.6328\n",
      "Epoch 4/10\n",
      "512/512 [==============================] - 0s 55us/sample - loss: 0.8801 - accuracy: 0.6992\n",
      "Epoch 5/10\n",
      "512/512 [==============================] - 0s 54us/sample - loss: 0.6351 - accuracy: 0.7773\n",
      "Epoch 6/10\n",
      "512/512 [==============================] - 0s 59us/sample - loss: 0.5474 - accuracy: 0.8320\n",
      "Epoch 7/10\n",
      "512/512 [==============================] - 0s 53us/sample - loss: 0.4887 - accuracy: 0.8281\n",
      "Epoch 8/10\n",
      "512/512 [==============================] - 0s 54us/sample - loss: 0.3569 - accuracy: 0.8789\n",
      "Epoch 9/10\n",
      "512/512 [==============================] - 0s 54us/sample - loss: 0.3411 - accuracy: 0.9043\n",
      "Epoch 10/10\n",
      "512/512 [==============================] - 0s 54us/sample - loss: 0.2834 - accuracy: 0.8984\n",
      "Train on 301 samples\n"
     ]
    },
    {
     "name": "stdout",
     "output_type": "stream",
     "text": [
      "Epoch 1/10\n",
      "301/301 [==============================] - 10s 33ms/sample - loss: 2.2562 - accuracy: 0.1628\n",
      "Epoch 2/10\n",
      "301/301 [==============================] - 0s 71us/sample - loss: 1.8035 - accuracy: 0.4817\n",
      "Epoch 3/10\n",
      "301/301 [==============================] - 0s 66us/sample - loss: 1.3272 - accuracy: 0.5947\n",
      "Epoch 4/10\n",
      "301/301 [==============================] - 0s 64us/sample - loss: 1.0878 - accuracy: 0.6445\n",
      "Epoch 5/10\n",
      "301/301 [==============================] - 0s 66us/sample - loss: 0.7704 - accuracy: 0.7375\n",
      "Epoch 6/10\n",
      "301/301 [==============================] - 0s 63us/sample - loss: 0.6845 - accuracy: 0.7708\n",
      "Epoch 7/10\n",
      "301/301 [==============================] - 0s 65us/sample - loss: 0.6016 - accuracy: 0.7575\n",
      "Epoch 8/10\n",
      "301/301 [==============================] - 0s 66us/sample - loss: 0.5020 - accuracy: 0.8173\n",
      "Epoch 9/10\n",
      "301/301 [==============================] - 0s 65us/sample - loss: 0.4479 - accuracy: 0.8472\n",
      "Epoch 10/10\n",
      "301/301 [==============================] - 0s 67us/sample - loss: 0.3873 - accuracy: 0.8870\n",
      "Train on 329 samples\n",
      "Epoch 1/10\n",
      "329/329 [==============================] - 10s 30ms/sample - loss: 2.2359 - accuracy: 0.1763\n",
      "Epoch 2/10\n",
      "329/329 [==============================] - 0s 70us/sample - loss: 1.7534 - accuracy: 0.4742\n",
      "Epoch 3/10\n",
      "329/329 [==============================] - 0s 61us/sample - loss: 1.2341 - accuracy: 0.6201\n",
      "Epoch 4/10\n",
      "329/329 [==============================] - 0s 61us/sample - loss: 0.9793 - accuracy: 0.6991\n",
      "Epoch 5/10\n",
      "329/329 [==============================] - 0s 59us/sample - loss: 0.9239 - accuracy: 0.7082\n",
      "Epoch 6/10\n",
      "329/329 [==============================] - 0s 61us/sample - loss: 0.7178 - accuracy: 0.7477\n",
      "Epoch 7/10\n",
      "329/329 [==============================] - 0s 61us/sample - loss: 0.5779 - accuracy: 0.8116\n",
      "Epoch 8/10\n",
      "329/329 [==============================] - 0s 62us/sample - loss: 0.5646 - accuracy: 0.8085\n",
      "Epoch 9/10\n",
      "329/329 [==============================] - 0s 62us/sample - loss: 0.4509 - accuracy: 0.8450\n",
      "Epoch 10/10\n",
      "329/329 [==============================] - 0s 63us/sample - loss: 0.3772 - accuracy: 0.8784\n",
      "Train on 330 samples\n",
      "Epoch 1/10\n",
      "330/330 [==============================] - 10s 30ms/sample - loss: 2.2299 - accuracy: 0.1848\n",
      "Epoch 2/10\n",
      "330/330 [==============================] - 0s 67us/sample - loss: 1.8069 - accuracy: 0.3879\n",
      "Epoch 3/10\n",
      "330/330 [==============================] - 0s 64us/sample - loss: 1.2624 - accuracy: 0.6303\n",
      "Epoch 4/10\n",
      "330/330 [==============================] - 0s 68us/sample - loss: 0.9785 - accuracy: 0.6879\n",
      "Epoch 5/10\n",
      "330/330 [==============================] - 0s 63us/sample - loss: 0.8361 - accuracy: 0.7061\n",
      "Epoch 6/10\n",
      "330/330 [==============================] - 0s 66us/sample - loss: 0.7104 - accuracy: 0.7758\n",
      "Epoch 7/10\n",
      "330/330 [==============================] - 0s 72us/sample - loss: 0.5589 - accuracy: 0.8061\n",
      "Epoch 8/10\n",
      "330/330 [==============================] - 0s 62us/sample - loss: 0.4992 - accuracy: 0.8485\n",
      "Epoch 9/10\n",
      "330/330 [==============================] - 0s 59us/sample - loss: 0.3871 - accuracy: 0.8818\n",
      "Epoch 10/10\n",
      "330/330 [==============================] - 0s 62us/sample - loss: 0.3638 - accuracy: 0.8879\n",
      "Train on 332 samples\n",
      "Epoch 1/10\n",
      "332/332 [==============================] - 10s 30ms/sample - loss: 2.2142 - accuracy: 0.2078\n",
      "Epoch 2/10\n",
      "332/332 [==============================] - 0s 69us/sample - loss: 1.7428 - accuracy: 0.4759\n",
      "Epoch 3/10\n",
      "332/332 [==============================] - 0s 62us/sample - loss: 1.2156 - accuracy: 0.6295\n",
      "Epoch 4/10\n",
      "332/332 [==============================] - 0s 59us/sample - loss: 0.9702 - accuracy: 0.6657\n",
      "Epoch 5/10\n",
      "332/332 [==============================] - 0s 61us/sample - loss: 0.7251 - accuracy: 0.7711\n",
      "Epoch 6/10\n",
      "332/332 [==============================] - 0s 60us/sample - loss: 0.5481 - accuracy: 0.7952\n",
      "Epoch 7/10\n",
      "332/332 [==============================] - 0s 62us/sample - loss: 0.5100 - accuracy: 0.8253\n",
      "Epoch 8/10\n",
      "332/332 [==============================] - 0s 61us/sample - loss: 0.4115 - accuracy: 0.8464\n",
      "Epoch 9/10\n",
      "332/332 [==============================] - 0s 60us/sample - loss: 0.3971 - accuracy: 0.8675\n",
      "Epoch 10/10\n",
      "332/332 [==============================] - 0s 59us/sample - loss: 0.3106 - accuracy: 0.9036\n",
      "Train on 326 samples\n",
      "Epoch 1/10\n",
      "326/326 [==============================] - 1s 2ms/sample - loss: 2.2281 - accuracy: 0.2270\n",
      "Epoch 2/10\n",
      "326/326 [==============================] - 0s 65us/sample - loss: 1.7611 - accuracy: 0.5245\n",
      "Epoch 3/10\n",
      "326/326 [==============================] - 0s 61us/sample - loss: 1.2689 - accuracy: 0.6196\n",
      "Epoch 4/10\n",
      "326/326 [==============================] - 0s 60us/sample - loss: 0.9434 - accuracy: 0.6564\n",
      "Epoch 5/10\n",
      "326/326 [==============================] - 0s 60us/sample - loss: 0.7692 - accuracy: 0.7485\n",
      "Epoch 6/10\n",
      "326/326 [==============================] - 0s 60us/sample - loss: 0.5595 - accuracy: 0.7945\n",
      "Epoch 7/10\n",
      "326/326 [==============================] - 0s 60us/sample - loss: 0.4879 - accuracy: 0.8497\n",
      "Epoch 8/10\n",
      "326/326 [==============================] - 0s 60us/sample - loss: 0.3610 - accuracy: 0.8896\n",
      "Epoch 9/10\n",
      "326/326 [==============================] - 0s 61us/sample - loss: 0.3748 - accuracy: 0.8528\n",
      "Epoch 10/10\n",
      "326/326 [==============================] - 0s 61us/sample - loss: 0.3272 - accuracy: 0.8712\n",
      "Train on 310 samples\n",
      "Epoch 1/10\n",
      "310/310 [==============================] - 10s 32ms/sample - loss: 2.2319 - accuracy: 0.1710\n",
      "Epoch 2/10\n",
      "310/310 [==============================] - 0s 68us/sample - loss: 1.8200 - accuracy: 0.3871\n",
      "Epoch 3/10\n",
      "310/310 [==============================] - 0s 64us/sample - loss: 1.3787 - accuracy: 0.5806\n",
      "Epoch 4/10\n",
      "310/310 [==============================] - 0s 63us/sample - loss: 1.0152 - accuracy: 0.7129\n",
      "Epoch 5/10\n",
      "310/310 [==============================] - 0s 63us/sample - loss: 0.8083 - accuracy: 0.6968\n",
      "Epoch 6/10\n",
      "310/310 [==============================] - 0s 63us/sample - loss: 0.6425 - accuracy: 0.8032\n",
      "Epoch 7/10\n",
      "310/310 [==============================] - 0s 63us/sample - loss: 0.5417 - accuracy: 0.8129\n",
      "Epoch 8/10\n",
      "310/310 [==============================] - 0s 63us/sample - loss: 0.5402 - accuracy: 0.8387\n",
      "Epoch 9/10\n",
      "310/310 [==============================] - 0s 62us/sample - loss: 0.4741 - accuracy: 0.8387\n",
      "Epoch 10/10\n",
      "310/310 [==============================] - 0s 62us/sample - loss: 0.3941 - accuracy: 0.8613\n",
      "Train on 310 samples\n",
      "Epoch 1/10\n",
      "310/310 [==============================] - 1s 3ms/sample - loss: 2.2118 - accuracy: 0.1903\n",
      "Epoch 2/10\n",
      "310/310 [==============================] - 0s 63us/sample - loss: 1.7644 - accuracy: 0.3742\n",
      "Epoch 3/10\n",
      "310/310 [==============================] - 0s 62us/sample - loss: 1.2145 - accuracy: 0.6516\n",
      "Epoch 4/10\n",
      "310/310 [==============================] - 0s 63us/sample - loss: 0.9045 - accuracy: 0.6968\n",
      "Epoch 5/10\n",
      "310/310 [==============================] - 0s 62us/sample - loss: 0.8407 - accuracy: 0.7387\n",
      "Epoch 6/10\n",
      "310/310 [==============================] - 0s 64us/sample - loss: 0.6949 - accuracy: 0.7645\n",
      "Epoch 7/10\n",
      "310/310 [==============================] - 0s 64us/sample - loss: 0.4948 - accuracy: 0.8419\n",
      "Epoch 8/10\n",
      "310/310 [==============================] - 0s 64us/sample - loss: 0.4788 - accuracy: 0.8742\n",
      "Epoch 9/10\n",
      "310/310 [==============================] - 0s 69us/sample - loss: 0.4090 - accuracy: 0.8806\n",
      "Epoch 10/10\n",
      "310/310 [==============================] - 0s 65us/sample - loss: 0.2974 - accuracy: 0.9194\n",
      "Train on 346 samples\n",
      "Epoch 1/10\n",
      "346/346 [==============================] - 1s 2ms/sample - loss: 2.2137 - accuracy: 0.2168\n",
      "Epoch 2/10\n",
      "346/346 [==============================] - 0s 59us/sample - loss: 1.6982 - accuracy: 0.5260\n",
      "Epoch 3/10\n",
      "346/346 [==============================] - 0s 60us/sample - loss: 1.2028 - accuracy: 0.6214\n",
      "Epoch 4/10\n",
      "346/346 [==============================] - 0s 59us/sample - loss: 0.8614 - accuracy: 0.7197\n",
      "Epoch 5/10\n",
      "346/346 [==============================] - 0s 59us/sample - loss: 0.6285 - accuracy: 0.7832\n",
      "Epoch 6/10\n",
      "346/346 [==============================] - 0s 59us/sample - loss: 0.5118 - accuracy: 0.8237\n",
      "Epoch 7/10\n",
      "346/346 [==============================] - 0s 59us/sample - loss: 0.3758 - accuracy: 0.8613\n",
      "Epoch 8/10\n",
      "346/346 [==============================] - 0s 67us/sample - loss: 0.3442 - accuracy: 0.8873\n",
      "Epoch 9/10\n"
     ]
    },
    {
     "name": "stdout",
     "output_type": "stream",
     "text": [
      "346/346 [==============================] - 0s 60us/sample - loss: 0.3062 - accuracy: 0.8902\n",
      "Epoch 10/10\n",
      "346/346 [==============================] - 0s 60us/sample - loss: 0.2794 - accuracy: 0.9017\n",
      "Train on 371 samples\n",
      "Epoch 1/10\n",
      "371/371 [==============================] - 10s 28ms/sample - loss: 2.2247 - accuracy: 0.2022\n",
      "Epoch 2/10\n",
      "371/371 [==============================] - 0s 63us/sample - loss: 1.7936 - accuracy: 0.4852\n",
      "Epoch 3/10\n",
      "371/371 [==============================] - 0s 56us/sample - loss: 1.3061 - accuracy: 0.5876\n",
      "Epoch 4/10\n",
      "371/371 [==============================] - 0s 58us/sample - loss: 0.9563 - accuracy: 0.6765\n",
      "Epoch 5/10\n",
      "371/371 [==============================] - 0s 57us/sample - loss: 0.7440 - accuracy: 0.7278\n",
      "Epoch 6/10\n",
      "371/371 [==============================] - 0s 58us/sample - loss: 0.6164 - accuracy: 0.8248\n",
      "Epoch 7/10\n",
      "371/371 [==============================] - 0s 59us/sample - loss: 0.5336 - accuracy: 0.8383\n",
      "Epoch 8/10\n",
      "371/371 [==============================] - 0s 57us/sample - loss: 0.4647 - accuracy: 0.8518\n",
      "Epoch 9/10\n",
      "371/371 [==============================] - 0s 58us/sample - loss: 0.3900 - accuracy: 0.8706\n",
      "Epoch 10/10\n",
      "371/371 [==============================] - 0s 58us/sample - loss: 0.3160 - accuracy: 0.9137\n",
      "Train on 345 samples\n",
      "Epoch 1/10\n",
      "345/345 [==============================] - 1s 2ms/sample - loss: 2.2337 - accuracy: 0.1768\n",
      "Epoch 2/10\n",
      "345/345 [==============================] - 0s 59us/sample - loss: 1.7500 - accuracy: 0.5130\n",
      "Epoch 3/10\n",
      "345/345 [==============================] - 0s 60us/sample - loss: 1.3041 - accuracy: 0.5971\n",
      "Epoch 4/10\n",
      "345/345 [==============================] - 0s 59us/sample - loss: 0.9061 - accuracy: 0.6986\n",
      "Epoch 5/10\n",
      "345/345 [==============================] - 0s 108us/sample - loss: 0.6727 - accuracy: 0.7652\n",
      "Epoch 6/10\n",
      "345/345 [==============================] - 0s 72us/sample - loss: 0.6310 - accuracy: 0.7536\n",
      "Epoch 7/10\n",
      "345/345 [==============================] - 0s 60us/sample - loss: 0.4905 - accuracy: 0.8174\n",
      "Epoch 8/10\n",
      "345/345 [==============================] - 0s 61us/sample - loss: 0.3927 - accuracy: 0.8638\n",
      "Epoch 9/10\n",
      "345/345 [==============================] - 0s 60us/sample - loss: 0.4237 - accuracy: 0.8435\n",
      "Epoch 10/10\n",
      "345/345 [==============================] - 0s 61us/sample - loss: 0.2937 - accuracy: 0.8957\n",
      "Train on 301 samples\n",
      "Epoch 1/10\n",
      "301/301 [==============================] - 1s 3ms/sample - loss: 2.2116 - accuracy: 0.1761\n",
      "Epoch 2/10\n",
      "301/301 [==============================] - 0s 63us/sample - loss: 1.7288 - accuracy: 0.4452\n",
      "Epoch 3/10\n",
      "301/301 [==============================] - 0s 62us/sample - loss: 1.2687 - accuracy: 0.5880\n",
      "Epoch 4/10\n",
      "301/301 [==============================] - 0s 63us/sample - loss: 0.9350 - accuracy: 0.7076\n",
      "Epoch 5/10\n",
      "301/301 [==============================] - 0s 65us/sample - loss: 0.7608 - accuracy: 0.7575\n",
      "Epoch 6/10\n",
      "301/301 [==============================] - 0s 61us/sample - loss: 0.5759 - accuracy: 0.8040\n",
      "Epoch 7/10\n",
      "301/301 [==============================] - 0s 64us/sample - loss: 0.5587 - accuracy: 0.8272\n",
      "Epoch 8/10\n",
      "301/301 [==============================] - 0s 76us/sample - loss: 0.4535 - accuracy: 0.8405\n",
      "Epoch 9/10\n",
      "301/301 [==============================] - 0s 62us/sample - loss: 0.3905 - accuracy: 0.8904\n",
      "Epoch 10/10\n",
      "301/301 [==============================] - 0s 62us/sample - loss: 0.4079 - accuracy: 0.8738\n",
      "Train on 312 samples\n",
      "Epoch 1/10\n",
      "312/312 [==============================] - 10s 33ms/sample - loss: 2.2253 - accuracy: 0.2436\n",
      "Epoch 2/10\n",
      "312/312 [==============================] - 0s 71us/sample - loss: 1.7163 - accuracy: 0.4295\n",
      "Epoch 3/10\n",
      "312/312 [==============================] - 0s 63us/sample - loss: 1.1908 - accuracy: 0.6603\n",
      "Epoch 4/10\n",
      "312/312 [==============================] - 0s 67us/sample - loss: 0.8243 - accuracy: 0.7212\n",
      "Epoch 5/10\n",
      "312/312 [==============================] - 0s 61us/sample - loss: 0.6311 - accuracy: 0.7628\n",
      "Epoch 6/10\n",
      "312/312 [==============================] - 0s 62us/sample - loss: 0.4691 - accuracy: 0.8462\n",
      "Epoch 7/10\n",
      "312/312 [==============================] - 0s 68us/sample - loss: 0.4268 - accuracy: 0.8590\n",
      "Epoch 8/10\n",
      "312/312 [==============================] - 0s 66us/sample - loss: 0.3594 - accuracy: 0.8910\n",
      "Epoch 9/10\n",
      "312/312 [==============================] - 0s 63us/sample - loss: 0.3263 - accuracy: 0.8910\n",
      "Epoch 10/10\n",
      "312/312 [==============================] - 0s 64us/sample - loss: 0.2938 - accuracy: 0.9071\n",
      "Train on 373 samples\n",
      "Epoch 1/10\n",
      "373/373 [==============================] - 11s 28ms/sample - loss: 2.2221 - accuracy: 0.1689\n",
      "Epoch 2/10\n",
      "373/373 [==============================] - 0s 61us/sample - loss: 1.7343 - accuracy: 0.5308\n",
      "Epoch 3/10\n",
      "373/373 [==============================] - 0s 58us/sample - loss: 1.2395 - accuracy: 0.6273\n",
      "Epoch 4/10\n",
      "373/373 [==============================] - 0s 57us/sample - loss: 0.9899 - accuracy: 0.6997\n",
      "Epoch 5/10\n",
      "373/373 [==============================] - 0s 57us/sample - loss: 0.7683 - accuracy: 0.7641\n",
      "Epoch 6/10\n",
      "373/373 [==============================] - 0s 57us/sample - loss: 0.6004 - accuracy: 0.8043\n",
      "Epoch 7/10\n",
      "373/373 [==============================] - 0s 56us/sample - loss: 0.4808 - accuracy: 0.8579\n",
      "Epoch 8/10\n",
      "373/373 [==============================] - 0s 57us/sample - loss: 0.4490 - accuracy: 0.8418\n",
      "Epoch 9/10\n",
      "373/373 [==============================] - 0s 57us/sample - loss: 0.3536 - accuracy: 0.8874\n",
      "Epoch 10/10\n",
      "373/373 [==============================] - 0s 65us/sample - loss: 0.2790 - accuracy: 0.9088\n",
      "Train on 329 samples\n",
      "Epoch 1/10\n",
      "329/329 [==============================] - 1s 2ms/sample - loss: 2.2204 - accuracy: 0.1550\n",
      "Epoch 2/10\n",
      "329/329 [==============================] - 0s 62us/sample - loss: 1.7617 - accuracy: 0.4498\n",
      "Epoch 3/10\n",
      "329/329 [==============================] - 0s 61us/sample - loss: 1.3398 - accuracy: 0.5775\n",
      "Epoch 4/10\n",
      "329/329 [==============================] - 0s 64us/sample - loss: 0.9958 - accuracy: 0.6626\n",
      "Epoch 5/10\n",
      "329/329 [==============================] - 0s 64us/sample - loss: 0.7731 - accuracy: 0.7508\n",
      "Epoch 6/10\n",
      "329/329 [==============================] - 0s 63us/sample - loss: 0.6377 - accuracy: 0.7933\n",
      "Epoch 7/10\n",
      "329/329 [==============================] - 0s 62us/sample - loss: 0.5734 - accuracy: 0.8024\n",
      "Epoch 8/10\n",
      "329/329 [==============================] - 0s 61us/sample - loss: 0.4667 - accuracy: 0.8602\n",
      "Epoch 9/10\n",
      "329/329 [==============================] - 0s 72us/sample - loss: 0.3463 - accuracy: 0.8936\n",
      "Epoch 10/10\n",
      "329/329 [==============================] - 0s 61us/sample - loss: 0.4118 - accuracy: 0.8541\n",
      "Train on 326 samples\n",
      "Epoch 1/10\n",
      "326/326 [==============================] - 1s 2ms/sample - loss: 2.2235 - accuracy: 0.2362\n",
      "Epoch 2/10\n",
      "326/326 [==============================] - 0s 63us/sample - loss: 1.7206 - accuracy: 0.5307\n",
      "Epoch 3/10\n",
      "326/326 [==============================] - 0s 60us/sample - loss: 1.1642 - accuracy: 0.6380\n",
      "Epoch 4/10\n",
      "326/326 [==============================] - 0s 63us/sample - loss: 0.8464 - accuracy: 0.6963\n",
      "Epoch 5/10\n",
      "326/326 [==============================] - 0s 64us/sample - loss: 0.7376 - accuracy: 0.7577\n",
      "Epoch 6/10\n",
      "326/326 [==============================] - 0s 62us/sample - loss: 0.6411 - accuracy: 0.7975\n",
      "Epoch 7/10\n",
      "326/326 [==============================] - 0s 62us/sample - loss: 0.5007 - accuracy: 0.8405\n",
      "Epoch 8/10\n",
      "326/326 [==============================] - 0s 62us/sample - loss: 0.4688 - accuracy: 0.8620\n",
      "Epoch 9/10\n",
      "326/326 [==============================] - 0s 70us/sample - loss: 0.4287 - accuracy: 0.8589\n",
      "Epoch 10/10\n",
      "326/326 [==============================] - 0s 61us/sample - loss: 0.3682 - accuracy: 0.8742\n",
      "Train on 337 samples\n",
      "Epoch 1/10\n",
      "337/337 [==============================] - 11s 32ms/sample - loss: 2.2107 - accuracy: 0.2285\n",
      "Epoch 2/10\n",
      "337/337 [==============================] - 0s 65us/sample - loss: 1.7739 - accuracy: 0.4896\n",
      "Epoch 3/10\n",
      "337/337 [==============================] - 0s 60us/sample - loss: 1.3088 - accuracy: 0.5697\n",
      "Epoch 4/10\n",
      "337/337 [==============================] - 0s 67us/sample - loss: 0.9811 - accuracy: 0.6855\n",
      "Epoch 5/10\n",
      "337/337 [==============================] - 0s 62us/sample - loss: 0.8303 - accuracy: 0.7389\n",
      "Epoch 6/10\n",
      "337/337 [==============================] - 0s 62us/sample - loss: 0.6301 - accuracy: 0.7685\n"
     ]
    },
    {
     "name": "stdout",
     "output_type": "stream",
     "text": [
      "Epoch 7/10\n",
      "337/337 [==============================] - 0s 65us/sample - loss: 0.5523 - accuracy: 0.8279\n",
      "Epoch 8/10\n",
      "337/337 [==============================] - 0s 62us/sample - loss: 0.4788 - accuracy: 0.8487\n",
      "Epoch 9/10\n",
      "337/337 [==============================] - 0s 62us/sample - loss: 0.4494 - accuracy: 0.8457\n",
      "Epoch 10/10\n",
      "337/337 [==============================] - 0s 62us/sample - loss: 0.3158 - accuracy: 0.8991\n",
      "Train on 334 samples\n",
      "Epoch 1/10\n",
      "334/334 [==============================] - 11s 32ms/sample - loss: 2.2329 - accuracy: 0.1856\n",
      "Epoch 2/10\n",
      "334/334 [==============================] - 0s 67us/sample - loss: 1.8383 - accuracy: 0.4521\n",
      "Epoch 3/10\n",
      "334/334 [==============================] - 0s 64us/sample - loss: 1.2698 - accuracy: 0.6228\n",
      "Epoch 4/10\n",
      "334/334 [==============================] - 0s 62us/sample - loss: 0.9000 - accuracy: 0.6826\n",
      "Epoch 5/10\n",
      "334/334 [==============================] - 0s 62us/sample - loss: 0.7019 - accuracy: 0.7575\n",
      "Epoch 6/10\n",
      "334/334 [==============================] - 0s 62us/sample - loss: 0.5739 - accuracy: 0.7934\n",
      "Epoch 7/10\n",
      "334/334 [==============================] - 0s 63us/sample - loss: 0.4055 - accuracy: 0.8503\n",
      "Epoch 8/10\n",
      "334/334 [==============================] - 0s 64us/sample - loss: 0.4178 - accuracy: 0.8772\n",
      "Epoch 9/10\n",
      "334/334 [==============================] - 0s 62us/sample - loss: 0.3503 - accuracy: 0.8743\n",
      "Epoch 10/10\n",
      "334/334 [==============================] - 0s 61us/sample - loss: 0.2906 - accuracy: 0.9102\n",
      "Train on 345 samples\n",
      "Epoch 1/10\n",
      "345/345 [==============================] - 1s 2ms/sample - loss: 2.2170 - accuracy: 0.1739\n",
      "Epoch 2/10\n",
      "345/345 [==============================] - 0s 63us/sample - loss: 1.7192 - accuracy: 0.4899\n",
      "Epoch 3/10\n",
      "345/345 [==============================] - 0s 64us/sample - loss: 1.2271 - accuracy: 0.6464\n",
      "Epoch 4/10\n",
      "345/345 [==============================] - 0s 62us/sample - loss: 0.8533 - accuracy: 0.7275\n",
      "Epoch 5/10\n",
      "345/345 [==============================] - 0s 63us/sample - loss: 0.7678 - accuracy: 0.7333\n",
      "Epoch 6/10\n",
      "345/345 [==============================] - 0s 62us/sample - loss: 0.6092 - accuracy: 0.7710\n",
      "Epoch 7/10\n",
      "345/345 [==============================] - 0s 77us/sample - loss: 0.4506 - accuracy: 0.8551\n",
      "Epoch 8/10\n",
      "345/345 [==============================] - 0s 61us/sample - loss: 0.4621 - accuracy: 0.8464\n",
      "Epoch 9/10\n",
      "345/345 [==============================] - 0s 61us/sample - loss: 0.3400 - accuracy: 0.8957\n",
      "Epoch 10/10\n",
      "345/345 [==============================] - 0s 61us/sample - loss: 0.3274 - accuracy: 0.8957\n",
      "Train on 330 samples\n",
      "Epoch 1/10\n",
      "330/330 [==============================] - 1s 2ms/sample - loss: 2.2532 - accuracy: 0.1515\n",
      "Epoch 2/10\n",
      "330/330 [==============================] - 0s 70us/sample - loss: 1.8662 - accuracy: 0.4455\n",
      "Epoch 3/10\n",
      "330/330 [==============================] - 0s 63us/sample - loss: 1.3582 - accuracy: 0.6182\n",
      "Epoch 4/10\n",
      "330/330 [==============================] - 0s 64us/sample - loss: 1.0406 - accuracy: 0.6909\n",
      "Epoch 5/10\n",
      "330/330 [==============================] - 0s 65us/sample - loss: 0.8447 - accuracy: 0.7121\n",
      "Epoch 6/10\n",
      "330/330 [==============================] - 0s 61us/sample - loss: 0.7057 - accuracy: 0.7515\n",
      "Epoch 7/10\n",
      "330/330 [==============================] - 0s 65us/sample - loss: 0.6316 - accuracy: 0.7727\n",
      "Epoch 8/10\n",
      "330/330 [==============================] - 0s 63us/sample - loss: 0.4903 - accuracy: 0.8455\n",
      "Epoch 9/10\n",
      "330/330 [==============================] - 0s 61us/sample - loss: 0.4131 - accuracy: 0.8788\n",
      "Epoch 10/10\n",
      "330/330 [==============================] - 0s 62us/sample - loss: 0.4120 - accuracy: 0.8636\n",
      "Train on 339 samples\n",
      "Epoch 1/10\n",
      "339/339 [==============================] - 11s 32ms/sample - loss: 2.2155 - accuracy: 0.1799\n",
      "Epoch 2/10\n",
      "339/339 [==============================] - 0s 66us/sample - loss: 1.7293 - accuracy: 0.4749\n",
      "Epoch 3/10\n",
      "339/339 [==============================] - 0s 61us/sample - loss: 1.2260 - accuracy: 0.6136\n",
      "Epoch 4/10\n",
      "339/339 [==============================] - 0s 62us/sample - loss: 0.8340 - accuracy: 0.7286\n",
      "Epoch 5/10\n",
      "339/339 [==============================] - 0s 60us/sample - loss: 0.7155 - accuracy: 0.7670\n",
      "Epoch 6/10\n",
      "339/339 [==============================] - 0s 62us/sample - loss: 0.5943 - accuracy: 0.8112\n",
      "Epoch 7/10\n",
      "339/339 [==============================] - 0s 61us/sample - loss: 0.4851 - accuracy: 0.8466\n",
      "Epoch 8/10\n",
      "339/339 [==============================] - 0s 61us/sample - loss: 0.4099 - accuracy: 0.8643\n",
      "Epoch 9/10\n",
      "339/339 [==============================] - 0s 62us/sample - loss: 0.3686 - accuracy: 0.8761\n",
      "Epoch 10/10\n",
      "339/339 [==============================] - 0s 63us/sample - loss: 0.3287 - accuracy: 0.8968\n",
      "Train on 334 samples\n",
      "Epoch 1/10\n",
      "334/334 [==============================] - 1s 2ms/sample - loss: 2.2189 - accuracy: 0.2096\n",
      "Epoch 2/10\n",
      "334/334 [==============================] - 0s 64us/sample - loss: 1.7551 - accuracy: 0.5359\n",
      "Epoch 3/10\n",
      "334/334 [==============================] - 0s 63us/sample - loss: 1.2428 - accuracy: 0.6317\n",
      "Epoch 4/10\n",
      "334/334 [==============================] - 0s 62us/sample - loss: 0.8461 - accuracy: 0.7395\n",
      "Epoch 5/10\n",
      "334/334 [==============================] - 0s 63us/sample - loss: 0.7440 - accuracy: 0.7545\n",
      "Epoch 6/10\n",
      "334/334 [==============================] - 0s 64us/sample - loss: 0.6413 - accuracy: 0.7545\n",
      "Epoch 7/10\n",
      "334/334 [==============================] - 0s 63us/sample - loss: 0.5747 - accuracy: 0.8144\n",
      "Epoch 8/10\n",
      "334/334 [==============================] - 0s 62us/sample - loss: 0.4246 - accuracy: 0.8713\n",
      "Epoch 9/10\n",
      "334/334 [==============================] - 0s 63us/sample - loss: 0.3529 - accuracy: 0.9042\n",
      "Epoch 10/10\n",
      "334/334 [==============================] - 0s 65us/sample - loss: 0.2937 - accuracy: 0.9162\n",
      "Train on 325 samples\n",
      "Epoch 1/10\n",
      "325/325 [==============================] - 11s 34ms/sample - loss: 2.2395 - accuracy: 0.1692\n",
      "Epoch 2/10\n",
      "325/325 [==============================] - 0s 70us/sample - loss: 1.7473 - accuracy: 0.5169\n",
      "Epoch 3/10\n",
      "325/325 [==============================] - 0s 62us/sample - loss: 1.2524 - accuracy: 0.6246\n",
      "Epoch 4/10\n",
      "325/325 [==============================] - 0s 62us/sample - loss: 0.9087 - accuracy: 0.7108\n",
      "Epoch 5/10\n",
      "325/325 [==============================] - 0s 63us/sample - loss: 0.7199 - accuracy: 0.7446\n",
      "Epoch 6/10\n",
      "325/325 [==============================] - 0s 64us/sample - loss: 0.5585 - accuracy: 0.8215\n",
      "Epoch 7/10\n",
      "325/325 [==============================] - 0s 64us/sample - loss: 0.4674 - accuracy: 0.8554\n",
      "Epoch 8/10\n",
      "325/325 [==============================] - 0s 69us/sample - loss: 0.4446 - accuracy: 0.8400\n",
      "Epoch 9/10\n",
      "325/325 [==============================] - 0s 64us/sample - loss: 0.3552 - accuracy: 0.8954\n",
      "Epoch 10/10\n",
      "325/325 [==============================] - 0s 65us/sample - loss: 0.3573 - accuracy: 0.8769\n",
      "Train on 325 samples\n",
      "Epoch 1/10\n",
      "325/325 [==============================] - 1s 3ms/sample - loss: 2.2432 - accuracy: 0.1692\n",
      "Epoch 2/10\n",
      "325/325 [==============================] - 0s 63us/sample - loss: 1.8184 - accuracy: 0.4369\n",
      "Epoch 3/10\n",
      "325/325 [==============================] - 0s 63us/sample - loss: 1.3054 - accuracy: 0.6215\n",
      "Epoch 4/10\n",
      "325/325 [==============================] - 0s 64us/sample - loss: 0.9758 - accuracy: 0.6800\n",
      "Epoch 5/10\n",
      "325/325 [==============================] - 0s 62us/sample - loss: 0.8149 - accuracy: 0.7262\n",
      "Epoch 6/10\n",
      "325/325 [==============================] - 0s 64us/sample - loss: 0.6785 - accuracy: 0.7600\n",
      "Epoch 7/10\n",
      "325/325 [==============================] - 0s 63us/sample - loss: 0.6150 - accuracy: 0.7938\n",
      "Epoch 8/10\n",
      "325/325 [==============================] - 0s 63us/sample - loss: 0.4710 - accuracy: 0.8369\n",
      "Epoch 9/10\n",
      "325/325 [==============================] - 0s 63us/sample - loss: 0.4246 - accuracy: 0.8738\n",
      "Epoch 10/10\n",
      "325/325 [==============================] - 0s 62us/sample - loss: 0.3169 - accuracy: 0.9015\n",
      "Train on 329 samples\n",
      "Epoch 1/10\n",
      "329/329 [==============================] - 1s 3ms/sample - loss: 2.2347 - accuracy: 0.1489\n",
      "Epoch 2/10\n",
      "329/329 [==============================] - 0s 63us/sample - loss: 1.8349 - accuracy: 0.3982\n",
      "Epoch 3/10\n",
      "329/329 [==============================] - 0s 66us/sample - loss: 1.3060 - accuracy: 0.6109\n",
      "Epoch 4/10\n"
     ]
    },
    {
     "name": "stdout",
     "output_type": "stream",
     "text": [
      "329/329 [==============================] - 0s 64us/sample - loss: 0.9124 - accuracy: 0.6960\n",
      "Epoch 5/10\n",
      "329/329 [==============================] - 0s 63us/sample - loss: 0.7579 - accuracy: 0.7568\n",
      "Epoch 6/10\n",
      "329/329 [==============================] - 0s 64us/sample - loss: 0.5968 - accuracy: 0.7781\n",
      "Epoch 7/10\n",
      "329/329 [==============================] - 0s 64us/sample - loss: 0.5013 - accuracy: 0.8541\n",
      "Epoch 8/10\n",
      "329/329 [==============================] - 0s 63us/sample - loss: 0.4492 - accuracy: 0.8541\n",
      "Epoch 9/10\n",
      "329/329 [==============================] - 0s 65us/sample - loss: 0.4126 - accuracy: 0.8815\n",
      "Epoch 10/10\n",
      "329/329 [==============================] - 0s 63us/sample - loss: 0.2777 - accuracy: 0.9210\n",
      "Train on 339 samples\n",
      "Epoch 1/10\n",
      "339/339 [==============================] - 1s 3ms/sample - loss: 2.2136 - accuracy: 0.2153\n",
      "Epoch 2/10\n",
      "339/339 [==============================] - 0s 62us/sample - loss: 1.7585 - accuracy: 0.4779\n",
      "Epoch 3/10\n",
      "339/339 [==============================] - 0s 63us/sample - loss: 1.2602 - accuracy: 0.6224\n",
      "Epoch 4/10\n",
      "339/339 [==============================] - 0s 100us/sample - loss: 0.9076 - accuracy: 0.7227\n",
      "Epoch 5/10\n",
      "339/339 [==============================] - 0s 61us/sample - loss: 0.7726 - accuracy: 0.7581\n",
      "Epoch 6/10\n",
      "339/339 [==============================] - 0s 60us/sample - loss: 0.6500 - accuracy: 0.7935\n",
      "Epoch 7/10\n",
      "339/339 [==============================] - 0s 61us/sample - loss: 0.4863 - accuracy: 0.8378\n",
      "Epoch 8/10\n",
      "339/339 [==============================] - 0s 61us/sample - loss: 0.4402 - accuracy: 0.8525\n",
      "Epoch 9/10\n",
      "339/339 [==============================] - 0s 62us/sample - loss: 0.3814 - accuracy: 0.8850\n",
      "Epoch 10/10\n",
      "339/339 [==============================] - 0s 60us/sample - loss: 0.2916 - accuracy: 0.9056\n",
      "Train on 372 samples\n",
      "Epoch 1/10\n",
      "372/372 [==============================] - 1s 2ms/sample - loss: 2.2006 - accuracy: 0.2070\n",
      "Epoch 2/10\n",
      "372/372 [==============================] - 0s 63us/sample - loss: 1.7298 - accuracy: 0.5242\n",
      "Epoch 3/10\n",
      "372/372 [==============================] - 0s 61us/sample - loss: 1.2061 - accuracy: 0.6237\n",
      "Epoch 4/10\n",
      "372/372 [==============================] - 0s 63us/sample - loss: 0.8882 - accuracy: 0.7043\n",
      "Epoch 5/10\n",
      "372/372 [==============================] - 0s 64us/sample - loss: 0.7627 - accuracy: 0.7473\n",
      "Epoch 6/10\n",
      "372/372 [==============================] - 0s 60us/sample - loss: 0.5827 - accuracy: 0.8199\n",
      "Epoch 7/10\n",
      "372/372 [==============================] - 0s 61us/sample - loss: 0.4926 - accuracy: 0.8441\n",
      "Epoch 8/10\n",
      "372/372 [==============================] - 0s 58us/sample - loss: 0.4720 - accuracy: 0.8306\n",
      "Epoch 9/10\n",
      "372/372 [==============================] - 0s 62us/sample - loss: 0.3827 - accuracy: 0.8763\n",
      "Epoch 10/10\n",
      "372/372 [==============================] - 0s 58us/sample - loss: 0.3241 - accuracy: 0.8952\n",
      "Train on 340 samples\n",
      "Epoch 1/10\n",
      "340/340 [==============================] - 11s 34ms/sample - loss: 2.2350 - accuracy: 0.1912\n",
      "Epoch 2/10\n",
      "340/340 [==============================] - 0s 70us/sample - loss: 1.7921 - accuracy: 0.4853\n",
      "Epoch 3/10\n",
      "340/340 [==============================] - 0s 66us/sample - loss: 1.2457 - accuracy: 0.6588\n",
      "Epoch 4/10\n",
      "340/340 [==============================] - 0s 64us/sample - loss: 0.9554 - accuracy: 0.6794\n",
      "Epoch 5/10\n",
      "340/340 [==============================] - 0s 62us/sample - loss: 0.6742 - accuracy: 0.7618\n",
      "Epoch 6/10\n",
      "340/340 [==============================] - 0s 61us/sample - loss: 0.6658 - accuracy: 0.7794\n",
      "Epoch 7/10\n",
      "340/340 [==============================] - 0s 62us/sample - loss: 0.5684 - accuracy: 0.8088\n",
      "Epoch 8/10\n",
      "340/340 [==============================] - 0s 62us/sample - loss: 0.4887 - accuracy: 0.8382\n",
      "Epoch 9/10\n",
      "340/340 [==============================] - 0s 63us/sample - loss: 0.3871 - accuracy: 0.8706\n",
      "Epoch 10/10\n",
      "340/340 [==============================] - 0s 68us/sample - loss: 0.3212 - accuracy: 0.8824\n",
      "Train on 351 samples\n",
      "Epoch 1/10\n",
      "351/351 [==============================] - 1s 3ms/sample - loss: 2.2285 - accuracy: 0.2051\n",
      "Epoch 2/10\n",
      "351/351 [==============================] - 0s 63us/sample - loss: 1.7748 - accuracy: 0.4929\n",
      "Epoch 3/10\n",
      "351/351 [==============================] - 0s 61us/sample - loss: 1.3533 - accuracy: 0.5869\n",
      "Epoch 4/10\n",
      "351/351 [==============================] - 0s 60us/sample - loss: 0.9715 - accuracy: 0.6809\n",
      "Epoch 5/10\n",
      "351/351 [==============================] - 0s 62us/sample - loss: 0.7525 - accuracy: 0.7635\n",
      "Epoch 6/10\n",
      "351/351 [==============================] - 0s 60us/sample - loss: 0.6396 - accuracy: 0.8006\n",
      "Epoch 7/10\n",
      "351/351 [==============================] - 0s 62us/sample - loss: 0.5195 - accuracy: 0.8519\n",
      "Epoch 8/10\n",
      "351/351 [==============================] - 0s 59us/sample - loss: 0.4333 - accuracy: 0.8746\n",
      "Epoch 9/10\n",
      "351/351 [==============================] - 0s 62us/sample - loss: 0.4717 - accuracy: 0.8405\n",
      "Epoch 10/10\n",
      "351/351 [==============================] - 0s 60us/sample - loss: 0.3719 - accuracy: 0.8632\n",
      "Train on 331 samples\n",
      "Epoch 1/10\n",
      "331/331 [==============================] - 12s 36ms/sample - loss: 2.2212 - accuracy: 0.1601\n",
      "Epoch 2/10\n",
      "331/331 [==============================] - 0s 69us/sample - loss: 1.7075 - accuracy: 0.4290\n",
      "Epoch 3/10\n",
      "331/331 [==============================] - 0s 63us/sample - loss: 1.2024 - accuracy: 0.6647\n",
      "Epoch 4/10\n",
      "331/331 [==============================] - 0s 62us/sample - loss: 0.9324 - accuracy: 0.7009\n",
      "Epoch 5/10\n",
      "331/331 [==============================] - 0s 62us/sample - loss: 0.7412 - accuracy: 0.7583\n",
      "Epoch 6/10\n",
      "331/331 [==============================] - 0s 63us/sample - loss: 0.6352 - accuracy: 0.7915\n",
      "Epoch 7/10\n",
      "331/331 [==============================] - 0s 64us/sample - loss: 0.6459 - accuracy: 0.7825\n",
      "Epoch 8/10\n",
      "331/331 [==============================] - 0s 64us/sample - loss: 0.4678 - accuracy: 0.8640\n",
      "Epoch 9/10\n",
      "331/331 [==============================] - 0s 62us/sample - loss: 0.3483 - accuracy: 0.8912\n",
      "Epoch 10/10\n",
      "331/331 [==============================] - 0s 63us/sample - loss: 0.3913 - accuracy: 0.8761\n",
      "Train on 328 samples\n",
      "Epoch 1/10\n",
      "328/328 [==============================] - 12s 36ms/sample - loss: 2.2328 - accuracy: 0.1860\n",
      "Epoch 2/10\n",
      "328/328 [==============================] - 0s 70us/sample - loss: 1.7515 - accuracy: 0.5152\n",
      "Epoch 3/10\n",
      "328/328 [==============================] - 0s 68us/sample - loss: 1.2524 - accuracy: 0.6372\n",
      "Epoch 4/10\n",
      "328/328 [==============================] - 0s 65us/sample - loss: 1.0054 - accuracy: 0.6707\n",
      "Epoch 5/10\n",
      "328/328 [==============================] - 0s 65us/sample - loss: 0.7368 - accuracy: 0.7561\n",
      "Epoch 6/10\n",
      "328/328 [==============================] - 0s 65us/sample - loss: 0.6648 - accuracy: 0.7866\n",
      "Epoch 7/10\n",
      "328/328 [==============================] - 0s 63us/sample - loss: 0.5499 - accuracy: 0.7988\n",
      "Epoch 8/10\n",
      "328/328 [==============================] - 0s 66us/sample - loss: 0.4253 - accuracy: 0.8902\n",
      "Epoch 9/10\n",
      "328/328 [==============================] - 0s 64us/sample - loss: 0.4213 - accuracy: 0.8567\n",
      "Epoch 10/10\n",
      "328/328 [==============================] - 0s 64us/sample - loss: 0.3456 - accuracy: 0.8811\n"
     ]
    }
   ],
   "source": [
    "model.fit(pdata, plabels, nb_epochs=10)\n",
    "dpa_model_10.fit(pdata, plabels, nb_epochs=10)\n",
    "dpa_model_20.fit(pdata, plabels, nb_epochs=10)\n",
    "dpa_model_30.fit(pdata, plabels, nb_epochs=10)"
   ]
  },
  {
   "cell_type": "markdown",
   "id": "d7389971",
   "metadata": {},
   "source": [
    "# Evaluate the performance of the trained models on unpoisoned data\n",
    "The performance of the models appears normal. We see that for the DPA models, the performance drops slightly as the ensemble size increases"
   ]
  },
  {
   "cell_type": "code",
   "execution_count": 10,
   "id": "2f63b588",
   "metadata": {},
   "outputs": [
    {
     "name": "stdout",
     "output_type": "stream",
     "text": [
      "\n",
      "Clean test set accuracy (model): 97.75%\n"
     ]
    },
    {
     "data": {
      "image/png": "[encoded data removed]",
      "text/plain": [
       "<Figure size 432x288 with 1 Axes>"
      ]
     },
     "metadata": {
      "needs_background": "light"
     },
     "output_type": "display_data"
    },
    {
     "name": "stdout",
     "output_type": "stream",
     "text": [
      "Prediction: 0\n"
     ]
    }
   ],
   "source": [
    "clean_preds = np.argmax(model.predict(x_test), axis=1)\n",
    "clean_correct = np.sum(clean_preds == np.argmax(y_test, axis=1))\n",
    "clean_total = y_test.shape[0]\n",
    "\n",
    "clean_acc = clean_correct / clean_total\n",
    "print(\"\\nClean test set accuracy (model): %.2f%%\" % (clean_acc * 100))\n",
    "\n",
    "# Display image, label, and prediction for a clean sample to show how the poisoned model classifies a clean sample\n",
    "\n",
    "c = 0 # class to display\n",
    "i = 0 # image of the class to display\n",
    "\n",
    "c_idx = np.where(np.argmax(y_test, 1) == c)[0][i] # index of the image in clean arrays\n",
    "\n",
    "plt.imshow(x_test[c_idx].squeeze())\n",
    "plt.show()\n",
    "clean_label = c\n",
    "print(\"Prediction: \" + str(clean_preds[c_idx]))"
   ]
  },
  {
   "cell_type": "code",
   "execution_count": 11,
   "id": "2f29f09a",
   "metadata": {},
   "outputs": [
    {
     "name": "stdout",
     "output_type": "stream",
     "text": [
      "\n",
      "Clean test set accuracy (DPA model_10): 94.14%\n"
     ]
    },
    {
     "data": {
      "image/png": "[encoded data removed]",
      "text/plain": [
       "<Figure size 432x288 with 1 Axes>"
      ]
     },
     "metadata": {
      "needs_background": "light"
     },
     "output_type": "display_data"
    },
    {
     "name": "stdout",
     "output_type": "stream",
     "text": [
      "Prediction: 0\n"
     ]
    }
   ],
   "source": [
    "clean_preds = np.argmax(dpa_model_10.predict(x_test), axis=1)\n",
    "clean_correct = np.sum(clean_preds == np.argmax(y_test, axis=1))\n",
    "clean_total = y_test.shape[0]\n",
    "\n",
    "clean_acc = clean_correct / clean_total\n",
    "print(\"\\nClean test set accuracy (DPA model_10): %.2f%%\" % (clean_acc * 100))\n",
    "\n",
    "# Display image, label, and prediction for a clean sample to show how the poisoned model classifies a clean sample\n",
    "\n",
    "c = 0 # class to display\n",
    "i = 0 # image of the class to display\n",
    "\n",
    "c_idx = np.where(np.argmax(y_test, 1) == c)[0][i] # index of the image in clean arrays\n",
    "\n",
    "plt.imshow(x_test[c_idx].squeeze())\n",
    "plt.show()\n",
    "clean_label = c\n",
    "print(\"Prediction: \" + str(clean_preds[c_idx]))"
   ]
  },
  {
   "cell_type": "code",
   "execution_count": 12,
   "id": "af7b0bdd",
   "metadata": {},
   "outputs": [
    {
     "name": "stdout",
     "output_type": "stream",
     "text": [
      "\n",
      "Clean test set accuracy (DPA model_20): 91.32%\n"
     ]
    },
    {
     "data": {
      "image/png": "[encoded data removed]",
      "text/plain": [
       "<Figure size 432x288 with 1 Axes>"
      ]
     },
     "metadata": {
      "needs_background": "light"
     },
     "output_type": "display_data"
    },
    {
     "name": "stdout",
     "output_type": "stream",
     "text": [
      "Prediction: 0\n"
     ]
    }
   ],
   "source": [
    "clean_preds = np.argmax(dpa_model_20.predict(x_test), axis=1)\n",
    "clean_correct = np.sum(clean_preds == np.argmax(y_test, axis=1))\n",
    "clean_total = y_test.shape[0]\n",
    "\n",
    "clean_acc = clean_correct / clean_total\n",
    "print(\"\\nClean test set accuracy (DPA model_20): %.2f%%\" % (clean_acc * 100))\n",
    "\n",
    "# Display image, label, and prediction for a clean sample to show how the poisoned model classifies a clean sample\n",
    "\n",
    "c = 0 # class to display\n",
    "i = 0 # image of the class to display\n",
    "\n",
    "c_idx = np.where(np.argmax(y_test, 1) == c)[0][i] # index of the image in clean arrays\n",
    "\n",
    "plt.imshow(x_test[c_idx].squeeze())\n",
    "plt.show()\n",
    "clean_label = c\n",
    "print(\"Prediction: \" + str(clean_preds[c_idx]))"
   ]
  },
  {
   "cell_type": "code",
   "execution_count": 13,
   "id": "74d91009",
   "metadata": {},
   "outputs": [
    {
     "name": "stdout",
     "output_type": "stream",
     "text": [
      "\n",
      "Clean test set accuracy (DPA model_30): 89.99%\n"
     ]
    },
    {
     "data": {
      "image/png": "[encoded data removed]",
      "text/plain": [
       "<Figure size 432x288 with 1 Axes>"
      ]
     },
     "metadata": {
      "needs_background": "light"
     },
     "output_type": "display_data"
    },
    {
     "name": "stdout",
     "output_type": "stream",
     "text": [
      "Prediction: 0\n"
     ]
    }
   ],
   "source": [
    "clean_preds = np.argmax(dpa_model_30.predict(x_test), axis=1)\n",
    "clean_correct = np.sum(clean_preds == np.argmax(y_test, axis=1))\n",
    "clean_total = y_test.shape[0]\n",
    "\n",
    "clean_acc = clean_correct / clean_total\n",
    "print(\"\\nClean test set accuracy (DPA model_30): %.2f%%\" % (clean_acc * 100))\n",
    "\n",
    "# Display image, label, and prediction for a clean sample to show how the poisoned model classifies a clean sample\n",
    "\n",
    "c = 0 # class to display\n",
    "i = 0 # image of the class to display\n",
    "\n",
    "c_idx = np.where(np.argmax(y_test, 1) == c)[0][i] # index of the image in clean arrays\n",
    "\n",
    "plt.imshow(x_test[c_idx].squeeze())\n",
    "plt.show()\n",
    "clean_label = c\n",
    "print(\"Prediction: \" + str(clean_preds[c_idx]))"
   ]
  },
  {
   "cell_type": "markdown",
   "id": "d44d4bf3",
   "metadata": {},
   "source": [
    "# Evaluate the performance of the trained models on poisoned data\n",
    "When the trigger is added, we see a shift in performance. The single model performs the worst as no defense is in place to mitigate the effect of the poisoned. The DPA models show some robustnesss to the poison as they partition the training data, which spreads the effect of the poison between models in the ensemble."
   ]
  },
  {
   "cell_type": "code",
   "execution_count": 14,
   "id": "1cd59ae2",
   "metadata": {},
   "outputs": [
    {
     "name": "stdout",
     "output_type": "stream",
     "text": [
      "\n",
      "Poison test set accuracy (model): 0.19%\n"
     ]
    },
    {
     "data": {
      "image/png": "[encoded data removed]",
      "text/plain": [
       "<Figure size 432x288 with 1 Axes>"
      ]
     },
     "metadata": {
      "needs_background": "light"
     },
     "output_type": "display_data"
    },
    {
     "name": "stdout",
     "output_type": "stream",
     "text": [
      "Prediction: 9\n"
     ]
    }
   ],
   "source": [
    "not_target = np.logical_not(np.all(y_test == targets, axis=1))\n",
    "px_test, py_test = backdoor.poison(x_test[not_target], y_test[not_target])\n",
    "\n",
    "poison_preds = np.argmax(model.predict(px_test), axis=1)\n",
    "clean_correct = np.sum(poison_preds == np.argmax(y_test[not_target], axis=1))\n",
    "clean_total = y_test.shape[0]\n",
    "\n",
    "clean_acc = clean_correct / clean_total\n",
    "print(\"\\nPoison test set accuracy (model): %.2f%%\" % (clean_acc * 100))\n",
    "\n",
    "c = 0 # index to display\n",
    "plt.imshow(px_test[c].squeeze())\n",
    "plt.show()\n",
    "clean_label = c\n",
    "print(\"Prediction: \" + str(poison_preds[c]))"
   ]
  },
  {
   "cell_type": "code",
   "execution_count": 15,
   "id": "500e4154",
   "metadata": {},
   "outputs": [
    {
     "name": "stdout",
     "output_type": "stream",
     "text": [
      "\n",
      "Poison test set accuracy (DPA model_10): 62.08%\n"
     ]
    },
    {
     "data": {
      "image/png": "[encoded data removed]",
      "text/plain": [
       "<Figure size 432x288 with 1 Axes>"
      ]
     },
     "metadata": {
      "needs_background": "light"
     },
     "output_type": "display_data"
    },
    {
     "name": "stdout",
     "output_type": "stream",
     "text": [
      "Prediction: 7\n"
     ]
    }
   ],
   "source": [
    "poison_preds = np.argmax(dpa_model_10.predict(px_test), axis=1)\n",
    "clean_correct = np.sum(poison_preds == np.argmax(y_test[not_target], axis=1))\n",
    "clean_total = y_test.shape[0]\n",
    "\n",
    "clean_acc = clean_correct / clean_total\n",
    "print(\"\\nPoison test set accuracy (DPA model_10): %.2f%%\" % (clean_acc * 100))\n",
    "\n",
    "c = 0 # index to display\n",
    "plt.imshow(px_test[c].squeeze())\n",
    "plt.show()\n",
    "clean_label = c\n",
    "print(\"Prediction: \" + str(poison_preds[c]))"
   ]
  },
  {
   "cell_type": "code",
   "execution_count": 16,
   "id": "54e42d16",
   "metadata": {},
   "outputs": [
    {
     "name": "stdout",
     "output_type": "stream",
     "text": [
      "\n",
      "Poison test set accuracy (DPA model_20): 71.60%\n"
     ]
    },
    {
     "data": {
      "image/png": "[encoded data removed]",
      "text/plain": [
       "<Figure size 432x288 with 1 Axes>"
      ]
     },
     "metadata": {
      "needs_background": "light"
     },
     "output_type": "display_data"
    },
    {
     "name": "stdout",
     "output_type": "stream",
     "text": [
      "Prediction: 7\n"
     ]
    }
   ],
   "source": [
    "poison_preds = np.argmax(dpa_model_20.predict(px_test), axis=1)\n",
    "clean_correct = np.sum(poison_preds == np.argmax(y_test[not_target], axis=1))\n",
    "clean_total = y_test.shape[0]\n",
    "\n",
    "clean_acc = clean_correct / clean_total\n",
    "print(\"\\nPoison test set accuracy (DPA model_20): %.2f%%\" % (clean_acc * 100))\n",
    "\n",
    "c = 0 # index to display\n",
    "plt.imshow(px_test[c].squeeze())\n",
    "plt.show()\n",
    "clean_label = c\n",
    "print(\"Prediction: \" + str(poison_preds[c]))"
   ]
  },
  {
   "cell_type": "code",
   "execution_count": 17,
   "id": "89dc71c1",
   "metadata": {},
   "outputs": [
    {
     "name": "stdout",
     "output_type": "stream",
     "text": [
      "\n",
      "Poison test set accuracy (DPA model_30): 72.76%\n"
     ]
    },
    {
     "data": {
      "image/png": "[encoded data removed]",
      "text/plain": [
       "<Figure size 432x288 with 1 Axes>"
      ]
     },
     "metadata": {
      "needs_background": "light"
     },
     "output_type": "display_data"
    },
    {
     "name": "stdout",
     "output_type": "stream",
     "text": [
      "Prediction: 7\n"
     ]
    }
   ],
   "source": [
    "poison_preds = np.argmax(dpa_model_30.predict(px_test), axis=1)\n",
    "clean_correct = np.sum(poison_preds == np.argmax(y_test[not_target], axis=1))\n",
    "clean_total = y_test.shape[0]\n",
    "\n",
    "clean_acc = clean_correct / clean_total\n",
    "print(\"\\nPoison test set accuracy (DPA model_30): %.2f%%\" % (clean_acc * 100))\n",
    "\n",
    "c = 0 # index to display\n",
    "plt.imshow(px_test[c].squeeze())\n",
    "plt.show()\n",
    "clean_label = c\n",
    "print(\"Prediction: \" + str(poison_preds[c]))"
   ]
  },
  {
   "cell_type": "code",
   "execution_count": null,
   "id": "3963c866",
   "metadata": {},
   "outputs": [],
   "source": []
  }
 ],
 "metadata": {
  "kernelspec": {
   "display_name": "Python 3",
   "language": "python",
   "name": "python3"
  },
  "language_info": {
   "codemirror_mode": {
    "name": "ipython",
    "version": 3
   },
   "file_extension": ".py",
   "mimetype": "text/x-python",
   "name": "python",
   "nbconvert_exporter": "python",
   "pygments_lexer": "ipython3",
   "version": "3.8.8"
  }
 },
 "nbformat": 4,
 "nbformat_minor": 5
}
