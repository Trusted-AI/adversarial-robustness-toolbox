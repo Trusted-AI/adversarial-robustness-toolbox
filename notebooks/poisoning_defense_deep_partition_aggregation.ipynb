{
 "cells": [
  {
   "cell_type": "code",
   "execution_count": 1,
   "id": "fc895cf7",
   "metadata": {},
   "outputs": [],
   "source": [
    "from __future__ import absolute_import, division, print_function, unicode_literals\n",
    "\n",
    "import os, sys\n",
    "from os.path import abspath\n",
    "\n",
    "module_path = os.path.abspath(os.path.join('..'))\n",
    "if module_path not in sys.path:\n",
    "    sys.path.append(module_path)\n",
    "\n",
    "import warnings\n",
    "warnings.filterwarnings('ignore')\n",
    "import keras.backend as k\n",
    "from keras.models import Sequential\n",
    "from keras.layers import Dense, Flatten, Conv2D, MaxPooling2D, Activation, Dropout\n",
    "import numpy as np\n",
    "import matplotlib.pyplot as plt\n",
    "%matplotlib inline\n",
    "\n",
    "import tensorflow as tf\n",
    "tf.compat.v1.disable_eager_execution()\n",
    "tf.get_logger().setLevel('ERROR')\n",
    "\n",
    "from art.estimators.classification import KerasClassifier\n",
    "from art.attacks.poisoning import PoisoningAttackBackdoor, PoisoningAttackCleanLabelBackdoor\n",
    "from art.attacks.poisoning.perturbations import add_pattern_bd\n",
    "from art.utils import load_mnist, preprocess, to_categorical\n",
    "from art.defences.trainer import AdversarialTrainerMadryPGD\n",
    "\n",
    "\n",
    "from art.estimators.classification.deep_partition_ensemble import DeepPartitionEnsemble"
   ]
  },
  {
   "cell_type": "markdown",
   "id": "1816da6f",
   "metadata": {},
   "source": [
    "# Load the Data"
   ]
  },
  {
   "cell_type": "code",
   "execution_count": 2,
   "id": "fdd77e03",
   "metadata": {},
   "outputs": [],
   "source": [
    "(x_raw, y_raw), (x_raw_test, y_raw_test), min_, max_ = load_mnist(raw=True)\n",
    "\n",
    "# Random Selection:\n",
    "n_train = np.shape(x_raw)[0]\n",
    "num_selection = 10000\n",
    "random_selection_indices = np.random.choice(n_train, num_selection)\n",
    "x_raw = x_raw[random_selection_indices]\n",
    "y_raw = y_raw[random_selection_indices]\n",
    "\n",
    "# Poison training data\n",
    "percent_poison = .33\n",
    "x_train, y_train = preprocess(x_raw, y_raw)\n",
    "x_train = np.expand_dims(x_train, axis=3)\n",
    "\n",
    "x_test, y_test = preprocess(x_raw_test, y_raw_test)\n",
    "x_test = np.expand_dims(x_test, axis=3)\n",
    "\n",
    "# Shuffle training data\n",
    "n_train = np.shape(y_train)[0]\n",
    "shuffled_indices = np.arange(n_train)\n",
    "np.random.shuffle(shuffled_indices)\n",
    "x_train = x_train[shuffled_indices]\n",
    "y_train = y_train[shuffled_indices]"
   ]
  },
  {
   "cell_type": "markdown",
   "id": "9b1eb1c0",
   "metadata": {},
   "source": [
    "# Initialize the Model Architecture"
   ]
  },
  {
   "cell_type": "code",
   "execution_count": 3,
   "id": "7c0c7c1a",
   "metadata": {},
   "outputs": [],
   "source": [
    "# Create Keras convolutional neural network - basic architecture from Keras examples\n",
    "# Source here: https://github.com/keras-team/keras/blob/master/examples/mnist_cnn.py\n",
    "def create_model():    \n",
    "    model = Sequential()\n",
    "    model.add(Conv2D(32, kernel_size=(3, 3), activation='relu', input_shape=x_train.shape[1:]))\n",
    "    model.add(Conv2D(64, (3, 3), activation='relu'))\n",
    "    model.add(MaxPooling2D(pool_size=(2, 2)))\n",
    "    model.add(Dropout(0.25))\n",
    "    model.add(Flatten())\n",
    "    model.add(Dense(128, activation='relu'))\n",
    "    model.add(Dropout(0.5))\n",
    "    model.add(Dense(10, activation='softmax'))\n",
    "\n",
    "    model.compile(loss='categorical_crossentropy', optimizer='adam', metrics=['accuracy'])\n",
    "    return model"
   ]
  },
  {
   "cell_type": "markdown",
   "id": "1b6b105a",
   "metadata": {},
   "source": [
    "# Set up the Model Backdoor"
   ]
  },
  {
   "cell_type": "code",
   "execution_count": 4,
   "id": "43b4b127",
   "metadata": {},
   "outputs": [
    {
     "data": {
      "text/plain": [
       "<matplotlib.image.AxesImage at 0x7f703dbbbaf0>"
      ]
     },
     "execution_count": 4,
     "metadata": {},
     "output_type": "execute_result"
    },
    {
     "data": {
      "image/png": "[encoded data removed]",
      "text/plain": [
       "<Figure size 432x288 with 1 Axes>"
      ]
     },
     "metadata": {
      "needs_background": "light"
     },
     "output_type": "display_data"
    }
   ],
   "source": [
    "backdoor = PoisoningAttackBackdoor(add_pattern_bd)\n",
    "example_target = np.array([0, 0, 0, 0, 0, 0, 0, 0, 0, 1])\n",
    "pdata, plabels = backdoor.poison(x_test, y=example_target)\n",
    "\n",
    "plt.imshow(pdata[0].squeeze())"
   ]
  },
  {
   "cell_type": "markdown",
   "id": "6ffec3ec",
   "metadata": {},
   "source": [
    "# Create the poison data\n",
    "For this example, we will select 9 as the target class. Thus, the adversary's goal is to poison the model so adding a trigger will result in the trained model misclassifying the triggered input as a 9.\n",
    "\n",
    "First, the adversary will create a proxy classifier (i.e., a classifier that is similar to the target classifier). As the clean label attack generates noise using PGD in order to encourage the trained classifier to rely on the trigger, it is important that the generated noise be transferable. Thus, adversarial training is used."
   ]
  },
  {
   "cell_type": "code",
   "execution_count": 5,
   "id": "7aac5f5c",
   "metadata": {},
   "outputs": [
    {
     "data": {
      "application/vnd.jupyter.widget-view+json": {
       "model_id": "f1f45103e8534a85a6e3cb08e07e16a7",
       "version_major": 2,
       "version_minor": 0
      },
      "text/plain": [
       "Precompute adv samples:   0%|          | 0/1 [00:00<?, ?it/s]"
      ]
     },
     "metadata": {},
     "output_type": "display_data"
    },
    {
     "data": {
      "application/vnd.jupyter.widget-view+json": {
       "model_id": "b1f3f0f8c66f48c2b5e0cf41a8968687",
       "version_major": 2,
       "version_minor": 0
      },
      "text/plain": [
       "Adversarial training epochs:   0%|          | 0/10 [00:00<?, ?it/s]"
      ]
     },
     "metadata": {},
     "output_type": "display_data"
    }
   ],
   "source": [
    "# Poison some percentage of all non-nines to nines\n",
    "targets = to_categorical([9], 10)[0] \n",
    "\n",
    "proxy = AdversarialTrainerMadryPGD(KerasClassifier(create_model()), nb_epochs=10, eps=0.15, eps_step=0.001)\n",
    "proxy.fit(x_train, y_train)"
   ]
  },
  {
   "cell_type": "code",
   "execution_count": 6,
   "id": "46364ff1",
   "metadata": {},
   "outputs": [
    {
     "data": {
      "application/vnd.jupyter.widget-view+json": {
       "model_id": "6f3bdf09dfd04b72ac98be6070a99542",
       "version_major": 2,
       "version_minor": 0
      },
      "text/plain": [
       "PGD - Random Initializations:   0%|          | 0/1 [00:00<?, ?it/s]"
      ]
     },
     "metadata": {},
     "output_type": "display_data"
    },
    {
     "data": {
      "application/vnd.jupyter.widget-view+json": {
       "model_id": "",
       "version_major": 2,
       "version_minor": 0
      },
      "text/plain": [
       "PGD - Iterations:   0%|          | 0/200 [00:00<?, ?it/s]"
      ]
     },
     "metadata": {},
     "output_type": "display_data"
    },
    {
     "data": {
      "application/vnd.jupyter.widget-view+json": {
       "model_id": "fdc3c857c9ca442993de0040e3d73a84",
       "version_major": 2,
       "version_minor": 0
      },
      "text/plain": [
       "PGD - Random Initializations:   0%|          | 0/1 [00:00<?, ?it/s]"
      ]
     },
     "metadata": {},
     "output_type": "display_data"
    },
    {
     "data": {
      "application/vnd.jupyter.widget-view+json": {
       "model_id": "",
       "version_major": 2,
       "version_minor": 0
      },
      "text/plain": [
       "PGD - Iterations:   0%|          | 0/200 [00:00<?, ?it/s]"
      ]
     },
     "metadata": {},
     "output_type": "display_data"
    },
    {
     "data": {
      "application/vnd.jupyter.widget-view+json": {
       "model_id": "28ed222b183040699781d556456e8158",
       "version_major": 2,
       "version_minor": 0
      },
      "text/plain": [
       "PGD - Random Initializations:   0%|          | 0/1 [00:00<?, ?it/s]"
      ]
     },
     "metadata": {},
     "output_type": "display_data"
    },
    {
     "data": {
      "application/vnd.jupyter.widget-view+json": {
       "model_id": "",
       "version_major": 2,
       "version_minor": 0
      },
      "text/plain": [
       "PGD - Iterations:   0%|          | 0/200 [00:00<?, ?it/s]"
      ]
     },
     "metadata": {},
     "output_type": "display_data"
    },
    {
     "data": {
      "application/vnd.jupyter.widget-view+json": {
       "model_id": "5bbbf1fccbf84d118e31a09d3f298cba",
       "version_major": 2,
       "version_minor": 0
      },
      "text/plain": [
       "PGD - Random Initializations:   0%|          | 0/1 [00:00<?, ?it/s]"
      ]
     },
     "metadata": {},
     "output_type": "display_data"
    },
    {
     "data": {
      "application/vnd.jupyter.widget-view+json": {
       "model_id": "",
       "version_major": 2,
       "version_minor": 0
      },
      "text/plain": [
       "PGD - Iterations:   0%|          | 0/200 [00:00<?, ?it/s]"
      ]
     },
     "metadata": {},
     "output_type": "display_data"
    },
    {
     "data": {
      "application/vnd.jupyter.widget-view+json": {
       "model_id": "09b9b6fc7be4407fb795b3d08611fc47",
       "version_major": 2,
       "version_minor": 0
      },
      "text/plain": [
       "PGD - Random Initializations:   0%|          | 0/1 [00:00<?, ?it/s]"
      ]
     },
     "metadata": {},
     "output_type": "display_data"
    },
    {
     "data": {
      "application/vnd.jupyter.widget-view+json": {
       "model_id": "",
       "version_major": 2,
       "version_minor": 0
      },
      "text/plain": [
       "PGD - Iterations:   0%|          | 0/200 [00:00<?, ?it/s]"
      ]
     },
     "metadata": {},
     "output_type": "display_data"
    },
    {
     "data": {
      "application/vnd.jupyter.widget-view+json": {
       "model_id": "425802dc3796453998edb867cc3fc458",
       "version_major": 2,
       "version_minor": 0
      },
      "text/plain": [
       "PGD - Random Initializations:   0%|          | 0/1 [00:00<?, ?it/s]"
      ]
     },
     "metadata": {},
     "output_type": "display_data"
    },
    {
     "data": {
      "application/vnd.jupyter.widget-view+json": {
       "model_id": "",
       "version_major": 2,
       "version_minor": 0
      },
      "text/plain": [
       "PGD - Iterations:   0%|          | 0/200 [00:00<?, ?it/s]"
      ]
     },
     "metadata": {},
     "output_type": "display_data"
    },
    {
     "data": {
      "application/vnd.jupyter.widget-view+json": {
       "model_id": "9162d83f271d486fa966e070f3a8be5c",
       "version_major": 2,
       "version_minor": 0
      },
      "text/plain": [
       "PGD - Random Initializations:   0%|          | 0/1 [00:00<?, ?it/s]"
      ]
     },
     "metadata": {},
     "output_type": "display_data"
    },
    {
     "data": {
      "application/vnd.jupyter.widget-view+json": {
       "model_id": "",
       "version_major": 2,
       "version_minor": 0
      },
      "text/plain": [
       "PGD - Iterations:   0%|          | 0/200 [00:00<?, ?it/s]"
      ]
     },
     "metadata": {},
     "output_type": "display_data"
    },
    {
     "data": {
      "application/vnd.jupyter.widget-view+json": {
       "model_id": "028e3bc6f5c045aba30310bbcbce2636",
       "version_major": 2,
       "version_minor": 0
      },
      "text/plain": [
       "PGD - Random Initializations:   0%|          | 0/1 [00:00<?, ?it/s]"
      ]
     },
     "metadata": {},
     "output_type": "display_data"
    },
    {
     "data": {
      "application/vnd.jupyter.widget-view+json": {
       "model_id": "",
       "version_major": 2,
       "version_minor": 0
      },
      "text/plain": [
       "PGD - Iterations:   0%|          | 0/200 [00:00<?, ?it/s]"
      ]
     },
     "metadata": {},
     "output_type": "display_data"
    },
    {
     "data": {
      "application/vnd.jupyter.widget-view+json": {
       "model_id": "8133350da41349a19738730b06de1c0b",
       "version_major": 2,
       "version_minor": 0
      },
      "text/plain": [
       "PGD - Random Initializations:   0%|          | 0/1 [00:00<?, ?it/s]"
      ]
     },
     "metadata": {},
     "output_type": "display_data"
    },
    {
     "data": {
      "application/vnd.jupyter.widget-view+json": {
       "model_id": "",
       "version_major": 2,
       "version_minor": 0
      },
      "text/plain": [
       "PGD - Iterations:   0%|          | 0/200 [00:00<?, ?it/s]"
      ]
     },
     "metadata": {},
     "output_type": "display_data"
    },
    {
     "data": {
      "application/vnd.jupyter.widget-view+json": {
       "model_id": "8a5554ba6e73472ebbfe148eea8c13c7",
       "version_major": 2,
       "version_minor": 0
      },
      "text/plain": [
       "PGD - Random Initializations:   0%|          | 0/1 [00:00<?, ?it/s]"
      ]
     },
     "metadata": {},
     "output_type": "display_data"
    },
    {
     "data": {
      "application/vnd.jupyter.widget-view+json": {
       "model_id": "",
       "version_major": 2,
       "version_minor": 0
      },
      "text/plain": [
       "PGD - Iterations:   0%|          | 0/200 [00:00<?, ?it/s]"
      ]
     },
     "metadata": {},
     "output_type": "display_data"
    },
    {
     "data": {
      "application/vnd.jupyter.widget-view+json": {
       "model_id": "b310d6bbf334417088b08463fb05b596",
       "version_major": 2,
       "version_minor": 0
      },
      "text/plain": [
       "PGD - Random Initializations:   0%|          | 0/1 [00:00<?, ?it/s]"
      ]
     },
     "metadata": {},
     "output_type": "display_data"
    },
    {
     "data": {
      "application/vnd.jupyter.widget-view+json": {
       "model_id": "",
       "version_major": 2,
       "version_minor": 0
      },
      "text/plain": [
       "PGD - Iterations:   0%|          | 0/200 [00:00<?, ?it/s]"
      ]
     },
     "metadata": {},
     "output_type": "display_data"
    }
   ],
   "source": [
    "attack = PoisoningAttackCleanLabelBackdoor(backdoor=backdoor, proxy_classifier=proxy.get_classifier(),\n",
    "                                           target=targets, pp_poison=percent_poison, norm=2, eps=5,\n",
    "                                           eps_step=0.1, max_iter=200)\n",
    "pdata, plabels = attack.poison(x_train, y_train)"
   ]
  },
  {
   "cell_type": "code",
   "execution_count": 7,
   "id": "a61a524c",
   "metadata": {},
   "outputs": [
    {
     "name": "stdout",
     "output_type": "stream",
     "text": [
      "1031\n"
     ]
    },
    {
     "data": {
      "image/png": "[encoded data removed]",
      "text/plain": [
       "<Figure size 432x288 with 1 Axes>"
      ]
     },
     "metadata": {
      "needs_background": "light"
     },
     "output_type": "display_data"
    },
    {
     "name": "stdout",
     "output_type": "stream",
     "text": [
      "Index: 121 Label: 9\n"
     ]
    }
   ],
   "source": [
    "poisoned = pdata[np.all(plabels == targets, axis=1)]\n",
    "poisoned_labels = plabels[np.all(plabels == targets, axis=1)]\n",
    "print(len(poisoned))\n",
    "for i in range(len(poisoned)):\n",
    "    if poisoned[i][0][0] != 0:\n",
    "        plt.imshow(poisoned[i].squeeze())\n",
    "        plt.show()\n",
    "        print(f\"Index: {i} Label: {np.argmax(poisoned_labels[i])}\")\n",
    "        break"
   ]
  },
  {
   "cell_type": "markdown",
   "id": "8e8bbe9c",
   "metadata": {},
   "source": [
    "# Initialize the classification models\n",
    "We will initialize four models. The first is a single model architecture. The other three are DPA models with varying ensemble sizes to demonstrate the tradeoff between clean accuracy and poison accuracy. This make take some time because of the model copying."
   ]
  },
  {
   "cell_type": "code",
   "execution_count": 8,
   "id": "005f0374",
   "metadata": {},
   "outputs": [],
   "source": [
    "model = KerasClassifier(create_model())\n",
    "dpa_model_10 = DeepPartitionEnsemble(model, ensemble_size=10)\n",
    "dpa_model_20 = DeepPartitionEnsemble(model, ensemble_size=20)\n",
    "dpa_model_30 = DeepPartitionEnsemble(model, ensemble_size=30)\n"
   ]
  },
  {
   "cell_type": "markdown",
   "id": "0668c63f",
   "metadata": {},
   "source": [
    "Train the models on the poisoned data"
   ]
  },
  {
   "cell_type": "code",
   "execution_count": 9,
   "id": "80f2917b",
   "metadata": {},
   "outputs": [
    {
     "name": "stdout",
     "output_type": "stream",
     "text": [
      "Train on 10000 samples\n",
      "Epoch 1/10\n",
      "10000/10000 [==============================] - 1s 108us/sample - loss: 0.7052 - accuracy: 0.7729\n",
      "Epoch 2/10\n",
      "10000/10000 [==============================] - 1s 54us/sample - loss: 0.2429 - accuracy: 0.9269\n",
      "Epoch 3/10\n",
      "10000/10000 [==============================] - 1s 54us/sample - loss: 0.1475 - accuracy: 0.9547\n",
      "Epoch 4/10\n",
      "10000/10000 [==============================] - 1s 55us/sample - loss: 0.1066 - accuracy: 0.9669\n",
      "Epoch 5/10\n",
      "10000/10000 [==============================] - 1s 54us/sample - loss: 0.0929 - accuracy: 0.9709\n",
      "Epoch 6/10\n",
      "10000/10000 [==============================] - 1s 57us/sample - loss: 0.0735 - accuracy: 0.9770\n",
      "Epoch 7/10\n",
      "10000/10000 [==============================] - 1s 56us/sample - loss: 0.0649 - accuracy: 0.9794\n",
      "Epoch 8/10\n",
      "10000/10000 [==============================] - 1s 53us/sample - loss: 0.0532 - accuracy: 0.9829\n",
      "Epoch 9/10\n",
      "10000/10000 [==============================] - 1s 54us/sample - loss: 0.0519 - accuracy: 0.9819\n",
      "Epoch 10/10\n",
      "10000/10000 [==============================] - 1s 54us/sample - loss: 0.0384 - accuracy: 0.9875\n",
      "Train on 979 samples\n",
      "Epoch 1/10\n",
      "979/979 [==============================] - 10s 10ms/sample - loss: 1.9134 - accuracy: 0.3616\n",
      "Epoch 2/10\n",
      "979/979 [==============================] - 0s 57us/sample - loss: 1.0193 - accuracy: 0.6752\n",
      "Epoch 3/10\n",
      "979/979 [==============================] - 0s 55us/sample - loss: 0.6996 - accuracy: 0.7692\n",
      "Epoch 4/10\n",
      "979/979 [==============================] - 0s 55us/sample - loss: 0.5400 - accuracy: 0.8253\n",
      "Epoch 5/10\n",
      "979/979 [==============================] - 0s 54us/sample - loss: 0.4385 - accuracy: 0.8478\n",
      "Epoch 6/10\n",
      "979/979 [==============================] - 0s 57us/sample - loss: 0.3224 - accuracy: 0.8927\n",
      "Epoch 7/10\n",
      "979/979 [==============================] - 0s 55us/sample - loss: 0.3273 - accuracy: 0.8866\n",
      "Epoch 8/10\n",
      "979/979 [==============================] - 0s 55us/sample - loss: 0.2756 - accuracy: 0.9081\n",
      "Epoch 9/10\n",
      "979/979 [==============================] - 0s 54us/sample - loss: 0.2112 - accuracy: 0.9356\n",
      "Epoch 10/10\n",
      "979/979 [==============================] - 0s 55us/sample - loss: 0.1890 - accuracy: 0.9316\n",
      "Train on 1000 samples\n",
      "Epoch 1/10\n",
      "1000/1000 [==============================] - 10s 10ms/sample - loss: 1.9175 - accuracy: 0.3860\n",
      "Epoch 2/10\n",
      "1000/1000 [==============================] - 0s 58us/sample - loss: 1.0299 - accuracy: 0.6790\n",
      "Epoch 3/10\n",
      "1000/1000 [==============================] - 0s 55us/sample - loss: 0.7185 - accuracy: 0.7680\n",
      "Epoch 4/10\n",
      "1000/1000 [==============================] - 0s 54us/sample - loss: 0.5406 - accuracy: 0.8430\n",
      "Epoch 5/10\n",
      "1000/1000 [==============================] - 0s 54us/sample - loss: 0.4332 - accuracy: 0.8600\n",
      "Epoch 6/10\n",
      "1000/1000 [==============================] - 0s 54us/sample - loss: 0.3615 - accuracy: 0.8850\n",
      "Epoch 7/10\n",
      "1000/1000 [==============================] - 0s 54us/sample - loss: 0.3178 - accuracy: 0.9000\n",
      "Epoch 8/10\n",
      "1000/1000 [==============================] - 0s 55us/sample - loss: 0.2529 - accuracy: 0.9170\n",
      "Epoch 9/10\n",
      "1000/1000 [==============================] - 0s 54us/sample - loss: 0.1942 - accuracy: 0.9360\n",
      "Epoch 10/10\n",
      "1000/1000 [==============================] - 0s 55us/sample - loss: 0.1919 - accuracy: 0.9430\n",
      "Train on 980 samples\n",
      "Epoch 1/10\n",
      "980/980 [==============================] - 10s 10ms/sample - loss: 1.9083 - accuracy: 0.3827\n",
      "Epoch 2/10\n",
      "980/980 [==============================] - 0s 57us/sample - loss: 1.0162 - accuracy: 0.6765\n",
      "Epoch 3/10\n",
      "980/980 [==============================] - 0s 57us/sample - loss: 0.7134 - accuracy: 0.7776\n",
      "Epoch 4/10\n",
      "980/980 [==============================] - 0s 54us/sample - loss: 0.5579 - accuracy: 0.8224\n",
      "Epoch 5/10\n",
      "980/980 [==============================] - 0s 54us/sample - loss: 0.4422 - accuracy: 0.8592\n",
      "Epoch 6/10\n",
      "980/980 [==============================] - 0s 56us/sample - loss: 0.3930 - accuracy: 0.8673\n",
      "Epoch 7/10\n",
      "980/980 [==============================] - 0s 55us/sample - loss: 0.3172 - accuracy: 0.9112\n",
      "Epoch 8/10\n",
      "980/980 [==============================] - 0s 55us/sample - loss: 0.2568 - accuracy: 0.9143\n",
      "Epoch 9/10\n",
      "980/980 [==============================] - 0s 55us/sample - loss: 0.2208 - accuracy: 0.9398\n",
      "Epoch 10/10\n",
      "980/980 [==============================] - 0s 55us/sample - loss: 0.1843 - accuracy: 0.9429\n",
      "Train on 1024 samples\n",
      "Epoch 1/10\n",
      "1024/1024 [==============================] - 1s 593us/sample - loss: 1.8506 - accuracy: 0.4102\n",
      "Epoch 2/10\n",
      "1024/1024 [==============================] - 0s 54us/sample - loss: 0.9509 - accuracy: 0.7100\n",
      "Epoch 3/10\n",
      "1024/1024 [==============================] - 0s 54us/sample - loss: 0.6310 - accuracy: 0.7871\n",
      "Epoch 4/10\n",
      "1024/1024 [==============================] - 0s 54us/sample - loss: 0.5217 - accuracy: 0.8408\n",
      "Epoch 5/10\n",
      "1024/1024 [==============================] - 0s 54us/sample - loss: 0.3608 - accuracy: 0.8887\n",
      "Epoch 6/10\n",
      "1024/1024 [==============================] - 0s 55us/sample - loss: 0.3099 - accuracy: 0.8994\n",
      "Epoch 7/10\n",
      "1024/1024 [==============================] - 0s 54us/sample - loss: 0.2875 - accuracy: 0.9092\n",
      "Epoch 8/10\n",
      "1024/1024 [==============================] - 0s 55us/sample - loss: 0.2309 - accuracy: 0.9248\n",
      "Epoch 9/10\n",
      "1024/1024 [==============================] - 0s 54us/sample - loss: 0.1948 - accuracy: 0.9463\n",
      "Epoch 10/10\n",
      "1024/1024 [==============================] - 0s 55us/sample - loss: 0.1754 - accuracy: 0.9414\n",
      "Train on 1010 samples\n",
      "Epoch 1/10\n",
      "1010/1010 [==============================] - 10s 10ms/sample - loss: 1.8612 - accuracy: 0.4099\n",
      "Epoch 2/10\n",
      "1010/1010 [==============================] - 0s 57us/sample - loss: 0.9524 - accuracy: 0.6980\n",
      "Epoch 3/10\n",
      "1010/1010 [==============================] - 0s 56us/sample - loss: 0.6769 - accuracy: 0.7871\n",
      "Epoch 4/10\n",
      "1010/1010 [==============================] - 0s 55us/sample - loss: 0.4954 - accuracy: 0.8366\n",
      "Epoch 5/10\n",
      "1010/1010 [==============================] - 0s 55us/sample - loss: 0.4460 - accuracy: 0.8554\n",
      "Epoch 6/10\n",
      "1010/1010 [==============================] - 0s 54us/sample - loss: 0.3785 - accuracy: 0.8693\n",
      "Epoch 7/10\n",
      "1010/1010 [==============================] - 0s 55us/sample - loss: 0.2975 - accuracy: 0.9099\n",
      "Epoch 8/10\n",
      "1010/1010 [==============================] - 0s 56us/sample - loss: 0.2656 - accuracy: 0.9050\n",
      "Epoch 9/10\n",
      "1010/1010 [==============================] - 0s 55us/sample - loss: 0.1890 - accuracy: 0.9396\n",
      "Epoch 10/10\n",
      "1010/1010 [==============================] - 0s 55us/sample - loss: 0.1715 - accuracy: 0.9485\n",
      "Train on 1038 samples\n",
      "Epoch 1/10\n",
      "1038/1038 [==============================] - 10s 10ms/sample - loss: 1.8862 - accuracy: 0.3757\n",
      "Epoch 2/10\n",
      "1038/1038 [==============================] - 0s 61us/sample - loss: 1.0744 - accuracy: 0.6493\n",
      "Epoch 3/10\n",
      "1038/1038 [==============================] - 0s 59us/sample - loss: 0.7373 - accuracy: 0.7543\n",
      "Epoch 4/10\n",
      "1038/1038 [==============================] - 0s 58us/sample - loss: 0.5662 - accuracy: 0.8141\n",
      "Epoch 5/10\n",
      "1038/1038 [==============================] - 0s 59us/sample - loss: 0.4956 - accuracy: 0.8314\n",
      "Epoch 6/10\n",
      "1038/1038 [==============================] - 0s 59us/sample - loss: 0.4357 - accuracy: 0.8622\n",
      "Epoch 7/10\n",
      "1038/1038 [==============================] - 0s 59us/sample - loss: 0.3558 - accuracy: 0.8834\n",
      "Epoch 8/10\n",
      "1038/1038 [==============================] - 0s 58us/sample - loss: 0.3046 - accuracy: 0.8969\n",
      "Epoch 9/10\n",
      "1038/1038 [==============================] - 0s 58us/sample - loss: 0.2640 - accuracy: 0.9171\n",
      "Epoch 10/10\n",
      "1038/1038 [==============================] - 0s 59us/sample - loss: 0.2190 - accuracy: 0.9345\n",
      "Train on 965 samples\n",
      "Epoch 1/10\n",
      "965/965 [==============================] - 10s 10ms/sample - loss: 1.9769 - accuracy: 0.3223\n",
      "Epoch 2/10\n",
      "965/965 [==============================] - 0s 57us/sample - loss: 1.0279 - accuracy: 0.6819\n",
      "Epoch 3/10\n",
      "965/965 [==============================] - 0s 56us/sample - loss: 0.7531 - accuracy: 0.7596\n",
      "Epoch 4/10\n",
      "965/965 [==============================] - 0s 56us/sample - loss: 0.5629 - accuracy: 0.8187\n",
      "Epoch 5/10\n",
      "965/965 [==============================] - 0s 73us/sample - loss: 0.4536 - accuracy: 0.8601\n",
      "Epoch 6/10\n",
      "965/965 [==============================] - 0s 56us/sample - loss: 0.3660 - accuracy: 0.8725\n",
      "Epoch 7/10\n"
     ]
    },
    {
     "name": "stdout",
     "output_type": "stream",
     "text": [
      "965/965 [==============================] - 0s 55us/sample - loss: 0.3130 - accuracy: 0.9047\n",
      "Epoch 8/10\n",
      "965/965 [==============================] - 0s 56us/sample - loss: 0.2506 - accuracy: 0.9140\n",
      "Epoch 9/10\n",
      "965/965 [==============================] - 0s 56us/sample - loss: 0.2010 - accuracy: 0.9337\n",
      "Epoch 10/10\n",
      "965/965 [==============================] - 0s 56us/sample - loss: 0.1788 - accuracy: 0.9430\n",
      "Train on 960 samples\n",
      "Epoch 1/10\n",
      "960/960 [==============================] - 10s 10ms/sample - loss: 1.9319 - accuracy: 0.3490\n",
      "Epoch 2/10\n",
      "960/960 [==============================] - 0s 58us/sample - loss: 1.0600 - accuracy: 0.6562\n",
      "Epoch 3/10\n",
      "960/960 [==============================] - 0s 70us/sample - loss: 0.7355 - accuracy: 0.7615\n",
      "Epoch 4/10\n",
      "960/960 [==============================] - 0s 56us/sample - loss: 0.6186 - accuracy: 0.7958\n",
      "Epoch 5/10\n",
      "960/960 [==============================] - 0s 56us/sample - loss: 0.4318 - accuracy: 0.8667\n",
      "Epoch 6/10\n",
      "960/960 [==============================] - 0s 57us/sample - loss: 0.3920 - accuracy: 0.8667\n",
      "Epoch 7/10\n",
      "960/960 [==============================] - 0s 57us/sample - loss: 0.3044 - accuracy: 0.9052\n",
      "Epoch 8/10\n",
      "960/960 [==============================] - 0s 56us/sample - loss: 0.2685 - accuracy: 0.9187\n",
      "Epoch 9/10\n",
      "960/960 [==============================] - 0s 59us/sample - loss: 0.2494 - accuracy: 0.9135\n",
      "Epoch 10/10\n",
      "960/960 [==============================] - 0s 56us/sample - loss: 0.2006 - accuracy: 0.9375\n",
      "Train on 1006 samples\n",
      "Epoch 1/10\n",
      "1006/1006 [==============================] - 10s 10ms/sample - loss: 1.9693 - accuracy: 0.3668\n",
      "Epoch 2/10\n",
      "1006/1006 [==============================] - 0s 56us/sample - loss: 1.0867 - accuracy: 0.6491\n",
      "Epoch 3/10\n",
      "1006/1006 [==============================] - 0s 56us/sample - loss: 0.6880 - accuracy: 0.7773\n",
      "Epoch 4/10\n",
      "1006/1006 [==============================] - 0s 55us/sample - loss: 0.5368 - accuracy: 0.8320\n",
      "Epoch 5/10\n",
      "1006/1006 [==============================] - 0s 56us/sample - loss: 0.4631 - accuracy: 0.8579\n",
      "Epoch 6/10\n",
      "1006/1006 [==============================] - 0s 56us/sample - loss: 0.3550 - accuracy: 0.8847\n",
      "Epoch 7/10\n",
      "1006/1006 [==============================] - 0s 56us/sample - loss: 0.3225 - accuracy: 0.8936\n",
      "Epoch 8/10\n",
      "1006/1006 [==============================] - 0s 54us/sample - loss: 0.2653 - accuracy: 0.9125\n",
      "Epoch 9/10\n",
      "1006/1006 [==============================] - 0s 55us/sample - loss: 0.2367 - accuracy: 0.9185\n",
      "Epoch 10/10\n",
      "1006/1006 [==============================] - 0s 54us/sample - loss: 0.1795 - accuracy: 0.9404\n",
      "Train on 1038 samples\n",
      "Epoch 1/10\n",
      "1038/1038 [==============================] - 1s 624us/sample - loss: 1.8442 - accuracy: 0.4220\n",
      "Epoch 2/10\n",
      "1038/1038 [==============================] - 0s 57us/sample - loss: 1.0109 - accuracy: 0.6753\n",
      "Epoch 3/10\n",
      "1038/1038 [==============================] - 0s 57us/sample - loss: 0.6808 - accuracy: 0.7755\n",
      "Epoch 4/10\n",
      "1038/1038 [==============================] - 0s 57us/sample - loss: 0.5908 - accuracy: 0.8198\n",
      "Epoch 5/10\n",
      "1038/1038 [==============================] - 0s 58us/sample - loss: 0.4621 - accuracy: 0.8478\n",
      "Epoch 6/10\n",
      "1038/1038 [==============================] - 0s 59us/sample - loss: 0.4093 - accuracy: 0.8719\n",
      "Epoch 7/10\n",
      "1038/1038 [==============================] - 0s 59us/sample - loss: 0.3544 - accuracy: 0.8854\n",
      "Epoch 8/10\n",
      "1038/1038 [==============================] - 0s 58us/sample - loss: 0.2843 - accuracy: 0.9162\n",
      "Epoch 9/10\n",
      "1038/1038 [==============================] - 0s 57us/sample - loss: 0.2378 - accuracy: 0.9316\n",
      "Epoch 10/10\n",
      "1038/1038 [==============================] - 0s 60us/sample - loss: 0.1956 - accuracy: 0.9287\n",
      "Train on 469 samples\n",
      "Epoch 1/10\n",
      "469/469 [==============================] - 10s 22ms/sample - loss: 2.2058 - accuracy: 0.1898\n",
      "Epoch 2/10\n",
      "469/469 [==============================] - 0s 63us/sample - loss: 1.6707 - accuracy: 0.5330\n",
      "Epoch 3/10\n",
      "469/469 [==============================] - 0s 58us/sample - loss: 1.2416 - accuracy: 0.6077\n",
      "Epoch 4/10\n",
      "469/469 [==============================] - 0s 63us/sample - loss: 0.8933 - accuracy: 0.7122\n",
      "Epoch 5/10\n",
      "469/469 [==============================] - 0s 58us/sample - loss: 0.7303 - accuracy: 0.7676\n",
      "Epoch 6/10\n",
      "469/469 [==============================] - 0s 58us/sample - loss: 0.6056 - accuracy: 0.7953\n",
      "Epoch 7/10\n",
      "469/469 [==============================] - 0s 57us/sample - loss: 0.4459 - accuracy: 0.8657\n",
      "Epoch 8/10\n",
      "469/469 [==============================] - 0s 57us/sample - loss: 0.4426 - accuracy: 0.8614\n",
      "Epoch 9/10\n",
      "469/469 [==============================] - 0s 58us/sample - loss: 0.3232 - accuracy: 0.8955\n",
      "Epoch 10/10\n",
      "469/469 [==============================] - 0s 58us/sample - loss: 0.2955 - accuracy: 0.9019\n",
      "Train on 541 samples\n",
      "Epoch 1/10\n",
      "541/541 [==============================] - 10s 19ms/sample - loss: 2.1263 - accuracy: 0.2495\n",
      "Epoch 2/10\n",
      "541/541 [==============================] - 0s 62us/sample - loss: 1.4483 - accuracy: 0.5970\n",
      "Epoch 3/10\n",
      "541/541 [==============================] - 0s 67us/sample - loss: 0.9822 - accuracy: 0.6913\n",
      "Epoch 4/10\n",
      "541/541 [==============================] - 0s 58us/sample - loss: 0.8028 - accuracy: 0.7523\n",
      "Epoch 5/10\n",
      "541/541 [==============================] - 0s 59us/sample - loss: 0.6309 - accuracy: 0.7911\n",
      "Epoch 6/10\n",
      "541/541 [==============================] - 0s 86us/sample - loss: 0.5170 - accuracy: 0.8392\n",
      "Epoch 7/10\n",
      "541/541 [==============================] - 0s 59us/sample - loss: 0.4605 - accuracy: 0.8577\n",
      "Epoch 8/10\n",
      "541/541 [==============================] - 0s 60us/sample - loss: 0.3758 - accuracy: 0.8854\n",
      "Epoch 9/10\n",
      "541/541 [==============================] - 0s 61us/sample - loss: 0.3787 - accuracy: 0.8817\n",
      "Epoch 10/10\n",
      "541/541 [==============================] - 0s 58us/sample - loss: 0.3480 - accuracy: 0.8762\n",
      "Train on 466 samples\n",
      "Epoch 1/10\n",
      "466/466 [==============================] - 10s 22ms/sample - loss: 2.1952 - accuracy: 0.1803\n",
      "Epoch 2/10\n",
      "466/466 [==============================] - 0s 63us/sample - loss: 1.6124 - accuracy: 0.5708\n",
      "Epoch 3/10\n",
      "466/466 [==============================] - 0s 57us/sample - loss: 1.1636 - accuracy: 0.6416\n",
      "Epoch 4/10\n",
      "466/466 [==============================] - 0s 57us/sample - loss: 0.9307 - accuracy: 0.6931\n",
      "Epoch 5/10\n",
      "466/466 [==============================] - 0s 59us/sample - loss: 0.7320 - accuracy: 0.7661\n",
      "Epoch 6/10\n",
      "466/466 [==============================] - 0s 58us/sample - loss: 0.6107 - accuracy: 0.8026\n",
      "Epoch 7/10\n",
      "466/466 [==============================] - 0s 59us/sample - loss: 0.5395 - accuracy: 0.8326\n",
      "Epoch 8/10\n",
      "466/466 [==============================] - 0s 58us/sample - loss: 0.4375 - accuracy: 0.8734\n",
      "Epoch 9/10\n",
      "466/466 [==============================] - 0s 59us/sample - loss: 0.3907 - accuracy: 0.8670\n",
      "Epoch 10/10\n",
      "466/466 [==============================] - 0s 59us/sample - loss: 0.3941 - accuracy: 0.8627\n",
      "Train on 485 samples\n",
      "Epoch 1/10\n",
      "485/485 [==============================] - 11s 22ms/sample - loss: 2.1677 - accuracy: 0.1856\n",
      "Epoch 2/10\n",
      "485/485 [==============================] - 0s 62us/sample - loss: 1.6031 - accuracy: 0.5134\n",
      "Epoch 3/10\n",
      "485/485 [==============================] - 0s 59us/sample - loss: 1.0906 - accuracy: 0.6742\n",
      "Epoch 4/10\n",
      "485/485 [==============================] - 0s 59us/sample - loss: 0.7449 - accuracy: 0.7505\n",
      "Epoch 5/10\n",
      "485/485 [==============================] - 0s 56us/sample - loss: 0.6273 - accuracy: 0.7856\n",
      "Epoch 6/10\n",
      "485/485 [==============================] - 0s 58us/sample - loss: 0.5049 - accuracy: 0.8206\n",
      "Epoch 7/10\n",
      "485/485 [==============================] - 0s 57us/sample - loss: 0.4181 - accuracy: 0.8536\n",
      "Epoch 8/10\n",
      "485/485 [==============================] - 0s 58us/sample - loss: 0.3383 - accuracy: 0.8825\n",
      "Epoch 9/10\n",
      "485/485 [==============================] - 0s 61us/sample - loss: 0.3353 - accuracy: 0.8907\n",
      "Epoch 10/10\n",
      "485/485 [==============================] - 0s 95us/sample - loss: 0.2673 - accuracy: 0.9155\n",
      "Train on 504 samples\n",
      "Epoch 1/10\n",
      "504/504 [==============================] - 10s 21ms/sample - loss: 2.1553 - accuracy: 0.2619\n",
      "Epoch 2/10\n",
      "504/504 [==============================] - 0s 57us/sample - loss: 1.4952 - accuracy: 0.5833\n",
      "Epoch 3/10\n",
      "504/504 [==============================] - 0s 55us/sample - loss: 1.0160 - accuracy: 0.6746\n",
      "Epoch 4/10\n"
     ]
    },
    {
     "name": "stdout",
     "output_type": "stream",
     "text": [
      "504/504 [==============================] - 0s 57us/sample - loss: 0.7496 - accuracy: 0.7480\n",
      "Epoch 5/10\n",
      "504/504 [==============================] - 0s 58us/sample - loss: 0.5711 - accuracy: 0.8155\n",
      "Epoch 6/10\n",
      "504/504 [==============================] - 0s 64us/sample - loss: 0.5004 - accuracy: 0.8274\n",
      "Epoch 7/10\n",
      "504/504 [==============================] - 0s 63us/sample - loss: 0.3938 - accuracy: 0.8730\n",
      "Epoch 8/10\n",
      "504/504 [==============================] - 0s 57us/sample - loss: 0.3602 - accuracy: 0.8929\n",
      "Epoch 9/10\n",
      "504/504 [==============================] - 0s 55us/sample - loss: 0.3372 - accuracy: 0.8869\n",
      "Epoch 10/10\n",
      "504/504 [==============================] - 0s 56us/sample - loss: 0.3048 - accuracy: 0.9048\n",
      "Train on 531 samples\n",
      "Epoch 1/10\n",
      "531/531 [==============================] - 10s 20ms/sample - loss: 2.1457 - accuracy: 0.2655\n",
      "Epoch 2/10\n",
      "531/531 [==============================] - 0s 63us/sample - loss: 1.4525 - accuracy: 0.5669\n",
      "Epoch 3/10\n",
      "531/531 [==============================] - 0s 61us/sample - loss: 0.9952 - accuracy: 0.6761\n",
      "Epoch 4/10\n",
      "531/531 [==============================] - 0s 60us/sample - loss: 0.7330 - accuracy: 0.7571\n",
      "Epoch 5/10\n",
      "531/531 [==============================] - 0s 60us/sample - loss: 0.6682 - accuracy: 0.7853\n",
      "Epoch 6/10\n",
      "531/531 [==============================] - 0s 59us/sample - loss: 0.5731 - accuracy: 0.8249\n",
      "Epoch 7/10\n",
      "531/531 [==============================] - 0s 59us/sample - loss: 0.5362 - accuracy: 0.8154\n",
      "Epoch 8/10\n",
      "531/531 [==============================] - 0s 59us/sample - loss: 0.4304 - accuracy: 0.8682\n",
      "Epoch 9/10\n",
      "531/531 [==============================] - 0s 61us/sample - loss: 0.3621 - accuracy: 0.8945\n",
      "Epoch 10/10\n",
      "531/531 [==============================] - 0s 60us/sample - loss: 0.3483 - accuracy: 0.8870\n",
      "Train on 465 samples\n",
      "Epoch 1/10\n",
      "465/465 [==============================] - 11s 23ms/sample - loss: 2.2190 - accuracy: 0.1570\n",
      "Epoch 2/10\n",
      "465/465 [==============================] - 0s 61us/sample - loss: 1.6993 - accuracy: 0.4753\n",
      "Epoch 3/10\n",
      "465/465 [==============================] - 0s 59us/sample - loss: 1.1755 - accuracy: 0.6409\n",
      "Epoch 4/10\n",
      "465/465 [==============================] - 0s 59us/sample - loss: 0.9013 - accuracy: 0.6946\n",
      "Epoch 5/10\n",
      "465/465 [==============================] - 0s 59us/sample - loss: 0.7059 - accuracy: 0.7699\n",
      "Epoch 6/10\n",
      "465/465 [==============================] - 0s 59us/sample - loss: 0.5647 - accuracy: 0.8301\n",
      "Epoch 7/10\n",
      "465/465 [==============================] - 0s 59us/sample - loss: 0.4871 - accuracy: 0.8344\n",
      "Epoch 8/10\n",
      "465/465 [==============================] - 0s 59us/sample - loss: 0.4489 - accuracy: 0.8731\n",
      "Epoch 9/10\n",
      "465/465 [==============================] - 0s 59us/sample - loss: 0.4136 - accuracy: 0.8602\n",
      "Epoch 10/10\n",
      "465/465 [==============================] - 0s 58us/sample - loss: 0.3109 - accuracy: 0.8925\n",
      "Train on 481 samples\n",
      "Epoch 1/10\n",
      "481/481 [==============================] - 11s 22ms/sample - loss: 2.1730 - accuracy: 0.2204\n",
      "Epoch 2/10\n",
      "481/481 [==============================] - 0s 62us/sample - loss: 1.5918 - accuracy: 0.5530\n",
      "Epoch 3/10\n",
      "481/481 [==============================] - 0s 58us/sample - loss: 1.0856 - accuracy: 0.6570\n",
      "Epoch 4/10\n",
      "481/481 [==============================] - 0s 59us/sample - loss: 0.8227 - accuracy: 0.7401\n",
      "Epoch 5/10\n",
      "481/481 [==============================] - 0s 58us/sample - loss: 0.6593 - accuracy: 0.7817\n",
      "Epoch 6/10\n",
      "481/481 [==============================] - 0s 65us/sample - loss: 0.5497 - accuracy: 0.8067\n",
      "Epoch 7/10\n",
      "481/481 [==============================] - 0s 59us/sample - loss: 0.4912 - accuracy: 0.8545\n",
      "Epoch 8/10\n",
      "481/481 [==============================] - 0s 58us/sample - loss: 0.4500 - accuracy: 0.8565\n",
      "Epoch 9/10\n",
      "481/481 [==============================] - 0s 60us/sample - loss: 0.3641 - accuracy: 0.8586\n",
      "Epoch 10/10\n",
      "481/481 [==============================] - 0s 60us/sample - loss: 0.3080 - accuracy: 0.8981\n",
      "Train on 492 samples\n",
      "Epoch 1/10\n",
      "492/492 [==============================] - 11s 22ms/sample - loss: 2.1791 - accuracy: 0.2012\n",
      "Epoch 2/10\n",
      "492/492 [==============================] - 0s 61us/sample - loss: 1.6034 - accuracy: 0.5691\n",
      "Epoch 3/10\n",
      "492/492 [==============================] - 0s 58us/sample - loss: 1.1332 - accuracy: 0.6626\n",
      "Epoch 4/10\n",
      "492/492 [==============================] - 0s 55us/sample - loss: 0.8119 - accuracy: 0.7439\n",
      "Epoch 5/10\n",
      "492/492 [==============================] - 0s 59us/sample - loss: 0.6713 - accuracy: 0.7907\n",
      "Epoch 6/10\n",
      "492/492 [==============================] - 0s 57us/sample - loss: 0.5758 - accuracy: 0.8130\n",
      "Epoch 7/10\n",
      "492/492 [==============================] - 0s 56us/sample - loss: 0.5426 - accuracy: 0.8293\n",
      "Epoch 8/10\n",
      "492/492 [==============================] - 0s 57us/sample - loss: 0.4065 - accuracy: 0.8740\n",
      "Epoch 9/10\n",
      "492/492 [==============================] - 0s 57us/sample - loss: 0.3332 - accuracy: 0.9045\n",
      "Epoch 10/10\n",
      "492/492 [==============================] - 0s 57us/sample - loss: 0.3282 - accuracy: 0.9045\n",
      "Train on 530 samples\n",
      "Epoch 1/10\n",
      "530/530 [==============================] - 11s 20ms/sample - loss: 2.1268 - accuracy: 0.2830\n",
      "Epoch 2/10\n",
      "530/530 [==============================] - 0s 64us/sample - loss: 1.3815 - accuracy: 0.5868\n",
      "Epoch 3/10\n",
      "530/530 [==============================] - 0s 62us/sample - loss: 0.9955 - accuracy: 0.6755\n",
      "Epoch 4/10\n",
      "530/530 [==============================] - 0s 60us/sample - loss: 0.7379 - accuracy: 0.7528\n",
      "Epoch 5/10\n",
      "530/530 [==============================] - 0s 64us/sample - loss: 0.7045 - accuracy: 0.7811\n",
      "Epoch 6/10\n",
      "530/530 [==============================] - 0s 60us/sample - loss: 0.5124 - accuracy: 0.8358\n",
      "Epoch 7/10\n",
      "530/530 [==============================] - 0s 59us/sample - loss: 0.5320 - accuracy: 0.8245\n",
      "Epoch 8/10\n",
      "530/530 [==============================] - 0s 59us/sample - loss: 0.4453 - accuracy: 0.8566\n",
      "Epoch 9/10\n",
      "530/530 [==============================] - 0s 59us/sample - loss: 0.3754 - accuracy: 0.8717\n",
      "Epoch 10/10\n",
      "530/530 [==============================] - 0s 59us/sample - loss: 0.2937 - accuracy: 0.9019\n",
      "Train on 510 samples\n",
      "Epoch 1/10\n",
      "510/510 [==============================] - 11s 21ms/sample - loss: 2.2110 - accuracy: 0.1745\n",
      "Epoch 2/10\n",
      "510/510 [==============================] - 0s 60us/sample - loss: 1.6977 - accuracy: 0.5118\n",
      "Epoch 3/10\n",
      "510/510 [==============================] - 0s 57us/sample - loss: 1.1768 - accuracy: 0.6196\n",
      "Epoch 4/10\n",
      "510/510 [==============================] - 0s 58us/sample - loss: 0.8851 - accuracy: 0.7098\n",
      "Epoch 5/10\n",
      "510/510 [==============================] - 0s 57us/sample - loss: 0.7389 - accuracy: 0.7451\n",
      "Epoch 6/10\n",
      "510/510 [==============================] - 0s 66us/sample - loss: 0.6157 - accuracy: 0.7902\n",
      "Epoch 7/10\n",
      "510/510 [==============================] - 0s 56us/sample - loss: 0.5259 - accuracy: 0.8314\n",
      "Epoch 8/10\n",
      "510/510 [==============================] - 0s 59us/sample - loss: 0.4323 - accuracy: 0.8647\n",
      "Epoch 9/10\n",
      "510/510 [==============================] - 0s 56us/sample - loss: 0.4126 - accuracy: 0.8549\n",
      "Epoch 10/10\n",
      "510/510 [==============================] - 0s 57us/sample - loss: 0.3695 - accuracy: 0.8784\n",
      "Train on 459 samples\n",
      "Epoch 1/10\n",
      "459/459 [==============================] - 11s 24ms/sample - loss: 2.1856 - accuracy: 0.2135\n",
      "Epoch 2/10\n",
      "459/459 [==============================] - 0s 62us/sample - loss: 1.5992 - accuracy: 0.5599\n",
      "Epoch 3/10\n",
      "459/459 [==============================] - 0s 59us/sample - loss: 1.0905 - accuracy: 0.6471\n",
      "Epoch 4/10\n",
      "459/459 [==============================] - 0s 58us/sample - loss: 0.8220 - accuracy: 0.7364\n",
      "Epoch 5/10\n",
      "459/459 [==============================] - 0s 59us/sample - loss: 0.6903 - accuracy: 0.7778\n",
      "Epoch 6/10\n",
      "459/459 [==============================] - 0s 60us/sample - loss: 0.6116 - accuracy: 0.7691\n",
      "Epoch 7/10\n",
      "459/459 [==============================] - 0s 60us/sample - loss: 0.5173 - accuracy: 0.8192\n",
      "Epoch 8/10\n",
      "459/459 [==============================] - 0s 59us/sample - loss: 0.4526 - accuracy: 0.8344\n",
      "Epoch 9/10\n",
      "459/459 [==============================] - 0s 58us/sample - loss: 0.3517 - accuracy: 0.8824\n",
      "Epoch 10/10\n",
      "459/459 [==============================] - 0s 60us/sample - loss: 0.2823 - accuracy: 0.8998\n",
      "Train on 514 samples\n",
      "Epoch 1/10\n"
     ]
    },
    {
     "name": "stdout",
     "output_type": "stream",
     "text": [
      "514/514 [==============================] - 11s 21ms/sample - loss: 2.1577 - accuracy: 0.2588\n",
      "Epoch 2/10\n",
      "514/514 [==============================] - 0s 67us/sample - loss: 1.5944 - accuracy: 0.4611\n",
      "Epoch 3/10\n",
      "514/514 [==============================] - 0s 64us/sample - loss: 1.0789 - accuracy: 0.6946\n",
      "Epoch 4/10\n",
      "514/514 [==============================] - 0s 62us/sample - loss: 0.8286 - accuracy: 0.7257\n",
      "Epoch 5/10\n",
      "514/514 [==============================] - 0s 63us/sample - loss: 0.7126 - accuracy: 0.7763\n",
      "Epoch 6/10\n",
      "514/514 [==============================] - 0s 63us/sample - loss: 0.6088 - accuracy: 0.8074\n",
      "Epoch 7/10\n",
      "514/514 [==============================] - 0s 63us/sample - loss: 0.5985 - accuracy: 0.8132\n",
      "Epoch 8/10\n",
      "514/514 [==============================] - 0s 62us/sample - loss: 0.5741 - accuracy: 0.8307\n",
      "Epoch 9/10\n",
      "514/514 [==============================] - 0s 63us/sample - loss: 0.4387 - accuracy: 0.8638\n",
      "Epoch 10/10\n",
      "514/514 [==============================] - 0s 63us/sample - loss: 0.3921 - accuracy: 0.8619\n",
      "Train on 539 samples\n",
      "Epoch 1/10\n",
      "539/539 [==============================] - 11s 20ms/sample - loss: 2.1688 - accuracy: 0.1837\n",
      "Epoch 2/10\n",
      "539/539 [==============================] - 0s 67us/sample - loss: 1.5155 - accuracy: 0.5788\n",
      "Epoch 3/10\n",
      "539/539 [==============================] - 0s 63us/sample - loss: 0.9558 - accuracy: 0.6772\n",
      "Epoch 4/10\n",
      "539/539 [==============================] - 0s 65us/sample - loss: 0.7021 - accuracy: 0.7570\n",
      "Epoch 5/10\n",
      "539/539 [==============================] - 0s 61us/sample - loss: 0.6237 - accuracy: 0.7996\n",
      "Epoch 6/10\n",
      "539/539 [==============================] - 0s 62us/sample - loss: 0.5084 - accuracy: 0.8219\n",
      "Epoch 7/10\n",
      "539/539 [==============================] - 0s 70us/sample - loss: 0.4266 - accuracy: 0.8553\n",
      "Epoch 8/10\n",
      "539/539 [==============================] - 0s 61us/sample - loss: 0.3485 - accuracy: 0.8831\n",
      "Epoch 9/10\n",
      "539/539 [==============================] - 0s 60us/sample - loss: 0.3180 - accuracy: 0.9072\n",
      "Epoch 10/10\n",
      "539/539 [==============================] - 0s 60us/sample - loss: 0.3235 - accuracy: 0.8942\n",
      "Train on 506 samples\n",
      "Epoch 1/10\n",
      "506/506 [==============================] - 11s 22ms/sample - loss: 2.1941 - accuracy: 0.2312\n",
      "Epoch 2/10\n",
      "506/506 [==============================] - 0s 60us/sample - loss: 1.5981 - accuracy: 0.5850\n",
      "Epoch 3/10\n",
      "506/506 [==============================] - 0s 57us/sample - loss: 1.0976 - accuracy: 0.6561\n",
      "Epoch 4/10\n",
      "506/506 [==============================] - 0s 58us/sample - loss: 0.7440 - accuracy: 0.7510\n",
      "Epoch 5/10\n",
      "506/506 [==============================] - 0s 57us/sample - loss: 0.6335 - accuracy: 0.7846\n",
      "Epoch 6/10\n",
      "506/506 [==============================] - 0s 55us/sample - loss: 0.5125 - accuracy: 0.8241\n",
      "Epoch 7/10\n",
      "506/506 [==============================] - 0s 57us/sample - loss: 0.4294 - accuracy: 0.8518\n",
      "Epoch 8/10\n",
      "506/506 [==============================] - 0s 56us/sample - loss: 0.3455 - accuracy: 0.8953\n",
      "Epoch 9/10\n",
      "506/506 [==============================] - 0s 55us/sample - loss: 0.3003 - accuracy: 0.9170\n",
      "Epoch 10/10\n",
      "506/506 [==============================] - 0s 75us/sample - loss: 0.2912 - accuracy: 0.9032\n",
      "Train on 507 samples\n",
      "Epoch 1/10\n",
      "507/507 [==============================] - 11s 22ms/sample - loss: 2.1854 - accuracy: 0.2387\n",
      "Epoch 2/10\n",
      "507/507 [==============================] - 0s 60us/sample - loss: 1.6100 - accuracy: 0.5247\n",
      "Epoch 3/10\n",
      "507/507 [==============================] - 0s 58us/sample - loss: 1.1372 - accuracy: 0.6469\n",
      "Epoch 4/10\n",
      "507/507 [==============================] - 0s 56us/sample - loss: 0.9003 - accuracy: 0.7278\n",
      "Epoch 5/10\n",
      "507/507 [==============================] - 0s 57us/sample - loss: 0.7518 - accuracy: 0.7515\n",
      "Epoch 6/10\n",
      "507/507 [==============================] - 0s 57us/sample - loss: 0.6047 - accuracy: 0.7949\n",
      "Epoch 7/10\n",
      "507/507 [==============================] - 0s 56us/sample - loss: 0.4832 - accuracy: 0.8679\n",
      "Epoch 8/10\n",
      "507/507 [==============================] - 0s 58us/sample - loss: 0.4457 - accuracy: 0.8797\n",
      "Epoch 9/10\n",
      "507/507 [==============================] - 0s 71us/sample - loss: 0.4025 - accuracy: 0.8639\n",
      "Epoch 10/10\n",
      "507/507 [==============================] - 0s 55us/sample - loss: 0.3280 - accuracy: 0.8955\n",
      "Train on 500 samples\n",
      "Epoch 1/10\n",
      "500/500 [==============================] - 11s 22ms/sample - loss: 2.1558 - accuracy: 0.2040\n",
      "Epoch 2/10\n",
      "500/500 [==============================] - 0s 59us/sample - loss: 1.5375 - accuracy: 0.5560\n",
      "Epoch 3/10\n",
      "500/500 [==============================] - 0s 57us/sample - loss: 1.0479 - accuracy: 0.6760\n",
      "Epoch 4/10\n",
      "500/500 [==============================] - 0s 57us/sample - loss: 0.7200 - accuracy: 0.7800\n",
      "Epoch 5/10\n",
      "500/500 [==============================] - 0s 56us/sample - loss: 0.6206 - accuracy: 0.7840\n",
      "Epoch 6/10\n",
      "500/500 [==============================] - 0s 59us/sample - loss: 0.4618 - accuracy: 0.8480\n",
      "Epoch 7/10\n",
      "500/500 [==============================] - 0s 57us/sample - loss: 0.4182 - accuracy: 0.8680\n",
      "Epoch 8/10\n",
      "500/500 [==============================] - 0s 57us/sample - loss: 0.3565 - accuracy: 0.8800\n",
      "Epoch 9/10\n",
      "500/500 [==============================] - 0s 64us/sample - loss: 0.3085 - accuracy: 0.8920\n",
      "Epoch 10/10\n",
      "500/500 [==============================] - 0s 57us/sample - loss: 0.2919 - accuracy: 0.8920\n",
      "Train on 479 samples\n",
      "Epoch 1/10\n",
      "479/479 [==============================] - 11s 23ms/sample - loss: 2.1526 - accuracy: 0.2338\n",
      "Epoch 2/10\n",
      "479/479 [==============================] - 0s 63us/sample - loss: 1.6078 - accuracy: 0.4593\n",
      "Epoch 3/10\n",
      "479/479 [==============================] - 0s 59us/sample - loss: 1.1491 - accuracy: 0.6096\n",
      "Epoch 4/10\n",
      "479/479 [==============================] - 0s 59us/sample - loss: 0.8343 - accuracy: 0.7035\n",
      "Epoch 5/10\n",
      "479/479 [==============================] - 0s 60us/sample - loss: 0.7075 - accuracy: 0.7745\n",
      "Epoch 6/10\n",
      "479/479 [==============================] - 0s 60us/sample - loss: 0.5764 - accuracy: 0.8372\n",
      "Epoch 7/10\n",
      "479/479 [==============================] - 0s 57us/sample - loss: 0.5385 - accuracy: 0.8392\n",
      "Epoch 8/10\n",
      "479/479 [==============================] - 0s 59us/sample - loss: 0.4422 - accuracy: 0.8580\n",
      "Epoch 9/10\n",
      "479/479 [==============================] - 0s 60us/sample - loss: 0.4004 - accuracy: 0.8643\n",
      "Epoch 10/10\n",
      "479/479 [==============================] - 0s 59us/sample - loss: 0.3255 - accuracy: 0.9102\n",
      "Train on 514 samples\n",
      "Epoch 1/10\n",
      "514/514 [==============================] - 1s 1ms/sample - loss: 2.1974 - accuracy: 0.2023\n",
      "Epoch 2/10\n",
      "514/514 [==============================] - 0s 64us/sample - loss: 1.7158 - accuracy: 0.5370\n",
      "Epoch 3/10\n",
      "514/514 [==============================] - 0s 66us/sample - loss: 1.3272 - accuracy: 0.5817\n",
      "Epoch 4/10\n",
      "514/514 [==============================] - 0s 67us/sample - loss: 1.0315 - accuracy: 0.6556\n",
      "Epoch 5/10\n",
      "514/514 [==============================] - 0s 63us/sample - loss: 0.8386 - accuracy: 0.7218\n",
      "Epoch 6/10\n",
      "514/514 [==============================] - 0s 63us/sample - loss: 0.6780 - accuracy: 0.7646\n",
      "Epoch 7/10\n",
      "514/514 [==============================] - 0s 64us/sample - loss: 0.6140 - accuracy: 0.8035\n",
      "Epoch 8/10\n",
      "514/514 [==============================] - 0s 62us/sample - loss: 0.5999 - accuracy: 0.7957\n",
      "Epoch 9/10\n",
      "514/514 [==============================] - 0s 64us/sample - loss: 0.6113 - accuracy: 0.8054\n",
      "Epoch 10/10\n",
      "514/514 [==============================] - 0s 64us/sample - loss: 0.5856 - accuracy: 0.8230\n",
      "Train on 508 samples\n",
      "Epoch 1/10\n",
      "508/508 [==============================] - 11s 22ms/sample - loss: 2.1667 - accuracy: 0.2224\n",
      "Epoch 2/10\n",
      "508/508 [==============================] - 0s 61us/sample - loss: 1.5682 - accuracy: 0.5709\n",
      "Epoch 3/10\n",
      "508/508 [==============================] - 0s 59us/sample - loss: 1.1096 - accuracy: 0.6476\n",
      "Epoch 4/10\n",
      "508/508 [==============================] - 0s 58us/sample - loss: 0.8818 - accuracy: 0.7224\n",
      "Epoch 5/10\n",
      "508/508 [==============================] - 0s 58us/sample - loss: 0.7107 - accuracy: 0.7657\n",
      "Epoch 6/10\n",
      "508/508 [==============================] - 0s 58us/sample - loss: 0.5461 - accuracy: 0.8209\n",
      "Epoch 7/10\n",
      "508/508 [==============================] - 0s 58us/sample - loss: 0.4645 - accuracy: 0.8504\n",
      "Epoch 8/10\n",
      "508/508 [==============================] - 0s 59us/sample - loss: 0.3967 - accuracy: 0.8642\n",
      "Epoch 9/10\n"
     ]
    },
    {
     "name": "stdout",
     "output_type": "stream",
     "text": [
      "508/508 [==============================] - 0s 57us/sample - loss: 0.3650 - accuracy: 0.8937\n",
      "Epoch 10/10\n",
      "508/508 [==============================] - 0s 59us/sample - loss: 0.2870 - accuracy: 0.9016\n",
      "Train on 334 samples\n",
      "Epoch 1/10\n",
      "334/334 [==============================] - 11s 34ms/sample - loss: 2.2304 - accuracy: 0.2126\n",
      "Epoch 2/10\n",
      "334/334 [==============================] - 0s 67us/sample - loss: 1.7987 - accuracy: 0.4222\n",
      "Epoch 3/10\n",
      "334/334 [==============================] - 0s 61us/sample - loss: 1.3135 - accuracy: 0.5958\n",
      "Epoch 4/10\n",
      "334/334 [==============================] - 0s 64us/sample - loss: 0.9888 - accuracy: 0.7066\n",
      "Epoch 5/10\n",
      "334/334 [==============================] - 0s 70us/sample - loss: 0.7812 - accuracy: 0.7485\n",
      "Epoch 6/10\n",
      "334/334 [==============================] - 0s 63us/sample - loss: 0.6072 - accuracy: 0.8084\n",
      "Epoch 7/10\n",
      "334/334 [==============================] - 0s 74us/sample - loss: 0.5317 - accuracy: 0.8413\n",
      "Epoch 8/10\n",
      "334/334 [==============================] - 0s 64us/sample - loss: 0.4499 - accuracy: 0.8503\n",
      "Epoch 9/10\n",
      "334/334 [==============================] - 0s 61us/sample - loss: 0.3927 - accuracy: 0.8713\n",
      "Epoch 10/10\n",
      "334/334 [==============================] - 0s 63us/sample - loss: 0.3482 - accuracy: 0.8922\n",
      "Train on 316 samples\n",
      "Epoch 1/10\n",
      "316/316 [==============================] - 11s 36ms/sample - loss: 2.2426 - accuracy: 0.1835\n",
      "Epoch 2/10\n",
      "316/316 [==============================] - 0s 71us/sample - loss: 1.8816 - accuracy: 0.4462\n",
      "Epoch 3/10\n",
      "316/316 [==============================] - 0s 64us/sample - loss: 1.4643 - accuracy: 0.5696\n",
      "Epoch 4/10\n",
      "316/316 [==============================] - 0s 65us/sample - loss: 1.1259 - accuracy: 0.6677\n",
      "Epoch 5/10\n",
      "316/316 [==============================] - 0s 65us/sample - loss: 0.8759 - accuracy: 0.7184\n",
      "Epoch 6/10\n",
      "316/316 [==============================] - 0s 63us/sample - loss: 0.7530 - accuracy: 0.7658\n",
      "Epoch 7/10\n",
      "316/316 [==============================] - 0s 62us/sample - loss: 0.6517 - accuracy: 0.7848\n",
      "Epoch 8/10\n",
      "316/316 [==============================] - 0s 63us/sample - loss: 0.5727 - accuracy: 0.8196\n",
      "Epoch 9/10\n",
      "316/316 [==============================] - 0s 65us/sample - loss: 0.5227 - accuracy: 0.8259\n",
      "Epoch 10/10\n",
      "316/316 [==============================] - 0s 63us/sample - loss: 0.5144 - accuracy: 0.8418\n",
      "Train on 302 samples\n",
      "Epoch 1/10\n",
      "302/302 [==============================] - 12s 39ms/sample - loss: 2.2415 - accuracy: 0.1854\n",
      "Epoch 2/10\n",
      "302/302 [==============================] - 0s 69us/sample - loss: 1.8604 - accuracy: 0.4570\n",
      "Epoch 3/10\n",
      "302/302 [==============================] - 0s 66us/sample - loss: 1.3699 - accuracy: 0.6358\n",
      "Epoch 4/10\n",
      "302/302 [==============================] - 0s 66us/sample - loss: 1.0684 - accuracy: 0.6623\n",
      "Epoch 5/10\n",
      "302/302 [==============================] - 0s 66us/sample - loss: 0.7783 - accuracy: 0.7583\n",
      "Epoch 6/10\n",
      "302/302 [==============================] - 0s 65us/sample - loss: 0.7402 - accuracy: 0.7351\n",
      "Epoch 7/10\n",
      "302/302 [==============================] - 0s 64us/sample - loss: 0.6093 - accuracy: 0.8146\n",
      "Epoch 8/10\n",
      "302/302 [==============================] - 0s 63us/sample - loss: 0.5835 - accuracy: 0.8179\n",
      "Epoch 9/10\n",
      "302/302 [==============================] - 0s 65us/sample - loss: 0.4476 - accuracy: 0.8642\n",
      "Epoch 10/10\n",
      "302/302 [==============================] - 0s 66us/sample - loss: 0.5144 - accuracy: 0.8113\n",
      "Train on 343 samples\n",
      "Epoch 1/10\n",
      "343/343 [==============================] - 11s 34ms/sample - loss: 2.2338 - accuracy: 0.1487\n",
      "Epoch 2/10\n",
      "343/343 [==============================] - 0s 67us/sample - loss: 1.8298 - accuracy: 0.4694\n",
      "Epoch 3/10\n",
      "343/343 [==============================] - 0s 64us/sample - loss: 1.2996 - accuracy: 0.6414\n",
      "Epoch 4/10\n",
      "343/343 [==============================] - 0s 62us/sample - loss: 1.0228 - accuracy: 0.6676\n",
      "Epoch 5/10\n",
      "343/343 [==============================] - 0s 64us/sample - loss: 0.7938 - accuracy: 0.7230\n",
      "Epoch 6/10\n",
      "343/343 [==============================] - 0s 61us/sample - loss: 0.6422 - accuracy: 0.7784\n",
      "Epoch 7/10\n",
      "343/343 [==============================] - 0s 63us/sample - loss: 0.5509 - accuracy: 0.8134\n",
      "Epoch 8/10\n",
      "343/343 [==============================] - 0s 64us/sample - loss: 0.4582 - accuracy: 0.8513\n",
      "Epoch 9/10\n",
      "343/343 [==============================] - 0s 75us/sample - loss: 0.4605 - accuracy: 0.8571\n",
      "Epoch 10/10\n",
      "343/343 [==============================] - 0s 60us/sample - loss: 0.3794 - accuracy: 0.8863\n",
      "Train on 328 samples\n",
      "Epoch 1/10\n",
      "328/328 [==============================] - 12s 35ms/sample - loss: 2.2297 - accuracy: 0.2134\n",
      "Epoch 2/10\n",
      "328/328 [==============================] - 0s 70us/sample - loss: 1.7739 - accuracy: 0.5671\n",
      "Epoch 3/10\n",
      "328/328 [==============================] - 0s 83us/sample - loss: 1.2905 - accuracy: 0.6463\n",
      "Epoch 4/10\n",
      "328/328 [==============================] - 0s 67us/sample - loss: 0.9056 - accuracy: 0.7043\n",
      "Epoch 5/10\n",
      "328/328 [==============================] - 0s 65us/sample - loss: 0.7244 - accuracy: 0.7500\n",
      "Epoch 6/10\n",
      "328/328 [==============================] - 0s 65us/sample - loss: 0.5367 - accuracy: 0.8293\n",
      "Epoch 7/10\n",
      "328/328 [==============================] - 0s 94us/sample - loss: 0.4953 - accuracy: 0.8323\n",
      "Epoch 8/10\n",
      "328/328 [==============================] - 0s 66us/sample - loss: 0.3951 - accuracy: 0.8689\n",
      "Epoch 9/10\n",
      "328/328 [==============================] - 0s 66us/sample - loss: 0.3762 - accuracy: 0.8872\n",
      "Epoch 10/10\n",
      "328/328 [==============================] - 0s 63us/sample - loss: 0.2337 - accuracy: 0.9268\n",
      "Train on 347 samples\n",
      "Epoch 1/10\n",
      "347/347 [==============================] - 12s 34ms/sample - loss: 2.2289 - accuracy: 0.1729\n",
      "Epoch 2/10\n",
      "347/347 [==============================] - 0s 64us/sample - loss: 1.8458 - accuracy: 0.4352\n",
      "Epoch 3/10\n",
      "347/347 [==============================] - 0s 60us/sample - loss: 1.4025 - accuracy: 0.5620\n",
      "Epoch 4/10\n",
      "347/347 [==============================] - 0s 62us/sample - loss: 1.0410 - accuracy: 0.6628\n",
      "Epoch 5/10\n",
      "347/347 [==============================] - 0s 62us/sample - loss: 0.8689 - accuracy: 0.7089\n",
      "Epoch 6/10\n",
      "347/347 [==============================] - 0s 62us/sample - loss: 0.7055 - accuracy: 0.7579\n",
      "Epoch 7/10\n",
      "347/347 [==============================] - 0s 62us/sample - loss: 0.5939 - accuracy: 0.8069\n",
      "Epoch 8/10\n",
      "347/347 [==============================] - 0s 61us/sample - loss: 0.5901 - accuracy: 0.8127\n",
      "Epoch 9/10\n",
      "347/347 [==============================] - 0s 66us/sample - loss: 0.4783 - accuracy: 0.8357\n",
      "Epoch 10/10\n",
      "347/347 [==============================] - 0s 61us/sample - loss: 0.3816 - accuracy: 0.8674\n",
      "Train on 316 samples\n",
      "Epoch 1/10\n",
      "316/316 [==============================] - 1s 2ms/sample - loss: 2.2180 - accuracy: 0.2120\n",
      "Epoch 2/10\n",
      "316/316 [==============================] - 0s 64us/sample - loss: 1.8370 - accuracy: 0.4114\n",
      "Epoch 3/10\n",
      "316/316 [==============================] - 0s 65us/sample - loss: 1.3238 - accuracy: 0.6361\n",
      "Epoch 4/10\n",
      "316/316 [==============================] - 0s 64us/sample - loss: 0.9858 - accuracy: 0.6994\n",
      "Epoch 5/10\n",
      "316/316 [==============================] - 0s 65us/sample - loss: 0.8391 - accuracy: 0.7247\n",
      "Epoch 6/10\n",
      "316/316 [==============================] - 0s 65us/sample - loss: 0.6327 - accuracy: 0.8228\n",
      "Epoch 7/10\n",
      "316/316 [==============================] - 0s 62us/sample - loss: 0.5499 - accuracy: 0.8259\n",
      "Epoch 8/10\n",
      "316/316 [==============================] - 0s 64us/sample - loss: 0.5221 - accuracy: 0.8133\n",
      "Epoch 9/10\n",
      "316/316 [==============================] - 0s 62us/sample - loss: 0.4291 - accuracy: 0.8576\n",
      "Epoch 10/10\n",
      "316/316 [==============================] - 0s 64us/sample - loss: 0.3655 - accuracy: 0.8671\n",
      "Train on 302 samples\n",
      "Epoch 1/10\n",
      "302/302 [==============================] - 1s 3ms/sample - loss: 2.2330 - accuracy: 0.1490\n",
      "Epoch 2/10\n",
      "302/302 [==============================] - 0s 66us/sample - loss: 1.8427 - accuracy: 0.4437\n",
      "Epoch 3/10\n",
      "302/302 [==============================] - 0s 109us/sample - loss: 1.4409 - accuracy: 0.5596\n",
      "Epoch 4/10\n",
      "302/302 [==============================] - 0s 66us/sample - loss: 1.1697 - accuracy: 0.6325\n",
      "Epoch 5/10\n",
      "302/302 [==============================] - 0s 65us/sample - loss: 0.9582 - accuracy: 0.7086\n",
      "Epoch 6/10\n"
     ]
    },
    {
     "name": "stdout",
     "output_type": "stream",
     "text": [
      "302/302 [==============================] - 0s 66us/sample - loss: 0.7800 - accuracy: 0.7417\n",
      "Epoch 7/10\n",
      "302/302 [==============================] - 0s 65us/sample - loss: 0.6380 - accuracy: 0.8046\n",
      "Epoch 8/10\n",
      "302/302 [==============================] - 0s 66us/sample - loss: 0.6461 - accuracy: 0.7848\n",
      "Epoch 9/10\n",
      "302/302 [==============================] - 0s 66us/sample - loss: 0.5215 - accuracy: 0.8344\n",
      "Epoch 10/10\n",
      "302/302 [==============================] - 0s 66us/sample - loss: 0.4307 - accuracy: 0.8642\n",
      "Train on 373 samples\n",
      "Epoch 1/10\n",
      "373/373 [==============================] - 12s 32ms/sample - loss: 2.2136 - accuracy: 0.2225\n",
      "Epoch 2/10\n",
      "373/373 [==============================] - 0s 64us/sample - loss: 1.8037 - accuracy: 0.4477\n",
      "Epoch 3/10\n",
      "373/373 [==============================] - 0s 61us/sample - loss: 1.3851 - accuracy: 0.5952\n",
      "Epoch 4/10\n",
      "373/373 [==============================] - 0s 61us/sample - loss: 0.9929 - accuracy: 0.6622\n",
      "Epoch 5/10\n",
      "373/373 [==============================] - 0s 59us/sample - loss: 0.8428 - accuracy: 0.7292\n",
      "Epoch 6/10\n",
      "373/373 [==============================] - 0s 59us/sample - loss: 0.7465 - accuracy: 0.7507\n",
      "Epoch 7/10\n",
      "373/373 [==============================] - 0s 61us/sample - loss: 0.5580 - accuracy: 0.8231\n",
      "Epoch 8/10\n",
      "373/373 [==============================] - 0s 60us/sample - loss: 0.5061 - accuracy: 0.8472\n",
      "Epoch 9/10\n",
      "373/373 [==============================] - 0s 59us/sample - loss: 0.4297 - accuracy: 0.8525\n",
      "Epoch 10/10\n",
      "373/373 [==============================] - 0s 70us/sample - loss: 0.3723 - accuracy: 0.8740\n",
      "Train on 380 samples\n",
      "Epoch 1/10\n",
      "380/380 [==============================] - 1s 2ms/sample - loss: 2.2491 - accuracy: 0.1553\n",
      "Epoch 2/10\n",
      "380/380 [==============================] - 0s 61us/sample - loss: 1.9196 - accuracy: 0.3474\n",
      "Epoch 3/10\n",
      "380/380 [==============================] - 0s 60us/sample - loss: 1.5064 - accuracy: 0.5184\n",
      "Epoch 4/10\n",
      "380/380 [==============================] - 0s 60us/sample - loss: 1.1438 - accuracy: 0.6395\n",
      "Epoch 5/10\n",
      "380/380 [==============================] - 0s 60us/sample - loss: 0.7885 - accuracy: 0.7737\n",
      "Epoch 6/10\n",
      "380/380 [==============================] - 0s 59us/sample - loss: 0.7443 - accuracy: 0.7342\n",
      "Epoch 7/10\n",
      "380/380 [==============================] - 0s 63us/sample - loss: 0.6182 - accuracy: 0.7947\n",
      "Epoch 8/10\n",
      "380/380 [==============================] - 0s 67us/sample - loss: 0.5379 - accuracy: 0.8211\n",
      "Epoch 9/10\n",
      "380/380 [==============================] - 0s 62us/sample - loss: 0.4981 - accuracy: 0.8421\n",
      "Epoch 10/10\n",
      "380/380 [==============================] - 0s 66us/sample - loss: 0.3989 - accuracy: 0.8711\n",
      "Train on 312 samples\n",
      "Epoch 1/10\n",
      "312/312 [==============================] - 12s 39ms/sample - loss: 2.2268 - accuracy: 0.2212\n",
      "Epoch 2/10\n",
      "312/312 [==============================] - 0s 73us/sample - loss: 1.8204 - accuracy: 0.4295\n",
      "Epoch 3/10\n",
      "312/312 [==============================] - 0s 67us/sample - loss: 1.3770 - accuracy: 0.5769\n",
      "Epoch 4/10\n",
      "312/312 [==============================] - 0s 67us/sample - loss: 1.0335 - accuracy: 0.6731\n",
      "Epoch 5/10\n",
      "312/312 [==============================] - 0s 69us/sample - loss: 0.8321 - accuracy: 0.7179\n",
      "Epoch 6/10\n",
      "312/312 [==============================] - 0s 67us/sample - loss: 0.7212 - accuracy: 0.7532\n",
      "Epoch 7/10\n",
      "312/312 [==============================] - 0s 112us/sample - loss: 0.6067 - accuracy: 0.7917\n",
      "Epoch 8/10\n",
      "312/312 [==============================] - 0s 63us/sample - loss: 0.5039 - accuracy: 0.8333\n",
      "Epoch 9/10\n",
      "312/312 [==============================] - 0s 65us/sample - loss: 0.4578 - accuracy: 0.8333\n",
      "Epoch 10/10\n",
      "312/312 [==============================] - 0s 76us/sample - loss: 0.4105 - accuracy: 0.8654\n",
      "Train on 338 samples\n",
      "Epoch 1/10\n",
      "338/338 [==============================] - 1s 2ms/sample - loss: 2.2174 - accuracy: 0.2544\n",
      "Epoch 2/10\n",
      "338/338 [==============================] - 0s 65us/sample - loss: 1.8403 - accuracy: 0.4615\n",
      "Epoch 3/10\n",
      "338/338 [==============================] - 0s 64us/sample - loss: 1.3490 - accuracy: 0.6568\n",
      "Epoch 4/10\n",
      "338/338 [==============================] - 0s 63us/sample - loss: 0.9862 - accuracy: 0.7189\n",
      "Epoch 5/10\n",
      "338/338 [==============================] - 0s 65us/sample - loss: 0.7302 - accuracy: 0.7751\n",
      "Epoch 6/10\n",
      "338/338 [==============================] - 0s 63us/sample - loss: 0.5816 - accuracy: 0.7988\n",
      "Epoch 7/10\n",
      "338/338 [==============================] - 0s 65us/sample - loss: 0.5483 - accuracy: 0.8107\n",
      "Epoch 8/10\n",
      "338/338 [==============================] - 0s 61us/sample - loss: 0.4911 - accuracy: 0.8521\n",
      "Epoch 9/10\n",
      "338/338 [==============================] - 0s 63us/sample - loss: 0.4272 - accuracy: 0.8728\n",
      "Epoch 10/10\n",
      "338/338 [==============================] - 0s 63us/sample - loss: 0.3534 - accuracy: 0.8787\n",
      "Train on 365 samples\n",
      "Epoch 1/10\n",
      "365/365 [==============================] - 12s 33ms/sample - loss: 2.2397 - accuracy: 0.1315\n",
      "Epoch 2/10\n",
      "365/365 [==============================] - 0s 66us/sample - loss: 1.8279 - accuracy: 0.4767\n",
      "Epoch 3/10\n",
      "365/365 [==============================] - 0s 60us/sample - loss: 1.3807 - accuracy: 0.5973\n",
      "Epoch 4/10\n",
      "365/365 [==============================] - 0s 60us/sample - loss: 0.9910 - accuracy: 0.6959\n",
      "Epoch 5/10\n",
      "365/365 [==============================] - 0s 61us/sample - loss: 0.8481 - accuracy: 0.7452\n",
      "Epoch 6/10\n",
      "365/365 [==============================] - 0s 61us/sample - loss: 0.6627 - accuracy: 0.7808\n",
      "Epoch 7/10\n",
      "365/365 [==============================] - 0s 61us/sample - loss: 0.5734 - accuracy: 0.8137\n",
      "Epoch 8/10\n",
      "365/365 [==============================] - 0s 61us/sample - loss: 0.5327 - accuracy: 0.8219\n",
      "Epoch 9/10\n",
      "365/365 [==============================] - 0s 61us/sample - loss: 0.4236 - accuracy: 0.8603\n",
      "Epoch 10/10\n",
      "365/365 [==============================] - 0s 59us/sample - loss: 0.4034 - accuracy: 0.8575\n",
      "Train on 317 samples\n",
      "Epoch 1/10\n",
      "317/317 [==============================] - 12s 38ms/sample - loss: 2.2348 - accuracy: 0.2019\n",
      "Epoch 2/10\n",
      "317/317 [==============================] - 0s 72us/sample - loss: 1.8523 - accuracy: 0.4574\n",
      "Epoch 3/10\n",
      "317/317 [==============================] - 0s 71us/sample - loss: 1.4034 - accuracy: 0.6215\n",
      "Epoch 4/10\n",
      "317/317 [==============================] - 0s 65us/sample - loss: 1.0577 - accuracy: 0.6530\n",
      "Epoch 5/10\n",
      "317/317 [==============================] - 0s 67us/sample - loss: 0.8002 - accuracy: 0.7476\n",
      "Epoch 6/10\n",
      "317/317 [==============================] - 0s 64us/sample - loss: 0.6706 - accuracy: 0.7571\n",
      "Epoch 7/10\n",
      "317/317 [==============================] - 0s 67us/sample - loss: 0.6219 - accuracy: 0.7918\n",
      "Epoch 8/10\n",
      "317/317 [==============================] - 0s 66us/sample - loss: 0.5394 - accuracy: 0.8170\n",
      "Epoch 9/10\n",
      "317/317 [==============================] - 0s 64us/sample - loss: 0.4137 - accuracy: 0.8770\n",
      "Epoch 10/10\n",
      "317/317 [==============================] - 0s 64us/sample - loss: 0.3897 - accuracy: 0.8959\n",
      "Train on 332 samples\n",
      "Epoch 1/10\n",
      "332/332 [==============================] - 12s 37ms/sample - loss: 2.2330 - accuracy: 0.2018\n",
      "Epoch 2/10\n",
      "332/332 [==============================] - 0s 70us/sample - loss: 1.8027 - accuracy: 0.5241\n",
      "Epoch 3/10\n",
      "332/332 [==============================] - 0s 64us/sample - loss: 1.3006 - accuracy: 0.6596\n",
      "Epoch 4/10\n",
      "332/332 [==============================] - 0s 63us/sample - loss: 0.9857 - accuracy: 0.6777\n",
      "Epoch 5/10\n",
      "332/332 [==============================] - 0s 66us/sample - loss: 0.7513 - accuracy: 0.7651\n",
      "Epoch 6/10\n",
      "332/332 [==============================] - 0s 66us/sample - loss: 0.5921 - accuracy: 0.8102\n",
      "Epoch 7/10\n",
      "332/332 [==============================] - 0s 63us/sample - loss: 0.4911 - accuracy: 0.8464\n",
      "Epoch 8/10\n",
      "332/332 [==============================] - 0s 64us/sample - loss: 0.3934 - accuracy: 0.8735\n",
      "Epoch 9/10\n",
      "332/332 [==============================] - 0s 72us/sample - loss: 0.4030 - accuracy: 0.8524\n",
      "Epoch 10/10\n",
      "332/332 [==============================] - 0s 63us/sample - loss: 0.3224 - accuracy: 0.8855\n",
      "Train on 328 samples\n",
      "Epoch 1/10\n",
      "328/328 [==============================] - 1s 3ms/sample - loss: 2.2375 - accuracy: 0.1951\n",
      "Epoch 2/10\n",
      "328/328 [==============================] - 0s 72us/sample - loss: 1.8419 - accuracy: 0.5122\n",
      "Epoch 3/10\n"
     ]
    },
    {
     "name": "stdout",
     "output_type": "stream",
     "text": [
      "328/328 [==============================] - 0s 65us/sample - loss: 1.3353 - accuracy: 0.6341\n",
      "Epoch 4/10\n",
      "328/328 [==============================] - 0s 64us/sample - loss: 1.0507 - accuracy: 0.6677\n",
      "Epoch 5/10\n",
      "328/328 [==============================] - 0s 63us/sample - loss: 0.8383 - accuracy: 0.7500\n",
      "Epoch 6/10\n",
      "328/328 [==============================] - 0s 65us/sample - loss: 0.7312 - accuracy: 0.7652\n",
      "Epoch 7/10\n",
      "328/328 [==============================] - 0s 66us/sample - loss: 0.6822 - accuracy: 0.7774\n",
      "Epoch 8/10\n",
      "328/328 [==============================] - 0s 64us/sample - loss: 0.5348 - accuracy: 0.8201\n",
      "Epoch 9/10\n",
      "328/328 [==============================] - 0s 61us/sample - loss: 0.4700 - accuracy: 0.8445\n",
      "Epoch 10/10\n",
      "328/328 [==============================] - 0s 61us/sample - loss: 0.4128 - accuracy: 0.8628\n",
      "Train on 322 samples\n",
      "Epoch 1/10\n",
      "322/322 [==============================] - 12s 39ms/sample - loss: 2.2272 - accuracy: 0.1925\n",
      "Epoch 2/10\n",
      "322/322 [==============================] - 0s 86us/sample - loss: 1.8231 - accuracy: 0.4130\n",
      "Epoch 3/10\n",
      "322/322 [==============================] - 0s 68us/sample - loss: 1.2744 - accuracy: 0.6460\n",
      "Epoch 4/10\n",
      "322/322 [==============================] - 0s 65us/sample - loss: 0.9741 - accuracy: 0.6832\n",
      "Epoch 5/10\n",
      "322/322 [==============================] - 0s 66us/sample - loss: 0.6683 - accuracy: 0.7764\n",
      "Epoch 6/10\n",
      "322/322 [==============================] - 0s 66us/sample - loss: 0.5750 - accuracy: 0.8292\n",
      "Epoch 7/10\n",
      "322/322 [==============================] - 0s 65us/sample - loss: 0.4809 - accuracy: 0.8323\n",
      "Epoch 8/10\n",
      "322/322 [==============================] - 0s 72us/sample - loss: 0.4271 - accuracy: 0.8602\n",
      "Epoch 9/10\n",
      "322/322 [==============================] - 0s 68us/sample - loss: 0.3920 - accuracy: 0.8820\n",
      "Epoch 10/10\n",
      "322/322 [==============================] - 0s 67us/sample - loss: 0.3438 - accuracy: 0.8820\n",
      "Train on 309 samples\n",
      "Epoch 1/10\n",
      "309/309 [==============================] - 13s 40ms/sample - loss: 2.2554 - accuracy: 0.1359\n",
      "Epoch 2/10\n",
      "309/309 [==============================] - 0s 93us/sample - loss: 1.8770 - accuracy: 0.4628\n",
      "Epoch 3/10\n",
      "309/309 [==============================] - 0s 69us/sample - loss: 1.4006 - accuracy: 0.6246\n",
      "Epoch 4/10\n",
      "309/309 [==============================] - 0s 66us/sample - loss: 1.0562 - accuracy: 0.6926\n",
      "Epoch 5/10\n",
      "309/309 [==============================] - 0s 65us/sample - loss: 0.8380 - accuracy: 0.6893\n",
      "Epoch 6/10\n",
      "309/309 [==============================] - 0s 66us/sample - loss: 0.7192 - accuracy: 0.7443\n",
      "Epoch 7/10\n",
      "309/309 [==============================] - 0s 69us/sample - loss: 0.5288 - accuracy: 0.8252\n",
      "Epoch 8/10\n",
      "309/309 [==============================] - 0s 70us/sample - loss: 0.5277 - accuracy: 0.8414\n",
      "Epoch 9/10\n",
      "309/309 [==============================] - 0s 105us/sample - loss: 0.4395 - accuracy: 0.8608\n",
      "Epoch 10/10\n",
      "309/309 [==============================] - 0s 67us/sample - loss: 0.4279 - accuracy: 0.8738\n",
      "Train on 324 samples\n",
      "Epoch 1/10\n",
      "324/324 [==============================] - 13s 39ms/sample - loss: 2.2651 - accuracy: 0.1389\n",
      "Epoch 2/10\n",
      "324/324 [==============================] - 0s 79us/sample - loss: 1.9233 - accuracy: 0.4383\n",
      "Epoch 3/10\n",
      "324/324 [==============================] - 0s 70us/sample - loss: 1.4898 - accuracy: 0.5679\n",
      "Epoch 4/10\n",
      "324/324 [==============================] - 0s 67us/sample - loss: 1.0921 - accuracy: 0.6728\n",
      "Epoch 5/10\n",
      "324/324 [==============================] - 0s 65us/sample - loss: 0.8748 - accuracy: 0.7130\n",
      "Epoch 6/10\n",
      "324/324 [==============================] - 0s 65us/sample - loss: 0.6408 - accuracy: 0.7747\n",
      "Epoch 7/10\n",
      "324/324 [==============================] - 0s 65us/sample - loss: 0.5930 - accuracy: 0.8025\n",
      "Epoch 8/10\n",
      "324/324 [==============================] - 0s 75us/sample - loss: 0.4471 - accuracy: 0.8611\n",
      "Epoch 9/10\n",
      "324/324 [==============================] - 0s 64us/sample - loss: 0.3849 - accuracy: 0.8920\n",
      "Epoch 10/10\n",
      "324/324 [==============================] - 0s 66us/sample - loss: 0.3381 - accuracy: 0.8951\n",
      "Train on 337 samples\n",
      "Epoch 1/10\n",
      "337/337 [==============================] - 1s 3ms/sample - loss: 2.2345 - accuracy: 0.1899\n",
      "Epoch 2/10\n",
      "337/337 [==============================] - 0s 64us/sample - loss: 1.8058 - accuracy: 0.4748\n",
      "Epoch 3/10\n",
      "337/337 [==============================] - 0s 64us/sample - loss: 1.3540 - accuracy: 0.5905\n",
      "Epoch 4/10\n",
      "337/337 [==============================] - 0s 64us/sample - loss: 0.9656 - accuracy: 0.6884\n",
      "Epoch 5/10\n",
      "337/337 [==============================] - 0s 64us/sample - loss: 0.7878 - accuracy: 0.7418\n",
      "Epoch 6/10\n",
      "337/337 [==============================] - 0s 74us/sample - loss: 0.6178 - accuracy: 0.7834\n",
      "Epoch 7/10\n",
      "337/337 [==============================] - 0s 63us/sample - loss: 0.5053 - accuracy: 0.8368\n",
      "Epoch 8/10\n",
      "337/337 [==============================] - 0s 64us/sample - loss: 0.5012 - accuracy: 0.8427\n",
      "Epoch 9/10\n",
      "337/337 [==============================] - 0s 64us/sample - loss: 0.4278 - accuracy: 0.8427\n",
      "Epoch 10/10\n",
      "337/337 [==============================] - 0s 64us/sample - loss: 0.3538 - accuracy: 0.8754\n",
      "Train on 333 samples\n",
      "Epoch 1/10\n",
      "333/333 [==============================] - 13s 39ms/sample - loss: 2.2417 - accuracy: 0.1562\n",
      "Epoch 2/10\n",
      "333/333 [==============================] - 0s 70us/sample - loss: 1.8804 - accuracy: 0.4414\n",
      "Epoch 3/10\n",
      "333/333 [==============================] - 0s 110us/sample - loss: 1.4654 - accuracy: 0.5706\n",
      "Epoch 4/10\n",
      "333/333 [==============================] - 0s 66us/sample - loss: 1.0072 - accuracy: 0.7087\n",
      "Epoch 5/10\n",
      "333/333 [==============================] - 0s 66us/sample - loss: 0.8087 - accuracy: 0.7387\n",
      "Epoch 6/10\n",
      "333/333 [==============================] - 0s 65us/sample - loss: 0.7347 - accuracy: 0.7718\n",
      "Epoch 7/10\n",
      "333/333 [==============================] - 0s 66us/sample - loss: 0.5439 - accuracy: 0.8198\n",
      "Epoch 8/10\n",
      "333/333 [==============================] - 0s 64us/sample - loss: 0.4587 - accuracy: 0.8619\n",
      "Epoch 9/10\n",
      "333/333 [==============================] - 0s 67us/sample - loss: 0.4223 - accuracy: 0.8709\n",
      "Epoch 10/10\n",
      "333/333 [==============================] - 0s 66us/sample - loss: 0.3896 - accuracy: 0.8859\n",
      "Train on 346 samples\n",
      "Epoch 1/10\n",
      "346/346 [==============================] - 13s 37ms/sample - loss: 2.2232 - accuracy: 0.2399\n",
      "Epoch 2/10\n",
      "346/346 [==============================] - 0s 68us/sample - loss: 1.8045 - accuracy: 0.4740\n",
      "Epoch 3/10\n",
      "346/346 [==============================] - 0s 67us/sample - loss: 1.2818 - accuracy: 0.6561\n",
      "Epoch 4/10\n",
      "346/346 [==============================] - 0s 63us/sample - loss: 0.9692 - accuracy: 0.7110\n",
      "Epoch 5/10\n",
      "346/346 [==============================] - 0s 65us/sample - loss: 0.7417 - accuracy: 0.7861\n",
      "Epoch 6/10\n",
      "346/346 [==============================] - 0s 64us/sample - loss: 0.6442 - accuracy: 0.7803\n",
      "Epoch 7/10\n",
      "346/346 [==============================] - 0s 63us/sample - loss: 0.5001 - accuracy: 0.8555\n",
      "Epoch 8/10\n",
      "346/346 [==============================] - 0s 64us/sample - loss: 0.4670 - accuracy: 0.8410\n",
      "Epoch 9/10\n",
      "346/346 [==============================] - 0s 63us/sample - loss: 0.3779 - accuracy: 0.8931\n",
      "Epoch 10/10\n",
      "346/346 [==============================] - 0s 64us/sample - loss: 0.3685 - accuracy: 0.8786\n",
      "Train on 313 samples\n",
      "Epoch 1/10\n",
      "313/313 [==============================] - 13s 41ms/sample - loss: 2.2501 - accuracy: 0.1565\n",
      "Epoch 2/10\n",
      "313/313 [==============================] - 0s 73us/sample - loss: 1.8558 - accuracy: 0.4153\n",
      "Epoch 3/10\n",
      "313/313 [==============================] - 0s 68us/sample - loss: 1.3701 - accuracy: 0.6422\n",
      "Epoch 4/10\n",
      "313/313 [==============================] - 0s 65us/sample - loss: 1.0068 - accuracy: 0.7093\n",
      "Epoch 5/10\n",
      "313/313 [==============================] - 0s 68us/sample - loss: 0.8596 - accuracy: 0.7284\n",
      "Epoch 6/10\n",
      "313/313 [==============================] - 0s 66us/sample - loss: 0.6532 - accuracy: 0.8307\n",
      "Epoch 7/10\n",
      "313/313 [==============================] - 0s 67us/sample - loss: 0.5837 - accuracy: 0.7987\n",
      "Epoch 8/10\n",
      "313/313 [==============================] - 0s 67us/sample - loss: 0.5052 - accuracy: 0.8147\n",
      "Epoch 9/10\n",
      "313/313 [==============================] - 0s 67us/sample - loss: 0.4508 - accuracy: 0.8626\n",
      "Epoch 10/10\n",
      "313/313 [==============================] - 0s 67us/sample - loss: 0.3733 - accuracy: 0.8850\n",
      "Train on 364 samples\n"
     ]
    },
    {
     "name": "stdout",
     "output_type": "stream",
     "text": [
      "Epoch 1/10\n",
      "364/364 [==============================] - 1s 2ms/sample - loss: 2.2163 - accuracy: 0.1978\n",
      "Epoch 2/10\n",
      "364/364 [==============================] - 0s 64us/sample - loss: 1.7952 - accuracy: 0.5000\n",
      "Epoch 3/10\n",
      "364/364 [==============================] - 0s 62us/sample - loss: 1.2267 - accuracy: 0.6566\n",
      "Epoch 4/10\n",
      "364/364 [==============================] - 0s 62us/sample - loss: 0.8932 - accuracy: 0.7198\n",
      "Epoch 5/10\n",
      "364/364 [==============================] - 0s 61us/sample - loss: 0.7026 - accuracy: 0.7473\n",
      "Epoch 6/10\n",
      "364/364 [==============================] - 0s 61us/sample - loss: 0.5699 - accuracy: 0.8104\n",
      "Epoch 7/10\n",
      "364/364 [==============================] - 0s 62us/sample - loss: 0.4666 - accuracy: 0.8379\n",
      "Epoch 8/10\n",
      "364/364 [==============================] - 0s 62us/sample - loss: 0.3683 - accuracy: 0.8791\n",
      "Epoch 9/10\n",
      "364/364 [==============================] - 0s 61us/sample - loss: 0.3244 - accuracy: 0.8901\n",
      "Epoch 10/10\n",
      "364/364 [==============================] - 0s 61us/sample - loss: 0.2885 - accuracy: 0.8956\n",
      "Train on 350 samples\n",
      "Epoch 1/10\n",
      "350/350 [==============================] - 13s 37ms/sample - loss: 2.2491 - accuracy: 0.1857\n",
      "Epoch 2/10\n",
      "350/350 [==============================] - 0s 69us/sample - loss: 1.8318 - accuracy: 0.4886\n",
      "Epoch 3/10\n",
      "350/350 [==============================] - 0s 63us/sample - loss: 1.3538 - accuracy: 0.6229\n",
      "Epoch 4/10\n",
      "350/350 [==============================] - 0s 64us/sample - loss: 1.0812 - accuracy: 0.6514\n",
      "Epoch 5/10\n",
      "350/350 [==============================] - 0s 64us/sample - loss: 0.8800 - accuracy: 0.7257\n",
      "Epoch 6/10\n",
      "350/350 [==============================] - 0s 65us/sample - loss: 0.7125 - accuracy: 0.7429\n",
      "Epoch 7/10\n",
      "350/350 [==============================] - 0s 65us/sample - loss: 0.6008 - accuracy: 0.8314\n",
      "Epoch 8/10\n",
      "350/350 [==============================] - 0s 64us/sample - loss: 0.4830 - accuracy: 0.8571\n",
      "Epoch 9/10\n",
      "350/350 [==============================] - 0s 65us/sample - loss: 0.4674 - accuracy: 0.8343\n",
      "Epoch 10/10\n",
      "350/350 [==============================] - 0s 63us/sample - loss: 0.3694 - accuracy: 0.8743\n",
      "Train on 363 samples\n",
      "Epoch 1/10\n",
      "363/363 [==============================] - 13s 36ms/sample - loss: 2.2170 - accuracy: 0.2314\n",
      "Epoch 2/10\n",
      "363/363 [==============================] - 0s 69us/sample - loss: 1.7564 - accuracy: 0.5317\n",
      "Epoch 3/10\n",
      "363/363 [==============================] - 0s 63us/sample - loss: 1.2417 - accuracy: 0.6446\n",
      "Epoch 4/10\n",
      "363/363 [==============================] - 0s 65us/sample - loss: 0.9557 - accuracy: 0.6860\n",
      "Epoch 5/10\n",
      "363/363 [==============================] - 0s 64us/sample - loss: 0.7853 - accuracy: 0.7355\n",
      "Epoch 6/10\n",
      "363/363 [==============================] - 0s 64us/sample - loss: 0.6769 - accuracy: 0.7658\n",
      "Epoch 7/10\n",
      "363/363 [==============================] - 0s 65us/sample - loss: 0.5040 - accuracy: 0.8485\n",
      "Epoch 8/10\n",
      "363/363 [==============================] - 0s 63us/sample - loss: 0.4791 - accuracy: 0.8264\n",
      "Epoch 9/10\n",
      "363/363 [==============================] - 0s 68us/sample - loss: 0.4251 - accuracy: 0.8457\n",
      "Epoch 10/10\n",
      "363/363 [==============================] - 0s 61us/sample - loss: 0.3950 - accuracy: 0.8595\n",
      "Train on 327 samples\n",
      "Epoch 1/10\n",
      "327/327 [==============================] - 13s 40ms/sample - loss: 2.2230 - accuracy: 0.1804\n",
      "Epoch 2/10\n",
      "327/327 [==============================] - 0s 72us/sample - loss: 1.7875 - accuracy: 0.4434\n",
      "Epoch 3/10\n",
      "327/327 [==============================] - 0s 66us/sample - loss: 1.3371 - accuracy: 0.6147\n",
      "Epoch 4/10\n",
      "327/327 [==============================] - 0s 67us/sample - loss: 1.0009 - accuracy: 0.6942\n",
      "Epoch 5/10\n",
      "327/327 [==============================] - 0s 64us/sample - loss: 0.8515 - accuracy: 0.7217\n",
      "Epoch 6/10\n",
      "327/327 [==============================] - 0s 66us/sample - loss: 0.6528 - accuracy: 0.7982\n",
      "Epoch 7/10\n",
      "327/327 [==============================] - 0s 65us/sample - loss: 0.5584 - accuracy: 0.8135\n",
      "Epoch 8/10\n",
      "327/327 [==============================] - 0s 66us/sample - loss: 0.4979 - accuracy: 0.8440\n",
      "Epoch 9/10\n",
      "327/327 [==============================] - 0s 65us/sample - loss: 0.4618 - accuracy: 0.8624\n",
      "Epoch 10/10\n",
      "327/327 [==============================] - 0s 67us/sample - loss: 0.4046 - accuracy: 0.8563\n",
      "Train on 349 samples\n",
      "Epoch 1/10\n",
      "349/349 [==============================] - 13s 38ms/sample - loss: 2.2263 - accuracy: 0.1576\n",
      "Epoch 2/10\n",
      "349/349 [==============================] - 0s 66us/sample - loss: 1.7937 - accuracy: 0.4728\n",
      "Epoch 3/10\n",
      "349/349 [==============================] - 0s 64us/sample - loss: 1.4223 - accuracy: 0.5387\n",
      "Epoch 4/10\n",
      "349/349 [==============================] - 0s 65us/sample - loss: 1.0407 - accuracy: 0.6504\n",
      "Epoch 5/10\n",
      "349/349 [==============================] - 0s 62us/sample - loss: 0.8663 - accuracy: 0.7163\n",
      "Epoch 6/10\n",
      "349/349 [==============================] - 0s 61us/sample - loss: 0.6786 - accuracy: 0.7708\n",
      "Epoch 7/10\n",
      "349/349 [==============================] - 0s 62us/sample - loss: 0.5810 - accuracy: 0.8023\n",
      "Epoch 8/10\n",
      "349/349 [==============================] - 0s 64us/sample - loss: 0.4955 - accuracy: 0.8539\n",
      "Epoch 9/10\n",
      "349/349 [==============================] - 0s 62us/sample - loss: 0.4838 - accuracy: 0.8367\n",
      "Epoch 10/10\n",
      "349/349 [==============================] - 0s 67us/sample - loss: 0.3586 - accuracy: 0.8825\n",
      "Train on 309 samples\n",
      "Epoch 1/10\n",
      "309/309 [==============================] - 1s 3ms/sample - loss: 2.2487 - accuracy: 0.1456\n",
      "Epoch 2/10\n",
      "309/309 [==============================] - 0s 70us/sample - loss: 1.9216 - accuracy: 0.4498\n",
      "Epoch 3/10\n",
      "309/309 [==============================] - 0s 69us/sample - loss: 1.4442 - accuracy: 0.6149\n",
      "Epoch 4/10\n",
      "309/309 [==============================] - 0s 68us/sample - loss: 1.0846 - accuracy: 0.6764\n",
      "Epoch 5/10\n",
      "309/309 [==============================] - 0s 67us/sample - loss: 0.9363 - accuracy: 0.7120\n",
      "Epoch 6/10\n",
      "309/309 [==============================] - 0s 77us/sample - loss: 0.6849 - accuracy: 0.7605\n",
      "Epoch 7/10\n",
      "309/309 [==============================] - 0s 68us/sample - loss: 0.5779 - accuracy: 0.8188\n",
      "Epoch 8/10\n",
      "309/309 [==============================] - 0s 65us/sample - loss: 0.5202 - accuracy: 0.8317\n",
      "Epoch 9/10\n",
      "309/309 [==============================] - 0s 68us/sample - loss: 0.5058 - accuracy: 0.8285\n",
      "Epoch 10/10\n",
      "309/309 [==============================] - 0s 69us/sample - loss: 0.4047 - accuracy: 0.8738\n",
      "Train on 321 samples\n",
      "Epoch 1/10\n",
      "321/321 [==============================] - 13s 42ms/sample - loss: 2.2393 - accuracy: 0.1776\n",
      "Epoch 2/10\n",
      "321/321 [==============================] - 0s 70us/sample - loss: 1.8132 - accuracy: 0.4766\n",
      "Epoch 3/10\n",
      "321/321 [==============================] - 0s 67us/sample - loss: 1.3179 - accuracy: 0.6324\n",
      "Epoch 4/10\n",
      "321/321 [==============================] - 0s 66us/sample - loss: 0.9552 - accuracy: 0.7040\n",
      "Epoch 5/10\n",
      "321/321 [==============================] - 0s 65us/sample - loss: 0.7993 - accuracy: 0.7352\n",
      "Epoch 6/10\n",
      "321/321 [==============================] - 0s 64us/sample - loss: 0.6937 - accuracy: 0.7601\n",
      "Epoch 7/10\n",
      "321/321 [==============================] - 0s 69us/sample - loss: 0.5613 - accuracy: 0.8162\n",
      "Epoch 8/10\n",
      "321/321 [==============================] - 0s 67us/sample - loss: 0.4680 - accuracy: 0.8660\n",
      "Epoch 9/10\n",
      "321/321 [==============================] - 0s 65us/sample - loss: 0.4243 - accuracy: 0.8754\n",
      "Epoch 10/10\n",
      "321/321 [==============================] - 0s 67us/sample - loss: 0.3907 - accuracy: 0.8816\n"
     ]
    }
   ],
   "source": [
    "model.fit(pdata, plabels, nb_epochs=10)\n",
    "dpa_model_10.fit(pdata, plabels, nb_epochs=10)\n",
    "dpa_model_20.fit(pdata, plabels, nb_epochs=10)\n",
    "dpa_model_30.fit(pdata, plabels, nb_epochs=10)"
   ]
  },
  {
   "cell_type": "markdown",
   "id": "d7389971",
   "metadata": {},
   "source": [
    "# Evaluate the performance of the trained models on unpoisoned data\n",
    "The performance of the models appears normal. We see that for the DPA models, the performance drops slightly as the ensemble size increases"
   ]
  },
  {
   "cell_type": "code",
   "execution_count": 10,
   "id": "2f63b588",
   "metadata": {},
   "outputs": [
    {
     "name": "stdout",
     "output_type": "stream",
     "text": [
      "\n",
      "Clean test set accuracy (model): 98.26%\n"
     ]
    },
    {
     "data": {
      "image/png": "[encoded data removed]",
      "text/plain": [
       "<Figure size 432x288 with 1 Axes>"
      ]
     },
     "metadata": {
      "needs_background": "light"
     },
     "output_type": "display_data"
    },
    {
     "name": "stdout",
     "output_type": "stream",
     "text": [
      "Prediction: 0\n"
     ]
    }
   ],
   "source": [
    "clean_preds = np.argmax(model.predict(x_test), axis=1)\n",
    "clean_correct = np.sum(clean_preds == np.argmax(y_test, axis=1))\n",
    "clean_total = y_test.shape[0]\n",
    "\n",
    "clean_acc = clean_correct / clean_total\n",
    "print(\"\\nClean test set accuracy (model): %.2f%%\" % (clean_acc * 100))\n",
    "\n",
    "# Display image, label, and prediction for a clean sample to show how the poisoned model classifies a clean sample\n",
    "\n",
    "c = 0 # class to display\n",
    "i = 0 # image of the class to display\n",
    "\n",
    "c_idx = np.where(np.argmax(y_test, 1) == c)[0][i] # index of the image in clean arrays\n",
    "\n",
    "plt.imshow(x_test[c_idx].squeeze())\n",
    "plt.show()\n",
    "clean_label = c\n",
    "print(\"Prediction: \" + str(clean_preds[c_idx]))"
   ]
  },
  {
   "cell_type": "code",
   "execution_count": 11,
   "id": "2f29f09a",
   "metadata": {},
   "outputs": [
    {
     "name": "stdout",
     "output_type": "stream",
     "text": [
      "\n",
      "Clean test set accuracy (DPA model_10): 93.85%\n"
     ]
    },
    {
     "data": {
      "image/png": "[encoded data removed]",
      "text/plain": [
       "<Figure size 432x288 with 1 Axes>"
      ]
     },
     "metadata": {
      "needs_background": "light"
     },
     "output_type": "display_data"
    },
    {
     "name": "stdout",
     "output_type": "stream",
     "text": [
      "Prediction: 0\n"
     ]
    }
   ],
   "source": [
    "clean_preds = np.argmax(dpa_model_10.predict(x_test), axis=1)\n",
    "clean_correct = np.sum(clean_preds == np.argmax(y_test, axis=1))\n",
    "clean_total = y_test.shape[0]\n",
    "\n",
    "clean_acc = clean_correct / clean_total\n",
    "print(\"\\nClean test set accuracy (DPA model_10): %.2f%%\" % (clean_acc * 100))\n",
    "\n",
    "# Display image, label, and prediction for a clean sample to show how the poisoned model classifies a clean sample\n",
    "\n",
    "c = 0 # class to display\n",
    "i = 0 # image of the class to display\n",
    "\n",
    "c_idx = np.where(np.argmax(y_test, 1) == c)[0][i] # index of the image in clean arrays\n",
    "\n",
    "plt.imshow(x_test[c_idx].squeeze())\n",
    "plt.show()\n",
    "clean_label = c\n",
    "print(\"Prediction: \" + str(clean_preds[c_idx]))"
   ]
  },
  {
   "cell_type": "code",
   "execution_count": 12,
   "id": "af7b0bdd",
   "metadata": {},
   "outputs": [
    {
     "name": "stdout",
     "output_type": "stream",
     "text": [
      "\n",
      "Clean test set accuracy (DPA model_20): 91.04%\n"
     ]
    },
    {
     "data": {
      "image/png": "[encoded data removed]",
      "text/plain": [
       "<Figure size 432x288 with 1 Axes>"
      ]
     },
     "metadata": {
      "needs_background": "light"
     },
     "output_type": "display_data"
    },
    {
     "name": "stdout",
     "output_type": "stream",
     "text": [
      "Prediction: 0\n"
     ]
    }
   ],
   "source": [
    "clean_preds = np.argmax(dpa_model_20.predict(x_test), axis=1)\n",
    "clean_correct = np.sum(clean_preds == np.argmax(y_test, axis=1))\n",
    "clean_total = y_test.shape[0]\n",
    "\n",
    "clean_acc = clean_correct / clean_total\n",
    "print(\"\\nClean test set accuracy (DPA model_20): %.2f%%\" % (clean_acc * 100))\n",
    "\n",
    "# Display image, label, and prediction for a clean sample to show how the poisoned model classifies a clean sample\n",
    "\n",
    "c = 0 # class to display\n",
    "i = 0 # image of the class to display\n",
    "\n",
    "c_idx = np.where(np.argmax(y_test, 1) == c)[0][i] # index of the image in clean arrays\n",
    "\n",
    "plt.imshow(x_test[c_idx].squeeze())\n",
    "plt.show()\n",
    "clean_label = c\n",
    "print(\"Prediction: \" + str(clean_preds[c_idx]))"
   ]
  },
  {
   "cell_type": "code",
   "execution_count": 13,
   "id": "74d91009",
   "metadata": {},
   "outputs": [
    {
     "name": "stdout",
     "output_type": "stream",
     "text": [
      "\n",
      "Clean test set accuracy (DPA model_30): 89.10%\n"
     ]
    },
    {
     "data": {
      "image/png": "[encoded data removed]",
      "text/plain": [
       "<Figure size 432x288 with 1 Axes>"
      ]
     },
     "metadata": {
      "needs_background": "light"
     },
     "output_type": "display_data"
    },
    {
     "name": "stdout",
     "output_type": "stream",
     "text": [
      "Prediction: 0\n"
     ]
    }
   ],
   "source": [
    "clean_preds = np.argmax(dpa_model_30.predict(x_test), axis=1)\n",
    "clean_correct = np.sum(clean_preds == np.argmax(y_test, axis=1))\n",
    "clean_total = y_test.shape[0]\n",
    "\n",
    "clean_acc = clean_correct / clean_total\n",
    "print(\"\\nClean test set accuracy (DPA model_30): %.2f%%\" % (clean_acc * 100))\n",
    "\n",
    "# Display image, label, and prediction for a clean sample to show how the poisoned model classifies a clean sample\n",
    "\n",
    "c = 0 # class to display\n",
    "i = 0 # image of the class to display\n",
    "\n",
    "c_idx = np.where(np.argmax(y_test, 1) == c)[0][i] # index of the image in clean arrays\n",
    "\n",
    "plt.imshow(x_test[c_idx].squeeze())\n",
    "plt.show()\n",
    "clean_label = c\n",
    "print(\"Prediction: \" + str(clean_preds[c_idx]))"
   ]
  },
  {
   "cell_type": "markdown",
   "id": "d44d4bf3",
   "metadata": {},
   "source": [
    "# Evaluate the performance of the trained models on poisoned data\n",
    "When the trigger is added, we see a shift in performance. The single model performs the worst as no defense is in place to mitigate the effect of the poisoned. The DPA models show some robustnesss to the poison as they partition the training data, which spreads the effect of the poison between models in the ensemble."
   ]
  },
  {
   "cell_type": "code",
   "execution_count": 14,
   "id": "1cd59ae2",
   "metadata": {},
   "outputs": [
    {
     "name": "stdout",
     "output_type": "stream",
     "text": [
      "\n",
      "Poison test set accuracy (model): 0.79%\n"
     ]
    },
    {
     "data": {
      "image/png": "[encoded data removed]",
      "text/plain": [
       "<Figure size 432x288 with 1 Axes>"
      ]
     },
     "metadata": {
      "needs_background": "light"
     },
     "output_type": "display_data"
    },
    {
     "name": "stdout",
     "output_type": "stream",
     "text": [
      "Prediction: 9\n"
     ]
    }
   ],
   "source": [
    "not_target = np.logical_not(np.all(y_test == targets, axis=1))\n",
    "px_test, py_test = backdoor.poison(x_test[not_target], y_test[not_target])\n",
    "\n",
    "poison_preds = np.argmax(model.predict(px_test), axis=1)\n",
    "clean_correct = np.sum(poison_preds == np.argmax(y_test[not_target], axis=1))\n",
    "clean_total = y_test.shape[0]\n",
    "\n",
    "clean_acc = clean_correct / clean_total\n",
    "print(\"\\nPoison test set accuracy (model): %.2f%%\" % (clean_acc * 100))\n",
    "\n",
    "c = 0 # index to display\n",
    "plt.imshow(px_test[c].squeeze())\n",
    "plt.show()\n",
    "clean_label = c\n",
    "print(\"Prediction: \" + str(poison_preds[c]))"
   ]
  },
  {
   "cell_type": "code",
   "execution_count": 15,
   "id": "500e4154",
   "metadata": {},
   "outputs": [
    {
     "name": "stdout",
     "output_type": "stream",
     "text": [
      "\n",
      "Poison test set accuracy (DPA model_10): 66.82%\n"
     ]
    },
    {
     "data": {
      "image/png": "[encoded data removed]",
      "text/plain": [
       "<Figure size 432x288 with 1 Axes>"
      ]
     },
     "metadata": {
      "needs_background": "light"
     },
     "output_type": "display_data"
    },
    {
     "name": "stdout",
     "output_type": "stream",
     "text": [
      "Prediction: 7\n"
     ]
    }
   ],
   "source": [
    "poison_preds = np.argmax(dpa_model_10.predict(px_test), axis=1)\n",
    "clean_correct = np.sum(poison_preds == np.argmax(y_test[not_target], axis=1))\n",
    "clean_total = y_test.shape[0]\n",
    "\n",
    "clean_acc = clean_correct / clean_total\n",
    "print(\"\\nPoison test set accuracy (DPA model_10): %.2f%%\" % (clean_acc * 100))\n",
    "\n",
    "c = 0 # index to display\n",
    "plt.imshow(px_test[c].squeeze())\n",
    "plt.show()\n",
    "clean_label = c\n",
    "print(\"Prediction: \" + str(poison_preds[c]))"
   ]
  },
  {
   "cell_type": "code",
   "execution_count": 16,
   "id": "54e42d16",
   "metadata": {},
   "outputs": [
    {
     "name": "stdout",
     "output_type": "stream",
     "text": [
      "\n",
      "Poison test set accuracy (DPA model_20): 75.28%\n"
     ]
    },
    {
     "data": {
      "image/png": "[encoded data removed]",
      "text/plain": [
       "<Figure size 432x288 with 1 Axes>"
      ]
     },
     "metadata": {
      "needs_background": "light"
     },
     "output_type": "display_data"
    },
    {
     "name": "stdout",
     "output_type": "stream",
     "text": [
      "Prediction: 7\n"
     ]
    }
   ],
   "source": [
    "poison_preds = np.argmax(dpa_model_20.predict(px_test), axis=1)\n",
    "clean_correct = np.sum(poison_preds == np.argmax(y_test[not_target], axis=1))\n",
    "clean_total = y_test.shape[0]\n",
    "\n",
    "clean_acc = clean_correct / clean_total\n",
    "print(\"\\nPoison test set accuracy (DPA model_20): %.2f%%\" % (clean_acc * 100))\n",
    "\n",
    "c = 0 # index to display\n",
    "plt.imshow(px_test[c].squeeze())\n",
    "plt.show()\n",
    "clean_label = c\n",
    "print(\"Prediction: \" + str(poison_preds[c]))"
   ]
  },
  {
   "cell_type": "code",
   "execution_count": 17,
   "id": "89dc71c1",
   "metadata": {},
   "outputs": [
    {
     "name": "stdout",
     "output_type": "stream",
     "text": [
      "\n",
      "Poison test set accuracy (DPA model_30): 74.20%\n"
     ]
    },
    {
     "data": {
      "image/png": "[encoded data removed]",
      "text/plain": [
       "<Figure size 432x288 with 1 Axes>"
      ]
     },
     "metadata": {
      "needs_background": "light"
     },
     "output_type": "display_data"
    },
    {
     "name": "stdout",
     "output_type": "stream",
     "text": [
      "Prediction: 7\n"
     ]
    }
   ],
   "source": [
    "poison_preds = np.argmax(dpa_model_30.predict(px_test), axis=1)\n",
    "clean_correct = np.sum(poison_preds == np.argmax(y_test[not_target], axis=1))\n",
    "clean_total = y_test.shape[0]\n",
    "\n",
    "clean_acc = clean_correct / clean_total\n",
    "print(\"\\nPoison test set accuracy (DPA model_30): %.2f%%\" % (clean_acc * 100))\n",
    "\n",
    "c = 0 # index to display\n",
    "plt.imshow(px_test[c].squeeze())\n",
    "plt.show()\n",
    "clean_label = c\n",
    "print(\"Prediction: \" + str(poison_preds[c]))"
   ]
  },
  {
   "cell_type": "code",
   "execution_count": null,
   "id": "3963c866",
   "metadata": {},
   "outputs": [],
   "source": []
  }
 ],
 "metadata": {
  "kernelspec": {
   "display_name": "Python 3",
   "language": "python",
   "name": "python3"
  },
  "language_info": {
   "codemirror_mode": {
    "name": "ipython",
    "version": 3
   },
   "file_extension": ".py",
   "mimetype": "text/x-python",
   "name": "python",
   "nbconvert_exporter": "python",
   "pygments_lexer": "ipython3",
   "version": "3.8.8"
  }
 },
 "nbformat": 4,
 "nbformat_minor": 5
}
