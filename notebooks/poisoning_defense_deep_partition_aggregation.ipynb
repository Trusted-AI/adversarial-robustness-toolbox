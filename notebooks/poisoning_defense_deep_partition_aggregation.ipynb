{
 "cells": [
  {
   "cell_type": "code",
   "execution_count": 1,
   "id": "fc895cf7",
   "metadata": {},
   "outputs": [],
   "source": [
    "from __future__ import absolute_import, division, print_function, unicode_literals\n",
    "\n",
    "import os, sys\n",
    "from os.path import abspath\n",
    "\n",
    "module_path = os.path.abspath(os.path.join('..'))\n",
    "if module_path not in sys.path:\n",
    "    sys.path.append(module_path)\n",
    "\n",
    "import warnings\n",
    "warnings.filterwarnings('ignore')\n",
    "import keras.backend as k\n",
    "from keras.models import Sequential\n",
    "from keras.layers import Dense, Flatten, Conv2D, MaxPooling2D, Activation, Dropout\n",
    "import numpy as np\n",
    "import matplotlib.pyplot as plt\n",
    "%matplotlib inline\n",
    "\n",
    "import tensorflow as tf\n",
    "tf.compat.v1.disable_eager_execution()\n",
    "tf.get_logger().setLevel('ERROR')\n",
    "\n",
    "from art.estimators.classification import KerasClassifier\n",
    "from art.attacks.poisoning import PoisoningAttackBackdoor, PoisoningAttackCleanLabelBackdoor\n",
    "from art.attacks.poisoning.perturbations import add_pattern_bd\n",
    "from art.utils import load_mnist, preprocess, to_categorical\n",
    "from art.defences.trainer import AdversarialTrainerMadryPGD\n",
    "\n",
    "\n",
    "from art.estimators.classification.deep_partition_ensemble import DeepPartitionEnsemble"
   ]
  },
  {
   "cell_type": "markdown",
   "id": "1816da6f",
   "metadata": {},
   "source": [
    "# Load the Data"
   ]
  },
  {
   "cell_type": "code",
   "execution_count": 2,
   "id": "fdd77e03",
   "metadata": {},
   "outputs": [],
   "source": [
    "(x_raw, y_raw), (x_raw_test, y_raw_test), min_, max_ = load_mnist(raw=True)\n",
    "\n",
    "# Random Selection:\n",
    "n_train = np.shape(x_raw)[0]\n",
    "num_selection = 10000\n",
    "random_selection_indices = np.random.choice(n_train, num_selection)\n",
    "x_raw = x_raw[random_selection_indices]\n",
    "y_raw = y_raw[random_selection_indices]\n",
    "\n",
    "# Poison training data\n",
    "percent_poison = .33\n",
    "x_train, y_train = preprocess(x_raw, y_raw)\n",
    "x_train = np.expand_dims(x_train, axis=3)\n",
    "\n",
    "x_test, y_test = preprocess(x_raw_test, y_raw_test)\n",
    "x_test = np.expand_dims(x_test, axis=3)\n",
    "\n",
    "# Shuffle training data\n",
    "n_train = np.shape(y_train)[0]\n",
    "shuffled_indices = np.arange(n_train)\n",
    "np.random.shuffle(shuffled_indices)\n",
    "x_train = x_train[shuffled_indices]\n",
    "y_train = y_train[shuffled_indices]"
   ]
  },
  {
   "cell_type": "markdown",
   "id": "9b1eb1c0",
   "metadata": {},
   "source": [
    "# Initialize the Model Architecture"
   ]
  },
  {
   "cell_type": "code",
   "execution_count": 3,
   "id": "7c0c7c1a",
   "metadata": {},
   "outputs": [],
   "source": [
    "# Create Keras convolutional neural network - basic architecture from Keras examples\n",
    "# Source here: https://github.com/keras-team/keras/blob/master/examples/mnist_cnn.py\n",
    "def create_model():    \n",
    "    model = Sequential()\n",
    "    model.add(Conv2D(32, kernel_size=(3, 3), activation='relu', input_shape=x_train.shape[1:]))\n",
    "    model.add(Conv2D(64, (3, 3), activation='relu'))\n",
    "    model.add(MaxPooling2D(pool_size=(2, 2)))\n",
    "    model.add(Dropout(0.25))\n",
    "    model.add(Flatten())\n",
    "    model.add(Dense(128, activation='relu'))\n",
    "    model.add(Dropout(0.5))\n",
    "    model.add(Dense(10, activation='softmax'))\n",
    "\n",
    "    model.compile(loss='categorical_crossentropy', optimizer='adam', metrics=['accuracy'])\n",
    "    return model"
   ]
  },
  {
   "cell_type": "markdown",
   "id": "1b6b105a",
   "metadata": {},
   "source": [
    "# Set up the Model Backdoor"
   ]
  },
  {
   "cell_type": "code",
   "execution_count": 4,
   "id": "43b4b127",
   "metadata": {},
   "outputs": [
    {
     "data": {
      "text/plain": [
       "<matplotlib.image.AxesImage at 0x7fcfd301fb50>"
      ]
     },
     "execution_count": 4,
     "metadata": {},
     "output_type": "execute_result"
    },
    {
     "data": {
      "image/png": "[encoded data removed]",
      "text/plain": [
       "<Figure size 432x288 with 1 Axes>"
      ]
     },
     "metadata": {
      "needs_background": "light"
     },
     "output_type": "display_data"
    }
   ],
   "source": [
    "backdoor = PoisoningAttackBackdoor(add_pattern_bd)\n",
    "example_target = np.array([0, 0, 0, 0, 0, 0, 0, 0, 0, 1])\n",
    "pdata, plabels = backdoor.poison(x_test, y=example_target)\n",
    "\n",
    "plt.imshow(pdata[0].squeeze())"
   ]
  },
  {
   "cell_type": "markdown",
   "id": "6ffec3ec",
   "metadata": {},
   "source": [
    "# Create the poison data\n",
    "For this example, we will select 9 as the target class. Thus, the adversary's goal is to poison the model so adding a trigger will result in the trained model misclassifying the triggered input as a 9.\n",
    "\n",
    "First, the adversary will create a proxy classifier (i.e., a classifier that is similar to the target classifier). As the clean label attack generates noise using PGD in order to encourage the trained classifier to rely on the trigger, it is important that the generated noise be transferable. Thus, adversarial training is used."
   ]
  },
  {
   "cell_type": "code",
   "execution_count": 5,
   "id": "7aac5f5c",
   "metadata": {},
   "outputs": [
    {
     "data": {
      "application/vnd.jupyter.widget-view+json": {
       "model_id": "f57360b036904c72abfd151ed9507a3f",
       "version_major": 2,
       "version_minor": 0
      },
      "text/plain": [
       "Precompute adv samples:   0%|          | 0/1 [00:00<?, ?it/s]"
      ]
     },
     "metadata": {},
     "output_type": "display_data"
    },
    {
     "data": {
      "application/vnd.jupyter.widget-view+json": {
       "model_id": "814fa8e0a11542468f922908d5b41baa",
       "version_major": 2,
       "version_minor": 0
      },
      "text/plain": [
       "Adversarial training epochs:   0%|          | 0/10 [00:00<?, ?it/s]"
      ]
     },
     "metadata": {},
     "output_type": "display_data"
    }
   ],
   "source": [
    "# Poison some percentage of all non-nines to nines\n",
    "targets = to_categorical([9], 10)[0] \n",
    "\n",
    "proxy = AdversarialTrainerMadryPGD(KerasClassifier(create_model()), nb_epochs=10, eps=0.15, eps_step=0.001)\n",
    "proxy.fit(x_train, y_train)"
   ]
  },
  {
   "cell_type": "code",
   "execution_count": 6,
   "id": "46364ff1",
   "metadata": {},
   "outputs": [
    {
     "data": {
      "application/vnd.jupyter.widget-view+json": {
       "model_id": "7fe361f7739445fa869afd3fcdc977fa",
       "version_major": 2,
       "version_minor": 0
      },
      "text/plain": [
       "PGD - Random Initializations:   0%|          | 0/1 [00:00<?, ?it/s]"
      ]
     },
     "metadata": {},
     "output_type": "display_data"
    },
    {
     "data": {
      "application/vnd.jupyter.widget-view+json": {
       "model_id": "",
       "version_major": 2,
       "version_minor": 0
      },
      "text/plain": [
       "PGD - Iterations:   0%|          | 0/200 [00:00<?, ?it/s]"
      ]
     },
     "metadata": {},
     "output_type": "display_data"
    },
    {
     "data": {
      "application/vnd.jupyter.widget-view+json": {
       "model_id": "c3b15a8e628c4bb3bdd8c1e234ae82e8",
       "version_major": 2,
       "version_minor": 0
      },
      "text/plain": [
       "PGD - Random Initializations:   0%|          | 0/1 [00:00<?, ?it/s]"
      ]
     },
     "metadata": {},
     "output_type": "display_data"
    },
    {
     "data": {
      "application/vnd.jupyter.widget-view+json": {
       "model_id": "",
       "version_major": 2,
       "version_minor": 0
      },
      "text/plain": [
       "PGD - Iterations:   0%|          | 0/200 [00:00<?, ?it/s]"
      ]
     },
     "metadata": {},
     "output_type": "display_data"
    },
    {
     "data": {
      "application/vnd.jupyter.widget-view+json": {
       "model_id": "6a22de3c51a14b0e81f4be6a5e480082",
       "version_major": 2,
       "version_minor": 0
      },
      "text/plain": [
       "PGD - Random Initializations:   0%|          | 0/1 [00:00<?, ?it/s]"
      ]
     },
     "metadata": {},
     "output_type": "display_data"
    },
    {
     "data": {
      "application/vnd.jupyter.widget-view+json": {
       "model_id": "",
       "version_major": 2,
       "version_minor": 0
      },
      "text/plain": [
       "PGD - Iterations:   0%|          | 0/200 [00:00<?, ?it/s]"
      ]
     },
     "metadata": {},
     "output_type": "display_data"
    },
    {
     "data": {
      "application/vnd.jupyter.widget-view+json": {
       "model_id": "8664d522eb2b4bb0bb1be5c080986d5d",
       "version_major": 2,
       "version_minor": 0
      },
      "text/plain": [
       "PGD - Random Initializations:   0%|          | 0/1 [00:00<?, ?it/s]"
      ]
     },
     "metadata": {},
     "output_type": "display_data"
    },
    {
     "data": {
      "application/vnd.jupyter.widget-view+json": {
       "model_id": "",
       "version_major": 2,
       "version_minor": 0
      },
      "text/plain": [
       "PGD - Iterations:   0%|          | 0/200 [00:00<?, ?it/s]"
      ]
     },
     "metadata": {},
     "output_type": "display_data"
    },
    {
     "data": {
      "application/vnd.jupyter.widget-view+json": {
       "model_id": "e916423fed1b4f568f29fcad83bfd9b6",
       "version_major": 2,
       "version_minor": 0
      },
      "text/plain": [
       "PGD - Random Initializations:   0%|          | 0/1 [00:00<?, ?it/s]"
      ]
     },
     "metadata": {},
     "output_type": "display_data"
    },
    {
     "data": {
      "application/vnd.jupyter.widget-view+json": {
       "model_id": "",
       "version_major": 2,
       "version_minor": 0
      },
      "text/plain": [
       "PGD - Iterations:   0%|          | 0/200 [00:00<?, ?it/s]"
      ]
     },
     "metadata": {},
     "output_type": "display_data"
    },
    {
     "data": {
      "application/vnd.jupyter.widget-view+json": {
       "model_id": "308c9b99217b41e4b12d60e259813f35",
       "version_major": 2,
       "version_minor": 0
      },
      "text/plain": [
       "PGD - Random Initializations:   0%|          | 0/1 [00:00<?, ?it/s]"
      ]
     },
     "metadata": {},
     "output_type": "display_data"
    },
    {
     "data": {
      "application/vnd.jupyter.widget-view+json": {
       "model_id": "",
       "version_major": 2,
       "version_minor": 0
      },
      "text/plain": [
       "PGD - Iterations:   0%|          | 0/200 [00:00<?, ?it/s]"
      ]
     },
     "metadata": {},
     "output_type": "display_data"
    },
    {
     "data": {
      "application/vnd.jupyter.widget-view+json": {
       "model_id": "4cdb41f793cc43d7b52cf445aceebfc9",
       "version_major": 2,
       "version_minor": 0
      },
      "text/plain": [
       "PGD - Random Initializations:   0%|          | 0/1 [00:00<?, ?it/s]"
      ]
     },
     "metadata": {},
     "output_type": "display_data"
    },
    {
     "data": {
      "application/vnd.jupyter.widget-view+json": {
       "model_id": "",
       "version_major": 2,
       "version_minor": 0
      },
      "text/plain": [
       "PGD - Iterations:   0%|          | 0/200 [00:00<?, ?it/s]"
      ]
     },
     "metadata": {},
     "output_type": "display_data"
    },
    {
     "data": {
      "application/vnd.jupyter.widget-view+json": {
       "model_id": "9d5b2808bf1b49b081d1ada37d5d7979",
       "version_major": 2,
       "version_minor": 0
      },
      "text/plain": [
       "PGD - Random Initializations:   0%|          | 0/1 [00:00<?, ?it/s]"
      ]
     },
     "metadata": {},
     "output_type": "display_data"
    },
    {
     "data": {
      "application/vnd.jupyter.widget-view+json": {
       "model_id": "",
       "version_major": 2,
       "version_minor": 0
      },
      "text/plain": [
       "PGD - Iterations:   0%|          | 0/200 [00:00<?, ?it/s]"
      ]
     },
     "metadata": {},
     "output_type": "display_data"
    },
    {
     "data": {
      "application/vnd.jupyter.widget-view+json": {
       "model_id": "a2565558de894641bd0698738be37485",
       "version_major": 2,
       "version_minor": 0
      },
      "text/plain": [
       "PGD - Random Initializations:   0%|          | 0/1 [00:00<?, ?it/s]"
      ]
     },
     "metadata": {},
     "output_type": "display_data"
    },
    {
     "data": {
      "application/vnd.jupyter.widget-view+json": {
       "model_id": "",
       "version_major": 2,
       "version_minor": 0
      },
      "text/plain": [
       "PGD - Iterations:   0%|          | 0/200 [00:00<?, ?it/s]"
      ]
     },
     "metadata": {},
     "output_type": "display_data"
    },
    {
     "data": {
      "application/vnd.jupyter.widget-view+json": {
       "model_id": "9afab44d61de4041a8d5ba49166c94c7",
       "version_major": 2,
       "version_minor": 0
      },
      "text/plain": [
       "PGD - Random Initializations:   0%|          | 0/1 [00:00<?, ?it/s]"
      ]
     },
     "metadata": {},
     "output_type": "display_data"
    },
    {
     "data": {
      "application/vnd.jupyter.widget-view+json": {
       "model_id": "",
       "version_major": 2,
       "version_minor": 0
      },
      "text/plain": [
       "PGD - Iterations:   0%|          | 0/200 [00:00<?, ?it/s]"
      ]
     },
     "metadata": {},
     "output_type": "display_data"
    }
   ],
   "source": [
    "attack = PoisoningAttackCleanLabelBackdoor(backdoor=backdoor, proxy_classifier=proxy.get_classifier(),\n",
    "                                           target=targets, pp_poison=percent_poison, norm=2, eps=5,\n",
    "                                           eps_step=0.1, max_iter=200)\n",
    "pdata, plabels = attack.poison(x_train, y_train)"
   ]
  },
  {
   "cell_type": "code",
   "execution_count": 7,
   "id": "a61a524c",
   "metadata": {},
   "outputs": [
    {
     "name": "stdout",
     "output_type": "stream",
     "text": [
      "957\n"
     ]
    },
    {
     "data": {
      "image/png": "[encoded data removed]",
      "text/plain": [
       "<Figure size 432x288 with 1 Axes>"
      ]
     },
     "metadata": {
      "needs_background": "light"
     },
     "output_type": "display_data"
    },
    {
     "name": "stdout",
     "output_type": "stream",
     "text": [
      "Index: 5 Label: 9\n"
     ]
    }
   ],
   "source": [
    "poisoned = pdata[np.all(plabels == targets, axis=1)]\n",
    "poisoned_labels = plabels[np.all(plabels == targets, axis=1)]\n",
    "print(len(poisoned))\n",
    "for i in range(len(poisoned)):\n",
    "    if poisoned[i][0][0] != 0:\n",
    "        plt.imshow(poisoned[i].squeeze())\n",
    "        plt.show()\n",
    "        print(f\"Index: {i} Label: {np.argmax(poisoned_labels[i])}\")\n",
    "        break"
   ]
  },
  {
   "cell_type": "markdown",
   "id": "8e8bbe9c",
   "metadata": {},
   "source": [
    "# Initialize the classification models\n",
    "We will initialize four models. The first is a single model architecture. The other three are DPA models with varying ensemble sizes to demonstrate the tradeoff between clean accuracy and poison accuracy. This make take some time because of the model copying."
   ]
  },
  {
   "cell_type": "code",
   "execution_count": 8,
   "id": "005f0374",
   "metadata": {},
   "outputs": [],
   "source": [
    "model = KerasClassifier(create_model())\n",
    "dpa_model_10 = DeepPartitionEnsemble(model, ensemble_size=10)\n",
    "dpa_model_20 = DeepPartitionEnsemble(model, ensemble_size=20)\n",
    "dpa_model_30 = DeepPartitionEnsemble(model, ensemble_size=30)\n"
   ]
  },
  {
   "cell_type": "markdown",
   "id": "0668c63f",
   "metadata": {},
   "source": [
    "Train the models on the poisoned data"
   ]
  },
  {
   "cell_type": "code",
   "execution_count": 9,
   "id": "80f2917b",
   "metadata": {},
   "outputs": [
    {
     "name": "stdout",
     "output_type": "stream",
     "text": [
      "Train on 10000 samples\n",
      "Epoch 1/10\n",
      "10000/10000 [==============================] - 1s 105us/sample - loss: 0.6879 - accuracy: 0.7870\n",
      "Epoch 2/10\n",
      "10000/10000 [==============================] - 1s 51us/sample - loss: 0.2275 - accuracy: 0.9339\n",
      "Epoch 3/10\n",
      "10000/10000 [==============================] - 1s 52us/sample - loss: 0.1439 - accuracy: 0.9557\n",
      "Epoch 4/10\n",
      "10000/10000 [==============================] - 1s 51us/sample - loss: 0.1099 - accuracy: 0.9675\n",
      "Epoch 5/10\n",
      "10000/10000 [==============================] - 1s 51us/sample - loss: 0.0875 - accuracy: 0.9743\n",
      "Epoch 6/10\n",
      "10000/10000 [==============================] - 1s 51us/sample - loss: 0.0712 - accuracy: 0.9793\n",
      "Epoch 7/10\n",
      "10000/10000 [==============================] - 1s 52us/sample - loss: 0.0681 - accuracy: 0.9777\n",
      "Epoch 8/10\n",
      "10000/10000 [==============================] - 1s 51us/sample - loss: 0.0467 - accuracy: 0.9847\n",
      "Epoch 9/10\n",
      "10000/10000 [==============================] - 1s 51us/sample - loss: 0.0424 - accuracy: 0.9876\n",
      "Epoch 10/10\n",
      "10000/10000 [==============================] - 1s 51us/sample - loss: 0.0382 - accuracy: 0.9875\n",
      "Train on 961 samples\n",
      "Epoch 1/10\n",
      "961/961 [==============================] - 9s 9ms/sample - loss: 1.8653 - accuracy: 0.4339\n",
      "Epoch 2/10\n",
      "961/961 [==============================] - 0s 55us/sample - loss: 0.9416 - accuracy: 0.6785\n",
      "Epoch 3/10\n",
      "961/961 [==============================] - 0s 54us/sample - loss: 0.6542 - accuracy: 0.7908\n",
      "Epoch 4/10\n",
      "961/961 [==============================] - 0s 52us/sample - loss: 0.4830 - accuracy: 0.8408\n",
      "Epoch 5/10\n",
      "961/961 [==============================] - 0s 53us/sample - loss: 0.3970 - accuracy: 0.8730\n",
      "Epoch 6/10\n",
      "961/961 [==============================] - 0s 53us/sample - loss: 0.3229 - accuracy: 0.9032\n",
      "Epoch 7/10\n",
      "961/961 [==============================] - 0s 53us/sample - loss: 0.2604 - accuracy: 0.9126\n",
      "Epoch 8/10\n",
      "961/961 [==============================] - 0s 53us/sample - loss: 0.2045 - accuracy: 0.9303\n",
      "Epoch 9/10\n",
      "961/961 [==============================] - 0s 53us/sample - loss: 0.1648 - accuracy: 0.9542\n",
      "Epoch 10/10\n",
      "961/961 [==============================] - 0s 54us/sample - loss: 0.1564 - accuracy: 0.9511\n",
      "Train on 1040 samples\n",
      "Epoch 1/10\n",
      "1040/1040 [==============================] - 1s 572us/sample - loss: 1.8364 - accuracy: 0.3808\n",
      "Epoch 2/10\n",
      "1040/1040 [==============================] - 0s 54us/sample - loss: 0.9395 - accuracy: 0.7038\n",
      "Epoch 3/10\n",
      "1040/1040 [==============================] - 0s 53us/sample - loss: 0.6502 - accuracy: 0.7913\n",
      "Epoch 4/10\n",
      "1040/1040 [==============================] - 0s 53us/sample - loss: 0.5287 - accuracy: 0.8279\n",
      "Epoch 5/10\n",
      "1040/1040 [==============================] - 0s 54us/sample - loss: 0.4402 - accuracy: 0.8587\n",
      "Epoch 6/10\n",
      "1040/1040 [==============================] - 0s 53us/sample - loss: 0.3502 - accuracy: 0.8913\n",
      "Epoch 7/10\n",
      "1040/1040 [==============================] - 0s 55us/sample - loss: 0.3019 - accuracy: 0.9096\n",
      "Epoch 8/10\n",
      "1040/1040 [==============================] - 0s 54us/sample - loss: 0.2472 - accuracy: 0.9163\n",
      "Epoch 9/10\n",
      "1040/1040 [==============================] - 0s 53us/sample - loss: 0.2027 - accuracy: 0.9394\n",
      "Epoch 10/10\n",
      "1040/1040 [==============================] - 0s 54us/sample - loss: 0.1679 - accuracy: 0.9510\n",
      "Train on 988 samples\n",
      "Epoch 1/10\n",
      "988/988 [==============================] - 9s 9ms/sample - loss: 1.8526 - accuracy: 0.3978\n",
      "Epoch 2/10\n",
      "988/988 [==============================] - 0s 54us/sample - loss: 0.9549 - accuracy: 0.6812\n",
      "Epoch 3/10\n",
      "988/988 [==============================] - 0s 53us/sample - loss: 0.6674 - accuracy: 0.7864\n",
      "Epoch 4/10\n",
      "988/988 [==============================] - 0s 53us/sample - loss: 0.5295 - accuracy: 0.8219\n",
      "Epoch 5/10\n",
      "988/988 [==============================] - 0s 53us/sample - loss: 0.4049 - accuracy: 0.8715\n",
      "Epoch 6/10\n",
      "988/988 [==============================] - 0s 52us/sample - loss: 0.2809 - accuracy: 0.9028\n",
      "Epoch 7/10\n",
      "988/988 [==============================] - 0s 53us/sample - loss: 0.2446 - accuracy: 0.9150\n",
      "Epoch 8/10\n",
      "988/988 [==============================] - 0s 52us/sample - loss: 0.2142 - accuracy: 0.9231\n",
      "Epoch 9/10\n",
      "988/988 [==============================] - 0s 53us/sample - loss: 0.1767 - accuracy: 0.9393\n",
      "Epoch 10/10\n",
      "988/988 [==============================] - 0s 51us/sample - loss: 0.1370 - accuracy: 0.9514\n",
      "Train on 983 samples\n",
      "Epoch 1/10\n",
      "983/983 [==============================] - 9s 9ms/sample - loss: 1.8752 - accuracy: 0.3957\n",
      "Epoch 2/10\n",
      "983/983 [==============================] - 0s 54us/sample - loss: 0.9625 - accuracy: 0.6948\n",
      "Epoch 3/10\n",
      "983/983 [==============================] - 0s 52us/sample - loss: 0.6611 - accuracy: 0.7792\n",
      "Epoch 4/10\n",
      "983/983 [==============================] - 0s 53us/sample - loss: 0.5149 - accuracy: 0.8311\n",
      "Epoch 5/10\n",
      "983/983 [==============================] - 0s 53us/sample - loss: 0.3772 - accuracy: 0.8789\n",
      "Epoch 6/10\n",
      "983/983 [==============================] - 0s 52us/sample - loss: 0.3482 - accuracy: 0.8901\n",
      "Epoch 7/10\n",
      "983/983 [==============================] - 0s 52us/sample - loss: 0.2651 - accuracy: 0.9196\n",
      "Epoch 8/10\n",
      "983/983 [==============================] - 0s 52us/sample - loss: 0.2234 - accuracy: 0.9318\n",
      "Epoch 9/10\n",
      "983/983 [==============================] - 0s 51us/sample - loss: 0.1985 - accuracy: 0.9349\n",
      "Epoch 10/10\n",
      "983/983 [==============================] - 0s 53us/sample - loss: 0.1622 - accuracy: 0.9471\n",
      "Train on 1009 samples\n",
      "Epoch 1/10\n",
      "1009/1009 [==============================] - 9s 9ms/sample - loss: 1.8974 - accuracy: 0.4054\n",
      "Epoch 2/10\n",
      "1009/1009 [==============================] - 0s 53us/sample - loss: 0.9712 - accuracy: 0.6868\n",
      "Epoch 3/10\n",
      "1009/1009 [==============================] - 0s 56us/sample - loss: 0.6651 - accuracy: 0.7919\n",
      "Epoch 4/10\n",
      "1009/1009 [==============================] - 0s 64us/sample - loss: 0.4878 - accuracy: 0.8404\n",
      "Epoch 5/10\n",
      "1009/1009 [==============================] - 0s 51us/sample - loss: 0.3912 - accuracy: 0.8840\n",
      "Epoch 6/10\n",
      "1009/1009 [==============================] - 0s 52us/sample - loss: 0.3520 - accuracy: 0.8870\n",
      "Epoch 7/10\n",
      "1009/1009 [==============================] - 0s 53us/sample - loss: 0.2473 - accuracy: 0.9207\n",
      "Epoch 8/10\n",
      "1009/1009 [==============================] - 0s 51us/sample - loss: 0.2203 - accuracy: 0.9316\n",
      "Epoch 9/10\n",
      "1009/1009 [==============================] - 0s 51us/sample - loss: 0.1791 - accuracy: 0.9415\n",
      "Epoch 10/10\n",
      "1009/1009 [==============================] - 0s 52us/sample - loss: 0.1321 - accuracy: 0.9604\n",
      "Train on 1027 samples\n",
      "Epoch 1/10\n",
      "1027/1027 [==============================] - 9s 9ms/sample - loss: 1.8899 - accuracy: 0.3973\n",
      "Epoch 2/10\n",
      "1027/1027 [==============================] - 0s 58us/sample - loss: 1.1001 - accuracy: 0.6368\n",
      "Epoch 3/10\n",
      "1027/1027 [==============================] - 0s 57us/sample - loss: 0.7573 - accuracy: 0.7507\n",
      "Epoch 4/10\n",
      "1027/1027 [==============================] - 0s 57us/sample - loss: 0.5729 - accuracy: 0.8208\n",
      "Epoch 5/10\n",
      "1027/1027 [==============================] - 0s 57us/sample - loss: 0.4595 - accuracy: 0.8530\n",
      "Epoch 6/10\n",
      "1027/1027 [==============================] - 0s 55us/sample - loss: 0.4034 - accuracy: 0.8608\n",
      "Epoch 7/10\n",
      "1027/1027 [==============================] - 0s 55us/sample - loss: 0.3359 - accuracy: 0.8968\n",
      "Epoch 8/10\n",
      "1027/1027 [==============================] - 0s 57us/sample - loss: 0.2833 - accuracy: 0.9026\n",
      "Epoch 9/10\n",
      "1027/1027 [==============================] - 0s 55us/sample - loss: 0.2264 - accuracy: 0.9172\n",
      "Epoch 10/10\n",
      "1027/1027 [==============================] - 0s 54us/sample - loss: 0.2377 - accuracy: 0.9221\n",
      "Train on 975 samples\n",
      "Epoch 1/10\n",
      "975/975 [==============================] - 9s 9ms/sample - loss: 1.8936 - accuracy: 0.4010\n",
      "Epoch 2/10\n",
      "975/975 [==============================] - 0s 56us/sample - loss: 0.9852 - accuracy: 0.6872\n",
      "Epoch 3/10\n",
      "975/975 [==============================] - 0s 53us/sample - loss: 0.6404 - accuracy: 0.8031\n",
      "Epoch 4/10\n",
      "975/975 [==============================] - 0s 55us/sample - loss: 0.4868 - accuracy: 0.8308\n",
      "Epoch 5/10\n",
      "975/975 [==============================] - 0s 54us/sample - loss: 0.3950 - accuracy: 0.8779\n",
      "Epoch 6/10\n",
      "975/975 [==============================] - 0s 52us/sample - loss: 0.3274 - accuracy: 0.8964\n",
      "Epoch 7/10\n"
     ]
    },
    {
     "name": "stdout",
     "output_type": "stream",
     "text": [
      "975/975 [==============================] - 0s 54us/sample - loss: 0.2622 - accuracy: 0.9159\n",
      "Epoch 8/10\n",
      "975/975 [==============================] - 0s 54us/sample - loss: 0.2129 - accuracy: 0.9333\n",
      "Epoch 9/10\n",
      "975/975 [==============================] - 0s 54us/sample - loss: 0.1677 - accuracy: 0.9487\n",
      "Epoch 10/10\n",
      "975/975 [==============================] - 0s 54us/sample - loss: 0.1530 - accuracy: 0.9579\n",
      "Train on 1028 samples\n",
      "Epoch 1/10\n",
      "1028/1028 [==============================] - 9s 9ms/sample - loss: 1.8419 - accuracy: 0.4037\n",
      "Epoch 2/10\n",
      "1028/1028 [==============================] - 0s 58us/sample - loss: 0.9608 - accuracy: 0.6839\n",
      "Epoch 3/10\n",
      "1028/1028 [==============================] - 0s 57us/sample - loss: 0.7111 - accuracy: 0.7626\n",
      "Epoch 4/10\n",
      "1028/1028 [==============================] - 0s 57us/sample - loss: 0.5721 - accuracy: 0.8200\n",
      "Epoch 5/10\n",
      "1028/1028 [==============================] - 0s 57us/sample - loss: 0.4415 - accuracy: 0.8512\n",
      "Epoch 6/10\n",
      "1028/1028 [==============================] - 0s 59us/sample - loss: 0.4464 - accuracy: 0.8551\n",
      "Epoch 7/10\n",
      "1028/1028 [==============================] - 0s 55us/sample - loss: 0.3433 - accuracy: 0.8920\n",
      "Epoch 8/10\n",
      "1028/1028 [==============================] - 0s 60us/sample - loss: 0.2768 - accuracy: 0.9095\n",
      "Epoch 9/10\n",
      "1028/1028 [==============================] - 0s 69us/sample - loss: 0.2491 - accuracy: 0.9193\n",
      "Epoch 10/10\n",
      "1028/1028 [==============================] - 0s 55us/sample - loss: 0.2224 - accuracy: 0.9280\n",
      "Train on 1013 samples\n",
      "Epoch 1/10\n",
      "1013/1013 [==============================] - 9s 9ms/sample - loss: 1.8913 - accuracy: 0.3889\n",
      "Epoch 2/10\n",
      "1013/1013 [==============================] - 0s 55us/sample - loss: 0.9575 - accuracy: 0.6960\n",
      "Epoch 3/10\n",
      "1013/1013 [==============================] - 0s 52us/sample - loss: 0.6871 - accuracy: 0.7996\n",
      "Epoch 4/10\n",
      "1013/1013 [==============================] - 0s 52us/sample - loss: 0.5204 - accuracy: 0.8411\n",
      "Epoch 5/10\n",
      "1013/1013 [==============================] - 0s 52us/sample - loss: 0.4193 - accuracy: 0.8786\n",
      "Epoch 6/10\n",
      "1013/1013 [==============================] - 0s 53us/sample - loss: 0.3548 - accuracy: 0.8954\n",
      "Epoch 7/10\n",
      "1013/1013 [==============================] - 0s 53us/sample - loss: 0.2864 - accuracy: 0.9191\n",
      "Epoch 8/10\n",
      "1013/1013 [==============================] - 0s 53us/sample - loss: 0.2319 - accuracy: 0.9269\n",
      "Epoch 9/10\n",
      "1013/1013 [==============================] - 0s 53us/sample - loss: 0.1835 - accuracy: 0.9408\n",
      "Epoch 10/10\n",
      "1013/1013 [==============================] - 0s 51us/sample - loss: 0.1563 - accuracy: 0.9536\n",
      "Train on 976 samples\n",
      "Epoch 1/10\n",
      "976/976 [==============================] - 9s 10ms/sample - loss: 1.9272 - accuracy: 0.3750\n",
      "Epoch 2/10\n",
      "976/976 [==============================] - 0s 59us/sample - loss: 1.0113 - accuracy: 0.6588\n",
      "Epoch 3/10\n",
      "976/976 [==============================] - 0s 53us/sample - loss: 0.6702 - accuracy: 0.7756\n",
      "Epoch 4/10\n",
      "976/976 [==============================] - 0s 69us/sample - loss: 0.5410 - accuracy: 0.8258\n",
      "Epoch 5/10\n",
      "976/976 [==============================] - 0s 54us/sample - loss: 0.4228 - accuracy: 0.8668\n",
      "Epoch 6/10\n",
      "976/976 [==============================] - 0s 54us/sample - loss: 0.3236 - accuracy: 0.8873\n",
      "Epoch 7/10\n",
      "976/976 [==============================] - 0s 56us/sample - loss: 0.2605 - accuracy: 0.9191\n",
      "Epoch 8/10\n",
      "976/976 [==============================] - 0s 53us/sample - loss: 0.2352 - accuracy: 0.9221\n",
      "Epoch 9/10\n",
      "976/976 [==============================] - 0s 53us/sample - loss: 0.1963 - accuracy: 0.9283\n",
      "Epoch 10/10\n",
      "976/976 [==============================] - 0s 53us/sample - loss: 0.1746 - accuracy: 0.9467\n",
      "Train on 481 samples\n",
      "Epoch 1/10\n",
      "481/481 [==============================] - 9s 19ms/sample - loss: 2.1913 - accuracy: 0.2287\n",
      "Epoch 2/10\n",
      "481/481 [==============================] - 0s 59us/sample - loss: 1.5057 - accuracy: 0.6279\n",
      "Epoch 3/10\n",
      "481/481 [==============================] - 0s 54us/sample - loss: 0.9387 - accuracy: 0.7401\n",
      "Epoch 4/10\n",
      "481/481 [==============================] - 0s 54us/sample - loss: 0.7536 - accuracy: 0.7214\n",
      "Epoch 5/10\n",
      "481/481 [==============================] - 0s 55us/sample - loss: 0.5725 - accuracy: 0.8212\n",
      "Epoch 6/10\n",
      "481/481 [==============================] - 0s 54us/sample - loss: 0.4844 - accuracy: 0.8545\n",
      "Epoch 7/10\n",
      "481/481 [==============================] - 0s 54us/sample - loss: 0.4024 - accuracy: 0.8857\n",
      "Epoch 8/10\n",
      "481/481 [==============================] - 0s 56us/sample - loss: 0.3480 - accuracy: 0.8857\n",
      "Epoch 9/10\n",
      "481/481 [==============================] - 0s 55us/sample - loss: 0.3298 - accuracy: 0.8919\n",
      "Epoch 10/10\n",
      "481/481 [==============================] - 0s 73us/sample - loss: 0.2510 - accuracy: 0.9168\n",
      "Train on 542 samples\n",
      "Epoch 1/10\n",
      "542/542 [==============================] - 9s 17ms/sample - loss: 2.1298 - accuracy: 0.3081\n",
      "Epoch 2/10\n",
      "542/542 [==============================] - 0s 61us/sample - loss: 1.3222 - accuracy: 0.6292\n",
      "Epoch 3/10\n",
      "542/542 [==============================] - 0s 57us/sample - loss: 0.9315 - accuracy: 0.6863\n",
      "Epoch 4/10\n",
      "542/542 [==============================] - 0s 56us/sample - loss: 0.7426 - accuracy: 0.7565\n",
      "Epoch 5/10\n",
      "542/542 [==============================] - 0s 59us/sample - loss: 0.5903 - accuracy: 0.8266\n",
      "Epoch 6/10\n",
      "542/542 [==============================] - 0s 56us/sample - loss: 0.4974 - accuracy: 0.8506\n",
      "Epoch 7/10\n",
      "542/542 [==============================] - 0s 62us/sample - loss: 0.3969 - accuracy: 0.8838\n",
      "Epoch 8/10\n",
      "542/542 [==============================] - 0s 58us/sample - loss: 0.3510 - accuracy: 0.8930\n",
      "Epoch 9/10\n",
      "542/542 [==============================] - 0s 63us/sample - loss: 0.2787 - accuracy: 0.9041\n",
      "Epoch 10/10\n",
      "542/542 [==============================] - 0s 59us/sample - loss: 0.2160 - accuracy: 0.9262\n",
      "Train on 512 samples\n",
      "Epoch 1/10\n",
      "512/512 [==============================] - 1s 1ms/sample - loss: 2.1561 - accuracy: 0.2656\n",
      "Epoch 2/10\n",
      "512/512 [==============================] - 0s 53us/sample - loss: 1.5484 - accuracy: 0.5625\n",
      "Epoch 3/10\n",
      "512/512 [==============================] - 0s 54us/sample - loss: 1.0831 - accuracy: 0.6309\n",
      "Epoch 4/10\n",
      "512/512 [==============================] - 0s 53us/sample - loss: 0.8084 - accuracy: 0.7383\n",
      "Epoch 5/10\n",
      "512/512 [==============================] - 0s 53us/sample - loss: 0.6601 - accuracy: 0.7734\n",
      "Epoch 6/10\n",
      "512/512 [==============================] - 0s 53us/sample - loss: 0.5029 - accuracy: 0.8398\n",
      "Epoch 7/10\n",
      "512/512 [==============================] - 0s 55us/sample - loss: 0.4373 - accuracy: 0.8555\n",
      "Epoch 8/10\n",
      "512/512 [==============================] - 0s 54us/sample - loss: 0.4090 - accuracy: 0.8652\n",
      "Epoch 9/10\n",
      "512/512 [==============================] - 0s 55us/sample - loss: 0.3498 - accuracy: 0.8809\n",
      "Epoch 10/10\n",
      "512/512 [==============================] - 0s 53us/sample - loss: 0.2817 - accuracy: 0.9238\n",
      "Train on 484 samples\n",
      "Epoch 1/10\n",
      "484/484 [==============================] - 10s 20ms/sample - loss: 2.1475 - accuracy: 0.2500\n",
      "Epoch 2/10\n",
      "484/484 [==============================] - 0s 60us/sample - loss: 1.4527 - accuracy: 0.5868\n",
      "Epoch 3/10\n",
      "484/484 [==============================] - 0s 55us/sample - loss: 0.9352 - accuracy: 0.7397\n",
      "Epoch 4/10\n",
      "484/484 [==============================] - 0s 55us/sample - loss: 0.7173 - accuracy: 0.7479\n",
      "Epoch 5/10\n",
      "484/484 [==============================] - 0s 55us/sample - loss: 0.5807 - accuracy: 0.8182\n",
      "Epoch 6/10\n",
      "484/484 [==============================] - 0s 54us/sample - loss: 0.4414 - accuracy: 0.8533\n",
      "Epoch 7/10\n",
      "484/484 [==============================] - 0s 55us/sample - loss: 0.4306 - accuracy: 0.8554\n",
      "Epoch 8/10\n",
      "484/484 [==============================] - 0s 55us/sample - loss: 0.2938 - accuracy: 0.9008\n",
      "Epoch 9/10\n",
      "484/484 [==============================] - 0s 53us/sample - loss: 0.2370 - accuracy: 0.9194\n",
      "Epoch 10/10\n",
      "484/484 [==============================] - 0s 55us/sample - loss: 0.2418 - accuracy: 0.9132\n",
      "Train on 520 samples\n",
      "Epoch 1/10\n",
      "520/520 [==============================] - 10s 18ms/sample - loss: 2.1393 - accuracy: 0.2673\n",
      "Epoch 2/10\n",
      "520/520 [==============================] - 0s 66us/sample - loss: 1.4975 - accuracy: 0.5635\n",
      "Epoch 3/10\n",
      "520/520 [==============================] - 0s 58us/sample - loss: 1.0920 - accuracy: 0.6385\n",
      "Epoch 4/10\n"
     ]
    },
    {
     "name": "stdout",
     "output_type": "stream",
     "text": [
      "520/520 [==============================] - 0s 59us/sample - loss: 0.8937 - accuracy: 0.7058\n",
      "Epoch 5/10\n",
      "520/520 [==============================] - 0s 66us/sample - loss: 0.7529 - accuracy: 0.7269\n",
      "Epoch 6/10\n",
      "520/520 [==============================] - 0s 59us/sample - loss: 0.6097 - accuracy: 0.7962\n",
      "Epoch 7/10\n",
      "520/520 [==============================] - 0s 62us/sample - loss: 0.5666 - accuracy: 0.8096\n",
      "Epoch 8/10\n",
      "520/520 [==============================] - 0s 60us/sample - loss: 0.4816 - accuracy: 0.8481\n",
      "Epoch 9/10\n",
      "520/520 [==============================] - 0s 58us/sample - loss: 0.3869 - accuracy: 0.8673\n",
      "Epoch 10/10\n",
      "520/520 [==============================] - 0s 60us/sample - loss: 0.3678 - accuracy: 0.8808\n",
      "Train on 503 samples\n",
      "Epoch 1/10\n",
      "503/503 [==============================] - 10s 19ms/sample - loss: 2.1470 - accuracy: 0.2903\n",
      "Epoch 2/10\n",
      "503/503 [==============================] - 0s 57us/sample - loss: 1.4585 - accuracy: 0.5964\n",
      "Epoch 3/10\n",
      "503/503 [==============================] - 0s 55us/sample - loss: 0.9445 - accuracy: 0.6899\n",
      "Epoch 4/10\n",
      "503/503 [==============================] - 0s 55us/sample - loss: 0.6983 - accuracy: 0.7435\n",
      "Epoch 5/10\n",
      "503/503 [==============================] - 0s 54us/sample - loss: 0.6330 - accuracy: 0.7714\n",
      "Epoch 6/10\n",
      "503/503 [==============================] - 0s 53us/sample - loss: 0.4556 - accuracy: 0.8449\n",
      "Epoch 7/10\n",
      "503/503 [==============================] - 0s 54us/sample - loss: 0.3783 - accuracy: 0.8787\n",
      "Epoch 8/10\n",
      "503/503 [==============================] - 0s 52us/sample - loss: 0.2890 - accuracy: 0.9085\n",
      "Epoch 9/10\n",
      "503/503 [==============================] - 0s 54us/sample - loss: 0.2801 - accuracy: 0.9066\n",
      "Epoch 10/10\n",
      "503/503 [==============================] - 0s 54us/sample - loss: 0.2247 - accuracy: 0.9225\n",
      "Train on 476 samples\n",
      "Epoch 1/10\n",
      "476/476 [==============================] - 1s 1ms/sample - loss: 2.1596 - accuracy: 0.2395\n",
      "Epoch 2/10\n",
      "476/476 [==============================] - 0s 55us/sample - loss: 1.5531 - accuracy: 0.5777\n",
      "Epoch 3/10\n",
      "476/476 [==============================] - 0s 55us/sample - loss: 1.1193 - accuracy: 0.6450\n",
      "Epoch 4/10\n",
      "476/476 [==============================] - 0s 55us/sample - loss: 0.8334 - accuracy: 0.7164\n",
      "Epoch 5/10\n",
      "476/476 [==============================] - 0s 62us/sample - loss: 0.6481 - accuracy: 0.7857\n",
      "Epoch 6/10\n",
      "476/476 [==============================] - 0s 54us/sample - loss: 0.5894 - accuracy: 0.8088\n",
      "Epoch 7/10\n",
      "476/476 [==============================] - 0s 54us/sample - loss: 0.4470 - accuracy: 0.8592\n",
      "Epoch 8/10\n",
      "476/476 [==============================] - 0s 55us/sample - loss: 0.4215 - accuracy: 0.8634\n",
      "Epoch 9/10\n",
      "476/476 [==============================] - 0s 56us/sample - loss: 0.3499 - accuracy: 0.8908\n",
      "Epoch 10/10\n",
      "476/476 [==============================] - 0s 54us/sample - loss: 0.2888 - accuracy: 0.9181\n",
      "Train on 508 samples\n",
      "Epoch 1/10\n",
      "508/508 [==============================] - 10s 19ms/sample - loss: 2.1688 - accuracy: 0.2382\n",
      "Epoch 2/10\n",
      "508/508 [==============================] - 0s 59us/sample - loss: 1.5726 - accuracy: 0.5551\n",
      "Epoch 3/10\n",
      "508/508 [==============================] - 0s 56us/sample - loss: 1.0846 - accuracy: 0.6634\n",
      "Epoch 4/10\n",
      "508/508 [==============================] - 0s 54us/sample - loss: 0.8461 - accuracy: 0.7402\n",
      "Epoch 5/10\n",
      "508/508 [==============================] - 0s 53us/sample - loss: 0.6267 - accuracy: 0.8012\n",
      "Epoch 6/10\n",
      "508/508 [==============================] - 0s 54us/sample - loss: 0.5296 - accuracy: 0.8228\n",
      "Epoch 7/10\n",
      "508/508 [==============================] - 0s 53us/sample - loss: 0.4193 - accuracy: 0.8681\n",
      "Epoch 8/10\n",
      "508/508 [==============================] - 0s 54us/sample - loss: 0.3688 - accuracy: 0.8937\n",
      "Epoch 9/10\n",
      "508/508 [==============================] - 0s 53us/sample - loss: 0.3436 - accuracy: 0.8858\n",
      "Epoch 10/10\n",
      "508/508 [==============================] - 0s 54us/sample - loss: 0.2736 - accuracy: 0.9154\n",
      "Train on 486 samples\n",
      "Epoch 1/10\n",
      "486/486 [==============================] - 10s 20ms/sample - loss: 2.1343 - accuracy: 0.2551\n",
      "Epoch 2/10\n",
      "486/486 [==============================] - 0s 59us/sample - loss: 1.5164 - accuracy: 0.5741\n",
      "Epoch 3/10\n",
      "486/486 [==============================] - 0s 56us/sample - loss: 1.0556 - accuracy: 0.6687\n",
      "Epoch 4/10\n",
      "486/486 [==============================] - 0s 56us/sample - loss: 0.7575 - accuracy: 0.7737\n",
      "Epoch 5/10\n",
      "486/486 [==============================] - 0s 57us/sample - loss: 0.5977 - accuracy: 0.8107\n",
      "Epoch 6/10\n",
      "486/486 [==============================] - 0s 60us/sample - loss: 0.5502 - accuracy: 0.8210\n",
      "Epoch 7/10\n",
      "486/486 [==============================] - 0s 57us/sample - loss: 0.4591 - accuracy: 0.8519\n",
      "Epoch 8/10\n",
      "486/486 [==============================] - 0s 56us/sample - loss: 0.3858 - accuracy: 0.8951\n",
      "Epoch 9/10\n",
      "486/486 [==============================] - 0s 56us/sample - loss: 0.3276 - accuracy: 0.8827\n",
      "Epoch 10/10\n",
      "486/486 [==============================] - 0s 57us/sample - loss: 0.2722 - accuracy: 0.9218\n",
      "Train on 488 samples\n",
      "Epoch 1/10\n",
      "488/488 [==============================] - 10s 20ms/sample - loss: 2.1683 - accuracy: 0.2336\n",
      "Epoch 2/10\n",
      "488/488 [==============================] - 0s 58us/sample - loss: 1.4995 - accuracy: 0.5840\n",
      "Epoch 3/10\n",
      "488/488 [==============================] - 0s 56us/sample - loss: 1.0556 - accuracy: 0.6332\n",
      "Epoch 4/10\n",
      "488/488 [==============================] - 0s 54us/sample - loss: 0.8058 - accuracy: 0.7213\n",
      "Epoch 5/10\n",
      "488/488 [==============================] - 0s 54us/sample - loss: 0.6348 - accuracy: 0.7828\n",
      "Epoch 6/10\n",
      "488/488 [==============================] - 0s 54us/sample - loss: 0.5106 - accuracy: 0.8217\n",
      "Epoch 7/10\n",
      "488/488 [==============================] - 0s 54us/sample - loss: 0.4071 - accuracy: 0.8689\n",
      "Epoch 8/10\n",
      "488/488 [==============================] - 0s 55us/sample - loss: 0.3513 - accuracy: 0.8996\n",
      "Epoch 9/10\n",
      "488/488 [==============================] - 0s 53us/sample - loss: 0.2743 - accuracy: 0.9221\n",
      "Epoch 10/10\n",
      "488/488 [==============================] - 0s 61us/sample - loss: 0.2793 - accuracy: 0.8975\n",
      "Train on 480 samples\n",
      "Epoch 1/10\n",
      "480/480 [==============================] - 10s 20ms/sample - loss: 2.1472 - accuracy: 0.2604\n",
      "Epoch 2/10\n",
      "480/480 [==============================] - 0s 60us/sample - loss: 1.4224 - accuracy: 0.6438\n",
      "Epoch 3/10\n",
      "480/480 [==============================] - 0s 53us/sample - loss: 0.8888 - accuracy: 0.7000\n",
      "Epoch 4/10\n",
      "480/480 [==============================] - 0s 55us/sample - loss: 0.6991 - accuracy: 0.7812\n",
      "Epoch 5/10\n",
      "480/480 [==============================] - 0s 55us/sample - loss: 0.5537 - accuracy: 0.8104\n",
      "Epoch 6/10\n",
      "480/480 [==============================] - 0s 55us/sample - loss: 0.4511 - accuracy: 0.8708\n",
      "Epoch 7/10\n",
      "480/480 [==============================] - 0s 55us/sample - loss: 0.3527 - accuracy: 0.9021\n",
      "Epoch 8/10\n",
      "480/480 [==============================] - 0s 55us/sample - loss: 0.2919 - accuracy: 0.9167\n",
      "Epoch 9/10\n",
      "480/480 [==============================] - 0s 54us/sample - loss: 0.2120 - accuracy: 0.9354\n",
      "Epoch 10/10\n",
      "480/480 [==============================] - 0s 54us/sample - loss: 0.2068 - accuracy: 0.9417\n",
      "Train on 498 samples\n",
      "Epoch 1/10\n",
      "498/498 [==============================] - 10s 20ms/sample - loss: 2.1714 - accuracy: 0.2329\n",
      "Epoch 2/10\n",
      "498/498 [==============================] - 0s 75us/sample - loss: 1.5817 - accuracy: 0.5221\n",
      "Epoch 3/10\n",
      "498/498 [==============================] - 0s 56us/sample - loss: 1.1751 - accuracy: 0.6145\n",
      "Epoch 4/10\n",
      "498/498 [==============================] - 0s 57us/sample - loss: 0.7997 - accuracy: 0.7610\n",
      "Epoch 5/10\n",
      "498/498 [==============================] - 0s 56us/sample - loss: 0.7069 - accuracy: 0.7791\n",
      "Epoch 6/10\n",
      "498/498 [==============================] - 0s 55us/sample - loss: 0.5499 - accuracy: 0.8273\n",
      "Epoch 7/10\n",
      "498/498 [==============================] - 0s 54us/sample - loss: 0.4973 - accuracy: 0.8474\n",
      "Epoch 8/10\n",
      "498/498 [==============================] - 0s 58us/sample - loss: 0.4175 - accuracy: 0.8614\n",
      "Epoch 9/10\n",
      "498/498 [==============================] - 0s 54us/sample - loss: 0.3616 - accuracy: 0.8775\n",
      "Epoch 10/10\n",
      "498/498 [==============================] - 0s 54us/sample - loss: 0.3297 - accuracy: 0.8896\n",
      "Train on 476 samples\n",
      "Epoch 1/10\n"
     ]
    },
    {
     "name": "stdout",
     "output_type": "stream",
     "text": [
      "476/476 [==============================] - 1s 1ms/sample - loss: 2.1658 - accuracy: 0.2605\n",
      "Epoch 2/10\n",
      "476/476 [==============================] - 0s 88us/sample - loss: 1.5388 - accuracy: 0.5399\n",
      "Epoch 3/10\n",
      "476/476 [==============================] - 0s 60us/sample - loss: 1.0840 - accuracy: 0.6450\n",
      "Epoch 4/10\n",
      "476/476 [==============================] - 0s 55us/sample - loss: 0.8079 - accuracy: 0.7269\n",
      "Epoch 5/10\n",
      "476/476 [==============================] - 0s 56us/sample - loss: 0.6481 - accuracy: 0.7773\n",
      "Epoch 6/10\n",
      "476/476 [==============================] - 0s 54us/sample - loss: 0.4718 - accuracy: 0.8466\n",
      "Epoch 7/10\n",
      "476/476 [==============================] - 0s 56us/sample - loss: 0.4352 - accuracy: 0.8550\n",
      "Epoch 8/10\n",
      "476/476 [==============================] - 0s 62us/sample - loss: 0.3376 - accuracy: 0.8845\n",
      "Epoch 9/10\n",
      "476/476 [==============================] - 0s 57us/sample - loss: 0.3099 - accuracy: 0.9013\n",
      "Epoch 10/10\n",
      "476/476 [==============================] - 0s 56us/sample - loss: 0.3038 - accuracy: 0.9076\n",
      "Train on 499 samples\n",
      "Epoch 1/10\n",
      "499/499 [==============================] - 10s 20ms/sample - loss: 2.1521 - accuracy: 0.2525\n",
      "Epoch 2/10\n",
      "499/499 [==============================] - 0s 57us/sample - loss: 1.5282 - accuracy: 0.5772\n",
      "Epoch 3/10\n",
      "499/499 [==============================] - 0s 57us/sample - loss: 0.9815 - accuracy: 0.7114\n",
      "Epoch 4/10\n",
      "499/499 [==============================] - 0s 55us/sample - loss: 0.7844 - accuracy: 0.7575\n",
      "Epoch 5/10\n",
      "499/499 [==============================] - 0s 55us/sample - loss: 0.5814 - accuracy: 0.8337\n",
      "Epoch 6/10\n",
      "499/499 [==============================] - 0s 54us/sample - loss: 0.5117 - accuracy: 0.8357\n",
      "Epoch 7/10\n",
      "499/499 [==============================] - 0s 55us/sample - loss: 0.4182 - accuracy: 0.8737\n",
      "Epoch 8/10\n",
      "499/499 [==============================] - 0s 56us/sample - loss: 0.3845 - accuracy: 0.8597\n",
      "Epoch 9/10\n",
      "499/499 [==============================] - 0s 55us/sample - loss: 0.3050 - accuracy: 0.9058\n",
      "Epoch 10/10\n",
      "499/499 [==============================] - 0s 54us/sample - loss: 0.2917 - accuracy: 0.9038\n",
      "Train on 489 samples\n",
      "Epoch 1/10\n",
      "489/489 [==============================] - 10s 21ms/sample - loss: 2.1476 - accuracy: 0.2761\n",
      "Epoch 2/10\n",
      "489/489 [==============================] - 0s 59us/sample - loss: 1.4879 - accuracy: 0.6033\n",
      "Epoch 3/10\n",
      "489/489 [==============================] - 0s 55us/sample - loss: 0.9655 - accuracy: 0.7198\n",
      "Epoch 4/10\n",
      "489/489 [==============================] - 0s 64us/sample - loss: 0.7375 - accuracy: 0.7505\n",
      "Epoch 5/10\n",
      "489/489 [==============================] - 0s 55us/sample - loss: 0.5713 - accuracy: 0.8180\n",
      "Epoch 6/10\n",
      "489/489 [==============================] - 0s 56us/sample - loss: 0.4545 - accuracy: 0.8671\n",
      "Epoch 7/10\n",
      "489/489 [==============================] - 0s 55us/sample - loss: 0.4251 - accuracy: 0.8732\n",
      "Epoch 8/10\n",
      "489/489 [==============================] - 0s 55us/sample - loss: 0.3244 - accuracy: 0.9059\n",
      "Epoch 9/10\n",
      "489/489 [==============================] - 0s 55us/sample - loss: 0.3131 - accuracy: 0.9080\n",
      "Epoch 10/10\n",
      "489/489 [==============================] - 0s 55us/sample - loss: 0.2341 - accuracy: 0.9264\n",
      "Train on 524 samples\n",
      "Epoch 1/10\n",
      "524/524 [==============================] - 10s 19ms/sample - loss: 2.1665 - accuracy: 0.2195\n",
      "Epoch 2/10\n",
      "524/524 [==============================] - 0s 62us/sample - loss: 1.5493 - accuracy: 0.5210\n",
      "Epoch 3/10\n",
      "524/524 [==============================] - 0s 64us/sample - loss: 1.0477 - accuracy: 0.6622\n",
      "Epoch 4/10\n",
      "524/524 [==============================] - 0s 61us/sample - loss: 0.8519 - accuracy: 0.7271\n",
      "Epoch 5/10\n",
      "524/524 [==============================] - 0s 60us/sample - loss: 0.7305 - accuracy: 0.7557\n",
      "Epoch 6/10\n",
      "524/524 [==============================] - 0s 62us/sample - loss: 0.6277 - accuracy: 0.7748\n",
      "Epoch 7/10\n",
      "524/524 [==============================] - 0s 62us/sample - loss: 0.5449 - accuracy: 0.7996\n",
      "Epoch 8/10\n",
      "524/524 [==============================] - 0s 60us/sample - loss: 0.4876 - accuracy: 0.8263\n",
      "Epoch 9/10\n",
      "524/524 [==============================] - 0s 60us/sample - loss: 0.4214 - accuracy: 0.8664\n",
      "Epoch 10/10\n",
      "524/524 [==============================] - 0s 57us/sample - loss: 0.3627 - accuracy: 0.8874\n",
      "Train on 499 samples\n",
      "Epoch 1/10\n",
      "499/499 [==============================] - 1s 1ms/sample - loss: 2.1702 - accuracy: 0.2405\n",
      "Epoch 2/10\n",
      "499/499 [==============================] - 0s 55us/sample - loss: 1.5764 - accuracy: 0.5912\n",
      "Epoch 3/10\n",
      "499/499 [==============================] - 0s 54us/sample - loss: 1.0004 - accuracy: 0.7014\n",
      "Epoch 4/10\n",
      "499/499 [==============================] - 0s 55us/sample - loss: 0.6617 - accuracy: 0.7856\n",
      "Epoch 5/10\n",
      "499/499 [==============================] - 0s 54us/sample - loss: 0.5824 - accuracy: 0.8257\n",
      "Epoch 6/10\n",
      "499/499 [==============================] - 0s 54us/sample - loss: 0.4763 - accuracy: 0.8377\n",
      "Epoch 7/10\n",
      "499/499 [==============================] - 0s 53us/sample - loss: 0.4000 - accuracy: 0.8597\n",
      "Epoch 8/10\n",
      "499/499 [==============================] - 0s 54us/sample - loss: 0.3440 - accuracy: 0.8818\n",
      "Epoch 9/10\n",
      "499/499 [==============================] - 0s 54us/sample - loss: 0.3045 - accuracy: 0.9178\n",
      "Epoch 10/10\n",
      "499/499 [==============================] - 0s 56us/sample - loss: 0.2427 - accuracy: 0.9078\n",
      "Train on 520 samples\n",
      "Epoch 1/10\n",
      "520/520 [==============================] - 1s 1ms/sample - loss: 2.1108 - accuracy: 0.2904\n",
      "Epoch 2/10\n",
      "520/520 [==============================] - 0s 61us/sample - loss: 1.4075 - accuracy: 0.5769\n",
      "Epoch 3/10\n",
      "520/520 [==============================] - 0s 61us/sample - loss: 1.0159 - accuracy: 0.6538\n",
      "Epoch 4/10\n",
      "520/520 [==============================] - 0s 61us/sample - loss: 0.8287 - accuracy: 0.7462\n",
      "Epoch 5/10\n",
      "520/520 [==============================] - 0s 61us/sample - loss: 0.6397 - accuracy: 0.7769\n",
      "Epoch 6/10\n",
      "520/520 [==============================] - 0s 59us/sample - loss: 0.5619 - accuracy: 0.8115\n",
      "Epoch 7/10\n",
      "520/520 [==============================] - 0s 61us/sample - loss: 0.4385 - accuracy: 0.8462\n",
      "Epoch 8/10\n",
      "520/520 [==============================] - 0s 59us/sample - loss: 0.4131 - accuracy: 0.8442\n",
      "Epoch 9/10\n",
      "520/520 [==============================] - 0s 59us/sample - loss: 0.4337 - accuracy: 0.8712\n",
      "Epoch 10/10\n",
      "520/520 [==============================] - 0s 59us/sample - loss: 0.3679 - accuracy: 0.8712\n",
      "Train on 527 samples\n",
      "Epoch 1/10\n",
      "527/527 [==============================] - 10s 20ms/sample - loss: 2.1267 - accuracy: 0.2979\n",
      "Epoch 2/10\n",
      "527/527 [==============================] - 0s 63us/sample - loss: 1.3446 - accuracy: 0.6186\n",
      "Epoch 3/10\n",
      "527/527 [==============================] - 0s 62us/sample - loss: 1.0363 - accuracy: 0.6641\n",
      "Epoch 4/10\n",
      "527/527 [==============================] - 0s 61us/sample - loss: 0.7397 - accuracy: 0.7628\n",
      "Epoch 5/10\n",
      "527/527 [==============================] - 0s 61us/sample - loss: 0.6275 - accuracy: 0.8216\n",
      "Epoch 6/10\n",
      "527/527 [==============================] - 0s 61us/sample - loss: 0.5667 - accuracy: 0.8292\n",
      "Epoch 7/10\n",
      "527/527 [==============================] - 0s 61us/sample - loss: 0.4883 - accuracy: 0.8444\n",
      "Epoch 8/10\n",
      "527/527 [==============================] - 0s 64us/sample - loss: 0.4091 - accuracy: 0.8748\n",
      "Epoch 9/10\n",
      "527/527 [==============================] - 0s 60us/sample - loss: 0.3648 - accuracy: 0.8767\n",
      "Epoch 10/10\n",
      "527/527 [==============================] - 0s 59us/sample - loss: 0.2951 - accuracy: 0.9032\n",
      "Train on 488 samples\n",
      "Epoch 1/10\n",
      "488/488 [==============================] - 1s 1ms/sample - loss: 2.1751 - accuracy: 0.2828\n",
      "Epoch 2/10\n",
      "488/488 [==============================] - 0s 58us/sample - loss: 1.5316 - accuracy: 0.5717\n",
      "Epoch 3/10\n",
      "488/488 [==============================] - 0s 57us/sample - loss: 1.0565 - accuracy: 0.6619\n",
      "Epoch 4/10\n",
      "488/488 [==============================] - 0s 55us/sample - loss: 0.8274 - accuracy: 0.7398\n",
      "Epoch 5/10\n",
      "488/488 [==============================] - 0s 56us/sample - loss: 0.5862 - accuracy: 0.8033\n",
      "Epoch 6/10\n",
      "488/488 [==============================] - 0s 56us/sample - loss: 0.5475 - accuracy: 0.8217\n",
      "Epoch 7/10\n",
      "488/488 [==============================] - 0s 56us/sample - loss: 0.4342 - accuracy: 0.8689\n",
      "Epoch 8/10\n",
      "488/488 [==============================] - 0s 57us/sample - loss: 0.3966 - accuracy: 0.8730\n",
      "Epoch 9/10\n"
     ]
    },
    {
     "name": "stdout",
     "output_type": "stream",
     "text": [
      "488/488 [==============================] - 0s 55us/sample - loss: 0.3812 - accuracy: 0.8689\n",
      "Epoch 10/10\n",
      "488/488 [==============================] - 0s 55us/sample - loss: 0.2635 - accuracy: 0.9057\n",
      "Train on 309 samples\n",
      "Epoch 1/10\n",
      "309/309 [==============================] - 10s 34ms/sample - loss: 2.2287 - accuracy: 0.1586\n",
      "Epoch 2/10\n",
      "309/309 [==============================] - 0s 65us/sample - loss: 1.8008 - accuracy: 0.5275\n",
      "Epoch 3/10\n",
      "309/309 [==============================] - 0s 61us/sample - loss: 1.2902 - accuracy: 0.6343\n",
      "Epoch 4/10\n",
      "309/309 [==============================] - 0s 61us/sample - loss: 0.8978 - accuracy: 0.7508\n",
      "Epoch 5/10\n",
      "309/309 [==============================] - 0s 62us/sample - loss: 0.7633 - accuracy: 0.7670\n",
      "Epoch 6/10\n",
      "309/309 [==============================] - 0s 62us/sample - loss: 0.6468 - accuracy: 0.7896\n",
      "Epoch 7/10\n",
      "309/309 [==============================] - 0s 64us/sample - loss: 0.5144 - accuracy: 0.8220\n",
      "Epoch 8/10\n",
      "309/309 [==============================] - 0s 62us/sample - loss: 0.4538 - accuracy: 0.8447\n",
      "Epoch 9/10\n",
      "309/309 [==============================] - 0s 63us/sample - loss: 0.4069 - accuracy: 0.8706\n",
      "Epoch 10/10\n",
      "309/309 [==============================] - 0s 64us/sample - loss: 0.3559 - accuracy: 0.8932\n",
      "Train on 344 samples\n",
      "Epoch 1/10\n",
      "344/344 [==============================] - 11s 31ms/sample - loss: 2.2280 - accuracy: 0.2064\n",
      "Epoch 2/10\n",
      "344/344 [==============================] - 0s 64us/sample - loss: 1.8158 - accuracy: 0.4767\n",
      "Epoch 3/10\n",
      "344/344 [==============================] - 0s 59us/sample - loss: 1.3537 - accuracy: 0.6017\n",
      "Epoch 4/10\n",
      "344/344 [==============================] - 0s 59us/sample - loss: 0.9780 - accuracy: 0.7093\n",
      "Epoch 5/10\n",
      "344/344 [==============================] - 0s 59us/sample - loss: 0.7357 - accuracy: 0.7674\n",
      "Epoch 6/10\n",
      "344/344 [==============================] - 0s 58us/sample - loss: 0.6547 - accuracy: 0.8023\n",
      "Epoch 7/10\n",
      "344/344 [==============================] - 0s 60us/sample - loss: 0.5221 - accuracy: 0.8372\n",
      "Epoch 8/10\n",
      "344/344 [==============================] - 0s 59us/sample - loss: 0.4772 - accuracy: 0.8692\n",
      "Epoch 9/10\n",
      "344/344 [==============================] - 0s 59us/sample - loss: 0.4037 - accuracy: 0.8721\n",
      "Epoch 10/10\n",
      "344/344 [==============================] - 0s 57us/sample - loss: 0.3460 - accuracy: 0.8895\n",
      "Train on 325 samples\n",
      "Epoch 1/10\n",
      "325/325 [==============================] - 11s 33ms/sample - loss: 2.2302 - accuracy: 0.1600\n",
      "Epoch 2/10\n",
      "325/325 [==============================] - 0s 68us/sample - loss: 1.8088 - accuracy: 0.4431\n",
      "Epoch 3/10\n",
      "325/325 [==============================] - 0s 64us/sample - loss: 1.3338 - accuracy: 0.6400\n",
      "Epoch 4/10\n",
      "325/325 [==============================] - 0s 63us/sample - loss: 0.9804 - accuracy: 0.7323\n",
      "Epoch 5/10\n",
      "325/325 [==============================] - 0s 65us/sample - loss: 0.8425 - accuracy: 0.7108\n",
      "Epoch 6/10\n",
      "325/325 [==============================] - 0s 61us/sample - loss: 0.6542 - accuracy: 0.8031\n",
      "Epoch 7/10\n",
      "325/325 [==============================] - 0s 62us/sample - loss: 0.5870 - accuracy: 0.8000\n",
      "Epoch 8/10\n",
      "325/325 [==============================] - 0s 64us/sample - loss: 0.4539 - accuracy: 0.8585\n",
      "Epoch 9/10\n",
      "325/325 [==============================] - 0s 64us/sample - loss: 0.4065 - accuracy: 0.8769\n",
      "Epoch 10/10\n",
      "325/325 [==============================] - 0s 64us/sample - loss: 0.3758 - accuracy: 0.8769\n",
      "Train on 325 samples\n",
      "Epoch 1/10\n",
      "325/325 [==============================] - 1s 2ms/sample - loss: 2.2283 - accuracy: 0.1969\n",
      "Epoch 2/10\n",
      "325/325 [==============================] - 0s 63us/sample - loss: 1.7356 - accuracy: 0.5138\n",
      "Epoch 3/10\n",
      "325/325 [==============================] - 0s 63us/sample - loss: 1.2632 - accuracy: 0.6215\n",
      "Epoch 4/10\n",
      "325/325 [==============================] - 0s 60us/sample - loss: 0.9184 - accuracy: 0.6923\n",
      "Epoch 5/10\n",
      "325/325 [==============================] - 0s 62us/sample - loss: 0.8140 - accuracy: 0.7231\n",
      "Epoch 6/10\n",
      "325/325 [==============================] - 0s 61us/sample - loss: 0.6368 - accuracy: 0.7723\n",
      "Epoch 7/10\n",
      "325/325 [==============================] - 0s 62us/sample - loss: 0.5723 - accuracy: 0.7908\n",
      "Epoch 8/10\n",
      "325/325 [==============================] - 0s 69us/sample - loss: 0.4466 - accuracy: 0.8462\n",
      "Epoch 9/10\n",
      "325/325 [==============================] - 0s 60us/sample - loss: 0.4120 - accuracy: 0.8708\n",
      "Epoch 10/10\n",
      "325/325 [==============================] - ETA: 0s - loss: 0.3639 - accuracy: 0.89 - 0s 62us/sample - loss: 0.3645 - accuracy: 0.8862\n",
      "Train on 327 samples\n",
      "Epoch 1/10\n",
      "327/327 [==============================] - 11s 33ms/sample - loss: 2.2042 - accuracy: 0.2691\n",
      "Epoch 2/10\n",
      "327/327 [==============================] - 0s 64us/sample - loss: 1.7250 - accuracy: 0.4954\n",
      "Epoch 3/10\n",
      "327/327 [==============================] - 0s 62us/sample - loss: 1.2587 - accuracy: 0.6300\n",
      "Epoch 4/10\n",
      "327/327 [==============================] - 0s 60us/sample - loss: 0.8851 - accuracy: 0.7064\n",
      "Epoch 5/10\n",
      "327/327 [==============================] - 0s 61us/sample - loss: 0.7274 - accuracy: 0.7676\n",
      "Epoch 6/10\n",
      "327/327 [==============================] - 0s 61us/sample - loss: 0.6097 - accuracy: 0.7951\n",
      "Epoch 7/10\n",
      "327/327 [==============================] - 0s 60us/sample - loss: 0.5112 - accuracy: 0.8196\n",
      "Epoch 8/10\n",
      "327/327 [==============================] - 0s 60us/sample - loss: 0.4093 - accuracy: 0.8869\n",
      "Epoch 9/10\n",
      "327/327 [==============================] - 0s 60us/sample - loss: 0.3015 - accuracy: 0.9083\n",
      "Epoch 10/10\n",
      "327/327 [==============================] - 0s 58us/sample - loss: 0.3232 - accuracy: 0.9021\n",
      "Train on 354 samples\n",
      "Epoch 1/10\n",
      "354/354 [==============================] - 11s 31ms/sample - loss: 2.2384 - accuracy: 0.1610\n",
      "Epoch 2/10\n",
      "354/354 [==============================] - 0s 62us/sample - loss: 1.7841 - accuracy: 0.4718\n",
      "Epoch 3/10\n",
      "354/354 [==============================] - 0s 58us/sample - loss: 1.3495 - accuracy: 0.6045\n",
      "Epoch 4/10\n",
      "354/354 [==============================] - 0s 58us/sample - loss: 1.0376 - accuracy: 0.6638\n",
      "Epoch 5/10\n",
      "354/354 [==============================] - 0s 60us/sample - loss: 0.8677 - accuracy: 0.7090\n",
      "Epoch 6/10\n",
      "354/354 [==============================] - 0s 57us/sample - loss: 0.6407 - accuracy: 0.7712\n",
      "Epoch 7/10\n",
      "354/354 [==============================] - 0s 59us/sample - loss: 0.6079 - accuracy: 0.7966\n",
      "Epoch 8/10\n",
      "354/354 [==============================] - 0s 80us/sample - loss: 0.4989 - accuracy: 0.8531\n",
      "Epoch 9/10\n",
      "354/354 [==============================] - 0s 58us/sample - loss: 0.4501 - accuracy: 0.8588\n",
      "Epoch 10/10\n",
      "354/354 [==============================] - 0s 58us/sample - loss: 0.3984 - accuracy: 0.8701\n",
      "Train on 317 samples\n",
      "Epoch 1/10\n",
      "317/317 [==============================] - 11s 35ms/sample - loss: 2.2234 - accuracy: 0.2334\n",
      "Epoch 2/10\n",
      "317/317 [==============================] - 0s 67us/sample - loss: 1.7150 - accuracy: 0.5426\n",
      "Epoch 3/10\n",
      "317/317 [==============================] - 0s 63us/sample - loss: 1.1822 - accuracy: 0.6593\n",
      "Epoch 4/10\n",
      "317/317 [==============================] - 0s 65us/sample - loss: 0.8759 - accuracy: 0.7161\n",
      "Epoch 5/10\n",
      "317/317 [==============================] - 0s 66us/sample - loss: 0.6869 - accuracy: 0.7697\n",
      "Epoch 6/10\n",
      "317/317 [==============================] - 0s 63us/sample - loss: 0.5508 - accuracy: 0.8013\n",
      "Epoch 7/10\n",
      "317/317 [==============================] - 0s 63us/sample - loss: 0.4736 - accuracy: 0.8360\n",
      "Epoch 8/10\n",
      "317/317 [==============================] - 0s 60us/sample - loss: 0.4492 - accuracy: 0.8612\n",
      "Epoch 9/10\n",
      "317/317 [==============================] - 0s 61us/sample - loss: 0.4136 - accuracy: 0.8927\n",
      "Epoch 10/10\n",
      "317/317 [==============================] - 0s 68us/sample - loss: 0.3069 - accuracy: 0.9117\n",
      "Train on 321 samples\n",
      "Epoch 1/10\n",
      "321/321 [==============================] - 1s 2ms/sample - loss: 2.2172 - accuracy: 0.1620\n",
      "Epoch 2/10\n",
      "321/321 [==============================] - 0s 88us/sample - loss: 1.8149 - accuracy: 0.4174\n",
      "Epoch 3/10\n",
      "321/321 [==============================] - 0s 62us/sample - loss: 1.3609 - accuracy: 0.5794\n",
      "Epoch 4/10\n",
      "321/321 [==============================] - 0s 62us/sample - loss: 1.0089 - accuracy: 0.6760\n",
      "Epoch 5/10\n",
      "321/321 [==============================] - 0s 61us/sample - loss: 0.7772 - accuracy: 0.7259\n",
      "Epoch 6/10\n"
     ]
    },
    {
     "name": "stdout",
     "output_type": "stream",
     "text": [
      "321/321 [==============================] - 0s 61us/sample - loss: 0.6457 - accuracy: 0.7819\n",
      "Epoch 7/10\n",
      "321/321 [==============================] - 0s 79us/sample - loss: 0.5311 - accuracy: 0.8255\n",
      "Epoch 8/10\n",
      "321/321 [==============================] - 0s 64us/sample - loss: 0.4651 - accuracy: 0.8505\n",
      "Epoch 9/10\n",
      "321/321 [==============================] - 0s 60us/sample - loss: 0.4384 - accuracy: 0.8442\n",
      "Epoch 10/10\n",
      "321/321 [==============================] - 0s 60us/sample - loss: 0.3757 - accuracy: 0.8660\n",
      "Train on 337 samples\n",
      "Epoch 1/10\n",
      "337/337 [==============================] - 11s 33ms/sample - loss: 2.2155 - accuracy: 0.2226\n",
      "Epoch 2/10\n",
      "337/337 [==============================] - 0s 66us/sample - loss: 1.7212 - accuracy: 0.4866\n",
      "Epoch 3/10\n",
      "337/337 [==============================] - 0s 71us/sample - loss: 1.2952 - accuracy: 0.5727\n",
      "Epoch 4/10\n",
      "337/337 [==============================] - 0s 61us/sample - loss: 0.9156 - accuracy: 0.6736\n",
      "Epoch 5/10\n",
      "337/337 [==============================] - 0s 61us/sample - loss: 0.7012 - accuracy: 0.7537\n",
      "Epoch 6/10\n",
      "337/337 [==============================] - 0s 62us/sample - loss: 0.6495 - accuracy: 0.8131\n",
      "Epoch 7/10\n",
      "337/337 [==============================] - 0s 61us/sample - loss: 0.4682 - accuracy: 0.8576\n",
      "Epoch 8/10\n",
      "337/337 [==============================] - 0s 65us/sample - loss: 0.4705 - accuracy: 0.8398\n",
      "Epoch 9/10\n",
      "337/337 [==============================] - 0s 63us/sample - loss: 0.3500 - accuracy: 0.9110\n",
      "Epoch 10/10\n",
      "337/337 [==============================] - 0s 61us/sample - loss: 0.3329 - accuracy: 0.9050\n",
      "Train on 307 samples\n",
      "Epoch 1/10\n",
      "307/307 [==============================] - 11s 37ms/sample - loss: 2.2308 - accuracy: 0.1922\n",
      "Epoch 2/10\n",
      "307/307 [==============================] - 0s 66us/sample - loss: 1.8578 - accuracy: 0.4235\n",
      "Epoch 3/10\n",
      "307/307 [==============================] - 0s 65us/sample - loss: 1.2925 - accuracy: 0.6384\n",
      "Epoch 4/10\n",
      "307/307 [==============================] - 0s 63us/sample - loss: 1.0488 - accuracy: 0.6612\n",
      "Epoch 5/10\n",
      "307/307 [==============================] - 0s 62us/sample - loss: 0.7850 - accuracy: 0.7264\n",
      "Epoch 6/10\n",
      "307/307 [==============================] - 0s 64us/sample - loss: 0.6545 - accuracy: 0.8046\n",
      "Epoch 7/10\n",
      "307/307 [==============================] - 0s 61us/sample - loss: 0.5507 - accuracy: 0.8339\n",
      "Epoch 8/10\n",
      "307/307 [==============================] - 0s 73us/sample - loss: 0.4836 - accuracy: 0.8502\n",
      "Epoch 9/10\n",
      "307/307 [==============================] - 0s 63us/sample - loss: 0.4530 - accuracy: 0.8664\n",
      "Epoch 10/10\n",
      "307/307 [==============================] - 0s 62us/sample - loss: 0.3767 - accuracy: 0.8860\n",
      "Train on 341 samples\n",
      "Epoch 1/10\n",
      "341/341 [==============================] - 11s 33ms/sample - loss: 2.2294 - accuracy: 0.2141\n",
      "Epoch 2/10\n",
      "341/341 [==============================] - 0s 65us/sample - loss: 1.7668 - accuracy: 0.4809\n",
      "Epoch 3/10\n",
      "341/341 [==============================] - 0s 61us/sample - loss: 1.2499 - accuracy: 0.6481\n",
      "Epoch 4/10\n",
      "341/341 [==============================] - 0s 61us/sample - loss: 0.8826 - accuracy: 0.7185\n",
      "Epoch 5/10\n",
      "341/341 [==============================] - 0s 60us/sample - loss: 0.6781 - accuracy: 0.8152\n",
      "Epoch 6/10\n",
      "341/341 [==============================] - 0s 65us/sample - loss: 0.5634 - accuracy: 0.8065\n",
      "Epoch 7/10\n",
      "341/341 [==============================] - 0s 60us/sample - loss: 0.5126 - accuracy: 0.8270\n",
      "Epoch 8/10\n",
      "341/341 [==============================] - 0s 57us/sample - loss: 0.4333 - accuracy: 0.8416\n",
      "Epoch 9/10\n",
      "341/341 [==============================] - 0s 59us/sample - loss: 0.3950 - accuracy: 0.8710\n",
      "Epoch 10/10\n",
      "341/341 [==============================] - 0s 59us/sample - loss: 0.3252 - accuracy: 0.8944\n",
      "Train on 366 samples\n",
      "Epoch 1/10\n",
      "366/366 [==============================] - 11s 31ms/sample - loss: 2.2324 - accuracy: 0.2186\n",
      "Epoch 2/10\n",
      "366/366 [==============================] - 0s 64us/sample - loss: 1.7776 - accuracy: 0.5137\n",
      "Epoch 3/10\n",
      "366/366 [==============================] - 0s 60us/sample - loss: 1.2962 - accuracy: 0.6257\n",
      "Epoch 4/10\n",
      "366/366 [==============================] - 0s 59us/sample - loss: 0.9391 - accuracy: 0.7240\n",
      "Epoch 5/10\n",
      "366/366 [==============================] - 0s 59us/sample - loss: 0.7795 - accuracy: 0.7514\n",
      "Epoch 6/10\n",
      "366/366 [==============================] - 0s 59us/sample - loss: 0.6495 - accuracy: 0.7869\n",
      "Epoch 7/10\n",
      "366/366 [==============================] - 0s 58us/sample - loss: 0.5224 - accuracy: 0.8251\n",
      "Epoch 8/10\n",
      "366/366 [==============================] - 0s 58us/sample - loss: 0.4513 - accuracy: 0.8634\n",
      "Epoch 9/10\n",
      "366/366 [==============================] - 0s 58us/sample - loss: 0.3704 - accuracy: 0.8934\n",
      "Epoch 10/10\n",
      "366/366 [==============================] - 0s 57us/sample - loss: 0.2898 - accuracy: 0.9317\n",
      "Train on 323 samples\n",
      "Epoch 1/10\n",
      "323/323 [==============================] - 11s 35ms/sample - loss: 2.1944 - accuracy: 0.2817\n",
      "Epoch 2/10\n",
      "323/323 [==============================] - 0s 68us/sample - loss: 1.7057 - accuracy: 0.5201\n",
      "Epoch 3/10\n",
      "323/323 [==============================] - 0s 62us/sample - loss: 1.1160 - accuracy: 0.6811\n",
      "Epoch 4/10\n",
      "323/323 [==============================] - 0s 61us/sample - loss: 0.8963 - accuracy: 0.6935\n",
      "Epoch 5/10\n",
      "323/323 [==============================] - 0s 61us/sample - loss: 0.7364 - accuracy: 0.7554\n",
      "Epoch 6/10\n",
      "323/323 [==============================] - 0s 61us/sample - loss: 0.6568 - accuracy: 0.7771\n",
      "Epoch 7/10\n",
      "323/323 [==============================] - 0s 61us/sample - loss: 0.5393 - accuracy: 0.8359\n",
      "Epoch 8/10\n",
      "323/323 [==============================] - 0s 61us/sample - loss: 0.4105 - accuracy: 0.8793\n",
      "Epoch 9/10\n",
      "323/323 [==============================] - 0s 62us/sample - loss: 0.3923 - accuracy: 0.8824\n",
      "Epoch 10/10\n",
      "323/323 [==============================] - 0s 61us/sample - loss: 0.3041 - accuracy: 0.9133\n",
      "Train on 314 samples\n",
      "Epoch 1/10\n",
      "314/314 [==============================] - 11s 36ms/sample - loss: 2.2331 - accuracy: 0.2038\n",
      "Epoch 2/10\n",
      "314/314 [==============================] - 0s 70us/sample - loss: 1.7858 - accuracy: 0.5223\n",
      "Epoch 3/10\n",
      "314/314 [==============================] - 0s 65us/sample - loss: 1.2197 - accuracy: 0.6656\n",
      "Epoch 4/10\n",
      "314/314 [==============================] - 0s 62us/sample - loss: 0.9685 - accuracy: 0.6911\n",
      "Epoch 5/10\n",
      "314/314 [==============================] - 0s 64us/sample - loss: 0.8166 - accuracy: 0.7325\n",
      "Epoch 6/10\n",
      "314/314 [==============================] - 0s 64us/sample - loss: 0.6338 - accuracy: 0.7930\n",
      "Epoch 7/10\n",
      "314/314 [==============================] - 0s 64us/sample - loss: 0.5093 - accuracy: 0.8599\n",
      "Epoch 8/10\n",
      "314/314 [==============================] - 0s 65us/sample - loss: 0.3852 - accuracy: 0.9013\n",
      "Epoch 9/10\n",
      "314/314 [==============================] - 0s 66us/sample - loss: 0.3595 - accuracy: 0.8885\n",
      "Epoch 10/10\n",
      "314/314 [==============================] - 0s 65us/sample - loss: 0.3047 - accuracy: 0.9045\n",
      "Train on 334 samples\n",
      "Epoch 1/10\n",
      "334/334 [==============================] - 12s 35ms/sample - loss: 2.2275 - accuracy: 0.2156\n",
      "Epoch 2/10\n",
      "334/334 [==============================] - 0s 67us/sample - loss: 1.7395 - accuracy: 0.5329\n",
      "Epoch 3/10\n",
      "334/334 [==============================] - 0s 64us/sample - loss: 1.2879 - accuracy: 0.6407\n",
      "Epoch 4/10\n",
      "334/334 [==============================] - 0s 63us/sample - loss: 0.9852 - accuracy: 0.6856\n",
      "Epoch 5/10\n",
      "334/334 [==============================] - 0s 61us/sample - loss: 0.7367 - accuracy: 0.7575\n",
      "Epoch 6/10\n",
      "334/334 [==============================] - 0s 62us/sample - loss: 0.5724 - accuracy: 0.8204\n",
      "Epoch 7/10\n",
      "334/334 [==============================] - 0s 63us/sample - loss: 0.4697 - accuracy: 0.8533\n",
      "Epoch 8/10\n",
      "334/334 [==============================] - 0s 62us/sample - loss: 0.3997 - accuracy: 0.8683\n",
      "Epoch 9/10\n",
      "334/334 [==============================] - 0s 60us/sample - loss: 0.3321 - accuracy: 0.9012\n",
      "Epoch 10/10\n",
      "334/334 [==============================] - 0s 70us/sample - loss: 0.3126 - accuracy: 0.8713\n",
      "Train on 329 samples\n",
      "Epoch 1/10\n",
      "329/329 [==============================] - 12s 35ms/sample - loss: 2.2420 - accuracy: 0.1793\n",
      "Epoch 2/10\n",
      "329/329 [==============================] - 0s 66us/sample - loss: 1.8302 - accuracy: 0.4134\n",
      "Epoch 3/10\n"
     ]
    },
    {
     "name": "stdout",
     "output_type": "stream",
     "text": [
      "329/329 [==============================] - 0s 73us/sample - loss: 1.3702 - accuracy: 0.6292\n",
      "Epoch 4/10\n",
      "329/329 [==============================] - 0s 63us/sample - loss: 1.0237 - accuracy: 0.6748\n",
      "Epoch 5/10\n",
      "329/329 [==============================] - 0s 63us/sample - loss: 0.7861 - accuracy: 0.7690\n",
      "Epoch 6/10\n",
      "329/329 [==============================] - 0s 61us/sample - loss: 0.6595 - accuracy: 0.7933\n",
      "Epoch 7/10\n",
      "329/329 [==============================] - 0s 61us/sample - loss: 0.5333 - accuracy: 0.8055\n",
      "Epoch 8/10\n",
      "329/329 [==============================] - 0s 61us/sample - loss: 0.4790 - accuracy: 0.8480\n",
      "Epoch 9/10\n",
      "329/329 [==============================] - 0s 62us/sample - loss: 0.4028 - accuracy: 0.8754\n",
      "Epoch 10/10\n",
      "329/329 [==============================] - 0s 62us/sample - loss: 0.3721 - accuracy: 0.8815\n",
      "Train on 330 samples\n",
      "Epoch 1/10\n",
      "330/330 [==============================] - 12s 35ms/sample - loss: 2.2205 - accuracy: 0.2061\n",
      "Epoch 2/10\n",
      "330/330 [==============================] - 0s 68us/sample - loss: 1.7812 - accuracy: 0.4576\n",
      "Epoch 3/10\n",
      "330/330 [==============================] - 0s 62us/sample - loss: 1.2546 - accuracy: 0.6424\n",
      "Epoch 4/10\n",
      "330/330 [==============================] - 0s 62us/sample - loss: 0.9477 - accuracy: 0.6970\n",
      "Epoch 5/10\n",
      "330/330 [==============================] - 0s 61us/sample - loss: 0.7458 - accuracy: 0.7576\n",
      "Epoch 6/10\n",
      "330/330 [==============================] - 0s 60us/sample - loss: 0.5802 - accuracy: 0.7939\n",
      "Epoch 7/10\n",
      "330/330 [==============================] - 0s 62us/sample - loss: 0.5273 - accuracy: 0.8545\n",
      "Epoch 8/10\n",
      "330/330 [==============================] - 0s 63us/sample - loss: 0.4467 - accuracy: 0.8606\n",
      "Epoch 9/10\n",
      "330/330 [==============================] - 0s 61us/sample - loss: 0.3525 - accuracy: 0.8818\n",
      "Epoch 10/10\n",
      "330/330 [==============================] - 0s 63us/sample - loss: 0.2829 - accuracy: 0.9212\n",
      "Train on 361 samples\n",
      "Epoch 1/10\n",
      "361/361 [==============================] - 1s 2ms/sample - loss: 2.1974 - accuracy: 0.2382\n",
      "Epoch 2/10\n",
      "361/361 [==============================] - 0s 68us/sample - loss: 1.7910 - accuracy: 0.4903\n",
      "Epoch 3/10\n",
      "361/361 [==============================] - 0s 59us/sample - loss: 1.2943 - accuracy: 0.5762\n",
      "Epoch 4/10\n",
      "361/361 [==============================] - 0s 60us/sample - loss: 0.9222 - accuracy: 0.6870\n",
      "Epoch 5/10\n",
      "361/361 [==============================] - 0s 60us/sample - loss: 0.7048 - accuracy: 0.7645\n",
      "Epoch 6/10\n",
      "361/361 [==============================] - 0s 60us/sample - loss: 0.6848 - accuracy: 0.7756\n",
      "Epoch 7/10\n",
      "361/361 [==============================] - 0s 60us/sample - loss: 0.5517 - accuracy: 0.8116\n",
      "Epoch 8/10\n",
      "361/361 [==============================] - 0s 62us/sample - loss: 0.4094 - accuracy: 0.8643\n",
      "Epoch 9/10\n",
      "361/361 [==============================] - 0s 58us/sample - loss: 0.4014 - accuracy: 0.8615\n",
      "Epoch 10/10\n",
      "361/361 [==============================] - 0s 59us/sample - loss: 0.2742 - accuracy: 0.8947\n",
      "Train on 329 samples\n",
      "Epoch 1/10\n",
      "329/329 [==============================] - 1s 2ms/sample - loss: 2.2131 - accuracy: 0.2067\n",
      "Epoch 2/10\n",
      "329/329 [==============================] - 0s 61us/sample - loss: 1.7738 - accuracy: 0.4438\n",
      "Epoch 3/10\n",
      "329/329 [==============================] - 0s 71us/sample - loss: 1.2896 - accuracy: 0.6231\n",
      "Epoch 4/10\n",
      "329/329 [==============================] - 0s 62us/sample - loss: 0.9988 - accuracy: 0.6626\n",
      "Epoch 5/10\n",
      "329/329 [==============================] - 0s 111us/sample - loss: 0.8169 - accuracy: 0.7568\n",
      "Epoch 6/10\n",
      "329/329 [==============================] - 0s 60us/sample - loss: 0.6430 - accuracy: 0.8176\n",
      "Epoch 7/10\n",
      "329/329 [==============================] - 0s 71us/sample - loss: 0.5918 - accuracy: 0.8116\n",
      "Epoch 8/10\n",
      "329/329 [==============================] - 0s 61us/sample - loss: 0.4911 - accuracy: 0.8480\n",
      "Epoch 9/10\n",
      "329/329 [==============================] - 0s 60us/sample - loss: 0.3918 - accuracy: 0.8632\n",
      "Epoch 10/10\n",
      "329/329 [==============================] - 0s 65us/sample - loss: 0.3645 - accuracy: 0.8845\n",
      "Train on 325 samples\n",
      "Epoch 1/10\n",
      "325/325 [==============================] - 1s 2ms/sample - loss: 2.2361 - accuracy: 0.1877\n",
      "Epoch 2/10\n",
      "325/325 [==============================] - 0s 62us/sample - loss: 1.7598 - accuracy: 0.5600\n",
      "Epoch 3/10\n",
      "325/325 [==============================] - 0s 62us/sample - loss: 1.2164 - accuracy: 0.6585\n",
      "Epoch 4/10\n",
      "325/325 [==============================] - 0s 70us/sample - loss: 0.8830 - accuracy: 0.7200\n",
      "Epoch 5/10\n",
      "325/325 [==============================] - 0s 61us/sample - loss: 0.7346 - accuracy: 0.7538\n",
      "Epoch 6/10\n",
      "325/325 [==============================] - 0s 60us/sample - loss: 0.5798 - accuracy: 0.8123\n",
      "Epoch 7/10\n",
      "325/325 [==============================] - 0s 61us/sample - loss: 0.4541 - accuracy: 0.8554\n",
      "Epoch 8/10\n",
      "325/325 [==============================] - 0s 62us/sample - loss: 0.3931 - accuracy: 0.8738\n",
      "Epoch 9/10\n",
      "325/325 [==============================] - 0s 61us/sample - loss: 0.3108 - accuracy: 0.8954\n",
      "Epoch 10/10\n",
      "325/325 [==============================] - 0s 61us/sample - loss: 0.3013 - accuracy: 0.8985\n",
      "Train on 311 samples\n",
      "Epoch 1/10\n",
      "311/311 [==============================] - 12s 38ms/sample - loss: 2.2501 - accuracy: 0.1640\n",
      "Epoch 2/10\n",
      "311/311 [==============================] - 0s 68us/sample - loss: 1.8410 - accuracy: 0.5756\n",
      "Epoch 3/10\n",
      "311/311 [==============================] - 0s 64us/sample - loss: 1.3422 - accuracy: 0.6077\n",
      "Epoch 4/10\n",
      "311/311 [==============================] - 0s 65us/sample - loss: 0.8944 - accuracy: 0.7395\n",
      "Epoch 5/10\n",
      "311/311 [==============================] - 0s 64us/sample - loss: 0.7600 - accuracy: 0.7621\n",
      "Epoch 6/10\n",
      "311/311 [==============================] - 0s 63us/sample - loss: 0.6247 - accuracy: 0.8135\n",
      "Epoch 7/10\n",
      "311/311 [==============================] - 0s 65us/sample - loss: 0.5162 - accuracy: 0.8232\n",
      "Epoch 8/10\n",
      "311/311 [==============================] - 0s 64us/sample - loss: 0.3714 - accuracy: 0.8842\n",
      "Epoch 9/10\n",
      "311/311 [==============================] - 0s 64us/sample - loss: 0.3522 - accuracy: 0.8939\n",
      "Epoch 10/10\n",
      "311/311 [==============================] - 0s 64us/sample - loss: 0.3506 - accuracy: 0.9132\n",
      "Train on 330 samples\n",
      "Epoch 1/10\n",
      "330/330 [==============================] - 1s 2ms/sample - loss: 2.2546 - accuracy: 0.2152\n",
      "Epoch 2/10\n",
      "330/330 [==============================] - 0s 62us/sample - loss: 1.8583 - accuracy: 0.4788\n",
      "Epoch 3/10\n",
      "330/330 [==============================] - 0s 61us/sample - loss: 1.3782 - accuracy: 0.6273\n",
      "Epoch 4/10\n",
      "330/330 [==============================] - 0s 61us/sample - loss: 0.9736 - accuracy: 0.6636\n",
      "Epoch 5/10\n",
      "330/330 [==============================] - 0s 63us/sample - loss: 0.8049 - accuracy: 0.7515\n",
      "Epoch 6/10\n",
      "330/330 [==============================] - 0s 60us/sample - loss: 0.6532 - accuracy: 0.7909\n",
      "Epoch 7/10\n",
      "330/330 [==============================] - 0s 64us/sample - loss: 0.5907 - accuracy: 0.8061\n",
      "Epoch 8/10\n",
      "330/330 [==============================] - 0s 60us/sample - loss: 0.5459 - accuracy: 0.8242\n",
      "Epoch 9/10\n",
      "330/330 [==============================] - 0s 61us/sample - loss: 0.4102 - accuracy: 0.8727\n",
      "Epoch 10/10\n",
      "330/330 [==============================] - 0s 67us/sample - loss: 0.4332 - accuracy: 0.8576\n",
      "Train on 340 samples\n",
      "Epoch 1/10\n",
      "340/340 [==============================] - 12s 36ms/sample - loss: 2.2131 - accuracy: 0.2206\n",
      "Epoch 2/10\n",
      "340/340 [==============================] - 0s 66us/sample - loss: 1.7246 - accuracy: 0.5441\n",
      "Epoch 3/10\n",
      "340/340 [==============================] - 0s 77us/sample - loss: 1.2330 - accuracy: 0.6471\n",
      "Epoch 4/10\n",
      "340/340 [==============================] - 0s 61us/sample - loss: 0.8479 - accuracy: 0.7353\n",
      "Epoch 5/10\n",
      "340/340 [==============================] - 0s 61us/sample - loss: 0.6870 - accuracy: 0.7706\n",
      "Epoch 6/10\n",
      "340/340 [==============================] - 0s 62us/sample - loss: 0.5467 - accuracy: 0.8088\n",
      "Epoch 7/10\n",
      "340/340 [==============================] - 0s 61us/sample - loss: 0.5209 - accuracy: 0.8176\n",
      "Epoch 8/10\n",
      "340/340 [==============================] - 0s 60us/sample - loss: 0.3420 - accuracy: 0.8971\n",
      "Epoch 9/10\n",
      "340/340 [==============================] - 0s 62us/sample - loss: 0.3306 - accuracy: 0.9000\n",
      "Epoch 10/10\n",
      "340/340 [==============================] - 0s 63us/sample - loss: 0.2967 - accuracy: 0.9059\n",
      "Train on 344 samples\n"
     ]
    },
    {
     "name": "stdout",
     "output_type": "stream",
     "text": [
      "Epoch 1/10\n",
      "344/344 [==============================] - 1s 2ms/sample - loss: 2.1742 - accuracy: 0.2703\n",
      "Epoch 2/10\n",
      "344/344 [==============================] - 0s 62us/sample - loss: 1.7170 - accuracy: 0.5262\n",
      "Epoch 3/10\n",
      "344/344 [==============================] - 0s 62us/sample - loss: 1.1922 - accuracy: 0.6279\n",
      "Epoch 4/10\n",
      "344/344 [==============================] - 0s 62us/sample - loss: 0.8721 - accuracy: 0.7413\n",
      "Epoch 5/10\n",
      "344/344 [==============================] - 0s 61us/sample - loss: 0.7089 - accuracy: 0.7616\n",
      "Epoch 6/10\n",
      "344/344 [==============================] - 0s 62us/sample - loss: 0.6076 - accuracy: 0.7936\n",
      "Epoch 7/10\n",
      "344/344 [==============================] - 0s 61us/sample - loss: 0.4682 - accuracy: 0.8517\n",
      "Epoch 8/10\n",
      "344/344 [==============================] - 0s 65us/sample - loss: 0.4702 - accuracy: 0.8605\n",
      "Epoch 9/10\n",
      "344/344 [==============================] - 0s 61us/sample - loss: 0.3856 - accuracy: 0.8605\n",
      "Epoch 10/10\n",
      "344/344 [==============================] - 0s 61us/sample - loss: 0.3157 - accuracy: 0.9012\n",
      "Train on 348 samples\n",
      "Epoch 1/10\n",
      "348/348 [==============================] - 1s 2ms/sample - loss: 2.2077 - accuracy: 0.2155\n",
      "Epoch 2/10\n",
      "348/348 [==============================] - 0s 59us/sample - loss: 1.8056 - accuracy: 0.4425\n",
      "Epoch 3/10\n",
      "348/348 [==============================] - 0s 59us/sample - loss: 1.2433 - accuracy: 0.6580\n",
      "Epoch 4/10\n",
      "348/348 [==============================] - 0s 60us/sample - loss: 0.9461 - accuracy: 0.6638\n",
      "Epoch 5/10\n",
      "348/348 [==============================] - 0s 60us/sample - loss: 0.7645 - accuracy: 0.7672\n",
      "Epoch 6/10\n",
      "348/348 [==============================] - 0s 61us/sample - loss: 0.6410 - accuracy: 0.8046\n",
      "Epoch 7/10\n",
      "348/348 [==============================] - 0s 60us/sample - loss: 0.4984 - accuracy: 0.8477\n",
      "Epoch 8/10\n",
      "348/348 [==============================] - 0s 60us/sample - loss: 0.4415 - accuracy: 0.8621\n",
      "Epoch 9/10\n",
      "348/348 [==============================] - 0s 61us/sample - loss: 0.3583 - accuracy: 0.9023\n",
      "Epoch 10/10\n",
      "348/348 [==============================] - 0s 60us/sample - loss: 0.3159 - accuracy: 0.9109\n",
      "Train on 344 samples\n",
      "Epoch 1/10\n",
      "344/344 [==============================] - 1s 2ms/sample - loss: 2.2350 - accuracy: 0.1831\n",
      "Epoch 2/10\n",
      "344/344 [==============================] - 0s 61us/sample - loss: 1.7902 - accuracy: 0.5262\n",
      "Epoch 3/10\n",
      "344/344 [==============================] - 0s 62us/sample - loss: 1.2940 - accuracy: 0.6250\n",
      "Epoch 4/10\n",
      "344/344 [==============================] - 0s 60us/sample - loss: 0.9004 - accuracy: 0.7238\n",
      "Epoch 5/10\n",
      "344/344 [==============================] - 0s 61us/sample - loss: 0.7076 - accuracy: 0.7936\n",
      "Epoch 6/10\n",
      "344/344 [==============================] - 0s 63us/sample - loss: 0.6113 - accuracy: 0.7849\n",
      "Epoch 7/10\n",
      "344/344 [==============================] - 0s 60us/sample - loss: 0.4767 - accuracy: 0.8605\n",
      "Epoch 8/10\n",
      "344/344 [==============================] - 0s 61us/sample - loss: 0.4077 - accuracy: 0.8692\n",
      "Epoch 9/10\n",
      "344/344 [==============================] - 0s 60us/sample - loss: 0.3878 - accuracy: 0.8750\n",
      "Epoch 10/10\n",
      "344/344 [==============================] - 0s 61us/sample - loss: 0.3123 - accuracy: 0.8983\n",
      "Train on 328 samples\n",
      "Epoch 1/10\n",
      "328/328 [==============================] - 12s 38ms/sample - loss: 2.2588 - accuracy: 0.1524\n",
      "Epoch 2/10\n",
      "328/328 [==============================] - 0s 69us/sample - loss: 1.9413 - accuracy: 0.3872\n",
      "Epoch 3/10\n",
      "328/328 [==============================] - 0s 62us/sample - loss: 1.5092 - accuracy: 0.5640\n",
      "Epoch 4/10\n",
      "328/328 [==============================] - 0s 62us/sample - loss: 1.1548 - accuracy: 0.6311\n",
      "Epoch 5/10\n",
      "328/328 [==============================] - 0s 62us/sample - loss: 0.9471 - accuracy: 0.7104\n",
      "Epoch 6/10\n",
      "328/328 [==============================] - 0s 60us/sample - loss: 0.7079 - accuracy: 0.7652\n",
      "Epoch 7/10\n",
      "328/328 [==============================] - 0s 63us/sample - loss: 0.6496 - accuracy: 0.7774\n",
      "Epoch 8/10\n",
      "328/328 [==============================] - 0s 63us/sample - loss: 0.5642 - accuracy: 0.8110\n",
      "Epoch 9/10\n",
      "328/328 [==============================] - 0s 62us/sample - loss: 0.4879 - accuracy: 0.8445\n",
      "Epoch 10/10\n",
      "328/328 [==============================] - 0s 63us/sample - loss: 0.4408 - accuracy: 0.8659\n",
      "Train on 346 samples\n",
      "Epoch 1/10\n",
      "346/346 [==============================] - 12s 36ms/sample - loss: 2.2383 - accuracy: 0.1994\n",
      "Epoch 2/10\n",
      "346/346 [==============================] - 0s 67us/sample - loss: 1.7799 - accuracy: 0.5549\n",
      "Epoch 3/10\n",
      "346/346 [==============================] - 0s 63us/sample - loss: 1.3109 - accuracy: 0.6416\n",
      "Epoch 4/10\n",
      "346/346 [==============================] - 0s 62us/sample - loss: 0.9413 - accuracy: 0.7081\n",
      "Epoch 5/10\n",
      "346/346 [==============================] - 0s 60us/sample - loss: 0.7528 - accuracy: 0.7803\n",
      "Epoch 6/10\n",
      "346/346 [==============================] - 0s 59us/sample - loss: 0.5846 - accuracy: 0.8121\n",
      "Epoch 7/10\n",
      "346/346 [==============================] - 0s 62us/sample - loss: 0.5561 - accuracy: 0.8382\n",
      "Epoch 8/10\n",
      "346/346 [==============================] - 0s 61us/sample - loss: 0.4421 - accuracy: 0.8728\n",
      "Epoch 9/10\n",
      "346/346 [==============================] - 0s 61us/sample - loss: 0.3476 - accuracy: 0.8960\n",
      "Epoch 10/10\n",
      "346/346 [==============================] - 0s 71us/sample - loss: 0.3717 - accuracy: 0.8931\n",
      "Train on 347 samples\n",
      "Epoch 1/10\n",
      "347/347 [==============================] - 12s 36ms/sample - loss: 2.2179 - accuracy: 0.2594\n",
      "Epoch 2/10\n",
      "347/347 [==============================] - 0s 66us/sample - loss: 1.7463 - accuracy: 0.5476\n",
      "Epoch 3/10\n",
      "347/347 [==============================] - 0s 61us/sample - loss: 1.2929 - accuracy: 0.6398\n",
      "Epoch 4/10\n",
      "347/347 [==============================] - 0s 60us/sample - loss: 0.9669 - accuracy: 0.7003\n",
      "Epoch 5/10\n",
      "347/347 [==============================] - 0s 59us/sample - loss: 0.7619 - accuracy: 0.7464\n",
      "Epoch 6/10\n",
      "347/347 [==============================] - 0s 58us/sample - loss: 0.6164 - accuracy: 0.8069\n",
      "Epoch 7/10\n",
      "347/347 [==============================] - 0s 78us/sample - loss: 0.5494 - accuracy: 0.8156\n",
      "Epoch 8/10\n",
      "347/347 [==============================] - 0s 61us/sample - loss: 0.4338 - accuracy: 0.8588\n",
      "Epoch 9/10\n",
      "347/347 [==============================] - 0s 60us/sample - loss: 0.3618 - accuracy: 0.8905\n",
      "Epoch 10/10\n",
      "347/347 [==============================] - 0s 61us/sample - loss: 0.3834 - accuracy: 0.8963\n",
      "Train on 344 samples\n",
      "Epoch 1/10\n",
      "344/344 [==============================] - 1s 2ms/sample - loss: 2.2126 - accuracy: 0.2297\n",
      "Epoch 2/10\n",
      "344/344 [==============================] - 0s 61us/sample - loss: 1.7994 - accuracy: 0.4331\n",
      "Epoch 3/10\n",
      "344/344 [==============================] - 0s 62us/sample - loss: 1.3368 - accuracy: 0.5901\n",
      "Epoch 4/10\n",
      "344/344 [==============================] - 0s 67us/sample - loss: 1.0669 - accuracy: 0.6366\n",
      "Epoch 5/10\n",
      "344/344 [==============================] - 0s 63us/sample - loss: 0.8400 - accuracy: 0.7122\n",
      "Epoch 6/10\n",
      "344/344 [==============================] - 0s 62us/sample - loss: 0.6880 - accuracy: 0.8023\n",
      "Epoch 7/10\n",
      "344/344 [==============================] - 0s 63us/sample - loss: 0.6103 - accuracy: 0.7965\n",
      "Epoch 8/10\n",
      "344/344 [==============================] - 0s 60us/sample - loss: 0.5065 - accuracy: 0.8343\n",
      "Epoch 9/10\n",
      "344/344 [==============================] - 0s 64us/sample - loss: 0.4008 - accuracy: 0.8837\n",
      "Epoch 10/10\n",
      "344/344 [==============================] - 0s 61us/sample - loss: 0.3994 - accuracy: 0.8750\n"
     ]
    }
   ],
   "source": [
    "model.fit(pdata, plabels, nb_epochs=10)\n",
    "dpa_model_10.fit(pdata, plabels, nb_epochs=10)\n",
    "dpa_model_20.fit(pdata, plabels, nb_epochs=10)\n",
    "dpa_model_30.fit(pdata, plabels, nb_epochs=10)"
   ]
  },
  {
   "cell_type": "markdown",
   "id": "d7389971",
   "metadata": {},
   "source": [
    "# Evaluate the performance of the trained models on unpoisoned data\n",
    "The performance of the models appears normal. We see that for the DPA models, the performance drops slightly as the ensemble size increases"
   ]
  },
  {
   "cell_type": "code",
   "execution_count": 10,
   "id": "2f63b588",
   "metadata": {},
   "outputs": [
    {
     "name": "stdout",
     "output_type": "stream",
     "text": [
      "\n",
      "Clean test set accuracy (model): 98.21%\n"
     ]
    },
    {
     "data": {
      "image/png": "[encoded data removed]",
      "text/plain": [
       "<Figure size 432x288 with 1 Axes>"
      ]
     },
     "metadata": {
      "needs_background": "light"
     },
     "output_type": "display_data"
    },
    {
     "name": "stdout",
     "output_type": "stream",
     "text": [
      "Prediction: 0\n"
     ]
    }
   ],
   "source": [
    "clean_preds = np.argmax(model.predict(x_test), axis=1)\n",
    "clean_correct = np.sum(clean_preds == np.argmax(y_test, axis=1))\n",
    "clean_total = y_test.shape[0]\n",
    "\n",
    "clean_acc = clean_correct / clean_total\n",
    "print(\"\\nClean test set accuracy (model): %.2f%%\" % (clean_acc * 100))\n",
    "\n",
    "# Display image, label, and prediction for a clean sample to show how the poisoned model classifies a clean sample\n",
    "\n",
    "c = 0 # class to display\n",
    "i = 0 # image of the class to display\n",
    "\n",
    "c_idx = np.where(np.argmax(y_test, 1) == c)[0][i] # index of the image in clean arrays\n",
    "\n",
    "plt.imshow(x_test[c_idx].squeeze())\n",
    "plt.show()\n",
    "clean_label = c\n",
    "print(\"Prediction: \" + str(clean_preds[c_idx]))"
   ]
  },
  {
   "cell_type": "code",
   "execution_count": 11,
   "id": "2f29f09a",
   "metadata": {},
   "outputs": [
    {
     "name": "stdout",
     "output_type": "stream",
     "text": [
      "\n",
      "Clean test set accuracy (DPA model_10): 93.99%\n"
     ]
    },
    {
     "data": {
      "image/png": "[encoded data removed]",
      "text/plain": [
       "<Figure size 432x288 with 1 Axes>"
      ]
     },
     "metadata": {
      "needs_background": "light"
     },
     "output_type": "display_data"
    },
    {
     "name": "stdout",
     "output_type": "stream",
     "text": [
      "Prediction: 0\n"
     ]
    }
   ],
   "source": [
    "clean_preds = np.argmax(dpa_model_10.predict(x_test), axis=1)\n",
    "clean_correct = np.sum(clean_preds == np.argmax(y_test, axis=1))\n",
    "clean_total = y_test.shape[0]\n",
    "\n",
    "clean_acc = clean_correct / clean_total\n",
    "print(\"\\nClean test set accuracy (DPA model_10): %.2f%%\" % (clean_acc * 100))\n",
    "\n",
    "# Display image, label, and prediction for a clean sample to show how the poisoned model classifies a clean sample\n",
    "\n",
    "c = 0 # class to display\n",
    "i = 0 # image of the class to display\n",
    "\n",
    "c_idx = np.where(np.argmax(y_test, 1) == c)[0][i] # index of the image in clean arrays\n",
    "\n",
    "plt.imshow(x_test[c_idx].squeeze())\n",
    "plt.show()\n",
    "clean_label = c\n",
    "print(\"Prediction: \" + str(clean_preds[c_idx]))"
   ]
  },
  {
   "cell_type": "code",
   "execution_count": 12,
   "id": "af7b0bdd",
   "metadata": {},
   "outputs": [
    {
     "name": "stdout",
     "output_type": "stream",
     "text": [
      "\n",
      "Clean test set accuracy (DPA model_20): 91.27%\n"
     ]
    },
    {
     "data": {
      "image/png": "[encoded data removed]",
      "text/plain": [
       "<Figure size 432x288 with 1 Axes>"
      ]
     },
     "metadata": {
      "needs_background": "light"
     },
     "output_type": "display_data"
    },
    {
     "name": "stdout",
     "output_type": "stream",
     "text": [
      "Prediction: 0\n"
     ]
    }
   ],
   "source": [
    "clean_preds = np.argmax(dpa_model_20.predict(x_test), axis=1)\n",
    "clean_correct = np.sum(clean_preds == np.argmax(y_test, axis=1))\n",
    "clean_total = y_test.shape[0]\n",
    "\n",
    "clean_acc = clean_correct / clean_total\n",
    "print(\"\\nClean test set accuracy (DPA model_20): %.2f%%\" % (clean_acc * 100))\n",
    "\n",
    "# Display image, label, and prediction for a clean sample to show how the poisoned model classifies a clean sample\n",
    "\n",
    "c = 0 # class to display\n",
    "i = 0 # image of the class to display\n",
    "\n",
    "c_idx = np.where(np.argmax(y_test, 1) == c)[0][i] # index of the image in clean arrays\n",
    "\n",
    "plt.imshow(x_test[c_idx].squeeze())\n",
    "plt.show()\n",
    "clean_label = c\n",
    "print(\"Prediction: \" + str(clean_preds[c_idx]))"
   ]
  },
  {
   "cell_type": "code",
   "execution_count": 13,
   "id": "74d91009",
   "metadata": {},
   "outputs": [
    {
     "name": "stdout",
     "output_type": "stream",
     "text": [
      "\n",
      "Clean test set accuracy (DPA model_30): 89.95%\n"
     ]
    },
    {
     "data": {
      "image/png": "[encoded data removed]",
      "text/plain": [
       "<Figure size 432x288 with 1 Axes>"
      ]
     },
     "metadata": {
      "needs_background": "light"
     },
     "output_type": "display_data"
    },
    {
     "name": "stdout",
     "output_type": "stream",
     "text": [
      "Prediction: 0\n"
     ]
    }
   ],
   "source": [
    "clean_preds = np.argmax(dpa_model_30.predict(x_test), axis=1)\n",
    "clean_correct = np.sum(clean_preds == np.argmax(y_test, axis=1))\n",
    "clean_total = y_test.shape[0]\n",
    "\n",
    "clean_acc = clean_correct / clean_total\n",
    "print(\"\\nClean test set accuracy (DPA model_30): %.2f%%\" % (clean_acc * 100))\n",
    "\n",
    "# Display image, label, and prediction for a clean sample to show how the poisoned model classifies a clean sample\n",
    "\n",
    "c = 0 # class to display\n",
    "i = 0 # image of the class to display\n",
    "\n",
    "c_idx = np.where(np.argmax(y_test, 1) == c)[0][i] # index of the image in clean arrays\n",
    "\n",
    "plt.imshow(x_test[c_idx].squeeze())\n",
    "plt.show()\n",
    "clean_label = c\n",
    "print(\"Prediction: \" + str(clean_preds[c_idx]))"
   ]
  },
  {
   "cell_type": "markdown",
   "id": "d44d4bf3",
   "metadata": {},
   "source": [
    "# Evaluate the performance of the trained models on poisoned data\n",
    "When the trigger is added, we see a shift in performance. The single model performs the worst as no defense is in place to mitigate the effect of the poisoned. The DPA models show some robustnesss to the poison as they partition the training data, which spreads the effect of the poison between models in the ensemble."
   ]
  },
  {
   "cell_type": "code",
   "execution_count": 14,
   "id": "1cd59ae2",
   "metadata": {},
   "outputs": [
    {
     "name": "stdout",
     "output_type": "stream",
     "text": [
      "\n",
      "Poison test set accuracy (model): 0.04%\n"
     ]
    },
    {
     "data": {
      "image/png": "[encoded data removed]",
      "text/plain": [
       "<Figure size 432x288 with 1 Axes>"
      ]
     },
     "metadata": {
      "needs_background": "light"
     },
     "output_type": "display_data"
    },
    {
     "name": "stdout",
     "output_type": "stream",
     "text": [
      "Prediction: 9\n"
     ]
    }
   ],
   "source": [
    "not_target = np.logical_not(np.all(y_test == targets, axis=1))\n",
    "px_test, py_test = backdoor.poison(x_test[not_target], y_test[not_target])\n",
    "\n",
    "poison_preds = np.argmax(model.predict(px_test), axis=1)\n",
    "clean_correct = np.sum(poison_preds == np.argmax(y_test[not_target], axis=1))\n",
    "clean_total = y_test.shape[0]\n",
    "\n",
    "clean_acc = clean_correct / clean_total\n",
    "print(\"\\nPoison test set accuracy (model): %.2f%%\" % (clean_acc * 100))\n",
    "\n",
    "c = 0 # index to display\n",
    "plt.imshow(px_test[c].squeeze())\n",
    "plt.show()\n",
    "clean_label = c\n",
    "print(\"Prediction: \" + str(poison_preds[c]))"
   ]
  },
  {
   "cell_type": "code",
   "execution_count": 15,
   "id": "500e4154",
   "metadata": {},
   "outputs": [
    {
     "name": "stdout",
     "output_type": "stream",
     "text": [
      "\n",
      "Poison test set accuracy (DPA model_10): 70.06%\n"
     ]
    },
    {
     "data": {
      "image/png": "[encoded data removed]",
      "text/plain": [
       "<Figure size 432x288 with 1 Axes>"
      ]
     },
     "metadata": {
      "needs_background": "light"
     },
     "output_type": "display_data"
    },
    {
     "name": "stdout",
     "output_type": "stream",
     "text": [
      "Prediction: 7\n"
     ]
    }
   ],
   "source": [
    "poison_preds = np.argmax(dpa_model_10.predict(px_test), axis=1)\n",
    "clean_correct = np.sum(poison_preds == np.argmax(y_test[not_target], axis=1))\n",
    "clean_total = y_test.shape[0]\n",
    "\n",
    "clean_acc = clean_correct / clean_total\n",
    "print(\"\\nPoison test set accuracy (DPA model_10): %.2f%%\" % (clean_acc * 100))\n",
    "\n",
    "c = 0 # index to display\n",
    "plt.imshow(px_test[c].squeeze())\n",
    "plt.show()\n",
    "clean_label = c\n",
    "print(\"Prediction: \" + str(poison_preds[c]))"
   ]
  },
  {
   "cell_type": "code",
   "execution_count": 16,
   "id": "54e42d16",
   "metadata": {},
   "outputs": [
    {
     "name": "stdout",
     "output_type": "stream",
     "text": [
      "\n",
      "Poison test set accuracy (DPA model_20): 72.86%\n"
     ]
    },
    {
     "data": {
      "image/png": "[encoded data removed]",
      "text/plain": [
       "<Figure size 432x288 with 1 Axes>"
      ]
     },
     "metadata": {
      "needs_background": "light"
     },
     "output_type": "display_data"
    },
    {
     "name": "stdout",
     "output_type": "stream",
     "text": [
      "Prediction: 7\n"
     ]
    }
   ],
   "source": [
    "poison_preds = np.argmax(dpa_model_20.predict(px_test), axis=1)\n",
    "clean_correct = np.sum(poison_preds == np.argmax(y_test[not_target], axis=1))\n",
    "clean_total = y_test.shape[0]\n",
    "\n",
    "clean_acc = clean_correct / clean_total\n",
    "print(\"\\nPoison test set accuracy (DPA model_20): %.2f%%\" % (clean_acc * 100))\n",
    "\n",
    "c = 0 # index to display\n",
    "plt.imshow(px_test[c].squeeze())\n",
    "plt.show()\n",
    "clean_label = c\n",
    "print(\"Prediction: \" + str(poison_preds[c]))"
   ]
  },
  {
   "cell_type": "code",
   "execution_count": 17,
   "id": "89dc71c1",
   "metadata": {},
   "outputs": [
    {
     "name": "stdout",
     "output_type": "stream",
     "text": [
      "\n",
      "Poison test set accuracy (DPA model_30): 73.68%\n"
     ]
    },
    {
     "data": {
      "image/png": "[encoded data removed]",
      "text/plain": [
       "<Figure size 432x288 with 1 Axes>"
      ]
     },
     "metadata": {
      "needs_background": "light"
     },
     "output_type": "display_data"
    },
    {
     "name": "stdout",
     "output_type": "stream",
     "text": [
      "Prediction: 7\n"
     ]
    }
   ],
   "source": [
    "poison_preds = np.argmax(dpa_model_30.predict(px_test), axis=1)\n",
    "clean_correct = np.sum(poison_preds == np.argmax(y_test[not_target], axis=1))\n",
    "clean_total = y_test.shape[0]\n",
    "\n",
    "clean_acc = clean_correct / clean_total\n",
    "print(\"\\nPoison test set accuracy (DPA model_30): %.2f%%\" % (clean_acc * 100))\n",
    "\n",
    "c = 0 # index to display\n",
    "plt.imshow(px_test[c].squeeze())\n",
    "plt.show()\n",
    "clean_label = c\n",
    "print(\"Prediction: \" + str(poison_preds[c]))"
   ]
  },
  {
   "cell_type": "code",
   "execution_count": null,
   "id": "3963c866",
   "metadata": {},
   "outputs": [],
   "source": []
  }
 ],
 "metadata": {
  "kernelspec": {
   "display_name": "Python 3",
   "language": "python",
   "name": "python3"
  },
  "language_info": {
   "codemirror_mode": {
    "name": "ipython",
    "version": 3
   },
   "file_extension": ".py",
   "mimetype": "text/x-python",
   "name": "python",
   "nbconvert_exporter": "python",
   "pygments_lexer": "ipython3",
   "version": "3.8.8"
  }
 },
 "nbformat": 4,
 "nbformat_minor": 5
}
