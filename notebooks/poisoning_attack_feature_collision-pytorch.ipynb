{
 "cells": [
  {
   "cell_type": "markdown",
   "metadata": {},
   "source": [
    "# Clean-Label Feature Collision Attacks on a Keras Classifier"
   ]
  },
  {
   "cell_type": "code",
   "execution_count": 1,
   "metadata": {},
   "outputs": [],
   "source": [
    "# import torch\n",
    "# a = torch.empty(5, 7, dtype=torch.float)\n",
    "# print(id(a))\n",
    "# print(a)"
   ]
  },
  {
   "cell_type": "code",
   "execution_count": 2,
   "metadata": {},
   "outputs": [],
   "source": [
    "# import numpy as np\n",
    "# b = torch.tensor(np.random.rand(5,7))\n",
    "# print(b)\n",
    "# print(id(b))\n",
    "# a.data.copy_(b.data)\n",
    "# print(id(a))\n",
    "# print(a)"
   ]
  },
  {
   "cell_type": "code",
   "execution_count": 3,
   "metadata": {},
   "outputs": [
    {
     "data": {
      "text/plain": [
       "'/home/shritipriya/adversarial-robustness-toolbox/notebooks'"
      ]
     },
     "execution_count": 3,
     "metadata": {},
     "output_type": "execute_result"
    }
   ],
   "source": [
    "pwd"
   ]
  },
  {
   "cell_type": "markdown",
   "metadata": {},
   "source": [
    "In this notebook, we will learn how to use ART to run a clean-label feature collision poisoning attack on a neural network trained with Keras. We will be training our data on a subset of the CIFAR-10 dataset. The methods described are derived from [this paper](https://arxiv.org/abs/1804.00792) by Shafahi, Huang, et. al. 2018."
   ]
  },
  {
   "cell_type": "code",
   "execution_count": 4,
   "metadata": {},
   "outputs": [],
   "source": [
    "import os, sys\n",
    "from os.path import abspath\n",
    "\n",
    "module_path = os.path.abspath(os.path.join('..'))\n",
    "if module_path not in sys.path:\n",
    "    sys.path.append(module_path)\n",
    "\n",
    "import warnings\n",
    "warnings.filterwarnings('ignore')\n",
    "\n",
    "\n",
    "import torch\n",
    "import torch.nn as nn\n",
    "\n",
    "from art import config\n",
    "from art.utils import load_dataset, get_file\n",
    "from art.estimators.classification import PyTorchClassifier\n",
    "from art.attacks.poisoning import FeatureCollisionAttack\n",
    "\n",
    "import numpy as np\n",
    "\n",
    "%matplotlib inline\n",
    "import matplotlib.pyplot as plt\n",
    "\n",
    "np.random.seed(301)"
   ]
  },
  {
   "cell_type": "code",
   "execution_count": 5,
   "metadata": {},
   "outputs": [
    {
     "name": "stdout",
     "output_type": "stream",
     "text": [
      "shape of x_train (1000, 32, 32, 3)\n",
      "shape of y_train (1000, 10)\n"
     ]
    }
   ],
   "source": [
    "(x_train, y_train), (x_test, y_test), min_, max_ = load_dataset('cifar10')\n",
    "num_samples_train = 1000\n",
    "num_samples_test = 1000\n",
    "x_train = x_train[0:num_samples_train]\n",
    "y_train = y_train[0:num_samples_train]\n",
    "x_test = x_test[0:num_samples_test]\n",
    "y_test = y_test[0:num_samples_test]\n",
    "\n",
    "class_descr = ['airplane', 'automobile', 'bird', 'cat', 'deer', 'dog', 'frog', 'horse', 'ship', 'truck']\n",
    "\n",
    "# Transpose the axes to make input of acceptable format by PyTorchClassifier\n",
    "x_train = x_train.astype(np.float32)\n",
    "x_test = x_test.astype(np.float32)\n",
    "\n",
    "print(\"shape of x_train\",x_train.shape)\n",
    "print(\"shape of y_train\",y_train.shape)"
   ]
  },
  {
   "cell_type": "markdown",
   "metadata": {},
   "source": [
    "## Load Model to be Attacked\n",
    "\n",
    "In this example, we using a RESNET50 model pretrained on the CIFAR dataset."
   ]
  },
  {
   "cell_type": "code",
   "execution_count": 6,
   "metadata": {},
   "outputs": [],
   "source": [
    "import torch.optim as optim\n",
    "classifier_model = torch.load('ciafr10_alexnet_pytorch.pt')\n",
    "# for param in classifier_model.parameters():\n",
    "#     param.requires_grad = False\n",
    "classifier_model.eval()\n",
    "criterion =  nn.CrossEntropyLoss()\n",
    "optimizer = optim.Adam(classifier_model.parameters(), lr=0.0001)\n",
    "classifier = PyTorchClassifier(clip_values=(min_, max_), model=classifier_model, \n",
    "                             preprocessing=(0.5,1),nb_classes=10,input_shape=(32,32,3),loss=criterion,\n",
    "                             optimizer=optimizer)\n"
   ]
  },
  {
   "cell_type": "code",
   "execution_count": 7,
   "metadata": {},
   "outputs": [
    {
     "data": {
      "text/plain": [
       "Model(\n",
       "  (_Model__vars): ParameterDict(\n",
       "      (t_classifier_3_kernel_0): Parameter containing: [torch.cuda.FloatTensor of size 64x10 (GPU 0)]\n",
       "      (t_classifier_3_bias_0): Parameter containing: [torch.cuda.FloatTensor of size 10 (GPU 0)]\n",
       "      (t_scale): Parameter containing: [torch.cuda.FloatTensor of size 64 (GPU 0)]\n",
       "      (t_bias): Parameter containing: [torch.cuda.FloatTensor of size 64 (GPU 0)]\n",
       "      (t_mean): Parameter containing: [torch.cuda.FloatTensor of size 64 (GPU 0)]\n",
       "      (t_var): Parameter containing: [torch.cuda.FloatTensor of size 64 (GPU 0)]\n",
       "      (t_conv2d_33_3_kernel_0): Parameter containing: [torch.cuda.FloatTensor of size 64x64x3x3 (GPU 0)]\n",
       "      (t_conv2d_33_3_bias_0): Parameter containing: [torch.cuda.FloatTensor of size 64 (GPU 0)]\n",
       "      (t_conv2d_31_3_kernel_0): Parameter containing: [torch.cuda.FloatTensor of size 64x64x3x3 (GPU 0)]\n",
       "      (t_conv2d_31_3_bias_0): Parameter containing: [torch.cuda.FloatTensor of size 64 (GPU 0)]\n",
       "      (t_conv2d_29_3_kernel_0): Parameter containing: [torch.cuda.FloatTensor of size 64x64x3x3 (GPU 0)]\n",
       "      (t_conv2d_29_3_bias_0): Parameter containing: [torch.cuda.FloatTensor of size 64 (GPU 0)]\n",
       "      (t_conv2d_27_3_kernel_0): Parameter containing: [torch.cuda.FloatTensor of size 64x64x3x3 (GPU 0)]\n",
       "      (t_conv2d_27_3_bias_0): Parameter containing: [torch.cuda.FloatTensor of size 64 (GPU 0)]\n",
       "      (t_conv2d_25_3_kernel_0): Parameter containing: [torch.cuda.FloatTensor of size 64x32x1x1 (GPU 0)]\n",
       "      (t_conv2d_25_3_bias_0): Parameter containing: [torch.cuda.FloatTensor of size 64 (GPU 0)]\n",
       "      (t_conv2d_24_3_kernel_0): Parameter containing: [torch.cuda.FloatTensor of size 64x64x3x3 (GPU 0)]\n",
       "      (t_conv2d_24_3_bias_0): Parameter containing: [torch.cuda.FloatTensor of size 64 (GPU 0)]\n",
       "      (t_scale5): Parameter containing: [torch.cuda.FloatTensor of size 64 (GPU 0)]\n",
       "      (t_bias5): Parameter containing: [torch.cuda.FloatTensor of size 64 (GPU 0)]\n",
       "      (t_mean5): Parameter containing: [torch.cuda.FloatTensor of size 64 (GPU 0)]\n",
       "      (t_var5): Parameter containing: [torch.cuda.FloatTensor of size 64 (GPU 0)]\n",
       "      (t_conv2d_22_3_kernel_0): Parameter containing: [torch.cuda.FloatTensor of size 32x32x3x3 (GPU 0)]\n",
       "      (t_conv2d_22_3_bias_0): Parameter containing: [torch.cuda.FloatTensor of size 32 (GPU 0)]\n",
       "      (t_scale7): Parameter containing: [torch.cuda.FloatTensor of size 64 (GPU 0)]\n",
       "      (t_bias7): Parameter containing: [torch.cuda.FloatTensor of size 64 (GPU 0)]\n",
       "      (t_mean7): Parameter containing: [torch.cuda.FloatTensor of size 64 (GPU 0)]\n",
       "      (t_var7): Parameter containing: [torch.cuda.FloatTensor of size 64 (GPU 0)]\n",
       "      (t_conv2d_20_3_kernel_0): Parameter containing: [torch.cuda.FloatTensor of size 32x32x3x3 (GPU 0)]\n",
       "      (t_conv2d_20_3_bias_0): Parameter containing: [torch.cuda.FloatTensor of size 32 (GPU 0)]\n",
       "      (t_scale8): Parameter containing: [torch.cuda.FloatTensor of size 64 (GPU 0)]\n",
       "      (t_bias8): Parameter containing: [torch.cuda.FloatTensor of size 64 (GPU 0)]\n",
       "      (t_mean8): Parameter containing: [torch.cuda.FloatTensor of size 64 (GPU 0)]\n",
       "      (t_var8): Parameter containing: [torch.cuda.FloatTensor of size 64 (GPU 0)]\n",
       "      (t_conv2d_18_3_kernel_0): Parameter containing: [torch.cuda.FloatTensor of size 32x32x3x3 (GPU 0)]\n",
       "      (t_conv2d_18_3_bias_0): Parameter containing: [torch.cuda.FloatTensor of size 32 (GPU 0)]\n",
       "      (t_scale10): Parameter containing: [torch.cuda.FloatTensor of size 64 (GPU 0)]\n",
       "      (t_bias10): Parameter containing: [torch.cuda.FloatTensor of size 64 (GPU 0)]\n",
       "      (t_mean10): Parameter containing: [torch.cuda.FloatTensor of size 64 (GPU 0)]\n",
       "      (t_var10): Parameter containing: [torch.cuda.FloatTensor of size 64 (GPU 0)]\n",
       "      (t_conv2d_16_3_kernel_0): Parameter containing: [torch.cuda.FloatTensor of size 32x32x3x3 (GPU 0)]\n",
       "      (t_conv2d_16_3_bias_0): Parameter containing: [torch.cuda.FloatTensor of size 32 (GPU 0)]\n",
       "      (t_scale12): Parameter containing: [torch.cuda.FloatTensor of size 32 (GPU 0)]\n",
       "      (t_bias12): Parameter containing: [torch.cuda.FloatTensor of size 32 (GPU 0)]\n",
       "      (t_mean12): Parameter containing: [torch.cuda.FloatTensor of size 32 (GPU 0)]\n",
       "      (t_var12): Parameter containing: [torch.cuda.FloatTensor of size 32 (GPU 0)]\n",
       "      (t_conv2d_14_3_kernel_0): Parameter containing: [torch.cuda.FloatTensor of size 32x16x1x1 (GPU 0)]\n",
       "      (t_conv2d_14_3_bias_0): Parameter containing: [torch.cuda.FloatTensor of size 32 (GPU 0)]\n",
       "      (t_conv2d_13_3_kernel_0): Parameter containing: [torch.cuda.FloatTensor of size 32x32x3x3 (GPU 0)]\n",
       "      (t_conv2d_13_3_bias_0): Parameter containing: [torch.cuda.FloatTensor of size 32 (GPU 0)]\n",
       "      (t_scale15): Parameter containing: [torch.cuda.FloatTensor of size 32 (GPU 0)]\n",
       "      (t_bias15): Parameter containing: [torch.cuda.FloatTensor of size 32 (GPU 0)]\n",
       "      (t_mean15): Parameter containing: [torch.cuda.FloatTensor of size 32 (GPU 0)]\n",
       "      (t_var15): Parameter containing: [torch.cuda.FloatTensor of size 32 (GPU 0)]\n",
       "      (t_conv2d_11_3_kernel_0): Parameter containing: [torch.cuda.FloatTensor of size 16x16x3x3 (GPU 0)]\n",
       "      (t_conv2d_11_3_bias_0): Parameter containing: [torch.cuda.FloatTensor of size 16 (GPU 0)]\n",
       "      (t_scale17): Parameter containing: [torch.cuda.FloatTensor of size 32 (GPU 0)]\n",
       "      (t_bias17): Parameter containing: [torch.cuda.FloatTensor of size 32 (GPU 0)]\n",
       "      (t_mean17): Parameter containing: [torch.cuda.FloatTensor of size 32 (GPU 0)]\n",
       "      (t_var17): Parameter containing: [torch.cuda.FloatTensor of size 32 (GPU 0)]\n",
       "      (t_conv2d_9_3_kernel_0): Parameter containing: [torch.cuda.FloatTensor of size 16x16x3x3 (GPU 0)]\n",
       "      (t_conv2d_9_3_bias_0): Parameter containing: [torch.cuda.FloatTensor of size 16 (GPU 0)]\n",
       "      (t_scale18): Parameter containing: [torch.cuda.FloatTensor of size 32 (GPU 0)]\n",
       "      (t_bias18): Parameter containing: [torch.cuda.FloatTensor of size 32 (GPU 0)]\n",
       "      (t_mean18): Parameter containing: [torch.cuda.FloatTensor of size 32 (GPU 0)]\n",
       "      (t_var18): Parameter containing: [torch.cuda.FloatTensor of size 32 (GPU 0)]\n",
       "      (t_conv2d_7_3_kernel_0): Parameter containing: [torch.cuda.FloatTensor of size 16x16x3x3 (GPU 0)]\n",
       "      (t_conv2d_7_3_bias_0): Parameter containing: [torch.cuda.FloatTensor of size 16 (GPU 0)]\n",
       "      (t_scale20): Parameter containing: [torch.cuda.FloatTensor of size 32 (GPU 0)]\n",
       "      (t_bias20): Parameter containing: [torch.cuda.FloatTensor of size 32 (GPU 0)]\n",
       "      (t_mean20): Parameter containing: [torch.cuda.FloatTensor of size 32 (GPU 0)]\n",
       "      (t_var20): Parameter containing: [torch.cuda.FloatTensor of size 32 (GPU 0)]\n",
       "      (t_conv2d_5_3_kernel_0): Parameter containing: [torch.cuda.FloatTensor of size 16x16x3x3 (GPU 0)]\n",
       "      (t_conv2d_5_3_bias_0): Parameter containing: [torch.cuda.FloatTensor of size 16 (GPU 0)]\n",
       "      (t_scale22): Parameter containing: [torch.cuda.FloatTensor of size 16 (GPU 0)]\n",
       "      (t_bias22): Parameter containing: [torch.cuda.FloatTensor of size 16 (GPU 0)]\n",
       "      (t_mean22): Parameter containing: [torch.cuda.FloatTensor of size 16 (GPU 0)]\n",
       "      (t_var22): Parameter containing: [torch.cuda.FloatTensor of size 16 (GPU 0)]\n",
       "      (t_conv2d_3_3_kernel_0): Parameter containing: [torch.cuda.FloatTensor of size 16x16x3x3 (GPU 0)]\n",
       "      (t_conv2d_3_3_bias_0): Parameter containing: [torch.cuda.FloatTensor of size 16 (GPU 0)]\n",
       "      (t_scale26): Parameter containing: [torch.cuda.FloatTensor of size 16 (GPU 0)]\n",
       "      (t_bias26): Parameter containing: [torch.cuda.FloatTensor of size 16 (GPU 0)]\n",
       "      (t_mean26): Parameter containing: [torch.cuda.FloatTensor of size 16 (GPU 0)]\n",
       "      (t_var26): Parameter containing: [torch.cuda.FloatTensor of size 16 (GPU 0)]\n",
       "      (t_scale28): Parameter containing: [torch.cuda.FloatTensor of size 16 (GPU 0)]\n",
       "      (t_bias28): Parameter containing: [torch.cuda.FloatTensor of size 16 (GPU 0)]\n",
       "      (t_mean28): Parameter containing: [torch.cuda.FloatTensor of size 16 (GPU 0)]\n",
       "      (t_var28): Parameter containing: [torch.cuda.FloatTensor of size 16 (GPU 0)]\n",
       "      (t_scale29): Parameter containing: [torch.cuda.FloatTensor of size 16 (GPU 0)]\n",
       "      (t_bias29): Parameter containing: [torch.cuda.FloatTensor of size 16 (GPU 0)]\n",
       "      (t_mean29): Parameter containing: [torch.cuda.FloatTensor of size 16 (GPU 0)]\n",
       "      (t_var29): Parameter containing: [torch.cuda.FloatTensor of size 16 (GPU 0)]\n",
       "      (t_scale30): Parameter containing: [torch.cuda.FloatTensor of size 16 (GPU 0)]\n",
       "      (t_bias30): Parameter containing: [torch.cuda.FloatTensor of size 16 (GPU 0)]\n",
       "      (t_mean30): Parameter containing: [torch.cuda.FloatTensor of size 16 (GPU 0)]\n",
       "      (t_var30): Parameter containing: [torch.cuda.FloatTensor of size 16 (GPU 0)]\n",
       "      (t_conv2d_32_W_new): Parameter containing: [torch.cuda.FloatTensor of size 64x64x3x3 (GPU 0)]\n",
       "      (t_conv2d_32_B_new): Parameter containing: [torch.cuda.FloatTensor of size 64 (GPU 0)]\n",
       "      (t_conv2d_30_W_new): Parameter containing: [torch.cuda.FloatTensor of size 64x64x3x3 (GPU 0)]\n",
       "      (t_conv2d_30_B_new): Parameter containing: [torch.cuda.FloatTensor of size 64 (GPU 0)]\n",
       "      (t_conv2d_28_W_new): Parameter containing: [torch.cuda.FloatTensor of size 64x64x3x3 (GPU 0)]\n",
       "      (t_conv2d_28_B_new): Parameter containing: [torch.cuda.FloatTensor of size 64 (GPU 0)]\n",
       "      (t_conv2d_26_W_new): Parameter containing: [torch.cuda.FloatTensor of size 64x64x3x3 (GPU 0)]\n",
       "      (t_conv2d_26_B_new): Parameter containing: [torch.cuda.FloatTensor of size 64 (GPU 0)]\n",
       "      (t_conv2d_23_W_new): Parameter containing: [torch.cuda.FloatTensor of size 64x32x3x3 (GPU 0)]\n",
       "      (t_conv2d_23_B_new): Parameter containing: [torch.cuda.FloatTensor of size 64 (GPU 0)]\n",
       "      (t_conv2d_21_W_new): Parameter containing: [torch.cuda.FloatTensor of size 32x32x3x3 (GPU 0)]\n",
       "      (t_conv2d_21_B_new): Parameter containing: [torch.cuda.FloatTensor of size 32 (GPU 0)]\n",
       "      (t_conv2d_19_W_new): Parameter containing: [torch.cuda.FloatTensor of size 32x32x3x3 (GPU 0)]\n",
       "      (t_conv2d_19_B_new): Parameter containing: [torch.cuda.FloatTensor of size 32 (GPU 0)]\n",
       "      (t_conv2d_17_W_new): Parameter containing: [torch.cuda.FloatTensor of size 32x32x3x3 (GPU 0)]\n",
       "      (t_conv2d_17_B_new): Parameter containing: [torch.cuda.FloatTensor of size 32 (GPU 0)]\n",
       "      (t_conv2d_15_W_new): Parameter containing: [torch.cuda.FloatTensor of size 32x32x3x3 (GPU 0)]\n",
       "      (t_conv2d_15_B_new): Parameter containing: [torch.cuda.FloatTensor of size 32 (GPU 0)]\n",
       "      (t_conv2d_12_W_new): Parameter containing: [torch.cuda.FloatTensor of size 32x16x3x3 (GPU 0)]\n",
       "      (t_conv2d_12_B_new): Parameter containing: [torch.cuda.FloatTensor of size 32 (GPU 0)]\n",
       "      (t_conv2d_10_W_new): Parameter containing: [torch.cuda.FloatTensor of size 16x16x3x3 (GPU 0)]\n",
       "      (t_conv2d_10_B_new): Parameter containing: [torch.cuda.FloatTensor of size 16 (GPU 0)]\n",
       "      (t_conv2d_8_W_new): Parameter containing: [torch.cuda.FloatTensor of size 16x16x3x3 (GPU 0)]\n",
       "      (t_conv2d_8_B_new): Parameter containing: [torch.cuda.FloatTensor of size 16 (GPU 0)]\n",
       "      (t_conv2d_6_W_new): Parameter containing: [torch.cuda.FloatTensor of size 16x16x3x3 (GPU 0)]\n",
       "      (t_conv2d_6_B_new): Parameter containing: [torch.cuda.FloatTensor of size 16 (GPU 0)]\n",
       "      (t_conv2d_1_W_new): Parameter containing: [torch.cuda.FloatTensor of size 16x3x3x3 (GPU 0)]\n",
       "      (t_conv2d_1_B_new): Parameter containing: [torch.cuda.FloatTensor of size 16 (GPU 0)]\n",
       "      (t_conv2d_4_W_new): Parameter containing: [torch.cuda.FloatTensor of size 16x16x3x3 (GPU 0)]\n",
       "      (t_conv2d_4_B_new): Parameter containing: [torch.cuda.FloatTensor of size 16 (GPU 0)]\n",
       "      (t_conv2d_2_W_new): Parameter containing: [torch.cuda.FloatTensor of size 16x16x3x3 (GPU 0)]\n",
       "      (t_conv2d_2_B_new): Parameter containing: [torch.cuda.FloatTensor of size 16 (GPU 0)]\n",
       "  )\n",
       "  (n_n_conv2d_1): Conv2d(3, 16, kernel_size=(3, 3), stride=(1, 1), padding=(1, 1))\n",
       "  (n_n_conv2d_2): Conv2d(16, 16, kernel_size=(3, 3), stride=(1, 1), padding=(1, 1))\n",
       "  (n_n_conv2d_3): Conv2d(16, 16, kernel_size=(3, 3), stride=(1, 1), padding=(1, 1))\n",
       "  (n_n_batch_normalization_3): BatchNorm2d(16, eps=9.999999974752427e-07, momentum=0.9900000095367432, affine=True, track_running_stats=True)\n",
       "  (n_n_conv2d_4): Conv2d(16, 16, kernel_size=(3, 3), stride=(1, 1), padding=(1, 1))\n",
       "  (n_n_conv2d_5): Conv2d(16, 16, kernel_size=(3, 3), stride=(1, 1), padding=(1, 1))\n",
       "  (n_n_batch_normalization_5): BatchNorm2d(16, eps=9.999999974752427e-07, momentum=0.9900000095367432, affine=True, track_running_stats=True)\n",
       "  (n_n_conv2d_6): Conv2d(16, 16, kernel_size=(3, 3), stride=(1, 1), padding=(1, 1))\n",
       "  (n_n_conv2d_7): Conv2d(16, 16, kernel_size=(3, 3), stride=(1, 1), padding=(1, 1))\n",
       "  (n_n_batch_normalization_7): BatchNorm2d(16, eps=9.999999974752427e-07, momentum=0.9900000095367432, affine=True, track_running_stats=True)\n",
       "  (n_n_conv2d_8): Conv2d(16, 16, kernel_size=(3, 3), stride=(1, 1), padding=(1, 1))\n",
       "  (n_n_conv2d_9): Conv2d(16, 16, kernel_size=(3, 3), stride=(1, 1), padding=(1, 1))\n",
       "  (n_n_batch_normalization_9): BatchNorm2d(16, eps=9.999999974752427e-07, momentum=0.9900000095367432, affine=True, track_running_stats=True)\n",
       "  (n_n_conv2d_10): Conv2d(16, 16, kernel_size=(3, 3), stride=(1, 1), padding=(1, 1))\n",
       "  (n_n_conv2d_11): Conv2d(16, 16, kernel_size=(3, 3), stride=(1, 1), padding=(1, 1))\n",
       "  (n_n_conv2d_14): Conv2d(16, 32, kernel_size=(1, 1), stride=(2, 2))\n",
       "  (n_n_batch_normalization_11): BatchNorm2d(16, eps=9.999999974752427e-07, momentum=0.9900000095367432, affine=True, track_running_stats=True)\n",
       "  (n_n_conv2d_12): Conv2d(16, 32, kernel_size=(3, 3), stride=(2, 2), padding=(1, 1))\n",
       "  (n_n_conv2d_13): Conv2d(32, 32, kernel_size=(3, 3), stride=(1, 1), padding=(1, 1))\n",
       "  (n_n_batch_normalization_13): BatchNorm2d(32, eps=9.999999974752427e-07, momentum=0.9900000095367432, affine=True, track_running_stats=True)\n",
       "  (n_n_conv2d_15): Conv2d(32, 32, kernel_size=(3, 3), stride=(1, 1), padding=(1, 1))\n",
       "  (n_n_conv2d_16): Conv2d(32, 32, kernel_size=(3, 3), stride=(1, 1), padding=(1, 1))\n",
       "  (n_n_batch_normalization_15): BatchNorm2d(32, eps=9.999999974752427e-07, momentum=0.9900000095367432, affine=True, track_running_stats=True)\n",
       "  (n_n_conv2d_17): Conv2d(32, 32, kernel_size=(3, 3), stride=(1, 1), padding=(1, 1))\n",
       "  (n_n_conv2d_18): Conv2d(32, 32, kernel_size=(3, 3), stride=(1, 1), padding=(1, 1))\n",
       "  (n_n_batch_normalization_17): BatchNorm2d(32, eps=9.999999974752427e-07, momentum=0.9900000095367432, affine=True, track_running_stats=True)\n",
       "  (n_n_conv2d_19): Conv2d(32, 32, kernel_size=(3, 3), stride=(1, 1), padding=(1, 1))\n",
       "  (n_n_conv2d_20): Conv2d(32, 32, kernel_size=(3, 3), stride=(1, 1), padding=(1, 1))\n",
       "  (n_n_batch_normalization_19): BatchNorm2d(32, eps=9.999999974752427e-07, momentum=0.9900000095367432, affine=True, track_running_stats=True)\n",
       "  (n_n_conv2d_21): Conv2d(32, 32, kernel_size=(3, 3), stride=(1, 1), padding=(1, 1))\n",
       "  (n_n_conv2d_22): Conv2d(32, 32, kernel_size=(3, 3), stride=(1, 1), padding=(1, 1))\n",
       "  (n_n_conv2d_25): Conv2d(32, 64, kernel_size=(1, 1), stride=(2, 2))\n",
       "  (n_n_batch_normalization_21): BatchNorm2d(32, eps=9.999999974752427e-07, momentum=0.9900000095367432, affine=True, track_running_stats=True)\n",
       "  (n_n_conv2d_23): Conv2d(32, 64, kernel_size=(3, 3), stride=(2, 2), padding=(1, 1))\n",
       "  (n_n_conv2d_24): Conv2d(64, 64, kernel_size=(3, 3), stride=(1, 1), padding=(1, 1))\n",
       "  (n_n_batch_normalization_23): BatchNorm2d(64, eps=9.999999974752427e-07, momentum=0.9900000095367432, affine=True, track_running_stats=True)\n",
       "  (n_n_conv2d_26): Conv2d(64, 64, kernel_size=(3, 3), stride=(1, 1), padding=(1, 1))\n",
       "  (n_n_conv2d_27): Conv2d(64, 64, kernel_size=(3, 3), stride=(1, 1), padding=(1, 1))\n",
       "  (n_n_batch_normalization_25): BatchNorm2d(64, eps=9.999999974752427e-07, momentum=0.9900000095367432, affine=True, track_running_stats=True)\n",
       "  (n_n_conv2d_28): Conv2d(64, 64, kernel_size=(3, 3), stride=(1, 1), padding=(1, 1))\n",
       "  (n_n_conv2d_29): Conv2d(64, 64, kernel_size=(3, 3), stride=(1, 1), padding=(1, 1))\n",
       "  (n_n_batch_normalization_27): BatchNorm2d(64, eps=9.999999974752427e-07, momentum=0.9900000095367432, affine=True, track_running_stats=True)\n",
       "  (n_n_conv2d_30): Conv2d(64, 64, kernel_size=(3, 3), stride=(1, 1), padding=(1, 1))\n",
       "  (n_n_conv2d_31): Conv2d(64, 64, kernel_size=(3, 3), stride=(1, 1), padding=(1, 1))\n",
       "  (n_n_batch_normalization_29): BatchNorm2d(64, eps=9.999999974752427e-07, momentum=0.9900000095367432, affine=True, track_running_stats=True)\n",
       "  (n_n_conv2d_32): Conv2d(64, 64, kernel_size=(3, 3), stride=(1, 1), padding=(1, 1))\n",
       "  (n_n_conv2d_33): Conv2d(64, 64, kernel_size=(3, 3), stride=(1, 1), padding=(1, 1))\n",
       "  (n_n_batch_normalization_31): BatchNorm2d(64, eps=9.999999974752427e-07, momentum=0.9900000095367432, affine=True, track_running_stats=True)\n",
       "  (n_n_dropout_1_3_cond_Identity_0_pooling): AvgPool2d(kernel_size=[8, 8], stride=[1, 1], padding=0)\n",
       "  (n_n_flatten_1): Flatten(start_dim=1, end_dim=-1)\n",
       ")"
      ]
     },
     "execution_count": 7,
     "metadata": {},
     "output_type": "execute_result"
    }
   ],
   "source": [
    "classifier_model"
   ]
  },
  {
   "cell_type": "markdown",
   "metadata": {},
   "source": [
    "## Choose Target Image from Test Set"
   ]
  },
  {
   "cell_type": "code",
   "execution_count": 8,
   "metadata": {},
   "outputs": [
    {
     "name": "stdout",
     "output_type": "stream",
     "text": [
      "shape of target_instance (32, 32, 3)\n",
      "shape of img_plot (32, 32, 3)\n",
      "shape of target_instance (1, 32, 32, 3)\n",
      "true_class: bird\n",
      "predicted_class: bird\n"
     ]
    },
    {
     "data": {
      "image/png": "[encoded data removed]",
      "text/plain": [
       "<Figure size 432x288 with 1 Axes>"
      ]
     },
     "metadata": {
      "needs_background": "light"
     },
     "output_type": "display_data"
    }
   ],
   "source": [
    "target_class = \"bird\" # one of ['airplane', 'automobile', 'bird', 'cat', 'deer', 'dog', 'frog', 'horse', 'ship', 'truck']\n",
    "target_label = np.zeros(len(class_descr))\n",
    "target_label[class_descr.index(target_class)] = 1\n",
    "target_instance = np.expand_dims(x_test[np.argmax(y_test, axis=1) == class_descr.index(target_class)][3], axis=0)\n",
    "print(\"shape of target_instance\",target_instance[0].shape)\n",
    "img_plot = target_instance[0]\n",
    "print(\"shape of img_plot\",img_plot.shape)\n",
    "fig = plt.imshow(img_plot)\n",
    "print(\"shape of target_instance\",target_instance.shape)\n",
    "print('true_class: ' + target_class)\n",
    "print('predicted_class: ' + class_descr[np.argmax(classifier.predict(target_instance), axis=1)[0]])\n",
    "\n",
    "feature_layer = classifier.layer_names[-2]"
   ]
  },
  {
   "cell_type": "code",
   "execution_count": 9,
   "metadata": {},
   "outputs": [
    {
     "data": {
      "text/plain": [
       "['_Model__vars',\n",
       " 'n_n_conv2d_1',\n",
       " 'n_n_conv2d_2',\n",
       " 'n_n_conv2d_3',\n",
       " 'n_n_batch_normalization_3',\n",
       " 'n_n_conv2d_4',\n",
       " 'n_n_conv2d_5',\n",
       " 'n_n_batch_normalization_5',\n",
       " 'n_n_conv2d_6',\n",
       " 'n_n_conv2d_7',\n",
       " 'n_n_batch_normalization_7',\n",
       " 'n_n_conv2d_8',\n",
       " 'n_n_conv2d_9',\n",
       " 'n_n_batch_normalization_9',\n",
       " 'n_n_conv2d_10',\n",
       " 'n_n_conv2d_11',\n",
       " 'n_n_conv2d_14',\n",
       " 'n_n_batch_normalization_11',\n",
       " 'n_n_conv2d_12',\n",
       " 'n_n_conv2d_13',\n",
       " 'n_n_batch_normalization_13',\n",
       " 'n_n_conv2d_15',\n",
       " 'n_n_conv2d_16',\n",
       " 'n_n_batch_normalization_15',\n",
       " 'n_n_conv2d_17',\n",
       " 'n_n_conv2d_18',\n",
       " 'n_n_batch_normalization_17',\n",
       " 'n_n_conv2d_19',\n",
       " 'n_n_conv2d_20',\n",
       " 'n_n_batch_normalization_19',\n",
       " 'n_n_conv2d_21',\n",
       " 'n_n_conv2d_22',\n",
       " 'n_n_conv2d_25',\n",
       " 'n_n_batch_normalization_21',\n",
       " 'n_n_conv2d_23',\n",
       " 'n_n_conv2d_24',\n",
       " 'n_n_batch_normalization_23',\n",
       " 'n_n_conv2d_26',\n",
       " 'n_n_conv2d_27',\n",
       " 'n_n_batch_normalization_25',\n",
       " 'n_n_conv2d_28',\n",
       " 'n_n_conv2d_29',\n",
       " 'n_n_batch_normalization_27',\n",
       " 'n_n_conv2d_30',\n",
       " 'n_n_conv2d_31',\n",
       " 'n_n_batch_normalization_29',\n",
       " 'n_n_conv2d_32',\n",
       " 'n_n_conv2d_33',\n",
       " 'n_n_batch_normalization_31',\n",
       " 'n_n_dropout_1_3_cond_Identity_0_pooling',\n",
       " 'n_n_flatten_1']"
      ]
     },
     "execution_count": 9,
     "metadata": {},
     "output_type": "execute_result"
    }
   ],
   "source": [
    "classifier.layer_names"
   ]
  },
  {
   "cell_type": "code",
   "execution_count": 10,
   "metadata": {
    "scrolled": true
   },
   "outputs": [],
   "source": [
    "# import torchviz\n",
    "\n",
    "# target_instance = torch.from_numpy(target_instance).cuda()\n",
    "# y = classifier_model(target_instance)\n",
    "# print(y)\n",
    "# torchviz.dot.make_dot(y.mean(), params=dict(classifier_model.named_parameters()))"
   ]
  },
  {
   "cell_type": "code",
   "execution_count": 11,
   "metadata": {},
   "outputs": [],
   "source": [
    "# pip install graphviz\n"
   ]
  },
  {
   "cell_type": "markdown",
   "metadata": {},
   "source": [
    "# Calculate Accuracy of Model"
   ]
  },
  {
   "cell_type": "code",
   "execution_count": 12,
   "metadata": {},
   "outputs": [
    {
     "name": "stdout",
     "output_type": "stream",
     "text": [
      "Benign accuracy of the model: 90.60000000000001\n"
     ]
    }
   ],
   "source": [
    "x_test_pred = np.argmax(classifier.predict(x_test), axis=1)\n",
    "nb_correct_pred = np.sum(x_test_pred == np.argmax(y_test, axis=1))\n",
    "print(\"Benign accuracy of the model: {}\".format(100*(nb_correct_pred/1000)))"
   ]
  },
  {
   "cell_type": "markdown",
   "metadata": {},
   "source": [
    "## Poison Training Images to Misclassify Test\n",
    "\n",
    "The attacker wants to make it such that whenever a prediction is made on this particular cat the output will be a horse."
   ]
  },
  {
   "cell_type": "code",
   "execution_count": 13,
   "metadata": {},
   "outputs": [
    {
     "name": "stdout",
     "output_type": "stream",
     "text": [
      "shape of base_instances (10, 32, 32, 3)\n",
      "shape of base_labels (10, 10)\n",
      "New test data to be poisoned (10 images):\n",
      "Correctly classified: 9\n",
      "Incorrectly classified: 1\n"
     ]
    }
   ],
   "source": [
    "base_class = \"frog\" # one of ['airplane', 'automobile', 'bird', 'cat', 'deer', 'dog', 'frog', 'horse', 'ship', 'truck']\n",
    "base_idxs = np.argmax(y_test, axis=1) == class_descr.index(base_class)\n",
    "base_instances = np.copy(x_test[base_idxs][:10])\n",
    "base_labels = y_test[base_idxs][:10]\n",
    "print(\"shape of base_instances\",base_instances.shape)\n",
    "print(\"shape of base_labels\",base_labels.shape)\n",
    "x_test_pred = np.argmax(classifier.predict(base_instances), axis=1)\n",
    "nb_correct_pred = np.sum(x_test_pred == np.argmax(base_labels, axis=1))\n",
    "\n",
    "print(\"New test data to be poisoned (10 images):\")\n",
    "print(\"Correctly classified: {}\".format(nb_correct_pred))\n",
    "print(\"Incorrectly classified: {}\".format(10-nb_correct_pred))"
   ]
  },
  {
   "cell_type": "code",
   "execution_count": 14,
   "metadata": {},
   "outputs": [
    {
     "data": {
      "image/png": "[encoded data removed]",
      "text/plain": [
       "<Figure size 720x720 with 9 Axes>"
      ]
     },
     "metadata": {
      "needs_background": "light"
     },
     "output_type": "display_data"
    }
   ],
   "source": [
    "plt.figure(figsize=(10,10))\n",
    "for i in range(0, 9):\n",
    "    pred_label, true_label = class_descr[x_test_pred[i]], class_descr[np.argmax(base_labels[i])]\n",
    "    plt.subplot(330 + 1 + i)\n",
    "    fig=plt.imshow(base_instances[i])\n",
    "    fig.axes.get_xaxis().set_visible(False)\n",
    "    fig.axes.get_yaxis().set_visible(False)\n",
    "    fig.axes.text(0.5, -0.1, pred_label + \" (\" + true_label + \")\", fontsize=12, transform=fig.axes.transAxes, \n",
    "                  horizontalalignment='center')"
   ]
  },
  {
   "cell_type": "markdown",
   "metadata": {},
   "source": [
    "The captions on the images can be read: `predicted label (true label)`"
   ]
  },
  {
   "cell_type": "markdown",
   "metadata": {},
   "source": [
    "# Computation Graph Visualization"
   ]
  },
  {
   "cell_type": "markdown",
   "metadata": {},
   "source": [
    "## Creating Poison Frogs"
   ]
  },
  {
   "cell_type": "code",
   "execution_count": 15,
   "metadata": {},
   "outputs": [
    {
     "data": {
      "text/plain": [
       "(1, 32, 32, 3)"
      ]
     },
     "execution_count": 15,
     "metadata": {},
     "output_type": "execute_result"
    }
   ],
   "source": [
    "np.expand_dims(base_instances[0],axis=0).shape"
   ]
  },
  {
   "cell_type": "code",
   "execution_count": 16,
   "metadata": {
    "scrolled": true
   },
   "outputs": [
    {
     "name": "stdout",
     "output_type": "stream",
     "text": [
      "x max 0.8627451\n",
      " x min 0.023529412\n",
      "Learning rate: 127500.0\n"
     ]
    },
    {
     "data": {
      "application/vnd.jupyter.widget-view+json": {
       "model_id": "0e7aa4d7e80048eb924da1553b5b752d",
       "version_major": 2,
       "version_minor": 0
      },
      "text/plain": [
       "Feature collision:   0%|          | 0/10 [00:00<?, ?it/s]"
      ]
     },
     "metadata": {},
     "output_type": "display_data"
    },
    {
     "name": "stdout",
     "output_type": "stream",
     "text": [
      "tensor(15.9785, device='cuda:0', grad_fn=<MseLossBackward0>)\n",
      "tensor(2.6773e+12, device='cuda:0', grad_fn=<MseLossBackward0>)\n",
      "tensor(62.7780, device='cuda:0', grad_fn=<MseLossBackward0>)\n",
      "tensor(26.5133, device='cuda:0', grad_fn=<MseLossBackward0>)\n",
      "tensor(53.4138, device='cuda:0', grad_fn=<MseLossBackward0>)\n",
      "tensor(34.9309, device='cuda:0', grad_fn=<MseLossBackward0>)\n",
      "tensor(49.8490, device='cuda:0', grad_fn=<MseLossBackward0>)\n",
      "tensor(67.4224, device='cuda:0', grad_fn=<MseLossBackward0>)\n",
      "tensor(34.7548, device='cuda:0', grad_fn=<MseLossBackward0>)\n",
      "tensor(36.6966, device='cuda:0', grad_fn=<MseLossBackward0>)\n"
     ]
    }
   ],
   "source": [
    "# Keep this fixed\n",
    "attack = FeatureCollisionAttack(classifier, \n",
    "                                target_instance, \n",
    "                                feature_layer, \n",
    "                                max_iter=10, \n",
    "                                similarity_coeff=256,\n",
    "                                watermark=0.3)\n",
    "poison, poison_labels = attack.poison(np.expand_dims(base_instances[0],axis=0))\n",
    "# poison, poison_labels = attack.poison(base_instances)"
   ]
  },
  {
   "cell_type": "code",
   "execution_count": 17,
   "metadata": {},
   "outputs": [
    {
     "data": {
      "text/plain": [
       "tensor([[0., 0.],\n",
       "        [0., 0.],\n",
       "        [0., 0.]])"
      ]
     },
     "execution_count": 17,
     "metadata": {},
     "output_type": "execute_result"
    }
   ],
   "source": [
    "a = torch.FloatTensor(3, 2)\n",
    "a.zero_()\n"
   ]
  },
  {
   "cell_type": "code",
   "execution_count": 18,
   "metadata": {},
   "outputs": [
    {
     "data": {
      "text/plain": [
       "array([[[[1.        , 0.20000002, 1.        ],\n",
       "         [1.        , 0.20117648, 0.2647059 ],\n",
       "         [0.09411766, 1.        , 0.26705885],\n",
       "         ...,\n",
       "         [0.1082353 , 1.        , 1.        ],\n",
       "         [1.        , 0.22470589, 0.29764706],\n",
       "         [1.        , 0.22588237, 1.        ]],\n",
       "\n",
       "        [[1.        , 0.2282353 , 1.        ],\n",
       "         [1.        , 0.22705884, 1.        ],\n",
       "         [1.        , 1.        , 0.29411766],\n",
       "         ...,\n",
       "         [0.10941177, 0.22588237, 1.        ],\n",
       "         [1.        , 0.22470589, 1.        ],\n",
       "         [0.10705883, 0.22588237, 0.3       ]],\n",
       "\n",
       "        [[0.1082353 , 0.23176472, 1.        ],\n",
       "         [1.        , 1.        , 1.        ],\n",
       "         [0.10941177, 0.23176472, 0.29882354],\n",
       "         ...,\n",
       "         [1.        , 1.        , 1.        ],\n",
       "         [1.        , 1.        , 1.        ],\n",
       "         [1.        , 1.        , 0.3       ]],\n",
       "\n",
       "        ...,\n",
       "\n",
       "        [[1.        , 1.        , 1.        ],\n",
       "         [0.11411765, 1.        , 1.        ],\n",
       "         [1.        , 0.23058824, 0.29764706],\n",
       "         ...,\n",
       "         [1.        , 1.        , 1.        ],\n",
       "         [0.11529412, 1.        , 1.        ],\n",
       "         [0.1164706 , 1.        , 1.        ]],\n",
       "\n",
       "        [[1.        , 0.23176472, 0.3       ],\n",
       "         [1.        , 0.22941178, 0.2964706 ],\n",
       "         [1.        , 0.23058824, 0.29764706],\n",
       "         ...,\n",
       "         [1.        , 0.2364706 , 0.29411766],\n",
       "         [1.        , 0.23529413, 1.        ],\n",
       "         [1.        , 1.        , 1.        ]],\n",
       "\n",
       "        [[1.        , 0.23176472, 0.3       ],\n",
       "         [1.        , 0.22941178, 0.2964706 ],\n",
       "         [0.11411765, 0.23058824, 0.29764706],\n",
       "         ...,\n",
       "         [1.        , 0.22352943, 0.27882355],\n",
       "         [1.        , 0.22235295, 0.28      ],\n",
       "         [0.11411765, 0.22000001, 0.28117648]]]], dtype=float32)"
      ]
     },
     "execution_count": 18,
     "metadata": {},
     "output_type": "execute_result"
    }
   ],
   "source": [
    "poison"
   ]
  },
  {
   "cell_type": "code",
   "execution_count": 19,
   "metadata": {},
   "outputs": [
    {
     "data": {
      "image/png": "[encoded data removed]",
      "text/plain": [
       "<Figure size 720x720 with 1 Axes>"
      ]
     },
     "metadata": {
      "needs_background": "light"
     },
     "output_type": "display_data"
    }
   ],
   "source": [
    "poison_pred = np.argmax(classifier.predict(poison), axis=1)\n",
    "plt.figure(figsize=(10,10))\n",
    "for i in range(0, 9):\n",
    "    pred_label, true_label = class_descr[poison_pred[i]], class_descr[np.argmax(poison_labels[i])]\n",
    "    plt.subplot(330 + 1 + i)\n",
    "    fig=plt.imshow(poison[i])\n",
    "    fig.axes.get_xaxis().set_visible(False)\n",
    "    fig.axes.get_yaxis().set_visible(False)\n",
    "    fig.axes.text(0.5, -0.1, pred_label + \" (\" + true_label + \")\", fontsize=12, transform=fig.axes.transAxes, \n",
    "                  horizontalalignment='center')\n",
    "    break"
   ]
  },
  {
   "cell_type": "markdown",
   "metadata": {},
   "source": [
    "Notice how the network classifies most of theses poison examples as frogs, and it's not incorrect to do so. The examples look mostly froggy. A slight watermark of the target instance is also added to push the poisons closer to the target class in feature space."
   ]
  },
  {
   "cell_type": "markdown",
   "metadata": {},
   "source": [
    "## Training with Poison Images"
   ]
  },
  {
   "cell_type": "code",
   "execution_count": null,
   "metadata": {
    "scrolled": true
   },
   "outputs": [],
   "source": [
    "import torch.optim as optim\n",
    "adv_train = np.vstack([x_train, poison])\n",
    "adv_labels = np.vstack([y_train, poison_labels])\n",
    "classifier_model.train()\n",
    "classifier.fit(adv_train, adv_labels, nb_epochs=30, batch_size=4)"
   ]
  },
  {
   "cell_type": "markdown",
   "metadata": {},
   "source": [
    "## Fooled Network Misclassifies Bird"
   ]
  },
  {
   "cell_type": "code",
   "execution_count": null,
   "metadata": {},
   "outputs": [],
   "source": [
    "fig = plt.imshow(target_instance[0])\n",
    "\n",
    "print('true_class: ' + target_class)\n",
    "print('predicted_class: ' + class_descr[np.argmax(classifier.predict(target_instance), axis=1)[0]])"
   ]
  },
  {
   "cell_type": "markdown",
   "metadata": {},
   "source": [
    "These attacks allow adversaries who can poison your dataset the ability to mislabel any particular target instance of their choosing without manipulating labels."
   ]
  },
  {
   "cell_type": "code",
   "execution_count": null,
   "metadata": {},
   "outputs": [],
   "source": [
    "x_test_pred = np.argmax(classifier.predict(x_test), axis=1)\n",
    "nb_correct_pred = np.sum(x_test_pred == np.argmax(y_test, axis=1))\n",
    "print(\"Benign accuracy of the model: {}\".format(100*(nb_correct_pred/1000)))"
   ]
  },
  {
   "cell_type": "code",
   "execution_count": null,
   "metadata": {},
   "outputs": [],
   "source": []
  }
 ],
 "metadata": {
  "kernelspec": {
   "display_name": "Python 3 (ipykernel)",
   "language": "python",
   "name": "python3"
  },
  "language_info": {
   "codemirror_mode": {
    "name": "ipython",
    "version": 3
   },
   "file_extension": ".py",
   "mimetype": "text/x-python",
   "name": "python",
   "nbconvert_exporter": "python",
   "pygments_lexer": "ipython3",
   "version": "3.9.7"
  }
 },
 "nbformat": 4,
 "nbformat_minor": 2
}
