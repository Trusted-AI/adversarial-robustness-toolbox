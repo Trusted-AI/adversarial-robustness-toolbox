{
 "cells": [
  {
   "cell_type": "markdown",
   "metadata": {},
   "source": [
    "# Robustness Evaluation with Security Curves\n",
    "\n",
    "This notebook demonstrates how to use the ART evaluations module for generating Security Curves. Security Curves have been widely used in the literature to determine and compare the robustness of machine learning models against adversarial examples [1, 2], as well as to identify shortcomings of defences - gradient masking in particular - which could be exploited by an adaptive adversary [3]. Essentially, Security Curves convey the performance of a given model under increasing attack perturbation budgets - commonly in terms of an l_p norm.\n",
    "\n",
    "[1] A. Madry et al.: Towards Machine Learning Models Resistant to Adversarial Attacks. https://arxiv.org/abs/1706.06083\n",
    "<br>\n",
    "[2] Y. Dong et al.: Benchmarking Adversarial Robustness on Image Classification. https://arxiv.org/abs/1912.11852\n",
    "<br>\n",
    "[3] N. Carlini et al.: On Evaluating Adversarial Robustness. https://arxiv.org/abs/1902.06705"
   ]
  },
  {
   "cell_type": "code",
   "execution_count": 1,
   "metadata": {},
   "outputs": [
    {
     "name": "stderr",
     "output_type": "stream",
     "text": [
      "Using TensorFlow backend.\n"
     ]
    }
   ],
   "source": [
    "import torch\n",
    "from keras.models import load_model\n",
    "\n",
    "from robustness.datasets import CIFAR\n",
    "from robustness.model_utils import make_and_restore_model\n",
    "\n",
    "import numpy as np\n",
    "\n",
    "from art.config import ART_DATA_PATH\n",
    "from art.utils import load_dataset, get_file\n",
    "from art.evaluations.security_curve import SecurityCurve\n",
    "\n",
    "from art.estimators.classification import PyTorchClassifier, KerasClassifier"
   ]
  },
  {
   "cell_type": "markdown",
   "metadata": {},
   "source": [
    "# Evaluate robust classifier trained with adversarial training"
   ]
  },
  {
   "cell_type": "code",
   "execution_count": 2,
   "metadata": {},
   "outputs": [],
   "source": [
    "# Load CIFAR-10 dataset\n",
    "(x_train_cifar, y_train_cifar), (x_test_cifar, y_test_cifar), min_cifar, max_cifar = load_dataset(\"cifar10\")"
   ]
  },
  {
   "cell_type": "code",
   "execution_count": 3,
   "metadata": {},
   "outputs": [],
   "source": [
    "# Change format frm NHWC to NCHW for PyTorch\n",
    "x_train_cifar = np.transpose(x_train_cifar, (0, 3, 1, 2)).astype(np.float32)\n",
    "x_test_cifar = np.transpose(x_test_cifar, (0, 3, 1, 2)).astype(np.float32)"
   ]
  },
  {
   "cell_type": "code",
   "execution_count": 4,
   "metadata": {},
   "outputs": [],
   "source": [
    "# Define argument for PGD attack used in evaluation, except `classifier` and `eps`\n",
    "kwargs_pgd = {\"norm\": \"inf\",\n",
    "              \"eps_step\": 1/255,\n",
    "              \"max_iter\": 100,\n",
    "              \"targeted\": False,\n",
    "              \"num_random_init\": 0,\n",
    "              \"batch_size\": 128,\n",
    "              \"random_eps\": False,\n",
    "              \"verbose\": False,\n",
    "             }"
   ]
  },
  {
   "cell_type": "code",
   "execution_count": 5,
   "metadata": {},
   "outputs": [],
   "source": [
    "# Define attack budgets for evaluation as a list of floats\n",
    "eps = [i / 255 for i in range(1, 32, 2)]"
   ]
  },
  {
   "cell_type": "code",
   "execution_count": 6,
   "metadata": {},
   "outputs": [],
   "source": [
    "# Create an instance of a Security Curve evaluation\n",
    "sc = SecurityCurve(eps=eps)"
   ]
  },
  {
   "cell_type": "code",
   "execution_count": 7,
   "metadata": {},
   "outputs": [
    {
     "name": "stdout",
     "output_type": "stream",
     "text": [
      "=> loading checkpoint '/tmp/cifar_linf_8.pt'\n",
      "=> loaded checkpoint '/tmp/cifar_linf_8.pt' (epoch 153)\n"
     ]
    }
   ],
   "source": [
    "# Load a robust PyTorch model using the package `robustness` (https://github.com/MadryLab/robustness)\n",
    "path_to_cifar10_data = \"/tmp/data/\"\n",
    "resume_path = \"/tmp/cifar_linf_8.pt\"\n",
    "\n",
    "ds = CIFAR(path_to_cifar10_data)\n",
    "m, _ = make_and_restore_model(arch='resnet50',\n",
    "                              dataset=ds,\n",
    "                              resume_path=resume_path,\n",
    "                             )"
   ]
  },
  {
   "cell_type": "code",
   "execution_count": 8,
   "metadata": {},
   "outputs": [],
   "source": [
    "# Define mean and standard-deviation for preprocessing of the PyTorch model\n",
    "mean=np.asarray([0.4914, 0.4822, 0.4465]).reshape(3, 1, 1).astype(np.float32)\n",
    "std=np.asarray([0.2023,  0.1994, 0.2010]).reshape(3, 1, 1).astype(np.float32)"
   ]
  },
  {
   "cell_type": "code",
   "execution_count": 9,
   "metadata": {},
   "outputs": [],
   "source": [
    "# Create an ART estimator for the PyTorch classification model\n",
    "robust_classifier_cifar = PyTorchClassifier(model=m.model, \n",
    "                                            clip_values=(min_cifar, max_cifar),\n",
    "                                            loss=torch.nn.CrossEntropyLoss(),\n",
    "                                            input_shape=(3, 32, 32),\n",
    "                                            nb_classes=10,\n",
    "                                            preprocessing=(mean, std))"
   ]
  },
  {
   "cell_type": "code",
   "execution_count": 10,
   "metadata": {},
   "outputs": [],
   "source": [
    "# Evaluate Security Curve for robust PyTorch classifier on CIFAR-10 on the first 100 samples\n",
    "eps_list, accuracy_adv_list, accuracy = sc.evaluate(classifier=robust_classifier_cifar,\n",
    "                                                    x=x_train_cifar[0:100],\n",
    "                                                    y=y_train_cifar[0:100],\n",
    "                                                    **kwargs_pgd)"
   ]
  },
  {
   "cell_type": "code",
   "execution_count": 11,
   "metadata": {},
   "outputs": [
    {
     "data": {
      "image/png": "[encoded data removed]",
      "text/plain": [
       "<Figure size 432x288 with 1 Axes>"
      ]
     },
     "metadata": {
      "needs_background": "light"
     },
     "output_type": "display_data"
    }
   ],
   "source": [
    "# Plot the Security Curve for the evaluation of the robust PyTorch classifier on CIFAR-10\n",
    "sc.plot()"
   ]
  },
  {
   "cell_type": "code",
   "execution_count": 12,
   "metadata": {},
   "outputs": [
    {
     "data": {
      "text/plain": [
       "False"
      ]
     },
     "execution_count": 12,
     "metadata": {},
     "output_type": "execute_result"
    }
   ],
   "source": [
    "# Check if the robust PyTorch classifier is potentially obfuscating loss gradients\n",
    "sc.detected_obfuscating_gradients"
   ]
  },
  {
   "cell_type": "markdown",
   "metadata": {},
   "source": [
    "# Robust Classifier with Gradient Obfuscation by Vanishing Gradients"
   ]
  },
  {
   "cell_type": "code",
   "execution_count": 13,
   "metadata": {},
   "outputs": [],
   "source": [
    "# Load MNIST dataset\n",
    "(x_train_mnist, y_train_mnist), (x_test_mnist, y_test_mnist), min_mnist, max_mnist = load_dataset('mnist')"
   ]
  },
  {
   "cell_type": "code",
   "execution_count": 14,
   "metadata": {},
   "outputs": [],
   "source": [
    "# Load a robust Keras model with potential gradient obfuscation caused by vanishing gradients.\n",
    "path = get_file('mnist_cnn_robust.h5', extract=False, path=ART_DATA_PATH,\n",
    "                url='https://www.dropbox.com/s/yutsncaniiy5uy8/mnist_cnn_robust.h5?dl=1')\n",
    "robust_classifier_model = load_model(path)\n",
    "robust_classifier_mnist = KerasClassifier(clip_values=(min_mnist, max_mnist),\n",
    "                                          model=robust_classifier_model,\n",
    "                                          use_logits=False)"
   ]
  },
  {
   "cell_type": "code",
   "execution_count": 15,
   "metadata": {},
   "outputs": [],
   "source": [
    "# Define argument for PGD attack used in evaluation, except `classifier` and `eps`\n",
    "kwargs_pgd = {\"norm\": \"inf\",\n",
    "              \"eps_step\": 1/255,\n",
    "              \"max_iter\": 100,\n",
    "              \"targeted\": False,\n",
    "              \"num_random_init\": 0,\n",
    "              \"batch_size\": 128,\n",
    "              \"random_eps\": False,\n",
    "              \"verbose\": False,\n",
    "             }"
   ]
  },
  {
   "cell_type": "code",
   "execution_count": 16,
   "metadata": {},
   "outputs": [],
   "source": [
    "# Define attack budgets for evaluation as number of evaluations equally spaced between minimal and \n",
    "# maximal `eps`.\n",
    "eps = 64"
   ]
  },
  {
   "cell_type": "code",
   "execution_count": 17,
   "metadata": {},
   "outputs": [],
   "source": [
    "# Create an instance of a Security Curve evaluation\n",
    "sc = SecurityCurve(eps=eps)"
   ]
  },
  {
   "cell_type": "code",
   "execution_count": 18,
   "metadata": {},
   "outputs": [],
   "source": [
    "# Evaluate Security Curve for robust PyTorch classifier on CIFAR-10 on the first 100 samples\n",
    "eps_list, accuracy_adv_list, accuracy = sc.evaluate(classifier=robust_classifier_mnist,\n",
    "                                                    x=x_train_mnist[0:100],\n",
    "                                                    y=y_train_mnist[0:100],\n",
    "                                                    **kwargs_pgd)"
   ]
  },
  {
   "cell_type": "code",
   "execution_count": 19,
   "metadata": {},
   "outputs": [
    {
     "data": {
      "image/png": "[encoded data removed]",
      "text/plain": [
       "<Figure size 432x288 with 1 Axes>"
      ]
     },
     "metadata": {
      "needs_background": "light"
     },
     "output_type": "display_data"
    }
   ],
   "source": [
    "# Plot the Security Curve for the evaluation of the robust PyTorch classifier on CIFAR-10\n",
    "sc.plot()"
   ]
  },
  {
   "cell_type": "code",
   "execution_count": 20,
   "metadata": {},
   "outputs": [
    {
     "data": {
      "text/plain": [
       "True"
      ]
     },
     "execution_count": 20,
     "metadata": {},
     "output_type": "execute_result"
    }
   ],
   "source": [
    "# Check if the robust PyTorch classifier is potentially obfuscating loss gradients\n",
    "sc.detected_obfuscating_gradients"
   ]
  },
  {
   "cell_type": "code",
   "execution_count": null,
   "metadata": {},
   "outputs": [],
   "source": []
  }
 ],
 "metadata": {
  "kernelspec": {
   "display_name": "Python 3",
   "language": "python",
   "name": "python3"
  },
  "language_info": {
   "codemirror_mode": {
    "name": "ipython",
    "version": 3
   },
   "file_extension": ".py",
   "mimetype": "text/x-python",
   "name": "python",
   "nbconvert_exporter": "python",
   "pygments_lexer": "ipython3",
   "version": "3.4.10"
  }
 },
 "nbformat": 4,
 "nbformat_minor": 4
}
