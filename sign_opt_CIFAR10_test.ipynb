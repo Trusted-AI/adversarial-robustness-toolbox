{
  "cells": [
    {
      "cell_type": "markdown",
      "metadata": {
        "id": "view-in-github",
        "colab_type": "text"
      },
      "source": [
        "<a href=\"https://colab.research.google.com/github/synergit/adversarial-robustness-toolbox/blob/development_issue_1331/sign_opt_CIFAR10_test.ipynb\" target=\"_parent\"><img src=\"https://colab.research.google.com/assets/colab-badge.svg\" alt=\"Open In Colab\"/></a>"
      ]
    },
    {
      "cell_type": "markdown",
      "metadata": {
        "id": "prTsZEeiBg__"
      },
      "source": [
        "Reference: http://home.mit.bme.hu/~hadhazi/Oktatas/NN18/dem3/html_demo/CIFAR-10Demo.html"
      ]
    },
    {
      "cell_type": "code",
      "source": [
        "# mount google drive https://medium.com/@ml_kid/how-to-save-our-model-to-google-drive-and-reuse-it-2c1028058cb2\n",
        "from google.colab import drive\n",
        "drive.mount('/content/gdrive')"
      ],
      "metadata": {
        "id": "3rMMis9BScKw",
        "colab": {
          "base_uri": "https://localhost:8080/"
        },
        "outputId": "bc6f77a0-6426-406b-a61e-c3932a52d825"
      },
      "execution_count": 2,
      "outputs": [
        {
          "output_type": "stream",
          "name": "stdout",
          "text": [
            "Mounted at /content/gdrive\n"
          ]
        }
      ]
    },
    {
      "cell_type": "code",
      "source": [
        "!ls /content/gdrive"
      ],
      "metadata": {
        "id": "nxNzNjB5TSe8",
        "colab": {
          "base_uri": "https://localhost:8080/"
        },
        "outputId": "17b8e219-2795-41ff-de85-c08dafcd9d0f"
      },
      "execution_count": 3,
      "outputs": [
        {
          "output_type": "stream",
          "name": "stdout",
          "text": [
            "MyDrive\n"
          ]
        }
      ]
    },
    {
      "cell_type": "code",
      "execution_count": 4,
      "metadata": {
        "id": "H29fOnbuHwao",
        "colab": {
          "base_uri": "https://localhost:8080/"
        },
        "outputId": "a713092f-3854-47e5-f824-70beed15695a"
      },
      "outputs": [
        {
          "output_type": "stream",
          "name": "stdout",
          "text": [
            "Collecting git+https://github.com/synergit/adversarial-robustness-toolbox@development_issue_1331\n",
            "  Cloning https://github.com/synergit/adversarial-robustness-toolbox (to revision development_issue_1331) to /tmp/pip-req-build-0u5mz1m4\n",
            "  Running command git clone -q https://github.com/synergit/adversarial-robustness-toolbox /tmp/pip-req-build-0u5mz1m4\n",
            "  Running command git checkout -b development_issue_1331 --track origin/development_issue_1331\n",
            "  Switched to a new branch 'development_issue_1331'\n",
            "  Branch 'development_issue_1331' set up to track remote branch 'development_issue_1331' from 'origin'.\n",
            "  Installing build dependencies ... \u001b[?25l\u001b[?25hdone\n",
            "  Getting requirements to build wheel ... \u001b[?25l\u001b[?25hdone\n",
            "    Preparing wheel metadata ... \u001b[?25l\u001b[?25hdone\n",
            "Requirement already satisfied: tqdm in /usr/local/lib/python3.7/dist-packages (from adversarial-robustness-toolbox==1.9.1) (4.63.0)\n",
            "Requirement already satisfied: scikit-learn<1.1.0,>=0.22.2 in /usr/local/lib/python3.7/dist-packages (from adversarial-robustness-toolbox==1.9.1) (1.0.2)\n",
            "Requirement already satisfied: six in /usr/local/lib/python3.7/dist-packages (from adversarial-robustness-toolbox==1.9.1) (1.15.0)\n",
            "Requirement already satisfied: setuptools in /usr/local/lib/python3.7/dist-packages (from adversarial-robustness-toolbox==1.9.1) (57.4.0)\n",
            "Requirement already satisfied: numpy>=1.18.0 in /usr/local/lib/python3.7/dist-packages (from adversarial-robustness-toolbox==1.9.1) (1.21.5)\n",
            "Collecting numba>=0.53.1\n",
            "  Downloading numba-0.55.1-1-cp37-cp37m-manylinux2014_x86_64.manylinux_2_17_x86_64.whl (3.3 MB)\n",
            "\u001b[K     |████████████████████████████████| 3.3 MB 5.4 MB/s \n",
            "\u001b[?25hRequirement already satisfied: scipy>=1.4.1 in /usr/local/lib/python3.7/dist-packages (from adversarial-robustness-toolbox==1.9.1) (1.4.1)\n",
            "Collecting llvmlite<0.39,>=0.38.0rc1\n",
            "  Downloading llvmlite-0.38.0-cp37-cp37m-manylinux_2_17_x86_64.manylinux2014_x86_64.whl (34.5 MB)\n",
            "\u001b[K     |████████████████████████████████| 34.5 MB 12 kB/s \n",
            "\u001b[?25hRequirement already satisfied: threadpoolctl>=2.0.0 in /usr/local/lib/python3.7/dist-packages (from scikit-learn<1.1.0,>=0.22.2->adversarial-robustness-toolbox==1.9.1) (3.1.0)\n",
            "Requirement already satisfied: joblib>=0.11 in /usr/local/lib/python3.7/dist-packages (from scikit-learn<1.1.0,>=0.22.2->adversarial-robustness-toolbox==1.9.1) (1.1.0)\n",
            "Building wheels for collected packages: adversarial-robustness-toolbox\n",
            "  Building wheel for adversarial-robustness-toolbox (PEP 517) ... \u001b[?25l\u001b[?25hdone\n",
            "  Created wheel for adversarial-robustness-toolbox: filename=adversarial_robustness_toolbox-1.9.1-py3-none-any.whl size=1172190 sha256=b2da1323eb93783c28e7065a21ddd870bd00852f4c79f33fe3b7dbbde01e03cf\n",
            "  Stored in directory: /tmp/pip-ephem-wheel-cache-1ur72swu/wheels/19/2f/c6/97df45b9b51050edfc179f2b45b56fe37ba2c3a9dd0497d727\n",
            "Successfully built adversarial-robustness-toolbox\n",
            "Installing collected packages: llvmlite, numba, adversarial-robustness-toolbox\n",
            "  Attempting uninstall: llvmlite\n",
            "    Found existing installation: llvmlite 0.34.0\n",
            "    Uninstalling llvmlite-0.34.0:\n",
            "      Successfully uninstalled llvmlite-0.34.0\n",
            "  Attempting uninstall: numba\n",
            "    Found existing installation: numba 0.51.2\n",
            "    Uninstalling numba-0.51.2:\n",
            "      Successfully uninstalled numba-0.51.2\n",
            "Successfully installed adversarial-robustness-toolbox-1.9.1 llvmlite-0.38.0 numba-0.55.1\n",
            "Requirement already satisfied: adversarial-robustness-toolbox in /usr/local/lib/python3.7/dist-packages (1.9.1)\n",
            "Requirement already satisfied: numpy>=1.18.0 in /usr/local/lib/python3.7/dist-packages (from adversarial-robustness-toolbox) (1.21.5)\n",
            "Requirement already satisfied: numba>=0.53.1 in /usr/local/lib/python3.7/dist-packages (from adversarial-robustness-toolbox) (0.55.1)\n",
            "Requirement already satisfied: scipy>=1.4.1 in /usr/local/lib/python3.7/dist-packages (from adversarial-robustness-toolbox) (1.4.1)\n",
            "Requirement already satisfied: tqdm in /usr/local/lib/python3.7/dist-packages (from adversarial-robustness-toolbox) (4.63.0)\n",
            "Requirement already satisfied: six in /usr/local/lib/python3.7/dist-packages (from adversarial-robustness-toolbox) (1.15.0)\n",
            "Requirement already satisfied: setuptools in /usr/local/lib/python3.7/dist-packages (from adversarial-robustness-toolbox) (57.4.0)\n",
            "Requirement already satisfied: scikit-learn<1.1.0,>=0.22.2 in /usr/local/lib/python3.7/dist-packages (from adversarial-robustness-toolbox) (1.0.2)\n",
            "Requirement already satisfied: llvmlite<0.39,>=0.38.0rc1 in /usr/local/lib/python3.7/dist-packages (from numba>=0.53.1->adversarial-robustness-toolbox) (0.38.0)\n",
            "Requirement already satisfied: joblib>=0.11 in /usr/local/lib/python3.7/dist-packages (from scikit-learn<1.1.0,>=0.22.2->adversarial-robustness-toolbox) (1.1.0)\n",
            "Requirement already satisfied: threadpoolctl>=2.0.0 in /usr/local/lib/python3.7/dist-packages (from scikit-learn<1.1.0,>=0.22.2->adversarial-robustness-toolbox) (3.1.0)\n"
          ]
        }
      ],
      "source": [
        "!pip install git+https://github.com/synergit/adversarial-robustness-toolbox@development_issue_1331\n",
        "!pip install adversarial-robustness-toolbox"
      ]
    },
    {
      "cell_type": "code",
      "execution_count": 5,
      "metadata": {
        "id": "oYZ4HsBFQicq"
      },
      "outputs": [],
      "source": [
        "# art.utils only loads first 5000 training and 500 test data\n",
        "from art.utils import load_cifar10\n",
        "import matplotlib.pyplot as plt\n",
        "\n",
        "def load_data(raw_image, length):\n",
        "  (x_train, y_train), (x_test, y_test), min_, max_ = load_cifar10(raw=raw_image)#load_dataset(str(\"cifar10\"))\n",
        "  # x_train.shape (5000, 32, 32, 3)\n",
        "  # y_train.shape (5000, 10)\n",
        "  x_train, y_train = x_train[:length], y_train[:length]\n",
        "  # x_test.shape (500, 32, 32, 3)\n",
        "  # y_test.shape (500, 10)\n",
        "  x_test, y_test = x_test[:int(length/10)], y_test[:int(length/10)]\n",
        "  print(x_train[0].shape)\n",
        "  \n",
        "  imshow_CIFAR10(raw_image, x_train, y_train, 5)\n",
        "  \n",
        "  return (x_train, y_train), (x_test, y_test), min_, max_\n",
        "\n",
        "\n",
        "def imshow_CIFAR10(raw_image, x_train, y_train, length):\n",
        "  if raw_image:\n",
        "    cifar_classes = ['airplane', 'automobile', 'bird', 'cat', 'deer', 'dog', 'frog', 'horse', 'ship', 'truck']\n",
        "    print('Example training images and their labels: ' + str([x[0] for x in y_train[0:length]])) \n",
        "    print('Corresponding classes for the labels: ' + str([cifar_classes[x[0]] for x in y_train[0:length]]))\n",
        "\n",
        "    f, axarr = plt.subplots(1, length)\n",
        "    f.set_size_inches(16, 6)\n",
        "\n",
        "    for i in range(5):\n",
        "        img = x_train[i]\n",
        "        axarr[i].imshow(img)\n",
        "    plt.show()\n",
        "  else:\n",
        "    print('change `raw_image` to be True for showing images')"
      ]
    },
    {
      "cell_type": "code",
      "execution_count": 6,
      "metadata": {
        "id": "NCiE72pOP12m"
      },
      "outputs": [],
      "source": [
        "import torch\n",
        "import torch.nn as nn\n",
        "import torch.nn.functional as F\n",
        "import torch.optim as optim\n",
        "from torchsummary import summary\n",
        "\n",
        "# Define the neural network model, return logits instead of activation in forward method\n",
        "###\n",
        "# define the network as https://arxiv.org/pdf/1608.04644.pdf, table 1\n",
        "###\n",
        "class Net_table1_CIFAR10(nn.Module):\n",
        "    def __init__(self):\n",
        "        super(Net_table1_CIFAR10, self).__init__()\n",
        "        self.conv_1 = nn.Conv2d(in_channels=3, out_channels=64, kernel_size=3, stride=1)\n",
        "        self.conv_2 = nn.Conv2d(in_channels=64, out_channels=64, kernel_size=3, stride=1)\n",
        "        self.conv_3 = nn.Conv2d(in_channels=64, out_channels=128, kernel_size=3, stride=1)\n",
        "        self.conv_4 = nn.Conv2d(in_channels=128, out_channels=128, kernel_size=3, stride=1)\n",
        "        # https://discuss.pytorch.org/t/calculation-for-the-input-to-the-fully-connected-layer/82774/11\n",
        "        # x.shape: torch.Size([2, 128, 5, 5]) so, 128*5*5\n",
        "        self.fc_1 = nn.Linear(in_features= 3200, out_features=256) \n",
        "        self.fc_2 = nn.Linear(in_features=256, out_features=10)\n",
        "        \n",
        "    # https://github.com/Carco-git/CW_Attack_on_MNIST/blob/master/MNIST_Model.py\n",
        "    def forward(self, x):\n",
        "        x = F.relu(self.conv_1(x))\n",
        "        x = F.relu(self.conv_2(x))\n",
        "        x = F.max_pool2d(x, 2, 2)\n",
        "        x = F.relu(self.conv_3(x))\n",
        "        x = F.relu(self.conv_4(x))\n",
        "        x = F.max_pool2d(x, 2, 2)\n",
        "        # print(x.shape) # torch.Size([2, 128, 5, 5])\n",
        "        x = x.view(-1, 3200)\n",
        "        \n",
        "        x = F.relu(self.fc_1(x))\n",
        "        x = F.dropout(x, p=0.5)\n",
        "        x = self.fc_2(x)\n",
        "        return x\n",
        "\n"
      ]
    },
    {
      "cell_type": "code",
      "source": [
        "# load the data\n",
        "\n",
        "raw_image = False\n",
        "(x_train, y_train), (x_test, y_test), min_, max_ = load_data(raw_image, 5000)\n",
        "# Create the model\n",
        "\n",
        "model_table1 = Net_table1_CIFAR10()\n",
        "\n",
        "# model_scratch = Net_table1_CIFAR10()\n",
        "# print(summary(model_scratch,(3, 32, 32)))\n"
      ],
      "metadata": {
        "id": "5DkYgW8c-lD0",
        "colab": {
          "base_uri": "https://localhost:8080/"
        },
        "outputId": "71295fd9-3309-40c1-eb0f-86d359812684"
      },
      "execution_count": 7,
      "outputs": [
        {
          "output_type": "stream",
          "name": "stdout",
          "text": [
            "(32, 32, 3)\n",
            "change `raw_image` to be True for showing images\n"
          ]
        }
      ]
    },
    {
      "cell_type": "code",
      "source": [
        "import tensorflow as tf\n",
        "tf.test.gpu_device_name()"
      ],
      "metadata": {
        "id": "Ci0O2Tb8LUEE",
        "colab": {
          "base_uri": "https://localhost:8080/",
          "height": 35
        },
        "outputId": "2de804f0-1ac6-47f9-cf5c-e19cd6cad621"
      },
      "execution_count": 8,
      "outputs": [
        {
          "output_type": "execute_result",
          "data": {
            "text/plain": [
              "'/device:GPU:0'"
            ],
            "application/vnd.google.colaboratory.intrinsic+json": {
              "type": "string"
            }
          },
          "metadata": {},
          "execution_count": 8
        }
      ]
    },
    {
      "cell_type": "code",
      "execution_count": 9,
      "metadata": {
        "id": "uKm-VeuuQO4l",
        "colab": {
          "base_uri": "https://localhost:8080/"
        },
        "outputId": "26aea517-cbf4-4b16-907c-bf3e34e890b5"
      },
      "outputs": [
        {
          "output_type": "stream",
          "name": "stdout",
          "text": [
            "Found existing model, training the model instead\n",
            "No existing model, training the model instead\n",
            "Accuracy on benign test examples: 46.6%\n"
          ]
        }
      ],
      "source": [
        "import numpy as np\n",
        "from art.estimators.classification import PyTorchClassifier\n",
        "criterion = nn.CrossEntropyLoss()\n",
        "optimizer_table1 = optim.SGD(model_table1.parameters(), lr=0.01, momentum=0.9)\n",
        "\n",
        "# Create the ART classifier\n",
        "\n",
        "classifier_table1 = PyTorchClassifier(\n",
        "    model=model_table1,\n",
        "    clip_values=(min_, max_),\n",
        "    loss=criterion,\n",
        "    optimizer=optimizer_table1,\n",
        "    input_shape=(3, 32, 32),\n",
        "    nb_classes=10,\n",
        "    device_type = \"gpu\",\n",
        ")\n",
        "\n",
        "# Swap axes to PyTorch's NCHW format\n",
        "x_train = np.transpose(x_train, (0, 3, 2, 1)).astype(np.float32)\n",
        "x_test = np.transpose(x_test, (0, 3, 2, 1)).astype(np.float32)\n",
        "\n",
        "ML_model_Filename = \"Pytorch_Model_CIFAR10_table1-0-1.pth\"\n",
        "path = F\"/content/gdrive/MyDrive/{ML_model_Filename}\"\n",
        "\n",
        "try:\n",
        "    with open(path, 'rb') as file:  \n",
        "        print('Found existing model, loading the model')\n",
        "        classifier_table1 = torch.load(file)\n",
        "except FileNotFoundError:\n",
        "    print('No existing model, training the model instead')\n",
        "    classifier_table1.fit(x_train, y_train, batch_size=128, nb_epochs=50)\n",
        "    # Save the model\n",
        "    with open(path, 'wb'):  \n",
        "        # pickle.dump(classifier_table1, file)\n",
        "        torch.save(classifier_table1, path)\n",
        "\n",
        "# print(classifier_table1) \n",
        "\n",
        "# Step 5: Evaluate the ART classifier on benign test examples\n",
        "predictions = classifier_table1.predict(x_test)\n",
        "accuracy = np.sum(np.argmax(predictions, axis=1) == np.argmax(y_test, axis=1)) / len(y_test)\n",
        "print(\"Accuracy on benign test examples: {}%\".format(accuracy * 100))"
      ]
    },
    {
      "cell_type": "code",
      "source": [
        "from art.attacks.evasion.sign_opt import SignOPTAttack\n",
        "\n",
        "q = 8000\n",
        "e = 0.5\n",
        "clipping = False\n",
        "l = 100\n",
        "attack = SignOPTAttack(estimator=classifier_table1, \n",
        "                           targeted=False, \n",
        "                           query_limit=q, \n",
        "                           eval_perform=True, verbose=False, \n",
        "                           clipped=clipping)\n",
        "\n",
        "x_test_adv = attack.generate(x=x_test[:l], y=np.zeros(y_test.shape), x_train=x_train)\n",
        "\n",
        "\n",
        "L2 = attack.logs.sum()/l\n",
        "count = 0\n",
        "for l2 in attack.logs:\n",
        "    if l2 <=e and l2 != 0.0:\n",
        "        count += 1\n",
        "SR = ((count)/l)*100\n",
        "\n",
        "print(attack.logs)\n",
        "print(f'L2={L2}, SR={SR}')\n",
        "\n",
        "predictions = classifier_table1.predict(x_test_adv)\n",
        "accuracy = np.sum(np.argmax(predictions, axis=1) == np.argmax(y_test[:l], axis=1)) / len(y_test[:l])\n",
        "# print(\"Accuracy on adversarial test examples: {}%\".format(accuracy * 100))\n",
        "print(f'{q}, {e}, {round(L2,2)}, {SR}%, {clipping}, {accuracy*100}%')"
      ],
      "metadata": {
        "id": "4ez8dja57FnR",
        "colab": {
          "base_uri": "https://localhost:8080/",
          "height": 1000,
          "referenced_widgets": [
            "f34b144e945f4fdb82820b9648048953",
            "1f8e70b82b054d829b83cb97ee97f433",
            "01c2496fc238498495342bc33268595d",
            "c8f173e6797e421d835a5ef78d294ddd",
            "b7dad285e5884d50bbaa4671ae786e2f",
            "469a4019f53b4b2caf3e6d9ed40e3311",
            "3c75428f4f7b44f3a29cb712450a7b2b",
            "b4c81c14011446c88c7921bf90b70a80",
            "56954304bbe84a828e88d5c0acff61af",
            "7aab592a5b994a14befcc91e6302c830",
            "7acb3860afed45e2969e9d59ce9edb5e"
          ]
        },
        "outputId": "6bb5a52a-bc03-4e1c-bb58-e596348d9b92"
      },
      "execution_count": 11,
      "outputs": [
        {
          "output_type": "display_data",
          "data": {
            "text/plain": [
              "Sign_OPT attack:   0%|          | 0/100 [00:00<?, ?it/s]"
            ],
            "application/vnd.jupyter.widget-view+json": {
              "version_major": 2,
              "version_minor": 0,
              "model_id": "f34b144e945f4fdb82820b9648048953"
            }
          },
          "metadata": {}
        },
        {
          "output_type": "stream",
          "name": "stdout",
          "text": [
            "WARNING: prediction on adv 3 == org label 3\n",
            "WARNING: prediction on adv 1 == org label 1\n",
            "WARNING: prediction on adv 1 == org label 1\n",
            "WARNING: prediction on adv 0 == org label 0\n",
            "WARNING: prediction on adv 6 == org label 6\n",
            "WARNING: prediction on adv 3 == org label 3\n",
            "WARNING: prediction on adv 4 == org label 4\n",
            "WARNING: prediction on adv 5 == org label 5\n",
            "WARNING: prediction on adv 1 == org label 1\n",
            "WARNING: prediction on adv 5 == org label 5\n",
            "WARNING: prediction on adv 7 == org label 7\n",
            "WARNING: prediction on adv 1 == org label 1\n",
            "WARNING: prediction on adv 9 == org label 9\n",
            "WARNING: prediction on adv 5 == org label 5\n",
            "WARNING: prediction on adv 3 == org label 3\n",
            "WARNING: prediction on adv 8 == org label 8\n",
            "WARNING: prediction on adv 7 == org label 7\n",
            "WARNING: prediction on adv 0 == org label 0\n",
            "WARNING: prediction on adv 9 == org label 9\n",
            "WARNING: prediction on adv 2 == org label 2\n",
            "WARNING: prediction on adv 5 == org label 5\n",
            "WARNING: prediction on adv 2 == org label 2\n",
            "WARNING: prediction on adv 4 == org label 4\n",
            "WARNING: prediction on adv 3 == org label 3\n",
            "WARNING: prediction on adv 9 == org label 9\n",
            "WARNING: prediction on adv 2 == org label 2\n",
            "WARNING: prediction on adv 7 == org label 7\n",
            "WARNING: prediction on adv 1 == org label 1\n",
            "WARNING: prediction on adv 5 == org label 5\n",
            "WARNING: prediction on adv 4 == org label 4\n",
            "WARNING: prediction on adv 6 == org label 6\n",
            "WARNING: prediction on adv 0 == org label 0\n",
            "WARNING: prediction on adv 9 == org label 9\n",
            "WARNING: prediction on adv 3 == org label 3\n",
            "WARNING: prediction on adv 9 == org label 9\n",
            "WARNING: prediction on adv 4 == org label 4\n",
            "WARNING: prediction on adv 4 == org label 4\n",
            "WARNING: prediction on adv 8 == org label 8\n",
            "WARNING: prediction on adv 6 == org label 6\n",
            "WARNING: prediction on adv 8 == org label 8\n",
            "WARNING: prediction on adv 8 == org label 8\n",
            "WARNING: prediction on adv 7 == org label 7\n",
            "WARNING: prediction on adv 3 == org label 3\n",
            "WARNING: prediction on adv 4 == org label 4\n",
            "WARNING: prediction on adv 6 == org label 6\n",
            "WARNING: prediction on adv 6 == org label 6\n",
            "WARNING: prediction on adv 2 == org label 2\n",
            "WARNING: prediction on adv 1 == org label 1\n",
            "WARNING: prediction on adv 0 == org label 0\n",
            "WARNING: prediction on adv 2 == org label 2\n",
            "WARNING: prediction on adv 6 == org label 6\n",
            "WARNING: prediction on adv 8 == org label 8\n",
            "WARNING: prediction on adv 0 == org label 0\n",
            "WARNING: prediction on adv 2 == org label 2\n",
            "WARNING: prediction on adv 5 == org label 5\n",
            "WARNING: prediction on adv 8 == org label 8\n",
            "WARNING: prediction on adv 1 == org label 1\n",
            "WARNING: prediction on adv 2 == org label 2\n",
            "WARNING: prediction on adv 4 == org label 4\n",
            "WARNING: prediction on adv 9 == org label 9\n",
            "WARNING: prediction on adv 1 == org label 1\n",
            "WARNING: prediction on adv 4 == org label 4\n",
            "WARNING: prediction on adv 8 == org label 8\n",
            "WARNING: prediction on adv 6 == org label 6\n",
            "WARNING: prediction on adv 4 == org label 4\n",
            "WARNING: prediction on adv 6 == org label 6\n",
            "WARNING: prediction on adv 0 == org label 0\n",
            "WARNING: prediction on adv 7 == org label 7\n",
            "[8.17169610e-04 1.74614418e+00 6.22240925e+00 5.36491163e-04\n",
            " 3.59061261e-04 5.36056818e-04 3.29305069e-04 1.14019684e-01\n",
            " 1.02553086e-03 1.89376583e+01 4.14997543e-04 4.62368538e-04\n",
            " 6.06371148e-04 5.19881678e+00 4.04921265e+01 4.21184930e-04\n",
            " 1.49449008e-03 1.04153462e-01 1.38615910e-03 3.58629550e-05\n",
            " 1.16923392e-01 2.40363079e-04 1.32789249e-02 1.47316628e-03\n",
            " 1.31335109e-04 4.59318369e-04 1.54755870e-03 1.48145919e-05\n",
            " 3.63918894e-04 3.11464851e-06 3.73478961e+00 1.83423817e+00\n",
            " 1.42981252e-03 2.71889410e-04 2.85308599e+00 2.30907500e-02\n",
            " 2.96202397e+00 5.77410042e-01 6.65609658e-01 7.36113405e-04\n",
            " 0.00000000e+00 1.53866988e-02 3.31090497e-08 9.72406673e+00\n",
            " 4.86396170e+00 4.11998219e-04 3.98363359e-03 1.88739679e-04\n",
            " 6.78055096e+00 5.98009152e-04 4.18423551e-05 4.20696592e+00\n",
            " 6.64046779e-02 3.23649010e-06 8.80063511e-04 1.09945602e+01\n",
            " 1.24796095e+01 1.28493139e-06 2.20628157e-01 1.90095678e-02\n",
            " 1.01657648e+01 1.34044468e-01 2.43525501e-04 2.80101784e-04\n",
            " 2.05000496e+00 8.98017723e-04 1.15349007e+00 1.27397661e+01\n",
            " 4.86348436e-04 4.46673403e-06 2.75871623e-02 6.22201129e-04\n",
            " 4.90105963e+00 4.40304430e-04 5.57725143e-04 6.89625025e+00\n",
            " 1.76818233e-07 7.16398587e-04 1.79878771e-06 3.32179043e-04\n",
            " 1.23693511e-01 3.41317825e+01 4.37586212e+01 1.39545344e-04\n",
            " 5.16760349e+00 7.67098904e+00 1.29354953e-08 5.98660392e-07\n",
            " 1.61001619e-04 5.29930345e-04 1.77080135e+01 6.43060601e-04\n",
            " 3.55882570e-04 4.10301447e+00 1.98708856e+00 7.50895452e+00\n",
            " 1.47419634e+01 2.01071382e+00 1.33847446e+01 5.70597258e-05]\n",
            "L2=3.253597485977589, SR=65.0\n",
            "8000, 0.5, 3.25, 65.0%, False, 46.0%\n"
          ]
        }
      ]
    }
  ],
  "metadata": {
    "colab": {
      "collapsed_sections": [],
      "name": "sign_opt_CIFAR10_test",
      "provenance": [],
      "history_visible": true,
      "mount_file_id": "1Jz4T5FcsHUEBWRklXikk4B6CrpXqVBT8",
      "authorship_tag": "ABX9TyMnHBiKh1pMouknmymDrnhR",
      "include_colab_link": true
    },
    "kernelspec": {
      "display_name": "Python 3",
      "name": "python3"
    },
    "language_info": {
      "name": "python"
    },
    "accelerator": "GPU",
    "widgets": {
      "application/vnd.jupyter.widget-state+json": {
        "f34b144e945f4fdb82820b9648048953": {
          "model_module": "@jupyter-widgets/controls",
          "model_name": "HBoxModel",
          "model_module_version": "1.5.0",
          "state": {
            "_dom_classes": [],
            "_model_module": "@jupyter-widgets/controls",
            "_model_module_version": "1.5.0",
            "_model_name": "HBoxModel",
            "_view_count": null,
            "_view_module": "@jupyter-widgets/controls",
            "_view_module_version": "1.5.0",
            "_view_name": "HBoxView",
            "box_style": "",
            "children": [
              "IPY_MODEL_1f8e70b82b054d829b83cb97ee97f433",
              "IPY_MODEL_01c2496fc238498495342bc33268595d",
              "IPY_MODEL_c8f173e6797e421d835a5ef78d294ddd"
            ],
            "layout": "IPY_MODEL_b7dad285e5884d50bbaa4671ae786e2f"
          }
        },
        "1f8e70b82b054d829b83cb97ee97f433": {
          "model_module": "@jupyter-widgets/controls",
          "model_name": "HTMLModel",
          "model_module_version": "1.5.0",
          "state": {
            "_dom_classes": [],
            "_model_module": "@jupyter-widgets/controls",
            "_model_module_version": "1.5.0",
            "_model_name": "HTMLModel",
            "_view_count": null,
            "_view_module": "@jupyter-widgets/controls",
            "_view_module_version": "1.5.0",
            "_view_name": "HTMLView",
            "description": "",
            "description_tooltip": null,
            "layout": "IPY_MODEL_469a4019f53b4b2caf3e6d9ed40e3311",
            "placeholder": "​",
            "style": "IPY_MODEL_3c75428f4f7b44f3a29cb712450a7b2b",
            "value": "Sign_OPT attack: 100%"
          }
        },
        "01c2496fc238498495342bc33268595d": {
          "model_module": "@jupyter-widgets/controls",
          "model_name": "FloatProgressModel",
          "model_module_version": "1.5.0",
          "state": {
            "_dom_classes": [],
            "_model_module": "@jupyter-widgets/controls",
            "_model_module_version": "1.5.0",
            "_model_name": "FloatProgressModel",
            "_view_count": null,
            "_view_module": "@jupyter-widgets/controls",
            "_view_module_version": "1.5.0",
            "_view_name": "ProgressView",
            "bar_style": "success",
            "description": "",
            "description_tooltip": null,
            "layout": "IPY_MODEL_b4c81c14011446c88c7921bf90b70a80",
            "max": 100,
            "min": 0,
            "orientation": "horizontal",
            "style": "IPY_MODEL_56954304bbe84a828e88d5c0acff61af",
            "value": 100
          }
        },
        "c8f173e6797e421d835a5ef78d294ddd": {
          "model_module": "@jupyter-widgets/controls",
          "model_name": "HTMLModel",
          "model_module_version": "1.5.0",
          "state": {
            "_dom_classes": [],
            "_model_module": "@jupyter-widgets/controls",
            "_model_module_version": "1.5.0",
            "_model_name": "HTMLModel",
            "_view_count": null,
            "_view_module": "@jupyter-widgets/controls",
            "_view_module_version": "1.5.0",
            "_view_name": "HTMLView",
            "description": "",
            "description_tooltip": null,
            "layout": "IPY_MODEL_7aab592a5b994a14befcc91e6302c830",
            "placeholder": "​",
            "style": "IPY_MODEL_7acb3860afed45e2969e9d59ce9edb5e",
            "value": " 100/100 [25:19&lt;00:00, 15.18s/it]"
          }
        },
        "b7dad285e5884d50bbaa4671ae786e2f": {
          "model_module": "@jupyter-widgets/base",
          "model_name": "LayoutModel",
          "model_module_version": "1.2.0",
          "state": {
            "_model_module": "@jupyter-widgets/base",
            "_model_module_version": "1.2.0",
            "_model_name": "LayoutModel",
            "_view_count": null,
            "_view_module": "@jupyter-widgets/base",
            "_view_module_version": "1.2.0",
            "_view_name": "LayoutView",
            "align_content": null,
            "align_items": null,
            "align_self": null,
            "border": null,
            "bottom": null,
            "display": null,
            "flex": null,
            "flex_flow": null,
            "grid_area": null,
            "grid_auto_columns": null,
            "grid_auto_flow": null,
            "grid_auto_rows": null,
            "grid_column": null,
            "grid_gap": null,
            "grid_row": null,
            "grid_template_areas": null,
            "grid_template_columns": null,
            "grid_template_rows": null,
            "height": null,
            "justify_content": null,
            "justify_items": null,
            "left": null,
            "margin": null,
            "max_height": null,
            "max_width": null,
            "min_height": null,
            "min_width": null,
            "object_fit": null,
            "object_position": null,
            "order": null,
            "overflow": null,
            "overflow_x": null,
            "overflow_y": null,
            "padding": null,
            "right": null,
            "top": null,
            "visibility": null,
            "width": null
          }
        },
        "469a4019f53b4b2caf3e6d9ed40e3311": {
          "model_module": "@jupyter-widgets/base",
          "model_name": "LayoutModel",
          "model_module_version": "1.2.0",
          "state": {
            "_model_module": "@jupyter-widgets/base",
            "_model_module_version": "1.2.0",
            "_model_name": "LayoutModel",
            "_view_count": null,
            "_view_module": "@jupyter-widgets/base",
            "_view_module_version": "1.2.0",
            "_view_name": "LayoutView",
            "align_content": null,
            "align_items": null,
            "align_self": null,
            "border": null,
            "bottom": null,
            "display": null,
            "flex": null,
            "flex_flow": null,
            "grid_area": null,
            "grid_auto_columns": null,
            "grid_auto_flow": null,
            "grid_auto_rows": null,
            "grid_column": null,
            "grid_gap": null,
            "grid_row": null,
            "grid_template_areas": null,
            "grid_template_columns": null,
            "grid_template_rows": null,
            "height": null,
            "justify_content": null,
            "justify_items": null,
            "left": null,
            "margin": null,
            "max_height": null,
            "max_width": null,
            "min_height": null,
            "min_width": null,
            "object_fit": null,
            "object_position": null,
            "order": null,
            "overflow": null,
            "overflow_x": null,
            "overflow_y": null,
            "padding": null,
            "right": null,
            "top": null,
            "visibility": null,
            "width": null
          }
        },
        "3c75428f4f7b44f3a29cb712450a7b2b": {
          "model_module": "@jupyter-widgets/controls",
          "model_name": "DescriptionStyleModel",
          "model_module_version": "1.5.0",
          "state": {
            "_model_module": "@jupyter-widgets/controls",
            "_model_module_version": "1.5.0",
            "_model_name": "DescriptionStyleModel",
            "_view_count": null,
            "_view_module": "@jupyter-widgets/base",
            "_view_module_version": "1.2.0",
            "_view_name": "StyleView",
            "description_width": ""
          }
        },
        "b4c81c14011446c88c7921bf90b70a80": {
          "model_module": "@jupyter-widgets/base",
          "model_name": "LayoutModel",
          "model_module_version": "1.2.0",
          "state": {
            "_model_module": "@jupyter-widgets/base",
            "_model_module_version": "1.2.0",
            "_model_name": "LayoutModel",
            "_view_count": null,
            "_view_module": "@jupyter-widgets/base",
            "_view_module_version": "1.2.0",
            "_view_name": "LayoutView",
            "align_content": null,
            "align_items": null,
            "align_self": null,
            "border": null,
            "bottom": null,
            "display": null,
            "flex": null,
            "flex_flow": null,
            "grid_area": null,
            "grid_auto_columns": null,
            "grid_auto_flow": null,
            "grid_auto_rows": null,
            "grid_column": null,
            "grid_gap": null,
            "grid_row": null,
            "grid_template_areas": null,
            "grid_template_columns": null,
            "grid_template_rows": null,
            "height": null,
            "justify_content": null,
            "justify_items": null,
            "left": null,
            "margin": null,
            "max_height": null,
            "max_width": null,
            "min_height": null,
            "min_width": null,
            "object_fit": null,
            "object_position": null,
            "order": null,
            "overflow": null,
            "overflow_x": null,
            "overflow_y": null,
            "padding": null,
            "right": null,
            "top": null,
            "visibility": null,
            "width": null
          }
        },
        "56954304bbe84a828e88d5c0acff61af": {
          "model_module": "@jupyter-widgets/controls",
          "model_name": "ProgressStyleModel",
          "model_module_version": "1.5.0",
          "state": {
            "_model_module": "@jupyter-widgets/controls",
            "_model_module_version": "1.5.0",
            "_model_name": "ProgressStyleModel",
            "_view_count": null,
            "_view_module": "@jupyter-widgets/base",
            "_view_module_version": "1.2.0",
            "_view_name": "StyleView",
            "bar_color": null,
            "description_width": ""
          }
        },
        "7aab592a5b994a14befcc91e6302c830": {
          "model_module": "@jupyter-widgets/base",
          "model_name": "LayoutModel",
          "model_module_version": "1.2.0",
          "state": {
            "_model_module": "@jupyter-widgets/base",
            "_model_module_version": "1.2.0",
            "_model_name": "LayoutModel",
            "_view_count": null,
            "_view_module": "@jupyter-widgets/base",
            "_view_module_version": "1.2.0",
            "_view_name": "LayoutView",
            "align_content": null,
            "align_items": null,
            "align_self": null,
            "border": null,
            "bottom": null,
            "display": null,
            "flex": null,
            "flex_flow": null,
            "grid_area": null,
            "grid_auto_columns": null,
            "grid_auto_flow": null,
            "grid_auto_rows": null,
            "grid_column": null,
            "grid_gap": null,
            "grid_row": null,
            "grid_template_areas": null,
            "grid_template_columns": null,
            "grid_template_rows": null,
            "height": null,
            "justify_content": null,
            "justify_items": null,
            "left": null,
            "margin": null,
            "max_height": null,
            "max_width": null,
            "min_height": null,
            "min_width": null,
            "object_fit": null,
            "object_position": null,
            "order": null,
            "overflow": null,
            "overflow_x": null,
            "overflow_y": null,
            "padding": null,
            "right": null,
            "top": null,
            "visibility": null,
            "width": null
          }
        },
        "7acb3860afed45e2969e9d59ce9edb5e": {
          "model_module": "@jupyter-widgets/controls",
          "model_name": "DescriptionStyleModel",
          "model_module_version": "1.5.0",
          "state": {
            "_model_module": "@jupyter-widgets/controls",
            "_model_module_version": "1.5.0",
            "_model_name": "DescriptionStyleModel",
            "_view_count": null,
            "_view_module": "@jupyter-widgets/base",
            "_view_module_version": "1.2.0",
            "_view_name": "StyleView",
            "description_width": ""
          }
        }
      }
    }
  },
  "nbformat": 4,
  "nbformat_minor": 0
}