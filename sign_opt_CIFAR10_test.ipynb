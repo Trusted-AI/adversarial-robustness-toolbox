{
  "cells": [
    {
      "cell_type": "markdown",
      "metadata": {
        "id": "view-in-github",
        "colab_type": "text"
      },
      "source": [
        "<a href=\"https://colab.research.google.com/github/synergit/adversarial-robustness-toolbox/blob/development_issue_1331/sign_opt_CIFAR10_test.ipynb\" target=\"_parent\"><img src=\"https://colab.research.google.com/assets/colab-badge.svg\" alt=\"Open In Colab\"/></a>"
      ]
    },
    {
      "cell_type": "markdown",
      "metadata": {
        "id": "prTsZEeiBg__"
      },
      "source": [
        "Reference: http://home.mit.bme.hu/~hadhazi/Oktatas/NN18/dem3/html_demo/CIFAR-10Demo.html"
      ]
    },
    {
      "cell_type": "code",
      "source": [
        "# mount google drive https://medium.com/@ml_kid/how-to-save-our-model-to-google-drive-and-reuse-it-2c1028058cb2\n",
        "from google.colab import drive\n",
        "drive.mount('/content/gdrive')"
      ],
      "metadata": {
        "colab": {
          "base_uri": "https://localhost:8080/"
        },
        "id": "3rMMis9BScKw",
        "outputId": "4334b302-2c6c-41b7-96c7-fae638fb5e4b"
      },
      "execution_count": 47,
      "outputs": [
        {
          "output_type": "stream",
          "name": "stdout",
          "text": [
            "Drive already mounted at /content/gdrive; to attempt to forcibly remount, call drive.mount(\"/content/gdrive\", force_remount=True).\n"
          ]
        }
      ]
    },
    {
      "cell_type": "code",
      "source": [
        "!ls /content/gdrive"
      ],
      "metadata": {
        "colab": {
          "base_uri": "https://localhost:8080/"
        },
        "id": "nxNzNjB5TSe8",
        "outputId": "611f28f8-1240-49e9-f289-7bd89735fe28"
      },
      "execution_count": 48,
      "outputs": [
        {
          "output_type": "stream",
          "name": "stdout",
          "text": [
            "MyDrive\n"
          ]
        }
      ]
    },
    {
      "cell_type": "code",
      "execution_count": 49,
      "metadata": {
        "colab": {
          "base_uri": "https://localhost:8080/"
        },
        "id": "H29fOnbuHwao",
        "outputId": "ede41288-bd24-41b9-a21d-c994c843d13d"
      },
      "outputs": [
        {
          "output_type": "stream",
          "name": "stdout",
          "text": [
            "Collecting git+https://github.com/synergit/adversarial-robustness-toolbox@development_issue_1331\n",
            "  Cloning https://github.com/synergit/adversarial-robustness-toolbox (to revision development_issue_1331) to /tmp/pip-req-build-6ljhr6i6\n",
            "  Running command git clone -q https://github.com/synergit/adversarial-robustness-toolbox /tmp/pip-req-build-6ljhr6i6\n",
            "  Running command git checkout -b development_issue_1331 --track origin/development_issue_1331\n",
            "  Switched to a new branch 'development_issue_1331'\n",
            "  Branch 'development_issue_1331' set up to track remote branch 'development_issue_1331' from 'origin'.\n",
            "  Installing build dependencies ... \u001b[?25l\u001b[?25hdone\n",
            "  Getting requirements to build wheel ... \u001b[?25l\u001b[?25hdone\n",
            "    Preparing wheel metadata ... \u001b[?25l\u001b[?25hdone\n",
            "Requirement already satisfied: six in /usr/local/lib/python3.7/dist-packages (from adversarial-robustness-toolbox==1.9.1) (1.15.0)\n",
            "Requirement already satisfied: numba>=0.53.1 in /usr/local/lib/python3.7/dist-packages (from adversarial-robustness-toolbox==1.9.1) (0.55.1)\n",
            "Requirement already satisfied: numpy>=1.18.0 in /usr/local/lib/python3.7/dist-packages (from adversarial-robustness-toolbox==1.9.1) (1.21.5)\n",
            "Requirement already satisfied: scikit-learn<1.1.0,>=0.22.2 in /usr/local/lib/python3.7/dist-packages (from adversarial-robustness-toolbox==1.9.1) (1.0.2)\n",
            "Requirement already satisfied: setuptools in /usr/local/lib/python3.7/dist-packages (from adversarial-robustness-toolbox==1.9.1) (57.4.0)\n",
            "Requirement already satisfied: tqdm in /usr/local/lib/python3.7/dist-packages (from adversarial-robustness-toolbox==1.9.1) (4.63.0)\n",
            "Requirement already satisfied: scipy>=1.4.1 in /usr/local/lib/python3.7/dist-packages (from adversarial-robustness-toolbox==1.9.1) (1.4.1)\n",
            "Requirement already satisfied: llvmlite<0.39,>=0.38.0rc1 in /usr/local/lib/python3.7/dist-packages (from numba>=0.53.1->adversarial-robustness-toolbox==1.9.1) (0.38.0)\n",
            "Requirement already satisfied: threadpoolctl>=2.0.0 in /usr/local/lib/python3.7/dist-packages (from scikit-learn<1.1.0,>=0.22.2->adversarial-robustness-toolbox==1.9.1) (3.1.0)\n",
            "Requirement already satisfied: joblib>=0.11 in /usr/local/lib/python3.7/dist-packages (from scikit-learn<1.1.0,>=0.22.2->adversarial-robustness-toolbox==1.9.1) (1.1.0)\n",
            "Requirement already satisfied: adversarial-robustness-toolbox in /usr/local/lib/python3.7/dist-packages (1.9.1)\n",
            "Requirement already satisfied: scikit-learn<1.1.0,>=0.22.2 in /usr/local/lib/python3.7/dist-packages (from adversarial-robustness-toolbox) (1.0.2)\n",
            "Requirement already satisfied: setuptools in /usr/local/lib/python3.7/dist-packages (from adversarial-robustness-toolbox) (57.4.0)\n",
            "Requirement already satisfied: tqdm in /usr/local/lib/python3.7/dist-packages (from adversarial-robustness-toolbox) (4.63.0)\n",
            "Requirement already satisfied: six in /usr/local/lib/python3.7/dist-packages (from adversarial-robustness-toolbox) (1.15.0)\n",
            "Requirement already satisfied: numba>=0.53.1 in /usr/local/lib/python3.7/dist-packages (from adversarial-robustness-toolbox) (0.55.1)\n",
            "Requirement already satisfied: scipy>=1.4.1 in /usr/local/lib/python3.7/dist-packages (from adversarial-robustness-toolbox) (1.4.1)\n",
            "Requirement already satisfied: numpy>=1.18.0 in /usr/local/lib/python3.7/dist-packages (from adversarial-robustness-toolbox) (1.21.5)\n",
            "Requirement already satisfied: llvmlite<0.39,>=0.38.0rc1 in /usr/local/lib/python3.7/dist-packages (from numba>=0.53.1->adversarial-robustness-toolbox) (0.38.0)\n",
            "Requirement already satisfied: threadpoolctl>=2.0.0 in /usr/local/lib/python3.7/dist-packages (from scikit-learn<1.1.0,>=0.22.2->adversarial-robustness-toolbox) (3.1.0)\n",
            "Requirement already satisfied: joblib>=0.11 in /usr/local/lib/python3.7/dist-packages (from scikit-learn<1.1.0,>=0.22.2->adversarial-robustness-toolbox) (1.1.0)\n"
          ]
        }
      ],
      "source": [
        "!pip install git+https://github.com/synergit/adversarial-robustness-toolbox@development_issue_1331\n",
        "!pip install adversarial-robustness-toolbox"
      ]
    },
    {
      "cell_type": "code",
      "execution_count": 50,
      "metadata": {
        "id": "oYZ4HsBFQicq"
      },
      "outputs": [],
      "source": [
        "# art.utils only loads first 5000 training and 500 test data\n",
        "from art.utils import load_cifar10\n",
        "import matplotlib.pyplot as plt\n",
        "\n",
        "def load_data(raw_image, length):\n",
        "  (x_train, y_train), (x_test, y_test), min_, max_ = load_cifar10(raw=raw_image)#load_dataset(str(\"cifar10\"))\n",
        "  # x_train.shape (5000, 32, 32, 3)\n",
        "  # y_train.shape (5000, 10)\n",
        "  x_train, y_train = x_train[:length], y_train[:length]\n",
        "  # x_test.shape (500, 32, 32, 3)\n",
        "  # y_test.shape (500, 10)\n",
        "  x_test, y_test = x_test[:int(length/10)], y_test[:int(length/10)]\n",
        "  print(x_train[0].shape)\n",
        "  \n",
        "  imshow_CIFAR10(raw_image, x_train, y_train, 5)\n",
        "  \n",
        "  return (x_train, y_train), (x_test, y_test), min_, max_\n",
        "\n",
        "\n",
        "def imshow_CIFAR10(raw_image, x_train, y_train, length):\n",
        "  if raw_image:\n",
        "    cifar_classes = ['airplane', 'automobile', 'bird', 'cat', 'deer', 'dog', 'frog', 'horse', 'ship', 'truck']\n",
        "    print('Example training images and their labels: ' + str([x[0] for x in y_train[0:length]])) \n",
        "    print('Corresponding classes for the labels: ' + str([cifar_classes[x[0]] for x in y_train[0:length]]))\n",
        "\n",
        "    f, axarr = plt.subplots(1, length)\n",
        "    f.set_size_inches(16, 6)\n",
        "\n",
        "    for i in range(5):\n",
        "        img = x_train[i]\n",
        "        axarr[i].imshow(img)\n",
        "    plt.show()\n",
        "  else:\n",
        "    print('change `raw_image` to be True for showing images')"
      ]
    },
    {
      "cell_type": "code",
      "execution_count": 51,
      "metadata": {
        "id": "NCiE72pOP12m"
      },
      "outputs": [],
      "source": [
        "import torch\n",
        "import torch.nn as nn\n",
        "import torch.nn.functional as F\n",
        "import torch.optim as optim\n",
        "from torchsummary import summary\n",
        "\n",
        "# Define the neural network model, return logits instead of activation in forward method\n",
        "###\n",
        "# define the network as https://arxiv.org/pdf/1608.04644.pdf, table 1\n",
        "###\n",
        "class Net_table1_CIFAR10(nn.Module):\n",
        "    def __init__(self):\n",
        "        super(Net_table1_CIFAR10, self).__init__()\n",
        "        self.conv_1 = nn.Conv2d(in_channels=3, out_channels=64, kernel_size=3, stride=1)\n",
        "        self.conv_2 = nn.Conv2d(in_channels=64, out_channels=64, kernel_size=3, stride=1)\n",
        "        self.conv_3 = nn.Conv2d(in_channels=64, out_channels=128, kernel_size=3, stride=1)\n",
        "        self.conv_4 = nn.Conv2d(in_channels=128, out_channels=128, kernel_size=3, stride=1)\n",
        "        # https://discuss.pytorch.org/t/calculation-for-the-input-to-the-fully-connected-layer/82774/11\n",
        "        # x.shape: torch.Size([2, 128, 5, 5]) so, 128*5*5\n",
        "        self.fc_1 = nn.Linear(in_features= 3200, out_features=256) \n",
        "        self.fc_2 = nn.Linear(in_features=256, out_features=10)\n",
        "        \n",
        "    # https://github.com/Carco-git/CW_Attack_on_MNIST/blob/master/MNIST_Model.py\n",
        "    def forward(self, x):\n",
        "        x = F.relu(self.conv_1(x))\n",
        "        x = F.relu(self.conv_2(x))\n",
        "        x = F.max_pool2d(x, 2, 2)\n",
        "        x = F.relu(self.conv_3(x))\n",
        "        x = F.relu(self.conv_4(x))\n",
        "        x = F.max_pool2d(x, 2, 2)\n",
        "        # print(x.shape) # torch.Size([2, 128, 5, 5])\n",
        "        x = x.view(-1, 3200)\n",
        "        \n",
        "        x = F.relu(self.fc_1(x))\n",
        "        x = F.dropout(x, p=0.5)\n",
        "        x = self.fc_2(x)\n",
        "        return x\n",
        "\n"
      ]
    },
    {
      "cell_type": "code",
      "source": [
        "# load the data\n",
        "\n",
        "raw_image = False\n",
        "(x_train, y_train), (x_test, y_test), min_, max_ = load_data(raw_image, 5000)\n",
        "# Create the model\n",
        "\n",
        "model_table1 = Net_table1_CIFAR10()\n",
        "\n",
        "# model_scratch = Net_table1_CIFAR10()\n",
        "# print(summary(model_scratch,(3, 32, 32)))\n"
      ],
      "metadata": {
        "colab": {
          "base_uri": "https://localhost:8080/"
        },
        "id": "5DkYgW8c-lD0",
        "outputId": "f1d4b54f-cff7-4738-a588-380fb67880ea"
      },
      "execution_count": 52,
      "outputs": [
        {
          "output_type": "stream",
          "name": "stdout",
          "text": [
            "(32, 32, 3)\n",
            "change `raw_image` to be True for showing images\n"
          ]
        }
      ]
    },
    {
      "cell_type": "code",
      "source": [
        "import tensorflow as tf\n",
        "tf.test.gpu_device_name()"
      ],
      "metadata": {
        "colab": {
          "base_uri": "https://localhost:8080/",
          "height": 35
        },
        "id": "Ci0O2Tb8LUEE",
        "outputId": "2a35c7fa-9f11-4fc2-c065-47042997f8d5"
      },
      "execution_count": 53,
      "outputs": [
        {
          "output_type": "execute_result",
          "data": {
            "text/plain": [
              "'/device:GPU:0'"
            ],
            "application/vnd.google.colaboratory.intrinsic+json": {
              "type": "string"
            }
          },
          "metadata": {},
          "execution_count": 53
        }
      ]
    },
    {
      "cell_type": "code",
      "execution_count": 54,
      "metadata": {
        "colab": {
          "base_uri": "https://localhost:8080/"
        },
        "id": "uKm-VeuuQO4l",
        "outputId": "e6483f3f-959f-48e4-b885-fde69702b32b"
      },
      "outputs": [
        {
          "output_type": "stream",
          "name": "stdout",
          "text": [
            "Found existing model, training the model instead\n",
            "Accuracy on benign test examples: 44.800000000000004%\n"
          ]
        }
      ],
      "source": [
        "import numpy as np\n",
        "from art.estimators.classification import PyTorchClassifier\n",
        "criterion = nn.CrossEntropyLoss()\n",
        "optimizer_table1 = optim.SGD(model_table1.parameters(), lr=0.01, momentum=0.9)\n",
        "\n",
        "# Create the ART classifier\n",
        "\n",
        "classifier_table1 = PyTorchClassifier(\n",
        "    model=model_table1,\n",
        "    clip_values=(min_, max_),\n",
        "    loss=criterion,\n",
        "    optimizer=optimizer_table1,\n",
        "    input_shape=(3, 32, 32),\n",
        "    nb_classes=10,\n",
        "    device_type = \"gpu\",\n",
        ")\n",
        "\n",
        "# Swap axes to PyTorch's NCHW format\n",
        "x_train = np.transpose(x_train, (0, 3, 2, 1)).astype(np.float32)\n",
        "x_test = np.transpose(x_test, (0, 3, 2, 1)).astype(np.float32)\n",
        "\n",
        "ML_model_Filename = \"Pytorch_Model_CIFAR10_table1-0-1.pth\"\n",
        "path = F\"/content/gdrive/MyDrive/{ML_model_Filename}\"\n",
        "\n",
        "try:\n",
        "    with open(path, 'rb') as file:  \n",
        "        print('Found existing model, training the model instead')\n",
        "        classifier_table1 = torch.load(file)\n",
        "except FileNotFoundError:\n",
        "    print('No existing model, training the model instead')\n",
        "    classifier_table1.fit(x_train, y_train, batch_size=128, nb_epochs=50)\n",
        "    # Save the model\n",
        "    with open(path, 'wb'):  \n",
        "        # pickle.dump(classifier_table1, file)\n",
        "        torch.save(classifier_table1, path)\n",
        "\n",
        "# print(classifier_table1) \n",
        "\n",
        "# Step 5: Evaluate the ART classifier on benign test examples\n",
        "predictions = classifier_table1.predict(x_test)\n",
        "accuracy = np.sum(np.argmax(predictions, axis=1) == np.argmax(y_test, axis=1)) / len(y_test)\n",
        "print(\"Accuracy on benign test examples: {}%\".format(accuracy * 100))"
      ]
    },
    {
      "cell_type": "code",
      "source": [
        "from art.attacks.evasion.sign_opt import SignOPTAttack\n",
        "\n",
        "q = 4000\n",
        "e = 1.5\n",
        "clipping = False\n",
        "l = 20\n",
        "attack = SignOPTAttack(estimator=classifier_table1, \n",
        "                           targeted=False, \n",
        "                           query_limit=q, \n",
        "                           eval_perform=True, verbose=False, \n",
        "                           clipped=clipping)\n",
        "\n",
        "x_test_adv = attack.generate(x=x_test[:l], y=np.zeros(y_test.shape), x_train=x_train)\n",
        "\n",
        "\n",
        "L2 = attack.logs.sum()/l\n",
        "count = 0\n",
        "for l2 in attack.logs:\n",
        "    if l2 <=e and l2 != 0.0:\n",
        "        count += 1\n",
        "SR = ((count)/l)*100\n",
        "\n",
        "print(f'L2={L2}, SR={SR}')\n",
        "\n",
        "predictions = classifier_table1.predict(x_test_adv)\n",
        "accuracy = np.sum(np.argmax(predictions, axis=1) == np.argmax(y_test[:l], axis=1)) / len(y_test[:l])\n",
        "# print(\"Accuracy on adversarial test examples: {}%\".format(accuracy * 100))\n",
        "print(f'{q}, {e}, {round(L2,2)}, {SR}%, {clipping}, {accuracy*100}%')"
      ],
      "metadata": {
        "colab": {
          "base_uri": "https://localhost:8080/",
          "height": 205,
          "referenced_widgets": [
            "f200346ec121428199e0387370890004",
            "8218c37fafb1409ca4e9dd5d11aa3e2f",
            "3c17b4e3644f4e13bf24f38857b616f2",
            "9b8fb10d731c42a794755081b24e07ba",
            "33fc756d44094ebaac0a094e13ba27a7",
            "658e73d8ea0c431eb84ea7d428631b4b",
            "df5d12ea669448799ebac9105599e7a4",
            "066dc2ecdedc440e9271bde3dc4358e3",
            "3481d744121a4845b4cb0cc8feed1a5f",
            "1aec980e3fab4cdc9a6259dc71d86505",
            "e2abba629f724357a1395d74844b74b2"
          ]
        },
        "id": "4ez8dja57FnR",
        "outputId": "86f0b47a-0a95-466b-8bc0-be505a3ec327"
      },
      "execution_count": 58,
      "outputs": [
        {
          "output_type": "display_data",
          "data": {
            "text/plain": [
              "Sign_OPT attack:   0%|          | 0/20 [00:00<?, ?it/s]"
            ],
            "application/vnd.jupyter.widget-view+json": {
              "version_major": 2,
              "version_minor": 0,
              "model_id": "f200346ec121428199e0387370890004"
            }
          },
          "metadata": {}
        },
        {
          "output_type": "stream",
          "name": "stdout",
          "text": [
            "WARNING: prediction on adv 8 == org label 8\n",
            "WARNING: prediction on adv 0 == org label 0\n",
            "WARNING: prediction on adv 5 == org label 5\n",
            "WARNING: prediction on adv 5 == org label 5\n",
            "WARNING: prediction on adv 5 == org label 5\n",
            "WARNING: prediction on adv 9 == org label 9\n",
            "WARNING: prediction on adv 8 == org label 8\n",
            "L2=1.3467694218828001, SR=75.0\n",
            "4000, 1.5, 1.35, 75.0%, False, 50.0%\n"
          ]
        }
      ]
    }
  ],
  "metadata": {
    "colab": {
      "collapsed_sections": [],
      "name": "sign_opt_CIFAR10_test",
      "provenance": [],
      "history_visible": true,
      "mount_file_id": "1Jz4T5FcsHUEBWRklXikk4B6CrpXqVBT8",
      "authorship_tag": "ABX9TyOh/BjE7URNps34ed6Isu0e",
      "include_colab_link": true
    },
    "kernelspec": {
      "display_name": "Python 3",
      "name": "python3"
    },
    "language_info": {
      "name": "python"
    },
    "accelerator": "GPU",
    "widgets": {
      "application/vnd.jupyter.widget-state+json": {
        "f200346ec121428199e0387370890004": {
          "model_module": "@jupyter-widgets/controls",
          "model_name": "HBoxModel",
          "model_module_version": "1.5.0",
          "state": {
            "_dom_classes": [],
            "_model_module": "@jupyter-widgets/controls",
            "_model_module_version": "1.5.0",
            "_model_name": "HBoxModel",
            "_view_count": null,
            "_view_module": "@jupyter-widgets/controls",
            "_view_module_version": "1.5.0",
            "_view_name": "HBoxView",
            "box_style": "",
            "children": [
              "IPY_MODEL_8218c37fafb1409ca4e9dd5d11aa3e2f",
              "IPY_MODEL_3c17b4e3644f4e13bf24f38857b616f2",
              "IPY_MODEL_9b8fb10d731c42a794755081b24e07ba"
            ],
            "layout": "IPY_MODEL_33fc756d44094ebaac0a094e13ba27a7"
          }
        },
        "8218c37fafb1409ca4e9dd5d11aa3e2f": {
          "model_module": "@jupyter-widgets/controls",
          "model_name": "HTMLModel",
          "model_module_version": "1.5.0",
          "state": {
            "_dom_classes": [],
            "_model_module": "@jupyter-widgets/controls",
            "_model_module_version": "1.5.0",
            "_model_name": "HTMLModel",
            "_view_count": null,
            "_view_module": "@jupyter-widgets/controls",
            "_view_module_version": "1.5.0",
            "_view_name": "HTMLView",
            "description": "",
            "description_tooltip": null,
            "layout": "IPY_MODEL_658e73d8ea0c431eb84ea7d428631b4b",
            "placeholder": "​",
            "style": "IPY_MODEL_df5d12ea669448799ebac9105599e7a4",
            "value": "Sign_OPT attack: 100%"
          }
        },
        "3c17b4e3644f4e13bf24f38857b616f2": {
          "model_module": "@jupyter-widgets/controls",
          "model_name": "FloatProgressModel",
          "model_module_version": "1.5.0",
          "state": {
            "_dom_classes": [],
            "_model_module": "@jupyter-widgets/controls",
            "_model_module_version": "1.5.0",
            "_model_name": "FloatProgressModel",
            "_view_count": null,
            "_view_module": "@jupyter-widgets/controls",
            "_view_module_version": "1.5.0",
            "_view_name": "ProgressView",
            "bar_style": "success",
            "description": "",
            "description_tooltip": null,
            "layout": "IPY_MODEL_066dc2ecdedc440e9271bde3dc4358e3",
            "max": 20,
            "min": 0,
            "orientation": "horizontal",
            "style": "IPY_MODEL_3481d744121a4845b4cb0cc8feed1a5f",
            "value": 20
          }
        },
        "9b8fb10d731c42a794755081b24e07ba": {
          "model_module": "@jupyter-widgets/controls",
          "model_name": "HTMLModel",
          "model_module_version": "1.5.0",
          "state": {
            "_dom_classes": [],
            "_model_module": "@jupyter-widgets/controls",
            "_model_module_version": "1.5.0",
            "_model_name": "HTMLModel",
            "_view_count": null,
            "_view_module": "@jupyter-widgets/controls",
            "_view_module_version": "1.5.0",
            "_view_name": "HTMLView",
            "description": "",
            "description_tooltip": null,
            "layout": "IPY_MODEL_1aec980e3fab4cdc9a6259dc71d86505",
            "placeholder": "​",
            "style": "IPY_MODEL_e2abba629f724357a1395d74844b74b2",
            "value": " 20/20 [02:00&lt;00:00,  5.95s/it]"
          }
        },
        "33fc756d44094ebaac0a094e13ba27a7": {
          "model_module": "@jupyter-widgets/base",
          "model_name": "LayoutModel",
          "model_module_version": "1.2.0",
          "state": {
            "_model_module": "@jupyter-widgets/base",
            "_model_module_version": "1.2.0",
            "_model_name": "LayoutModel",
            "_view_count": null,
            "_view_module": "@jupyter-widgets/base",
            "_view_module_version": "1.2.0",
            "_view_name": "LayoutView",
            "align_content": null,
            "align_items": null,
            "align_self": null,
            "border": null,
            "bottom": null,
            "display": null,
            "flex": null,
            "flex_flow": null,
            "grid_area": null,
            "grid_auto_columns": null,
            "grid_auto_flow": null,
            "grid_auto_rows": null,
            "grid_column": null,
            "grid_gap": null,
            "grid_row": null,
            "grid_template_areas": null,
            "grid_template_columns": null,
            "grid_template_rows": null,
            "height": null,
            "justify_content": null,
            "justify_items": null,
            "left": null,
            "margin": null,
            "max_height": null,
            "max_width": null,
            "min_height": null,
            "min_width": null,
            "object_fit": null,
            "object_position": null,
            "order": null,
            "overflow": null,
            "overflow_x": null,
            "overflow_y": null,
            "padding": null,
            "right": null,
            "top": null,
            "visibility": null,
            "width": null
          }
        },
        "658e73d8ea0c431eb84ea7d428631b4b": {
          "model_module": "@jupyter-widgets/base",
          "model_name": "LayoutModel",
          "model_module_version": "1.2.0",
          "state": {
            "_model_module": "@jupyter-widgets/base",
            "_model_module_version": "1.2.0",
            "_model_name": "LayoutModel",
            "_view_count": null,
            "_view_module": "@jupyter-widgets/base",
            "_view_module_version": "1.2.0",
            "_view_name": "LayoutView",
            "align_content": null,
            "align_items": null,
            "align_self": null,
            "border": null,
            "bottom": null,
            "display": null,
            "flex": null,
            "flex_flow": null,
            "grid_area": null,
            "grid_auto_columns": null,
            "grid_auto_flow": null,
            "grid_auto_rows": null,
            "grid_column": null,
            "grid_gap": null,
            "grid_row": null,
            "grid_template_areas": null,
            "grid_template_columns": null,
            "grid_template_rows": null,
            "height": null,
            "justify_content": null,
            "justify_items": null,
            "left": null,
            "margin": null,
            "max_height": null,
            "max_width": null,
            "min_height": null,
            "min_width": null,
            "object_fit": null,
            "object_position": null,
            "order": null,
            "overflow": null,
            "overflow_x": null,
            "overflow_y": null,
            "padding": null,
            "right": null,
            "top": null,
            "visibility": null,
            "width": null
          }
        },
        "df5d12ea669448799ebac9105599e7a4": {
          "model_module": "@jupyter-widgets/controls",
          "model_name": "DescriptionStyleModel",
          "model_module_version": "1.5.0",
          "state": {
            "_model_module": "@jupyter-widgets/controls",
            "_model_module_version": "1.5.0",
            "_model_name": "DescriptionStyleModel",
            "_view_count": null,
            "_view_module": "@jupyter-widgets/base",
            "_view_module_version": "1.2.0",
            "_view_name": "StyleView",
            "description_width": ""
          }
        },
        "066dc2ecdedc440e9271bde3dc4358e3": {
          "model_module": "@jupyter-widgets/base",
          "model_name": "LayoutModel",
          "model_module_version": "1.2.0",
          "state": {
            "_model_module": "@jupyter-widgets/base",
            "_model_module_version": "1.2.0",
            "_model_name": "LayoutModel",
            "_view_count": null,
            "_view_module": "@jupyter-widgets/base",
            "_view_module_version": "1.2.0",
            "_view_name": "LayoutView",
            "align_content": null,
            "align_items": null,
            "align_self": null,
            "border": null,
            "bottom": null,
            "display": null,
            "flex": null,
            "flex_flow": null,
            "grid_area": null,
            "grid_auto_columns": null,
            "grid_auto_flow": null,
            "grid_auto_rows": null,
            "grid_column": null,
            "grid_gap": null,
            "grid_row": null,
            "grid_template_areas": null,
            "grid_template_columns": null,
            "grid_template_rows": null,
            "height": null,
            "justify_content": null,
            "justify_items": null,
            "left": null,
            "margin": null,
            "max_height": null,
            "max_width": null,
            "min_height": null,
            "min_width": null,
            "object_fit": null,
            "object_position": null,
            "order": null,
            "overflow": null,
            "overflow_x": null,
            "overflow_y": null,
            "padding": null,
            "right": null,
            "top": null,
            "visibility": null,
            "width": null
          }
        },
        "3481d744121a4845b4cb0cc8feed1a5f": {
          "model_module": "@jupyter-widgets/controls",
          "model_name": "ProgressStyleModel",
          "model_module_version": "1.5.0",
          "state": {
            "_model_module": "@jupyter-widgets/controls",
            "_model_module_version": "1.5.0",
            "_model_name": "ProgressStyleModel",
            "_view_count": null,
            "_view_module": "@jupyter-widgets/base",
            "_view_module_version": "1.2.0",
            "_view_name": "StyleView",
            "bar_color": null,
            "description_width": ""
          }
        },
        "1aec980e3fab4cdc9a6259dc71d86505": {
          "model_module": "@jupyter-widgets/base",
          "model_name": "LayoutModel",
          "model_module_version": "1.2.0",
          "state": {
            "_model_module": "@jupyter-widgets/base",
            "_model_module_version": "1.2.0",
            "_model_name": "LayoutModel",
            "_view_count": null,
            "_view_module": "@jupyter-widgets/base",
            "_view_module_version": "1.2.0",
            "_view_name": "LayoutView",
            "align_content": null,
            "align_items": null,
            "align_self": null,
            "border": null,
            "bottom": null,
            "display": null,
            "flex": null,
            "flex_flow": null,
            "grid_area": null,
            "grid_auto_columns": null,
            "grid_auto_flow": null,
            "grid_auto_rows": null,
            "grid_column": null,
            "grid_gap": null,
            "grid_row": null,
            "grid_template_areas": null,
            "grid_template_columns": null,
            "grid_template_rows": null,
            "height": null,
            "justify_content": null,
            "justify_items": null,
            "left": null,
            "margin": null,
            "max_height": null,
            "max_width": null,
            "min_height": null,
            "min_width": null,
            "object_fit": null,
            "object_position": null,
            "order": null,
            "overflow": null,
            "overflow_x": null,
            "overflow_y": null,
            "padding": null,
            "right": null,
            "top": null,
            "visibility": null,
            "width": null
          }
        },
        "e2abba629f724357a1395d74844b74b2": {
          "model_module": "@jupyter-widgets/controls",
          "model_name": "DescriptionStyleModel",
          "model_module_version": "1.5.0",
          "state": {
            "_model_module": "@jupyter-widgets/controls",
            "_model_module_version": "1.5.0",
            "_model_name": "DescriptionStyleModel",
            "_view_count": null,
            "_view_module": "@jupyter-widgets/base",
            "_view_module_version": "1.2.0",
            "_view_name": "StyleView",
            "description_width": ""
          }
        }
      }
    }
  },
  "nbformat": 4,
  "nbformat_minor": 0
}