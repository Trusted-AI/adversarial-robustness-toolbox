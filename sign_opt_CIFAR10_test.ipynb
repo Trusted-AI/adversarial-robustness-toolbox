{
  "nbformat": 4,
  "nbformat_minor": 0,
  "metadata": {
    "colab": {
      "name": "sign_opt_CIFAR10_test",
      "provenance": [],
      "collapsed_sections": [],
      "authorship_tag": "ABX9TyOy8tCj/nJTGD6oJe/9Yb0D",
      "include_colab_link": true
    },
    "kernelspec": {
      "name": "python3",
      "display_name": "Python 3"
    },
    "language_info": {
      "name": "python"
    }
  },
  "cells": [
    {
      "cell_type": "markdown",
      "metadata": {
        "id": "view-in-github",
        "colab_type": "text"
      },
      "source": [
        "<a href=\"https://colab.research.google.com/github/synergit/adversarial-robustness-toolbox/blob/development_issue_1331/sign_opt_CIFAR10_test.ipynb\" target=\"_parent\"><img src=\"https://colab.research.google.com/assets/colab-badge.svg\" alt=\"Open In Colab\"/></a>"
      ]
    },
    {
      "cell_type": "markdown",
      "source": [
        "Reference: http://home.mit.bme.hu/~hadhazi/Oktatas/NN18/dem3/html_demo/CIFAR-10Demo.html"
      ],
      "metadata": {
        "id": "prTsZEeiBg__"
      }
    },
    {
      "cell_type": "code",
      "source": [
        "pip install adversarial-robustness-toolbox"
      ],
      "metadata": {
        "colab": {
          "base_uri": "https://localhost:8080/"
        },
        "id": "H29fOnbuHwao",
        "outputId": "ef22730f-e7a1-454c-a763-8a3f32d9b613"
      },
      "execution_count": 49,
      "outputs": [
        {
          "output_type": "stream",
          "name": "stdout",
          "text": [
            "Requirement already satisfied: adversarial-robustness-toolbox in /usr/local/lib/python3.7/dist-packages (1.9.1)\n",
            "Requirement already satisfied: scipy>=1.4.1 in /usr/local/lib/python3.7/dist-packages (from adversarial-robustness-toolbox) (1.4.1)\n",
            "Requirement already satisfied: six in /usr/local/lib/python3.7/dist-packages (from adversarial-robustness-toolbox) (1.15.0)\n",
            "Requirement already satisfied: setuptools in /usr/local/lib/python3.7/dist-packages (from adversarial-robustness-toolbox) (57.4.0)\n",
            "Requirement already satisfied: numba>=0.53.1 in /usr/local/lib/python3.7/dist-packages (from adversarial-robustness-toolbox) (0.55.1)\n",
            "Requirement already satisfied: scikit-learn<1.1.0,>=0.22.2 in /usr/local/lib/python3.7/dist-packages (from adversarial-robustness-toolbox) (1.0.2)\n",
            "Requirement already satisfied: numpy>=1.18.0 in /usr/local/lib/python3.7/dist-packages (from adversarial-robustness-toolbox) (1.21.5)\n",
            "Requirement already satisfied: tqdm in /usr/local/lib/python3.7/dist-packages (from adversarial-robustness-toolbox) (4.63.0)\n",
            "Requirement already satisfied: llvmlite<0.39,>=0.38.0rc1 in /usr/local/lib/python3.7/dist-packages (from numba>=0.53.1->adversarial-robustness-toolbox) (0.38.0)\n",
            "Requirement already satisfied: joblib>=0.11 in /usr/local/lib/python3.7/dist-packages (from scikit-learn<1.1.0,>=0.22.2->adversarial-robustness-toolbox) (1.1.0)\n",
            "Requirement already satisfied: threadpoolctl>=2.0.0 in /usr/local/lib/python3.7/dist-packages (from scikit-learn<1.1.0,>=0.22.2->adversarial-robustness-toolbox) (3.1.0)\n"
          ]
        }
      ]
    },
    {
      "cell_type": "code",
      "source": [
        "# art.utils only loads first 5000 training and 500 test data\n",
        "from art.utils import load_cifar10\n",
        "raw_image = False\n",
        "(x_train, y_train), (x_test, y_test), min_, max_ = load_cifar10(raw=raw_image)#load_dataset(str(\"cifar10\"))\n",
        "# x_train.shape (5000, 32, 32, 3)\n",
        "# y_train.shape (5000, 10)\n",
        "x_train, y_train = x_train[:5000], y_train[:5000]\n",
        "# x_test.shape (500, 32, 32, 3)\n",
        "# y_test.shape (500, 10)\n",
        "x_test, y_test = x_test[:500], y_test[:500]\n",
        "# im_shape (32, 32, 3)\n",
        "im_shape = x_train[0].shape"
      ],
      "metadata": {
        "id": "oYZ4HsBFQicq"
      },
      "execution_count": 50,
      "outputs": []
    },
    {
      "cell_type": "code",
      "source": [
        "import matplotlib.pyplot as plt\n",
        "if raw_image:\n",
        "  cifar_classes = ['airplane', 'automobile', 'bird', 'cat', 'deer', 'dog', 'frog', 'horse', 'ship', 'truck']\n",
        "  print('Example training images and their labels: ' + str([x[0] for x in y_train[0:5]])) \n",
        "  print('Corresponding classes for the labels: ' + str([cifar_classes[x[0]] for x in y_train[0:5]]))\n",
        "\n",
        "  f, axarr = plt.subplots(1, 5)\n",
        "  f.set_size_inches(16, 6)\n",
        "\n",
        "  for i in range(5):\n",
        "      img = x_train[i]\n",
        "      axarr[i].imshow(img)\n",
        "  plt.show()\n",
        "else:\n",
        "  print('change `raw_image` to be True for showing images')"
      ],
      "metadata": {
        "colab": {
          "base_uri": "https://localhost:8080/"
        },
        "id": "wFGzRbcaUKfl",
        "outputId": "ca7113e1-05e5-4bd6-ce88-809027f9d061"
      },
      "execution_count": 51,
      "outputs": [
        {
          "output_type": "stream",
          "name": "stdout",
          "text": [
            "change `raw_image` to be True for showing images\n"
          ]
        }
      ]
    },
    {
      "cell_type": "code",
      "source": [
        "import torch\n",
        "import torch.nn as nn\n",
        "import torch.nn.functional as F\n",
        "import torch.optim as optim\n",
        "\n",
        "# Define the neural network model, return logits instead of activation in forward method\n",
        "###\n",
        "# define the network as https://arxiv.org/pdf/1608.04644.pdf, table 1\n",
        "###\n",
        "class Net_table1_CIFAR10(nn.Module):\n",
        "    def __init__(self):\n",
        "        super(Net_table1_CIFAR10, self).__init__()\n",
        "        self.conv_1 = nn.Conv2d(in_channels=3, out_channels=64, kernel_size=3, stride=1)\n",
        "        self.conv_2 = nn.Conv2d(in_channels=64, out_channels=64, kernel_size=3, stride=1)\n",
        "        self.conv_3 = nn.Conv2d(in_channels=64, out_channels=128, kernel_size=3, stride=1)\n",
        "        self.conv_4 = nn.Conv2d(in_channels=128, out_channels=128, kernel_size=3, stride=1)\n",
        "        # https://discuss.pytorch.org/t/calculation-for-the-input-to-the-fully-connected-layer/82774/11\n",
        "        # x.shape: torch.Size([2, 128, 5, 5]) so, 128*5*5\n",
        "        self.fc_1 = nn.Linear(in_features= 3200, out_features=256) \n",
        "        self.fc_2 = nn.Linear(in_features=256, out_features=10)\n",
        "        \n",
        "    # https://github.com/Carco-git/CW_Attack_on_MNIST/blob/master/MNIST_Model.py\n",
        "    def forward(self, x):\n",
        "        x = F.relu(self.conv_1(x))\n",
        "        x = F.relu(self.conv_2(x))\n",
        "        x = F.max_pool2d(x, 2, 2)\n",
        "        x = F.relu(self.conv_3(x))\n",
        "        x = F.relu(self.conv_4(x))\n",
        "        x = F.max_pool2d(x, 2, 2)\n",
        "        # print(x.shape) # torch.Size([2, 128, 5, 5])\n",
        "        x = x.view(-1, 3200)\n",
        "        \n",
        "        x = F.relu(self.fc_1(x))\n",
        "        x = F.dropout(x, p=0.5)\n",
        "        x = self.fc_2(x)\n",
        "        return x\n",
        "\n",
        "# Create the model\n",
        "\n",
        "model_table1 = Net_table1_CIFAR10()\n",
        "\n",
        "from torchsummary import summary\n",
        "model_scratch = Net_table1_CIFAR10()\n",
        "print(summary(model_scratch,(3, 32, 32)))\n",
        "\"\"\"\n",
        "----------------------------------------------------------------\n",
        "        Layer (type)               Output Shape         Param #\n",
        "================================================================\n",
        "            Conv2d-1           [-1, 64, 30, 30]           1,792\n",
        "            Conv2d-2           [-1, 64, 28, 28]          36,928\n",
        "            Conv2d-3          [-1, 128, 12, 12]          73,856\n",
        "            Conv2d-4          [-1, 128, 10, 10]         147,584\n",
        "            Linear-5                  [-1, 256]       1,638,656\n",
        "            Linear-6                   [-1, 10]           2,570\n",
        "================================================================\n",
        "Total params: 1,901,386\n",
        "Trainable params: 1,901,386\n",
        "Non-trainable params: 0\n",
        "----------------------------------------------------------------\n",
        "Input size (MB): 0.01\n",
        "Forward/backward pass size (MB): 1.06\n",
        "Params size (MB): 7.25\n",
        "Estimated Total Size (MB): 8.33\n",
        "----------------------------------------------------------------\n",
        "None\n",
        "\"\"\""
      ],
      "metadata": {
        "colab": {
          "base_uri": "https://localhost:8080/",
          "height": 539
        },
        "id": "NCiE72pOP12m",
        "outputId": "83ac6cd0-30f5-4601-ca25-7b0ced05c59d"
      },
      "execution_count": 54,
      "outputs": [
        {
          "output_type": "stream",
          "name": "stdout",
          "text": [
            "----------------------------------------------------------------\n",
            "        Layer (type)               Output Shape         Param #\n",
            "================================================================\n",
            "            Conv2d-1           [-1, 64, 30, 30]           1,792\n",
            "            Conv2d-2           [-1, 64, 28, 28]          36,928\n",
            "            Conv2d-3          [-1, 128, 12, 12]          73,856\n",
            "            Conv2d-4          [-1, 128, 10, 10]         147,584\n",
            "            Linear-5                  [-1, 256]         819,456\n",
            "            Linear-6                   [-1, 10]           2,570\n",
            "================================================================\n",
            "Total params: 1,082,186\n",
            "Trainable params: 1,082,186\n",
            "Non-trainable params: 0\n",
            "----------------------------------------------------------------\n",
            "Input size (MB): 0.01\n",
            "Forward/backward pass size (MB): 1.06\n",
            "Params size (MB): 4.13\n",
            "Estimated Total Size (MB): 5.20\n",
            "----------------------------------------------------------------\n",
            "None\n"
          ]
        },
        {
          "output_type": "execute_result",
          "data": {
            "text/plain": [
              "'\\n----------------------------------------------------------------\\n        Layer (type)               Output Shape         Param #\\n================================================================\\n            Conv2d-1           [-1, 64, 30, 30]           1,792\\n            Conv2d-2           [-1, 64, 28, 28]          36,928\\n            Conv2d-3          [-1, 128, 12, 12]          73,856\\n            Conv2d-4          [-1, 128, 10, 10]         147,584\\n            Linear-5                  [-1, 256]       1,638,656\\n            Linear-6                   [-1, 10]           2,570\\n================================================================\\nTotal params: 1,901,386\\nTrainable params: 1,901,386\\nNon-trainable params: 0\\n----------------------------------------------------------------\\nInput size (MB): 0.01\\nForward/backward pass size (MB): 1.06\\nParams size (MB): 7.25\\nEstimated Total Size (MB): 8.33\\n----------------------------------------------------------------\\nNone\\n'"
            ],
            "application/vnd.google.colaboratory.intrinsic+json": {
              "type": "string"
            }
          },
          "metadata": {},
          "execution_count": 54
        }
      ]
    },
    {
      "cell_type": "code",
      "source": [
        "import numpy as np\n",
        "from art.estimators.classification import PyTorchClassifier\n",
        "criterion = nn.CrossEntropyLoss()\n",
        "optimizer_table1 = optim.SGD(model_table1.parameters(), lr=0.01, momentum=0.9)\n",
        "\n",
        "# Create the ART classifier\n",
        "\n",
        "classifier_table1 = PyTorchClassifier(\n",
        "    model=model_table1,\n",
        "    clip_values=(min_, max_),\n",
        "    loss=criterion,\n",
        "    optimizer=optimizer_table1,\n",
        "    input_shape=(3, 32, 32),\n",
        "    nb_classes=10,\n",
        "    device_type = \"gpu\",\n",
        ")\n",
        "\n",
        "# Swap axes to PyTorch's NCHW format\n",
        "\n",
        "# print(x_train.shape)\n",
        "x_train = np.transpose(x_train, (0, 3, 2, 1)).astype(np.float32)\n",
        "# print(f'after {x_train.shape}')\n",
        "x_test = np.transpose(x_test, (0, 3, 2, 1)).astype(np.float32)\n",
        "\n",
        "ML_model_Filename = \"Pytorch_Model_CIFAR10_table1.pth\"\n",
        "\n",
        "# Load the Model back from file\n",
        "# try:\n",
        "#     with open(ML_model_Filename, 'rb') as file:  \n",
        "#         # classifier_table1 = pickle.load(file)\n",
        "#         classifier_table1 = torch.load(file)\n",
        "# except FileNotFoundError:\n",
        "    # print('No existing model, training the model instead')\n",
        "print(x_train.shape)\n",
        "print(y_train.shape)\n",
        "classifier_table1.fit(x_train, y_train, batch_size=128, nb_epochs=50)\n",
        "    # Save the model\n",
        "    # with open(ML_model_Filename, 'wb') as file:  \n",
        "    #     # pickle.dump(classifier_table1, file)\n",
        "    #     torch.save(classifier_table1, file)"
      ],
      "metadata": {
        "colab": {
          "base_uri": "https://localhost:8080/"
        },
        "id": "uKm-VeuuQO4l",
        "outputId": "fc2cebbc-da43-4ea0-94d8-c2f931203fc8"
      },
      "execution_count": null,
      "outputs": [
        {
          "output_type": "stream",
          "name": "stdout",
          "text": [
            "(5000, 3, 32, 32)\n",
            "(5000, 10)\n"
          ]
        }
      ]
    }
  ]
}