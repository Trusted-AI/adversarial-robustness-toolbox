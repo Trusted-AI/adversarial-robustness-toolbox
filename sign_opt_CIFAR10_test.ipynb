{
  "cells": [
    {
      "cell_type": "markdown",
      "metadata": {
        "id": "view-in-github",
        "colab_type": "text"
      },
      "source": [
        "<a href=\"https://colab.research.google.com/github/synergit/adversarial-robustness-toolbox/blob/development_issue_1331/sign_opt_CIFAR10_test.ipynb\" target=\"_parent\"><img src=\"https://colab.research.google.com/assets/colab-badge.svg\" alt=\"Open In Colab\"/></a>"
      ]
    },
    {
      "cell_type": "markdown",
      "metadata": {
        "id": "prTsZEeiBg__"
      },
      "source": [
        "Reference: http://home.mit.bme.hu/~hadhazi/Oktatas/NN18/dem3/html_demo/CIFAR-10Demo.html"
      ]
    },
    {
      "cell_type": "code",
      "source": [
        "# mount google drive https://medium.com/@ml_kid/how-to-save-our-model-to-google-drive-and-reuse-it-2c1028058cb2\n",
        "from google.colab import drive\n",
        "drive.mount('/content/gdrive')"
      ],
      "metadata": {
        "id": "3rMMis9BScKw",
        "colab": {
          "base_uri": "https://localhost:8080/"
        },
        "outputId": "bc6f77a0-6426-406b-a61e-c3932a52d825"
      },
      "execution_count": 2,
      "outputs": [
        {
          "output_type": "stream",
          "name": "stdout",
          "text": [
            "Mounted at /content/gdrive\n"
          ]
        }
      ]
    },
    {
      "cell_type": "code",
      "source": [
        "!ls /content/gdrive"
      ],
      "metadata": {
        "id": "nxNzNjB5TSe8",
        "colab": {
          "base_uri": "https://localhost:8080/"
        },
        "outputId": "17b8e219-2795-41ff-de85-c08dafcd9d0f"
      },
      "execution_count": 3,
      "outputs": [
        {
          "output_type": "stream",
          "name": "stdout",
          "text": [
            "MyDrive\n"
          ]
        }
      ]
    },
    {
      "cell_type": "code",
      "execution_count": 4,
      "metadata": {
        "id": "H29fOnbuHwao",
        "colab": {
          "base_uri": "https://localhost:8080/"
        },
        "outputId": "a713092f-3854-47e5-f824-70beed15695a"
      },
      "outputs": [
        {
          "output_type": "stream",
          "name": "stdout",
          "text": [
            "Collecting git+https://github.com/synergit/adversarial-robustness-toolbox@development_issue_1331\n",
            "  Cloning https://github.com/synergit/adversarial-robustness-toolbox (to revision development_issue_1331) to /tmp/pip-req-build-0u5mz1m4\n",
            "  Running command git clone -q https://github.com/synergit/adversarial-robustness-toolbox /tmp/pip-req-build-0u5mz1m4\n",
            "  Running command git checkout -b development_issue_1331 --track origin/development_issue_1331\n",
            "  Switched to a new branch 'development_issue_1331'\n",
            "  Branch 'development_issue_1331' set up to track remote branch 'development_issue_1331' from 'origin'.\n",
            "  Installing build dependencies ... \u001b[?25l\u001b[?25hdone\n",
            "  Getting requirements to build wheel ... \u001b[?25l\u001b[?25hdone\n",
            "    Preparing wheel metadata ... \u001b[?25l\u001b[?25hdone\n",
            "Requirement already satisfied: tqdm in /usr/local/lib/python3.7/dist-packages (from adversarial-robustness-toolbox==1.9.1) (4.63.0)\n",
            "Requirement already satisfied: scikit-learn<1.1.0,>=0.22.2 in /usr/local/lib/python3.7/dist-packages (from adversarial-robustness-toolbox==1.9.1) (1.0.2)\n",
            "Requirement already satisfied: six in /usr/local/lib/python3.7/dist-packages (from adversarial-robustness-toolbox==1.9.1) (1.15.0)\n",
            "Requirement already satisfied: setuptools in /usr/local/lib/python3.7/dist-packages (from adversarial-robustness-toolbox==1.9.1) (57.4.0)\n",
            "Requirement already satisfied: numpy>=1.18.0 in /usr/local/lib/python3.7/dist-packages (from adversarial-robustness-toolbox==1.9.1) (1.21.5)\n",
            "Collecting numba>=0.53.1\n",
            "  Downloading numba-0.55.1-1-cp37-cp37m-manylinux2014_x86_64.manylinux_2_17_x86_64.whl (3.3 MB)\n",
            "\u001b[K     |████████████████████████████████| 3.3 MB 5.4 MB/s \n",
            "\u001b[?25hRequirement already satisfied: scipy>=1.4.1 in /usr/local/lib/python3.7/dist-packages (from adversarial-robustness-toolbox==1.9.1) (1.4.1)\n",
            "Collecting llvmlite<0.39,>=0.38.0rc1\n",
            "  Downloading llvmlite-0.38.0-cp37-cp37m-manylinux_2_17_x86_64.manylinux2014_x86_64.whl (34.5 MB)\n",
            "\u001b[K     |████████████████████████████████| 34.5 MB 12 kB/s \n",
            "\u001b[?25hRequirement already satisfied: threadpoolctl>=2.0.0 in /usr/local/lib/python3.7/dist-packages (from scikit-learn<1.1.0,>=0.22.2->adversarial-robustness-toolbox==1.9.1) (3.1.0)\n",
            "Requirement already satisfied: joblib>=0.11 in /usr/local/lib/python3.7/dist-packages (from scikit-learn<1.1.0,>=0.22.2->adversarial-robustness-toolbox==1.9.1) (1.1.0)\n",
            "Building wheels for collected packages: adversarial-robustness-toolbox\n",
            "  Building wheel for adversarial-robustness-toolbox (PEP 517) ... \u001b[?25l\u001b[?25hdone\n",
            "  Created wheel for adversarial-robustness-toolbox: filename=adversarial_robustness_toolbox-1.9.1-py3-none-any.whl size=1172190 sha256=b2da1323eb93783c28e7065a21ddd870bd00852f4c79f33fe3b7dbbde01e03cf\n",
            "  Stored in directory: /tmp/pip-ephem-wheel-cache-1ur72swu/wheels/19/2f/c6/97df45b9b51050edfc179f2b45b56fe37ba2c3a9dd0497d727\n",
            "Successfully built adversarial-robustness-toolbox\n",
            "Installing collected packages: llvmlite, numba, adversarial-robustness-toolbox\n",
            "  Attempting uninstall: llvmlite\n",
            "    Found existing installation: llvmlite 0.34.0\n",
            "    Uninstalling llvmlite-0.34.0:\n",
            "      Successfully uninstalled llvmlite-0.34.0\n",
            "  Attempting uninstall: numba\n",
            "    Found existing installation: numba 0.51.2\n",
            "    Uninstalling numba-0.51.2:\n",
            "      Successfully uninstalled numba-0.51.2\n",
            "Successfully installed adversarial-robustness-toolbox-1.9.1 llvmlite-0.38.0 numba-0.55.1\n",
            "Requirement already satisfied: adversarial-robustness-toolbox in /usr/local/lib/python3.7/dist-packages (1.9.1)\n",
            "Requirement already satisfied: numpy>=1.18.0 in /usr/local/lib/python3.7/dist-packages (from adversarial-robustness-toolbox) (1.21.5)\n",
            "Requirement already satisfied: numba>=0.53.1 in /usr/local/lib/python3.7/dist-packages (from adversarial-robustness-toolbox) (0.55.1)\n",
            "Requirement already satisfied: scipy>=1.4.1 in /usr/local/lib/python3.7/dist-packages (from adversarial-robustness-toolbox) (1.4.1)\n",
            "Requirement already satisfied: tqdm in /usr/local/lib/python3.7/dist-packages (from adversarial-robustness-toolbox) (4.63.0)\n",
            "Requirement already satisfied: six in /usr/local/lib/python3.7/dist-packages (from adversarial-robustness-toolbox) (1.15.0)\n",
            "Requirement already satisfied: setuptools in /usr/local/lib/python3.7/dist-packages (from adversarial-robustness-toolbox) (57.4.0)\n",
            "Requirement already satisfied: scikit-learn<1.1.0,>=0.22.2 in /usr/local/lib/python3.7/dist-packages (from adversarial-robustness-toolbox) (1.0.2)\n",
            "Requirement already satisfied: llvmlite<0.39,>=0.38.0rc1 in /usr/local/lib/python3.7/dist-packages (from numba>=0.53.1->adversarial-robustness-toolbox) (0.38.0)\n",
            "Requirement already satisfied: joblib>=0.11 in /usr/local/lib/python3.7/dist-packages (from scikit-learn<1.1.0,>=0.22.2->adversarial-robustness-toolbox) (1.1.0)\n",
            "Requirement already satisfied: threadpoolctl>=2.0.0 in /usr/local/lib/python3.7/dist-packages (from scikit-learn<1.1.0,>=0.22.2->adversarial-robustness-toolbox) (3.1.0)\n"
          ]
        }
      ],
      "source": [
        "!pip install git+https://github.com/synergit/adversarial-robustness-toolbox@development_issue_1331\n",
        "!pip install adversarial-robustness-toolbox"
      ]
    },
    {
      "cell_type": "code",
      "execution_count": 5,
      "metadata": {
        "id": "oYZ4HsBFQicq"
      },
      "outputs": [],
      "source": [
        "# art.utils only loads first 5000 training and 500 test data\n",
        "from art.utils import load_cifar10\n",
        "import matplotlib.pyplot as plt\n",
        "\n",
        "def load_data(raw_image, length):\n",
        "  (x_train, y_train), (x_test, y_test), min_, max_ = load_cifar10(raw=raw_image)#load_dataset(str(\"cifar10\"))\n",
        "  # x_train.shape (5000, 32, 32, 3)\n",
        "  # y_train.shape (5000, 10)\n",
        "  x_train, y_train = x_train[:length], y_train[:length]\n",
        "  # x_test.shape (500, 32, 32, 3)\n",
        "  # y_test.shape (500, 10)\n",
        "  x_test, y_test = x_test[:int(length/10)], y_test[:int(length/10)]\n",
        "  print(x_train[0].shape)\n",
        "  \n",
        "  imshow_CIFAR10(raw_image, x_train, y_train, 5)\n",
        "  \n",
        "  return (x_train, y_train), (x_test, y_test), min_, max_\n",
        "\n",
        "\n",
        "def imshow_CIFAR10(raw_image, x_train, y_train, length):\n",
        "  if raw_image:\n",
        "    cifar_classes = ['airplane', 'automobile', 'bird', 'cat', 'deer', 'dog', 'frog', 'horse', 'ship', 'truck']\n",
        "    print('Example training images and their labels: ' + str([x[0] for x in y_train[0:length]])) \n",
        "    print('Corresponding classes for the labels: ' + str([cifar_classes[x[0]] for x in y_train[0:length]]))\n",
        "\n",
        "    f, axarr = plt.subplots(1, length)\n",
        "    f.set_size_inches(16, 6)\n",
        "\n",
        "    for i in range(5):\n",
        "        img = x_train[i]\n",
        "        axarr[i].imshow(img)\n",
        "    plt.show()\n",
        "  else:\n",
        "    print('change `raw_image` to be True for showing images')"
      ]
    },
    {
      "cell_type": "code",
      "execution_count": 6,
      "metadata": {
        "id": "NCiE72pOP12m"
      },
      "outputs": [],
      "source": [
        "import torch\n",
        "import torch.nn as nn\n",
        "import torch.nn.functional as F\n",
        "import torch.optim as optim\n",
        "from torchsummary import summary\n",
        "\n",
        "# Define the neural network model, return logits instead of activation in forward method\n",
        "###\n",
        "# define the network as https://arxiv.org/pdf/1608.04644.pdf, table 1\n",
        "###\n",
        "class Net_table1_CIFAR10(nn.Module):\n",
        "    def __init__(self):\n",
        "        super(Net_table1_CIFAR10, self).__init__()\n",
        "        self.conv_1 = nn.Conv2d(in_channels=3, out_channels=64, kernel_size=3, stride=1)\n",
        "        self.conv_2 = nn.Conv2d(in_channels=64, out_channels=64, kernel_size=3, stride=1)\n",
        "        self.conv_3 = nn.Conv2d(in_channels=64, out_channels=128, kernel_size=3, stride=1)\n",
        "        self.conv_4 = nn.Conv2d(in_channels=128, out_channels=128, kernel_size=3, stride=1)\n",
        "        # https://discuss.pytorch.org/t/calculation-for-the-input-to-the-fully-connected-layer/82774/11\n",
        "        # x.shape: torch.Size([2, 128, 5, 5]) so, 128*5*5\n",
        "        self.fc_1 = nn.Linear(in_features= 3200, out_features=256) \n",
        "        self.fc_2 = nn.Linear(in_features=256, out_features=10)\n",
        "        \n",
        "    # https://github.com/Carco-git/CW_Attack_on_MNIST/blob/master/MNIST_Model.py\n",
        "    def forward(self, x):\n",
        "        x = F.relu(self.conv_1(x))\n",
        "        x = F.relu(self.conv_2(x))\n",
        "        x = F.max_pool2d(x, 2, 2)\n",
        "        x = F.relu(self.conv_3(x))\n",
        "        x = F.relu(self.conv_4(x))\n",
        "        x = F.max_pool2d(x, 2, 2)\n",
        "        # print(x.shape) # torch.Size([2, 128, 5, 5])\n",
        "        x = x.view(-1, 3200)\n",
        "        \n",
        "        x = F.relu(self.fc_1(x))\n",
        "        x = F.dropout(x, p=0.5)\n",
        "        x = self.fc_2(x)\n",
        "        return x\n",
        "\n"
      ]
    },
    {
      "cell_type": "code",
      "source": [
        "# load the data\n",
        "\n",
        "raw_image = False\n",
        "(x_train, y_train), (x_test, y_test), min_, max_ = load_data(raw_image, 5000)\n",
        "# Create the model\n",
        "\n",
        "model_table1 = Net_table1_CIFAR10()\n",
        "\n",
        "# model_scratch = Net_table1_CIFAR10()\n",
        "# print(summary(model_scratch,(3, 32, 32)))\n"
      ],
      "metadata": {
        "id": "5DkYgW8c-lD0",
        "colab": {
          "base_uri": "https://localhost:8080/"
        },
        "outputId": "71295fd9-3309-40c1-eb0f-86d359812684"
      },
      "execution_count": 7,
      "outputs": [
        {
          "output_type": "stream",
          "name": "stdout",
          "text": [
            "(32, 32, 3)\n",
            "change `raw_image` to be True for showing images\n"
          ]
        }
      ]
    },
    {
      "cell_type": "code",
      "source": [
        "import tensorflow as tf\n",
        "tf.test.gpu_device_name()"
      ],
      "metadata": {
        "id": "Ci0O2Tb8LUEE",
        "colab": {
          "base_uri": "https://localhost:8080/",
          "height": 35
        },
        "outputId": "2de804f0-1ac6-47f9-cf5c-e19cd6cad621"
      },
      "execution_count": 8,
      "outputs": [
        {
          "output_type": "execute_result",
          "data": {
            "text/plain": [
              "'/device:GPU:0'"
            ],
            "application/vnd.google.colaboratory.intrinsic+json": {
              "type": "string"
            }
          },
          "metadata": {},
          "execution_count": 8
        }
      ]
    },
    {
      "cell_type": "code",
      "execution_count": 9,
      "metadata": {
        "id": "uKm-VeuuQO4l",
        "colab": {
          "base_uri": "https://localhost:8080/"
        },
        "outputId": "26aea517-cbf4-4b16-907c-bf3e34e890b5"
      },
      "outputs": [
        {
          "output_type": "stream",
          "name": "stdout",
          "text": [
            "Found existing model, training the model instead\n",
            "No existing model, training the model instead\n",
            "Accuracy on benign test examples: 46.6%\n"
          ]
        }
      ],
      "source": [
        "import numpy as np\n",
        "from art.estimators.classification import PyTorchClassifier\n",
        "criterion = nn.CrossEntropyLoss()\n",
        "optimizer_table1 = optim.SGD(model_table1.parameters(), lr=0.01, momentum=0.9)\n",
        "\n",
        "# Create the ART classifier\n",
        "\n",
        "classifier_table1 = PyTorchClassifier(\n",
        "    model=model_table1,\n",
        "    clip_values=(min_, max_),\n",
        "    loss=criterion,\n",
        "    optimizer=optimizer_table1,\n",
        "    input_shape=(3, 32, 32),\n",
        "    nb_classes=10,\n",
        "    device_type = \"gpu\",\n",
        ")\n",
        "\n",
        "# Swap axes to PyTorch's NCHW format\n",
        "x_train = np.transpose(x_train, (0, 3, 2, 1)).astype(np.float32)\n",
        "x_test = np.transpose(x_test, (0, 3, 2, 1)).astype(np.float32)\n",
        "\n",
        "ML_model_Filename = \"Pytorch_Model_CIFAR10_table1-0-1.pth\"\n",
        "path = F\"/content/gdrive/MyDrive/{ML_model_Filename}\"\n",
        "\n",
        "try:\n",
        "    with open(path, 'rb') as file:  \n",
        "        print('Found existing model, loading the model')\n",
        "        classifier_table1 = torch.load(file)\n",
        "except FileNotFoundError:\n",
        "    print('No existing model, training the model instead')\n",
        "    classifier_table1.fit(x_train, y_train, batch_size=128, nb_epochs=50)\n",
        "    # Save the model\n",
        "    with open(path, 'wb'):  \n",
        "        # pickle.dump(classifier_table1, file)\n",
        "        torch.save(classifier_table1, path)\n",
        "\n",
        "# print(classifier_table1) \n",
        "\n",
        "# Step 5: Evaluate the ART classifier on benign test examples\n",
        "predictions = classifier_table1.predict(x_test)\n",
        "accuracy = np.sum(np.argmax(predictions, axis=1) == np.argmax(y_test, axis=1)) / len(y_test)\n",
        "print(\"Accuracy on benign test examples: {}%\".format(accuracy * 100))"
      ]
    },
    {
      "cell_type": "code",
      "source": [
        "from art.attacks.evasion.sign_opt import SignOPTAttack\n",
        "\n",
        "q = 4000\n",
        "e = 0.5\n",
        "clipping = False\n",
        "l = 100\n",
        "attack = SignOPTAttack(estimator=classifier_table1, \n",
        "                           targeted=False, \n",
        "                           query_limit=q, \n",
        "                           eval_perform=True, verbose=False, \n",
        "                           clipped=clipping)\n",
        "\n",
        "x_test_adv = attack.generate(x=x_test[:l], y=np.zeros(y_test.shape), x_train=x_train)\n",
        "\n",
        "\n",
        "L2 = attack.logs.sum()/l\n",
        "count = 0\n",
        "for l2 in attack.logs:\n",
        "    if l2 <=e and l2 != 0.0:\n",
        "        count += 1\n",
        "SR = ((count)/l)*100\n",
        "\n",
        "print(attack.logs)\n",
        "print(f'L2={L2}, SR={SR}')\n",
        "\n",
        "predictions = classifier_table1.predict(x_test_adv)\n",
        "accuracy = np.sum(np.argmax(predictions, axis=1) == np.argmax(y_test[:l], axis=1)) / len(y_test[:l])\n",
        "# print(\"Accuracy on adversarial test examples: {}%\".format(accuracy * 100))\n",
        "print(f'{q}, {e}, {round(L2,2)}, {SR}%, {clipping}, {accuracy*100}%')"
      ],
      "metadata": {
        "id": "4ez8dja57FnR",
        "colab": {
          "base_uri": "https://localhost:8080/",
          "height": 1000,
          "referenced_widgets": [
            "268e7098a25044e2a8bc533e40a9f799",
            "032e57cf3e02479888d4d575ac519d60",
            "20267d292c304f7194695ad3266cd698",
            "2657444b6ea44ae593f7818eca211d8c",
            "262f8c99599643f883cc173df3db2425",
            "acc1d9e9d643485f8d243070f258eb9b",
            "5bbc6334c0914fc7b172b2600e6eac9f",
            "6ea0111086a24bee96fa1cdddde471bf",
            "00dc687a50f74f9eb04ab9e9fcf07331",
            "d3267e59eb85451dad23041984fd89de",
            "ab0a0e25d9fd4f68ac516c1aed63137e"
          ]
        },
        "outputId": "7df7e6a3-e854-496f-aaa9-5b87dc1801fa"
      },
      "execution_count": 10,
      "outputs": [
        {
          "output_type": "display_data",
          "data": {
            "text/plain": [
              "Sign_OPT attack:   0%|          | 0/100 [00:00<?, ?it/s]"
            ],
            "application/vnd.jupyter.widget-view+json": {
              "version_major": 2,
              "version_minor": 0,
              "model_id": "268e7098a25044e2a8bc533e40a9f799"
            }
          },
          "metadata": {}
        },
        {
          "output_type": "stream",
          "name": "stdout",
          "text": [
            "WARNING: prediction on adv 1 == org label 1\n",
            "WARNING: prediction on adv 6 == org label 6\n",
            "WARNING: prediction on adv 6 == org label 6\n",
            "WARNING: prediction on adv 4 == org label 4\n",
            "WARNING: prediction on adv 5 == org label 5\n",
            "WARNING: prediction on adv 1 == org label 1\n",
            "WARNING: prediction on adv 7 == org label 7\n",
            "WARNING: prediction on adv 8 == org label 8\n",
            "WARNING: prediction on adv 0 == org label 0\n",
            "WARNING: prediction on adv 2 == org label 2\n",
            "WARNING: prediction on adv 4 == org label 4\n",
            "WARNING: prediction on adv 4 == org label 4\n",
            "WARNING: prediction on adv 1 == org label 1\n",
            "WARNING: prediction on adv 5 == org label 5\n",
            "WARNING: prediction on adv 2 == org label 2\n",
            "WARNING: prediction on adv 3 == org label 3\n",
            "WARNING: prediction on adv 9 == org label 9\n",
            "WARNING: prediction on adv 8 == org label 8\n",
            "WARNING: prediction on adv 5 == org label 5\n",
            "WARNING: prediction on adv 9 == org label 9\n",
            "WARNING: prediction on adv 5 == org label 5\n",
            "WARNING: prediction on adv 4 == org label 4\n",
            "WARNING: prediction on adv 6 == org label 6\n",
            "WARNING: prediction on adv 0 == org label 0\n",
            "WARNING: prediction on adv 9 == org label 9\n",
            "WARNING: prediction on adv 4 == org label 4\n",
            "WARNING: prediction on adv 8 == org label 8\n",
            "WARNING: prediction on adv 8 == org label 8\n",
            "WARNING: prediction on adv 3 == org label 3\n",
            "WARNING: prediction on adv 8 == org label 8\n",
            "WARNING: prediction on adv 8 == org label 8\n",
            "WARNING: prediction on adv 7 == org label 7\n",
            "WARNING: prediction on adv 4 == org label 4\n",
            "WARNING: prediction on adv 6 == org label 6\n",
            "WARNING: prediction on adv 2 == org label 2\n",
            "WARNING: prediction on adv 8 == org label 8\n",
            "WARNING: prediction on adv 2 == org label 2\n",
            "WARNING: prediction on adv 3 == org label 3\n",
            "WARNING: prediction on adv 0 == org label 0\n",
            "WARNING: prediction on adv 1 == org label 1\n",
            "WARNING: prediction on adv 1 == org label 1\n",
            "WARNING: prediction on adv 2 == org label 2\n",
            "WARNING: prediction on adv 7 == org label 7\n",
            "WARNING: prediction on adv 7 == org label 7\n",
            "WARNING: prediction on adv 1 == org label 1\n",
            "WARNING: prediction on adv 6 == org label 6\n",
            "WARNING: prediction on adv 4 == org label 4\n",
            "WARNING: prediction on adv 6 == org label 6\n",
            "WARNING: prediction on adv 0 == org label 0\n",
            "WARNING: prediction on adv 7 == org label 7\n",
            "WARNING: prediction on adv 7 == org label 7\n",
            "[3.63077476e-07 2.15862608e+00 3.06862053e-02 3.07669659e-04\n",
            " 4.65105171e-04 8.06327735e-04 3.49948932e-05 2.14755490e-01\n",
            " 5.86248934e-04 5.55742493e+01 6.07027439e-04 4.23942111e-04\n",
            " 2.43718745e-07 8.58769894e+00 7.01756915e-04 6.17819722e-04\n",
            " 8.10911588e-05 1.00471554e-02 2.87128240e-03 1.85938203e-04\n",
            " 5.64768463e-02 5.02442941e-04 4.20015058e-05 1.74325527e-04\n",
            " 5.15746418e-04 1.81431649e-03 1.12290843e-03 6.53796131e-04\n",
            " 7.65279353e-01 8.35118466e-04 2.31516409e+00 9.86502945e-01\n",
            " 1.96350084e-05 3.66420863e-04 5.95684385e+00 2.08417514e-05\n",
            " 1.57229113e-06 3.26711535e-02 1.32883763e+00 7.96598382e-04\n",
            " 2.36933905e-04 5.99858910e-02 6.26952853e-04 9.43135929e+00\n",
            " 7.74046135e+00 5.65805880e-04 1.48576847e-03 7.27244013e-04\n",
            " 6.52411652e+00 5.51405014e-04 1.78790942e-04 3.96190071e+00\n",
            " 1.21284947e-05 8.20665248e-03 5.54088154e-04 1.08999882e+01\n",
            " 3.85277438e+00 1.59264764e-05 3.54639354e-07 1.97978485e-02\n",
            " 3.28643751e+00 1.10633992e-01 5.27602213e-04 3.55655036e-04\n",
            " 2.11545610e+00 1.03055594e-04 1.36721840e+01 2.04575713e-07\n",
            " 5.20995236e-04 3.68275723e-05 3.67317465e-03 1.79044804e-07\n",
            " 3.20675755e+00 5.94133569e-04 4.83153446e-04 4.23518753e+00\n",
            " 3.31844727e-04 6.68283668e-04 2.48465267e-06 4.09285363e-04\n",
            " 1.99574824e-05 5.32085342e+01 3.50054283e+01 1.75843059e-04\n",
            " 3.60168004e+00 7.00765944e+00 2.39984060e-04 3.32992291e-04\n",
            " 2.81975110e-04 5.13747451e-04 1.95269833e+01 6.98664051e-04\n",
            " 1.02554441e-04 4.54637766e+00 2.99220777e+00 6.66666937e+00\n",
            " 1.22880621e+01 3.07971001e+00 1.23440752e+01 1.39119336e-04]\n",
            "L2=3.0744019653863206, SR=70.0\n",
            "4000, 0.5, 3.07, 70.0%, False, 51.0%\n"
          ]
        }
      ]
    }
  ],
  "metadata": {
    "colab": {
      "collapsed_sections": [],
      "name": "sign_opt_CIFAR10_test",
      "provenance": [],
      "history_visible": true,
      "mount_file_id": "1Jz4T5FcsHUEBWRklXikk4B6CrpXqVBT8",
      "authorship_tag": "ABX9TyOvsXK90I/tVoFk6iKtABkV",
      "include_colab_link": true
    },
    "kernelspec": {
      "display_name": "Python 3",
      "name": "python3"
    },
    "language_info": {
      "name": "python"
    },
    "accelerator": "GPU",
    "widgets": {
      "application/vnd.jupyter.widget-state+json": {
        "268e7098a25044e2a8bc533e40a9f799": {
          "model_module": "@jupyter-widgets/controls",
          "model_name": "HBoxModel",
          "model_module_version": "1.5.0",
          "state": {
            "_dom_classes": [],
            "_model_module": "@jupyter-widgets/controls",
            "_model_module_version": "1.5.0",
            "_model_name": "HBoxModel",
            "_view_count": null,
            "_view_module": "@jupyter-widgets/controls",
            "_view_module_version": "1.5.0",
            "_view_name": "HBoxView",
            "box_style": "",
            "children": [
              "IPY_MODEL_032e57cf3e02479888d4d575ac519d60",
              "IPY_MODEL_20267d292c304f7194695ad3266cd698",
              "IPY_MODEL_2657444b6ea44ae593f7818eca211d8c"
            ],
            "layout": "IPY_MODEL_262f8c99599643f883cc173df3db2425"
          }
        },
        "032e57cf3e02479888d4d575ac519d60": {
          "model_module": "@jupyter-widgets/controls",
          "model_name": "HTMLModel",
          "model_module_version": "1.5.0",
          "state": {
            "_dom_classes": [],
            "_model_module": "@jupyter-widgets/controls",
            "_model_module_version": "1.5.0",
            "_model_name": "HTMLModel",
            "_view_count": null,
            "_view_module": "@jupyter-widgets/controls",
            "_view_module_version": "1.5.0",
            "_view_name": "HTMLView",
            "description": "",
            "description_tooltip": null,
            "layout": "IPY_MODEL_acc1d9e9d643485f8d243070f258eb9b",
            "placeholder": "​",
            "style": "IPY_MODEL_5bbc6334c0914fc7b172b2600e6eac9f",
            "value": "Sign_OPT attack: 100%"
          }
        },
        "20267d292c304f7194695ad3266cd698": {
          "model_module": "@jupyter-widgets/controls",
          "model_name": "FloatProgressModel",
          "model_module_version": "1.5.0",
          "state": {
            "_dom_classes": [],
            "_model_module": "@jupyter-widgets/controls",
            "_model_module_version": "1.5.0",
            "_model_name": "FloatProgressModel",
            "_view_count": null,
            "_view_module": "@jupyter-widgets/controls",
            "_view_module_version": "1.5.0",
            "_view_name": "ProgressView",
            "bar_style": "success",
            "description": "",
            "description_tooltip": null,
            "layout": "IPY_MODEL_6ea0111086a24bee96fa1cdddde471bf",
            "max": 100,
            "min": 0,
            "orientation": "horizontal",
            "style": "IPY_MODEL_00dc687a50f74f9eb04ab9e9fcf07331",
            "value": 100
          }
        },
        "2657444b6ea44ae593f7818eca211d8c": {
          "model_module": "@jupyter-widgets/controls",
          "model_name": "HTMLModel",
          "model_module_version": "1.5.0",
          "state": {
            "_dom_classes": [],
            "_model_module": "@jupyter-widgets/controls",
            "_model_module_version": "1.5.0",
            "_model_name": "HTMLModel",
            "_view_count": null,
            "_view_module": "@jupyter-widgets/controls",
            "_view_module_version": "1.5.0",
            "_view_name": "HTMLView",
            "description": "",
            "description_tooltip": null,
            "layout": "IPY_MODEL_d3267e59eb85451dad23041984fd89de",
            "placeholder": "​",
            "style": "IPY_MODEL_ab0a0e25d9fd4f68ac516c1aed63137e",
            "value": " 100/100 [14:56&lt;00:00,  9.04s/it]"
          }
        },
        "262f8c99599643f883cc173df3db2425": {
          "model_module": "@jupyter-widgets/base",
          "model_name": "LayoutModel",
          "model_module_version": "1.2.0",
          "state": {
            "_model_module": "@jupyter-widgets/base",
            "_model_module_version": "1.2.0",
            "_model_name": "LayoutModel",
            "_view_count": null,
            "_view_module": "@jupyter-widgets/base",
            "_view_module_version": "1.2.0",
            "_view_name": "LayoutView",
            "align_content": null,
            "align_items": null,
            "align_self": null,
            "border": null,
            "bottom": null,
            "display": null,
            "flex": null,
            "flex_flow": null,
            "grid_area": null,
            "grid_auto_columns": null,
            "grid_auto_flow": null,
            "grid_auto_rows": null,
            "grid_column": null,
            "grid_gap": null,
            "grid_row": null,
            "grid_template_areas": null,
            "grid_template_columns": null,
            "grid_template_rows": null,
            "height": null,
            "justify_content": null,
            "justify_items": null,
            "left": null,
            "margin": null,
            "max_height": null,
            "max_width": null,
            "min_height": null,
            "min_width": null,
            "object_fit": null,
            "object_position": null,
            "order": null,
            "overflow": null,
            "overflow_x": null,
            "overflow_y": null,
            "padding": null,
            "right": null,
            "top": null,
            "visibility": null,
            "width": null
          }
        },
        "acc1d9e9d643485f8d243070f258eb9b": {
          "model_module": "@jupyter-widgets/base",
          "model_name": "LayoutModel",
          "model_module_version": "1.2.0",
          "state": {
            "_model_module": "@jupyter-widgets/base",
            "_model_module_version": "1.2.0",
            "_model_name": "LayoutModel",
            "_view_count": null,
            "_view_module": "@jupyter-widgets/base",
            "_view_module_version": "1.2.0",
            "_view_name": "LayoutView",
            "align_content": null,
            "align_items": null,
            "align_self": null,
            "border": null,
            "bottom": null,
            "display": null,
            "flex": null,
            "flex_flow": null,
            "grid_area": null,
            "grid_auto_columns": null,
            "grid_auto_flow": null,
            "grid_auto_rows": null,
            "grid_column": null,
            "grid_gap": null,
            "grid_row": null,
            "grid_template_areas": null,
            "grid_template_columns": null,
            "grid_template_rows": null,
            "height": null,
            "justify_content": null,
            "justify_items": null,
            "left": null,
            "margin": null,
            "max_height": null,
            "max_width": null,
            "min_height": null,
            "min_width": null,
            "object_fit": null,
            "object_position": null,
            "order": null,
            "overflow": null,
            "overflow_x": null,
            "overflow_y": null,
            "padding": null,
            "right": null,
            "top": null,
            "visibility": null,
            "width": null
          }
        },
        "5bbc6334c0914fc7b172b2600e6eac9f": {
          "model_module": "@jupyter-widgets/controls",
          "model_name": "DescriptionStyleModel",
          "model_module_version": "1.5.0",
          "state": {
            "_model_module": "@jupyter-widgets/controls",
            "_model_module_version": "1.5.0",
            "_model_name": "DescriptionStyleModel",
            "_view_count": null,
            "_view_module": "@jupyter-widgets/base",
            "_view_module_version": "1.2.0",
            "_view_name": "StyleView",
            "description_width": ""
          }
        },
        "6ea0111086a24bee96fa1cdddde471bf": {
          "model_module": "@jupyter-widgets/base",
          "model_name": "LayoutModel",
          "model_module_version": "1.2.0",
          "state": {
            "_model_module": "@jupyter-widgets/base",
            "_model_module_version": "1.2.0",
            "_model_name": "LayoutModel",
            "_view_count": null,
            "_view_module": "@jupyter-widgets/base",
            "_view_module_version": "1.2.0",
            "_view_name": "LayoutView",
            "align_content": null,
            "align_items": null,
            "align_self": null,
            "border": null,
            "bottom": null,
            "display": null,
            "flex": null,
            "flex_flow": null,
            "grid_area": null,
            "grid_auto_columns": null,
            "grid_auto_flow": null,
            "grid_auto_rows": null,
            "grid_column": null,
            "grid_gap": null,
            "grid_row": null,
            "grid_template_areas": null,
            "grid_template_columns": null,
            "grid_template_rows": null,
            "height": null,
            "justify_content": null,
            "justify_items": null,
            "left": null,
            "margin": null,
            "max_height": null,
            "max_width": null,
            "min_height": null,
            "min_width": null,
            "object_fit": null,
            "object_position": null,
            "order": null,
            "overflow": null,
            "overflow_x": null,
            "overflow_y": null,
            "padding": null,
            "right": null,
            "top": null,
            "visibility": null,
            "width": null
          }
        },
        "00dc687a50f74f9eb04ab9e9fcf07331": {
          "model_module": "@jupyter-widgets/controls",
          "model_name": "ProgressStyleModel",
          "model_module_version": "1.5.0",
          "state": {
            "_model_module": "@jupyter-widgets/controls",
            "_model_module_version": "1.5.0",
            "_model_name": "ProgressStyleModel",
            "_view_count": null,
            "_view_module": "@jupyter-widgets/base",
            "_view_module_version": "1.2.0",
            "_view_name": "StyleView",
            "bar_color": null,
            "description_width": ""
          }
        },
        "d3267e59eb85451dad23041984fd89de": {
          "model_module": "@jupyter-widgets/base",
          "model_name": "LayoutModel",
          "model_module_version": "1.2.0",
          "state": {
            "_model_module": "@jupyter-widgets/base",
            "_model_module_version": "1.2.0",
            "_model_name": "LayoutModel",
            "_view_count": null,
            "_view_module": "@jupyter-widgets/base",
            "_view_module_version": "1.2.0",
            "_view_name": "LayoutView",
            "align_content": null,
            "align_items": null,
            "align_self": null,
            "border": null,
            "bottom": null,
            "display": null,
            "flex": null,
            "flex_flow": null,
            "grid_area": null,
            "grid_auto_columns": null,
            "grid_auto_flow": null,
            "grid_auto_rows": null,
            "grid_column": null,
            "grid_gap": null,
            "grid_row": null,
            "grid_template_areas": null,
            "grid_template_columns": null,
            "grid_template_rows": null,
            "height": null,
            "justify_content": null,
            "justify_items": null,
            "left": null,
            "margin": null,
            "max_height": null,
            "max_width": null,
            "min_height": null,
            "min_width": null,
            "object_fit": null,
            "object_position": null,
            "order": null,
            "overflow": null,
            "overflow_x": null,
            "overflow_y": null,
            "padding": null,
            "right": null,
            "top": null,
            "visibility": null,
            "width": null
          }
        },
        "ab0a0e25d9fd4f68ac516c1aed63137e": {
          "model_module": "@jupyter-widgets/controls",
          "model_name": "DescriptionStyleModel",
          "model_module_version": "1.5.0",
          "state": {
            "_model_module": "@jupyter-widgets/controls",
            "_model_module_version": "1.5.0",
            "_model_name": "DescriptionStyleModel",
            "_view_count": null,
            "_view_module": "@jupyter-widgets/base",
            "_view_module_version": "1.2.0",
            "_view_name": "StyleView",
            "description_width": ""
          }
        }
      }
    }
  },
  "nbformat": 4,
  "nbformat_minor": 0
}