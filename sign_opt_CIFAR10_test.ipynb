{
  "cells": [
    {
      "cell_type": "markdown",
      "metadata": {
        "id": "view-in-github",
        "colab_type": "text"
      },
      "source": [
        "<a href=\"https://colab.research.google.com/github/synergit/adversarial-robustness-toolbox/blob/development_issue_1331/sign_opt_CIFAR10_test.ipynb\" target=\"_parent\"><img src=\"https://colab.research.google.com/assets/colab-badge.svg\" alt=\"Open In Colab\"/></a>"
      ]
    },
    {
      "cell_type": "markdown",
      "metadata": {
        "id": "prTsZEeiBg__"
      },
      "source": [
        "Reference: http://home.mit.bme.hu/~hadhazi/Oktatas/NN18/dem3/html_demo/CIFAR-10Demo.html"
      ]
    },
    {
      "cell_type": "code",
      "source": [
        "# mount google drive https://medium.com/@ml_kid/how-to-save-our-model-to-google-drive-and-reuse-it-2c1028058cb2\n",
        "from google.colab import drive\n",
        "drive.mount('/content/gdrive')"
      ],
      "metadata": {
        "id": "3rMMis9BScKw",
        "colab": {
          "base_uri": "https://localhost:8080/"
        },
        "outputId": "682c8379-08c8-426c-ea48-e5c40b9de76f"
      },
      "execution_count": 1,
      "outputs": [
        {
          "output_type": "stream",
          "name": "stdout",
          "text": [
            "Mounted at /content/gdrive\n"
          ]
        }
      ]
    },
    {
      "cell_type": "code",
      "source": [
        "!ls /content/gdrive"
      ],
      "metadata": {
        "id": "nxNzNjB5TSe8",
        "colab": {
          "base_uri": "https://localhost:8080/"
        },
        "outputId": "e73a4546-65ac-423d-861f-0b58db90721f"
      },
      "execution_count": 2,
      "outputs": [
        {
          "output_type": "stream",
          "name": "stdout",
          "text": [
            "MyDrive\n"
          ]
        }
      ]
    },
    {
      "cell_type": "code",
      "execution_count": 3,
      "metadata": {
        "id": "H29fOnbuHwao",
        "colab": {
          "base_uri": "https://localhost:8080/"
        },
        "outputId": "7809f8c6-9cd8-4ae6-a4f3-8fc7e798ae6b"
      },
      "outputs": [
        {
          "output_type": "stream",
          "name": "stdout",
          "text": [
            "Collecting git+https://github.com/synergit/adversarial-robustness-toolbox@development_issue_1331\n",
            "  Cloning https://github.com/synergit/adversarial-robustness-toolbox (to revision development_issue_1331) to /tmp/pip-req-build-63nxujk7\n",
            "  Running command git clone -q https://github.com/synergit/adversarial-robustness-toolbox /tmp/pip-req-build-63nxujk7\n",
            "  Running command git checkout -b development_issue_1331 --track origin/development_issue_1331\n",
            "  Switched to a new branch 'development_issue_1331'\n",
            "  Branch 'development_issue_1331' set up to track remote branch 'development_issue_1331' from 'origin'.\n",
            "  Installing build dependencies ... \u001b[?25l\u001b[?25hdone\n",
            "  Getting requirements to build wheel ... \u001b[?25l\u001b[?25hdone\n",
            "    Preparing wheel metadata ... \u001b[?25l\u001b[?25hdone\n",
            "Requirement already satisfied: setuptools in /usr/local/lib/python3.7/dist-packages (from adversarial-robustness-toolbox==1.9.1) (57.4.0)\n",
            "Requirement already satisfied: six in /usr/local/lib/python3.7/dist-packages (from adversarial-robustness-toolbox==1.9.1) (1.15.0)\n",
            "Requirement already satisfied: numpy>=1.18.0 in /usr/local/lib/python3.7/dist-packages (from adversarial-robustness-toolbox==1.9.1) (1.21.5)\n",
            "Requirement already satisfied: tqdm in /usr/local/lib/python3.7/dist-packages (from adversarial-robustness-toolbox==1.9.1) (4.63.0)\n",
            "Requirement already satisfied: scikit-learn<1.1.0,>=0.22.2 in /usr/local/lib/python3.7/dist-packages (from adversarial-robustness-toolbox==1.9.1) (1.0.2)\n",
            "Requirement already satisfied: scipy>=1.4.1 in /usr/local/lib/python3.7/dist-packages (from adversarial-robustness-toolbox==1.9.1) (1.4.1)\n",
            "Collecting numba>=0.53.1\n",
            "  Downloading numba-0.55.1-1-cp37-cp37m-manylinux2014_x86_64.manylinux_2_17_x86_64.whl (3.3 MB)\n",
            "\u001b[K     |████████████████████████████████| 3.3 MB 5.3 MB/s \n",
            "\u001b[?25hCollecting llvmlite<0.39,>=0.38.0rc1\n",
            "  Downloading llvmlite-0.38.0-cp37-cp37m-manylinux_2_17_x86_64.manylinux2014_x86_64.whl (34.5 MB)\n",
            "\u001b[K     |████████████████████████████████| 34.5 MB 12 kB/s \n",
            "\u001b[?25hRequirement already satisfied: threadpoolctl>=2.0.0 in /usr/local/lib/python3.7/dist-packages (from scikit-learn<1.1.0,>=0.22.2->adversarial-robustness-toolbox==1.9.1) (3.1.0)\n",
            "Requirement already satisfied: joblib>=0.11 in /usr/local/lib/python3.7/dist-packages (from scikit-learn<1.1.0,>=0.22.2->adversarial-robustness-toolbox==1.9.1) (1.1.0)\n",
            "Building wheels for collected packages: adversarial-robustness-toolbox\n",
            "  Building wheel for adversarial-robustness-toolbox (PEP 517) ... \u001b[?25l\u001b[?25hdone\n",
            "  Created wheel for adversarial-robustness-toolbox: filename=adversarial_robustness_toolbox-1.9.1-py3-none-any.whl size=1172190 sha256=facc59501e9f5bc107cb1836f8febf7fd7bd51c5557c19b90a7838688298688e\n",
            "  Stored in directory: /tmp/pip-ephem-wheel-cache-6hqjm0en/wheels/19/2f/c6/97df45b9b51050edfc179f2b45b56fe37ba2c3a9dd0497d727\n",
            "Successfully built adversarial-robustness-toolbox\n",
            "Installing collected packages: llvmlite, numba, adversarial-robustness-toolbox\n",
            "  Attempting uninstall: llvmlite\n",
            "    Found existing installation: llvmlite 0.34.0\n",
            "    Uninstalling llvmlite-0.34.0:\n",
            "      Successfully uninstalled llvmlite-0.34.0\n",
            "  Attempting uninstall: numba\n",
            "    Found existing installation: numba 0.51.2\n",
            "    Uninstalling numba-0.51.2:\n",
            "      Successfully uninstalled numba-0.51.2\n",
            "Successfully installed adversarial-robustness-toolbox-1.9.1 llvmlite-0.38.0 numba-0.55.1\n",
            "Requirement already satisfied: adversarial-robustness-toolbox in /usr/local/lib/python3.7/dist-packages (1.9.1)\n",
            "Requirement already satisfied: tqdm in /usr/local/lib/python3.7/dist-packages (from adversarial-robustness-toolbox) (4.63.0)\n",
            "Requirement already satisfied: numpy>=1.18.0 in /usr/local/lib/python3.7/dist-packages (from adversarial-robustness-toolbox) (1.21.5)\n",
            "Requirement already satisfied: scikit-learn<1.1.0,>=0.22.2 in /usr/local/lib/python3.7/dist-packages (from adversarial-robustness-toolbox) (1.0.2)\n",
            "Requirement already satisfied: six in /usr/local/lib/python3.7/dist-packages (from adversarial-robustness-toolbox) (1.15.0)\n",
            "Requirement already satisfied: setuptools in /usr/local/lib/python3.7/dist-packages (from adversarial-robustness-toolbox) (57.4.0)\n",
            "Requirement already satisfied: numba>=0.53.1 in /usr/local/lib/python3.7/dist-packages (from adversarial-robustness-toolbox) (0.55.1)\n",
            "Requirement already satisfied: scipy>=1.4.1 in /usr/local/lib/python3.7/dist-packages (from adversarial-robustness-toolbox) (1.4.1)\n",
            "Requirement already satisfied: llvmlite<0.39,>=0.38.0rc1 in /usr/local/lib/python3.7/dist-packages (from numba>=0.53.1->adversarial-robustness-toolbox) (0.38.0)\n",
            "Requirement already satisfied: threadpoolctl>=2.0.0 in /usr/local/lib/python3.7/dist-packages (from scikit-learn<1.1.0,>=0.22.2->adversarial-robustness-toolbox) (3.1.0)\n",
            "Requirement already satisfied: joblib>=0.11 in /usr/local/lib/python3.7/dist-packages (from scikit-learn<1.1.0,>=0.22.2->adversarial-robustness-toolbox) (1.1.0)\n"
          ]
        }
      ],
      "source": [
        "!pip install git+https://github.com/synergit/adversarial-robustness-toolbox@development_issue_1331\n",
        "!pip install adversarial-robustness-toolbox"
      ]
    },
    {
      "cell_type": "code",
      "execution_count": 4,
      "metadata": {
        "id": "oYZ4HsBFQicq"
      },
      "outputs": [],
      "source": [
        "# art.utils only loads first 5000 training and 500 test data\n",
        "from art.utils import load_cifar10\n",
        "import matplotlib.pyplot as plt\n",
        "\n",
        "def load_data(raw_image, length):\n",
        "  (x_train, y_train), (x_test, y_test), min_, max_ = load_cifar10(raw=raw_image)#load_dataset(str(\"cifar10\"))\n",
        "  # x_train.shape (5000, 32, 32, 3)\n",
        "  # y_train.shape (5000, 10)\n",
        "  x_train, y_train = x_train[:length], y_train[:length]\n",
        "  # x_test.shape (500, 32, 32, 3)\n",
        "  # y_test.shape (500, 10)\n",
        "  x_test, y_test = x_test[:int(length/5)], y_test[:int(length/5)]\n",
        "  print(x_train[0].shape)\n",
        "  \n",
        "  imshow_CIFAR10(raw_image, x_train, y_train, 5)\n",
        "  \n",
        "  return (x_train, y_train), (x_test, y_test), min_, max_\n",
        "\n",
        "\n",
        "def imshow_CIFAR10(raw_image, x_train, y_train, length):\n",
        "  if raw_image:\n",
        "    cifar_classes = ['airplane', 'automobile', 'bird', 'cat', 'deer', 'dog', 'frog', 'horse', 'ship', 'truck']\n",
        "    print('Example training images and their labels: ' + str([x[0] for x in y_train[0:length]])) \n",
        "    print('Corresponding classes for the labels: ' + str([cifar_classes[x[0]] for x in y_train[0:length]]))\n",
        "\n",
        "    f, axarr = plt.subplots(1, length)\n",
        "    f.set_size_inches(16, 6)\n",
        "\n",
        "    for i in range(5):\n",
        "        img = x_train[i]\n",
        "        axarr[i].imshow(img)\n",
        "    plt.show()\n",
        "  else:\n",
        "    print('change `raw_image` to be True for showing images')"
      ]
    },
    {
      "cell_type": "code",
      "execution_count": 5,
      "metadata": {
        "id": "NCiE72pOP12m"
      },
      "outputs": [],
      "source": [
        "import torch\n",
        "import torch.nn as nn\n",
        "import torch.nn.functional as F\n",
        "import torch.optim as optim\n",
        "from torchsummary import summary\n",
        "\n",
        "# Define the neural network model, return logits instead of activation in forward method\n",
        "###\n",
        "# define the network as https://arxiv.org/pdf/1608.04644.pdf, table 1\n",
        "###\n",
        "class Net_table1_CIFAR10(nn.Module):\n",
        "    def __init__(self):\n",
        "        super(Net_table1_CIFAR10, self).__init__()\n",
        "        self.conv_1 = nn.Conv2d(in_channels=3, out_channels=64, kernel_size=3, stride=1)\n",
        "        self.conv_2 = nn.Conv2d(in_channels=64, out_channels=64, kernel_size=3, stride=1)\n",
        "        self.conv_3 = nn.Conv2d(in_channels=64, out_channels=128, kernel_size=3, stride=1)\n",
        "        self.conv_4 = nn.Conv2d(in_channels=128, out_channels=128, kernel_size=3, stride=1)\n",
        "        # https://discuss.pytorch.org/t/calculation-for-the-input-to-the-fully-connected-layer/82774/11\n",
        "        # x.shape: torch.Size([2, 128, 5, 5]) so, 128*5*5\n",
        "        self.fc_1 = nn.Linear(in_features= 3200, out_features=256) \n",
        "        self.fc_2 = nn.Linear(in_features=256, out_features=10)\n",
        "        \n",
        "    # https://github.com/Carco-git/CW_Attack_on_MNIST/blob/master/MNIST_Model.py\n",
        "    def forward(self, x):\n",
        "        x = F.relu(self.conv_1(x))\n",
        "        x = F.relu(self.conv_2(x))\n",
        "        x = F.max_pool2d(x, 2, 2)\n",
        "        x = F.relu(self.conv_3(x))\n",
        "        x = F.relu(self.conv_4(x))\n",
        "        x = F.max_pool2d(x, 2, 2)\n",
        "        # print(x.shape) # torch.Size([2, 128, 5, 5])\n",
        "        x = x.view(-1, 3200)\n",
        "        \n",
        "        x = F.relu(self.fc_1(x))\n",
        "        x = F.dropout(x, p=0.5)\n",
        "        x = self.fc_2(x)\n",
        "        return x\n",
        "\n"
      ]
    },
    {
      "cell_type": "code",
      "source": [
        "# load the data\n",
        "\n",
        "raw_image = False\n",
        "# intentional use all training and testing data\n",
        "(x_train, y_train), (x_test, y_test), min_, max_ = load_data(raw_image, 50000)\n",
        "# Create the model\n",
        "\n",
        "model_table1 = Net_table1_CIFAR10()\n",
        "\n",
        "# model_scratch = Net_table1_CIFAR10()\n",
        "# print(summary(model_scratch,(3, 32, 32)))\n"
      ],
      "metadata": {
        "id": "5DkYgW8c-lD0",
        "colab": {
          "base_uri": "https://localhost:8080/"
        },
        "outputId": "7bb81040-e0bc-43bf-98a9-d2006629e41e"
      },
      "execution_count": 6,
      "outputs": [
        {
          "output_type": "stream",
          "name": "stdout",
          "text": [
            "(32, 32, 3)\n",
            "change `raw_image` to be True for showing images\n"
          ]
        }
      ]
    },
    {
      "cell_type": "code",
      "source": [
        "import tensorflow as tf\n",
        "tf.test.gpu_device_name()"
      ],
      "metadata": {
        "id": "Ci0O2Tb8LUEE",
        "colab": {
          "base_uri": "https://localhost:8080/",
          "height": 35
        },
        "outputId": "0add9a4f-caa4-4af2-89ca-19582718c86d"
      },
      "execution_count": 7,
      "outputs": [
        {
          "output_type": "execute_result",
          "data": {
            "text/plain": [
              "'/device:GPU:0'"
            ],
            "application/vnd.google.colaboratory.intrinsic+json": {
              "type": "string"
            }
          },
          "metadata": {},
          "execution_count": 7
        }
      ]
    },
    {
      "cell_type": "code",
      "execution_count": 8,
      "metadata": {
        "id": "uKm-VeuuQO4l",
        "colab": {
          "base_uri": "https://localhost:8080/"
        },
        "outputId": "dd7102ad-90a9-42cd-8438-b7f2cb64b381"
      },
      "outputs": [
        {
          "output_type": "stream",
          "name": "stdout",
          "text": [
            "Found existing model, loading the model\n",
            "No existing model, training the model instead\n",
            "Accuracy on benign test examples: 73.76%\n"
          ]
        }
      ],
      "source": [
        "import numpy as np\n",
        "from art.estimators.classification import PyTorchClassifier\n",
        "criterion = nn.CrossEntropyLoss()\n",
        "optimizer_table1 = optim.SGD(model_table1.parameters(), lr=0.01, momentum=0.9)\n",
        "\n",
        "# Create the ART classifier\n",
        "# add pixel*0.5/0.5 to make value in range of [-1, 1]\n",
        "#  preprocessing = \"PREPROCESSING_TYPE\" = (0.5, 0.5),\n",
        "#  preprocessing = \"PREPROCESSING_TYPE\" = (127.5, 127.5),\n",
        "classifier_table1 = PyTorchClassifier(\n",
        "    model=model_table1,\n",
        "    clip_values=(min_, max_),\n",
        "    loss=criterion,\n",
        "    optimizer=optimizer_table1,\n",
        "    input_shape=(3, 32, 32),\n",
        "    nb_classes=10,\n",
        "    device_type = \"gpu\",\n",
        ")\n",
        "\n",
        "# Swap axes to PyTorch's NCHW format\n",
        "x_train = np.transpose(x_train, (0, 3, 2, 1)).astype(np.float32)\n",
        "x_test = np.transpose(x_test, (0, 3, 2, 1)).astype(np.float32)\n",
        "\n",
        "ML_model_Filename = \"Pytorch_Model_CIFAR10_table1-0-1.pth\"\n",
        "path = F\"/content/gdrive/MyDrive/{ML_model_Filename}\"\n",
        "\n",
        "try:\n",
        "    with open(path, 'rb') as file:  \n",
        "        print('Found existing model, loading the model')\n",
        "        classifier_table1 = torch.load(file)\n",
        "except FileNotFoundError:\n",
        "    print('No existing model, training the model instead')\n",
        "    classifier_table1.fit(x_train, y_train, batch_size=128, nb_epochs=50)\n",
        "    # Save the model\n",
        "    with open(path, 'wb'):  \n",
        "        # pickle.dump(classifier_table1, file)\n",
        "        torch.save(classifier_table1, path)\n",
        "\n",
        "# print(classifier_table1) \n",
        "\n",
        "# Step 5: Evaluate the ART classifier on benign test examples\n",
        "predictions = classifier_table1.predict(x_test)\n",
        "accuracy = np.sum(np.argmax(predictions, axis=1) == np.argmax(y_test, axis=1)) / len(y_test)\n",
        "print(\"Accuracy on benign test examples: {}%\".format(accuracy * 100))"
      ]
    },
    {
      "cell_type": "code",
      "source": [
        "from art.attacks.evasion.sign_opt import SignOPTAttack\n",
        "\n",
        "q = 14000\n",
        "e = 0.5\n",
        "clipping = False\n",
        "l = 100\n",
        "attack = SignOPTAttack(estimator=classifier_table1, \n",
        "                           targeted=False, \n",
        "                           query_limit=q, \n",
        "                           eval_perform=True, verbose=False, \n",
        "                           clipped=clipping)\n",
        "\n",
        "x_test_adv = attack.generate(x=x_test[:l], y=np.zeros(y_test.shape), x_train=x_train)\n",
        "\n",
        "\n",
        "L2 = attack.logs.sum()/l\n",
        "count = 0\n",
        "for l2 in attack.logs:\n",
        "    if l2 <=e and l2 != 0.0:\n",
        "        count += 1\n",
        "SR = ((count)/l)*100\n",
        "\n",
        "print(attack.logs)\n",
        "print(f'L2={L2}, SR={SR}')\n",
        "\n",
        "predictions = classifier_table1.predict(x_test_adv)\n",
        "accuracy = np.sum(np.argmax(predictions, axis=1) == np.argmax(y_test[:l], axis=1)) / len(y_test[:l])\n",
        "# print(\"Accuracy on adversarial test examples: {}%\".format(accuracy * 100))\n",
        "print(f'{q}, {e}, {round(L2,2)}, {SR}%, {clipping}, {accuracy*100}%')"
      ],
      "metadata": {
        "id": "4ez8dja57FnR",
        "colab": {
          "base_uri": "https://localhost:8080/",
          "height": 1000,
          "referenced_widgets": [
            "4202a54ac5004abb86845ceb3d005581",
            "66327c9befb241ebaf5f5d516446bf7e",
            "279118afc5ab4fe28bd4e997c047fa57",
            "ad343b7cb3f44adb8097cdacb6077495",
            "ad08adbc152e4596a5afc0f1abab47d6",
            "7f08d7c54dd641c093137639b8a422e8",
            "e4a7183316f9460d8436305b65322b8f",
            "3177492b80104605b9e84376b94cb171",
            "2a5abd44f7344db994ca5a207b16c4e8",
            "e7114aa85c2a4d08a2090d35c2598833",
            "e5150552a08e48ec97a9b90d85eda7e2"
          ]
        },
        "outputId": "9c4908b4-c74b-4722-f0c9-9f0964cf010f"
      },
      "execution_count": 9,
      "outputs": [
        {
          "output_type": "display_data",
          "data": {
            "text/plain": [
              "Sign_OPT attack:   0%|          | 0/100 [00:00<?, ?it/s]"
            ],
            "application/vnd.jupyter.widget-view+json": {
              "version_major": 2,
              "version_minor": 0,
              "model_id": "4202a54ac5004abb86845ceb3d005581"
            }
          },
          "metadata": {}
        },
        {
          "output_type": "stream",
          "name": "stdout",
          "text": [
            "WARNING: prediction on adv 3 == org label 3\n",
            "WARNING: prediction on adv 8 == org label 8\n",
            "WARNING: prediction on adv 8 == org label 8\n",
            "WARNING: prediction on adv 0 == org label 0\n",
            "WARNING: prediction on adv 6 == org label 6\n",
            "WARNING: prediction on adv 6 == org label 6\n",
            "WARNING: prediction on adv 1 == org label 1\n",
            "WARNING: prediction on adv 6 == org label 6\n",
            "WARNING: prediction on adv 3 == org label 3\n",
            "WARNING: prediction on adv 1 == org label 1\n",
            "WARNING: prediction on adv 4 == org label 4\n",
            "WARNING: prediction on adv 5 == org label 5\n",
            "WARNING: prediction on adv 7 == org label 7\n",
            "WARNING: prediction on adv 9 == org label 9\n",
            "WARNING: prediction on adv 8 == org label 8\n",
            "WARNING: prediction on adv 5 == org label 5\n",
            "WARNING: prediction on adv 8 == org label 8\n",
            "WARNING: prediction on adv 6 == org label 6\n",
            "WARNING: prediction on adv 7 == org label 7\n",
            "WARNING: prediction on adv 0 == org label 0\n",
            "WARNING: prediction on adv 4 == org label 4\n",
            "WARNING: prediction on adv 9 == org label 9\n",
            "WARNING: prediction on adv 4 == org label 4\n",
            "WARNING: prediction on adv 4 == org label 4\n",
            "WARNING: prediction on adv 0 == org label 0\n",
            "WARNING: prediction on adv 6 == org label 6\n",
            "WARNING: prediction on adv 6 == org label 6\n",
            "WARNING: prediction on adv 4 == org label 4\n",
            "WARNING: prediction on adv 9 == org label 9\n",
            "WARNING: prediction on adv 4 == org label 4\n",
            "WARNING: prediction on adv 9 == org label 9\n",
            "WARNING: prediction on adv 9 == org label 9\n",
            "WARNING: prediction on adv 4 == org label 4\n",
            "WARNING: prediction on adv 6 == org label 6\n",
            "WARNING: prediction on adv 5 == org label 5\n",
            "WARNING: prediction on adv 0 == org label 0\n",
            "WARNING: prediction on adv 9 == org label 9\n",
            "WARNING: prediction on adv 3 == org label 3\n",
            "WARNING: prediction on adv 3 == org label 3\n",
            "WARNING: prediction on adv 7 == org label 7\n",
            "WARNING: prediction on adv 2 == org label 2\n",
            "WARNING: prediction on adv 9 == org label 9\n",
            "WARNING: prediction on adv 3 == org label 3\n",
            "WARNING: prediction on adv 8 == org label 8\n",
            "WARNING: prediction on adv 8 == org label 8\n",
            "WARNING: prediction on adv 7 == org label 7\n",
            "WARNING: prediction on adv 5 == org label 5\n",
            "WARNING: prediction on adv 7 == org label 7\n",
            "WARNING: prediction on adv 5 == org label 5\n",
            "WARNING: prediction on adv 3 == org label 3\n",
            "WARNING: prediction on adv 6 == org label 6\n",
            "WARNING: prediction on adv 2 == org label 2\n",
            "WARNING: prediction on adv 1 == org label 1\n",
            "WARNING: prediction on adv 3 == org label 3\n",
            "WARNING: prediction on adv 9 == org label 9\n",
            "WARNING: prediction on adv 3 == org label 3\n",
            "WARNING: prediction on adv 8 == org label 8\n",
            "WARNING: prediction on adv 8 == org label 8\n",
            "WARNING: prediction on adv 0 == org label 0\n",
            "WARNING: prediction on adv 3 == org label 3\n",
            "WARNING: prediction on adv 8 == org label 8\n",
            "WARNING: prediction on adv 8 == org label 8\n",
            "WARNING: prediction on adv 1 == org label 1\n",
            "WARNING: prediction on adv 1 == org label 1\n",
            "WARNING: prediction on adv 2 == org label 2\n",
            "WARNING: prediction on adv 7 == org label 7\n",
            "WARNING: prediction on adv 2 == org label 2\n",
            "WARNING: prediction on adv 9 == org label 9\n",
            "WARNING: prediction on adv 0 == org label 0\n",
            "WARNING: prediction on adv 3 == org label 3\n",
            "WARNING: prediction on adv 8 == org label 8\n",
            "WARNING: prediction on adv 6 == org label 6\n",
            "WARNING: prediction on adv 4 == org label 4\n",
            "WARNING: prediction on adv 6 == org label 6\n",
            "WARNING: prediction on adv 6 == org label 6\n",
            "WARNING: prediction on adv 0 == org label 0\n",
            "WARNING: prediction on adv 0 == org label 0\n",
            "[3.11201262e+00 2.45405173e+00 1.03643527e-02 1.87947914e-01\n",
            " 5.37280130e+00 5.98398018e+00 2.67329645e+00 1.13404179e+01\n",
            " 2.76727200e+00 1.08202147e+00 5.10790968e+00 1.08930607e+01\n",
            " 4.46784049e-02 8.17353153e+00 5.98768139e+00 2.97571754e+00\n",
            " 3.94461703e+00 7.30893305e-07 2.91039228e+00 1.53233719e+01\n",
            " 5.72660303e+00 1.12613916e+00 4.86816549e+00 2.38507004e+01\n",
            " 5.43847084e+00 9.69627145e-05 3.58683020e-02 7.17197537e-01\n",
            " 5.09976339e+00 1.02726803e+01 8.75113201e+00 2.24985863e-11\n",
            " 1.34175265e+00 3.40676597e-05 1.12858400e+01 3.69706861e-04\n",
            " 5.80539810e-04 6.39004946e+00 4.09743004e+01 4.75475693e+00\n",
            " 1.40745449e+00 1.19805536e+01 2.19610667e+00 1.22855310e+01\n",
            " 3.03810263e+00 1.42056408e+01 2.34112668e+00 2.25293403e-03\n",
            " 2.58881497e+00 6.83976046e-04 9.99536514e+00 2.49595976e+00\n",
            " 7.37621908e-11 2.86647129e+00 5.71491337e+00 4.92929578e-01\n",
            " 7.28251296e-04 8.45244497e-09 4.92409524e-03 1.71320629e-08\n",
            " 2.52535605e+00 4.12319526e-02 1.83562436e-11 1.62025017e-03\n",
            " 6.93241835e+00 1.28188565e-01 3.94008231e+00 1.85684039e-05\n",
            " 8.44822614e-04 4.23152953e-01 8.19294306e-04 9.22076683e-03\n",
            " 1.44527507e+00 3.19493484e+00 1.51472501e-04 3.74790859e+00\n",
            " 1.04177603e-03 3.35343432e+00 1.67595424e-10 3.12938786e+00\n",
            " 8.41904163e-01 3.22971821e+00 6.82547569e+00 2.65153337e+00\n",
            " 3.29813910e+00 2.66177154e+00 5.44079870e-04 8.57514522e-08\n",
            " 2.81408376e-07 2.22428894e+01 1.68227780e+00 8.49269214e-04\n",
            " 4.48156404e+00 8.90105629e+00 5.39290190e+00 7.92834663e+00\n",
            " 1.95462024e+00 1.34570229e+00 2.84981608e+00 4.12796981e-05]\n",
            "L2=3.977614271147349, SR=35.0\n",
            "14000, 0.5, 3.98, 35.0%, False, 68.0%\n"
          ]
        }
      ]
    }
  ],
  "metadata": {
    "colab": {
      "collapsed_sections": [],
      "name": "sign_opt_CIFAR10_test",
      "provenance": [],
      "mount_file_id": "1Jz4T5FcsHUEBWRklXikk4B6CrpXqVBT8",
      "authorship_tag": "ABX9TyMaCQsduFhdMMAfCycETtSR",
      "include_colab_link": true
    },
    "kernelspec": {
      "display_name": "Python 3",
      "name": "python3"
    },
    "language_info": {
      "name": "python"
    },
    "accelerator": "GPU",
    "widgets": {
      "application/vnd.jupyter.widget-state+json": {
        "4202a54ac5004abb86845ceb3d005581": {
          "model_module": "@jupyter-widgets/controls",
          "model_name": "HBoxModel",
          "model_module_version": "1.5.0",
          "state": {
            "_dom_classes": [],
            "_model_module": "@jupyter-widgets/controls",
            "_model_module_version": "1.5.0",
            "_model_name": "HBoxModel",
            "_view_count": null,
            "_view_module": "@jupyter-widgets/controls",
            "_view_module_version": "1.5.0",
            "_view_name": "HBoxView",
            "box_style": "",
            "children": [
              "IPY_MODEL_66327c9befb241ebaf5f5d516446bf7e",
              "IPY_MODEL_279118afc5ab4fe28bd4e997c047fa57",
              "IPY_MODEL_ad343b7cb3f44adb8097cdacb6077495"
            ],
            "layout": "IPY_MODEL_ad08adbc152e4596a5afc0f1abab47d6"
          }
        },
        "66327c9befb241ebaf5f5d516446bf7e": {
          "model_module": "@jupyter-widgets/controls",
          "model_name": "HTMLModel",
          "model_module_version": "1.5.0",
          "state": {
            "_dom_classes": [],
            "_model_module": "@jupyter-widgets/controls",
            "_model_module_version": "1.5.0",
            "_model_name": "HTMLModel",
            "_view_count": null,
            "_view_module": "@jupyter-widgets/controls",
            "_view_module_version": "1.5.0",
            "_view_name": "HTMLView",
            "description": "",
            "description_tooltip": null,
            "layout": "IPY_MODEL_7f08d7c54dd641c093137639b8a422e8",
            "placeholder": "​",
            "style": "IPY_MODEL_e4a7183316f9460d8436305b65322b8f",
            "value": "Sign_OPT attack: 100%"
          }
        },
        "279118afc5ab4fe28bd4e997c047fa57": {
          "model_module": "@jupyter-widgets/controls",
          "model_name": "FloatProgressModel",
          "model_module_version": "1.5.0",
          "state": {
            "_dom_classes": [],
            "_model_module": "@jupyter-widgets/controls",
            "_model_module_version": "1.5.0",
            "_model_name": "FloatProgressModel",
            "_view_count": null,
            "_view_module": "@jupyter-widgets/controls",
            "_view_module_version": "1.5.0",
            "_view_name": "ProgressView",
            "bar_style": "success",
            "description": "",
            "description_tooltip": null,
            "layout": "IPY_MODEL_3177492b80104605b9e84376b94cb171",
            "max": 100,
            "min": 0,
            "orientation": "horizontal",
            "style": "IPY_MODEL_2a5abd44f7344db994ca5a207b16c4e8",
            "value": 100
          }
        },
        "ad343b7cb3f44adb8097cdacb6077495": {
          "model_module": "@jupyter-widgets/controls",
          "model_name": "HTMLModel",
          "model_module_version": "1.5.0",
          "state": {
            "_dom_classes": [],
            "_model_module": "@jupyter-widgets/controls",
            "_model_module_version": "1.5.0",
            "_model_name": "HTMLModel",
            "_view_count": null,
            "_view_module": "@jupyter-widgets/controls",
            "_view_module_version": "1.5.0",
            "_view_name": "HTMLView",
            "description": "",
            "description_tooltip": null,
            "layout": "IPY_MODEL_e7114aa85c2a4d08a2090d35c2598833",
            "placeholder": "​",
            "style": "IPY_MODEL_e5150552a08e48ec97a9b90d85eda7e2",
            "value": " 100/100 [27:14&lt;00:00, 17.18s/it]"
          }
        },
        "ad08adbc152e4596a5afc0f1abab47d6": {
          "model_module": "@jupyter-widgets/base",
          "model_name": "LayoutModel",
          "model_module_version": "1.2.0",
          "state": {
            "_model_module": "@jupyter-widgets/base",
            "_model_module_version": "1.2.0",
            "_model_name": "LayoutModel",
            "_view_count": null,
            "_view_module": "@jupyter-widgets/base",
            "_view_module_version": "1.2.0",
            "_view_name": "LayoutView",
            "align_content": null,
            "align_items": null,
            "align_self": null,
            "border": null,
            "bottom": null,
            "display": null,
            "flex": null,
            "flex_flow": null,
            "grid_area": null,
            "grid_auto_columns": null,
            "grid_auto_flow": null,
            "grid_auto_rows": null,
            "grid_column": null,
            "grid_gap": null,
            "grid_row": null,
            "grid_template_areas": null,
            "grid_template_columns": null,
            "grid_template_rows": null,
            "height": null,
            "justify_content": null,
            "justify_items": null,
            "left": null,
            "margin": null,
            "max_height": null,
            "max_width": null,
            "min_height": null,
            "min_width": null,
            "object_fit": null,
            "object_position": null,
            "order": null,
            "overflow": null,
            "overflow_x": null,
            "overflow_y": null,
            "padding": null,
            "right": null,
            "top": null,
            "visibility": null,
            "width": null
          }
        },
        "7f08d7c54dd641c093137639b8a422e8": {
          "model_module": "@jupyter-widgets/base",
          "model_name": "LayoutModel",
          "model_module_version": "1.2.0",
          "state": {
            "_model_module": "@jupyter-widgets/base",
            "_model_module_version": "1.2.0",
            "_model_name": "LayoutModel",
            "_view_count": null,
            "_view_module": "@jupyter-widgets/base",
            "_view_module_version": "1.2.0",
            "_view_name": "LayoutView",
            "align_content": null,
            "align_items": null,
            "align_self": null,
            "border": null,
            "bottom": null,
            "display": null,
            "flex": null,
            "flex_flow": null,
            "grid_area": null,
            "grid_auto_columns": null,
            "grid_auto_flow": null,
            "grid_auto_rows": null,
            "grid_column": null,
            "grid_gap": null,
            "grid_row": null,
            "grid_template_areas": null,
            "grid_template_columns": null,
            "grid_template_rows": null,
            "height": null,
            "justify_content": null,
            "justify_items": null,
            "left": null,
            "margin": null,
            "max_height": null,
            "max_width": null,
            "min_height": null,
            "min_width": null,
            "object_fit": null,
            "object_position": null,
            "order": null,
            "overflow": null,
            "overflow_x": null,
            "overflow_y": null,
            "padding": null,
            "right": null,
            "top": null,
            "visibility": null,
            "width": null
          }
        },
        "e4a7183316f9460d8436305b65322b8f": {
          "model_module": "@jupyter-widgets/controls",
          "model_name": "DescriptionStyleModel",
          "model_module_version": "1.5.0",
          "state": {
            "_model_module": "@jupyter-widgets/controls",
            "_model_module_version": "1.5.0",
            "_model_name": "DescriptionStyleModel",
            "_view_count": null,
            "_view_module": "@jupyter-widgets/base",
            "_view_module_version": "1.2.0",
            "_view_name": "StyleView",
            "description_width": ""
          }
        },
        "3177492b80104605b9e84376b94cb171": {
          "model_module": "@jupyter-widgets/base",
          "model_name": "LayoutModel",
          "model_module_version": "1.2.0",
          "state": {
            "_model_module": "@jupyter-widgets/base",
            "_model_module_version": "1.2.0",
            "_model_name": "LayoutModel",
            "_view_count": null,
            "_view_module": "@jupyter-widgets/base",
            "_view_module_version": "1.2.0",
            "_view_name": "LayoutView",
            "align_content": null,
            "align_items": null,
            "align_self": null,
            "border": null,
            "bottom": null,
            "display": null,
            "flex": null,
            "flex_flow": null,
            "grid_area": null,
            "grid_auto_columns": null,
            "grid_auto_flow": null,
            "grid_auto_rows": null,
            "grid_column": null,
            "grid_gap": null,
            "grid_row": null,
            "grid_template_areas": null,
            "grid_template_columns": null,
            "grid_template_rows": null,
            "height": null,
            "justify_content": null,
            "justify_items": null,
            "left": null,
            "margin": null,
            "max_height": null,
            "max_width": null,
            "min_height": null,
            "min_width": null,
            "object_fit": null,
            "object_position": null,
            "order": null,
            "overflow": null,
            "overflow_x": null,
            "overflow_y": null,
            "padding": null,
            "right": null,
            "top": null,
            "visibility": null,
            "width": null
          }
        },
        "2a5abd44f7344db994ca5a207b16c4e8": {
          "model_module": "@jupyter-widgets/controls",
          "model_name": "ProgressStyleModel",
          "model_module_version": "1.5.0",
          "state": {
            "_model_module": "@jupyter-widgets/controls",
            "_model_module_version": "1.5.0",
            "_model_name": "ProgressStyleModel",
            "_view_count": null,
            "_view_module": "@jupyter-widgets/base",
            "_view_module_version": "1.2.0",
            "_view_name": "StyleView",
            "bar_color": null,
            "description_width": ""
          }
        },
        "e7114aa85c2a4d08a2090d35c2598833": {
          "model_module": "@jupyter-widgets/base",
          "model_name": "LayoutModel",
          "model_module_version": "1.2.0",
          "state": {
            "_model_module": "@jupyter-widgets/base",
            "_model_module_version": "1.2.0",
            "_model_name": "LayoutModel",
            "_view_count": null,
            "_view_module": "@jupyter-widgets/base",
            "_view_module_version": "1.2.0",
            "_view_name": "LayoutView",
            "align_content": null,
            "align_items": null,
            "align_self": null,
            "border": null,
            "bottom": null,
            "display": null,
            "flex": null,
            "flex_flow": null,
            "grid_area": null,
            "grid_auto_columns": null,
            "grid_auto_flow": null,
            "grid_auto_rows": null,
            "grid_column": null,
            "grid_gap": null,
            "grid_row": null,
            "grid_template_areas": null,
            "grid_template_columns": null,
            "grid_template_rows": null,
            "height": null,
            "justify_content": null,
            "justify_items": null,
            "left": null,
            "margin": null,
            "max_height": null,
            "max_width": null,
            "min_height": null,
            "min_width": null,
            "object_fit": null,
            "object_position": null,
            "order": null,
            "overflow": null,
            "overflow_x": null,
            "overflow_y": null,
            "padding": null,
            "right": null,
            "top": null,
            "visibility": null,
            "width": null
          }
        },
        "e5150552a08e48ec97a9b90d85eda7e2": {
          "model_module": "@jupyter-widgets/controls",
          "model_name": "DescriptionStyleModel",
          "model_module_version": "1.5.0",
          "state": {
            "_model_module": "@jupyter-widgets/controls",
            "_model_module_version": "1.5.0",
            "_model_name": "DescriptionStyleModel",
            "_view_count": null,
            "_view_module": "@jupyter-widgets/base",
            "_view_module_version": "1.2.0",
            "_view_name": "StyleView",
            "description_width": ""
          }
        }
      }
    }
  },
  "nbformat": 4,
  "nbformat_minor": 0
}